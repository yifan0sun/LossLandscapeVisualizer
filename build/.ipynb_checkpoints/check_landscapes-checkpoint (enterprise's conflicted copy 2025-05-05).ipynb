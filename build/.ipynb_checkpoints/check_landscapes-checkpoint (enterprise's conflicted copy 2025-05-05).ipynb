{
 "cells": [
  {
   "cell_type": "code",
   "execution_count": 1,
   "id": "7e33a9cb-a74b-4260-be5f-64abd9b2d781",
   "metadata": {},
   "outputs": [],
   "source": [
    "import numpy as np\n",
    "import multiprocessing as mp\n",
    "from itertools import product\n",
    "\n",
    "\n",
    "from visualize_landscape import *\n",
    "import os\n",
    "\n"
   ]
  },
  {
   "cell_type": "code",
   "execution_count": 6,
   "id": "daba1293-3d34-4fa5-b0ee-7f40ec966e22",
   "metadata": {
    "scrolled": true,
    "tags": []
   },
   "outputs": [
    {
     "name": "stdout",
     "output_type": "stream",
     "text": [
      "low grid size  ../backend/landscapes/mlp_25_25_25_25/two_blobs_separate/train/range0.1/ep530\n"
     ]
    }
   ],
   "source": [
    "\n",
    "    \n",
    "\n",
    "num_epochs = 1001\n",
    "datasets = [\"two_blobs_separate\", \"two_blobs_overlap\", \"half_moons\", \"spirals\", \"four_corners\"]\n",
    "gridsize = 10\n",
    "\n",
    "\n",
    "\n",
    "for width in [5,10,25,50,100]:\n",
    "    for depth in [1,2,4,8,16]:\n",
    "        can_copy = True\n",
    "                \n",
    "        for dataset in datasets:\n",
    "            for ab_range in [0.1, .2,.5, 1,2,5 ,10]:\n",
    "\n",
    "                for epoch in range(0,num_epochs,10):\n",
    "                    arch = [width for i in range(depth)]\n",
    "\n",
    "\n",
    "                    CACHE_ROOT = \"../backend/landscapes\"\n",
    "\n",
    "                    train_str = 'train' \n",
    "                    cache_dir = os.path.join(CACHE_ROOT, arch_to_name(arch), dataset, train_str, f\"range{ab_range}\",  f\"ep{epoch}\")\n",
    "                    cache_xy_dir = os.path.join(CACHE_ROOT, arch_to_name(arch))\n",
    "\n",
    "                    loss_file = os.path.join(cache_dir, \"loss.npy\")\n",
    "                    a_file = os.path.join(cache_dir, \"a_vals.npy\")\n",
    "                    b_file = os.path.join(cache_dir, \"b_vals.npy\")\n",
    "\n",
    "                    if os.path.exists(loss_file) and os.path.exists(a_file) and os.path.exists(b_file):\n",
    "\n",
    "                        a = np.load(a_file)\n",
    "                        b = np.load(b_file)\n",
    "                        losses = np.load(loss_file)\n",
    "                        \n",
    "                        if losses.shape[0] != gridsize:\n",
    "                            if epoch > 0: print(f\"low grid size  {cache_dir}\")\n",
    "                            can_copy = False\n",
    "                            break\n",
    "                    else: \n",
    "                        print(f\"missing  {cache_dir}\")\n",
    "                        can_copy = False\n",
    "                        break \n",
    "                if not can_copy: break\n",
    "            if not can_copy: break\n",
    "        if can_copy:\n",
    "            print(width,depth)\n",
    "\n",
    "            \n",
    "            \n",
    "   \n"
   ]
  },
  {
   "cell_type": "code",
   "execution_count": 4,
   "id": "bc48a875-b718-4efc-b569-3106d0493347",
   "metadata": {},
   "outputs": [
    {
     "name": "stdout",
     "output_type": "stream",
     "text": [
      "5 1\n",
      "5 2\n",
      "5 4\n",
      "5 8\n",
      "5 16\n",
      "10 1\n",
      "10 2\n",
      "10 4\n",
      "10 8\n",
      "10 16\n",
      "25 1\n",
      "25 2\n",
      "25 4\n"
     ]
    }
   ],
   "source": [
    "\n",
    "    \n",
    "\n",
    "num_epochs = 1001\n",
    "datasets = [\"two_blobs_separate\", \"two_blobs_overlap\", \"half_moons\", \"spirals\", \"four_corners\"]\n",
    "gridsize = 100\n",
    "\n",
    "\n",
    "CACHE_ROOT = \"../backend/landscapes\"\n",
    "MODELS_DIR = \"../backend/models\"\n",
    "\n",
    "train_str = 'train'  \n",
    " \n",
    "\n",
    "for width in [5,10,25,50,100]:\n",
    "    for depth in [1,2,4,8,16]:\n",
    "        can_copy = True\n",
    "                \n",
    "        for dataset in datasets:\n",
    "            for ab_range in [0.1, .2,.5, 1,2,5 ,10]:\n",
    " \n",
    "                arch = [width for i in range(depth)]\n",
    "\n",
    "\n",
    "                cache_base_dir = os.path.join(CACHE_ROOT, arch_to_name(arch), dataset, train_str, f\"range{ab_range}\")\n",
    "                zrange_file = os.path.join(cache_base_dir, f\"zrange.npy\")\n",
    "\n",
    "\n",
    "                # --- If zrange already exists, skip ---\n",
    "                if not os.path.exists(zrange_file) :\n",
    "\n",
    "                    can_copy = False\n",
    "                    break \n",
    "            if not can_copy: break\n",
    "        if can_copy:\n",
    "            print(width,depth)\n",
    "\n",
    "            \n",
    "            \n",
    "   \n",
    "\n",
    "\n",
    "\n",
    "\n"
   ]
  },
  {
   "cell_type": "code",
   "execution_count": null,
   "id": "8ff7ceea-7d3d-4751-8ad0-007d01d28389",
   "metadata": {},
   "outputs": [],
   "source": []
  }
 ],
 "metadata": {
  "kernelspec": {
   "display_name": "Python 3 (ipykernel)",
   "language": "python",
   "name": "python3"
  },
  "language_info": {
   "codemirror_mode": {
    "name": "ipython",
    "version": 3
   },
   "file_extension": ".py",
   "mimetype": "text/x-python",
   "name": "python",
   "nbconvert_exporter": "python",
   "pygments_lexer": "ipython3",
   "version": "3.9.13"
  }
 },
 "nbformat": 4,
 "nbformat_minor": 5
}
