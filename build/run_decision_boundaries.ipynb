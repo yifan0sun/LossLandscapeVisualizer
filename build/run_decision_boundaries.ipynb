{
 "cells": [
  {
   "cell_type": "code",
   "execution_count": 1,
   "id": "7e33a9cb-a74b-4260-be5f-64abd9b2d781",
   "metadata": {},
   "outputs": [],
   "source": [
    "import numpy as np\n",
    "import multiprocessing as mp\n",
    "from itertools import product\n",
    "\n",
    "\n",
    "from visualize_decision import *\n",
    "from visualize_landscape import *\n",
    "\n",
    "\n",
    "torch.set_num_threads(5)"
   ]
  },
  {
   "cell_type": "code",
   "execution_count": 9,
   "id": "d5928bb0-ae40-4577-95dd-09303a20f18c",
   "metadata": {
    "scrolled": true,
    "tags": []
   },
   "outputs": [],
   "source": [
    "num_epochs = 1001\n",
    "datasets = [\"two_blobs_separate\", \"two_blobs_overlap\",    \"half_moons\", \"spirals\", \"four_corners\"]\n",
    "\n",
    "\n",
    "for width in [5,10,25,50,100]:\n",
    "    for depth in [1,2,4,8,16]:\n",
    "        for dataset in datasets:\n",
    "\n",
    "            for epoch in range(0,num_epochs,10):\n",
    "                arch = [width for i in range(depth)]\n",
    "\n",
    "                \n",
    "                try:\n",
    "                    decision_outputs = compute_decision( arch,  dataset, train=True, epoch=epoch)\n",
    "                except:\n",
    "                    print(epoch,  width,depth,dataset, \"model file not availble yet\")\n",
    "                    \n",
    "                        \n"
   ]
  },
  {
   "cell_type": "code",
   "execution_count": null,
   "id": "bc48a875-b718-4efc-b569-3106d0493347",
   "metadata": {},
   "outputs": [],
   "source": []
  }
 ],
 "metadata": {
  "kernelspec": {
   "display_name": "Python 3 (ipykernel)",
   "language": "python",
   "name": "python3"
  },
  "language_info": {
   "codemirror_mode": {
    "name": "ipython",
    "version": 3
   },
   "file_extension": ".py",
   "mimetype": "text/x-python",
   "name": "python",
   "nbconvert_exporter": "python",
   "pygments_lexer": "ipython3",
   "version": "3.9.13"
  }
 },
 "nbformat": 4,
 "nbformat_minor": 5
}
