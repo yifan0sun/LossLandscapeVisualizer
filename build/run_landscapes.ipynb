{
 "cells": [
  {
   "cell_type": "code",
   "execution_count": 1,
   "id": "7e33a9cb-a74b-4260-be5f-64abd9b2d781",
   "metadata": {},
   "outputs": [],
   "source": [
    "import numpy as np\n",
    "import multiprocessing as mp\n",
    "from itertools import product\n",
    "import random\n",
    "from visualize_landscape import *\n",
    "\n",
    "torch.set_num_threads(1)"
   ]
  },
  {
   "cell_type": "code",
   "execution_count": null,
   "id": "daba1293-3d34-4fa5-b0ee-7f40ec966e22",
   "metadata": {
    "scrolled": true,
    "tags": []
   },
   "outputs": [
    {
     "name": "stderr",
     "output_type": "stream",
     "text": [
      "Outer loop (a): 100%|██████████| 100/100 [00:31<00:00,  3.14it/s]\n"
     ]
    },
    {
     "name": "stdout",
     "output_type": "stream",
     "text": [
      "Processing: epoch 50, range 1.000000, (5,1), two_blobs_separate, grid 100\n",
      " Updated and saved new grid at ../backend/landscapes/mlp_5/two_blobs_separate/train/range1/ep50\n",
      "Processing: epoch 70, range 1.000000, (5,1), two_blobs_separate, grid 100\n",
      "Previously saved model is of lower resolution; recomputing\n"
     ]
    },
    {
     "name": "stderr",
     "output_type": "stream",
     "text": [
      "Outer loop (a):  88%|████████▊ | 88/100 [00:27<00:03,  3.25it/s]"
     ]
    }
   ],
   "source": [
    "\n",
    "def worker(args):\n",
    "    dataset, width, depth, ab_range, epoch, gridsize = args\n",
    "    arch = [width] * depth\n",
    "    \n",
    "    CACHE_ROOT = \"../backend/landscapes\"\n",
    "    MODELS_DIR = \"../backend/models\"\n",
    "    \n",
    " \n",
    "    train_str = 'train'  \n",
    "    \n",
    "    try:\n",
    "        cache_dir = os.path.join(CACHE_ROOT, arch_to_name(arch), dataset, train_str, f\"range{ab_range}\",  f\"ep{epoch}\")\n",
    "        loss_file = os.path.join(cache_dir, \"loss.npy\") \n",
    "        losses = np.load(loss_file)\n",
    "\n",
    "\n",
    "        #if losses.shape[0] >10: return\n",
    "    except Exception as e:\n",
    "        print(e)\n",
    "        return\n",
    "    \n",
    "    \n",
    "    \n",
    "    \n",
    "    gridsize = 100#random.choices([25, 50, 100], weights=[0.8, 0.1, 0.1])[0]    \n",
    "    out = compute_loss_grid( arch, dataset, train=True, epoch=epoch, ab_range=ab_range, gridsize=gridsize  )\n",
    "\n",
    "        \n",
    "        \n",
    "\n",
    "\n",
    "num_epochs = 1001\n",
    "datasets = [\"two_blobs_separate\", \"two_blobs_overlap\", \"half_moons\", \"spirals\", \"four_corners\"]\n",
    "widths = [5,10,25,50,100]\n",
    "depths = [1,2,4,8,16]  \n",
    "ab_ranges = [0.1, 1,2,5,.2,.5, 10]\n",
    "\n",
    "\n",
    "\n",
    "epochs = list(range(0, num_epochs, 10))\n",
    "gridsize = 100\n",
    "\n",
    "\n",
    "\n",
    "# Prepare the argument list for all jobs\n",
    "all_args = list(product( widths, depths,datasets, ab_ranges, epochs))\n",
    "\n",
    "\n",
    "all_args = [ (dataset,  width, depth, ab_range, epoch, gridsize) for ( width, depth, dataset,ab_range, epoch) in all_args]\n",
    "\n",
    "\n",
    "for args in all_args:\n",
    "    worker(args)\n",
    "adsf\n",
    "\n",
    "\n",
    "random.shuffle(all_args)\n",
    "\n",
    "\n",
    "# Launch the multiprocessing pool\n",
    "with mp.Pool(processes=15) as pool:\n",
    "    pool.map(worker, all_args)\n",
    "\n",
    "\n",
    "   \n"
   ]
  },
  {
   "cell_type": "code",
   "execution_count": null,
   "id": "bc48a875-b718-4efc-b569-3106d0493347",
   "metadata": {},
   "outputs": [],
   "source": []
  }
 ],
 "metadata": {
  "kernelspec": {
   "display_name": "Python 3 (ipykernel)",
   "language": "python",
   "name": "python3"
  },
  "language_info": {
   "codemirror_mode": {
    "name": "ipython",
    "version": 3
   },
   "file_extension": ".py",
   "mimetype": "text/x-python",
   "name": "python",
   "nbconvert_exporter": "python",
   "pygments_lexer": "ipython3",
   "version": "3.9.13"
  }
 },
 "nbformat": 4,
 "nbformat_minor": 5
}
