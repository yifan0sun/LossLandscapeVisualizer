{
 "cells": [
  {
   "cell_type": "code",
   "execution_count": 3,
   "id": "7e33a9cb-a74b-4260-be5f-64abd9b2d781",
   "metadata": {},
   "outputs": [],
   "source": [
    "import numpy as np\n",
    "import multiprocessing as mp\n",
    "from itertools import product\n",
    "\n",
    "\n",
    "from visualize_landscape import *\n",
    "\n",
    "\n",
    "torch.set_num_threads(1)"
   ]
  },
  {
   "cell_type": "code",
   "execution_count": 4,
   "id": "daba1293-3d34-4fa5-b0ee-7f40ec966e22",
   "metadata": {
    "tags": []
   },
   "outputs": [
    {
     "name": "stdout",
     "output_type": "stream",
     "text": [
      "width=5, depth=1\n",
      "width=5, depth=2\n",
      "width=5, depth=4\n",
      "width=5, depth=8\n",
      "width=5, depth=16\n",
      "width=10, depth=1\n",
      "width=10, depth=2\n",
      "width=10, depth=4\n",
      "width=10, depth=8\n",
      "width=10, depth=16\n",
      "width=25, depth=1\n",
      "width=25, depth=2\n",
      "width=25, depth=4\n",
      "width=25, depth=8\n",
      "width=25, depth=16\n",
      "width=50, depth=1\n",
      "width=50, depth=2\n",
      "width=50, depth=4\n",
      "width=50, depth=8\n",
      "width=50, depth=16\n",
      "width=100, depth=1\n",
      "width=100, depth=2\n",
      "width=100, depth=4\n",
      "width=100, depth=8\n",
      "width=100, depth=16\n"
     ]
    }
   ],
   "source": [
    " \n",
    "num_epochs = 1001\n",
    "datasets = [\"two_blobs_separate\", \"two_blobs_overlap\", \"half_moons\", \"spirals\", \"four_corners\"]\n",
    "widths = [5,10,25,50,100]  # optionally extend\n",
    "depths = [1,2,4,8,16]   # optionally extend\n",
    "ab_ranges = [0.1, 1, 10,2,5,.2,.5]\n",
    "epochs = list(range(0, num_epochs, 10))\n",
    "gridsize = 100\n",
    "\n",
    "# Prepare the argument list for all jobs\n",
    "all_args = list(product( widths, depths,datasets, ab_ranges, epochs))\n",
    "\n",
    "\n",
    "all_args = [ (dataset,  width, depth, ab_range, epoch, gridsize) for ( width, depth, dataset,ab_range, epoch) in all_args]\n",
    "\n",
    "\n",
    "for width in widths:\n",
    "    for depth in depths:\n",
    "        print(f\"width={width}, depth={depth}\")\n",
    "        for ab_range in ab_ranges:\n",
    "            for dataset in datasets:\n",
    "                for epoch in epochs:\n",
    "\n",
    "                    arch = [width] * depth\n",
    "\n",
    "\n",
    "                    compute_and_save_zrange(  arch=arch, dataset=dataset,  train=True,  ab_range=ab_range)\n",
    "\n",
    "   \n"
   ]
  },
  {
   "cell_type": "code",
   "execution_count": null,
   "id": "bc48a875-b718-4efc-b569-3106d0493347",
   "metadata": {},
   "outputs": [],
   "source": []
  }
 ],
 "metadata": {
  "kernelspec": {
   "display_name": "Python 3 (ipykernel)",
   "language": "python",
   "name": "python3"
  },
  "language_info": {
   "codemirror_mode": {
    "name": "ipython",
    "version": 3
   },
   "file_extension": ".py",
   "mimetype": "text/x-python",
   "name": "python",
   "nbconvert_exporter": "python",
   "pygments_lexer": "ipython3",
   "version": "3.9.13"
  }
 },
 "nbformat": 4,
 "nbformat_minor": 5
}
