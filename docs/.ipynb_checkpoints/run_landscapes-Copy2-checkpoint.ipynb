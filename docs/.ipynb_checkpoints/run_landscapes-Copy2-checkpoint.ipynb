{
 "cells": [
  {
   "cell_type": "code",
   "execution_count": null,
   "id": "7e33a9cb-a74b-4260-be5f-64abd9b2d781",
   "metadata": {},
   "outputs": [],
   "source": [
    "import numpy as np\n",
    "import multiprocessing as mp\n",
    "from itertools import product\n",
    "\n",
    "\n",
    "from visualize_landscape import *\n",
    "\n",
    "\n",
    "torch.set_num_threads(1)"
   ]
  },
  {
   "cell_type": "code",
   "execution_count": null,
   "id": "daba1293-3d34-4fa5-b0ee-7f40ec966e22",
   "metadata": {
    "scrolled": true,
    "tags": []
   },
   "outputs": [],
   "source": [
    "\n",
    "def worker(args):\n",
    "    dataset, width, depth, ab_range, epoch, gridsize = args\n",
    "    arch = [width] * depth\n",
    "\n",
    "    try:\n",
    "        #print(f\"Processing: epoch={epoch}, ab_range={ab_range}, width={width}, depth={depth}, dataset={dataset}\")\n",
    "        compute_loss_grid( arch, dataset, train=True, epoch=epoch, ab_range=ab_range, gridsize=gridsize  )\n",
    "\n",
    "        #compute_and_save_zrange(\n",
    "        #    arch=arch,\n",
    "        #    dataset=dataset,\n",
    "        #    train=True,\n",
    "        #    ab_range=ab_range,\n",
    "        #    gridsize=gridsize\n",
    "        #)\n",
    "        print(f\"Done: {dataset}, width={width}, depth={depth}, ab_range={ab_range}, epoch={epoch}\")\n",
    "\n",
    "    except Exception as e:\n",
    "        print(f\"Failed: {dataset}, width={width}, depth={depth}, ab_range={ab_range}, epoch={epoch}. Reason: {e}\")\n",
    "        \n",
    "\n",
    "\n",
    "num_epochs = 1001\n",
    "datasets = [\"two_blobs_separate\", \"two_blobs_overlap\", \"half_moons\", \"spirals\", \"four_corners\"]\n",
    "widths = [10]#,10,25,50,100]  \n",
    "depths = [1,2,4,8,16]  \n",
    "ab_ranges = [0.1, 1, 10,2,5,.2,.5]\n",
    "epochs = list(range(0, num_epochs, 10))\n",
    "gridsize = 100\n",
    "\n",
    "# Prepare the argument list for all jobs\n",
    "all_args = list(product( widths, depths,datasets, ab_ranges, epochs))\n",
    "\n",
    "\n",
    "all_args = [ (dataset,  width, depth, ab_range, epoch, gridsize) for ( width, depth, dataset,ab_range, epoch) in all_args]\n",
    "\n",
    "\n",
    "#for args in all_args:\n",
    "#    worker(args)\n",
    "\n",
    "\n",
    "# Launch the multiprocessing pool\n",
    "with mp.Pool(processes=4) as pool:\n",
    "    pool.map(worker, all_args)\n",
    "\n",
    "\n",
    "   \n"
   ]
  },
  {
   "cell_type": "code",
   "execution_count": null,
   "id": "bc48a875-b718-4efc-b569-3106d0493347",
   "metadata": {},
   "outputs": [],
   "source": []
  }
 ],
 "metadata": {
  "kernelspec": {
   "display_name": "Python 3 (ipykernel)",
   "language": "python",
   "name": "python3"
  },
  "language_info": {
   "codemirror_mode": {
    "name": "ipython",
    "version": 3
   },
   "file_extension": ".py",
   "mimetype": "text/x-python",
   "name": "python",
   "nbconvert_exporter": "python",
   "pygments_lexer": "ipython3",
   "version": "3.9.13"
  }
 },
 "nbformat": 4,
 "nbformat_minor": 5
}
