{
 "cells": [
  {
   "cell_type": "code",
   "execution_count": 1,
   "id": "7e33a9cb-a74b-4260-be5f-64abd9b2d781",
   "metadata": {},
   "outputs": [],
   "source": [
    "import numpy as np\n",
    "import multiprocessing as mp\n",
    "from itertools import product\n",
    "\n",
    "\n",
    "from visualize_landscape import *\n",
    "\n",
    "\n",
    "torch.set_num_threads(1)"
   ]
  },
  {
   "cell_type": "code",
   "execution_count": 4,
   "id": "daba1293-3d34-4fa5-b0ee-7f40ec966e22",
   "metadata": {
    "scrolled": true,
    "tags": []
   },
   "outputs": [
    {
     "name": "stdout",
     "output_type": "stream",
     "text": [
      "✅ zrange already computed at ../backend/landscapes/mlp_5/two_blobs_separate/train/range0.1/zrange.npy. Skipping computation.\n",
      "Done: two_blobs_separate, width=5, depth=1, ab_range=0.1, epoch=0\n"
     ]
    },
    {
     "ename": "NameError",
     "evalue": "name 'asd' is not defined",
     "output_type": "error",
     "traceback": [
      "\u001b[0;31m---------------------------------------------------------------------------\u001b[0m",
      "\u001b[0;31mNameError\u001b[0m                                 Traceback (most recent call last)",
      "\u001b[0;32m/tmp/ipykernel_32535/985150294.py\u001b[0m in \u001b[0;36m<module>\u001b[0;34m\u001b[0m\n\u001b[1;32m     32\u001b[0m \u001b[0;32mfor\u001b[0m \u001b[0margs\u001b[0m \u001b[0;32min\u001b[0m \u001b[0mall_args\u001b[0m\u001b[0;34m:\u001b[0m\u001b[0;34m\u001b[0m\u001b[0;34m\u001b[0m\u001b[0m\n\u001b[1;32m     33\u001b[0m     \u001b[0mworker\u001b[0m\u001b[0;34m(\u001b[0m\u001b[0margs\u001b[0m\u001b[0;34m)\u001b[0m\u001b[0;34m\u001b[0m\u001b[0;34m\u001b[0m\u001b[0m\n\u001b[0;32m---> 34\u001b[0;31m     \u001b[0masd\u001b[0m\u001b[0;34m\u001b[0m\u001b[0;34m\u001b[0m\u001b[0m\n\u001b[0m\u001b[1;32m     35\u001b[0m \u001b[0;34m\u001b[0m\u001b[0m\n\u001b[1;32m     36\u001b[0m \u001b[0;34m\u001b[0m\u001b[0m\n",
      "\u001b[0;31mNameError\u001b[0m: name 'asd' is not defined"
     ]
    }
   ],
   "source": [
    "\n",
    "def worker(args):\n",
    "    dataset, width, depth, ab_range, epoch, gridsize = args\n",
    "    arch = [width] * depth\n",
    "\n",
    "    try:\n",
    "        #print(f\"Processing: epoch={epoch}, ab_range={ab_range}, width={width}, depth={depth}, dataset={dataset}\")\n",
    "    \n",
    "\n",
    "        compute_and_save_zrange(  arch=arch, dataset=dataset,  train=True,  ab_range=ab_range, gridsize=gridsize)\n",
    "        print(f\"Done: {dataset}, width={width}, depth={depth}, ab_range={ab_range}, epoch={epoch}\")\n",
    "\n",
    "    except Exception as e:\n",
    "        print(f\"Failed: {dataset}, width={width}, depth={depth}, ab_range={ab_range}, epoch={epoch}. Reason: {e}\")\n",
    "        \n",
    "\n",
    "\n",
    "num_epochs = 1001\n",
    "datasets = [\"two_blobs_separate\", \"two_blobs_overlap\", \"half_moons\", \"spirals\", \"four_corners\"]\n",
    "widths = [5,10,25,50,100]  # optionally extend\n",
    "depths = [1,2,4,8,16]   # optionally extend\n",
    "ab_ranges = [0.1, 1, 10,2,5,.2,.5]\n",
    "epochs = list(range(0, num_epochs, 10))\n",
    "gridsize = 100\n",
    "\n",
    "# Prepare the argument list for all jobs\n",
    "all_args = list(product( widths, depths,datasets, ab_ranges, epochs))\n",
    "\n",
    "\n",
    "all_args = [ (dataset,  width, depth, ab_range, epoch, gridsize) for ( width, depth, dataset,ab_range, epoch) in all_args]\n",
    "\n",
    "\n",
    "for args in all_args:\n",
    "    worker(args)\n",
    "\n",
    "\n",
    "   \n"
   ]
  },
  {
   "cell_type": "code",
   "execution_count": null,
   "id": "bc48a875-b718-4efc-b569-3106d0493347",
   "metadata": {},
   "outputs": [],
   "source": []
  }
 ],
 "metadata": {
  "kernelspec": {
   "display_name": "Python 3 (ipykernel)",
   "language": "python",
   "name": "python3"
  },
  "language_info": {
   "codemirror_mode": {
    "name": "ipython",
    "version": 3
   },
   "file_extension": ".py",
   "mimetype": "text/x-python",
   "name": "python",
   "nbconvert_exporter": "python",
   "pygments_lexer": "ipython3",
   "version": "3.9.13"
  }
 },
 "nbformat": 4,
 "nbformat_minor": 5
}
