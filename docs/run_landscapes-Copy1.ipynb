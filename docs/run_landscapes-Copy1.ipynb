{
 "cells": [
  {
   "cell_type": "code",
   "execution_count": 1,
   "id": "7e33a9cb-a74b-4260-be5f-64abd9b2d781",
   "metadata": {},
   "outputs": [],
   "source": [
    "import numpy as np\n",
    "import multiprocessing as mp\n",
    "from itertools import product\n",
    "\n",
    "\n",
    "from visualize_landscape import *\n",
    "\n",
    "\n",
    "torch.set_num_threads(1)"
   ]
  },
  {
   "cell_type": "code",
   "execution_count": null,
   "id": "daba1293-3d34-4fa5-b0ee-7f40ec966e22",
   "metadata": {
    "scrolled": true,
    "tags": []
   },
   "outputs": [
    {
     "name": "stdout",
     "output_type": "stream",
     "text": [
      "Done: two_blobs_separate, width=10, depth=1, ab_range=0.1, epoch=0Done: two_blobs_overlap, width=10, depth=1, ab_range=2, epoch=950Done: spirals, width=10, depth=1, ab_range=0.1, epoch=890Done: four_corners, width=10, depth=1, ab_range=5, epoch=830\n",
      "\n",
      "\n",
      "\n",
      "Done: two_blobs_separate, width=10, depth=1, ab_range=0.1, epoch=10Done: two_blobs_overlap, width=10, depth=1, ab_range=2, epoch=960Done: spirals, width=10, depth=1, ab_range=0.1, epoch=900Done: four_corners, width=10, depth=1, ab_range=5, epoch=840\n",
      "\n",
      "\n",
      "\n",
      "Done: two_blobs_separate, width=10, depth=1, ab_range=0.1, epoch=20Done: spirals, width=10, depth=1, ab_range=0.1, epoch=910Done: two_blobs_overlap, width=10, depth=1, ab_range=2, epoch=970\n",
      "\n",
      "\n",
      "Done: two_blobs_separate, width=10, depth=1, ab_range=0.1, epoch=30Done: spirals, width=10, depth=1, ab_range=0.1, epoch=920Done: two_blobs_overlap, width=10, depth=1, ab_range=2, epoch=980\n",
      "\n",
      "\n",
      "Done: two_blobs_separate, width=10, depth=1, ab_range=0.1, epoch=40\n",
      "Done: two_blobs_overlap, width=10, depth=1, ab_range=2, epoch=990Done: two_blobs_separate, width=10, depth=1, ab_range=0.1, epoch=50Done: spirals, width=10, depth=1, ab_range=0.1, epoch=930\n",
      "\n",
      "\n",
      "Done: two_blobs_separate, width=10, depth=1, ab_range=0.1, epoch=60Done: spirals, width=10, depth=1, ab_range=0.1, epoch=940\n",
      "\n",
      "Done: two_blobs_separate, width=10, depth=1, ab_range=0.1, epoch=70Done: spirals, width=10, depth=1, ab_range=0.1, epoch=950\n",
      "\n",
      "Done: two_blobs_overlap, width=10, depth=1, ab_range=2, epoch=1000Done: two_blobs_separate, width=10, depth=1, ab_range=0.1, epoch=80\n",
      "Done: spirals, width=10, depth=1, ab_range=0.1, epoch=960\n",
      "\n",
      "Done: two_blobs_separate, width=10, depth=1, ab_range=0.1, epoch=90Done: two_blobs_overlap, width=10, depth=1, ab_range=5, epoch=0Done: spirals, width=10, depth=1, ab_range=0.1, epoch=970\n",
      "\n",
      "Done: two_blobs_separate, width=10, depth=1, ab_range=0.1, epoch=100\n",
      "Done: four_corners, width=10, depth=1, ab_range=5, epoch=850\n",
      "Done: spirals, width=10, depth=1, ab_range=0.1, epoch=980Done: two_blobs_overlap, width=10, depth=1, ab_range=5, epoch=10\n",
      "\n",
      "Done: four_corners, width=10, depth=1, ab_range=5, epoch=860\n",
      "Done: two_blobs_separate, width=10, depth=1, ab_range=0.1, epoch=110\n",
      "Done: two_blobs_overlap, width=10, depth=1, ab_range=5, epoch=20\n",
      "\n",
      "Done: spirals, width=10, depth=1, ab_range=0.1, epoch=990Done: two_blobs_separate, width=10, depth=1, ab_range=0.1, epoch=120Done: four_corners, width=10, depth=1, ab_range=5, epoch=870Done: two_blobs_overlap, width=10, depth=1, ab_range=5, epoch=30\n",
      "\n",
      "\n",
      "Done: two_blobs_separate, width=10, depth=1, ab_range=0.1, epoch=130Done: spirals, width=10, depth=1, ab_range=0.1, epoch=1000\n",
      "Done: two_blobs_overlap, width=10, depth=1, ab_range=5, epoch=40\n",
      "\n",
      "\n",
      "Done: two_blobs_separate, width=10, depth=1, ab_range=0.1, epoch=140Done: four_corners, width=10, depth=1, ab_range=5, epoch=880Done: spirals, width=10, depth=1, ab_range=1, epoch=0Done: two_blobs_overlap, width=10, depth=1, ab_range=5, epoch=50\n",
      "\n",
      "\n",
      "\n",
      "Done: two_blobs_separate, width=10, depth=1, ab_range=0.1, epoch=150Done: two_blobs_overlap, width=10, depth=1, ab_range=5, epoch=60Done: four_corners, width=10, depth=1, ab_range=5, epoch=890\n",
      "\n",
      "\n",
      "Done: spirals, width=10, depth=1, ab_range=1, epoch=10\n",
      "Done: four_corners, width=10, depth=1, ab_range=5, epoch=900\n",
      "Done: two_blobs_separate, width=10, depth=1, ab_range=0.1, epoch=160Done: spirals, width=10, depth=1, ab_range=1, epoch=20\n",
      "Done: four_corners, width=10, depth=1, ab_range=5, epoch=910\n",
      "\n",
      "Done: spirals, width=10, depth=1, ab_range=1, epoch=30Done: four_corners, width=10, depth=1, ab_range=5, epoch=920\n",
      "Done: two_blobs_separate, width=10, depth=1, ab_range=0.1, epoch=170Done: two_blobs_overlap, width=10, depth=1, ab_range=5, epoch=70\n",
      "\n",
      "Done: spirals, width=10, depth=1, ab_range=1, epoch=40\n",
      "Done: two_blobs_separate, width=10, depth=1, ab_range=0.1, epoch=180\n",
      "\n",
      "Done: two_blobs_overlap, width=10, depth=1, ab_range=5, epoch=80Done: four_corners, width=10, depth=1, ab_range=5, epoch=930Done: two_blobs_separate, width=10, depth=1, ab_range=0.1, epoch=190\n",
      "\n",
      "\n",
      "Done: spirals, width=10, depth=1, ab_range=1, epoch=50Done: two_blobs_overlap, width=10, depth=1, ab_range=5, epoch=90Done: four_corners, width=10, depth=1, ab_range=5, epoch=940Done: two_blobs_separate, width=10, depth=1, ab_range=0.1, epoch=200\n",
      "\n",
      "\n",
      "\n",
      "Done: spirals, width=10, depth=1, ab_range=1, epoch=60Done: two_blobs_separate, width=10, depth=1, ab_range=0.1, epoch=210Done: four_corners, width=10, depth=1, ab_range=5, epoch=950\n",
      "\n",
      "\n",
      "Done: two_blobs_separate, width=10, depth=1, ab_range=0.1, epoch=220\n",
      "Done: two_blobs_overlap, width=10, depth=1, ab_range=5, epoch=100Done: four_corners, width=10, depth=1, ab_range=5, epoch=960\n",
      "Done: spirals, width=10, depth=1, ab_range=1, epoch=70Done: two_blobs_separate, width=10, depth=1, ab_range=0.1, epoch=230\n",
      "\n",
      "Done: four_corners, width=10, depth=1, ab_range=5, epoch=970\n",
      "\n",
      "Done: spirals, width=10, depth=1, ab_range=1, epoch=80Done: two_blobs_overlap, width=10, depth=1, ab_range=5, epoch=110Done: four_corners, width=10, depth=1, ab_range=5, epoch=980Done: two_blobs_separate, width=10, depth=1, ab_range=0.1, epoch=240\n",
      "\n",
      "\n",
      "\n",
      "Done: spirals, width=10, depth=1, ab_range=1, epoch=90Done: two_blobs_overlap, width=10, depth=1, ab_range=5, epoch=120Done: two_blobs_separate, width=10, depth=1, ab_range=0.1, epoch=250Done: four_corners, width=10, depth=1, ab_range=5, epoch=990\n",
      "\n",
      "\n",
      "\n",
      "Done: two_blobs_overlap, width=10, depth=1, ab_range=5, epoch=130Done: two_blobs_separate, width=10, depth=1, ab_range=0.1, epoch=260\n",
      "\n",
      "Done: four_corners, width=10, depth=1, ab_range=5, epoch=1000\n",
      "Done: two_blobs_overlap, width=10, depth=1, ab_range=5, epoch=140Done: two_blobs_separate, width=10, depth=1, ab_range=0.1, epoch=270Done: spirals, width=10, depth=1, ab_range=1, epoch=100\n",
      "\n",
      "Done: four_corners, width=10, depth=1, ab_range=0.2, epoch=0\n",
      "Done: two_blobs_separate, width=10, depth=1, ab_range=0.1, epoch=280Done: two_blobs_overlap, width=10, depth=1, ab_range=5, epoch=150\n",
      "\n",
      "\n",
      "Done: spirals, width=10, depth=1, ab_range=1, epoch=110\n",
      "Done: four_corners, width=10, depth=1, ab_range=0.2, epoch=10Done: spirals, width=10, depth=1, ab_range=1, epoch=120\n",
      "Done: two_blobs_overlap, width=10, depth=1, ab_range=5, epoch=160\n",
      "\n",
      "Done: four_corners, width=10, depth=1, ab_range=0.2, epoch=20Done: two_blobs_overlap, width=10, depth=1, ab_range=5, epoch=170\n",
      "\n",
      "Done: spirals, width=10, depth=1, ab_range=1, epoch=130\n",
      "Done: four_corners, width=10, depth=1, ab_range=0.2, epoch=30Done: two_blobs_overlap, width=10, depth=1, ab_range=5, epoch=180Done: two_blobs_separate, width=10, depth=1, ab_range=0.1, epoch=290\n",
      "\n",
      "\n",
      "Done: spirals, width=10, depth=1, ab_range=1, epoch=140Done: two_blobs_overlap, width=10, depth=1, ab_range=5, epoch=190\n",
      "Done: four_corners, width=10, depth=1, ab_range=0.2, epoch=40\n",
      "Done: two_blobs_separate, width=10, depth=1, ab_range=0.1, epoch=300\n",
      "\n",
      "Done: spirals, width=10, depth=1, ab_range=1, epoch=150Done: two_blobs_overlap, width=10, depth=1, ab_range=5, epoch=200Done: four_corners, width=10, depth=1, ab_range=0.2, epoch=50\n",
      "\n",
      "Done: two_blobs_separate, width=10, depth=1, ab_range=0.1, epoch=310\n",
      "Done: two_blobs_overlap, width=10, depth=1, ab_range=5, epoch=210\n",
      "\n",
      "Done: four_corners, width=10, depth=1, ab_range=0.2, epoch=60\n",
      "Done: two_blobs_separate, width=10, depth=1, ab_range=0.1, epoch=320Done: spirals, width=10, depth=1, ab_range=1, epoch=160Done: two_blobs_overlap, width=10, depth=1, ab_range=5, epoch=220\n",
      "\n",
      "Done: four_corners, width=10, depth=1, ab_range=0.2, epoch=70\n",
      "Done: spirals, width=10, depth=1, ab_range=1, epoch=170Done: two_blobs_separate, width=10, depth=1, ab_range=0.1, epoch=330\n",
      "Done: two_blobs_overlap, width=10, depth=1, ab_range=5, epoch=230\n",
      "\n",
      "Done: four_corners, width=10, depth=1, ab_range=0.2, epoch=80\n",
      "Done: two_blobs_separate, width=10, depth=1, ab_range=0.1, epoch=340\n",
      "\n",
      "Done: two_blobs_overlap, width=10, depth=1, ab_range=5, epoch=240\n",
      "Done: four_corners, width=10, depth=1, ab_range=0.2, epoch=90Done: two_blobs_separate, width=10, depth=1, ab_range=0.1, epoch=350\n",
      "Done: spirals, width=10, depth=1, ab_range=1, epoch=180Done: two_blobs_overlap, width=10, depth=1, ab_range=5, epoch=250\n",
      "\n",
      "\n",
      "Done: two_blobs_separate, width=10, depth=1, ab_range=0.1, epoch=360Done: four_corners, width=10, depth=1, ab_range=0.2, epoch=100\n",
      "Done: two_blobs_overlap, width=10, depth=1, ab_range=5, epoch=260\n",
      "\n",
      "Done: two_blobs_separate, width=10, depth=1, ab_range=0.1, epoch=370Done: spirals, width=10, depth=1, ab_range=1, epoch=190\n",
      "Done: two_blobs_overlap, width=10, depth=1, ab_range=5, epoch=270Done: four_corners, width=10, depth=1, ab_range=0.2, epoch=110\n",
      "\n",
      "\n",
      "Done: two_blobs_separate, width=10, depth=1, ab_range=0.1, epoch=380\n",
      "Done: two_blobs_overlap, width=10, depth=1, ab_range=5, epoch=280Done: spirals, width=10, depth=1, ab_range=1, epoch=200Done: four_corners, width=10, depth=1, ab_range=0.2, epoch=120\n",
      "\n",
      "\n",
      "Done: two_blobs_separate, width=10, depth=1, ab_range=0.1, epoch=390\n",
      "Done: spirals, width=10, depth=1, ab_range=1, epoch=210Done: two_blobs_overlap, width=10, depth=1, ab_range=5, epoch=290Done: four_corners, width=10, depth=1, ab_range=0.2, epoch=130\n",
      "Done: two_blobs_separate, width=10, depth=1, ab_range=0.1, epoch=400\n",
      "\n",
      "Done: spirals, width=10, depth=1, ab_range=1, epoch=220Done: two_blobs_overlap, width=10, depth=1, ab_range=5, epoch=300\n",
      "\n",
      "Done: two_blobs_separate, width=10, depth=1, ab_range=0.1, epoch=410Done: four_corners, width=10, depth=1, ab_range=0.2, epoch=140\n",
      "\n",
      "Done: spirals, width=10, depth=1, ab_range=1, epoch=230Done: two_blobs_overlap, width=10, depth=1, ab_range=5, epoch=310\n",
      "\n",
      "Done: two_blobs_separate, width=10, depth=1, ab_range=0.1, epoch=420\n",
      "\n",
      "Done: four_corners, width=10, depth=1, ab_range=0.2, epoch=150Done: spirals, width=10, depth=1, ab_range=1, epoch=240Done: two_blobs_separate, width=10, depth=1, ab_range=0.1, epoch=430\n",
      "\n",
      "\n",
      "Done: two_blobs_overlap, width=10, depth=1, ab_range=5, epoch=320Done: spirals, width=10, depth=1, ab_range=1, epoch=250\n",
      "Done: four_corners, width=10, depth=1, ab_range=0.2, epoch=160\n",
      "Done: two_blobs_overlap, width=10, depth=1, ab_range=5, epoch=330Done: spirals, width=10, depth=1, ab_range=1, epoch=260Done: two_blobs_separate, width=10, depth=1, ab_range=0.1, epoch=440\n",
      "\n",
      "\n",
      "\n",
      "Done: four_corners, width=10, depth=1, ab_range=0.2, epoch=170Done: two_blobs_overlap, width=10, depth=1, ab_range=5, epoch=340Done: two_blobs_separate, width=10, depth=1, ab_range=0.1, epoch=450\n",
      "\n",
      "\n",
      "Done: spirals, width=10, depth=1, ab_range=1, epoch=270Done: four_corners, width=10, depth=1, ab_range=0.2, epoch=180Done: two_blobs_overlap, width=10, depth=1, ab_range=5, epoch=350Done: two_blobs_separate, width=10, depth=1, ab_range=0.1, epoch=460\n",
      "\n",
      "Done: two_blobs_separate, width=10, depth=1, ab_range=0.1, epoch=470\n",
      "Done: spirals, width=10, depth=1, ab_range=1, epoch=280\n",
      "Done: two_blobs_separate, width=10, depth=1, ab_range=0.1, epoch=480\n",
      "\n",
      "Done: spirals, width=10, depth=1, ab_range=1, epoch=290\n",
      "Done: two_blobs_separate, width=10, depth=1, ab_range=0.1, epoch=490\n",
      "Done: spirals, width=10, depth=1, ab_range=1, epoch=300Done: two_blobs_overlap, width=10, depth=1, ab_range=5, epoch=360\n",
      "Done: two_blobs_separate, width=10, depth=1, ab_range=0.1, epoch=500\n",
      "\n",
      "Done: two_blobs_overlap, width=10, depth=1, ab_range=5, epoch=370Done: two_blobs_separate, width=10, depth=1, ab_range=0.1, epoch=510Done: spirals, width=10, depth=1, ab_range=1, epoch=310\n",
      "\n",
      "\n",
      "Done: two_blobs_overlap, width=10, depth=1, ab_range=5, epoch=380\n",
      "\n",
      "Done: four_corners, width=10, depth=1, ab_range=0.2, epoch=190Done: two_blobs_separate, width=10, depth=1, ab_range=0.1, epoch=520\n",
      "\n",
      "Done: spirals, width=10, depth=1, ab_range=1, epoch=320Done: two_blobs_overlap, width=10, depth=1, ab_range=5, epoch=390\n",
      "Done: four_corners, width=10, depth=1, ab_range=0.2, epoch=200\n",
      "\n",
      "Done: spirals, width=10, depth=1, ab_range=1, epoch=330Done: two_blobs_separate, width=10, depth=1, ab_range=0.1, epoch=530\n",
      "Done: four_corners, width=10, depth=1, ab_range=0.2, epoch=210Done: two_blobs_overlap, width=10, depth=1, ab_range=5, epoch=400\n",
      "\n",
      "\n",
      "Done: spirals, width=10, depth=1, ab_range=1, epoch=340Done: two_blobs_separate, width=10, depth=1, ab_range=0.1, epoch=540\n",
      "\n",
      "Done: four_corners, width=10, depth=1, ab_range=0.2, epoch=220\n",
      "Done: two_blobs_overlap, width=10, depth=1, ab_range=5, epoch=410Done: two_blobs_separate, width=10, depth=1, ab_range=0.1, epoch=550Done: spirals, width=10, depth=1, ab_range=1, epoch=350\n",
      "\n",
      "\n",
      "Done: four_corners, width=10, depth=1, ab_range=0.2, epoch=230Done: two_blobs_overlap, width=10, depth=1, ab_range=5, epoch=420Done: two_blobs_separate, width=10, depth=1, ab_range=0.1, epoch=560\n",
      "Done: spirals, width=10, depth=1, ab_range=1, epoch=360\n",
      "\n",
      "\n",
      "Done: two_blobs_overlap, width=10, depth=1, ab_range=5, epoch=430Done: four_corners, width=10, depth=1, ab_range=0.2, epoch=240Done: two_blobs_separate, width=10, depth=1, ab_range=0.1, epoch=570Done: spirals, width=10, depth=1, ab_range=1, epoch=370\n",
      "\n",
      "\n",
      "Done: two_blobs_overlap, width=10, depth=1, ab_range=5, epoch=440Done: spirals, width=10, depth=1, ab_range=1, epoch=380Done: two_blobs_separate, width=10, depth=1, ab_range=0.1, epoch=580\n",
      "\n",
      "\n",
      "\n",
      "Previously saved model is of lower resolution; recomputingDone: spirals, width=10, depth=1, ab_range=1, epoch=390\n",
      "\n",
      "Done: two_blobs_separate, width=10, depth=1, ab_range=0.1, epoch=590Done: four_corners, width=10, depth=1, ab_range=0.2, epoch=250Done: spirals, width=10, depth=1, ab_range=1, epoch=400\n",
      "\n",
      "\n",
      "Done: two_blobs_separate, width=10, depth=1, ab_range=0.1, epoch=600Done: spirals, width=10, depth=1, ab_range=1, epoch=410\n",
      "Done: four_corners, width=10, depth=1, ab_range=0.2, epoch=260\n"
     ]
    },
    {
     "name": "stderr",
     "output_type": "stream",
     "text": [
      "/home/yifan/DISKB/Dropbox/Projects/Spring2025/LandscapeVisualizer_2D/LossLandscapeVisualizer/build/visualize_landscape.py:118: FutureWarning: You are using `torch.load` with `weights_only=False` (the current default value), which uses the default pickle module implicitly. It is possible to construct malicious pickle data which will execute arbitrary code during unpickling (See https://github.com/pytorch/pytorch/blob/main/SECURITY.md#untrusted-models for more details). In a future release, the default value for `weights_only` will be flipped to `True`. This limits the functions that could be executed during unpickling. Arbitrary objects will no longer be allowed to be loaded via this mode unless they are explicitly allowlisted by the user via `torch.serialization.add_safe_globals`. We recommend you start setting `weights_only=True` for any use case where you don't have full control of the loaded file. Please open an issue on GitHub for any issues related to this experimental feature.\n",
      "  base_model.load_state_dict(torch.load(base_path))\n"
     ]
    },
    {
     "name": "stdout",
     "output_type": "stream",
     "text": [
      "\n",
      "Done: four_corners, width=10, depth=1, ab_range=0.2, epoch=270Done: two_blobs_separate, width=10, depth=1, ab_range=0.1, epoch=610\n",
      "Done: spirals, width=10, depth=1, ab_range=1, epoch=420\n",
      "\n",
      "Done: two_blobs_separate, width=10, depth=1, ab_range=0.1, epoch=620Done: four_corners, width=10, depth=1, ab_range=0.2, epoch=280Done: spirals, width=10, depth=1, ab_range=1, epoch=430\n",
      "\n",
      "\n",
      "Done: spirals, width=10, depth=1, ab_range=1, epoch=440Done: two_blobs_separate, width=10, depth=1, ab_range=0.1, epoch=630\n",
      "\n",
      "Done: four_corners, width=10, depth=1, ab_range=0.2, epoch=290Done: two_blobs_separate, width=10, depth=1, ab_range=0.1, epoch=640Done: spirals, width=10, depth=1, ab_range=1, epoch=450\n",
      "\n",
      "\n"
     ]
    },
    {
     "name": "stderr",
     "output_type": "stream",
     "text": [
      "/home/yifan/DISKB/Dropbox/Projects/Spring2025/LandscapeVisualizer_2D/LossLandscapeVisualizer/build/visualize_landscape.py:56: FutureWarning: You are using `torch.load` with `weights_only=False` (the current default value), which uses the default pickle module implicitly. It is possible to construct malicious pickle data which will execute arbitrary code during unpickling (See https://github.com/pytorch/pytorch/blob/main/SECURITY.md#untrusted-models for more details). In a future release, the default value for `weights_only` will be flipped to `True`. This limits the functions that could be executed during unpickling. Arbitrary objects will no longer be allowed to be loaded via this mode unless they are explicitly allowlisted by the user via `torch.serialization.add_safe_globals`. We recommend you start setting `weights_only=True` for any use case where you don't have full control of the loaded file. Please open an issue on GitHub for any issues related to this experimental feature.\n",
      "  model.load_state_dict(torch.load(path))\n"
     ]
    },
    {
     "name": "stdout",
     "output_type": "stream",
     "text": [
      "Done: spirals, width=10, depth=1, ab_range=1, epoch=460Done: two_blobs_separate, width=10, depth=1, ab_range=0.1, epoch=650\n",
      "\n",
      "Done: spirals, width=10, depth=1, ab_range=1, epoch=470\n",
      "Done: two_blobs_separate, width=10, depth=1, ab_range=0.1, epoch=660\n",
      "Done: four_corners, width=10, depth=1, ab_range=0.2, epoch=300\n",
      "Done: two_blobs_separate, width=10, depth=1, ab_range=0.1, epoch=670"
     ]
    },
    {
     "name": "stderr",
     "output_type": "stream",
     "text": [
      "Outer loop (a):   0%|          | 0/100 [00:00<?, ?it/s]"
     ]
    },
    {
     "name": "stdout",
     "output_type": "stream",
     "text": [
      "Done: four_corners, width=10, depth=1, ab_range=0.2, epoch=310Done: spirals, width=10, depth=1, ab_range=1, epoch=480\n",
      "\n",
      "\n",
      "Done: two_blobs_separate, width=10, depth=1, ab_range=0.1, epoch=680Done: four_corners, width=10, depth=1, ab_range=0.2, epoch=320\n"
     ]
    },
    {
     "name": "stderr",
     "output_type": "stream",
     "text": [
      "/home/yifan/DISKB/Dropbox/Projects/Spring2025/LandscapeVisualizer_2D/LossLandscapeVisualizer/build/data.py:85: FutureWarning: You are using `torch.load` with `weights_only=False` (the current default value), which uses the default pickle module implicitly. It is possible to construct malicious pickle data which will execute arbitrary code during unpickling (See https://github.com/pytorch/pytorch/blob/main/SECURITY.md#untrusted-models for more details). In a future release, the default value for `weights_only` will be flipped to `True`. This limits the functions that could be executed during unpickling. Arbitrary objects will no longer be allowed to be loaded via this mode unless they are explicitly allowlisted by the user via `torch.serialization.add_safe_globals`. We recommend you start setting `weights_only=True` for any use case where you don't have full control of the loaded file. Please open an issue on GitHub for any issues related to this experimental feature.\n",
      "  data, labels = torch.load(path)\n"
     ]
    },
    {
     "name": "stdout",
     "output_type": "stream",
     "text": [
      "Done: spirals, width=10, depth=1, ab_range=1, epoch=490\n",
      "Done: two_blobs_separate, width=10, depth=1, ab_range=0.1, epoch=690\n",
      "\n",
      "Done: spirals, width=10, depth=1, ab_range=1, epoch=500\n",
      "Done: four_corners, width=10, depth=1, ab_range=0.2, epoch=330Done: two_blobs_separate, width=10, depth=1, ab_range=0.1, epoch=700\n",
      "\n",
      "Done: spirals, width=10, depth=1, ab_range=1, epoch=510Done: four_corners, width=10, depth=1, ab_range=0.2, epoch=340\n",
      "\n",
      "Done: four_corners, width=10, depth=1, ab_range=0.2, epoch=350\n",
      "Done: two_blobs_separate, width=10, depth=1, ab_range=0.1, epoch=710Done: four_corners, width=10, depth=1, ab_range=0.2, epoch=360\n",
      "\n",
      "Done: two_blobs_separate, width=10, depth=1, ab_range=0.1, epoch=720\n",
      "Done: four_corners, width=10, depth=1, ab_range=0.2, epoch=370\n",
      "Done: four_corners, width=10, depth=1, ab_range=0.2, epoch=380\n",
      "Done: four_corners, width=10, depth=1, ab_range=0.2, epoch=390\n",
      "Done: four_corners, width=10, depth=1, ab_range=0.2, epoch=400\n",
      "Done: four_corners, width=10, depth=1, ab_range=0.2, epoch=410\n",
      "Done: four_corners, width=10, depth=1, ab_range=0.2, epoch=420\n",
      "Done: spirals, width=10, depth=1, ab_range=1, epoch=520Done: two_blobs_separate, width=10, depth=1, ab_range=0.1, epoch=730\n",
      "\n",
      "Done: four_corners, width=10, depth=1, ab_range=0.2, epoch=430\n",
      "Done: spirals, width=10, depth=1, ab_range=1, epoch=530Done: two_blobs_separate, width=10, depth=1, ab_range=0.1, epoch=740\n",
      "\n",
      "Done: four_corners, width=10, depth=1, ab_range=0.2, epoch=440Done: spirals, width=10, depth=1, ab_range=1, epoch=540\n",
      "Done: two_blobs_separate, width=10, depth=1, ab_range=0.1, epoch=750\n",
      "Done: spirals, width=10, depth=1, ab_range=1, epoch=550\n",
      "Done: two_blobs_separate, width=10, depth=1, ab_range=0.1, epoch=760\n",
      "Done: spirals, width=10, depth=1, ab_range=1, epoch=560\n",
      "Done: two_blobs_separate, width=10, depth=1, ab_range=0.1, epoch=770\n",
      "Done: spirals, width=10, depth=1, ab_range=1, epoch=570\n",
      "Done: two_blobs_separate, width=10, depth=1, ab_range=0.1, epoch=780\n",
      "Done: spirals, width=10, depth=1, ab_range=1, epoch=580\n",
      "Done: two_blobs_separate, width=10, depth=1, ab_range=0.1, epoch=790\n",
      "Done: spirals, width=10, depth=1, ab_range=1, epoch=590\n",
      "Done: two_blobs_separate, width=10, depth=1, ab_range=0.1, epoch=800\n",
      "\n",
      "Done: spirals, width=10, depth=1, ab_range=1, epoch=600Done: two_blobs_separate, width=10, depth=1, ab_range=0.1, epoch=810\n",
      "Done: four_corners, width=10, depth=1, ab_range=0.2, epoch=450\n",
      "Done: two_blobs_separate, width=10, depth=1, ab_range=0.1, epoch=820Done: spirals, width=10, depth=1, ab_range=1, epoch=610\n",
      "\n",
      "\n",
      "Done: four_corners, width=10, depth=1, ab_range=0.2, epoch=460\n",
      "Done: four_corners, width=10, depth=1, ab_range=0.2, epoch=470\n",
      "Done: spirals, width=10, depth=1, ab_range=1, epoch=620Done: two_blobs_separate, width=10, depth=1, ab_range=0.1, epoch=830Done: four_corners, width=10, depth=1, ab_range=0.2, epoch=480\n",
      "\n",
      "Done: four_corners, width=10, depth=1, ab_range=0.2, epoch=490Done: spirals, width=10, depth=1, ab_range=1, epoch=630\n",
      "\n",
      "\n",
      "Done: two_blobs_separate, width=10, depth=1, ab_range=0.1, epoch=840Done: spirals, width=10, depth=1, ab_range=1, epoch=640\n",
      "\n",
      "Done: four_corners, width=10, depth=1, ab_range=0.2, epoch=500\n",
      "Done: two_blobs_separate, width=10, depth=1, ab_range=0.1, epoch=850Done: spirals, width=10, depth=1, ab_range=1, epoch=650Done: four_corners, width=10, depth=1, ab_range=0.2, epoch=510\n",
      "\n",
      "Done: spirals, width=10, depth=1, ab_range=1, epoch=660Done: four_corners, width=10, depth=1, ab_range=0.2, epoch=520\n",
      "\n",
      "\n",
      "Done: spirals, width=10, depth=1, ab_range=1, epoch=670Done: four_corners, width=10, depth=1, ab_range=0.2, epoch=530\n",
      "Done: two_blobs_separate, width=10, depth=1, ab_range=0.1, epoch=860\n",
      "\n",
      "Done: spirals, width=10, depth=1, ab_range=1, epoch=680Done: two_blobs_separate, width=10, depth=1, ab_range=0.1, epoch=870Done: four_corners, width=10, depth=1, ab_range=0.2, epoch=540\n",
      "\n",
      "\n",
      "Done: two_blobs_separate, width=10, depth=1, ab_range=0.1, epoch=880Done: four_corners, width=10, depth=1, ab_range=0.2, epoch=550\n",
      "\n",
      "Done: two_blobs_separate, width=10, depth=1, ab_range=0.1, epoch=890Done: four_corners, width=10, depth=1, ab_range=0.2, epoch=560\n",
      "\n",
      "Done: two_blobs_separate, width=10, depth=1, ab_range=0.1, epoch=900Done: four_corners, width=10, depth=1, ab_range=0.2, epoch=570\n",
      "Done: two_blobs_separate, width=10, depth=1, ab_range=0.1, epoch=910\n",
      "\n",
      "Done: spirals, width=10, depth=1, ab_range=1, epoch=690Done: two_blobs_separate, width=10, depth=1, ab_range=0.1, epoch=920\n",
      "\n",
      "Done: four_corners, width=10, depth=1, ab_range=0.2, epoch=580\n",
      "Done: spirals, width=10, depth=1, ab_range=1, epoch=700Done: two_blobs_separate, width=10, depth=1, ab_range=0.1, epoch=930\n",
      "Done: four_corners, width=10, depth=1, ab_range=0.2, epoch=590\n",
      "\n",
      "Done: two_blobs_separate, width=10, depth=1, ab_range=0.1, epoch=940Done: spirals, width=10, depth=1, ab_range=1, epoch=710\n",
      "\n",
      "Done: two_blobs_separate, width=10, depth=1, ab_range=0.1, epoch=950Done: four_corners, width=10, depth=1, ab_range=0.2, epoch=600\n",
      "Done: spirals, width=10, depth=1, ab_range=1, epoch=720\n",
      "Done: two_blobs_separate, width=10, depth=1, ab_range=0.1, epoch=960\n",
      "Done: four_corners, width=10, depth=1, ab_range=0.2, epoch=610\n",
      "\n",
      "Done: spirals, width=10, depth=1, ab_range=1, epoch=730Done: two_blobs_separate, width=10, depth=1, ab_range=0.1, epoch=970\n",
      "Done: four_corners, width=10, depth=1, ab_range=0.2, epoch=620\n",
      "Done: two_blobs_separate, width=10, depth=1, ab_range=0.1, epoch=980\n",
      "Done: four_corners, width=10, depth=1, ab_range=0.2, epoch=630Done: spirals, width=10, depth=1, ab_range=1, epoch=740\n",
      "\n",
      "Done: four_corners, width=10, depth=1, ab_range=0.2, epoch=640\n",
      "\n",
      "Done: two_blobs_separate, width=10, depth=1, ab_range=0.1, epoch=990\n",
      "Done: four_corners, width=10, depth=1, ab_range=0.2, epoch=650Done: spirals, width=10, depth=1, ab_range=1, epoch=750Done: two_blobs_separate, width=10, depth=1, ab_range=0.1, epoch=1000\n",
      "\n",
      "\n",
      "Done: spirals, width=10, depth=1, ab_range=1, epoch=760Done: four_corners, width=10, depth=1, ab_range=0.2, epoch=660\n",
      "Done: spirals, width=10, depth=1, ab_range=1, epoch=770\n",
      "Done: four_corners, width=10, depth=1, ab_range=0.2, epoch=670\n",
      "\n",
      "Done: two_blobs_separate, width=10, depth=1, ab_range=1, epoch=0Done: spirals, width=10, depth=1, ab_range=1, epoch=780\n",
      "\n",
      "Done: four_corners, width=10, depth=1, ab_range=0.2, epoch=680\n",
      "Done: spirals, width=10, depth=1, ab_range=1, epoch=790Done: two_blobs_separate, width=10, depth=1, ab_range=1, epoch=10\n",
      "\n",
      "Done: four_corners, width=10, depth=1, ab_range=0.2, epoch=690\n",
      "Done: two_blobs_separate, width=10, depth=1, ab_range=1, epoch=20Done: spirals, width=10, depth=1, ab_range=1, epoch=800\n",
      "\n",
      "Done: four_corners, width=10, depth=1, ab_range=0.2, epoch=700\n",
      "Done: two_blobs_separate, width=10, depth=1, ab_range=1, epoch=30Done: spirals, width=10, depth=1, ab_range=1, epoch=810\n",
      "\n",
      "Done: four_corners, width=10, depth=1, ab_range=0.2, epoch=710\n",
      "Done: two_blobs_separate, width=10, depth=1, ab_range=1, epoch=40\n",
      "Done: four_corners, width=10, depth=1, ab_range=0.2, epoch=720\n",
      "Done: two_blobs_separate, width=10, depth=1, ab_range=1, epoch=50\n",
      "Done: four_corners, width=10, depth=1, ab_range=0.2, epoch=730\n",
      "Done: two_blobs_separate, width=10, depth=1, ab_range=1, epoch=60\n",
      "Done: four_corners, width=10, depth=1, ab_range=0.2, epoch=740\n",
      "Done: two_blobs_separate, width=10, depth=1, ab_range=1, epoch=70\n",
      "Done: four_corners, width=10, depth=1, ab_range=0.2, epoch=750\n",
      "Done: two_blobs_separate, width=10, depth=1, ab_range=1, epoch=80\n",
      "Done: four_corners, width=10, depth=1, ab_range=0.2, epoch=760\n",
      "Done: two_blobs_separate, width=10, depth=1, ab_range=1, epoch=90\n",
      "Done: spirals, width=10, depth=1, ab_range=1, epoch=820Done: four_corners, width=10, depth=1, ab_range=0.2, epoch=770\n",
      "Done: two_blobs_separate, width=10, depth=1, ab_range=1, epoch=100\n",
      "Done: four_corners, width=10, depth=1, ab_range=0.2, epoch=780\n",
      "\n",
      "Done: spirals, width=10, depth=1, ab_range=1, epoch=830\n",
      "Done: spirals, width=10, depth=1, ab_range=1, epoch=840Done: two_blobs_separate, width=10, depth=1, ab_range=1, epoch=110\n",
      "\n",
      "Done: four_corners, width=10, depth=1, ab_range=0.2, epoch=790\n",
      "Done: spirals, width=10, depth=1, ab_range=1, epoch=850\n",
      "Done: four_corners, width=10, depth=1, ab_range=0.2, epoch=800Done: two_blobs_separate, width=10, depth=1, ab_range=1, epoch=120\n",
      "Done: spirals, width=10, depth=1, ab_range=1, epoch=860\n",
      "\n",
      "Done: four_corners, width=10, depth=1, ab_range=0.2, epoch=810\n",
      "Done: two_blobs_separate, width=10, depth=1, ab_range=1, epoch=130Done: spirals, width=10, depth=1, ab_range=1, epoch=870\n",
      "Done: four_corners, width=10, depth=1, ab_range=0.2, epoch=820Done: two_blobs_separate, width=10, depth=1, ab_range=1, epoch=140\n",
      "\n",
      "Done: spirals, width=10, depth=1, ab_range=1, epoch=880Done: four_corners, width=10, depth=1, ab_range=0.2, epoch=830\n",
      "\n",
      "Done: spirals, width=10, depth=1, ab_range=1, epoch=890\n",
      "Done: four_corners, width=10, depth=1, ab_range=0.2, epoch=840Done: spirals, width=10, depth=1, ab_range=1, epoch=900\n",
      "\n",
      "Done: four_corners, width=10, depth=1, ab_range=0.2, epoch=850\n",
      "Done: spirals, width=10, depth=1, ab_range=1, epoch=910\n",
      "Done: spirals, width=10, depth=1, ab_range=1, epoch=920\n",
      "Done: four_corners, width=10, depth=1, ab_range=0.2, epoch=860\n",
      "Done: spirals, width=10, depth=1, ab_range=1, epoch=930\n",
      "Done: two_blobs_separate, width=10, depth=1, ab_range=1, epoch=150\n",
      "Done: four_corners, width=10, depth=1, ab_range=0.2, epoch=870Done: two_blobs_separate, width=10, depth=1, ab_range=1, epoch=160\n",
      "\n",
      "Done: four_corners, width=10, depth=1, ab_range=0.2, epoch=880\n",
      "\n",
      "Done: two_blobs_separate, width=10, depth=1, ab_range=1, epoch=170\n",
      "Done: spirals, width=10, depth=1, ab_range=1, epoch=940Done: two_blobs_separate, width=10, depth=1, ab_range=1, epoch=180\n",
      "Done: four_corners, width=10, depth=1, ab_range=0.2, epoch=890\n",
      "\n",
      "Done: spirals, width=10, depth=1, ab_range=1, epoch=950\n",
      "Done: two_blobs_separate, width=10, depth=1, ab_range=1, epoch=190Done: spirals, width=10, depth=1, ab_range=1, epoch=960\n",
      "\n",
      "Done: four_corners, width=10, depth=1, ab_range=0.2, epoch=900\n",
      "Done: spirals, width=10, depth=1, ab_range=1, epoch=970\n",
      "Done: two_blobs_separate, width=10, depth=1, ab_range=1, epoch=200Done: four_corners, width=10, depth=1, ab_range=0.2, epoch=910\n",
      "Done: spirals, width=10, depth=1, ab_range=1, epoch=980\n",
      "\n",
      "Done: two_blobs_separate, width=10, depth=1, ab_range=1, epoch=210Done: four_corners, width=10, depth=1, ab_range=0.2, epoch=920Done: spirals, width=10, depth=1, ab_range=1, epoch=990\n",
      "\n",
      "\n",
      "Done: four_corners, width=10, depth=1, ab_range=0.2, epoch=930Done: spirals, width=10, depth=1, ab_range=1, epoch=1000\n",
      "\n",
      "Done: four_corners, width=10, depth=1, ab_range=0.2, epoch=940\n",
      "Done: two_blobs_separate, width=10, depth=1, ab_range=1, epoch=220Done: spirals, width=10, depth=1, ab_range=10, epoch=0Done: four_corners, width=10, depth=1, ab_range=0.2, epoch=950\n",
      "\n",
      "Done: spirals, width=10, depth=1, ab_range=10, epoch=10\n",
      "\n",
      "Done: four_corners, width=10, depth=1, ab_range=0.2, epoch=960\n",
      "Done: spirals, width=10, depth=1, ab_range=10, epoch=20\n",
      "Done: four_corners, width=10, depth=1, ab_range=0.2, epoch=970\n",
      "Done: spirals, width=10, depth=1, ab_range=10, epoch=30\n",
      "Done: spirals, width=10, depth=1, ab_range=10, epoch=40Done: four_corners, width=10, depth=1, ab_range=0.2, epoch=980\n",
      "Done: four_corners, width=10, depth=1, ab_range=0.2, epoch=990Done: two_blobs_separate, width=10, depth=1, ab_range=1, epoch=230\n",
      "\n",
      "\n",
      "Done: spirals, width=10, depth=1, ab_range=10, epoch=50\n",
      "Done: two_blobs_separate, width=10, depth=1, ab_range=1, epoch=240Done: four_corners, width=10, depth=1, ab_range=0.2, epoch=1000\n",
      "\n",
      "Done: spirals, width=10, depth=1, ab_range=10, epoch=60\n",
      "Done: two_blobs_separate, width=10, depth=1, ab_range=1, epoch=250Done: spirals, width=10, depth=1, ab_range=10, epoch=70\n",
      "\n",
      "Done: two_blobs_separate, width=10, depth=1, ab_range=1, epoch=260Done: four_corners, width=10, depth=1, ab_range=0.5, epoch=0Done: spirals, width=10, depth=1, ab_range=10, epoch=80\n",
      "\n",
      "\n",
      "Done: two_blobs_separate, width=10, depth=1, ab_range=1, epoch=270Done: spirals, width=10, depth=1, ab_range=10, epoch=90\n",
      "\n",
      "Done: four_corners, width=10, depth=1, ab_range=0.5, epoch=10Done: two_blobs_separate, width=10, depth=1, ab_range=1, epoch=280Done: spirals, width=10, depth=1, ab_range=10, epoch=100\n",
      "\n",
      "\n",
      "Done: spirals, width=10, depth=1, ab_range=10, epoch=110Done: four_corners, width=10, depth=1, ab_range=0.5, epoch=20\n",
      "\n",
      "Done: spirals, width=10, depth=1, ab_range=10, epoch=120Done: four_corners, width=10, depth=1, ab_range=0.5, epoch=30\n",
      "\n",
      "Done: spirals, width=10, depth=1, ab_range=10, epoch=130Done: four_corners, width=10, depth=1, ab_range=0.5, epoch=40\n",
      "\n",
      "Done: four_corners, width=10, depth=1, ab_range=0.5, epoch=50Done: spirals, width=10, depth=1, ab_range=10, epoch=140Done: two_blobs_separate, width=10, depth=1, ab_range=1, epoch=290\n",
      "\n",
      "Done: two_blobs_separate, width=10, depth=1, ab_range=1, epoch=300\n",
      "Done: spirals, width=10, depth=1, ab_range=10, epoch=150\n",
      "Done: two_blobs_separate, width=10, depth=1, ab_range=1, epoch=310Done: four_corners, width=10, depth=1, ab_range=0.5, epoch=60\n",
      "\n",
      "\n",
      "Done: two_blobs_separate, width=10, depth=1, ab_range=1, epoch=320\n",
      "Done: spirals, width=10, depth=1, ab_range=10, epoch=160\n",
      "Done: two_blobs_separate, width=10, depth=1, ab_range=1, epoch=330Done: four_corners, width=10, depth=1, ab_range=0.5, epoch=70\n",
      "\n",
      "Done: two_blobs_separate, width=10, depth=1, ab_range=1, epoch=340\n",
      "Done: spirals, width=10, depth=1, ab_range=10, epoch=170Done: two_blobs_separate, width=10, depth=1, ab_range=1, epoch=350\n",
      "\n",
      "Done: four_corners, width=10, depth=1, ab_range=0.5, epoch=80Done: two_blobs_separate, width=10, depth=1, ab_range=1, epoch=360\n",
      "Done: spirals, width=10, depth=1, ab_range=10, epoch=180\n",
      "\n",
      "Done: four_corners, width=10, depth=1, ab_range=0.5, epoch=90\n",
      "Done: two_blobs_separate, width=10, depth=1, ab_range=1, epoch=370Done: four_corners, width=10, depth=1, ab_range=0.5, epoch=100Done: spirals, width=10, depth=1, ab_range=10, epoch=190\n",
      "\n",
      "\n",
      "Done: spirals, width=10, depth=1, ab_range=10, epoch=200Done: four_corners, width=10, depth=1, ab_range=0.5, epoch=110Done: two_blobs_separate, width=10, depth=1, ab_range=1, epoch=380\n",
      "\n",
      "\n",
      "Done: spirals, width=10, depth=1, ab_range=10, epoch=210Done: four_corners, width=10, depth=1, ab_range=0.5, epoch=120\n",
      "\n",
      "Done: spirals, width=10, depth=1, ab_range=10, epoch=220\n",
      "Done: two_blobs_separate, width=10, depth=1, ab_range=1, epoch=390\n",
      "Done: spirals, width=10, depth=1, ab_range=10, epoch=230\n",
      "Done: four_corners, width=10, depth=1, ab_range=0.5, epoch=130Done: spirals, width=10, depth=1, ab_range=10, epoch=240Done: two_blobs_separate, width=10, depth=1, ab_range=1, epoch=400\n",
      "\n",
      "Done: spirals, width=10, depth=1, ab_range=10, epoch=250Done: two_blobs_separate, width=10, depth=1, ab_range=1, epoch=410\n",
      "Done: spirals, width=10, depth=1, ab_range=10, epoch=260\n",
      "Done: spirals, width=10, depth=1, ab_range=10, epoch=270\n",
      "\n",
      "Done: spirals, width=10, depth=1, ab_range=10, epoch=280Done: four_corners, width=10, depth=1, ab_range=0.5, epoch=140\n",
      "\n",
      "Done: spirals, width=10, depth=1, ab_range=10, epoch=290Done: two_blobs_separate, width=10, depth=1, ab_range=1, epoch=420\n",
      "\n",
      "\n",
      "Done: four_corners, width=10, depth=1, ab_range=0.5, epoch=150\n",
      "Done: two_blobs_separate, width=10, depth=1, ab_range=1, epoch=430Done: four_corners, width=10, depth=1, ab_range=0.5, epoch=160\n",
      "Done: two_blobs_separate, width=10, depth=1, ab_range=1, epoch=440\n",
      "Done: two_blobs_separate, width=10, depth=1, ab_range=1, epoch=450\n",
      "Done: spirals, width=10, depth=1, ab_range=10, epoch=300Done: two_blobs_separate, width=10, depth=1, ab_range=1, epoch=460\n",
      "\n",
      "\n",
      "Done: spirals, width=10, depth=1, ab_range=10, epoch=310Done: four_corners, width=10, depth=1, ab_range=0.5, epoch=170Done: two_blobs_separate, width=10, depth=1, ab_range=1, epoch=470\n",
      "\n",
      "\n",
      "Done: two_blobs_separate, width=10, depth=1, ab_range=1, epoch=480Done: spirals, width=10, depth=1, ab_range=10, epoch=320Done: four_corners, width=10, depth=1, ab_range=0.5, epoch=180\n",
      "\n",
      "\n",
      "Done: four_corners, width=10, depth=1, ab_range=0.5, epoch=190Done: two_blobs_separate, width=10, depth=1, ab_range=1, epoch=490Done: spirals, width=10, depth=1, ab_range=10, epoch=330\n",
      "\n",
      "\n",
      "Done: spirals, width=10, depth=1, ab_range=10, epoch=340Done: four_corners, width=10, depth=1, ab_range=0.5, epoch=200\n",
      "\n",
      "Done: two_blobs_separate, width=10, depth=1, ab_range=1, epoch=500Done: spirals, width=10, depth=1, ab_range=10, epoch=350\n",
      "Done: spirals, width=10, depth=1, ab_range=10, epoch=360Done: four_corners, width=10, depth=1, ab_range=0.5, epoch=210\n",
      "\n",
      "Done: spirals, width=10, depth=1, ab_range=10, epoch=370\n",
      "Done: spirals, width=10, depth=1, ab_range=10, epoch=380\n",
      "\n",
      "Done: spirals, width=10, depth=1, ab_range=10, epoch=390Done: four_corners, width=10, depth=1, ab_range=0.5, epoch=220Done: two_blobs_separate, width=10, depth=1, ab_range=1, epoch=510\n",
      "\n",
      "Done: spirals, width=10, depth=1, ab_range=10, epoch=400Done: four_corners, width=10, depth=1, ab_range=0.5, epoch=230\n",
      "\n",
      "\n",
      "Done: four_corners, width=10, depth=1, ab_range=0.5, epoch=240Done: two_blobs_separate, width=10, depth=1, ab_range=1, epoch=520Done: spirals, width=10, depth=1, ab_range=10, epoch=410\n",
      "\n",
      "Done: spirals, width=10, depth=1, ab_range=10, epoch=420Done: four_corners, width=10, depth=1, ab_range=0.5, epoch=250\n",
      "\n",
      "Done: four_corners, width=10, depth=1, ab_range=0.5, epoch=260Done: spirals, width=10, depth=1, ab_range=10, epoch=430\n",
      "\n",
      "\n",
      "Done: two_blobs_separate, width=10, depth=1, ab_range=1, epoch=530\n",
      "Done: spirals, width=10, depth=1, ab_range=10, epoch=440Done: four_corners, width=10, depth=1, ab_range=0.5, epoch=270\n",
      "\n",
      "Done: two_blobs_separate, width=10, depth=1, ab_range=1, epoch=540Done: spirals, width=10, depth=1, ab_range=10, epoch=450\n",
      "Done: four_corners, width=10, depth=1, ab_range=0.5, epoch=280\n",
      "Done: two_blobs_separate, width=10, depth=1, ab_range=1, epoch=550Done: four_corners, width=10, depth=1, ab_range=0.5, epoch=290\n",
      "\n",
      "\n",
      "Done: spirals, width=10, depth=1, ab_range=10, epoch=460\n",
      "Done: four_corners, width=10, depth=1, ab_range=0.5, epoch=300Done: two_blobs_separate, width=10, depth=1, ab_range=1, epoch=560\n",
      "\n",
      "Done: spirals, width=10, depth=1, ab_range=10, epoch=470Done: four_corners, width=10, depth=1, ab_range=0.5, epoch=310Done: two_blobs_separate, width=10, depth=1, ab_range=1, epoch=570\n",
      "\n",
      "Done: two_blobs_separate, width=10, depth=1, ab_range=1, epoch=580\n",
      "\n",
      "Done: spirals, width=10, depth=1, ab_range=10, epoch=480\n",
      "Done: two_blobs_separate, width=10, depth=1, ab_range=1, epoch=590Done: four_corners, width=10, depth=1, ab_range=0.5, epoch=320\n",
      "\n",
      "Done: spirals, width=10, depth=1, ab_range=10, epoch=490Done: two_blobs_separate, width=10, depth=1, ab_range=1, epoch=600\n",
      "\n",
      "Done: four_corners, width=10, depth=1, ab_range=0.5, epoch=330Done: spirals, width=10, depth=1, ab_range=10, epoch=500Done: two_blobs_separate, width=10, depth=1, ab_range=1, epoch=610\n",
      "\n",
      "\n",
      "Done: two_blobs_separate, width=10, depth=1, ab_range=1, epoch=620\n",
      "Done: spirals, width=10, depth=1, ab_range=10, epoch=510Done: four_corners, width=10, depth=1, ab_range=0.5, epoch=340Done: two_blobs_separate, width=10, depth=1, ab_range=1, epoch=630\n",
      "\n",
      "\n",
      "Done: four_corners, width=10, depth=1, ab_range=0.5, epoch=350Done: spirals, width=10, depth=1, ab_range=10, epoch=520\n",
      "Done: four_corners, width=10, depth=1, ab_range=0.5, epoch=360\n",
      "\n",
      "Done: four_corners, width=10, depth=1, ab_range=0.5, epoch=370Done: spirals, width=10, depth=1, ab_range=10, epoch=530\n",
      "Done: two_blobs_separate, width=10, depth=1, ab_range=1, epoch=640\n",
      "Done: two_blobs_separate, width=10, depth=1, ab_range=1, epoch=650\n",
      "Done: four_corners, width=10, depth=1, ab_range=0.5, epoch=380\n",
      "\n",
      "Done: two_blobs_separate, width=10, depth=1, ab_range=1, epoch=660Done: spirals, width=10, depth=1, ab_range=10, epoch=540\n",
      "Done: four_corners, width=10, depth=1, ab_range=0.5, epoch=390\n",
      "\n",
      "Done: four_corners, width=10, depth=1, ab_range=0.5, epoch=400\n",
      "Done: spirals, width=10, depth=1, ab_range=10, epoch=550Done: four_corners, width=10, depth=1, ab_range=0.5, epoch=410\n",
      "Done: four_corners, width=10, depth=1, ab_range=0.5, epoch=420Done: two_blobs_separate, width=10, depth=1, ab_range=1, epoch=670\n",
      "\n",
      "Done: two_blobs_separate, width=10, depth=1, ab_range=1, epoch=680\n",
      "Done: four_corners, width=10, depth=1, ab_range=0.5, epoch=430\n",
      "\n",
      "Done: two_blobs_separate, width=10, depth=1, ab_range=1, epoch=690Done: spirals, width=10, depth=1, ab_range=10, epoch=560\n",
      "\n",
      "Done: spirals, width=10, depth=1, ab_range=10, epoch=570\n",
      "Done: two_blobs_separate, width=10, depth=1, ab_range=1, epoch=700Done: four_corners, width=10, depth=1, ab_range=0.5, epoch=440\n",
      "Done: spirals, width=10, depth=1, ab_range=10, epoch=580\n",
      "Done: two_blobs_separate, width=10, depth=1, ab_range=1, epoch=710Done: four_corners, width=10, depth=1, ab_range=0.5, epoch=450\n",
      "\n",
      "Done: four_corners, width=10, depth=1, ab_range=0.5, epoch=460Done: two_blobs_separate, width=10, depth=1, ab_range=1, epoch=720\n",
      "\n",
      "\n",
      "Done: two_blobs_separate, width=10, depth=1, ab_range=1, epoch=730\n",
      "Done: two_blobs_separate, width=10, depth=1, ab_range=1, epoch=740Done: spirals, width=10, depth=1, ab_range=10, epoch=590\n",
      "\n",
      "Done: two_blobs_separate, width=10, depth=1, ab_range=1, epoch=750\n",
      "Done: four_corners, width=10, depth=1, ab_range=0.5, epoch=470Done: two_blobs_separate, width=10, depth=1, ab_range=1, epoch=760\n",
      "\n",
      "Done: two_blobs_separate, width=10, depth=1, ab_range=1, epoch=770Done: four_corners, width=10, depth=1, ab_range=0.5, epoch=480\n",
      "\n",
      "Done: spirals, width=10, depth=1, ab_range=10, epoch=600Done: two_blobs_separate, width=10, depth=1, ab_range=1, epoch=780Done: four_corners, width=10, depth=1, ab_range=0.5, epoch=490\n",
      "\n",
      "Done: two_blobs_separate, width=10, depth=1, ab_range=1, epoch=790Done: spirals, width=10, depth=1, ab_range=10, epoch=610\n",
      "\n",
      "\n",
      "Done: four_corners, width=10, depth=1, ab_range=0.5, epoch=500Done: two_blobs_separate, width=10, depth=1, ab_range=1, epoch=800Done: spirals, width=10, depth=1, ab_range=10, epoch=620\n",
      "\n",
      "\n",
      "Done: four_corners, width=10, depth=1, ab_range=0.5, epoch=510Done: two_blobs_separate, width=10, depth=1, ab_range=1, epoch=810Done: spirals, width=10, depth=1, ab_range=10, epoch=630\n",
      "\n",
      "\n",
      "Done: spirals, width=10, depth=1, ab_range=10, epoch=640Done: four_corners, width=10, depth=1, ab_range=0.5, epoch=520Done: two_blobs_separate, width=10, depth=1, ab_range=1, epoch=820\n",
      "\n",
      "\n",
      "Done: spirals, width=10, depth=1, ab_range=10, epoch=650Done: two_blobs_separate, width=10, depth=1, ab_range=1, epoch=830Done: four_corners, width=10, depth=1, ab_range=0.5, epoch=530\n",
      "\n",
      "\n",
      "Done: spirals, width=10, depth=1, ab_range=10, epoch=660Done: two_blobs_separate, width=10, depth=1, ab_range=1, epoch=840Done: four_corners, width=10, depth=1, ab_range=0.5, epoch=540\n",
      "\n",
      "\n",
      "Done: four_corners, width=10, depth=1, ab_range=0.5, epoch=550Done: spirals, width=10, depth=1, ab_range=10, epoch=670Done: two_blobs_separate, width=10, depth=1, ab_range=1, epoch=850\n",
      "\n",
      "\n",
      "Done: four_corners, width=10, depth=1, ab_range=0.5, epoch=560Done: two_blobs_separate, width=10, depth=1, ab_range=1, epoch=860Done: spirals, width=10, depth=1, ab_range=10, epoch=680\n",
      "\n",
      "\n",
      "Done: two_blobs_separate, width=10, depth=1, ab_range=1, epoch=870\n",
      "Done: spirals, width=10, depth=1, ab_range=10, epoch=690\n",
      "Done: two_blobs_separate, width=10, depth=1, ab_range=1, epoch=880Done: spirals, width=10, depth=1, ab_range=10, epoch=700\n",
      "\n",
      "Done: spirals, width=10, depth=1, ab_range=10, epoch=710\n",
      "Done: spirals, width=10, depth=1, ab_range=10, epoch=720\n",
      "Done: spirals, width=10, depth=1, ab_range=10, epoch=730\n",
      "Done: four_corners, width=10, depth=1, ab_range=0.5, epoch=570\n",
      "Done: spirals, width=10, depth=1, ab_range=10, epoch=740\n",
      "Done: two_blobs_separate, width=10, depth=1, ab_range=1, epoch=890Done: four_corners, width=10, depth=1, ab_range=0.5, epoch=580\n",
      "Done: spirals, width=10, depth=1, ab_range=10, epoch=750\n",
      "Done: four_corners, width=10, depth=1, ab_range=0.5, epoch=590\n",
      "Done: spirals, width=10, depth=1, ab_range=10, epoch=760\n",
      "Done: four_corners, width=10, depth=1, ab_range=0.5, epoch=600Done: spirals, width=10, depth=1, ab_range=10, epoch=770\n",
      "Done: spirals, width=10, depth=1, ab_range=10, epoch=780\n",
      "\n",
      "Done: spirals, width=10, depth=1, ab_range=10, epoch=790\n",
      "\n",
      "Done: two_blobs_separate, width=10, depth=1, ab_range=1, epoch=900Done: four_corners, width=10, depth=1, ab_range=0.5, epoch=610Done: spirals, width=10, depth=1, ab_range=10, epoch=800\n",
      "\n",
      "\n",
      "Done: four_corners, width=10, depth=1, ab_range=0.5, epoch=620Done: two_blobs_separate, width=10, depth=1, ab_range=1, epoch=910Done: spirals, width=10, depth=1, ab_range=10, epoch=810\n",
      "\n",
      "\n",
      "Done: four_corners, width=10, depth=1, ab_range=0.5, epoch=630Done: spirals, width=10, depth=1, ab_range=10, epoch=820Done: two_blobs_separate, width=10, depth=1, ab_range=1, epoch=920\n",
      "\n",
      "\n",
      "Done: four_corners, width=10, depth=1, ab_range=0.5, epoch=640Done: two_blobs_separate, width=10, depth=1, ab_range=1, epoch=930\n",
      "\n",
      "Done: four_corners, width=10, depth=1, ab_range=0.5, epoch=650\n",
      "Done: four_corners, width=10, depth=1, ab_range=0.5, epoch=660Done: spirals, width=10, depth=1, ab_range=10, epoch=830Done: two_blobs_separate, width=10, depth=1, ab_range=1, epoch=940\n",
      "\n",
      "\n",
      "Done: four_corners, width=10, depth=1, ab_range=0.5, epoch=670Done: two_blobs_separate, width=10, depth=1, ab_range=1, epoch=950\n",
      "\n",
      "Done: spirals, width=10, depth=1, ab_range=10, epoch=840Done: four_corners, width=10, depth=1, ab_range=0.5, epoch=680\n",
      "Done: two_blobs_separate, width=10, depth=1, ab_range=1, epoch=960\n",
      "Done: spirals, width=10, depth=1, ab_range=10, epoch=850Done: two_blobs_separate, width=10, depth=1, ab_range=1, epoch=970\n",
      "\n",
      "Done: spirals, width=10, depth=1, ab_range=10, epoch=860Done: two_blobs_separate, width=10, depth=1, ab_range=1, epoch=980\n",
      "\n",
      "Done: spirals, width=10, depth=1, ab_range=10, epoch=870Done: two_blobs_separate, width=10, depth=1, ab_range=1, epoch=990\n",
      "\n",
      "\n",
      "Done: two_blobs_separate, width=10, depth=1, ab_range=1, epoch=1000Done: spirals, width=10, depth=1, ab_range=10, epoch=880Done: four_corners, width=10, depth=1, ab_range=0.5, epoch=690\n",
      "\n",
      "\n",
      "Done: two_blobs_separate, width=10, depth=1, ab_range=10, epoch=0Done: four_corners, width=10, depth=1, ab_range=0.5, epoch=700\n",
      "\n",
      "Done: four_corners, width=10, depth=1, ab_range=0.5, epoch=710Done: two_blobs_separate, width=10, depth=1, ab_range=10, epoch=10Done: spirals, width=10, depth=1, ab_range=10, epoch=890\n",
      "\n",
      "\n",
      "Done: four_corners, width=10, depth=1, ab_range=0.5, epoch=720Done: spirals, width=10, depth=1, ab_range=10, epoch=900Done: two_blobs_separate, width=10, depth=1, ab_range=10, epoch=20\n",
      "\n",
      "\n",
      "Done: four_corners, width=10, depth=1, ab_range=0.5, epoch=730Done: spirals, width=10, depth=1, ab_range=10, epoch=910Done: two_blobs_separate, width=10, depth=1, ab_range=10, epoch=30\n",
      "\n",
      "Done: spirals, width=10, depth=1, ab_range=10, epoch=920\n",
      "\n",
      "Done: four_corners, width=10, depth=1, ab_range=0.5, epoch=740\n",
      "Done: two_blobs_separate, width=10, depth=1, ab_range=10, epoch=40\n",
      "Done: four_corners, width=10, depth=1, ab_range=0.5, epoch=750Done: spirals, width=10, depth=1, ab_range=10, epoch=930\n",
      "Done: two_blobs_separate, width=10, depth=1, ab_range=10, epoch=50\n",
      "\n",
      "Done: two_blobs_separate, width=10, depth=1, ab_range=10, epoch=60Done: spirals, width=10, depth=1, ab_range=10, epoch=940Done: four_corners, width=10, depth=1, ab_range=0.5, epoch=760\n",
      "\n",
      "Done: two_blobs_separate, width=10, depth=1, ab_range=10, epoch=70\n",
      "Done: four_corners, width=10, depth=1, ab_range=0.5, epoch=770\n",
      "\n",
      "Done: spirals, width=10, depth=1, ab_range=10, epoch=950\n",
      "Done: two_blobs_separate, width=10, depth=1, ab_range=10, epoch=80Done: spirals, width=10, depth=1, ab_range=10, epoch=960Done: four_corners, width=10, depth=1, ab_range=0.5, epoch=780\n",
      "\n",
      "\n",
      "Done: spirals, width=10, depth=1, ab_range=10, epoch=970\n",
      "Done: two_blobs_separate, width=10, depth=1, ab_range=10, epoch=90Done: four_corners, width=10, depth=1, ab_range=0.5, epoch=790\n",
      "\n",
      "Done: two_blobs_separate, width=10, depth=1, ab_range=10, epoch=100Done: spirals, width=10, depth=1, ab_range=10, epoch=980Done: four_corners, width=10, depth=1, ab_range=0.5, epoch=800\n",
      "\n",
      "\n",
      "Done: spirals, width=10, depth=1, ab_range=10, epoch=990Done: four_corners, width=10, depth=1, ab_range=0.5, epoch=810\n",
      "\n",
      "Done: spirals, width=10, depth=1, ab_range=10, epoch=1000Done: two_blobs_separate, width=10, depth=1, ab_range=10, epoch=110\n",
      "\n",
      "Done: four_corners, width=10, depth=1, ab_range=0.5, epoch=820Done: spirals, width=10, depth=1, ab_range=2, epoch=0\n",
      "Done: two_blobs_separate, width=10, depth=1, ab_range=10, epoch=120\n",
      "\n",
      "Done: four_corners, width=10, depth=1, ab_range=0.5, epoch=830\n",
      "Done: two_blobs_separate, width=10, depth=1, ab_range=10, epoch=130Done: four_corners, width=10, depth=1, ab_range=0.5, epoch=840Done: spirals, width=10, depth=1, ab_range=2, epoch=10\n",
      "\n",
      "\n",
      "Done: four_corners, width=10, depth=1, ab_range=0.5, epoch=850Done: two_blobs_separate, width=10, depth=1, ab_range=10, epoch=140\n",
      "Done: spirals, width=10, depth=1, ab_range=2, epoch=20\n",
      "\n",
      "Done: two_blobs_separate, width=10, depth=1, ab_range=10, epoch=150Done: four_corners, width=10, depth=1, ab_range=0.5, epoch=860Done: spirals, width=10, depth=1, ab_range=2, epoch=30\n",
      "\n",
      "\n",
      "Done: spirals, width=10, depth=1, ab_range=2, epoch=40Done: four_corners, width=10, depth=1, ab_range=0.5, epoch=870\n",
      "\n",
      "Done: four_corners, width=10, depth=1, ab_range=0.5, epoch=880\n",
      "Done: spirals, width=10, depth=1, ab_range=2, epoch=50Done: two_blobs_separate, width=10, depth=1, ab_range=10, epoch=160\n",
      "Done: four_corners, width=10, depth=1, ab_range=0.5, epoch=890\n",
      "Done: spirals, width=10, depth=1, ab_range=2, epoch=60\n",
      "\n",
      "Done: spirals, width=10, depth=1, ab_range=2, epoch=70\n",
      "Done: four_corners, width=10, depth=1, ab_range=0.5, epoch=900\n",
      "Done: spirals, width=10, depth=1, ab_range=2, epoch=80Done: four_corners, width=10, depth=1, ab_range=0.5, epoch=910\n",
      "\n",
      "Done: spirals, width=10, depth=1, ab_range=2, epoch=90Done: two_blobs_separate, width=10, depth=1, ab_range=10, epoch=170\n",
      "Done: four_corners, width=10, depth=1, ab_range=0.5, epoch=920\n",
      "Done: spirals, width=10, depth=1, ab_range=2, epoch=100\n",
      "\n",
      "Done: two_blobs_separate, width=10, depth=1, ab_range=10, epoch=180\n",
      "Done: spirals, width=10, depth=1, ab_range=2, epoch=110\n",
      "Done: two_blobs_separate, width=10, depth=1, ab_range=10, epoch=190\n",
      "Done: two_blobs_separate, width=10, depth=1, ab_range=10, epoch=200Done: spirals, width=10, depth=1, ab_range=2, epoch=120Done: four_corners, width=10, depth=1, ab_range=0.5, epoch=930\n",
      "\n",
      "Done: two_blobs_separate, width=10, depth=1, ab_range=10, epoch=210\n",
      "\n",
      "Done: spirals, width=10, depth=1, ab_range=2, epoch=130\n",
      "Done: four_corners, width=10, depth=1, ab_range=0.5, epoch=940Done: two_blobs_separate, width=10, depth=1, ab_range=10, epoch=220Done: spirals, width=10, depth=1, ab_range=2, epoch=140\n",
      "\n",
      "\n",
      "Done: four_corners, width=10, depth=1, ab_range=0.5, epoch=950Done: spirals, width=10, depth=1, ab_range=2, epoch=150Done: two_blobs_separate, width=10, depth=1, ab_range=10, epoch=230\n",
      "\n",
      "Done: spirals, width=10, depth=1, ab_range=2, epoch=160Done: four_corners, width=10, depth=1, ab_range=0.5, epoch=960\n",
      "Done: spirals, width=10, depth=1, ab_range=2, epoch=170\n",
      "Done: spirals, width=10, depth=1, ab_range=2, epoch=180\n",
      "Done: spirals, width=10, depth=1, ab_range=2, epoch=190\n",
      "Done: spirals, width=10, depth=1, ab_range=2, epoch=200\n",
      "\n",
      "Done: spirals, width=10, depth=1, ab_range=2, epoch=210Done: two_blobs_separate, width=10, depth=1, ab_range=10, epoch=240\n",
      "Done: spirals, width=10, depth=1, ab_range=2, epoch=220\n",
      "\n",
      "Done: two_blobs_separate, width=10, depth=1, ab_range=10, epoch=250Done: spirals, width=10, depth=1, ab_range=2, epoch=230\n",
      "\n",
      "Done: two_blobs_separate, width=10, depth=1, ab_range=10, epoch=260Done: spirals, width=10, depth=1, ab_range=2, epoch=240\n",
      "\n",
      "Done: two_blobs_separate, width=10, depth=1, ab_range=10, epoch=270Done: spirals, width=10, depth=1, ab_range=2, epoch=250\n",
      "\n",
      "\n",
      "Done: two_blobs_separate, width=10, depth=1, ab_range=10, epoch=280Done: spirals, width=10, depth=1, ab_range=2, epoch=260\n",
      "\n",
      "Done: spirals, width=10, depth=1, ab_range=2, epoch=270Done: two_blobs_separate, width=10, depth=1, ab_range=10, epoch=290\n",
      "\n",
      "Done: spirals, width=10, depth=1, ab_range=2, epoch=280\n",
      "Done: two_blobs_separate, width=10, depth=1, ab_range=10, epoch=300Done: spirals, width=10, depth=1, ab_range=2, epoch=290Done: four_corners, width=10, depth=1, ab_range=0.5, epoch=970\n",
      "\n",
      "\n",
      "Done: spirals, width=10, depth=1, ab_range=2, epoch=300Done: two_blobs_separate, width=10, depth=1, ab_range=10, epoch=310Done: four_corners, width=10, depth=1, ab_range=0.5, epoch=980\n",
      "\n",
      "\n",
      "Done: spirals, width=10, depth=1, ab_range=2, epoch=310Done: two_blobs_separate, width=10, depth=1, ab_range=10, epoch=320Done: four_corners, width=10, depth=1, ab_range=0.5, epoch=990\n",
      "\n",
      "\n",
      "Done: spirals, width=10, depth=1, ab_range=2, epoch=320Done: four_corners, width=10, depth=1, ab_range=0.5, epoch=1000\n",
      "\n",
      "Done: two_blobs_separate, width=10, depth=1, ab_range=10, epoch=330Done: spirals, width=10, depth=1, ab_range=2, epoch=330\n",
      "\n",
      "Done: two_blobs_separate, width=10, depth=2, ab_range=0.1, epoch=0\n",
      "Done: two_blobs_separate, width=10, depth=1, ab_range=10, epoch=340Done: spirals, width=10, depth=1, ab_range=2, epoch=340\n",
      "Done: two_blobs_separate, width=10, depth=2, ab_range=0.1, epoch=10\n",
      "Done: two_blobs_separate, width=10, depth=2, ab_range=0.1, epoch=20Done: spirals, width=10, depth=1, ab_range=2, epoch=350\n",
      "\n",
      "\n",
      "Done: two_blobs_separate, width=10, depth=2, ab_range=0.1, epoch=30\n",
      "Done: two_blobs_separate, width=10, depth=2, ab_range=0.1, epoch=40\n",
      "Done: spirals, width=10, depth=1, ab_range=2, epoch=360Done: two_blobs_separate, width=10, depth=2, ab_range=0.1, epoch=50Done: two_blobs_separate, width=10, depth=1, ab_range=10, epoch=350\n",
      "\n",
      "Done: spirals, width=10, depth=1, ab_range=2, epoch=370Done: two_blobs_separate, width=10, depth=1, ab_range=10, epoch=360\n",
      "\n",
      "\n",
      "Done: two_blobs_separate, width=10, depth=2, ab_range=0.1, epoch=60Done: spirals, width=10, depth=1, ab_range=2, epoch=380\n",
      "Done: two_blobs_separate, width=10, depth=1, ab_range=10, epoch=370\n",
      "Done: two_blobs_separate, width=10, depth=1, ab_range=10, epoch=380\n",
      "\n",
      "Done: two_blobs_separate, width=10, depth=1, ab_range=10, epoch=390Done: spirals, width=10, depth=1, ab_range=2, epoch=390\n",
      "Done: two_blobs_separate, width=10, depth=2, ab_range=0.1, epoch=70\n",
      "\n",
      "Done: two_blobs_separate, width=10, depth=1, ab_range=10, epoch=400\n",
      "Done: two_blobs_separate, width=10, depth=1, ab_range=10, epoch=410Done: two_blobs_separate, width=10, depth=2, ab_range=0.1, epoch=80Done: spirals, width=10, depth=1, ab_range=2, epoch=400\n",
      "\n",
      "Done: two_blobs_separate, width=10, depth=2, ab_range=0.1, epoch=90Done: spirals, width=10, depth=1, ab_range=2, epoch=410\n",
      "\n",
      "Done: two_blobs_separate, width=10, depth=2, ab_range=0.1, epoch=100\n",
      "\n",
      "Done: two_blobs_separate, width=10, depth=1, ab_range=10, epoch=420Done: two_blobs_separate, width=10, depth=2, ab_range=0.1, epoch=110Done: spirals, width=10, depth=1, ab_range=2, epoch=420\n",
      "\n",
      "\n",
      "Done: two_blobs_separate, width=10, depth=2, ab_range=0.1, epoch=120Done: two_blobs_separate, width=10, depth=1, ab_range=10, epoch=430\n",
      "\n",
      "Done: two_blobs_separate, width=10, depth=1, ab_range=10, epoch=440Done: spirals, width=10, depth=1, ab_range=2, epoch=430Done: two_blobs_separate, width=10, depth=2, ab_range=0.1, epoch=130\n",
      "\n",
      "Done: two_blobs_separate, width=10, depth=2, ab_range=0.1, epoch=140Done: two_blobs_separate, width=10, depth=1, ab_range=10, epoch=450\n",
      "Done: spirals, width=10, depth=1, ab_range=2, epoch=440\n",
      "\n",
      "Done: spirals, width=10, depth=1, ab_range=2, epoch=450"
     ]
    },
    {
     "name": "stderr",
     "output_type": "stream",
     "text": [
      "Outer loop (a):   1%|          | 1/100 [00:00<00:47,  2.08it/s]"
     ]
    },
    {
     "name": "stdout",
     "output_type": "stream",
     "text": [
      "\n",
      "Done: two_blobs_separate, width=10, depth=1, ab_range=10, epoch=460Done: two_blobs_separate, width=10, depth=2, ab_range=0.1, epoch=150\n",
      "\n",
      "Done: two_blobs_separate, width=10, depth=1, ab_range=10, epoch=470Done: two_blobs_separate, width=10, depth=2, ab_range=0.1, epoch=160\n",
      "\n",
      "Done: two_blobs_separate, width=10, depth=1, ab_range=10, epoch=480Done: two_blobs_separate, width=10, depth=2, ab_range=0.1, epoch=170\n",
      "\n",
      "Done: two_blobs_separate, width=10, depth=2, ab_range=0.1, epoch=180Done: two_blobs_separate, width=10, depth=1, ab_range=10, epoch=490\n",
      "\n",
      "\n",
      "Done: spirals, width=10, depth=1, ab_range=2, epoch=460Done: two_blobs_separate, width=10, depth=1, ab_range=10, epoch=500\n",
      "\n",
      "Done: spirals, width=10, depth=1, ab_range=2, epoch=470Done: two_blobs_separate, width=10, depth=1, ab_range=10, epoch=510Done: two_blobs_separate, width=10, depth=2, ab_range=0.1, epoch=190\n",
      "\n",
      "Done: two_blobs_separate, width=10, depth=1, ab_range=10, epoch=520\n",
      "Done: two_blobs_separate, width=10, depth=2, ab_range=0.1, epoch=200\n",
      "Done: two_blobs_separate, width=10, depth=1, ab_range=10, epoch=530\n",
      "\n",
      "Done: two_blobs_separate, width=10, depth=1, ab_range=10, epoch=540Done: spirals, width=10, depth=1, ab_range=2, epoch=480Done: two_blobs_separate, width=10, depth=2, ab_range=0.1, epoch=210\n",
      "\n",
      "Done: spirals, width=10, depth=1, ab_range=2, epoch=490Done: two_blobs_separate, width=10, depth=1, ab_range=10, epoch=550\n",
      "\n",
      "Done: spirals, width=10, depth=1, ab_range=2, epoch=500Done: two_blobs_separate, width=10, depth=2, ab_range=0.1, epoch=220\n",
      "\n",
      "Done: two_blobs_separate, width=10, depth=2, ab_range=0.1, epoch=230\n",
      "\n",
      "Done: two_blobs_separate, width=10, depth=1, ab_range=10, epoch=560Done: spirals, width=10, depth=1, ab_range=2, epoch=510Done: two_blobs_separate, width=10, depth=2, ab_range=0.1, epoch=240\n",
      "\n",
      "\n",
      "Done: two_blobs_separate, width=10, depth=1, ab_range=10, epoch=570Done: two_blobs_separate, width=10, depth=2, ab_range=0.1, epoch=250\n",
      "Done: two_blobs_separate, width=10, depth=1, ab_range=10, epoch=580Done: spirals, width=10, depth=1, ab_range=2, epoch=520\n",
      "\n",
      "Done: two_blobs_separate, width=10, depth=2, ab_range=0.1, epoch=260Done: spirals, width=10, depth=1, ab_range=2, epoch=530\n",
      "\n",
      "\n",
      "Done: two_blobs_separate, width=10, depth=2, ab_range=0.1, epoch=270\n",
      "Done: spirals, width=10, depth=1, ab_range=2, epoch=540Done: two_blobs_separate, width=10, depth=2, ab_range=0.1, epoch=280\n",
      "Done: two_blobs_separate, width=10, depth=1, ab_range=10, epoch=590\n",
      "Done: two_blobs_separate, width=10, depth=2, ab_range=0.1, epoch=290\n",
      "\n",
      "Done: two_blobs_separate, width=10, depth=1, ab_range=10, epoch=600Done: two_blobs_separate, width=10, depth=2, ab_range=0.1, epoch=300\n",
      "\n",
      "Done: two_blobs_separate, width=10, depth=1, ab_range=10, epoch=610Done: two_blobs_separate, width=10, depth=2, ab_range=0.1, epoch=310Done: spirals, width=10, depth=1, ab_range=2, epoch=550\n",
      "\n",
      "\n",
      "Done: two_blobs_separate, width=10, depth=1, ab_range=10, epoch=620Done: spirals, width=10, depth=1, ab_range=2, epoch=560Done: two_blobs_separate, width=10, depth=2, ab_range=0.1, epoch=320\n",
      "Done: spirals, width=10, depth=1, ab_range=2, epoch=570\n",
      "\n",
      "Done: two_blobs_separate, width=10, depth=2, ab_range=0.1, epoch=330Done: spirals, width=10, depth=1, ab_range=2, epoch=580\n",
      "Done: spirals, width=10, depth=1, ab_range=2, epoch=590\n",
      "\n",
      "Done: spirals, width=10, depth=1, ab_range=2, epoch=600\n",
      "Done: two_blobs_separate, width=10, depth=2, ab_range=0.1, epoch=340\n",
      "\n",
      "Done: two_blobs_separate, width=10, depth=1, ab_range=10, epoch=630Done: spirals, width=10, depth=1, ab_range=2, epoch=610\n",
      "\n",
      "Done: two_blobs_separate, width=10, depth=2, ab_range=0.1, epoch=350\n",
      "Done: spirals, width=10, depth=1, ab_range=2, epoch=620Done: two_blobs_separate, width=10, depth=2, ab_range=0.1, epoch=360Done: two_blobs_separate, width=10, depth=1, ab_range=10, epoch=640\n",
      "\n",
      "Done: two_blobs_separate, width=10, depth=1, ab_range=10, epoch=650\n",
      "Done: two_blobs_separate, width=10, depth=1, ab_range=10, epoch=660\n",
      "Done: two_blobs_separate, width=10, depth=2, ab_range=0.1, epoch=370\n",
      "Done: spirals, width=10, depth=1, ab_range=2, epoch=630\n",
      "Done: two_blobs_separate, width=10, depth=2, ab_range=0.1, epoch=380\n",
      "\n",
      "Done: two_blobs_separate, width=10, depth=2, ab_range=0.1, epoch=390\n",
      "Done: two_blobs_separate, width=10, depth=2, ab_range=0.1, epoch=400\n",
      "Done: two_blobs_separate, width=10, depth=1, ab_range=10, epoch=670Done: two_blobs_separate, width=10, depth=2, ab_range=0.1, epoch=410\n",
      "Done: spirals, width=10, depth=1, ab_range=2, epoch=640\n",
      "\n",
      "Done: spirals, width=10, depth=1, ab_range=2, epoch=650Done: two_blobs_separate, width=10, depth=1, ab_range=10, epoch=680\n",
      "\n",
      "Done: spirals, width=10, depth=1, ab_range=2, epoch=660\n",
      "Done: two_blobs_separate, width=10, depth=1, ab_range=10, epoch=690\n",
      "Done: two_blobs_separate, width=10, depth=1, ab_range=10, epoch=700Done: spirals, width=10, depth=1, ab_range=2, epoch=670\n",
      "\n",
      "Done: two_blobs_separate, width=10, depth=1, ab_range=10, epoch=710Done: spirals, width=10, depth=1, ab_range=2, epoch=680\n",
      "\n",
      "Done: two_blobs_separate, width=10, depth=2, ab_range=0.1, epoch=420Done: two_blobs_separate, width=10, depth=1, ab_range=10, epoch=720\n",
      "\n",
      "Done: two_blobs_separate, width=10, depth=1, ab_range=10, epoch=730Done: two_blobs_separate, width=10, depth=2, ab_range=0.1, epoch=430\n",
      "\n",
      "Done: two_blobs_separate, width=10, depth=2, ab_range=0.1, epoch=440Done: spirals, width=10, depth=1, ab_range=2, epoch=690Done: two_blobs_separate, width=10, depth=1, ab_range=10, epoch=740\n",
      "\n",
      "\n",
      "Done: spirals, width=10, depth=1, ab_range=2, epoch=700\n",
      "Done: spirals, width=10, depth=1, ab_range=2, epoch=710\n",
      "Done: spirals, width=10, depth=1, ab_range=2, epoch=720\n",
      "Done: spirals, width=10, depth=1, ab_range=2, epoch=730\n",
      "Done: two_blobs_separate, width=10, depth=2, ab_range=0.1, epoch=450Done: two_blobs_separate, width=10, depth=1, ab_range=10, epoch=750\n",
      "Done: spirals, width=10, depth=1, ab_range=2, epoch=740\n",
      "Done: spirals, width=10, depth=1, ab_range=2, epoch=750\n",
      "Done: spirals, width=10, depth=1, ab_range=2, epoch=760Done: two_blobs_separate, width=10, depth=2, ab_range=0.1, epoch=460\n",
      "Done: two_blobs_separate, width=10, depth=2, ab_range=0.1, epoch=470\n",
      "\n",
      "Done: two_blobs_separate, width=10, depth=2, ab_range=0.1, epoch=480\n",
      "Done: spirals, width=10, depth=1, ab_range=2, epoch=770\n",
      "Done: two_blobs_separate, width=10, depth=2, ab_range=0.1, epoch=490Done: spirals, width=10, depth=1, ab_range=2, epoch=780\n",
      "Done: two_blobs_separate, width=10, depth=2, ab_range=0.1, epoch=500\n",
      "\n",
      "Done: spirals, width=10, depth=1, ab_range=2, epoch=790\n",
      "\n",
      "Done: spirals, width=10, depth=1, ab_range=2, epoch=800\n",
      "Done: two_blobs_separate, width=10, depth=1, ab_range=10, epoch=760\n",
      "Done: two_blobs_separate, width=10, depth=1, ab_range=10, epoch=770\n",
      "Done: two_blobs_separate, width=10, depth=1, ab_range=10, epoch=780Done: spirals, width=10, depth=1, ab_range=2, epoch=810Done: two_blobs_separate, width=10, depth=2, ab_range=0.1, epoch=510\n",
      "\n",
      "Done: spirals, width=10, depth=1, ab_range=2, epoch=820\n",
      "Done: spirals, width=10, depth=1, ab_range=2, epoch=830Done: two_blobs_separate, width=10, depth=1, ab_range=10, epoch=790\n",
      "\n",
      "\n",
      "Done: two_blobs_separate, width=10, depth=2, ab_range=0.1, epoch=520\n",
      "Done: two_blobs_separate, width=10, depth=1, ab_range=10, epoch=800\n",
      "Done: two_blobs_separate, width=10, depth=2, ab_range=0.1, epoch=530Done: spirals, width=10, depth=1, ab_range=2, epoch=840Done: two_blobs_separate, width=10, depth=1, ab_range=10, epoch=810\n",
      "Done: spirals, width=10, depth=1, ab_range=2, epoch=850\n",
      "Done: spirals, width=10, depth=1, ab_range=2, epoch=860\n",
      "Done: spirals, width=10, depth=1, ab_range=2, epoch=870\n",
      "\n",
      "Done: spirals, width=10, depth=1, ab_range=2, epoch=880\n",
      "Done: two_blobs_separate, width=10, depth=2, ab_range=0.1, epoch=540Done: spirals, width=10, depth=1, ab_range=2, epoch=890\n",
      "\n",
      "Done: two_blobs_separate, width=10, depth=2, ab_range=0.1, epoch=550Done: spirals, width=10, depth=1, ab_range=2, epoch=900\n",
      "Done: two_blobs_separate, width=10, depth=2, ab_range=0.1, epoch=560\n",
      "\n",
      "Done: two_blobs_separate, width=10, depth=2, ab_range=0.1, epoch=570\n",
      "\n",
      "Done: two_blobs_separate, width=10, depth=2, ab_range=0.1, epoch=580\n",
      "Done: spirals, width=10, depth=1, ab_range=2, epoch=910Done: two_blobs_separate, width=10, depth=2, ab_range=0.1, epoch=590Done: two_blobs_separate, width=10, depth=1, ab_range=10, epoch=820\n",
      "\n",
      "Done: two_blobs_separate, width=10, depth=2, ab_range=0.1, epoch=600\n",
      "Done: spirals, width=10, depth=1, ab_range=2, epoch=920\n",
      "Done: two_blobs_separate, width=10, depth=1, ab_range=10, epoch=830\n",
      "Done: spirals, width=10, depth=1, ab_range=2, epoch=930\n",
      "Done: two_blobs_separate, width=10, depth=1, ab_range=10, epoch=840\n",
      "Done: spirals, width=10, depth=1, ab_range=2, epoch=940\n",
      "Done: spirals, width=10, depth=1, ab_range=2, epoch=950\n",
      "Done: spirals, width=10, depth=1, ab_range=2, epoch=960\n",
      "Done: two_blobs_separate, width=10, depth=1, ab_range=10, epoch=850\n",
      "Done: spirals, width=10, depth=1, ab_range=2, epoch=970\n",
      "Done: two_blobs_separate, width=10, depth=1, ab_range=10, epoch=860\n",
      "Done: spirals, width=10, depth=1, ab_range=2, epoch=980\n",
      "Done: two_blobs_separate, width=10, depth=1, ab_range=10, epoch=870\n",
      "Done: spirals, width=10, depth=1, ab_range=2, epoch=990\n",
      "Done: two_blobs_separate, width=10, depth=1, ab_range=10, epoch=880\n",
      "Done: two_blobs_separate, width=10, depth=1, ab_range=10, epoch=890Done: spirals, width=10, depth=1, ab_range=2, epoch=1000\n",
      "\n",
      "\n",
      "Done: spirals, width=10, depth=1, ab_range=5, epoch=0Done: two_blobs_separate, width=10, depth=1, ab_range=10, epoch=900\n",
      "\n",
      "Done: two_blobs_separate, width=10, depth=1, ab_range=10, epoch=910Done: two_blobs_separate, width=10, depth=2, ab_range=0.1, epoch=610\n",
      "\n",
      "Done: spirals, width=10, depth=1, ab_range=5, epoch=10Done: two_blobs_separate, width=10, depth=1, ab_range=10, epoch=920Done: two_blobs_separate, width=10, depth=2, ab_range=0.1, epoch=620\n",
      "\n",
      "Done: spirals, width=10, depth=1, ab_range=5, epoch=20Done: two_blobs_separate, width=10, depth=2, ab_range=0.1, epoch=630\n",
      "\n",
      "Done: spirals, width=10, depth=1, ab_range=5, epoch=30\n",
      "Done: spirals, width=10, depth=1, ab_range=5, epoch=40\n",
      "Done: spirals, width=10, depth=1, ab_range=5, epoch=50\n",
      "Done: spirals, width=10, depth=1, ab_range=5, epoch=60\n",
      "Done: spirals, width=10, depth=1, ab_range=5, epoch=70\n",
      "\n",
      "Done: spirals, width=10, depth=1, ab_range=5, epoch=80Done: two_blobs_separate, width=10, depth=2, ab_range=0.1, epoch=640\n",
      "Done: two_blobs_separate, width=10, depth=1, ab_range=10, epoch=930\n",
      "Done: spirals, width=10, depth=1, ab_range=5, epoch=90\n",
      "Done: spirals, width=10, depth=1, ab_range=5, epoch=100\n",
      "Done: two_blobs_separate, width=10, depth=1, ab_range=10, epoch=940Done: spirals, width=10, depth=1, ab_range=5, epoch=110\n",
      "\n",
      "\n",
      "Done: spirals, width=10, depth=1, ab_range=5, epoch=120Done: two_blobs_separate, width=10, depth=2, ab_range=0.1, epoch=650\n",
      "\n",
      "Done: spirals, width=10, depth=1, ab_range=5, epoch=130\n",
      "Done: two_blobs_separate, width=10, depth=2, ab_range=0.1, epoch=660Done: spirals, width=10, depth=1, ab_range=5, epoch=140\n",
      "\n",
      "Done: two_blobs_separate, width=10, depth=2, ab_range=0.1, epoch=670\n",
      "Done: two_blobs_separate, width=10, depth=2, ab_range=0.1, epoch=680Done: spirals, width=10, depth=1, ab_range=5, epoch=150Done: two_blobs_separate, width=10, depth=1, ab_range=10, epoch=950\n",
      "\n",
      "Done: two_blobs_separate, width=10, depth=2, ab_range=0.1, epoch=690\n",
      "Done: two_blobs_separate, width=10, depth=1, ab_range=10, epoch=960Done: spirals, width=10, depth=1, ab_range=5, epoch=160\n",
      "Done: spirals, width=10, depth=1, ab_range=5, epoch=170\n",
      "\n",
      "\n",
      "Done: spirals, width=10, depth=1, ab_range=5, epoch=180Done: two_blobs_separate, width=10, depth=1, ab_range=10, epoch=970\n",
      "Done: spirals, width=10, depth=1, ab_range=5, epoch=190\n",
      "Done: two_blobs_separate, width=10, depth=2, ab_range=0.1, epoch=700\n",
      "Done: two_blobs_separate, width=10, depth=1, ab_range=10, epoch=980\n",
      "Done: spirals, width=10, depth=1, ab_range=5, epoch=200\n",
      "Done: two_blobs_separate, width=10, depth=2, ab_range=0.1, epoch=710\n",
      "\n",
      "Done: two_blobs_separate, width=10, depth=1, ab_range=10, epoch=990\n",
      "Done: spirals, width=10, depth=1, ab_range=5, epoch=210Done: two_blobs_separate, width=10, depth=1, ab_range=10, epoch=1000Done: two_blobs_separate, width=10, depth=2, ab_range=0.1, epoch=720\n",
      "Done: two_blobs_separate, width=10, depth=1, ab_range=2, epoch=0\n",
      "Done: two_blobs_separate, width=10, depth=1, ab_range=2, epoch=10\n",
      "\n",
      "Done: two_blobs_separate, width=10, depth=1, ab_range=2, epoch=20\n",
      "Done: spirals, width=10, depth=1, ab_range=5, epoch=220\n",
      "Done: two_blobs_separate, width=10, depth=1, ab_range=2, epoch=30\n",
      "\n",
      "Done: two_blobs_separate, width=10, depth=1, ab_range=2, epoch=40Done: spirals, width=10, depth=1, ab_range=5, epoch=230Done: two_blobs_separate, width=10, depth=2, ab_range=0.1, epoch=730\n",
      "\n",
      "\n",
      "Done: two_blobs_separate, width=10, depth=1, ab_range=2, epoch=50Done: two_blobs_separate, width=10, depth=2, ab_range=0.1, epoch=740\n",
      "\n",
      "Done: two_blobs_separate, width=10, depth=2, ab_range=0.1, epoch=750Done: two_blobs_separate, width=10, depth=1, ab_range=2, epoch=60\n",
      "\n",
      "Done: two_blobs_separate, width=10, depth=1, ab_range=2, epoch=70\n",
      "Done: two_blobs_separate, width=10, depth=1, ab_range=2, epoch=80Done: two_blobs_separate, width=10, depth=2, ab_range=0.1, epoch=760\n",
      "\n",
      "Done: two_blobs_separate, width=10, depth=1, ab_range=2, epoch=90Done: two_blobs_separate, width=10, depth=2, ab_range=0.1, epoch=770\n",
      "\n",
      "Done: two_blobs_separate, width=10, depth=2, ab_range=0.1, epoch=780\n",
      "Done: two_blobs_separate, width=10, depth=1, ab_range=2, epoch=100\n",
      "Done: two_blobs_separate, width=10, depth=2, ab_range=0.1, epoch=790\n",
      "Done: two_blobs_separate, width=10, depth=1, ab_range=2, epoch=110\n",
      "Done: two_blobs_separate, width=10, depth=2, ab_range=0.1, epoch=800\n",
      "Done: two_blobs_separate, width=10, depth=1, ab_range=2, epoch=120\n",
      "Done: two_blobs_separate, width=10, depth=2, ab_range=0.1, epoch=810\n",
      "Done: two_blobs_separate, width=10, depth=2, ab_range=0.1, epoch=820Done: two_blobs_separate, width=10, depth=1, ab_range=2, epoch=130\n",
      "\n",
      "Done: two_blobs_separate, width=10, depth=2, ab_range=0.1, epoch=830Done: two_blobs_separate, width=10, depth=1, ab_range=2, epoch=140\n",
      "\n",
      "Done: two_blobs_separate, width=10, depth=2, ab_range=0.1, epoch=840Done: two_blobs_separate, width=10, depth=1, ab_range=2, epoch=150\n",
      "\n",
      "Done: two_blobs_separate, width=10, depth=2, ab_range=0.1, epoch=850Done: two_blobs_separate, width=10, depth=1, ab_range=2, epoch=160\n",
      "\n",
      "Done: spirals, width=10, depth=1, ab_range=5, epoch=240\n",
      "Done: two_blobs_separate, width=10, depth=2, ab_range=0.1, epoch=860\n",
      "Done: two_blobs_separate, width=10, depth=1, ab_range=2, epoch=170\n",
      "Done: spirals, width=10, depth=1, ab_range=5, epoch=250Done: two_blobs_separate, width=10, depth=1, ab_range=2, epoch=180Done: two_blobs_separate, width=10, depth=2, ab_range=0.1, epoch=870\n",
      "\n",
      "\n",
      "Done: spirals, width=10, depth=1, ab_range=5, epoch=260Done: two_blobs_separate, width=10, depth=1, ab_range=2, epoch=190\n",
      "\n",
      "Done: spirals, width=10, depth=1, ab_range=5, epoch=270Done: two_blobs_separate, width=10, depth=2, ab_range=0.1, epoch=880\n",
      "Done: spirals, width=10, depth=1, ab_range=5, epoch=280\n",
      "Done: spirals, width=10, depth=1, ab_range=5, epoch=290\n",
      "Done: two_blobs_separate, width=10, depth=1, ab_range=2, epoch=200Done: spirals, width=10, depth=1, ab_range=5, epoch=300\n",
      "\n",
      "\n",
      "Done: two_blobs_separate, width=10, depth=2, ab_range=0.1, epoch=890Done: spirals, width=10, depth=1, ab_range=5, epoch=310\n",
      "\n",
      "Done: spirals, width=10, depth=1, ab_range=5, epoch=320\n",
      "Done: two_blobs_separate, width=10, depth=2, ab_range=0.1, epoch=900\n",
      "Done: spirals, width=10, depth=1, ab_range=5, epoch=330Done: two_blobs_separate, width=10, depth=2, ab_range=0.1, epoch=910\n",
      "\n",
      "Done: spirals, width=10, depth=1, ab_range=5, epoch=340Done: two_blobs_separate, width=10, depth=2, ab_range=0.1, epoch=920\n",
      "\n",
      "Done: spirals, width=10, depth=1, ab_range=5, epoch=350Done: two_blobs_separate, width=10, depth=2, ab_range=0.1, epoch=930\n",
      "\n",
      "Done: spirals, width=10, depth=1, ab_range=5, epoch=360Done: two_blobs_separate, width=10, depth=2, ab_range=0.1, epoch=940\n",
      "Done: two_blobs_separate, width=10, depth=2, ab_range=0.1, epoch=950Done: two_blobs_separate, width=10, depth=1, ab_range=2, epoch=210\n",
      "\n",
      "\n",
      "Done: spirals, width=10, depth=1, ab_range=5, epoch=370Done: two_blobs_separate, width=10, depth=1, ab_range=2, epoch=220\n",
      "Done: two_blobs_separate, width=10, depth=2, ab_range=0.1, epoch=960\n",
      "Done: two_blobs_separate, width=10, depth=1, ab_range=2, epoch=230\n",
      "\n",
      "Done: spirals, width=10, depth=1, ab_range=5, epoch=380Done: two_blobs_separate, width=10, depth=1, ab_range=2, epoch=240Done: two_blobs_separate, width=10, depth=2, ab_range=0.1, epoch=970\n",
      "\n",
      "\n",
      "Done: spirals, width=10, depth=1, ab_range=5, epoch=390\n",
      "Done: two_blobs_separate, width=10, depth=2, ab_range=0.1, epoch=980Done: two_blobs_separate, width=10, depth=1, ab_range=2, epoch=250\n",
      "\n",
      "Done: two_blobs_separate, width=10, depth=1, ab_range=2, epoch=260\n",
      "Done: spirals, width=10, depth=1, ab_range=5, epoch=400Done: two_blobs_separate, width=10, depth=2, ab_range=0.1, epoch=990\n",
      "\n",
      "Done: spirals, width=10, depth=1, ab_range=5, epoch=410\n",
      "Done: two_blobs_separate, width=10, depth=2, ab_range=0.1, epoch=1000Done: spirals, width=10, depth=1, ab_range=5, epoch=420\n",
      "\n",
      "Done: two_blobs_separate, width=10, depth=2, ab_range=1, epoch=0Done: spirals, width=10, depth=1, ab_range=5, epoch=430\n",
      "\n",
      "Done: two_blobs_separate, width=10, depth=2, ab_range=1, epoch=10Done: spirals, width=10, depth=1, ab_range=5, epoch=440\n",
      "Done: two_blobs_separate, width=10, depth=1, ab_range=2, epoch=270\n",
      "\n",
      "Done: spirals, width=10, depth=1, ab_range=5, epoch=450Done: two_blobs_separate, width=10, depth=2, ab_range=1, epoch=20Done: two_blobs_separate, width=10, depth=1, ab_range=2, epoch=280\n",
      "\n",
      "\n",
      "Done: two_blobs_separate, width=10, depth=2, ab_range=1, epoch=30Done: two_blobs_separate, width=10, depth=1, ab_range=2, epoch=290\n",
      "\n",
      "Done: two_blobs_separate, width=10, depth=1, ab_range=2, epoch=300Done: two_blobs_separate, width=10, depth=2, ab_range=1, epoch=40\n",
      "\n",
      "Done: two_blobs_separate, width=10, depth=1, ab_range=2, epoch=310Done: two_blobs_separate, width=10, depth=2, ab_range=1, epoch=50\n",
      "\n",
      "Done: spirals, width=10, depth=1, ab_range=5, epoch=460Done: two_blobs_separate, width=10, depth=1, ab_range=2, epoch=320\n",
      "Done: two_blobs_separate, width=10, depth=2, ab_range=1, epoch=60\n",
      "Done: spirals, width=10, depth=1, ab_range=5, epoch=470\n",
      "Done: spirals, width=10, depth=1, ab_range=5, epoch=480Done: two_blobs_separate, width=10, depth=1, ab_range=2, epoch=330\n",
      "\n",
      "Done: spirals, width=10, depth=1, ab_range=5, epoch=490\n",
      "\n",
      "Done: two_blobs_separate, width=10, depth=2, ab_range=1, epoch=70\n",
      "Done: spirals, width=10, depth=1, ab_range=5, epoch=500Done: two_blobs_separate, width=10, depth=2, ab_range=1, epoch=80\n",
      "Done: two_blobs_separate, width=10, depth=1, ab_range=2, epoch=340\n",
      "Done: spirals, width=10, depth=1, ab_range=5, epoch=510\n",
      "Done: two_blobs_separate, width=10, depth=1, ab_range=2, epoch=350Done: two_blobs_separate, width=10, depth=2, ab_range=1, epoch=90\n",
      "\n",
      "Done: two_blobs_separate, width=10, depth=2, ab_range=1, epoch=100Done: two_blobs_separate, width=10, depth=1, ab_range=2, epoch=360\n",
      "\n",
      "Done: spirals, width=10, depth=1, ab_range=5, epoch=520Done: two_blobs_separate, width=10, depth=2, ab_range=1, epoch=110\n",
      "\n",
      "Done: spirals, width=10, depth=1, ab_range=5, epoch=530Done: two_blobs_separate, width=10, depth=2, ab_range=1, epoch=120\n",
      "\n",
      "\n",
      "Done: spirals, width=10, depth=1, ab_range=5, epoch=540Done: two_blobs_separate, width=10, depth=2, ab_range=1, epoch=130\n",
      "\n",
      "Done: spirals, width=10, depth=1, ab_range=5, epoch=550\n",
      "Done: two_blobs_separate, width=10, depth=2, ab_range=1, epoch=140\n",
      "Done: spirals, width=10, depth=1, ab_range=5, epoch=560\n",
      "Done: two_blobs_separate, width=10, depth=2, ab_range=1, epoch=150\n",
      "Done: two_blobs_separate, width=10, depth=1, ab_range=2, epoch=370Done: spirals, width=10, depth=1, ab_range=5, epoch=570\n",
      "\n",
      "Done: two_blobs_separate, width=10, depth=2, ab_range=1, epoch=160Done: spirals, width=10, depth=1, ab_range=5, epoch=580Done: two_blobs_separate, width=10, depth=1, ab_range=2, epoch=380\n",
      "\n",
      "Done: two_blobs_separate, width=10, depth=1, ab_range=2, epoch=390Done: spirals, width=10, depth=1, ab_range=5, epoch=590\n",
      "\n",
      "Done: two_blobs_separate, width=10, depth=1, ab_range=2, epoch=400\n",
      "\n",
      "Done: spirals, width=10, depth=1, ab_range=5, epoch=600\n",
      "Done: spirals, width=10, depth=1, ab_range=5, epoch=610\n",
      "Done: two_blobs_separate, width=10, depth=1, ab_range=2, epoch=410\n",
      "Done: two_blobs_separate, width=10, depth=2, ab_range=1, epoch=170\n",
      "Done: spirals, width=10, depth=1, ab_range=5, epoch=620Done: two_blobs_separate, width=10, depth=1, ab_range=2, epoch=420\n",
      "Done: spirals, width=10, depth=1, ab_range=5, epoch=630\n",
      "Done: two_blobs_separate, width=10, depth=2, ab_range=1, epoch=180\n",
      "Done: spirals, width=10, depth=1, ab_range=5, epoch=640Done: two_blobs_separate, width=10, depth=1, ab_range=2, epoch=430\n",
      "\n",
      "Done: spirals, width=10, depth=1, ab_range=5, epoch=650\n",
      "\n",
      "Done: two_blobs_separate, width=10, depth=1, ab_range=2, epoch=440\n",
      "\n",
      "Done: spirals, width=10, depth=1, ab_range=5, epoch=660\n",
      "Done: two_blobs_separate, width=10, depth=1, ab_range=2, epoch=450Done: two_blobs_separate, width=10, depth=2, ab_range=1, epoch=190\n",
      "Done: spirals, width=10, depth=1, ab_range=5, epoch=670Done: two_blobs_separate, width=10, depth=1, ab_range=2, epoch=460\n",
      "Done: spirals, width=10, depth=1, ab_range=5, epoch=680Done: two_blobs_separate, width=10, depth=1, ab_range=2, epoch=470\n",
      "\n",
      "\n",
      "Done: spirals, width=10, depth=1, ab_range=5, epoch=690Done: two_blobs_separate, width=10, depth=1, ab_range=2, epoch=480Done: two_blobs_separate, width=10, depth=2, ab_range=1, epoch=200\n",
      "\n",
      "Done: two_blobs_separate, width=10, depth=1, ab_range=2, epoch=490\n",
      "Done: spirals, width=10, depth=1, ab_range=5, epoch=700\n",
      "Done: spirals, width=10, depth=1, ab_range=5, epoch=710\n",
      "\n",
      "Done: spirals, width=10, depth=1, ab_range=5, epoch=720\n",
      "Done: two_blobs_separate, width=10, depth=1, ab_range=2, epoch=500\n",
      "Done: spirals, width=10, depth=1, ab_range=5, epoch=730\n",
      "Done: two_blobs_separate, width=10, depth=1, ab_range=2, epoch=510Done: spirals, width=10, depth=1, ab_range=5, epoch=740\n",
      "Done: two_blobs_separate, width=10, depth=2, ab_range=1, epoch=210Done: two_blobs_separate, width=10, depth=1, ab_range=2, epoch=520\n",
      "\n",
      "\n",
      "Done: two_blobs_separate, width=10, depth=2, ab_range=1, epoch=220Done: spirals, width=10, depth=1, ab_range=5, epoch=750\n",
      "\n",
      "Done: two_blobs_separate, width=10, depth=1, ab_range=2, epoch=530Done: spirals, width=10, depth=1, ab_range=5, epoch=760Done: two_blobs_separate, width=10, depth=2, ab_range=1, epoch=230\n",
      "\n",
      "\n",
      "Done: spirals, width=10, depth=1, ab_range=5, epoch=770Done: two_blobs_separate, width=10, depth=1, ab_range=2, epoch=540\n",
      "Done: spirals, width=10, depth=1, ab_range=5, epoch=780\n",
      "\n",
      "Done: two_blobs_separate, width=10, depth=1, ab_range=2, epoch=550Done: two_blobs_separate, width=10, depth=2, ab_range=1, epoch=240Done: spirals, width=10, depth=1, ab_range=5, epoch=790\n",
      "\n",
      "\n",
      "Done: spirals, width=10, depth=1, ab_range=5, epoch=800Done: two_blobs_separate, width=10, depth=1, ab_range=2, epoch=560\n",
      "\n",
      "Done: spirals, width=10, depth=1, ab_range=5, epoch=810Done: two_blobs_separate, width=10, depth=1, ab_range=2, epoch=570\n",
      "\n",
      "\n",
      "Done: two_blobs_separate, width=10, depth=1, ab_range=2, epoch=580Done: spirals, width=10, depth=1, ab_range=5, epoch=820Done: two_blobs_separate, width=10, depth=2, ab_range=1, epoch=250Done: two_blobs_separate, width=10, depth=1, ab_range=2, epoch=590\n",
      "Done: two_blobs_separate, width=10, depth=1, ab_range=2, epoch=600\n",
      "\n",
      "Done: two_blobs_separate, width=10, depth=1, ab_range=2, epoch=610\n",
      "Done: spirals, width=10, depth=1, ab_range=5, epoch=830\n",
      "Done: two_blobs_separate, width=10, depth=1, ab_range=2, epoch=620\n",
      "Done: spirals, width=10, depth=1, ab_range=5, epoch=840Done: two_blobs_separate, width=10, depth=1, ab_range=2, epoch=630\n",
      "\n",
      "\n",
      "Done: two_blobs_separate, width=10, depth=1, ab_range=2, epoch=640Done: two_blobs_separate, width=10, depth=2, ab_range=1, epoch=260\n",
      "Done: spirals, width=10, depth=1, ab_range=5, epoch=850\n",
      "\n",
      "Done: two_blobs_separate, width=10, depth=1, ab_range=2, epoch=650\n",
      "Done: two_blobs_separate, width=10, depth=2, ab_range=1, epoch=270\n",
      "Done: spirals, width=10, depth=1, ab_range=5, epoch=860Done: two_blobs_separate, width=10, depth=1, ab_range=2, epoch=660\n",
      "\n",
      "Done: spirals, width=10, depth=1, ab_range=5, epoch=870Done: two_blobs_separate, width=10, depth=2, ab_range=1, epoch=280\n",
      "Done: spirals, width=10, depth=1, ab_range=5, epoch=880\n",
      "Done: spirals, width=10, depth=1, ab_range=5, epoch=890\n",
      "\n",
      "Done: two_blobs_separate, width=10, depth=1, ab_range=2, epoch=670\n",
      "Done: spirals, width=10, depth=1, ab_range=5, epoch=900Done: two_blobs_separate, width=10, depth=2, ab_range=1, epoch=290\n",
      "\n",
      "Done: two_blobs_separate, width=10, depth=1, ab_range=2, epoch=680Done: two_blobs_separate, width=10, depth=2, ab_range=1, epoch=300Done: spirals, width=10, depth=1, ab_range=5, epoch=910\n",
      "\n",
      "\n",
      "Done: two_blobs_separate, width=10, depth=1, ab_range=2, epoch=690\n",
      "Done: two_blobs_separate, width=10, depth=2, ab_range=1, epoch=310Done: spirals, width=10, depth=1, ab_range=5, epoch=920Done: two_blobs_separate, width=10, depth=1, ab_range=2, epoch=700\n",
      "\n",
      "\n",
      "Done: two_blobs_separate, width=10, depth=1, ab_range=2, epoch=710\n",
      "Done: two_blobs_separate, width=10, depth=2, ab_range=1, epoch=320Done: spirals, width=10, depth=1, ab_range=5, epoch=930\n",
      "Done: two_blobs_separate, width=10, depth=1, ab_range=2, epoch=720\n",
      "Done: two_blobs_separate, width=10, depth=2, ab_range=1, epoch=330\n",
      "Done: two_blobs_separate, width=10, depth=1, ab_range=2, epoch=730Done: two_blobs_separate, width=10, depth=2, ab_range=1, epoch=340\n",
      "\n",
      "Done: two_blobs_separate, width=10, depth=1, ab_range=2, epoch=740Done: two_blobs_separate, width=10, depth=2, ab_range=1, epoch=350\n",
      "\n",
      "Done: two_blobs_separate, width=10, depth=1, ab_range=2, epoch=750\n",
      "\n",
      "Done: two_blobs_separate, width=10, depth=2, ab_range=1, epoch=360\n",
      "Done: two_blobs_separate, width=10, depth=1, ab_range=2, epoch=760Done: two_blobs_separate, width=10, depth=2, ab_range=1, epoch=370\n",
      "Done: two_blobs_separate, width=10, depth=2, ab_range=1, epoch=380\n",
      "\n",
      "Done: two_blobs_separate, width=10, depth=2, ab_range=1, epoch=390\n",
      "Done: two_blobs_separate, width=10, depth=1, ab_range=2, epoch=770Done: two_blobs_separate, width=10, depth=2, ab_range=1, epoch=400\n",
      "\n",
      "Done: two_blobs_separate, width=10, depth=2, ab_range=1, epoch=410\n",
      "Done: spirals, width=10, depth=1, ab_range=5, epoch=940Done: two_blobs_separate, width=10, depth=1, ab_range=2, epoch=780\n",
      "Done: two_blobs_separate, width=10, depth=2, ab_range=1, epoch=420Done: two_blobs_separate, width=10, depth=1, ab_range=2, epoch=790\n",
      "Done: two_blobs_separate, width=10, depth=1, ab_range=2, epoch=800\n",
      "\n",
      "Done: two_blobs_separate, width=10, depth=1, ab_range=2, epoch=810\n",
      "Done: two_blobs_separate, width=10, depth=2, ab_range=1, epoch=430\n",
      "Done: two_blobs_separate, width=10, depth=1, ab_range=2, epoch=820\n",
      "Done: two_blobs_separate, width=10, depth=2, ab_range=1, epoch=440\n",
      "\n",
      "Done: two_blobs_separate, width=10, depth=1, ab_range=2, epoch=830\n",
      "Done: spirals, width=10, depth=1, ab_range=5, epoch=950Done: two_blobs_separate, width=10, depth=2, ab_range=1, epoch=450\n",
      "\n",
      "Done: two_blobs_separate, width=10, depth=1, ab_range=2, epoch=840\n",
      "Done: spirals, width=10, depth=1, ab_range=5, epoch=960\n",
      "Done: two_blobs_separate, width=10, depth=1, ab_range=2, epoch=850\n",
      "Done: two_blobs_separate, width=10, depth=2, ab_range=1, epoch=460Done: spirals, width=10, depth=1, ab_range=5, epoch=970\n",
      "\n",
      "Done: two_blobs_separate, width=10, depth=1, ab_range=2, epoch=860\n",
      "Done: spirals, width=10, depth=1, ab_range=5, epoch=980\n",
      "Done: two_blobs_separate, width=10, depth=2, ab_range=1, epoch=470Done: two_blobs_separate, width=10, depth=1, ab_range=2, epoch=870\n",
      "\n",
      "Done: spirals, width=10, depth=1, ab_range=5, epoch=990Done: two_blobs_separate, width=10, depth=1, ab_range=2, epoch=880Done: two_blobs_separate, width=10, depth=2, ab_range=1, epoch=480\n",
      "\n",
      "Done: two_blobs_separate, width=10, depth=1, ab_range=2, epoch=890\n",
      "Done: two_blobs_separate, width=10, depth=1, ab_range=2, epoch=900\n",
      "Done: two_blobs_separate, width=10, depth=1, ab_range=2, epoch=910\n",
      "Done: spirals, width=10, depth=1, ab_range=5, epoch=1000Done: two_blobs_separate, width=10, depth=2, ab_range=1, epoch=490\n",
      "\n",
      "\n",
      "Done: two_blobs_separate, width=10, depth=1, ab_range=2, epoch=920Done: spirals, width=10, depth=1, ab_range=0.2, epoch=0Done: two_blobs_separate, width=10, depth=2, ab_range=1, epoch=500\n",
      "\n",
      "Done: two_blobs_separate, width=10, depth=2, ab_range=1, epoch=510Done: spirals, width=10, depth=1, ab_range=0.2, epoch=10\n",
      "\n",
      "Done: two_blobs_separate, width=10, depth=2, ab_range=1, epoch=520Done: spirals, width=10, depth=1, ab_range=0.2, epoch=20\n",
      "\n",
      "\n",
      "Done: spirals, width=10, depth=1, ab_range=0.2, epoch=30Done: two_blobs_separate, width=10, depth=1, ab_range=2, epoch=930Done: two_blobs_separate, width=10, depth=2, ab_range=1, epoch=530\n",
      "\n",
      "\n",
      "Done: spirals, width=10, depth=1, ab_range=0.2, epoch=40Done: two_blobs_separate, width=10, depth=1, ab_range=2, epoch=940Done: two_blobs_separate, width=10, depth=2, ab_range=1, epoch=540\n",
      "\n",
      "\n",
      "Done: spirals, width=10, depth=1, ab_range=0.2, epoch=50Done: two_blobs_separate, width=10, depth=2, ab_range=1, epoch=550Done: two_blobs_separate, width=10, depth=1, ab_range=2, epoch=950\n",
      "\n",
      "\n",
      "Done: spirals, width=10, depth=1, ab_range=0.2, epoch=60Done: two_blobs_separate, width=10, depth=2, ab_range=1, epoch=560\n",
      "\n",
      "Done: two_blobs_separate, width=10, depth=1, ab_range=2, epoch=960Done: two_blobs_separate, width=10, depth=2, ab_range=1, epoch=570Done: spirals, width=10, depth=1, ab_range=0.2, epoch=70\n",
      "\n",
      "Done: spirals, width=10, depth=1, ab_range=0.2, epoch=80Done: two_blobs_separate, width=10, depth=2, ab_range=1, epoch=580\n",
      "\n",
      "Done: spirals, width=10, depth=1, ab_range=0.2, epoch=90Done: two_blobs_separate, width=10, depth=2, ab_range=1, epoch=590\n",
      "\n",
      "Done: two_blobs_separate, width=10, depth=2, ab_range=1, epoch=600\n",
      "Done: spirals, width=10, depth=1, ab_range=0.2, epoch=100\n",
      "Done: two_blobs_separate, width=10, depth=2, ab_range=1, epoch=610\n",
      "Done: spirals, width=10, depth=1, ab_range=0.2, epoch=110\n",
      "Done: two_blobs_separate, width=10, depth=2, ab_range=1, epoch=620\n",
      "\n",
      "Done: spirals, width=10, depth=1, ab_range=0.2, epoch=120Done: two_blobs_separate, width=10, depth=1, ab_range=2, epoch=970\n",
      "\n",
      "Done: two_blobs_separate, width=10, depth=2, ab_range=1, epoch=630Done: spirals, width=10, depth=1, ab_range=0.2, epoch=130Done: two_blobs_separate, width=10, depth=1, ab_range=2, epoch=980\n",
      "\n",
      "Done: two_blobs_separate, width=10, depth=1, ab_range=2, epoch=990\n",
      "Done: spirals, width=10, depth=1, ab_range=0.2, epoch=140\n",
      "Done: two_blobs_separate, width=10, depth=1, ab_range=2, epoch=1000\n",
      "Done: spirals, width=10, depth=1, ab_range=0.2, epoch=150\n",
      "Done: two_blobs_separate, width=10, depth=1, ab_range=5, epoch=0\n",
      "Done: spirals, width=10, depth=1, ab_range=0.2, epoch=160\n",
      "Done: two_blobs_separate, width=10, depth=1, ab_range=5, epoch=10\n",
      "Done: spirals, width=10, depth=1, ab_range=0.2, epoch=170\n",
      "Done: two_blobs_separate, width=10, depth=1, ab_range=5, epoch=20\n",
      "Done: spirals, width=10, depth=1, ab_range=0.2, epoch=180\n",
      "\n",
      "Done: two_blobs_separate, width=10, depth=1, ab_range=5, epoch=30\n",
      "Done: two_blobs_separate, width=10, depth=2, ab_range=1, epoch=640Done: two_blobs_separate, width=10, depth=1, ab_range=5, epoch=40\n",
      "Done: spirals, width=10, depth=1, ab_range=0.2, epoch=190\n",
      "\n",
      "Done: two_blobs_separate, width=10, depth=1, ab_range=5, epoch=50\n",
      "Done: spirals, width=10, depth=1, ab_range=0.2, epoch=200Done: two_blobs_separate, width=10, depth=2, ab_range=1, epoch=650\n",
      "Done: two_blobs_separate, width=10, depth=1, ab_range=5, epoch=60\n",
      "\n",
      "Done: two_blobs_separate, width=10, depth=1, ab_range=5, epoch=70Done: two_blobs_separate, width=10, depth=2, ab_range=1, epoch=660\n",
      "\n",
      "Done: two_blobs_separate, width=10, depth=1, ab_range=5, epoch=80Done: spirals, width=10, depth=1, ab_range=0.2, epoch=210\n",
      "\n",
      "Done: two_blobs_separate, width=10, depth=2, ab_range=1, epoch=670\n",
      "Done: two_blobs_separate, width=10, depth=1, ab_range=5, epoch=90Done: spirals, width=10, depth=1, ab_range=0.2, epoch=220\n",
      "\n",
      "Done: two_blobs_separate, width=10, depth=1, ab_range=5, epoch=100Done: two_blobs_separate, width=10, depth=2, ab_range=1, epoch=680\n",
      "\n",
      "Done: spirals, width=10, depth=1, ab_range=0.2, epoch=230\n",
      "Done: two_blobs_separate, width=10, depth=1, ab_range=5, epoch=110Done: two_blobs_separate, width=10, depth=2, ab_range=1, epoch=690\n",
      "\n",
      "Done: spirals, width=10, depth=1, ab_range=0.2, epoch=240\n",
      "Done: two_blobs_separate, width=10, depth=1, ab_range=5, epoch=120\n",
      "Done: spirals, width=10, depth=1, ab_range=0.2, epoch=250Done: two_blobs_separate, width=10, depth=2, ab_range=1, epoch=700\n",
      "\n",
      "Done: two_blobs_separate, width=10, depth=1, ab_range=5, epoch=130\n",
      "Done: two_blobs_separate, width=10, depth=2, ab_range=1, epoch=710Done: spirals, width=10, depth=1, ab_range=0.2, epoch=260Done: two_blobs_separate, width=10, depth=1, ab_range=5, epoch=140\n",
      "\n",
      "Done: two_blobs_separate, width=10, depth=2, ab_range=1, epoch=720\n",
      "Done: spirals, width=10, depth=1, ab_range=0.2, epoch=270Done: two_blobs_separate, width=10, depth=2, ab_range=1, epoch=730\n",
      "\n",
      "Done: spirals, width=10, depth=1, ab_range=0.2, epoch=280\n",
      "Done: two_blobs_separate, width=10, depth=2, ab_range=1, epoch=740\n",
      "\n",
      "Done: spirals, width=10, depth=1, ab_range=0.2, epoch=290\n",
      "Done: two_blobs_separate, width=10, depth=1, ab_range=5, epoch=150Done: two_blobs_separate, width=10, depth=2, ab_range=1, epoch=750\n",
      "Done: spirals, width=10, depth=1, ab_range=0.2, epoch=300\n",
      "\n",
      "Done: two_blobs_separate, width=10, depth=1, ab_range=5, epoch=160\n",
      "Done: spirals, width=10, depth=1, ab_range=0.2, epoch=310\n",
      "Done: spirals, width=10, depth=1, ab_range=0.2, epoch=320Done: two_blobs_separate, width=10, depth=2, ab_range=1, epoch=760\n",
      "Done: spirals, width=10, depth=1, ab_range=0.2, epoch=330\n",
      "\n",
      "Done: spirals, width=10, depth=1, ab_range=0.2, epoch=340Done: two_blobs_separate, width=10, depth=2, ab_range=1, epoch=770\n",
      "\n",
      "Done: two_blobs_separate, width=10, depth=1, ab_range=5, epoch=170Done: spirals, width=10, depth=1, ab_range=0.2, epoch=350\n",
      "Done: two_blobs_separate, width=10, depth=2, ab_range=1, epoch=780\n",
      "\n",
      "Done: two_blobs_separate, width=10, depth=1, ab_range=5, epoch=180\n",
      "Done: spirals, width=10, depth=1, ab_range=0.2, epoch=360Done: two_blobs_separate, width=10, depth=1, ab_range=5, epoch=190\n",
      "Done: two_blobs_separate, width=10, depth=2, ab_range=1, epoch=790\n",
      "\n",
      "Done: spirals, width=10, depth=1, ab_range=0.2, epoch=370Done: two_blobs_separate, width=10, depth=1, ab_range=5, epoch=200\n",
      "Done: two_blobs_separate, width=10, depth=2, ab_range=1, epoch=800\n",
      "Done: spirals, width=10, depth=1, ab_range=0.2, epoch=380Done: two_blobs_separate, width=10, depth=1, ab_range=5, epoch=210\n",
      "\n",
      "Done: spirals, width=10, depth=1, ab_range=0.2, epoch=390Done: two_blobs_separate, width=10, depth=1, ab_range=5, epoch=220\n",
      "\n",
      "Done: spirals, width=10, depth=1, ab_range=0.2, epoch=400Done: two_blobs_separate, width=10, depth=1, ab_range=5, epoch=230\n",
      "\n",
      "\n",
      "Done: spirals, width=10, depth=1, ab_range=0.2, epoch=410Done: two_blobs_separate, width=10, depth=1, ab_range=5, epoch=240\n",
      "Previously saved model is of lower resolution; recomputingDone: two_blobs_separate, width=10, depth=2, ab_range=1, epoch=810\n",
      "\n",
      "Done: two_blobs_separate, width=10, depth=1, ab_range=5, epoch=250\n",
      "\n",
      "Done: two_blobs_separate, width=10, depth=2, ab_range=1, epoch=820\n"
     ]
    },
    {
     "name": "stderr",
     "output_type": "stream",
     "text": [
      "/home/yifan/DISKB/Dropbox/Projects/Spring2025/LandscapeVisualizer_2D/LossLandscapeVisualizer/build/visualize_landscape.py:118: FutureWarning: You are using `torch.load` with `weights_only=False` (the current default value), which uses the default pickle module implicitly. It is possible to construct malicious pickle data which will execute arbitrary code during unpickling (See https://github.com/pytorch/pytorch/blob/main/SECURITY.md#untrusted-models for more details). In a future release, the default value for `weights_only` will be flipped to `True`. This limits the functions that could be executed during unpickling. Arbitrary objects will no longer be allowed to be loaded via this mode unless they are explicitly allowlisted by the user via `torch.serialization.add_safe_globals`. We recommend you start setting `weights_only=True` for any use case where you don't have full control of the loaded file. Please open an issue on GitHub for any issues related to this experimental feature.\n",
      "  base_model.load_state_dict(torch.load(base_path))\n"
     ]
    },
    {
     "name": "stdout",
     "output_type": "stream",
     "text": [
      "Done: two_blobs_separate, width=10, depth=1, ab_range=5, epoch=260Done: two_blobs_separate, width=10, depth=2, ab_range=1, epoch=830\n",
      "\n",
      "Done: two_blobs_separate, width=10, depth=1, ab_range=5, epoch=270Done: two_blobs_separate, width=10, depth=2, ab_range=1, epoch=840\n",
      "\n"
     ]
    },
    {
     "name": "stderr",
     "output_type": "stream",
     "text": [
      "/home/yifan/DISKB/Dropbox/Projects/Spring2025/LandscapeVisualizer_2D/LossLandscapeVisualizer/build/visualize_landscape.py:56: FutureWarning: You are using `torch.load` with `weights_only=False` (the current default value), which uses the default pickle module implicitly. It is possible to construct malicious pickle data which will execute arbitrary code during unpickling (See https://github.com/pytorch/pytorch/blob/main/SECURITY.md#untrusted-models for more details). In a future release, the default value for `weights_only` will be flipped to `True`. This limits the functions that could be executed during unpickling. Arbitrary objects will no longer be allowed to be loaded via this mode unless they are explicitly allowlisted by the user via `torch.serialization.add_safe_globals`. We recommend you start setting `weights_only=True` for any use case where you don't have full control of the loaded file. Please open an issue on GitHub for any issues related to this experimental feature.\n",
      "  model.load_state_dict(torch.load(path))\n"
     ]
    },
    {
     "name": "stdout",
     "output_type": "stream",
     "text": [
      "Done: two_blobs_separate, width=10, depth=2, ab_range=1, epoch=850\n",
      "Done: two_blobs_separate, width=10, depth=2, ab_range=1, epoch=860Done: two_blobs_separate, width=10, depth=1, ab_range=5, epoch=280\n",
      "\n",
      "Done: two_blobs_separate, width=10, depth=2, ab_range=1, epoch=870\n"
     ]
    },
    {
     "name": "stderr",
     "output_type": "stream",
     "text": [
      "Outer loop (a):   0%|          | 0/100 [00:00<?, ?it/s]"
     ]
    },
    {
     "name": "stdout",
     "output_type": "stream",
     "text": [
      "Done: two_blobs_separate, width=10, depth=2, ab_range=1, epoch=880"
     ]
    },
    {
     "name": "stderr",
     "output_type": "stream",
     "text": [
      "/home/yifan/DISKB/Dropbox/Projects/Spring2025/LandscapeVisualizer_2D/LossLandscapeVisualizer/build/data.py:85: FutureWarning: You are using `torch.load` with `weights_only=False` (the current default value), which uses the default pickle module implicitly. It is possible to construct malicious pickle data which will execute arbitrary code during unpickling (See https://github.com/pytorch/pytorch/blob/main/SECURITY.md#untrusted-models for more details). In a future release, the default value for `weights_only` will be flipped to `True`. This limits the functions that could be executed during unpickling. Arbitrary objects will no longer be allowed to be loaded via this mode unless they are explicitly allowlisted by the user via `torch.serialization.add_safe_globals`. We recommend you start setting `weights_only=True` for any use case where you don't have full control of the loaded file. Please open an issue on GitHub for any issues related to this experimental feature.\n",
      "  data, labels = torch.load(path)\n"
     ]
    },
    {
     "name": "stdout",
     "output_type": "stream",
     "text": [
      "Done: two_blobs_separate, width=10, depth=1, ab_range=5, epoch=290\n",
      "Done: two_blobs_separate, width=10, depth=2, ab_range=1, epoch=890\n",
      "Done: two_blobs_separate, width=10, depth=2, ab_range=1, epoch=900\n",
      "\n",
      "Done: two_blobs_separate, width=10, depth=1, ab_range=5, epoch=300Done: two_blobs_separate, width=10, depth=2, ab_range=1, epoch=910\n",
      "Done: two_blobs_separate, width=10, depth=2, ab_range=1, epoch=920\n",
      "\n",
      "Done: two_blobs_separate, width=10, depth=2, ab_range=1, epoch=930Done: two_blobs_separate, width=10, depth=1, ab_range=5, epoch=310\n",
      "Done: two_blobs_separate, width=10, depth=1, ab_range=5, epoch=320\n"
     ]
    },
    {
     "name": "stderr",
     "output_type": "stream",
     "text": [
      "Outer loop (a):   2%|▏         | 2/100 [00:01<00:52,  1.86it/s]"
     ]
    },
    {
     "name": "stdout",
     "output_type": "stream",
     "text": [
      "\n",
      "Done: two_blobs_separate, width=10, depth=2, ab_range=1, epoch=940\n",
      "Done: two_blobs_separate, width=10, depth=1, ab_range=5, epoch=330\n",
      "Done: two_blobs_separate, width=10, depth=2, ab_range=1, epoch=950\n",
      "Done: two_blobs_separate, width=10, depth=2, ab_range=1, epoch=960\n",
      "Done: two_blobs_separate, width=10, depth=1, ab_range=5, epoch=340\n",
      "Done: two_blobs_separate, width=10, depth=1, ab_range=5, epoch=350\n",
      "Done: two_blobs_separate, width=10, depth=1, ab_range=5, epoch=360\n",
      "Done: two_blobs_separate, width=10, depth=1, ab_range=5, epoch=370\n",
      "Done: two_blobs_separate, width=10, depth=1, ab_range=5, epoch=380\n",
      "Done: two_blobs_separate, width=10, depth=1, ab_range=5, epoch=390Done: two_blobs_separate, width=10, depth=2, ab_range=1, epoch=970\n",
      "Done: two_blobs_separate, width=10, depth=2, ab_range=1, epoch=980\n",
      "\n",
      "Done: two_blobs_separate, width=10, depth=2, ab_range=1, epoch=990Done: two_blobs_separate, width=10, depth=1, ab_range=5, epoch=400\n",
      "Done: two_blobs_separate, width=10, depth=2, ab_range=1, epoch=1000\n",
      "\n",
      "Done: two_blobs_separate, width=10, depth=2, ab_range=10, epoch=0Done: two_blobs_separate, width=10, depth=1, ab_range=5, epoch=410\n",
      "\n",
      "Done: two_blobs_separate, width=10, depth=2, ab_range=10, epoch=10\n",
      "Done: two_blobs_separate, width=10, depth=2, ab_range=10, epoch=20Done: two_blobs_separate, width=10, depth=1, ab_range=5, epoch=420\n",
      "\n",
      "Done: two_blobs_separate, width=10, depth=2, ab_range=10, epoch=30Done: two_blobs_separate, width=10, depth=1, ab_range=5, epoch=430\n",
      "Done: two_blobs_separate, width=10, depth=2, ab_range=10, epoch=40\n",
      "\n",
      "Done: two_blobs_separate, width=10, depth=2, ab_range=10, epoch=50\n",
      "Done: two_blobs_separate, width=10, depth=2, ab_range=10, epoch=60Done: two_blobs_separate, width=10, depth=1, ab_range=5, epoch=440\n",
      "Done: two_blobs_separate, width=10, depth=2, ab_range=10, epoch=70\n",
      "\n",
      "Done: two_blobs_separate, width=10, depth=2, ab_range=10, epoch=80\n",
      "Done: two_blobs_separate, width=10, depth=1, ab_range=5, epoch=450\n",
      "Done: two_blobs_separate, width=10, depth=2, ab_range=10, epoch=90Done: two_blobs_separate, width=10, depth=1, ab_range=5, epoch=460\n",
      "Done: two_blobs_separate, width=10, depth=1, ab_range=5, epoch=470\n",
      "Done: two_blobs_separate, width=10, depth=1, ab_range=5, epoch=480\n",
      "\n",
      "Done: two_blobs_separate, width=10, depth=1, ab_range=5, epoch=490Done: two_blobs_separate, width=10, depth=2, ab_range=10, epoch=100\n",
      "Done: two_blobs_separate, width=10, depth=2, ab_range=10, epoch=110\n",
      "Done: two_blobs_separate, width=10, depth=2, ab_range=10, epoch=120\n",
      "Done: two_blobs_separate, width=10, depth=2, ab_range=10, epoch=130\n",
      "Done: two_blobs_separate, width=10, depth=2, ab_range=10, epoch=140\n",
      "\n",
      "Done: two_blobs_separate, width=10, depth=2, ab_range=10, epoch=150Done: two_blobs_separate, width=10, depth=1, ab_range=5, epoch=500\n",
      "\n",
      "Done: two_blobs_separate, width=10, depth=2, ab_range=10, epoch=160Done: two_blobs_separate, width=10, depth=1, ab_range=5, epoch=510\n",
      "\n",
      "Done: two_blobs_separate, width=10, depth=1, ab_range=5, epoch=520\n",
      "Done: two_blobs_separate, width=10, depth=1, ab_range=5, epoch=530\n",
      "Done: two_blobs_separate, width=10, depth=1, ab_range=5, epoch=540\n",
      "Done: two_blobs_separate, width=10, depth=1, ab_range=5, epoch=550\n",
      "Done: two_blobs_separate, width=10, depth=1, ab_range=5, epoch=560\n",
      "Done: two_blobs_separate, width=10, depth=2, ab_range=10, epoch=170\n",
      "Done: two_blobs_separate, width=10, depth=1, ab_range=5, epoch=570\n",
      "Done: two_blobs_separate, width=10, depth=2, ab_range=10, epoch=180\n",
      "Done: two_blobs_separate, width=10, depth=2, ab_range=10, epoch=190\n",
      "Done: two_blobs_separate, width=10, depth=2, ab_range=10, epoch=200\n",
      "Done: two_blobs_separate, width=10, depth=1, ab_range=5, epoch=580\n",
      "Done: two_blobs_separate, width=10, depth=1, ab_range=5, epoch=590\n",
      "Done: two_blobs_separate, width=10, depth=1, ab_range=5, epoch=600\n",
      "Done: two_blobs_separate, width=10, depth=2, ab_range=10, epoch=210Done: two_blobs_separate, width=10, depth=1, ab_range=5, epoch=610\n",
      "\n",
      "Done: two_blobs_separate, width=10, depth=1, ab_range=5, epoch=620\n",
      "Done: two_blobs_separate, width=10, depth=1, ab_range=5, epoch=630\n",
      "Done: two_blobs_separate, width=10, depth=1, ab_range=5, epoch=640\n",
      "Done: two_blobs_separate, width=10, depth=1, ab_range=5, epoch=650\n",
      "Done: two_blobs_separate, width=10, depth=1, ab_range=5, epoch=660\n",
      "Done: two_blobs_separate, width=10, depth=1, ab_range=5, epoch=670\n",
      "Done: two_blobs_separate, width=10, depth=1, ab_range=5, epoch=680\n",
      "Done: two_blobs_separate, width=10, depth=1, ab_range=5, epoch=690Done: two_blobs_separate, width=10, depth=2, ab_range=10, epoch=220\n",
      "\n",
      "Done: two_blobs_separate, width=10, depth=2, ab_range=10, epoch=230\n",
      "Done: two_blobs_separate, width=10, depth=2, ab_range=10, epoch=240\n",
      "Done: two_blobs_separate, width=10, depth=2, ab_range=10, epoch=250\n",
      "Done: two_blobs_separate, width=10, depth=2, ab_range=10, epoch=260\n",
      "Done: two_blobs_separate, width=10, depth=2, ab_range=10, epoch=270\n",
      "Done: two_blobs_separate, width=10, depth=1, ab_range=5, epoch=700Done: two_blobs_separate, width=10, depth=2, ab_range=10, epoch=280\n",
      "Done: two_blobs_separate, width=10, depth=2, ab_range=10, epoch=290\n",
      "\n",
      "Done: two_blobs_separate, width=10, depth=2, ab_range=10, epoch=300Done: two_blobs_separate, width=10, depth=1, ab_range=5, epoch=710\n",
      "\n",
      "Done: two_blobs_separate, width=10, depth=2, ab_range=10, epoch=310Done: two_blobs_separate, width=10, depth=1, ab_range=5, epoch=720\n",
      "\n",
      "Done: two_blobs_separate, width=10, depth=2, ab_range=10, epoch=320Done: two_blobs_separate, width=10, depth=1, ab_range=5, epoch=730\n",
      "\n",
      "Done: two_blobs_separate, width=10, depth=2, ab_range=10, epoch=330\n",
      "Done: two_blobs_separate, width=10, depth=1, ab_range=5, epoch=740\n",
      "Done: two_blobs_separate, width=10, depth=2, ab_range=10, epoch=340\n",
      "Done: two_blobs_separate, width=10, depth=1, ab_range=5, epoch=750\n",
      "Done: two_blobs_separate, width=10, depth=2, ab_range=10, epoch=350Done: two_blobs_separate, width=10, depth=1, ab_range=5, epoch=760\n",
      "Done: two_blobs_separate, width=10, depth=1, ab_range=5, epoch=770\n",
      "\n",
      "Done: two_blobs_separate, width=10, depth=2, ab_range=10, epoch=360Done: two_blobs_separate, width=10, depth=1, ab_range=5, epoch=780\n",
      "Done: two_blobs_separate, width=10, depth=1, ab_range=5, epoch=790\n",
      "\n",
      "Done: two_blobs_separate, width=10, depth=1, ab_range=5, epoch=800\n",
      "Done: two_blobs_separate, width=10, depth=2, ab_range=10, epoch=370Done: two_blobs_separate, width=10, depth=1, ab_range=5, epoch=810\n",
      "Done: two_blobs_separate, width=10, depth=2, ab_range=10, epoch=380\n",
      "\n",
      "Done: two_blobs_separate, width=10, depth=2, ab_range=10, epoch=390\n",
      "Done: two_blobs_separate, width=10, depth=1, ab_range=5, epoch=820\n",
      "Done: two_blobs_separate, width=10, depth=2, ab_range=10, epoch=400\n",
      "Done: two_blobs_separate, width=10, depth=1, ab_range=5, epoch=830Done: two_blobs_separate, width=10, depth=2, ab_range=10, epoch=410\n",
      "\n",
      "Done: two_blobs_separate, width=10, depth=2, ab_range=10, epoch=420\n",
      "Done: two_blobs_separate, width=10, depth=1, ab_range=5, epoch=840\n",
      "Done: two_blobs_separate, width=10, depth=2, ab_range=10, epoch=430Done: two_blobs_separate, width=10, depth=1, ab_range=5, epoch=850\n",
      "Done: two_blobs_separate, width=10, depth=2, ab_range=10, epoch=440\n",
      "\n",
      "Done: two_blobs_separate, width=10, depth=1, ab_range=5, epoch=860Done: two_blobs_separate, width=10, depth=2, ab_range=10, epoch=450\n",
      "\n",
      "Done: two_blobs_separate, width=10, depth=1, ab_range=5, epoch=870Done: two_blobs_separate, width=10, depth=2, ab_range=10, epoch=460\n",
      "Done: two_blobs_separate, width=10, depth=2, ab_range=10, epoch=470\n",
      "Done: two_blobs_separate, width=10, depth=2, ab_range=10, epoch=480\n",
      "\n",
      "Done: two_blobs_separate, width=10, depth=1, ab_range=5, epoch=880Done: two_blobs_separate, width=10, depth=2, ab_range=10, epoch=490\n",
      "\n",
      "Done: two_blobs_separate, width=10, depth=2, ab_range=10, epoch=500Done: two_blobs_separate, width=10, depth=1, ab_range=5, epoch=890\n",
      "Done: two_blobs_separate, width=10, depth=2, ab_range=10, epoch=510\n",
      "Done: two_blobs_separate, width=10, depth=2, ab_range=10, epoch=520\n",
      "\n",
      "Done: two_blobs_separate, width=10, depth=2, ab_range=10, epoch=530\n",
      "Done: two_blobs_separate, width=10, depth=2, ab_range=10, epoch=540Done: two_blobs_separate, width=10, depth=1, ab_range=5, epoch=900\n",
      "Done: two_blobs_separate, width=10, depth=2, ab_range=10, epoch=550\n",
      "\n",
      "Done: two_blobs_separate, width=10, depth=2, ab_range=10, epoch=560Done: two_blobs_separate, width=10, depth=1, ab_range=5, epoch=910\n",
      "\n",
      "Done: two_blobs_separate, width=10, depth=2, ab_range=10, epoch=570Done: two_blobs_separate, width=10, depth=1, ab_range=5, epoch=920\n",
      "\n",
      "Done: two_blobs_separate, width=10, depth=1, ab_range=5, epoch=930Done: two_blobs_separate, width=10, depth=2, ab_range=10, epoch=580\n",
      "\n",
      "Done: two_blobs_separate, width=10, depth=2, ab_range=10, epoch=590Done: two_blobs_separate, width=10, depth=1, ab_range=5, epoch=940\n",
      "Done: two_blobs_separate, width=10, depth=1, ab_range=5, epoch=950\n",
      "Done: two_blobs_separate, width=10, depth=1, ab_range=5, epoch=960\n",
      "\n",
      "Done: two_blobs_separate, width=10, depth=1, ab_range=5, epoch=970\n"
     ]
    },
    {
     "name": "stderr",
     "output_type": "stream",
     "text": [
      "IOPub message rate exceeded.\n",
      "The Jupyter server will temporarily stop sending output\n",
      "to the client in order to avoid crashing it.\n",
      "To change this limit, set the config variable\n",
      "`--ServerApp.iopub_msg_rate_limit`.\n",
      "\n",
      "Current values:\n",
      "ServerApp.iopub_msg_rate_limit=1000.0 (msgs/sec)\n",
      "ServerApp.rate_limit_window=3.0 (secs)\n",
      "\n"
     ]
    },
    {
     "name": "stdout",
     "output_type": "stream",
     "text": [
      "Done: two_blobs_overlap, width=10, depth=1, ab_range=2, epoch=540\n",
      "Done: two_blobs_overlap, width=10, depth=1, ab_range=2, epoch=550\n",
      "Done: two_blobs_overlap, width=10, depth=1, ab_range=2, epoch=560\n",
      "Done: two_blobs_overlap, width=10, depth=1, ab_range=2, epoch=570\n",
      "Done: two_blobs_overlap, width=10, depth=1, ab_range=2, epoch=580\n",
      "Done: two_blobs_overlap, width=10, depth=1, ab_range=2, epoch=590\n",
      "Done: two_blobs_overlap, width=10, depth=1, ab_range=2, epoch=600\n",
      "Done: two_blobs_overlap, width=10, depth=1, ab_range=2, epoch=610\n",
      "Done: two_blobs_overlap, width=10, depth=1, ab_range=2, epoch=620\n",
      "Done: two_blobs_overlap, width=10, depth=1, ab_range=2, epoch=630\n",
      "Done: two_blobs_overlap, width=10, depth=1, ab_range=2, epoch=640\n",
      "Done: two_blobs_overlap, width=10, depth=1, ab_range=2, epoch=650\n",
      "Done: two_blobs_overlap, width=10, depth=1, ab_range=2, epoch=660\n",
      "Done: two_blobs_overlap, width=10, depth=1, ab_range=2, epoch=670\n",
      "Done: two_blobs_overlap, width=10, depth=1, ab_range=2, epoch=680\n",
      "Done: two_blobs_overlap, width=10, depth=1, ab_range=2, epoch=690\n",
      "Done: two_blobs_overlap, width=10, depth=1, ab_range=2, epoch=700\n",
      "Done: two_blobs_overlap, width=10, depth=1, ab_range=2, epoch=710\n",
      "Done: two_blobs_overlap, width=10, depth=1, ab_range=2, epoch=720\n",
      "Done: two_blobs_overlap, width=10, depth=1, ab_range=2, epoch=730\n",
      "Done: two_blobs_overlap, width=10, depth=1, ab_range=2, epoch=740\n",
      "Done: two_blobs_overlap, width=10, depth=1, ab_range=2, epoch=750\n",
      "Done: two_blobs_overlap, width=10, depth=1, ab_range=2, epoch=760\n",
      "Done: two_blobs_overlap, width=10, depth=1, ab_range=2, epoch=770\n",
      "Done: two_blobs_overlap, width=10, depth=1, ab_range=2, epoch=780\n",
      "Done: two_blobs_overlap, width=10, depth=1, ab_range=2, epoch=790\n",
      "Done: two_blobs_overlap, width=10, depth=1, ab_range=2, epoch=800\n",
      "Done: two_blobs_overlap, width=10, depth=1, ab_range=2, epoch=810\n",
      "Done: two_blobs_overlap, width=10, depth=1, ab_range=2, epoch=820\n",
      "Done: two_blobs_overlap, width=10, depth=1, ab_range=2, epoch=830\n",
      "Done: two_blobs_overlap, width=10, depth=1, ab_range=2, epoch=840\n",
      "Done: two_blobs_overlap, width=10, depth=1, ab_range=2, epoch=850\n",
      "Done: two_blobs_overlap, width=10, depth=1, ab_range=2, epoch=860\n",
      "Done: two_blobs_overlap, width=10, depth=1, ab_range=2, epoch=870\n",
      "Done: two_blobs_overlap, width=10, depth=1, ab_range=2, epoch=880\n",
      "Done: two_blobs_overlap, width=10, depth=1, ab_range=2, epoch=890\n",
      "Done: two_blobs_overlap, width=10, depth=1, ab_range=2, epoch=900\n",
      "Done: two_blobs_overlap, width=10, depth=1, ab_range=2, epoch=910\n",
      "Done: two_blobs_overlap, width=10, depth=1, ab_range=2, epoch=920\n",
      "Done: two_blobs_overlap, width=10, depth=1, ab_range=2, epoch=930\n",
      "Done: two_blobs_overlap, width=10, depth=1, ab_range=2, epoch=940\n",
      "Previously saved model is of lower resolution; recomputing\n"
     ]
    },
    {
     "name": "stderr",
     "output_type": "stream",
     "text": [
      "/home/yifan/DISKB/Dropbox/Projects/Spring2025/LandscapeVisualizer_2D/LossLandscapeVisualizer/build/visualize_landscape.py:118: FutureWarning: You are using `torch.load` with `weights_only=False` (the current default value), which uses the default pickle module implicitly. It is possible to construct malicious pickle data which will execute arbitrary code during unpickling (See https://github.com/pytorch/pytorch/blob/main/SECURITY.md#untrusted-models for more details). In a future release, the default value for `weights_only` will be flipped to `True`. This limits the functions that could be executed during unpickling. Arbitrary objects will no longer be allowed to be loaded via this mode unless they are explicitly allowlisted by the user via `torch.serialization.add_safe_globals`. We recommend you start setting `weights_only=True` for any use case where you don't have full control of the loaded file. Please open an issue on GitHub for any issues related to this experimental feature.\n",
      "  base_model.load_state_dict(torch.load(base_path))\n",
      "/home/yifan/DISKB/Dropbox/Projects/Spring2025/LandscapeVisualizer_2D/LossLandscapeVisualizer/build/visualize_landscape.py:56: FutureWarning: You are using `torch.load` with `weights_only=False` (the current default value), which uses the default pickle module implicitly. It is possible to construct malicious pickle data which will execute arbitrary code during unpickling (See https://github.com/pytorch/pytorch/blob/main/SECURITY.md#untrusted-models for more details). In a future release, the default value for `weights_only` will be flipped to `True`. This limits the functions that could be executed during unpickling. Arbitrary objects will no longer be allowed to be loaded via this mode unless they are explicitly allowlisted by the user via `torch.serialization.add_safe_globals`. We recommend you start setting `weights_only=True` for any use case where you don't have full control of the loaded file. Please open an issue on GitHub for any issues related to this experimental feature.\n",
      "  model.load_state_dict(torch.load(path))\n",
      "Outer loop (a):   0%|          | 0/100 [00:00<?, ?it/s]/home/yifan/DISKB/Dropbox/Projects/Spring2025/LandscapeVisualizer_2D/LossLandscapeVisualizer/build/data.py:85: FutureWarning: You are using `torch.load` with `weights_only=False` (the current default value), which uses the default pickle module implicitly. It is possible to construct malicious pickle data which will execute arbitrary code during unpickling (See https://github.com/pytorch/pytorch/blob/main/SECURITY.md#untrusted-models for more details). In a future release, the default value for `weights_only` will be flipped to `True`. This limits the functions that could be executed during unpickling. Arbitrary objects will no longer be allowed to be loaded via this mode unless they are explicitly allowlisted by the user via `torch.serialization.add_safe_globals`. We recommend you start setting `weights_only=True` for any use case where you don't have full control of the loaded file. Please open an issue on GitHub for any issues related to this experimental feature.\n",
      "  data, labels = torch.load(path)\n",
      "Outer loop (a): 100%|██████████| 100/100 [00:47<00:00,  2.12it/s]\n"
     ]
    },
    {
     "name": "stdout",
     "output_type": "stream",
     "text": [
      "✅ Updated and saved new grid at ../backend/landscapes/mlp_10/two_blobs_overlap/train/range5/ep450\n",
      "Done: two_blobs_overlap, width=10, depth=1, ab_range=5, epoch=450\n",
      "Previously saved model is of lower resolution; recomputing\n"
     ]
    },
    {
     "name": "stderr",
     "output_type": "stream",
     "text": [
      "Outer loop (a): 100%|██████████| 100/100 [00:46<00:00,  2.15it/s]\n"
     ]
    },
    {
     "name": "stdout",
     "output_type": "stream",
     "text": [
      "✅ Updated and saved new grid at ../backend/landscapes/mlp_10/spirals/train/range0.2/ep420\n",
      "Done: spirals, width=10, depth=1, ab_range=0.2, epoch=420\n",
      "Previously saved model is of lower resolution; recomputing\n"
     ]
    },
    {
     "name": "stderr",
     "output_type": "stream",
     "text": [
      "Outer loop (a): 100%|██████████| 100/100 [00:48<00:00,  2.05it/s]\n"
     ]
    },
    {
     "name": "stdout",
     "output_type": "stream",
     "text": [
      "✅ Updated and saved new grid at ../backend/landscapes/mlp_10_10/two_blobs_overlap/train/range1/ep770\n",
      "Done: two_blobs_overlap, width=10, depth=2, ab_range=1, epoch=770\n",
      "Previously saved model is of lower resolution; recomputing\n"
     ]
    },
    {
     "name": "stderr",
     "output_type": "stream",
     "text": [
      "Outer loop (a): 100%|██████████| 100/100 [00:49<00:00,  2.00it/s]\n"
     ]
    },
    {
     "name": "stdout",
     "output_type": "stream",
     "text": [
      "✅ Updated and saved new grid at ../backend/landscapes/mlp_10_10/two_blobs_separate/train/range5/ep690\n",
      "Done: two_blobs_separate, width=10, depth=2, ab_range=5, epoch=690\n",
      "Previously saved model is of lower resolution; recomputing\n"
     ]
    },
    {
     "name": "stderr",
     "output_type": "stream",
     "text": [
      "Outer loop (a): 100%|██████████| 100/100 [00:49<00:00,  2.02it/s]\n"
     ]
    },
    {
     "name": "stdout",
     "output_type": "stream",
     "text": [
      "✅ Updated and saved new grid at ../backend/landscapes/mlp_10/two_blobs_overlap/train/range5/ep460\n",
      "Done: two_blobs_overlap, width=10, depth=1, ab_range=5, epoch=460\n",
      "Previously saved model is of lower resolution; recomputing\n"
     ]
    },
    {
     "name": "stderr",
     "output_type": "stream",
     "text": [
      "Outer loop (a): 100%|██████████| 100/100 [00:50<00:00,  1.98it/s]\n"
     ]
    },
    {
     "name": "stdout",
     "output_type": "stream",
     "text": [
      "✅ Updated and saved new grid at ../backend/landscapes/mlp_10/spirals/train/range0.2/ep430\n",
      "Done: spirals, width=10, depth=1, ab_range=0.2, epoch=430\n",
      "Previously saved model is of lower resolution; recomputing\n"
     ]
    },
    {
     "name": "stderr",
     "output_type": "stream",
     "text": [
      "Outer loop (a): 100%|██████████| 100/100 [00:52<00:00,  1.91it/s]\n"
     ]
    },
    {
     "name": "stdout",
     "output_type": "stream",
     "text": [
      "✅ Updated and saved new grid at ../backend/landscapes/mlp_10_10/two_blobs_overlap/train/range1/ep780\n",
      "Done: two_blobs_overlap, width=10, depth=2, ab_range=1, epoch=780\n",
      "Previously saved model is of lower resolution; recomputing\n"
     ]
    },
    {
     "name": "stderr",
     "output_type": "stream",
     "text": [
      "Outer loop (a): 100%|██████████| 100/100 [00:52<00:00,  1.91it/s]\n"
     ]
    },
    {
     "name": "stdout",
     "output_type": "stream",
     "text": [
      "✅ Updated and saved new grid at ../backend/landscapes/mlp_10_10/two_blobs_separate/train/range5/ep700\n",
      "Done: two_blobs_separate, width=10, depth=2, ab_range=5, epoch=700\n",
      "Previously saved model is of lower resolution; recomputing\n"
     ]
    },
    {
     "name": "stderr",
     "output_type": "stream",
     "text": [
      "Outer loop (a): 100%|██████████| 100/100 [00:49<00:00,  2.02it/s]\n"
     ]
    },
    {
     "name": "stdout",
     "output_type": "stream",
     "text": [
      "✅ Updated and saved new grid at ../backend/landscapes/mlp_10/two_blobs_overlap/train/range5/ep470\n",
      "Done: two_blobs_overlap, width=10, depth=1, ab_range=5, epoch=470\n",
      "Previously saved model is of lower resolution; recomputing\n"
     ]
    },
    {
     "name": "stderr",
     "output_type": "stream",
     "text": [
      "Outer loop (a): 100%|██████████| 100/100 [00:50<00:00,  1.99it/s]\n"
     ]
    },
    {
     "name": "stdout",
     "output_type": "stream",
     "text": [
      "✅ Updated and saved new grid at ../backend/landscapes/mlp_10/spirals/train/range0.2/ep440\n",
      "Done: spirals, width=10, depth=1, ab_range=0.2, epoch=440\n",
      "Previously saved model is of lower resolution; recomputing\n"
     ]
    },
    {
     "name": "stderr",
     "output_type": "stream",
     "text": [
      "Outer loop (a): 100%|██████████| 100/100 [00:50<00:00,  2.00it/s]\n"
     ]
    },
    {
     "name": "stdout",
     "output_type": "stream",
     "text": [
      "✅ Updated and saved new grid at ../backend/landscapes/mlp_10_10/two_blobs_overlap/train/range1/ep790\n",
      "Done: two_blobs_overlap, width=10, depth=2, ab_range=1, epoch=790\n",
      "Previously saved model is of lower resolution; recomputing\n"
     ]
    },
    {
     "name": "stderr",
     "output_type": "stream",
     "text": [
      "Outer loop (a): 100%|██████████| 100/100 [00:54<00:00,  1.84it/s]\n"
     ]
    },
    {
     "name": "stdout",
     "output_type": "stream",
     "text": [
      "✅ Updated and saved new grid at ../backend/landscapes/mlp_10_10/two_blobs_separate/train/range5/ep710\n",
      "Done: two_blobs_separate, width=10, depth=2, ab_range=5, epoch=710\n",
      "Previously saved model is of lower resolution; recomputing\n"
     ]
    },
    {
     "name": "stderr",
     "output_type": "stream",
     "text": [
      "Outer loop (a): 100%|██████████| 100/100 [00:48<00:00,  2.05it/s]\n"
     ]
    },
    {
     "name": "stdout",
     "output_type": "stream",
     "text": [
      "✅ Updated and saved new grid at ../backend/landscapes/mlp_10/spirals/train/range0.2/ep450\n",
      "Done: spirals, width=10, depth=1, ab_range=0.2, epoch=450\n",
      "Previously saved model is of lower resolution; recomputing\n"
     ]
    },
    {
     "name": "stderr",
     "output_type": "stream",
     "text": [
      "Outer loop (a): 100%|██████████| 100/100 [00:51<00:00,  1.95it/s]\n"
     ]
    },
    {
     "name": "stdout",
     "output_type": "stream",
     "text": [
      "✅ Updated and saved new grid at ../backend/landscapes/mlp_10/two_blobs_overlap/train/range5/ep480\n",
      "Done: two_blobs_overlap, width=10, depth=1, ab_range=5, epoch=480\n",
      "Previously saved model is of lower resolution; recomputing\n"
     ]
    },
    {
     "name": "stderr",
     "output_type": "stream",
     "text": [
      "Outer loop (a): 100%|██████████| 100/100 [00:52<00:00,  1.90it/s]\n"
     ]
    },
    {
     "name": "stdout",
     "output_type": "stream",
     "text": [
      "✅ Updated and saved new grid at ../backend/landscapes/mlp_10_10/two_blobs_overlap/train/range1/ep800\n",
      "Done: two_blobs_overlap, width=10, depth=2, ab_range=1, epoch=800\n",
      "Previously saved model is of lower resolution; recomputing\n"
     ]
    },
    {
     "name": "stderr",
     "output_type": "stream",
     "text": [
      "Outer loop (a): 100%|██████████| 100/100 [00:51<00:00,  1.95it/s]\n"
     ]
    },
    {
     "name": "stdout",
     "output_type": "stream",
     "text": [
      "✅ Updated and saved new grid at ../backend/landscapes/mlp_10_10/two_blobs_separate/train/range5/ep720\n",
      "Done: two_blobs_separate, width=10, depth=2, ab_range=5, epoch=720\n",
      "Previously saved model is of lower resolution; recomputing\n"
     ]
    },
    {
     "name": "stderr",
     "output_type": "stream",
     "text": [
      "Outer loop (a): 100%|██████████| 100/100 [00:49<00:00,  2.04it/s]\n"
     ]
    },
    {
     "name": "stdout",
     "output_type": "stream",
     "text": [
      "✅ Updated and saved new grid at ../backend/landscapes/mlp_10/spirals/train/range0.2/ep460\n",
      "Done: spirals, width=10, depth=1, ab_range=0.2, epoch=460\n",
      "Previously saved model is of lower resolution; recomputing\n"
     ]
    },
    {
     "name": "stderr",
     "output_type": "stream",
     "text": [
      "Outer loop (a): 100%|██████████| 100/100 [00:48<00:00,  2.04it/s]\n"
     ]
    },
    {
     "name": "stdout",
     "output_type": "stream",
     "text": [
      "✅ Updated and saved new grid at ../backend/landscapes/mlp_10/two_blobs_overlap/train/range5/ep490\n",
      "Done: two_blobs_overlap, width=10, depth=1, ab_range=5, epoch=490\n",
      "Previously saved model is of lower resolution; recomputing\n"
     ]
    },
    {
     "name": "stderr",
     "output_type": "stream",
     "text": [
      "Outer loop (a): 100%|██████████| 100/100 [00:51<00:00,  1.96it/s]\n"
     ]
    },
    {
     "name": "stdout",
     "output_type": "stream",
     "text": [
      "✅ Updated and saved new grid at ../backend/landscapes/mlp_10_10/two_blobs_overlap/train/range1/ep810\n",
      "Done: two_blobs_overlap, width=10, depth=2, ab_range=1, epoch=810\n",
      "Previously saved model is of lower resolution; recomputing\n"
     ]
    },
    {
     "name": "stderr",
     "output_type": "stream",
     "text": [
      "Outer loop (a): 100%|██████████| 100/100 [00:49<00:00,  2.00it/s]\n"
     ]
    },
    {
     "name": "stdout",
     "output_type": "stream",
     "text": [
      "✅ Updated and saved new grid at ../backend/landscapes/mlp_10_10/two_blobs_separate/train/range5/ep730\n",
      "Done: two_blobs_separate, width=10, depth=2, ab_range=5, epoch=730\n",
      "Previously saved model is of lower resolution; recomputing\n"
     ]
    },
    {
     "name": "stderr",
     "output_type": "stream",
     "text": [
      "Outer loop (a): 100%|██████████| 100/100 [00:48<00:00,  2.05it/s]\n"
     ]
    },
    {
     "name": "stdout",
     "output_type": "stream",
     "text": [
      "✅ Updated and saved new grid at ../backend/landscapes/mlp_10/spirals/train/range0.2/ep470\n",
      "Done: spirals, width=10, depth=1, ab_range=0.2, epoch=470\n",
      "Previously saved model is of lower resolution; recomputing\n"
     ]
    },
    {
     "name": "stderr",
     "output_type": "stream",
     "text": [
      "Outer loop (a): 100%|██████████| 100/100 [00:49<00:00,  2.03it/s]\n"
     ]
    },
    {
     "name": "stdout",
     "output_type": "stream",
     "text": [
      "✅ Updated and saved new grid at ../backend/landscapes/mlp_10/two_blobs_overlap/train/range5/ep500\n",
      "Done: two_blobs_overlap, width=10, depth=1, ab_range=5, epoch=500\n",
      "Previously saved model is of lower resolution; recomputing\n"
     ]
    },
    {
     "name": "stderr",
     "output_type": "stream",
     "text": [
      "Outer loop (a): 100%|██████████| 100/100 [00:52<00:00,  1.91it/s]\n"
     ]
    },
    {
     "name": "stdout",
     "output_type": "stream",
     "text": [
      "✅ Updated and saved new grid at ../backend/landscapes/mlp_10_10/two_blobs_overlap/train/range1/ep820\n",
      "Done: two_blobs_overlap, width=10, depth=2, ab_range=1, epoch=820\n",
      "Previously saved model is of lower resolution; recomputing\n"
     ]
    },
    {
     "name": "stderr",
     "output_type": "stream",
     "text": [
      "Outer loop (a): 100%|██████████| 100/100 [00:52<00:00,  1.91it/s]\n"
     ]
    },
    {
     "name": "stdout",
     "output_type": "stream",
     "text": [
      "✅ Updated and saved new grid at ../backend/landscapes/mlp_10_10/two_blobs_separate/train/range5/ep740\n",
      "Done: two_blobs_separate, width=10, depth=2, ab_range=5, epoch=740\n",
      "Previously saved model is of lower resolution; recomputing\n"
     ]
    },
    {
     "name": "stderr",
     "output_type": "stream",
     "text": [
      "Outer loop (a): 100%|██████████| 100/100 [00:47<00:00,  2.10it/s]\n"
     ]
    },
    {
     "name": "stdout",
     "output_type": "stream",
     "text": [
      "✅ Updated and saved new grid at ../backend/landscapes/mlp_10/spirals/train/range0.2/ep480\n",
      "Done: spirals, width=10, depth=1, ab_range=0.2, epoch=480\n",
      "Previously saved model is of lower resolution; recomputing\n"
     ]
    },
    {
     "name": "stderr",
     "output_type": "stream",
     "text": [
      "Outer loop (a):   7%|▋         | 7/100 [00:03<00:39,  2.35it/s]s]\n"
     ]
    },
    {
     "name": "stdout",
     "output_type": "stream",
     "text": [
      "✅ Updated and saved new grid at ../backend/landscapes/mlp_10/two_blobs_overlap/train/range5/ep510\n",
      "Done: two_blobs_overlap, width=10, depth=1, ab_range=5, epoch=510\n",
      "Previously saved model is of lower resolution; recomputing\n"
     ]
    },
    {
     "name": "stderr",
     "output_type": "stream",
     "text": [
      "Outer loop (a): 100%|██████████| 100/100 [00:52<00:00,  1.90it/s]\n"
     ]
    },
    {
     "name": "stdout",
     "output_type": "stream",
     "text": [
      "✅ Updated and saved new grid at ../backend/landscapes/mlp_10_10/two_blobs_overlap/train/range1/ep830\n",
      "Done: two_blobs_overlap, width=10, depth=2, ab_range=1, epoch=830\n",
      "Previously saved model is of lower resolution; recomputing\n"
     ]
    },
    {
     "name": "stderr",
     "output_type": "stream",
     "text": [
      "Outer loop (a): 100%|██████████| 100/100 [00:50<00:00,  1.96it/s]\n"
     ]
    },
    {
     "name": "stdout",
     "output_type": "stream",
     "text": [
      "✅ Updated and saved new grid at ../backend/landscapes/mlp_10_10/two_blobs_separate/train/range5/ep750\n",
      "Done: two_blobs_separate, width=10, depth=2, ab_range=5, epoch=750\n",
      "Previously saved model is of lower resolution; recomputing\n"
     ]
    },
    {
     "name": "stderr",
     "output_type": "stream",
     "text": [
      "Outer loop (a): 100%|██████████| 100/100 [00:49<00:00,  2.03it/s]\n"
     ]
    },
    {
     "name": "stdout",
     "output_type": "stream",
     "text": [
      "✅ Updated and saved new grid at ../backend/landscapes/mlp_10/spirals/train/range0.2/ep490\n",
      "Done: spirals, width=10, depth=1, ab_range=0.2, epoch=490\n",
      "Previously saved model is of lower resolution; recomputing\n"
     ]
    },
    {
     "name": "stderr",
     "output_type": "stream",
     "text": [
      "Outer loop (a): 100%|██████████| 100/100 [00:49<00:00,  2.00it/s]\n"
     ]
    },
    {
     "name": "stdout",
     "output_type": "stream",
     "text": [
      "✅ Updated and saved new grid at ../backend/landscapes/mlp_10/two_blobs_overlap/train/range5/ep520\n",
      "Done: two_blobs_overlap, width=10, depth=1, ab_range=5, epoch=520\n",
      "Previously saved model is of lower resolution; recomputing\n"
     ]
    },
    {
     "name": "stderr",
     "output_type": "stream",
     "text": [
      "Outer loop (a): 100%|██████████| 100/100 [00:51<00:00,  1.92it/s]\n"
     ]
    },
    {
     "name": "stdout",
     "output_type": "stream",
     "text": [
      "✅ Updated and saved new grid at ../backend/landscapes/mlp_10_10/two_blobs_overlap/train/range1/ep840\n",
      "Done: two_blobs_overlap, width=10, depth=2, ab_range=1, epoch=840\n",
      "Previously saved model is of lower resolution; recomputing\n"
     ]
    },
    {
     "name": "stderr",
     "output_type": "stream",
     "text": [
      "Outer loop (a): 100%|██████████| 100/100 [00:51<00:00,  1.92it/s]\n"
     ]
    },
    {
     "name": "stdout",
     "output_type": "stream",
     "text": [
      "✅ Updated and saved new grid at ../backend/landscapes/mlp_10_10/two_blobs_separate/train/range5/ep760\n",
      "Done: two_blobs_separate, width=10, depth=2, ab_range=5, epoch=760\n",
      "Previously saved model is of lower resolution; recomputing\n"
     ]
    },
    {
     "name": "stderr",
     "output_type": "stream",
     "text": [
      "Outer loop (a): 100%|██████████| 100/100 [00:50<00:00,  1.99it/s]\n"
     ]
    },
    {
     "name": "stdout",
     "output_type": "stream",
     "text": [
      "✅ Updated and saved new grid at ../backend/landscapes/mlp_10/spirals/train/range0.2/ep500\n",
      "Done: spirals, width=10, depth=1, ab_range=0.2, epoch=500\n",
      "Previously saved model is of lower resolution; recomputing\n"
     ]
    },
    {
     "name": "stderr",
     "output_type": "stream",
     "text": [
      "Outer loop (a): 100%|██████████| 100/100 [00:50<00:00,  1.99it/s]\n"
     ]
    },
    {
     "name": "stdout",
     "output_type": "stream",
     "text": [
      "✅ Updated and saved new grid at ../backend/landscapes/mlp_10/two_blobs_overlap/train/range5/ep530\n",
      "Done: two_blobs_overlap, width=10, depth=1, ab_range=5, epoch=530\n",
      "Previously saved model is of lower resolution; recomputing\n"
     ]
    },
    {
     "name": "stderr",
     "output_type": "stream",
     "text": [
      "Outer loop (a): 100%|██████████| 100/100 [00:50<00:00,  1.97it/s]\n"
     ]
    },
    {
     "name": "stdout",
     "output_type": "stream",
     "text": [
      "✅ Updated and saved new grid at ../backend/landscapes/mlp_10_10/two_blobs_separate/train/range5/ep770\n",
      "Done: two_blobs_separate, width=10, depth=2, ab_range=5, epoch=770\n",
      "Previously saved model is of lower resolution; recomputing\n"
     ]
    },
    {
     "name": "stderr",
     "output_type": "stream",
     "text": [
      "Outer loop (a): 100%|██████████| 100/100 [00:52<00:00,  1.91it/s]\n"
     ]
    },
    {
     "name": "stdout",
     "output_type": "stream",
     "text": [
      "✅ Updated and saved new grid at ../backend/landscapes/mlp_10_10/two_blobs_overlap/train/range1/ep850\n",
      "Done: two_blobs_overlap, width=10, depth=2, ab_range=1, epoch=850\n",
      "Previously saved model is of lower resolution; recomputing\n"
     ]
    },
    {
     "name": "stderr",
     "output_type": "stream",
     "text": [
      "Outer loop (a): 100%|██████████| 100/100 [00:50<00:00,  1.99it/s]\n"
     ]
    },
    {
     "name": "stdout",
     "output_type": "stream",
     "text": [
      "✅ Updated and saved new grid at ../backend/landscapes/mlp_10/spirals/train/range0.2/ep510\n",
      "Done: spirals, width=10, depth=1, ab_range=0.2, epoch=510\n",
      "Previously saved model is of lower resolution; recomputing\n"
     ]
    },
    {
     "name": "stderr",
     "output_type": "stream",
     "text": [
      "Outer loop (a): 100%|██████████| 100/100 [00:51<00:00,  1.95it/s]\n"
     ]
    },
    {
     "name": "stdout",
     "output_type": "stream",
     "text": [
      "✅ Updated and saved new grid at ../backend/landscapes/mlp_10/two_blobs_overlap/train/range5/ep540\n",
      "Done: two_blobs_overlap, width=10, depth=1, ab_range=5, epoch=540\n",
      "Previously saved model is of lower resolution; recomputing\n"
     ]
    },
    {
     "name": "stderr",
     "output_type": "stream",
     "text": [
      "Outer loop (a): 100%|██████████| 100/100 [00:51<00:00,  1.93it/s]\n"
     ]
    },
    {
     "name": "stdout",
     "output_type": "stream",
     "text": [
      "✅ Updated and saved new grid at ../backend/landscapes/mlp_10_10/two_blobs_separate/train/range5/ep780\n",
      "Done: two_blobs_separate, width=10, depth=2, ab_range=5, epoch=780\n",
      "Previously saved model is of lower resolution; recomputing\n"
     ]
    },
    {
     "name": "stderr",
     "output_type": "stream",
     "text": [
      "Outer loop (a): 100%|██████████| 100/100 [00:52<00:00,  1.90it/s]\n"
     ]
    },
    {
     "name": "stdout",
     "output_type": "stream",
     "text": [
      "✅ Updated and saved new grid at ../backend/landscapes/mlp_10_10/two_blobs_overlap/train/range1/ep860\n",
      "Done: two_blobs_overlap, width=10, depth=2, ab_range=1, epoch=860\n",
      "Previously saved model is of lower resolution; recomputing\n"
     ]
    },
    {
     "name": "stderr",
     "output_type": "stream",
     "text": [
      "Outer loop (a): 100%|██████████| 100/100 [00:49<00:00,  2.02it/s]\n"
     ]
    },
    {
     "name": "stdout",
     "output_type": "stream",
     "text": [
      "✅ Updated and saved new grid at ../backend/landscapes/mlp_10/spirals/train/range0.2/ep520\n",
      "Done: spirals, width=10, depth=1, ab_range=0.2, epoch=520\n",
      "Previously saved model is of lower resolution; recomputing\n"
     ]
    },
    {
     "name": "stderr",
     "output_type": "stream",
     "text": [
      "Outer loop (a): 100%|██████████| 100/100 [00:49<00:00,  2.02it/s]\n"
     ]
    },
    {
     "name": "stdout",
     "output_type": "stream",
     "text": [
      "✅ Updated and saved new grid at ../backend/landscapes/mlp_10/two_blobs_overlap/train/range5/ep550\n",
      "Done: two_blobs_overlap, width=10, depth=1, ab_range=5, epoch=550\n",
      "Previously saved model is of lower resolution; recomputing\n"
     ]
    },
    {
     "name": "stderr",
     "output_type": "stream",
     "text": [
      "Outer loop (a): 100%|██████████| 100/100 [00:52<00:00,  1.92it/s]\n"
     ]
    },
    {
     "name": "stdout",
     "output_type": "stream",
     "text": [
      "✅ Updated and saved new grid at ../backend/landscapes/mlp_10_10/two_blobs_separate/train/range5/ep790\n",
      "Done: two_blobs_separate, width=10, depth=2, ab_range=5, epoch=790\n",
      "Previously saved model is of lower resolution; recomputing\n"
     ]
    },
    {
     "name": "stderr",
     "output_type": "stream",
     "text": [
      "Outer loop (a): 100%|██████████| 100/100 [00:50<00:00,  1.96it/s]\n"
     ]
    },
    {
     "name": "stdout",
     "output_type": "stream",
     "text": [
      "✅ Updated and saved new grid at ../backend/landscapes/mlp_10_10/two_blobs_overlap/train/range1/ep870\n",
      "Done: two_blobs_overlap, width=10, depth=2, ab_range=1, epoch=870\n",
      "Previously saved model is of lower resolution; recomputing\n"
     ]
    },
    {
     "name": "stderr",
     "output_type": "stream",
     "text": [
      "Outer loop (a): 100%|██████████| 100/100 [00:47<00:00,  2.10it/s]\n"
     ]
    },
    {
     "name": "stdout",
     "output_type": "stream",
     "text": [
      "✅ Updated and saved new grid at ../backend/landscapes/mlp_10/spirals/train/range0.2/ep530\n",
      "Done: spirals, width=10, depth=1, ab_range=0.2, epoch=530\n",
      "Previously saved model is of lower resolution; recomputing\n"
     ]
    },
    {
     "name": "stderr",
     "output_type": "stream",
     "text": [
      "Outer loop (a): 100%|██████████| 100/100 [00:48<00:00,  2.07it/s]\n"
     ]
    },
    {
     "name": "stdout",
     "output_type": "stream",
     "text": [
      "✅ Updated and saved new grid at ../backend/landscapes/mlp_10/two_blobs_overlap/train/range5/ep560\n",
      "Done: two_blobs_overlap, width=10, depth=1, ab_range=5, epoch=560\n",
      "Previously saved model is of lower resolution; recomputing\n"
     ]
    },
    {
     "name": "stderr",
     "output_type": "stream",
     "text": [
      "Outer loop (a): 100%|██████████| 100/100 [00:53<00:00,  1.89it/s]\n"
     ]
    },
    {
     "name": "stdout",
     "output_type": "stream",
     "text": [
      "✅ Updated and saved new grid at ../backend/landscapes/mlp_10_10/two_blobs_separate/train/range5/ep800\n",
      "Done: two_blobs_separate, width=10, depth=2, ab_range=5, epoch=800\n",
      "Previously saved model is of lower resolution; recomputing\n"
     ]
    },
    {
     "name": "stderr",
     "output_type": "stream",
     "text": [
      "Outer loop (a): 100%|██████████| 100/100 [00:53<00:00,  1.88it/s]\n"
     ]
    },
    {
     "name": "stdout",
     "output_type": "stream",
     "text": [
      "✅ Updated and saved new grid at ../backend/landscapes/mlp_10_10/two_blobs_overlap/train/range1/ep880\n",
      "Done: two_blobs_overlap, width=10, depth=2, ab_range=1, epoch=880\n",
      "Previously saved model is of lower resolution; recomputing\n"
     ]
    },
    {
     "name": "stderr",
     "output_type": "stream",
     "text": [
      "Outer loop (a): 100%|██████████| 100/100 [00:48<00:00,  2.05it/s]\n"
     ]
    },
    {
     "name": "stdout",
     "output_type": "stream",
     "text": [
      "✅ Updated and saved new grid at ../backend/landscapes/mlp_10/spirals/train/range0.2/ep540\n",
      "Done: spirals, width=10, depth=1, ab_range=0.2, epoch=540\n",
      "Previously saved model is of lower resolution; recomputing\n"
     ]
    },
    {
     "name": "stderr",
     "output_type": "stream",
     "text": [
      "Outer loop (a): 100%|██████████| 100/100 [00:50<00:00,  1.98it/s]\n"
     ]
    },
    {
     "name": "stdout",
     "output_type": "stream",
     "text": [
      "✅ Updated and saved new grid at ../backend/landscapes/mlp_10/two_blobs_overlap/train/range5/ep570\n",
      "Done: two_blobs_overlap, width=10, depth=1, ab_range=5, epoch=570\n",
      "Previously saved model is of lower resolution; recomputing\n"
     ]
    },
    {
     "name": "stderr",
     "output_type": "stream",
     "text": [
      "Outer loop (a): 100%|██████████| 100/100 [00:51<00:00,  1.95it/s]\n"
     ]
    },
    {
     "name": "stdout",
     "output_type": "stream",
     "text": [
      "✅ Updated and saved new grid at ../backend/landscapes/mlp_10_10/two_blobs_separate/train/range5/ep810\n",
      "Done: two_blobs_separate, width=10, depth=2, ab_range=5, epoch=810\n",
      "Previously saved model is of lower resolution; recomputing\n"
     ]
    },
    {
     "name": "stderr",
     "output_type": "stream",
     "text": [
      "Outer loop (a): 100%|██████████| 100/100 [00:51<00:00,  1.93it/s]\n"
     ]
    },
    {
     "name": "stdout",
     "output_type": "stream",
     "text": [
      "✅ Updated and saved new grid at ../backend/landscapes/mlp_10_10/two_blobs_overlap/train/range1/ep890\n",
      "Done: two_blobs_overlap, width=10, depth=2, ab_range=1, epoch=890\n",
      "Previously saved model is of lower resolution; recomputing\n"
     ]
    },
    {
     "name": "stderr",
     "output_type": "stream",
     "text": [
      "Outer loop (a): 100%|██████████| 100/100 [00:49<00:00,  2.03it/s]\n"
     ]
    },
    {
     "name": "stdout",
     "output_type": "stream",
     "text": [
      "✅ Updated and saved new grid at ../backend/landscapes/mlp_10/spirals/train/range0.2/ep550\n",
      "Done: spirals, width=10, depth=1, ab_range=0.2, epoch=550\n",
      "Previously saved model is of lower resolution; recomputing\n"
     ]
    },
    {
     "name": "stderr",
     "output_type": "stream",
     "text": [
      "Outer loop (a): 100%|██████████| 100/100 [00:49<00:00,  2.04it/s]\n"
     ]
    },
    {
     "name": "stdout",
     "output_type": "stream",
     "text": [
      "✅ Updated and saved new grid at ../backend/landscapes/mlp_10/two_blobs_overlap/train/range5/ep580\n",
      "Done: two_blobs_overlap, width=10, depth=1, ab_range=5, epoch=580\n",
      "Previously saved model is of lower resolution; recomputing\n"
     ]
    },
    {
     "name": "stderr",
     "output_type": "stream",
     "text": [
      "Outer loop (a): 100%|██████████| 100/100 [00:52<00:00,  1.90it/s]\n"
     ]
    },
    {
     "name": "stdout",
     "output_type": "stream",
     "text": [
      "✅ Updated and saved new grid at ../backend/landscapes/mlp_10_10/two_blobs_separate/train/range5/ep820\n",
      "Done: two_blobs_separate, width=10, depth=2, ab_range=5, epoch=820\n",
      "Previously saved model is of lower resolution; recomputing\n"
     ]
    },
    {
     "name": "stderr",
     "output_type": "stream",
     "text": [
      "Outer loop (a): 100%|██████████| 100/100 [00:52<00:00,  1.91it/s]\n"
     ]
    },
    {
     "name": "stdout",
     "output_type": "stream",
     "text": [
      "✅ Updated and saved new grid at ../backend/landscapes/mlp_10_10/two_blobs_overlap/train/range1/ep900\n",
      "Done: two_blobs_overlap, width=10, depth=2, ab_range=1, epoch=900\n",
      "Previously saved model is of lower resolution; recomputing\n"
     ]
    },
    {
     "name": "stderr",
     "output_type": "stream",
     "text": [
      "Outer loop (a): 100%|██████████| 100/100 [00:47<00:00,  2.09it/s]\n"
     ]
    },
    {
     "name": "stdout",
     "output_type": "stream",
     "text": [
      "✅ Updated and saved new grid at ../backend/landscapes/mlp_10/spirals/train/range0.2/ep560\n",
      "Done: spirals, width=10, depth=1, ab_range=0.2, epoch=560\n",
      "Previously saved model is of lower resolution; recomputing\n"
     ]
    },
    {
     "name": "stderr",
     "output_type": "stream",
     "text": [
      "Outer loop (a): 100%|██████████| 100/100 [00:48<00:00,  2.07it/s]\n"
     ]
    },
    {
     "name": "stdout",
     "output_type": "stream",
     "text": [
      "✅ Updated and saved new grid at ../backend/landscapes/mlp_10/two_blobs_overlap/train/range5/ep590\n",
      "Done: two_blobs_overlap, width=10, depth=1, ab_range=5, epoch=590\n",
      "Previously saved model is of lower resolution; recomputing\n"
     ]
    },
    {
     "name": "stderr",
     "output_type": "stream",
     "text": [
      "Outer loop (a): 100%|██████████| 100/100 [00:51<00:00,  1.95it/s]\n"
     ]
    },
    {
     "name": "stdout",
     "output_type": "stream",
     "text": [
      "✅ Updated and saved new grid at ../backend/landscapes/mlp_10_10/two_blobs_separate/train/range5/ep830\n",
      "Done: two_blobs_separate, width=10, depth=2, ab_range=5, epoch=830\n",
      "Previously saved model is of lower resolution; recomputing\n"
     ]
    },
    {
     "name": "stderr",
     "output_type": "stream",
     "text": [
      "Outer loop (a): 100%|██████████| 100/100 [00:53<00:00,  1.89it/s]\n"
     ]
    },
    {
     "name": "stdout",
     "output_type": "stream",
     "text": [
      "✅ Updated and saved new grid at ../backend/landscapes/mlp_10_10/two_blobs_overlap/train/range1/ep910\n",
      "Done: two_blobs_overlap, width=10, depth=2, ab_range=1, epoch=910\n",
      "Previously saved model is of lower resolution; recomputing\n"
     ]
    },
    {
     "name": "stderr",
     "output_type": "stream",
     "text": [
      "Outer loop (a): 100%|██████████| 100/100 [00:48<00:00,  2.05it/s]\n"
     ]
    },
    {
     "name": "stdout",
     "output_type": "stream",
     "text": [
      "✅ Updated and saved new grid at ../backend/landscapes/mlp_10/spirals/train/range0.2/ep570\n",
      "Done: spirals, width=10, depth=1, ab_range=0.2, epoch=570\n",
      "Previously saved model is of lower resolution; recomputing\n"
     ]
    },
    {
     "name": "stderr",
     "output_type": "stream",
     "text": [
      "Outer loop (a): 100%|██████████| 100/100 [00:49<00:00,  2.01it/s]\n"
     ]
    },
    {
     "name": "stdout",
     "output_type": "stream",
     "text": [
      "✅ Updated and saved new grid at ../backend/landscapes/mlp_10/two_blobs_overlap/train/range5/ep600\n",
      "Done: two_blobs_overlap, width=10, depth=1, ab_range=5, epoch=600\n",
      "Previously saved model is of lower resolution; recomputing\n"
     ]
    },
    {
     "name": "stderr",
     "output_type": "stream",
     "text": [
      "Outer loop (a): 100%|██████████| 100/100 [00:52<00:00,  1.90it/s]\n"
     ]
    },
    {
     "name": "stdout",
     "output_type": "stream",
     "text": [
      "✅ Updated and saved new grid at ../backend/landscapes/mlp_10_10/two_blobs_separate/train/range5/ep840\n",
      "Done: two_blobs_separate, width=10, depth=2, ab_range=5, epoch=840\n",
      "Previously saved model is of lower resolution; recomputing\n"
     ]
    },
    {
     "name": "stderr",
     "output_type": "stream",
     "text": [
      "Outer loop (a): 100%|██████████| 100/100 [00:49<00:00,  2.01it/s]\n"
     ]
    },
    {
     "name": "stdout",
     "output_type": "stream",
     "text": [
      "✅ Updated and saved new grid at ../backend/landscapes/mlp_10/spirals/train/range0.2/ep580\n",
      "Done: spirals, width=10, depth=1, ab_range=0.2, epoch=580\n",
      "Previously saved model is of lower resolution; recomputing\n"
     ]
    },
    {
     "name": "stderr",
     "output_type": "stream",
     "text": [
      "Outer loop (a): 100%|██████████| 100/100 [00:52<00:00,  1.89it/s]\n"
     ]
    },
    {
     "name": "stdout",
     "output_type": "stream",
     "text": [
      "✅ Updated and saved new grid at ../backend/landscapes/mlp_10_10/two_blobs_overlap/train/range1/ep920\n",
      "Done: two_blobs_overlap, width=10, depth=2, ab_range=1, epoch=920\n",
      "Previously saved model is of lower resolution; recomputing\n"
     ]
    },
    {
     "name": "stderr",
     "output_type": "stream",
     "text": [
      "Outer loop (a): 100%|██████████| 100/100 [00:50<00:00,  2.00it/s]\n"
     ]
    },
    {
     "name": "stdout",
     "output_type": "stream",
     "text": [
      "✅ Updated and saved new grid at ../backend/landscapes/mlp_10/two_blobs_overlap/train/range5/ep610\n",
      "Done: two_blobs_overlap, width=10, depth=1, ab_range=5, epoch=610\n",
      "Previously saved model is of lower resolution; recomputing\n"
     ]
    },
    {
     "name": "stderr",
     "output_type": "stream",
     "text": [
      "Outer loop (a): 100%|██████████| 100/100 [00:47<00:00,  2.09it/s]\n"
     ]
    },
    {
     "name": "stdout",
     "output_type": "stream",
     "text": [
      "✅ Updated and saved new grid at ../backend/landscapes/mlp_10/spirals/train/range0.2/ep590\n",
      "Done: spirals, width=10, depth=1, ab_range=0.2, epoch=590\n",
      "Previously saved model is of lower resolution; recomputing\n"
     ]
    },
    {
     "name": "stderr",
     "output_type": "stream",
     "text": [
      "Outer loop (a): 100%|██████████| 100/100 [00:51<00:00,  1.94it/s]\n"
     ]
    },
    {
     "name": "stdout",
     "output_type": "stream",
     "text": [
      "✅ Updated and saved new grid at ../backend/landscapes/mlp_10_10/two_blobs_separate/train/range5/ep850\n",
      "Done: two_blobs_separate, width=10, depth=2, ab_range=5, epoch=850\n",
      "Previously saved model is of lower resolution; recomputing\n"
     ]
    },
    {
     "name": "stderr",
     "output_type": "stream",
     "text": [
      "Outer loop (a): 100%|██████████| 100/100 [00:53<00:00,  1.87it/s]\n"
     ]
    },
    {
     "name": "stdout",
     "output_type": "stream",
     "text": [
      "✅ Updated and saved new grid at ../backend/landscapes/mlp_10_10/two_blobs_overlap/train/range1/ep930\n",
      "Done: two_blobs_overlap, width=10, depth=2, ab_range=1, epoch=930\n",
      "Previously saved model is of lower resolution; recomputing\n"
     ]
    },
    {
     "name": "stderr",
     "output_type": "stream",
     "text": [
      "Outer loop (a): 100%|██████████| 100/100 [00:46<00:00,  2.14it/s]\n"
     ]
    },
    {
     "name": "stdout",
     "output_type": "stream",
     "text": [
      "✅ Updated and saved new grid at ../backend/landscapes/mlp_10/two_blobs_overlap/train/range5/ep620\n",
      "Done: two_blobs_overlap, width=10, depth=1, ab_range=5, epoch=620\n",
      "Previously saved model is of lower resolution; recomputing\n"
     ]
    },
    {
     "name": "stderr",
     "output_type": "stream",
     "text": [
      "Outer loop (a): 100%|██████████| 100/100 [00:49<00:00,  2.01it/s]\n"
     ]
    },
    {
     "name": "stdout",
     "output_type": "stream",
     "text": [
      "✅ Updated and saved new grid at ../backend/landscapes/mlp_10/spirals/train/range0.2/ep600\n",
      "Done: spirals, width=10, depth=1, ab_range=0.2, epoch=600\n",
      "Previously saved model is of lower resolution; recomputing\n"
     ]
    },
    {
     "name": "stderr",
     "output_type": "stream",
     "text": [
      "Outer loop (a): 100%|██████████| 100/100 [00:52<00:00,  1.92it/s]\n"
     ]
    },
    {
     "name": "stdout",
     "output_type": "stream",
     "text": [
      "✅ Updated and saved new grid at ../backend/landscapes/mlp_10_10/two_blobs_separate/train/range5/ep860\n",
      "Done: two_blobs_separate, width=10, depth=2, ab_range=5, epoch=860\n",
      "Previously saved model is of lower resolution; recomputing\n"
     ]
    },
    {
     "name": "stderr",
     "output_type": "stream",
     "text": [
      "Outer loop (a): 100%|██████████| 100/100 [00:49<00:00,  2.03it/s]\n"
     ]
    },
    {
     "name": "stdout",
     "output_type": "stream",
     "text": [
      "✅ Updated and saved new grid at ../backend/landscapes/mlp_10_10/two_blobs_overlap/train/range1/ep940\n",
      "Done: two_blobs_overlap, width=10, depth=2, ab_range=1, epoch=940\n",
      "Previously saved model is of lower resolution; recomputing\n"
     ]
    },
    {
     "name": "stderr",
     "output_type": "stream",
     "text": [
      "Outer loop (a): 100%|██████████| 100/100 [00:48<00:00,  2.06it/s]\n"
     ]
    },
    {
     "name": "stdout",
     "output_type": "stream",
     "text": [
      "✅ Updated and saved new grid at ../backend/landscapes/mlp_10/two_blobs_overlap/train/range5/ep630\n",
      "Done: two_blobs_overlap, width=10, depth=1, ab_range=5, epoch=630\n",
      "Previously saved model is of lower resolution; recomputing\n"
     ]
    },
    {
     "name": "stderr",
     "output_type": "stream",
     "text": [
      "Outer loop (a): 100%|██████████| 100/100 [00:49<00:00,  2.01it/s]\n"
     ]
    },
    {
     "name": "stdout",
     "output_type": "stream",
     "text": [
      "✅ Updated and saved new grid at ../backend/landscapes/mlp_10/spirals/train/range0.2/ep610\n",
      "Done: spirals, width=10, depth=1, ab_range=0.2, epoch=610\n",
      "Previously saved model is of lower resolution; recomputing\n"
     ]
    },
    {
     "name": "stderr",
     "output_type": "stream",
     "text": [
      "Outer loop (a): 100%|██████████| 100/100 [00:52<00:00,  1.91it/s]\n"
     ]
    },
    {
     "name": "stdout",
     "output_type": "stream",
     "text": [
      "✅ Updated and saved new grid at ../backend/landscapes/mlp_10_10/two_blobs_separate/train/range5/ep870\n",
      "Done: two_blobs_separate, width=10, depth=2, ab_range=5, epoch=870\n",
      "Previously saved model is of lower resolution; recomputing\n"
     ]
    },
    {
     "name": "stderr",
     "output_type": "stream",
     "text": [
      "Outer loop (a): 100%|██████████| 100/100 [00:50<00:00,  2.00it/s]\n",
      "Outer loop (a):  99%|█████████▉| 99/100 [00:51<00:00,  1.89it/s]"
     ]
    },
    {
     "name": "stdout",
     "output_type": "stream",
     "text": [
      "✅ Updated and saved new grid at ../backend/landscapes/mlp_10/two_blobs_overlap/train/range5/ep640\n",
      "Done: two_blobs_overlap, width=10, depth=1, ab_range=5, epoch=640\n",
      "Previously saved model is of lower resolution; recomputing\n"
     ]
    },
    {
     "name": "stderr",
     "output_type": "stream",
     "text": [
      "Outer loop (a): 100%|██████████| 100/100 [00:52<00:00,  1.92it/s]\n"
     ]
    },
    {
     "name": "stdout",
     "output_type": "stream",
     "text": [
      "✅ Updated and saved new grid at ../backend/landscapes/mlp_10_10/two_blobs_overlap/train/range1/ep950\n",
      "Done: two_blobs_overlap, width=10, depth=2, ab_range=1, epoch=950"
     ]
    },
    {
     "name": "stderr",
     "output_type": "stream",
     "text": [
      "Outer loop (a):  16%|█▌        | 16/100 [00:07<00:42,  1.98it/s]"
     ]
    },
    {
     "name": "stdout",
     "output_type": "stream",
     "text": [
      "\n",
      "Previously saved model is of lower resolution; recomputing\n"
     ]
    },
    {
     "name": "stderr",
     "output_type": "stream",
     "text": [
      "Outer loop (a): 100%|██████████| 100/100 [00:48<00:00,  2.05it/s]\n"
     ]
    },
    {
     "name": "stdout",
     "output_type": "stream",
     "text": [
      "✅ Updated and saved new grid at ../backend/landscapes/mlp_10/spirals/train/range0.2/ep620\n",
      "Done: spirals, width=10, depth=1, ab_range=0.2, epoch=620\n",
      "Previously saved model is of lower resolution; recomputing\n"
     ]
    },
    {
     "name": "stderr",
     "output_type": "stream",
     "text": [
      "Outer loop (a): 100%|██████████| 100/100 [00:49<00:00,  2.02it/s]\n"
     ]
    },
    {
     "name": "stdout",
     "output_type": "stream",
     "text": [
      "✅ Updated and saved new grid at ../backend/landscapes/mlp_10/two_blobs_overlap/train/range5/ep650\n",
      "Done: two_blobs_overlap, width=10, depth=1, ab_range=5, epoch=650\n",
      "Previously saved model is of lower resolution; recomputing\n"
     ]
    },
    {
     "name": "stderr",
     "output_type": "stream",
     "text": [
      "Outer loop (a): 100%|██████████| 100/100 [00:50<00:00,  1.98it/s]\n"
     ]
    },
    {
     "name": "stdout",
     "output_type": "stream",
     "text": [
      "✅ Updated and saved new grid at ../backend/landscapes/mlp_10_10/two_blobs_separate/train/range5/ep880\n",
      "Done: two_blobs_separate, width=10, depth=2, ab_range=5, epoch=880\n",
      "Previously saved model is of lower resolution; recomputing\n"
     ]
    },
    {
     "name": "stderr",
     "output_type": "stream",
     "text": [
      "Outer loop (a): 100%|██████████| 100/100 [00:52<00:00,  1.91it/s]\n"
     ]
    },
    {
     "name": "stdout",
     "output_type": "stream",
     "text": [
      "✅ Updated and saved new grid at ../backend/landscapes/mlp_10_10/two_blobs_overlap/train/range1/ep960\n",
      "Done: two_blobs_overlap, width=10, depth=2, ab_range=1, epoch=960\n",
      "Previously saved model is of lower resolution; recomputing\n"
     ]
    },
    {
     "name": "stderr",
     "output_type": "stream",
     "text": [
      "Outer loop (a): 100%|██████████| 100/100 [00:48<00:00,  2.07it/s]\n"
     ]
    },
    {
     "name": "stdout",
     "output_type": "stream",
     "text": [
      "✅ Updated and saved new grid at ../backend/landscapes/mlp_10/spirals/train/range0.2/ep630\n",
      "Done: spirals, width=10, depth=1, ab_range=0.2, epoch=630\n",
      "Previously saved model is of lower resolution; recomputing\n"
     ]
    },
    {
     "name": "stderr",
     "output_type": "stream",
     "text": [
      "Outer loop (a): 100%|██████████| 100/100 [00:49<00:00,  2.02it/s]\n"
     ]
    },
    {
     "name": "stdout",
     "output_type": "stream",
     "text": [
      "✅ Updated and saved new grid at ../backend/landscapes/mlp_10/two_blobs_overlap/train/range5/ep660\n",
      "Done: two_blobs_overlap, width=10, depth=1, ab_range=5, epoch=660\n",
      "Previously saved model is of lower resolution; recomputing\n"
     ]
    },
    {
     "name": "stderr",
     "output_type": "stream",
     "text": [
      "Outer loop (a): 100%|██████████| 100/100 [00:50<00:00,  1.98it/s]\n"
     ]
    },
    {
     "name": "stdout",
     "output_type": "stream",
     "text": [
      "✅ Updated and saved new grid at ../backend/landscapes/mlp_10_10/two_blobs_separate/train/range5/ep890\n",
      "Done: two_blobs_separate, width=10, depth=2, ab_range=5, epoch=890\n",
      "Previously saved model is of lower resolution; recomputing\n"
     ]
    },
    {
     "name": "stderr",
     "output_type": "stream",
     "text": [
      "Outer loop (a): 100%|██████████| 100/100 [00:51<00:00,  1.95it/s]\n"
     ]
    },
    {
     "name": "stdout",
     "output_type": "stream",
     "text": [
      "✅ Updated and saved new grid at ../backend/landscapes/mlp_10_10/two_blobs_overlap/train/range1/ep970\n",
      "Done: two_blobs_overlap, width=10, depth=2, ab_range=1, epoch=970\n",
      "Previously saved model is of lower resolution; recomputing\n"
     ]
    },
    {
     "name": "stderr",
     "output_type": "stream",
     "text": [
      "Outer loop (a): 100%|██████████| 100/100 [00:49<00:00,  2.01it/s]\n"
     ]
    },
    {
     "name": "stdout",
     "output_type": "stream",
     "text": [
      "✅ Updated and saved new grid at ../backend/landscapes/mlp_10/spirals/train/range0.2/ep640\n",
      "Done: spirals, width=10, depth=1, ab_range=0.2, epoch=640\n",
      "Previously saved model is of lower resolution; recomputing\n"
     ]
    },
    {
     "name": "stderr",
     "output_type": "stream",
     "text": [
      "Outer loop (a): 100%|██████████| 100/100 [00:47<00:00,  2.10it/s]\n"
     ]
    },
    {
     "name": "stdout",
     "output_type": "stream",
     "text": [
      "✅ Updated and saved new grid at ../backend/landscapes/mlp_10/two_blobs_overlap/train/range5/ep670\n",
      "Done: two_blobs_overlap, width=10, depth=1, ab_range=5, epoch=670\n",
      "Previously saved model is of lower resolution; recomputing\n"
     ]
    },
    {
     "name": "stderr",
     "output_type": "stream",
     "text": [
      "Outer loop (a): 100%|██████████| 100/100 [00:53<00:00,  1.88it/s]\n"
     ]
    },
    {
     "name": "stdout",
     "output_type": "stream",
     "text": [
      "✅ Updated and saved new grid at ../backend/landscapes/mlp_10_10/two_blobs_separate/train/range5/ep900\n",
      "Done: two_blobs_separate, width=10, depth=2, ab_range=5, epoch=900\n",
      "Previously saved model is of lower resolution; recomputing\n"
     ]
    },
    {
     "name": "stderr",
     "output_type": "stream",
     "text": [
      "Outer loop (a): 100%|██████████| 100/100 [00:51<00:00,  1.93it/s]\n"
     ]
    },
    {
     "name": "stdout",
     "output_type": "stream",
     "text": [
      "✅ Updated and saved new grid at ../backend/landscapes/mlp_10_10/two_blobs_overlap/train/range1/ep980\n",
      "Done: two_blobs_overlap, width=10, depth=2, ab_range=1, epoch=980\n",
      "Previously saved model is of lower resolution; recomputing\n"
     ]
    },
    {
     "name": "stderr",
     "output_type": "stream",
     "text": [
      "Outer loop (a): 100%|██████████| 100/100 [00:47<00:00,  2.09it/s]\n"
     ]
    },
    {
     "name": "stdout",
     "output_type": "stream",
     "text": [
      "✅ Updated and saved new grid at ../backend/landscapes/mlp_10/spirals/train/range0.2/ep650\n",
      "Done: spirals, width=10, depth=1, ab_range=0.2, epoch=650\n",
      "Previously saved model is of lower resolution; recomputing\n"
     ]
    },
    {
     "name": "stderr",
     "output_type": "stream",
     "text": [
      "Outer loop (a): 100%|██████████| 100/100 [00:49<00:00,  2.02it/s]\n"
     ]
    },
    {
     "name": "stdout",
     "output_type": "stream",
     "text": [
      "✅ Updated and saved new grid at ../backend/landscapes/mlp_10/two_blobs_overlap/train/range5/ep680\n",
      "Done: two_blobs_overlap, width=10, depth=1, ab_range=5, epoch=680\n",
      "Previously saved model is of lower resolution; recomputing\n"
     ]
    },
    {
     "name": "stderr",
     "output_type": "stream",
     "text": [
      "Outer loop (a): 100%|██████████| 100/100 [00:51<00:00,  1.93it/s]\n"
     ]
    },
    {
     "name": "stdout",
     "output_type": "stream",
     "text": [
      "✅ Updated and saved new grid at ../backend/landscapes/mlp_10_10/two_blobs_separate/train/range5/ep910\n",
      "Done: two_blobs_separate, width=10, depth=2, ab_range=5, epoch=910\n",
      "Previously saved model is of lower resolution; recomputing\n"
     ]
    },
    {
     "name": "stderr",
     "output_type": "stream",
     "text": [
      "Outer loop (a): 100%|██████████| 100/100 [00:52<00:00,  1.90it/s]\n"
     ]
    },
    {
     "name": "stdout",
     "output_type": "stream",
     "text": [
      "✅ Updated and saved new grid at ../backend/landscapes/mlp_10_10/two_blobs_overlap/train/range1/ep990\n",
      "Done: two_blobs_overlap, width=10, depth=2, ab_range=1, epoch=990\n",
      "Previously saved model is of lower resolution; recomputing\n"
     ]
    },
    {
     "name": "stderr",
     "output_type": "stream",
     "text": [
      "Outer loop (a): 100%|██████████| 100/100 [00:48<00:00,  2.06it/s]\n"
     ]
    },
    {
     "name": "stdout",
     "output_type": "stream",
     "text": [
      "✅ Updated and saved new grid at ../backend/landscapes/mlp_10/spirals/train/range0.2/ep660\n",
      "Done: spirals, width=10, depth=1, ab_range=0.2, epoch=660\n",
      "Previously saved model is of lower resolution; recomputing\n"
     ]
    },
    {
     "name": "stderr",
     "output_type": "stream",
     "text": [
      "Outer loop (a): 100%|██████████| 100/100 [00:47<00:00,  2.09it/s]\n"
     ]
    },
    {
     "name": "stdout",
     "output_type": "stream",
     "text": [
      "✅ Updated and saved new grid at ../backend/landscapes/mlp_10/two_blobs_overlap/train/range5/ep690\n",
      "Done: two_blobs_overlap, width=10, depth=1, ab_range=5, epoch=690\n",
      "Previously saved model is of lower resolution; recomputing\n"
     ]
    },
    {
     "name": "stderr",
     "output_type": "stream",
     "text": [
      "Outer loop (a): 100%|██████████| 100/100 [00:52<00:00,  1.92it/s]\n"
     ]
    },
    {
     "name": "stdout",
     "output_type": "stream",
     "text": [
      "✅ Updated and saved new grid at ../backend/landscapes/mlp_10_10/two_blobs_separate/train/range5/ep920\n",
      "Done: two_blobs_separate, width=10, depth=2, ab_range=5, epoch=920\n",
      "Previously saved model is of lower resolution; recomputing\n"
     ]
    },
    {
     "name": "stderr",
     "output_type": "stream",
     "text": [
      "Outer loop (a): 100%|██████████| 100/100 [00:51<00:00,  1.92it/s]\n"
     ]
    },
    {
     "name": "stdout",
     "output_type": "stream",
     "text": [
      "✅ Updated and saved new grid at ../backend/landscapes/mlp_10_10/two_blobs_overlap/train/range1/ep1000\n",
      "Done: two_blobs_overlap, width=10, depth=2, ab_range=1, epoch=1000\n",
      "Previously saved model is of lower resolution; recomputing\n"
     ]
    },
    {
     "name": "stderr",
     "output_type": "stream",
     "text": [
      "Outer loop (a): 100%|██████████| 100/100 [00:46<00:00,  2.17it/s]\n"
     ]
    },
    {
     "name": "stdout",
     "output_type": "stream",
     "text": [
      "✅ Updated and saved new grid at ../backend/landscapes/mlp_10/spirals/train/range0.2/ep670\n",
      "Done: spirals, width=10, depth=1, ab_range=0.2, epoch=670\n",
      "Previously saved model is of lower resolution; recomputing\n"
     ]
    },
    {
     "name": "stderr",
     "output_type": "stream",
     "text": [
      "Outer loop (a): 100%|██████████| 100/100 [00:48<00:00,  2.04it/s]\n"
     ]
    },
    {
     "name": "stdout",
     "output_type": "stream",
     "text": [
      "✅ Updated and saved new grid at ../backend/landscapes/mlp_10/two_blobs_overlap/train/range5/ep700\n",
      "Done: two_blobs_overlap, width=10, depth=1, ab_range=5, epoch=700\n",
      "Previously saved model is of lower resolution; recomputing\n"
     ]
    },
    {
     "name": "stderr",
     "output_type": "stream",
     "text": [
      "Outer loop (a): 100%|██████████| 100/100 [00:50<00:00,  1.98it/s]\n"
     ]
    },
    {
     "name": "stdout",
     "output_type": "stream",
     "text": [
      "✅ Updated and saved new grid at ../backend/landscapes/mlp_10_10/two_blobs_separate/train/range5/ep930\n",
      "Done: two_blobs_separate, width=10, depth=2, ab_range=5, epoch=930\n",
      "Previously saved model is of lower resolution; recomputing\n"
     ]
    },
    {
     "name": "stderr",
     "output_type": "stream",
     "text": [
      "Outer loop (a): 100%|██████████| 100/100 [00:49<00:00,  2.01it/s]\n"
     ]
    },
    {
     "name": "stdout",
     "output_type": "stream",
     "text": [
      "✅ Updated and saved new grid at ../backend/landscapes/mlp_10_10/two_blobs_overlap/train/range10/ep0\n",
      "Done: two_blobs_overlap, width=10, depth=2, ab_range=10, epoch=0\n",
      "Previously saved model is of lower resolution; recomputing\n"
     ]
    },
    {
     "name": "stderr",
     "output_type": "stream",
     "text": [
      "Outer loop (a): 100%|██████████| 100/100 [00:49<00:00,  2.02it/s]\n"
     ]
    },
    {
     "name": "stdout",
     "output_type": "stream",
     "text": [
      "✅ Updated and saved new grid at ../backend/landscapes/mlp_10/spirals/train/range0.2/ep680\n",
      "Done: spirals, width=10, depth=1, ab_range=0.2, epoch=680\n",
      "Previously saved model is of lower resolution; recomputing\n"
     ]
    },
    {
     "name": "stderr",
     "output_type": "stream",
     "text": [
      "Outer loop (a): 100%|██████████| 100/100 [00:48<00:00,  2.05it/s]\n"
     ]
    },
    {
     "name": "stdout",
     "output_type": "stream",
     "text": [
      "✅ Updated and saved new grid at ../backend/landscapes/mlp_10/two_blobs_overlap/train/range5/ep710\n",
      "Done: two_blobs_overlap, width=10, depth=1, ab_range=5, epoch=710\n",
      "Previously saved model is of lower resolution; recomputing\n"
     ]
    },
    {
     "name": "stderr",
     "output_type": "stream",
     "text": [
      "Outer loop (a): 100%|██████████| 100/100 [00:52<00:00,  1.92it/s]\n"
     ]
    },
    {
     "name": "stdout",
     "output_type": "stream",
     "text": [
      "✅ Updated and saved new grid at ../backend/landscapes/mlp_10_10/two_blobs_separate/train/range5/ep940\n",
      "Done: two_blobs_separate, width=10, depth=2, ab_range=5, epoch=940\n",
      "Previously saved model is of lower resolution; recomputing\n"
     ]
    },
    {
     "name": "stderr",
     "output_type": "stream",
     "text": [
      "Outer loop (a): 100%|██████████| 100/100 [00:50<00:00,  1.96it/s]\n"
     ]
    },
    {
     "name": "stdout",
     "output_type": "stream",
     "text": [
      "✅ Updated and saved new grid at ../backend/landscapes/mlp_10_10/two_blobs_overlap/train/range10/ep10\n",
      "Done: two_blobs_overlap, width=10, depth=2, ab_range=10, epoch=10\n",
      "Previously saved model is of lower resolution; recomputing\n"
     ]
    },
    {
     "name": "stderr",
     "output_type": "stream",
     "text": [
      "Outer loop (a): 100%|██████████| 100/100 [00:48<00:00,  2.05it/s]\n"
     ]
    },
    {
     "name": "stdout",
     "output_type": "stream",
     "text": [
      "✅ Updated and saved new grid at ../backend/landscapes/mlp_10/spirals/train/range0.2/ep690\n",
      "Done: spirals, width=10, depth=1, ab_range=0.2, epoch=690\n",
      "Previously saved model is of lower resolution; recomputing\n"
     ]
    },
    {
     "name": "stderr",
     "output_type": "stream",
     "text": [
      "Outer loop (a): 100%|██████████| 100/100 [00:48<00:00,  2.05it/s]\n"
     ]
    },
    {
     "name": "stdout",
     "output_type": "stream",
     "text": [
      "✅ Updated and saved new grid at ../backend/landscapes/mlp_10/two_blobs_overlap/train/range5/ep720\n",
      "Done: two_blobs_overlap, width=10, depth=1, ab_range=5, epoch=720\n",
      "Previously saved model is of lower resolution; recomputing\n"
     ]
    },
    {
     "name": "stderr",
     "output_type": "stream",
     "text": [
      "Outer loop (a): 100%|██████████| 100/100 [00:48<00:00,  2.07it/s]\n"
     ]
    },
    {
     "name": "stdout",
     "output_type": "stream",
     "text": [
      "✅ Updated and saved new grid at ../backend/landscapes/mlp_10_10/two_blobs_overlap/train/range10/ep20\n",
      "Done: two_blobs_overlap, width=10, depth=2, ab_range=10, epoch=20\n",
      "Previously saved model is of lower resolution; recomputing\n"
     ]
    },
    {
     "name": "stderr",
     "output_type": "stream",
     "text": [
      "Outer loop (a): 100%|██████████| 100/100 [00:52<00:00,  1.92it/s]\n"
     ]
    },
    {
     "name": "stdout",
     "output_type": "stream",
     "text": [
      "✅ Updated and saved new grid at ../backend/landscapes/mlp_10_10/two_blobs_separate/train/range5/ep950\n",
      "Done: two_blobs_separate, width=10, depth=2, ab_range=5, epoch=950\n",
      "Previously saved model is of lower resolution; recomputing\n"
     ]
    },
    {
     "name": "stderr",
     "output_type": "stream",
     "text": [
      "Outer loop (a): 100%|██████████| 100/100 [00:46<00:00,  2.14it/s]\n"
     ]
    },
    {
     "name": "stdout",
     "output_type": "stream",
     "text": [
      "✅ Updated and saved new grid at ../backend/landscapes/mlp_10/spirals/train/range0.2/ep700\n",
      "Done: spirals, width=10, depth=1, ab_range=0.2, epoch=700\n",
      "Previously saved model is of lower resolution; recomputing\n"
     ]
    },
    {
     "name": "stderr",
     "output_type": "stream",
     "text": [
      "Outer loop (a): 100%|██████████| 100/100 [00:48<00:00,  2.05it/s]\n"
     ]
    },
    {
     "name": "stdout",
     "output_type": "stream",
     "text": [
      "✅ Updated and saved new grid at ../backend/landscapes/mlp_10/two_blobs_overlap/train/range5/ep730\n",
      "Done: two_blobs_overlap, width=10, depth=1, ab_range=5, epoch=730\n",
      "Previously saved model is of lower resolution; recomputing\n"
     ]
    },
    {
     "name": "stderr",
     "output_type": "stream",
     "text": [
      "Outer loop (a): 100%|██████████| 100/100 [00:49<00:00,  2.02it/s]\n"
     ]
    },
    {
     "name": "stdout",
     "output_type": "stream",
     "text": [
      "✅ Updated and saved new grid at ../backend/landscapes/mlp_10_10/two_blobs_overlap/train/range10/ep30\n",
      "Done: two_blobs_overlap, width=10, depth=2, ab_range=10, epoch=30\n",
      "Previously saved model is of lower resolution; recomputing\n"
     ]
    },
    {
     "name": "stderr",
     "output_type": "stream",
     "text": [
      "Outer loop (a): 100%|██████████| 100/100 [00:52<00:00,  1.91it/s]\n"
     ]
    },
    {
     "name": "stdout",
     "output_type": "stream",
     "text": [
      "✅ Updated and saved new grid at ../backend/landscapes/mlp_10_10/two_blobs_separate/train/range5/ep960\n",
      "Done: two_blobs_separate, width=10, depth=2, ab_range=5, epoch=960\n",
      "Previously saved model is of lower resolution; recomputing\n"
     ]
    },
    {
     "name": "stderr",
     "output_type": "stream",
     "text": [
      "Outer loop (a): 100%|██████████| 100/100 [00:48<00:00,  2.08it/s]\n"
     ]
    },
    {
     "name": "stdout",
     "output_type": "stream",
     "text": [
      "✅ Updated and saved new grid at ../backend/landscapes/mlp_10/spirals/train/range0.2/ep710\n",
      "Done: spirals, width=10, depth=1, ab_range=0.2, epoch=710\n",
      "Previously saved model is of lower resolution; recomputing\n"
     ]
    },
    {
     "name": "stderr",
     "output_type": "stream",
     "text": [
      "Outer loop (a): 100%|██████████| 100/100 [00:47<00:00,  2.09it/s]\n"
     ]
    },
    {
     "name": "stdout",
     "output_type": "stream",
     "text": [
      "✅ Updated and saved new grid at ../backend/landscapes/mlp_10/two_blobs_overlap/train/range5/ep740\n",
      "Done: two_blobs_overlap, width=10, depth=1, ab_range=5, epoch=740\n",
      "Previously saved model is of lower resolution; recomputing\n"
     ]
    },
    {
     "name": "stderr",
     "output_type": "stream",
     "text": [
      "Outer loop (a): 100%|██████████| 100/100 [00:51<00:00,  1.94it/s]\n"
     ]
    },
    {
     "name": "stdout",
     "output_type": "stream",
     "text": [
      "✅ Updated and saved new grid at ../backend/landscapes/mlp_10_10/two_blobs_overlap/train/range10/ep40\n",
      "Done: two_blobs_overlap, width=10, depth=2, ab_range=10, epoch=40\n",
      "Previously saved model is of lower resolution; recomputing\n"
     ]
    },
    {
     "name": "stderr",
     "output_type": "stream",
     "text": [
      "Outer loop (a): 100%|██████████| 100/100 [00:50<00:00,  1.98it/s]\n"
     ]
    },
    {
     "name": "stdout",
     "output_type": "stream",
     "text": [
      "✅ Updated and saved new grid at ../backend/landscapes/mlp_10_10/two_blobs_separate/train/range5/ep970\n",
      "Done: two_blobs_separate, width=10, depth=2, ab_range=5, epoch=970\n",
      "Previously saved model is of lower resolution; recomputing\n"
     ]
    },
    {
     "name": "stderr",
     "output_type": "stream",
     "text": [
      "Outer loop (a): 100%|██████████| 100/100 [00:48<00:00,  2.07it/s]\n"
     ]
    },
    {
     "name": "stdout",
     "output_type": "stream",
     "text": [
      "✅ Updated and saved new grid at ../backend/landscapes/mlp_10/spirals/train/range0.2/ep720\n",
      "Done: spirals, width=10, depth=1, ab_range=0.2, epoch=720\n",
      "Previously saved model is of lower resolution; recomputing\n"
     ]
    },
    {
     "name": "stderr",
     "output_type": "stream",
     "text": [
      "Outer loop (a): 100%|██████████| 100/100 [00:47<00:00,  2.09it/s]\n"
     ]
    },
    {
     "name": "stdout",
     "output_type": "stream",
     "text": [
      "✅ Updated and saved new grid at ../backend/landscapes/mlp_10/two_blobs_overlap/train/range5/ep750\n",
      "Done: two_blobs_overlap, width=10, depth=1, ab_range=5, epoch=750\n",
      "Previously saved model is of lower resolution; recomputing\n"
     ]
    },
    {
     "name": "stderr",
     "output_type": "stream",
     "text": [
      "Outer loop (a): 100%|██████████| 100/100 [00:51<00:00,  1.92it/s]\n"
     ]
    },
    {
     "name": "stdout",
     "output_type": "stream",
     "text": [
      "✅ Updated and saved new grid at ../backend/landscapes/mlp_10_10/two_blobs_overlap/train/range10/ep50\n",
      "Done: two_blobs_overlap, width=10, depth=2, ab_range=10, epoch=50\n",
      "Previously saved model is of lower resolution; recomputing\n"
     ]
    },
    {
     "name": "stderr",
     "output_type": "stream",
     "text": [
      "Outer loop (a): 100%|██████████| 100/100 [00:51<00:00,  1.94it/s]\n"
     ]
    },
    {
     "name": "stdout",
     "output_type": "stream",
     "text": [
      "✅ Updated and saved new grid at ../backend/landscapes/mlp_10_10/two_blobs_separate/train/range5/ep980\n",
      "Done: two_blobs_separate, width=10, depth=2, ab_range=5, epoch=980\n",
      "Previously saved model is of lower resolution; recomputing\n"
     ]
    },
    {
     "name": "stderr",
     "output_type": "stream",
     "text": [
      "Outer loop (a): 100%|██████████| 100/100 [00:48<00:00,  2.05it/s]\n"
     ]
    },
    {
     "name": "stdout",
     "output_type": "stream",
     "text": [
      "✅ Updated and saved new grid at ../backend/landscapes/mlp_10/spirals/train/range0.2/ep730\n",
      "Done: spirals, width=10, depth=1, ab_range=0.2, epoch=730\n",
      "Previously saved model is of lower resolution; recomputing\n"
     ]
    },
    {
     "name": "stderr",
     "output_type": "stream",
     "text": [
      "Outer loop (a): 100%|██████████| 100/100 [00:48<00:00,  2.08it/s]\n"
     ]
    },
    {
     "name": "stdout",
     "output_type": "stream",
     "text": [
      "✅ Updated and saved new grid at ../backend/landscapes/mlp_10/two_blobs_overlap/train/range5/ep760\n",
      "Done: two_blobs_overlap, width=10, depth=1, ab_range=5, epoch=760\n",
      "Previously saved model is of lower resolution; recomputing\n"
     ]
    },
    {
     "name": "stderr",
     "output_type": "stream",
     "text": [
      "Outer loop (a): 100%|██████████| 100/100 [00:51<00:00,  1.93it/s]\n"
     ]
    },
    {
     "name": "stdout",
     "output_type": "stream",
     "text": [
      "✅ Updated and saved new grid at ../backend/landscapes/mlp_10_10/two_blobs_overlap/train/range10/ep60\n",
      "Done: two_blobs_overlap, width=10, depth=2, ab_range=10, epoch=60\n",
      "Previously saved model is of lower resolution; recomputing\n"
     ]
    },
    {
     "name": "stderr",
     "output_type": "stream",
     "text": [
      "Outer loop (a): 100%|██████████| 100/100 [00:46<00:00,  2.14it/s]\n"
     ]
    },
    {
     "name": "stdout",
     "output_type": "stream",
     "text": [
      "✅ Updated and saved new grid at ../backend/landscapes/mlp_10/spirals/train/range0.2/ep740\n",
      "Done: spirals, width=10, depth=1, ab_range=0.2, epoch=740\n",
      "Previously saved model is of lower resolution; recomputing\n"
     ]
    },
    {
     "name": "stderr",
     "output_type": "stream",
     "text": [
      "Outer loop (a): 100%|██████████| 100/100 [00:53<00:00,  1.88it/s]\n"
     ]
    },
    {
     "name": "stdout",
     "output_type": "stream",
     "text": [
      "✅ Updated and saved new grid at ../backend/landscapes/mlp_10_10/two_blobs_separate/train/range5/ep990\n",
      "Done: two_blobs_separate, width=10, depth=2, ab_range=5, epoch=990\n",
      "Previously saved model is of lower resolution; recomputing\n"
     ]
    },
    {
     "name": "stderr",
     "output_type": "stream",
     "text": [
      "Outer loop (a): 100%|██████████| 100/100 [00:47<00:00,  2.10it/s]\n"
     ]
    },
    {
     "name": "stdout",
     "output_type": "stream",
     "text": [
      "✅ Updated and saved new grid at ../backend/landscapes/mlp_10/two_blobs_overlap/train/range5/ep770\n",
      "Done: two_blobs_overlap, width=10, depth=1, ab_range=5, epoch=770\n",
      "Previously saved model is of lower resolution; recomputing\n"
     ]
    },
    {
     "name": "stderr",
     "output_type": "stream",
     "text": [
      "Outer loop (a): 100%|██████████| 100/100 [00:49<00:00,  2.03it/s]\n"
     ]
    },
    {
     "name": "stdout",
     "output_type": "stream",
     "text": [
      "✅ Updated and saved new grid at ../backend/landscapes/mlp_10_10/two_blobs_overlap/train/range10/ep70\n",
      "Done: two_blobs_overlap, width=10, depth=2, ab_range=10, epoch=70\n",
      "Previously saved model is of lower resolution; recomputing\n"
     ]
    },
    {
     "name": "stderr",
     "output_type": "stream",
     "text": [
      "Outer loop (a): 100%|██████████| 100/100 [00:45<00:00,  2.20it/s]\n"
     ]
    },
    {
     "name": "stdout",
     "output_type": "stream",
     "text": [
      "✅ Updated and saved new grid at ../backend/landscapes/mlp_10/spirals/train/range0.2/ep750\n",
      "Done: spirals, width=10, depth=1, ab_range=0.2, epoch=750\n",
      "Previously saved model is of lower resolution; recomputing\n"
     ]
    },
    {
     "name": "stderr",
     "output_type": "stream",
     "text": [
      "Outer loop (a): 100%|██████████| 100/100 [00:51<00:00,  1.93it/s]\n"
     ]
    },
    {
     "name": "stdout",
     "output_type": "stream",
     "text": [
      "✅ Updated and saved new grid at ../backend/landscapes/mlp_10_10/two_blobs_separate/train/range5/ep1000\n",
      "Done: two_blobs_separate, width=10, depth=2, ab_range=5, epoch=1000\n",
      "Previously saved model is of lower resolution; recomputing\n"
     ]
    },
    {
     "name": "stderr",
     "output_type": "stream",
     "text": [
      "Outer loop (a): 100%|██████████| 100/100 [00:47<00:00,  2.09it/s]\n"
     ]
    },
    {
     "name": "stdout",
     "output_type": "stream",
     "text": [
      "✅ Updated and saved new grid at ../backend/landscapes/mlp_10/two_blobs_overlap/train/range5/ep780\n",
      "Done: two_blobs_overlap, width=10, depth=1, ab_range=5, epoch=780\n",
      "Previously saved model is of lower resolution; recomputing\n"
     ]
    },
    {
     "name": "stderr",
     "output_type": "stream",
     "text": [
      "Outer loop (a): 100%|██████████| 100/100 [00:48<00:00,  2.04it/s]\n"
     ]
    },
    {
     "name": "stdout",
     "output_type": "stream",
     "text": [
      "✅ Updated and saved new grid at ../backend/landscapes/mlp_10/spirals/train/range0.2/ep760\n",
      "Done: spirals, width=10, depth=1, ab_range=0.2, epoch=760\n",
      "Previously saved model is of lower resolution; recomputing\n"
     ]
    },
    {
     "name": "stderr",
     "output_type": "stream",
     "text": [
      "Outer loop (a): 100%|██████████| 100/100 [00:50<00:00,  1.97it/s]\n"
     ]
    },
    {
     "name": "stdout",
     "output_type": "stream",
     "text": [
      "✅ Updated and saved new grid at ../backend/landscapes/mlp_10_10/two_blobs_overlap/train/range10/ep80\n",
      "Done: two_blobs_overlap, width=10, depth=2, ab_range=10, epoch=80\n",
      "Previously saved model is of lower resolution; recomputing\n"
     ]
    },
    {
     "name": "stderr",
     "output_type": "stream",
     "text": [
      "Outer loop (a): 100%|██████████| 100/100 [00:49<00:00,  2.03it/s]\n"
     ]
    },
    {
     "name": "stdout",
     "output_type": "stream",
     "text": [
      "✅ Updated and saved new grid at ../backend/landscapes/mlp_10_10/two_blobs_separate/train/range0.2/ep0\n",
      "Done: two_blobs_separate, width=10, depth=2, ab_range=0.2, epoch=0\n",
      "Previously saved model is of lower resolution; recomputing\n"
     ]
    },
    {
     "name": "stderr",
     "output_type": "stream",
     "text": [
      "Outer loop (a): 100%|██████████| 100/100 [00:49<00:00,  2.04it/s]\n"
     ]
    },
    {
     "name": "stdout",
     "output_type": "stream",
     "text": [
      "✅ Updated and saved new grid at ../backend/landscapes/mlp_10/two_blobs_overlap/train/range5/ep790\n",
      "Done: two_blobs_overlap, width=10, depth=1, ab_range=5, epoch=790"
     ]
    },
    {
     "name": "stderr",
     "output_type": "stream",
     "text": [
      "Outer loop (a):  14%|█▍        | 14/100 [00:06<00:42,  2.00it/s]"
     ]
    },
    {
     "name": "stdout",
     "output_type": "stream",
     "text": [
      "\n",
      "Previously saved model is of lower resolution; recomputing\n"
     ]
    },
    {
     "name": "stderr",
     "output_type": "stream",
     "text": [
      "Outer loop (a): 100%|██████████| 100/100 [00:47<00:00,  2.12it/s]\n"
     ]
    },
    {
     "name": "stdout",
     "output_type": "stream",
     "text": [
      "✅ Updated and saved new grid at ../backend/landscapes/mlp_10/spirals/train/range0.2/ep770\n",
      "Done: spirals, width=10, depth=1, ab_range=0.2, epoch=770\n",
      "Previously saved model is of lower resolution; recomputing\n"
     ]
    },
    {
     "name": "stderr",
     "output_type": "stream",
     "text": [
      "Outer loop (a): 100%|██████████| 100/100 [00:51<00:00,  1.94it/s]\n"
     ]
    },
    {
     "name": "stdout",
     "output_type": "stream",
     "text": [
      "✅ Updated and saved new grid at ../backend/landscapes/mlp_10_10/two_blobs_overlap/train/range10/ep90\n",
      "Done: two_blobs_overlap, width=10, depth=2, ab_range=10, epoch=90\n",
      "Previously saved model is of lower resolution; recomputing\n"
     ]
    },
    {
     "name": "stderr",
     "output_type": "stream",
     "text": [
      "Outer loop (a): 100%|██████████| 100/100 [00:51<00:00,  1.95it/s]\n"
     ]
    },
    {
     "name": "stdout",
     "output_type": "stream",
     "text": [
      "✅ Updated and saved new grid at ../backend/landscapes/mlp_10_10/two_blobs_separate/train/range0.2/ep10\n",
      "Done: two_blobs_separate, width=10, depth=2, ab_range=0.2, epoch=10\n",
      "Previously saved model is of lower resolution; recomputing\n"
     ]
    },
    {
     "name": "stderr",
     "output_type": "stream",
     "text": [
      "Outer loop (a): 100%|██████████| 100/100 [00:48<00:00,  2.08it/s]\n"
     ]
    },
    {
     "name": "stdout",
     "output_type": "stream",
     "text": [
      "✅ Updated and saved new grid at ../backend/landscapes/mlp_10/two_blobs_overlap/train/range5/ep800\n",
      "Done: two_blobs_overlap, width=10, depth=1, ab_range=5, epoch=800\n",
      "Previously saved model is of lower resolution; recomputing\n"
     ]
    },
    {
     "name": "stderr",
     "output_type": "stream",
     "text": [
      "Outer loop (a): 100%|██████████| 100/100 [00:47<00:00,  2.10it/s]\n"
     ]
    },
    {
     "name": "stdout",
     "output_type": "stream",
     "text": [
      "✅ Updated and saved new grid at ../backend/landscapes/mlp_10/spirals/train/range0.2/ep780\n",
      "Done: spirals, width=10, depth=1, ab_range=0.2, epoch=780\n",
      "Previously saved model is of lower resolution; recomputing\n"
     ]
    },
    {
     "name": "stderr",
     "output_type": "stream",
     "text": [
      "Outer loop (a): 100%|██████████| 100/100 [00:51<00:00,  1.94it/s]\n"
     ]
    },
    {
     "name": "stdout",
     "output_type": "stream",
     "text": [
      "✅ Updated and saved new grid at ../backend/landscapes/mlp_10_10/two_blobs_overlap/train/range10/ep100\n",
      "Done: two_blobs_overlap, width=10, depth=2, ab_range=10, epoch=100\n",
      "Previously saved model is of lower resolution; recomputing\n"
     ]
    },
    {
     "name": "stderr",
     "output_type": "stream",
     "text": [
      "Outer loop (a): 100%|██████████| 100/100 [00:51<00:00,  1.96it/s]\n"
     ]
    },
    {
     "name": "stdout",
     "output_type": "stream",
     "text": [
      "✅ Updated and saved new grid at ../backend/landscapes/mlp_10_10/two_blobs_separate/train/range0.2/ep20\n",
      "Done: two_blobs_separate, width=10, depth=2, ab_range=0.2, epoch=20\n",
      "Previously saved model is of lower resolution; recomputing\n"
     ]
    },
    {
     "name": "stderr",
     "output_type": "stream",
     "text": [
      "Outer loop (a): 100%|██████████| 100/100 [00:49<00:00,  2.04it/s]\n"
     ]
    },
    {
     "name": "stdout",
     "output_type": "stream",
     "text": [
      "✅ Updated and saved new grid at ../backend/landscapes/mlp_10/two_blobs_overlap/train/range5/ep810\n",
      "Done: two_blobs_overlap, width=10, depth=1, ab_range=5, epoch=810\n",
      "Previously saved model is of lower resolution; recomputing\n"
     ]
    },
    {
     "name": "stderr",
     "output_type": "stream",
     "text": [
      "Outer loop (a): 100%|██████████| 100/100 [00:48<00:00,  2.07it/s]\n"
     ]
    },
    {
     "name": "stdout",
     "output_type": "stream",
     "text": [
      "✅ Updated and saved new grid at ../backend/landscapes/mlp_10/spirals/train/range0.2/ep790\n",
      "Done: spirals, width=10, depth=1, ab_range=0.2, epoch=790\n",
      "Previously saved model is of lower resolution; recomputing\n"
     ]
    },
    {
     "name": "stderr",
     "output_type": "stream",
     "text": [
      "Outer loop (a): 100%|██████████| 100/100 [00:51<00:00,  1.95it/s]\n"
     ]
    },
    {
     "name": "stdout",
     "output_type": "stream",
     "text": [
      "✅ Updated and saved new grid at ../backend/landscapes/mlp_10_10/two_blobs_overlap/train/range10/ep110\n",
      "Done: two_blobs_overlap, width=10, depth=2, ab_range=10, epoch=110\n",
      "Previously saved model is of lower resolution; recomputing\n"
     ]
    },
    {
     "name": "stderr",
     "output_type": "stream",
     "text": [
      "Outer loop (a): 100%|██████████| 100/100 [00:49<00:00,  2.04it/s]\n"
     ]
    },
    {
     "name": "stdout",
     "output_type": "stream",
     "text": [
      "✅ Updated and saved new grid at ../backend/landscapes/mlp_10/two_blobs_overlap/train/range5/ep820\n",
      "Done: two_blobs_overlap, width=10, depth=1, ab_range=5, epoch=820\n",
      "Previously saved model is of lower resolution; recomputing\n"
     ]
    },
    {
     "name": "stderr",
     "output_type": "stream",
     "text": [
      "Outer loop (a): 100%|██████████| 100/100 [00:51<00:00,  1.96it/s]\n"
     ]
    },
    {
     "name": "stdout",
     "output_type": "stream",
     "text": [
      "✅ Updated and saved new grid at ../backend/landscapes/mlp_10_10/two_blobs_separate/train/range0.2/ep30\n",
      "Done: two_blobs_separate, width=10, depth=2, ab_range=0.2, epoch=30\n",
      "Previously saved model is of lower resolution; recomputing\n"
     ]
    },
    {
     "name": "stderr",
     "output_type": "stream",
     "text": [
      "Outer loop (a): 100%|██████████| 100/100 [00:47<00:00,  2.10it/s]\n"
     ]
    },
    {
     "name": "stdout",
     "output_type": "stream",
     "text": [
      "✅ Updated and saved new grid at ../backend/landscapes/mlp_10/spirals/train/range0.2/ep800\n",
      "Done: spirals, width=10, depth=1, ab_range=0.2, epoch=800\n",
      "Previously saved model is of lower resolution; recomputing\n"
     ]
    },
    {
     "name": "stderr",
     "output_type": "stream",
     "text": [
      "Outer loop (a): 100%|██████████| 100/100 [00:51<00:00,  1.94it/s]\n"
     ]
    },
    {
     "name": "stdout",
     "output_type": "stream",
     "text": [
      "✅ Updated and saved new grid at ../backend/landscapes/mlp_10_10/two_blobs_overlap/train/range10/ep120\n",
      "Done: two_blobs_overlap, width=10, depth=2, ab_range=10, epoch=120\n",
      "Previously saved model is of lower resolution; recomputing\n"
     ]
    },
    {
     "name": "stderr",
     "output_type": "stream",
     "text": [
      "Outer loop (a): 100%|██████████| 100/100 [00:47<00:00,  2.10it/s]\n"
     ]
    },
    {
     "name": "stdout",
     "output_type": "stream",
     "text": [
      "✅ Updated and saved new grid at ../backend/landscapes/mlp_10/two_blobs_overlap/train/range5/ep830\n",
      "Done: two_blobs_overlap, width=10, depth=1, ab_range=5, epoch=830\n",
      "Previously saved model is of lower resolution; recomputing\n"
     ]
    },
    {
     "name": "stderr",
     "output_type": "stream",
     "text": [
      "Outer loop (a): 100%|██████████| 100/100 [00:52<00:00,  1.92it/s]\n"
     ]
    },
    {
     "name": "stdout",
     "output_type": "stream",
     "text": [
      "✅ Updated and saved new grid at ../backend/landscapes/mlp_10_10/two_blobs_separate/train/range0.2/ep40\n",
      "Done: two_blobs_separate, width=10, depth=2, ab_range=0.2, epoch=40\n",
      "Previously saved model is of lower resolution; recomputing\n"
     ]
    },
    {
     "name": "stderr",
     "output_type": "stream",
     "text": [
      "Outer loop (a): 100%|██████████| 100/100 [00:46<00:00,  2.16it/s]\n"
     ]
    },
    {
     "name": "stdout",
     "output_type": "stream",
     "text": [
      "✅ Updated and saved new grid at ../backend/landscapes/mlp_10/spirals/train/range0.2/ep810\n",
      "Done: spirals, width=10, depth=1, ab_range=0.2, epoch=810\n",
      "Previously saved model is of lower resolution; recomputing\n"
     ]
    },
    {
     "name": "stderr",
     "output_type": "stream",
     "text": [
      "Outer loop (a): 100%|██████████| 100/100 [00:48<00:00,  2.07it/s]\n"
     ]
    },
    {
     "name": "stdout",
     "output_type": "stream",
     "text": [
      "✅ Updated and saved new grid at ../backend/landscapes/mlp_10/two_blobs_overlap/train/range5/ep840\n",
      "Done: two_blobs_overlap, width=10, depth=1, ab_range=5, epoch=840\n",
      "Previously saved model is of lower resolution; recomputing\n"
     ]
    },
    {
     "name": "stderr",
     "output_type": "stream",
     "text": [
      "Outer loop (a): 100%|██████████| 100/100 [00:49<00:00,  2.01it/s]\n"
     ]
    },
    {
     "name": "stdout",
     "output_type": "stream",
     "text": [
      "✅ Updated and saved new grid at ../backend/landscapes/mlp_10_10/two_blobs_overlap/train/range10/ep130\n",
      "Done: two_blobs_overlap, width=10, depth=2, ab_range=10, epoch=130\n",
      "Previously saved model is of lower resolution; recomputing"
     ]
    },
    {
     "name": "stderr",
     "output_type": "stream",
     "text": [
      "Outer loop (a):  90%|█████████ | 90/100 [00:44<00:04,  2.36it/s]"
     ]
    },
    {
     "name": "stdout",
     "output_type": "stream",
     "text": [
      "\n"
     ]
    },
    {
     "name": "stderr",
     "output_type": "stream",
     "text": [
      "Outer loop (a): 100%|██████████| 100/100 [00:49<00:00,  2.03it/s]\n"
     ]
    },
    {
     "name": "stdout",
     "output_type": "stream",
     "text": [
      "✅ Updated and saved new grid at ../backend/landscapes/mlp_10_10/two_blobs_separate/train/range0.2/ep50\n",
      "Done: two_blobs_separate, width=10, depth=2, ab_range=0.2, epoch=50\n",
      "Previously saved model is of lower resolution; recomputing\n"
     ]
    },
    {
     "name": "stderr",
     "output_type": "stream",
     "text": [
      "Outer loop (a): 100%|██████████| 100/100 [00:47<00:00,  2.10it/s]\n"
     ]
    },
    {
     "name": "stdout",
     "output_type": "stream",
     "text": [
      "✅ Updated and saved new grid at ../backend/landscapes/mlp_10/spirals/train/range0.2/ep820\n",
      "Done: spirals, width=10, depth=1, ab_range=0.2, epoch=820\n",
      "Previously saved model is of lower resolution; recomputing\n"
     ]
    },
    {
     "name": "stderr",
     "output_type": "stream",
     "text": [
      "Outer loop (a): 100%|██████████| 100/100 [00:47<00:00,  2.11it/s]\n"
     ]
    },
    {
     "name": "stdout",
     "output_type": "stream",
     "text": [
      "✅ Updated and saved new grid at ../backend/landscapes/mlp_10/two_blobs_overlap/train/range5/ep850\n",
      "Done: two_blobs_overlap, width=10, depth=1, ab_range=5, epoch=850\n",
      "Previously saved model is of lower resolution; recomputing\n"
     ]
    },
    {
     "name": "stderr",
     "output_type": "stream",
     "text": [
      "Outer loop (a): 100%|██████████| 100/100 [00:49<00:00,  2.01it/s]\n"
     ]
    },
    {
     "name": "stdout",
     "output_type": "stream",
     "text": [
      "✅ Updated and saved new grid at ../backend/landscapes/mlp_10_10/two_blobs_overlap/train/range10/ep140\n",
      "Done: two_blobs_overlap, width=10, depth=2, ab_range=10, epoch=140\n",
      "Previously saved model is of lower resolution; recomputing\n"
     ]
    },
    {
     "name": "stderr",
     "output_type": "stream",
     "text": [
      "Outer loop (a): 100%|██████████| 100/100 [00:51<00:00,  1.95it/s]\n"
     ]
    },
    {
     "name": "stdout",
     "output_type": "stream",
     "text": [
      "✅ Updated and saved new grid at ../backend/landscapes/mlp_10_10/two_blobs_separate/train/range0.2/ep60\n",
      "Done: two_blobs_separate, width=10, depth=2, ab_range=0.2, epoch=60\n",
      "Previously saved model is of lower resolution; recomputing\n"
     ]
    },
    {
     "name": "stderr",
     "output_type": "stream",
     "text": [
      "Outer loop (a): 100%|██████████| 100/100 [00:49<00:00,  2.00it/s]\n"
     ]
    },
    {
     "name": "stdout",
     "output_type": "stream",
     "text": [
      "✅ Updated and saved new grid at ../backend/landscapes/mlp_10/spirals/train/range0.2/ep830\n",
      "Done: spirals, width=10, depth=1, ab_range=0.2, epoch=830\n",
      "Previously saved model is of lower resolution; recomputing\n"
     ]
    },
    {
     "name": "stderr",
     "output_type": "stream",
     "text": [
      "Outer loop (a): 100%|██████████| 100/100 [00:47<00:00,  2.08it/s]\n"
     ]
    },
    {
     "name": "stdout",
     "output_type": "stream",
     "text": [
      "✅ Updated and saved new grid at ../backend/landscapes/mlp_10/two_blobs_overlap/train/range5/ep860\n",
      "Done: two_blobs_overlap, width=10, depth=1, ab_range=5, epoch=860\n",
      "Previously saved model is of lower resolution; recomputing\n"
     ]
    },
    {
     "name": "stderr",
     "output_type": "stream",
     "text": [
      "Outer loop (a): 100%|██████████| 100/100 [00:50<00:00,  1.99it/s]\n"
     ]
    },
    {
     "name": "stdout",
     "output_type": "stream",
     "text": [
      "✅ Updated and saved new grid at ../backend/landscapes/mlp_10_10/two_blobs_overlap/train/range10/ep150\n",
      "Done: two_blobs_overlap, width=10, depth=2, ab_range=10, epoch=150\n",
      "Previously saved model is of lower resolution; recomputing\n"
     ]
    },
    {
     "name": "stderr",
     "output_type": "stream",
     "text": [
      "Outer loop (a): 100%|██████████| 100/100 [00:50<00:00,  1.97it/s]\n"
     ]
    },
    {
     "name": "stdout",
     "output_type": "stream",
     "text": [
      "✅ Updated and saved new grid at ../backend/landscapes/mlp_10_10/two_blobs_separate/train/range0.2/ep70\n",
      "Done: two_blobs_separate, width=10, depth=2, ab_range=0.2, epoch=70\n",
      "Previously saved model is of lower resolution; recomputing\n"
     ]
    },
    {
     "name": "stderr",
     "output_type": "stream",
     "text": [
      "Outer loop (a): 100%|██████████| 100/100 [00:47<00:00,  2.10it/s]\n"
     ]
    },
    {
     "name": "stdout",
     "output_type": "stream",
     "text": [
      "✅ Updated and saved new grid at ../backend/landscapes/mlp_10/spirals/train/range0.2/ep840\n",
      "Done: spirals, width=10, depth=1, ab_range=0.2, epoch=840\n",
      "Previously saved model is of lower resolution; recomputing\n"
     ]
    },
    {
     "name": "stderr",
     "output_type": "stream",
     "text": [
      "Outer loop (a): 100%|██████████| 100/100 [00:48<00:00,  2.05it/s]\n"
     ]
    },
    {
     "name": "stdout",
     "output_type": "stream",
     "text": [
      "✅ Updated and saved new grid at ../backend/landscapes/mlp_10/two_blobs_overlap/train/range5/ep870\n",
      "Done: two_blobs_overlap, width=10, depth=1, ab_range=5, epoch=870\n",
      "Previously saved model is of lower resolution; recomputing\n"
     ]
    },
    {
     "name": "stderr",
     "output_type": "stream",
     "text": [
      "Outer loop (a): 100%|██████████| 100/100 [00:49<00:00,  2.02it/s]\n"
     ]
    },
    {
     "name": "stdout",
     "output_type": "stream",
     "text": [
      "✅ Updated and saved new grid at ../backend/landscapes/mlp_10_10/two_blobs_overlap/train/range10/ep160\n",
      "Done: two_blobs_overlap, width=10, depth=2, ab_range=10, epoch=160\n",
      "Previously saved model is of lower resolution; recomputing\n"
     ]
    },
    {
     "name": "stderr",
     "output_type": "stream",
     "text": [
      "Outer loop (a): 100%|██████████| 100/100 [00:48<00:00,  2.06it/s]\n"
     ]
    },
    {
     "name": "stdout",
     "output_type": "stream",
     "text": [
      "✅ Updated and saved new grid at ../backend/landscapes/mlp_10_10/two_blobs_separate/train/range0.2/ep80\n",
      "Done: two_blobs_separate, width=10, depth=2, ab_range=0.2, epoch=80\n",
      "Previously saved model is of lower resolution; recomputing\n"
     ]
    },
    {
     "name": "stderr",
     "output_type": "stream",
     "text": [
      "Outer loop (a): 100%|██████████| 100/100 [00:48<00:00,  2.08it/s]\n"
     ]
    },
    {
     "name": "stdout",
     "output_type": "stream",
     "text": [
      "✅ Updated and saved new grid at ../backend/landscapes/mlp_10/spirals/train/range0.2/ep850\n",
      "Done: spirals, width=10, depth=1, ab_range=0.2, epoch=850\n",
      "Previously saved model is of lower resolution; recomputing\n"
     ]
    },
    {
     "name": "stderr",
     "output_type": "stream",
     "text": [
      "Outer loop (a): 100%|██████████| 100/100 [00:48<00:00,  2.07it/s]\n"
     ]
    },
    {
     "name": "stdout",
     "output_type": "stream",
     "text": [
      "✅ Updated and saved new grid at ../backend/landscapes/mlp_10/two_blobs_overlap/train/range5/ep880\n",
      "Done: two_blobs_overlap, width=10, depth=1, ab_range=5, epoch=880\n",
      "Previously saved model is of lower resolution; recomputing\n"
     ]
    },
    {
     "name": "stderr",
     "output_type": "stream",
     "text": [
      "Outer loop (a): 100%|██████████| 100/100 [00:51<00:00,  1.95it/s]\n"
     ]
    },
    {
     "name": "stdout",
     "output_type": "stream",
     "text": [
      "✅ Updated and saved new grid at ../backend/landscapes/mlp_10_10/two_blobs_overlap/train/range10/ep170\n",
      "Done: two_blobs_overlap, width=10, depth=2, ab_range=10, epoch=170\n",
      "Previously saved model is of lower resolution; recomputing\n"
     ]
    },
    {
     "name": "stderr",
     "output_type": "stream",
     "text": [
      "Outer loop (a): 100%|██████████| 100/100 [00:51<00:00,  1.95it/s]\n"
     ]
    },
    {
     "name": "stdout",
     "output_type": "stream",
     "text": [
      "✅ Updated and saved new grid at ../backend/landscapes/mlp_10_10/two_blobs_separate/train/range0.2/ep90\n",
      "Done: two_blobs_separate, width=10, depth=2, ab_range=0.2, epoch=90\n",
      "Previously saved model is of lower resolution; recomputing\n"
     ]
    },
    {
     "name": "stderr",
     "output_type": "stream",
     "text": [
      "Outer loop (a): 100%|██████████| 100/100 [00:49<00:00,  2.04it/s]\n"
     ]
    },
    {
     "name": "stdout",
     "output_type": "stream",
     "text": [
      "✅ Updated and saved new grid at ../backend/landscapes/mlp_10/spirals/train/range0.2/ep860\n",
      "Done: spirals, width=10, depth=1, ab_range=0.2, epoch=860\n",
      "Previously saved model is of lower resolution; recomputing\n"
     ]
    },
    {
     "name": "stderr",
     "output_type": "stream",
     "text": [
      "Outer loop (a): 100%|██████████| 100/100 [00:45<00:00,  2.18it/s]\n"
     ]
    },
    {
     "name": "stdout",
     "output_type": "stream",
     "text": [
      "✅ Updated and saved new grid at ../backend/landscapes/mlp_10/two_blobs_overlap/train/range5/ep890\n",
      "Done: two_blobs_overlap, width=10, depth=1, ab_range=5, epoch=890\n",
      "Previously saved model is of lower resolution; recomputing\n"
     ]
    },
    {
     "name": "stderr",
     "output_type": "stream",
     "text": [
      "Outer loop (a): 100%|██████████| 100/100 [00:50<00:00,  1.99it/s]\n"
     ]
    },
    {
     "name": "stdout",
     "output_type": "stream",
     "text": [
      "✅ Updated and saved new grid at ../backend/landscapes/mlp_10_10/two_blobs_overlap/train/range10/ep180\n",
      "Done: two_blobs_overlap, width=10, depth=2, ab_range=10, epoch=180\n",
      "Previously saved model is of lower resolution; recomputing\n"
     ]
    },
    {
     "name": "stderr",
     "output_type": "stream",
     "text": [
      "Outer loop (a): 100%|██████████| 100/100 [00:50<00:00,  1.97it/s]\n"
     ]
    },
    {
     "name": "stdout",
     "output_type": "stream",
     "text": [
      "✅ Updated and saved new grid at ../backend/landscapes/mlp_10_10/two_blobs_separate/train/range0.2/ep100\n",
      "Done: two_blobs_separate, width=10, depth=2, ab_range=0.2, epoch=100\n",
      "Previously saved model is of lower resolution; recomputing\n"
     ]
    },
    {
     "name": "stderr",
     "output_type": "stream",
     "text": [
      "Outer loop (a): 100%|██████████| 100/100 [00:49<00:00,  2.03it/s]\n"
     ]
    },
    {
     "name": "stdout",
     "output_type": "stream",
     "text": [
      "✅ Updated and saved new grid at ../backend/landscapes/mlp_10/spirals/train/range0.2/ep870\n",
      "Done: spirals, width=10, depth=1, ab_range=0.2, epoch=870\n",
      "Previously saved model is of lower resolution; recomputing\n"
     ]
    },
    {
     "name": "stderr",
     "output_type": "stream",
     "text": [
      "Outer loop (a): 100%|██████████| 100/100 [00:49<00:00,  2.02it/s]\n"
     ]
    },
    {
     "name": "stdout",
     "output_type": "stream",
     "text": [
      "✅ Updated and saved new grid at ../backend/landscapes/mlp_10/two_blobs_overlap/train/range5/ep900\n",
      "Done: two_blobs_overlap, width=10, depth=1, ab_range=5, epoch=900\n",
      "Previously saved model is of lower resolution; recomputing"
     ]
    },
    {
     "name": "stderr",
     "output_type": "stream",
     "text": [
      "Outer loop (a):  60%|██████    | 60/100 [00:29<00:21,  1.82it/s]"
     ]
    },
    {
     "name": "stdout",
     "output_type": "stream",
     "text": [
      "\n"
     ]
    },
    {
     "name": "stderr",
     "output_type": "stream",
     "text": [
      "Outer loop (a): 100%|██████████| 100/100 [00:50<00:00,  1.97it/s]\n"
     ]
    },
    {
     "name": "stdout",
     "output_type": "stream",
     "text": [
      "✅ Updated and saved new grid at ../backend/landscapes/mlp_10_10/two_blobs_overlap/train/range10/ep190\n",
      "Done: two_blobs_overlap, width=10, depth=2, ab_range=10, epoch=190\n",
      "Previously saved model is of lower resolution; recomputing\n"
     ]
    },
    {
     "name": "stderr",
     "output_type": "stream",
     "text": [
      "Outer loop (a): 100%|██████████| 100/100 [00:50<00:00,  1.98it/s]\n"
     ]
    },
    {
     "name": "stdout",
     "output_type": "stream",
     "text": [
      "✅ Updated and saved new grid at ../backend/landscapes/mlp_10_10/two_blobs_separate/train/range0.2/ep110\n",
      "Done: two_blobs_separate, width=10, depth=2, ab_range=0.2, epoch=110\n",
      "Previously saved model is of lower resolution; recomputing\n"
     ]
    },
    {
     "name": "stderr",
     "output_type": "stream",
     "text": [
      "Outer loop (a): 100%|██████████| 100/100 [00:47<00:00,  2.12it/s]\n"
     ]
    },
    {
     "name": "stdout",
     "output_type": "stream",
     "text": [
      "✅ Updated and saved new grid at ../backend/landscapes/mlp_10/spirals/train/range0.2/ep880\n",
      "Done: spirals, width=10, depth=1, ab_range=0.2, epoch=880\n",
      "Previously saved model is of lower resolution; recomputing\n"
     ]
    },
    {
     "name": "stderr",
     "output_type": "stream",
     "text": [
      "Outer loop (a): 100%|██████████| 100/100 [00:49<00:00,  2.03it/s]\n"
     ]
    },
    {
     "name": "stdout",
     "output_type": "stream",
     "text": [
      "✅ Updated and saved new grid at ../backend/landscapes/mlp_10/two_blobs_overlap/train/range5/ep910\n",
      "Done: two_blobs_overlap, width=10, depth=1, ab_range=5, epoch=910\n",
      "Previously saved model is of lower resolution; recomputing\n"
     ]
    },
    {
     "name": "stderr",
     "output_type": "stream",
     "text": [
      "Outer loop (a): 100%|██████████| 100/100 [00:52<00:00,  1.92it/s]\n"
     ]
    },
    {
     "name": "stdout",
     "output_type": "stream",
     "text": [
      "✅ Updated and saved new grid at ../backend/landscapes/mlp_10_10/two_blobs_overlap/train/range10/ep200\n",
      "Done: two_blobs_overlap, width=10, depth=2, ab_range=10, epoch=200\n",
      "Previously saved model is of lower resolution; recomputing\n"
     ]
    },
    {
     "name": "stderr",
     "output_type": "stream",
     "text": [
      "Outer loop (a): 100%|██████████| 100/100 [00:48<00:00,  2.04it/s]\n"
     ]
    },
    {
     "name": "stdout",
     "output_type": "stream",
     "text": [
      "✅ Updated and saved new grid at ../backend/landscapes/mlp_10_10/two_blobs_separate/train/range0.2/ep120\n",
      "Done: two_blobs_separate, width=10, depth=2, ab_range=0.2, epoch=120\n",
      "Previously saved model is of lower resolution; recomputing\n"
     ]
    },
    {
     "name": "stderr",
     "output_type": "stream",
     "text": [
      "Outer loop (a): 100%|██████████| 100/100 [00:49<00:00,  2.03it/s]\n"
     ]
    },
    {
     "name": "stdout",
     "output_type": "stream",
     "text": [
      "✅ Updated and saved new grid at ../backend/landscapes/mlp_10/spirals/train/range0.2/ep890\n",
      "Done: spirals, width=10, depth=1, ab_range=0.2, epoch=890\n",
      "Previously saved model is of lower resolution; recomputing\n"
     ]
    },
    {
     "name": "stderr",
     "output_type": "stream",
     "text": [
      "Outer loop (a): 100%|██████████| 100/100 [00:48<00:00,  2.07it/s]\n"
     ]
    },
    {
     "name": "stdout",
     "output_type": "stream",
     "text": [
      "✅ Updated and saved new grid at ../backend/landscapes/mlp_10/two_blobs_overlap/train/range5/ep920\n",
      "Done: two_blobs_overlap, width=10, depth=1, ab_range=5, epoch=920\n",
      "Previously saved model is of lower resolution; recomputing\n"
     ]
    },
    {
     "name": "stderr",
     "output_type": "stream",
     "text": [
      "Outer loop (a): 100%|██████████| 100/100 [00:48<00:00,  2.04it/s]\n"
     ]
    },
    {
     "name": "stdout",
     "output_type": "stream",
     "text": [
      "✅ Updated and saved new grid at ../backend/landscapes/mlp_10_10/two_blobs_overlap/train/range10/ep210\n",
      "Done: two_blobs_overlap, width=10, depth=2, ab_range=10, epoch=210\n",
      "Previously saved model is of lower resolution; recomputing\n"
     ]
    },
    {
     "name": "stderr",
     "output_type": "stream",
     "text": [
      "Outer loop (a): 100%|██████████| 100/100 [00:49<00:00,  2.00it/s]\n"
     ]
    },
    {
     "name": "stdout",
     "output_type": "stream",
     "text": [
      "✅ Updated and saved new grid at ../backend/landscapes/mlp_10_10/two_blobs_separate/train/range0.2/ep130\n",
      "Done: two_blobs_separate, width=10, depth=2, ab_range=0.2, epoch=130\n",
      "Previously saved model is of lower resolution; recomputing\n"
     ]
    },
    {
     "name": "stderr",
     "output_type": "stream",
     "text": [
      "Outer loop (a): 100%|██████████| 100/100 [00:49<00:00,  2.04it/s]\n"
     ]
    },
    {
     "name": "stdout",
     "output_type": "stream",
     "text": [
      "✅ Updated and saved new grid at ../backend/landscapes/mlp_10/spirals/train/range0.2/ep900\n",
      "Done: spirals, width=10, depth=1, ab_range=0.2, epoch=900\n",
      "Previously saved model is of lower resolution; recomputing\n"
     ]
    },
    {
     "name": "stderr",
     "output_type": "stream",
     "text": [
      "Outer loop (a): 100%|██████████| 100/100 [00:48<00:00,  2.08it/s]\n"
     ]
    },
    {
     "name": "stdout",
     "output_type": "stream",
     "text": [
      "✅ Updated and saved new grid at ../backend/landscapes/mlp_10/two_blobs_overlap/train/range5/ep930\n",
      "Done: two_blobs_overlap, width=10, depth=1, ab_range=5, epoch=930\n",
      "Previously saved model is of lower resolution; recomputing\n"
     ]
    },
    {
     "name": "stderr",
     "output_type": "stream",
     "text": [
      "Outer loop (a): 100%|██████████| 100/100 [00:50<00:00,  1.97it/s]\n"
     ]
    },
    {
     "name": "stdout",
     "output_type": "stream",
     "text": [
      "✅ Updated and saved new grid at ../backend/landscapes/mlp_10_10/two_blobs_overlap/train/range10/ep220\n",
      "Done: two_blobs_overlap, width=10, depth=2, ab_range=10, epoch=220\n",
      "Previously saved model is of lower resolution; recomputing\n"
     ]
    },
    {
     "name": "stderr",
     "output_type": "stream",
     "text": [
      "Outer loop (a): 100%|██████████| 100/100 [00:52<00:00,  1.92it/s]\n"
     ]
    },
    {
     "name": "stdout",
     "output_type": "stream",
     "text": [
      "✅ Updated and saved new grid at ../backend/landscapes/mlp_10_10/two_blobs_separate/train/range0.2/ep140\n",
      "Done: two_blobs_separate, width=10, depth=2, ab_range=0.2, epoch=140\n",
      "Previously saved model is of lower resolution; recomputing\n"
     ]
    },
    {
     "name": "stderr",
     "output_type": "stream",
     "text": [
      "Outer loop (a): 100%|██████████| 100/100 [00:48<00:00,  2.06it/s]\n"
     ]
    },
    {
     "name": "stdout",
     "output_type": "stream",
     "text": [
      "✅ Updated and saved new grid at ../backend/landscapes/mlp_10/spirals/train/range0.2/ep910\n",
      "Done: spirals, width=10, depth=1, ab_range=0.2, epoch=910\n",
      "Previously saved model is of lower resolution; recomputing\n"
     ]
    },
    {
     "name": "stderr",
     "output_type": "stream",
     "text": [
      "Outer loop (a): 100%|██████████| 100/100 [00:47<00:00,  2.10it/s]\n"
     ]
    },
    {
     "name": "stdout",
     "output_type": "stream",
     "text": [
      "✅ Updated and saved new grid at ../backend/landscapes/mlp_10/two_blobs_overlap/train/range5/ep940\n",
      "Done: two_blobs_overlap, width=10, depth=1, ab_range=5, epoch=940\n",
      "Previously saved model is of lower resolution; recomputing\n"
     ]
    },
    {
     "name": "stderr",
     "output_type": "stream",
     "text": [
      "Outer loop (a): 100%|██████████| 100/100 [00:52<00:00,  1.91it/s]\n"
     ]
    },
    {
     "name": "stdout",
     "output_type": "stream",
     "text": [
      "✅ Updated and saved new grid at ../backend/landscapes/mlp_10_10/two_blobs_overlap/train/range10/ep230\n",
      "Done: two_blobs_overlap, width=10, depth=2, ab_range=10, epoch=230\n",
      "Previously saved model is of lower resolution; recomputing\n"
     ]
    },
    {
     "name": "stderr",
     "output_type": "stream",
     "text": [
      "Outer loop (a): 100%|██████████| 100/100 [00:51<00:00,  1.93it/s]\n"
     ]
    },
    {
     "name": "stdout",
     "output_type": "stream",
     "text": [
      "✅ Updated and saved new grid at ../backend/landscapes/mlp_10_10/two_blobs_separate/train/range0.2/ep150\n",
      "Done: two_blobs_separate, width=10, depth=2, ab_range=0.2, epoch=150\n",
      "Previously saved model is of lower resolution; recomputing\n"
     ]
    },
    {
     "name": "stderr",
     "output_type": "stream",
     "text": [
      "Outer loop (a): 100%|██████████| 100/100 [00:48<00:00,  2.07it/s]\n"
     ]
    },
    {
     "name": "stdout",
     "output_type": "stream",
     "text": [
      "✅ Updated and saved new grid at ../backend/landscapes/mlp_10/spirals/train/range0.2/ep920\n",
      "Done: spirals, width=10, depth=1, ab_range=0.2, epoch=920\n",
      "Previously saved model is of lower resolution; recomputing\n"
     ]
    },
    {
     "name": "stderr",
     "output_type": "stream",
     "text": [
      "Outer loop (a): 100%|██████████| 100/100 [00:47<00:00,  2.09it/s]\n"
     ]
    },
    {
     "name": "stdout",
     "output_type": "stream",
     "text": [
      "✅ Updated and saved new grid at ../backend/landscapes/mlp_10/two_blobs_overlap/train/range5/ep950\n",
      "Done: two_blobs_overlap, width=10, depth=1, ab_range=5, epoch=950\n",
      "Previously saved model is of lower resolution; recomputing\n"
     ]
    },
    {
     "name": "stderr",
     "output_type": "stream",
     "text": [
      "Outer loop (a): 100%|██████████| 100/100 [00:51<00:00,  1.96it/s]\n"
     ]
    },
    {
     "name": "stdout",
     "output_type": "stream",
     "text": [
      "✅ Updated and saved new grid at ../backend/landscapes/mlp_10_10/two_blobs_overlap/train/range10/ep240\n",
      "Done: two_blobs_overlap, width=10, depth=2, ab_range=10, epoch=240\n",
      "Previously saved model is of lower resolution; recomputing\n"
     ]
    },
    {
     "name": "stderr",
     "output_type": "stream",
     "text": [
      "Outer loop (a): 100%|██████████| 100/100 [00:47<00:00,  2.11it/s]\n"
     ]
    },
    {
     "name": "stdout",
     "output_type": "stream",
     "text": [
      "✅ Updated and saved new grid at ../backend/landscapes/mlp_10/spirals/train/range0.2/ep930\n",
      "Done: spirals, width=10, depth=1, ab_range=0.2, epoch=930\n",
      "Previously saved model is of lower resolution; recomputing\n"
     ]
    },
    {
     "name": "stderr",
     "output_type": "stream",
     "text": [
      "Outer loop (a): 100%|██████████| 100/100 [00:52<00:00,  1.89it/s]\n"
     ]
    },
    {
     "name": "stdout",
     "output_type": "stream",
     "text": [
      "✅ Updated and saved new grid at ../backend/landscapes/mlp_10_10/two_blobs_separate/train/range0.2/ep160\n",
      "Done: two_blobs_separate, width=10, depth=2, ab_range=0.2, epoch=160\n",
      "Previously saved model is of lower resolution; recomputing\n"
     ]
    },
    {
     "name": "stderr",
     "output_type": "stream",
     "text": [
      "Outer loop (a): 100%|██████████| 100/100 [00:47<00:00,  2.10it/s]\n"
     ]
    },
    {
     "name": "stdout",
     "output_type": "stream",
     "text": [
      "✅ Updated and saved new grid at ../backend/landscapes/mlp_10/two_blobs_overlap/train/range5/ep960\n",
      "Done: two_blobs_overlap, width=10, depth=1, ab_range=5, epoch=960\n",
      "Previously saved model is of lower resolution; recomputing\n"
     ]
    },
    {
     "name": "stderr",
     "output_type": "stream",
     "text": [
      "Outer loop (a): 100%|██████████| 100/100 [00:50<00:00,  1.98it/s]\n"
     ]
    },
    {
     "name": "stdout",
     "output_type": "stream",
     "text": [
      "✅ Updated and saved new grid at ../backend/landscapes/mlp_10_10/two_blobs_overlap/train/range10/ep250\n",
      "Done: two_blobs_overlap, width=10, depth=2, ab_range=10, epoch=250\n",
      "Previously saved model is of lower resolution; recomputing\n"
     ]
    },
    {
     "name": "stderr",
     "output_type": "stream",
     "text": [
      "Outer loop (a): 100%|██████████| 100/100 [00:46<00:00,  2.14it/s]\n"
     ]
    },
    {
     "name": "stdout",
     "output_type": "stream",
     "text": [
      "✅ Updated and saved new grid at ../backend/landscapes/mlp_10/spirals/train/range0.2/ep940\n",
      "Done: spirals, width=10, depth=1, ab_range=0.2, epoch=940\n",
      "Previously saved model is of lower resolution; recomputing\n"
     ]
    },
    {
     "name": "stderr",
     "output_type": "stream",
     "text": [
      "Outer loop (a): 100%|██████████| 100/100 [00:52<00:00,  1.89it/s]\n"
     ]
    },
    {
     "name": "stdout",
     "output_type": "stream",
     "text": [
      "✅ Updated and saved new grid at ../backend/landscapes/mlp_10_10/two_blobs_separate/train/range0.2/ep170\n",
      "Done: two_blobs_separate, width=10, depth=2, ab_range=0.2, epoch=170\n",
      "Previously saved model is of lower resolution; recomputing\n"
     ]
    },
    {
     "name": "stderr",
     "output_type": "stream",
     "text": [
      "Outer loop (a): 100%|██████████| 100/100 [00:46<00:00,  2.14it/s]\n"
     ]
    },
    {
     "name": "stdout",
     "output_type": "stream",
     "text": [
      "✅ Updated and saved new grid at ../backend/landscapes/mlp_10/two_blobs_overlap/train/range5/ep970\n",
      "Done: two_blobs_overlap, width=10, depth=1, ab_range=5, epoch=970\n",
      "Previously saved model is of lower resolution; recomputing\n"
     ]
    },
    {
     "name": "stderr",
     "output_type": "stream",
     "text": [
      "Outer loop (a): 100%|██████████| 100/100 [00:46<00:00,  2.13it/s]\n"
     ]
    },
    {
     "name": "stdout",
     "output_type": "stream",
     "text": [
      "✅ Updated and saved new grid at ../backend/landscapes/mlp_10/spirals/train/range0.2/ep950\n",
      "Done: spirals, width=10, depth=1, ab_range=0.2, epoch=950\n",
      "Previously saved model is of lower resolution; recomputing\n"
     ]
    },
    {
     "name": "stderr",
     "output_type": "stream",
     "text": [
      "Outer loop (a): 100%|██████████| 100/100 [00:50<00:00,  1.98it/s]\n"
     ]
    },
    {
     "name": "stdout",
     "output_type": "stream",
     "text": [
      "✅ Updated and saved new grid at ../backend/landscapes/mlp_10_10/two_blobs_overlap/train/range10/ep260\n",
      "Done: two_blobs_overlap, width=10, depth=2, ab_range=10, epoch=260\n",
      "Previously saved model is of lower resolution; recomputing\n"
     ]
    },
    {
     "name": "stderr",
     "output_type": "stream",
     "text": [
      "Outer loop (a): 100%|██████████| 100/100 [00:51<00:00,  1.93it/s]\n"
     ]
    },
    {
     "name": "stdout",
     "output_type": "stream",
     "text": [
      "✅ Updated and saved new grid at ../backend/landscapes/mlp_10_10/two_blobs_separate/train/range0.2/ep180\n",
      "Done: two_blobs_separate, width=10, depth=2, ab_range=0.2, epoch=180\n",
      "Previously saved model is of lower resolution; recomputing\n"
     ]
    },
    {
     "name": "stderr",
     "output_type": "stream",
     "text": [
      "Outer loop (a): 100%|██████████| 100/100 [00:48<00:00,  2.05it/s]\n"
     ]
    },
    {
     "name": "stdout",
     "output_type": "stream",
     "text": [
      "✅ Updated and saved new grid at ../backend/landscapes/mlp_10/two_blobs_overlap/train/range5/ep980\n",
      "Done: two_blobs_overlap, width=10, depth=1, ab_range=5, epoch=980\n",
      "Previously saved model is of lower resolution; recomputing\n"
     ]
    },
    {
     "name": "stderr",
     "output_type": "stream",
     "text": [
      "Outer loop (a): 100%|██████████| 100/100 [00:48<00:00,  2.06it/s]\n"
     ]
    },
    {
     "name": "stdout",
     "output_type": "stream",
     "text": [
      "✅ Updated and saved new grid at ../backend/landscapes/mlp_10/spirals/train/range0.2/ep960\n",
      "Done: spirals, width=10, depth=1, ab_range=0.2, epoch=960\n",
      "Previously saved model is of lower resolution; recomputing\n"
     ]
    },
    {
     "name": "stderr",
     "output_type": "stream",
     "text": [
      "Outer loop (a): 100%|██████████| 100/100 [00:51<00:00,  1.93it/s]\n",
      "Outer loop (a):  84%|████████▍ | 84/100 [00:41<00:09,  1.70it/s]"
     ]
    },
    {
     "name": "stdout",
     "output_type": "stream",
     "text": [
      "✅ Updated and saved new grid at ../backend/landscapes/mlp_10_10/two_blobs_overlap/train/range10/ep270\n",
      "Done: two_blobs_overlap, width=10, depth=2, ab_range=10, epoch=270\n",
      "Previously saved model is of lower resolution; recomputing\n"
     ]
    },
    {
     "name": "stderr",
     "output_type": "stream",
     "text": [
      "Outer loop (a): 100%|██████████| 100/100 [00:49<00:00,  2.01it/s]\n"
     ]
    },
    {
     "name": "stdout",
     "output_type": "stream",
     "text": [
      "✅ Updated and saved new grid at ../backend/landscapes/mlp_10_10/two_blobs_separate/train/range0.2/ep190\n",
      "Done: two_blobs_separate, width=10, depth=2, ab_range=0.2, epoch=190\n",
      "Previously saved model is of lower resolution; recomputing\n"
     ]
    },
    {
     "name": "stderr",
     "output_type": "stream",
     "text": [
      "Outer loop (a): 100%|██████████| 100/100 [00:48<00:00,  2.05it/s]\n"
     ]
    },
    {
     "name": "stdout",
     "output_type": "stream",
     "text": [
      "✅ Updated and saved new grid at ../backend/landscapes/mlp_10/two_blobs_overlap/train/range5/ep990\n",
      "Done: two_blobs_overlap, width=10, depth=1, ab_range=5, epoch=990\n",
      "Previously saved model is of lower resolution; recomputing\n"
     ]
    },
    {
     "name": "stderr",
     "output_type": "stream",
     "text": [
      "Outer loop (a): 100%|██████████| 100/100 [00:48<00:00,  2.07it/s]\n"
     ]
    },
    {
     "name": "stdout",
     "output_type": "stream",
     "text": [
      "✅ Updated and saved new grid at ../backend/landscapes/mlp_10/spirals/train/range0.2/ep970\n",
      "Done: spirals, width=10, depth=1, ab_range=0.2, epoch=970\n",
      "Previously saved model is of lower resolution; recomputing\n"
     ]
    },
    {
     "name": "stderr",
     "output_type": "stream",
     "text": [
      "Outer loop (a): 100%|██████████| 100/100 [00:50<00:00,  1.97it/s]\n"
     ]
    },
    {
     "name": "stdout",
     "output_type": "stream",
     "text": [
      "✅ Updated and saved new grid at ../backend/landscapes/mlp_10_10/two_blobs_overlap/train/range10/ep280\n",
      "Done: two_blobs_overlap, width=10, depth=2, ab_range=10, epoch=280\n",
      "Previously saved model is of lower resolution; recomputing\n"
     ]
    },
    {
     "name": "stderr",
     "output_type": "stream",
     "text": [
      "Outer loop (a): 100%|██████████| 100/100 [00:50<00:00,  1.97it/s]\n"
     ]
    },
    {
     "name": "stdout",
     "output_type": "stream",
     "text": [
      "✅ Updated and saved new grid at ../backend/landscapes/mlp_10_10/two_blobs_separate/train/range0.2/ep200\n",
      "Done: two_blobs_separate, width=10, depth=2, ab_range=0.2, epoch=200\n",
      "Previously saved model is of lower resolution; recomputing\n"
     ]
    },
    {
     "name": "stderr",
     "output_type": "stream",
     "text": [
      "Outer loop (a): 100%|██████████| 100/100 [00:49<00:00,  2.03it/s]\n"
     ]
    },
    {
     "name": "stdout",
     "output_type": "stream",
     "text": [
      "✅ Updated and saved new grid at ../backend/landscapes/mlp_10/two_blobs_overlap/train/range5/ep1000\n",
      "Done: two_blobs_overlap, width=10, depth=1, ab_range=5, epoch=1000\n",
      "Previously saved model is of lower resolution; recomputing\n"
     ]
    },
    {
     "name": "stderr",
     "output_type": "stream",
     "text": [
      "Outer loop (a): 100%|██████████| 100/100 [00:48<00:00,  2.07it/s]\n"
     ]
    },
    {
     "name": "stdout",
     "output_type": "stream",
     "text": [
      "✅ Updated and saved new grid at ../backend/landscapes/mlp_10/spirals/train/range0.2/ep980\n",
      "Done: spirals, width=10, depth=1, ab_range=0.2, epoch=980\n",
      "Previously saved model is of lower resolution; recomputing\n"
     ]
    },
    {
     "name": "stderr",
     "output_type": "stream",
     "text": [
      "Outer loop (a): 100%|██████████| 100/100 [00:49<00:00,  2.01it/s]\n"
     ]
    },
    {
     "name": "stdout",
     "output_type": "stream",
     "text": [
      "✅ Updated and saved new grid at ../backend/landscapes/mlp_10_10/two_blobs_overlap/train/range10/ep290\n",
      "Done: two_blobs_overlap, width=10, depth=2, ab_range=10, epoch=290\n",
      "Previously saved model is of lower resolution; recomputing\n"
     ]
    },
    {
     "name": "stderr",
     "output_type": "stream",
     "text": [
      "Outer loop (a): 100%|██████████| 100/100 [00:48<00:00,  2.05it/s]\n"
     ]
    },
    {
     "name": "stdout",
     "output_type": "stream",
     "text": [
      "✅ Updated and saved new grid at ../backend/landscapes/mlp_10/two_blobs_overlap/train/range0.2/ep0\n",
      "Done: two_blobs_overlap, width=10, depth=1, ab_range=0.2, epoch=0\n",
      "Previously saved model is of lower resolution; recomputing\n"
     ]
    },
    {
     "name": "stderr",
     "output_type": "stream",
     "text": [
      "Outer loop (a): 100%|██████████| 100/100 [00:50<00:00,  2.00it/s]\n"
     ]
    },
    {
     "name": "stdout",
     "output_type": "stream",
     "text": [
      "✅ Updated and saved new grid at ../backend/landscapes/mlp_10_10/two_blobs_separate/train/range0.2/ep210\n",
      "Done: two_blobs_separate, width=10, depth=2, ab_range=0.2, epoch=210\n",
      "Previously saved model is of lower resolution; recomputing\n"
     ]
    },
    {
     "name": "stderr",
     "output_type": "stream",
     "text": [
      "Outer loop (a): 100%|██████████| 100/100 [00:47<00:00,  2.12it/s]\n"
     ]
    },
    {
     "name": "stdout",
     "output_type": "stream",
     "text": [
      "✅ Updated and saved new grid at ../backend/landscapes/mlp_10/spirals/train/range0.2/ep990\n",
      "Done: spirals, width=10, depth=1, ab_range=0.2, epoch=990\n",
      "Previously saved model is of lower resolution; recomputing\n"
     ]
    },
    {
     "name": "stderr",
     "output_type": "stream",
     "text": [
      "Outer loop (a): 100%|██████████| 100/100 [00:50<00:00,  1.98it/s]\n"
     ]
    },
    {
     "name": "stdout",
     "output_type": "stream",
     "text": [
      "✅ Updated and saved new grid at ../backend/landscapes/mlp_10_10/two_blobs_overlap/train/range10/ep300\n",
      "Done: two_blobs_overlap, width=10, depth=2, ab_range=10, epoch=300\n",
      "Previously saved model is of lower resolution; recomputing\n"
     ]
    },
    {
     "name": "stderr",
     "output_type": "stream",
     "text": [
      "Outer loop (a): 100%|██████████| 100/100 [00:47<00:00,  2.11it/s]\n"
     ]
    },
    {
     "name": "stdout",
     "output_type": "stream",
     "text": [
      "✅ Updated and saved new grid at ../backend/landscapes/mlp_10/two_blobs_overlap/train/range0.2/ep10\n",
      "Done: two_blobs_overlap, width=10, depth=1, ab_range=0.2, epoch=10\n",
      "Previously saved model is of lower resolution; recomputing\n"
     ]
    },
    {
     "name": "stderr",
     "output_type": "stream",
     "text": [
      "Outer loop (a): 100%|██████████| 100/100 [00:49<00:00,  2.00it/s]\n"
     ]
    },
    {
     "name": "stdout",
     "output_type": "stream",
     "text": [
      "✅ Updated and saved new grid at ../backend/landscapes/mlp_10_10/two_blobs_separate/train/range0.2/ep220"
     ]
    },
    {
     "name": "stderr",
     "output_type": "stream",
     "text": [
      "Outer loop (a):   7%|▋         | 7/100 [00:03<00:47,  1.96it/s]"
     ]
    },
    {
     "name": "stdout",
     "output_type": "stream",
     "text": [
      "\n",
      "Done: two_blobs_separate, width=10, depth=2, ab_range=0.2, epoch=220\n",
      "Previously saved model is of lower resolution; recomputing\n"
     ]
    },
    {
     "name": "stderr",
     "output_type": "stream",
     "text": [
      "Outer loop (a): 100%|██████████| 100/100 [00:48<00:00,  2.08it/s]\n"
     ]
    },
    {
     "name": "stdout",
     "output_type": "stream",
     "text": [
      "✅ Updated and saved new grid at ../backend/landscapes/mlp_10/spirals/train/range0.2/ep1000\n",
      "Done: spirals, width=10, depth=1, ab_range=0.2, epoch=1000\n",
      "Previously saved model is of lower resolution; recomputing\n"
     ]
    },
    {
     "name": "stderr",
     "output_type": "stream",
     "text": [
      "Outer loop (a): 100%|██████████| 100/100 [00:47<00:00,  2.09it/s]\n"
     ]
    },
    {
     "name": "stdout",
     "output_type": "stream",
     "text": [
      "✅ Updated and saved new grid at ../backend/landscapes/mlp_10/two_blobs_overlap/train/range0.2/ep20\n",
      "Done: two_blobs_overlap, width=10, depth=1, ab_range=0.2, epoch=20\n",
      "Previously saved model is of lower resolution; recomputing\n"
     ]
    },
    {
     "name": "stderr",
     "output_type": "stream",
     "text": [
      "Outer loop (a): 100%|██████████| 100/100 [00:52<00:00,  1.90it/s]\n"
     ]
    },
    {
     "name": "stdout",
     "output_type": "stream",
     "text": [
      "✅ Updated and saved new grid at ../backend/landscapes/mlp_10_10/two_blobs_overlap/train/range10/ep310\n",
      "Done: two_blobs_overlap, width=10, depth=2, ab_range=10, epoch=310\n",
      "Previously saved model is of lower resolution; recomputing\n"
     ]
    },
    {
     "name": "stderr",
     "output_type": "stream",
     "text": [
      "Outer loop (a): 100%|██████████| 100/100 [00:53<00:00,  1.88it/s]\n"
     ]
    },
    {
     "name": "stdout",
     "output_type": "stream",
     "text": [
      "✅ Updated and saved new grid at ../backend/landscapes/mlp_10_10/two_blobs_separate/train/range0.2/ep230\n",
      "Done: two_blobs_separate, width=10, depth=2, ab_range=0.2, epoch=230\n",
      "Previously saved model is of lower resolution; recomputing\n"
     ]
    },
    {
     "name": "stderr",
     "output_type": "stream",
     "text": [
      "Outer loop (a): 100%|██████████| 100/100 [00:47<00:00,  2.09it/s]\n"
     ]
    },
    {
     "name": "stdout",
     "output_type": "stream",
     "text": [
      "✅ Updated and saved new grid at ../backend/landscapes/mlp_10/spirals/train/range0.5/ep0\n",
      "Done: spirals, width=10, depth=1, ab_range=0.5, epoch=0\n",
      "Previously saved model is of lower resolution; recomputing\n"
     ]
    },
    {
     "name": "stderr",
     "output_type": "stream",
     "text": [
      "Outer loop (a): 100%|██████████| 100/100 [00:47<00:00,  2.13it/s]\n"
     ]
    },
    {
     "name": "stdout",
     "output_type": "stream",
     "text": [
      "✅ Updated and saved new grid at ../backend/landscapes/mlp_10/two_blobs_overlap/train/range0.2/ep30\n",
      "Done: two_blobs_overlap, width=10, depth=1, ab_range=0.2, epoch=30\n",
      "Previously saved model is of lower resolution; recomputing\n"
     ]
    },
    {
     "name": "stderr",
     "output_type": "stream",
     "text": [
      "Outer loop (a): 100%|██████████| 100/100 [00:52<00:00,  1.91it/s]\n"
     ]
    },
    {
     "name": "stdout",
     "output_type": "stream",
     "text": [
      "✅ Updated and saved new grid at ../backend/landscapes/mlp_10_10/two_blobs_overlap/train/range10/ep320\n",
      "Done: two_blobs_overlap, width=10, depth=2, ab_range=10, epoch=320\n",
      "Previously saved model is of lower resolution; recomputing\n"
     ]
    },
    {
     "name": "stderr",
     "output_type": "stream",
     "text": [
      "Outer loop (a): 100%|██████████| 100/100 [00:49<00:00,  2.01it/s]\n"
     ]
    },
    {
     "name": "stdout",
     "output_type": "stream",
     "text": [
      "✅ Updated and saved new grid at ../backend/landscapes/mlp_10_10/two_blobs_separate/train/range0.2/ep240\n",
      "Done: two_blobs_separate, width=10, depth=2, ab_range=0.2, epoch=240\n",
      "Previously saved model is of lower resolution; recomputing\n"
     ]
    },
    {
     "name": "stderr",
     "output_type": "stream",
     "text": [
      "Outer loop (a): 100%|██████████| 100/100 [00:49<00:00,  2.04it/s]\n"
     ]
    },
    {
     "name": "stdout",
     "output_type": "stream",
     "text": [
      "✅ Updated and saved new grid at ../backend/landscapes/mlp_10/spirals/train/range0.5/ep10\n",
      "Done: spirals, width=10, depth=1, ab_range=0.5, epoch=10\n",
      "Previously saved model is of lower resolution; recomputing\n"
     ]
    },
    {
     "name": "stderr",
     "output_type": "stream",
     "text": [
      "Outer loop (a): 100%|██████████| 100/100 [00:47<00:00,  2.11it/s]\n"
     ]
    },
    {
     "name": "stdout",
     "output_type": "stream",
     "text": [
      "✅ Updated and saved new grid at ../backend/landscapes/mlp_10/two_blobs_overlap/train/range0.2/ep40\n",
      "Done: two_blobs_overlap, width=10, depth=1, ab_range=0.2, epoch=40\n",
      "Previously saved model is of lower resolution; recomputing\n"
     ]
    },
    {
     "name": "stderr",
     "output_type": "stream",
     "text": [
      "Outer loop (a): 100%|██████████| 100/100 [00:50<00:00,  1.98it/s]\n"
     ]
    },
    {
     "name": "stdout",
     "output_type": "stream",
     "text": [
      "✅ Updated and saved new grid at ../backend/landscapes/mlp_10_10/two_blobs_overlap/train/range10/ep330\n",
      "Done: two_blobs_overlap, width=10, depth=2, ab_range=10, epoch=330\n",
      "Previously saved model is of lower resolution; recomputing\n"
     ]
    },
    {
     "name": "stderr",
     "output_type": "stream",
     "text": [
      "Outer loop (a): 100%|██████████| 100/100 [00:52<00:00,  1.91it/s]\n"
     ]
    },
    {
     "name": "stdout",
     "output_type": "stream",
     "text": [
      "✅ Updated and saved new grid at ../backend/landscapes/mlp_10_10/two_blobs_separate/train/range0.2/ep250\n",
      "Done: two_blobs_separate, width=10, depth=2, ab_range=0.2, epoch=250\n",
      "Previously saved model is of lower resolution; recomputing\n"
     ]
    },
    {
     "name": "stderr",
     "output_type": "stream",
     "text": [
      "Outer loop (a): 100%|██████████| 100/100 [00:50<00:00,  1.98it/s]\n"
     ]
    },
    {
     "name": "stdout",
     "output_type": "stream",
     "text": [
      "✅ Updated and saved new grid at ../backend/landscapes/mlp_10/spirals/train/range0.5/ep20\n",
      "Done: spirals, width=10, depth=1, ab_range=0.5, epoch=20\n",
      "Previously saved model is of lower resolution; recomputing\n"
     ]
    },
    {
     "name": "stderr",
     "output_type": "stream",
     "text": [
      "Outer loop (a): 100%|██████████| 100/100 [00:49<00:00,  2.01it/s]\n"
     ]
    },
    {
     "name": "stdout",
     "output_type": "stream",
     "text": [
      "✅ Updated and saved new grid at ../backend/landscapes/mlp_10/two_blobs_overlap/train/range0.2/ep50\n",
      "Done: two_blobs_overlap, width=10, depth=1, ab_range=0.2, epoch=50\n",
      "Previously saved model is of lower resolution; recomputing\n"
     ]
    },
    {
     "name": "stderr",
     "output_type": "stream",
     "text": [
      "Outer loop (a): 100%|██████████| 100/100 [00:52<00:00,  1.89it/s]\n"
     ]
    },
    {
     "name": "stdout",
     "output_type": "stream",
     "text": [
      "✅ Updated and saved new grid at ../backend/landscapes/mlp_10_10/two_blobs_overlap/train/range10/ep340\n",
      "Done: two_blobs_overlap, width=10, depth=2, ab_range=10, epoch=340\n",
      "Previously saved model is of lower resolution; recomputing\n"
     ]
    },
    {
     "name": "stderr",
     "output_type": "stream",
     "text": [
      "Outer loop (a): 100%|██████████| 100/100 [00:50<00:00,  1.98it/s]\n"
     ]
    },
    {
     "name": "stdout",
     "output_type": "stream",
     "text": [
      "✅ Updated and saved new grid at ../backend/landscapes/mlp_10_10/two_blobs_separate/train/range0.2/ep260\n",
      "Done: two_blobs_separate, width=10, depth=2, ab_range=0.2, epoch=260\n",
      "Previously saved model is of lower resolution; recomputing\n"
     ]
    },
    {
     "name": "stderr",
     "output_type": "stream",
     "text": [
      "Outer loop (a): 100%|██████████| 100/100 [00:50<00:00,  1.97it/s]\n"
     ]
    },
    {
     "name": "stdout",
     "output_type": "stream",
     "text": [
      "✅ Updated and saved new grid at ../backend/landscapes/mlp_10/spirals/train/range0.5/ep30\n",
      "Done: spirals, width=10, depth=1, ab_range=0.5, epoch=30\n",
      "Previously saved model is of lower resolution; recomputing\n"
     ]
    },
    {
     "name": "stderr",
     "output_type": "stream",
     "text": [
      "Outer loop (a): 100%|██████████| 100/100 [00:49<00:00,  2.02it/s]\n"
     ]
    },
    {
     "name": "stdout",
     "output_type": "stream",
     "text": [
      "✅ Updated and saved new grid at ../backend/landscapes/mlp_10/two_blobs_overlap/train/range0.2/ep60\n",
      "Done: two_blobs_overlap, width=10, depth=1, ab_range=0.2, epoch=60\n",
      "Previously saved model is of lower resolution; recomputing\n"
     ]
    },
    {
     "name": "stderr",
     "output_type": "stream",
     "text": [
      "Outer loop (a): 100%|██████████| 100/100 [00:51<00:00,  1.93it/s]\n"
     ]
    },
    {
     "name": "stdout",
     "output_type": "stream",
     "text": [
      "✅ Updated and saved new grid at ../backend/landscapes/mlp_10_10/two_blobs_overlap/train/range10/ep350\n",
      "Done: two_blobs_overlap, width=10, depth=2, ab_range=10, epoch=350\n",
      "Previously saved model is of lower resolution; recomputing\n"
     ]
    },
    {
     "name": "stderr",
     "output_type": "stream",
     "text": [
      "Outer loop (a): 100%|██████████| 100/100 [00:50<00:00,  2.00it/s]\n"
     ]
    },
    {
     "name": "stdout",
     "output_type": "stream",
     "text": [
      "✅ Updated and saved new grid at ../backend/landscapes/mlp_10_10/two_blobs_separate/train/range0.2/ep270\n",
      "Done: two_blobs_separate, width=10, depth=2, ab_range=0.2, epoch=270\n",
      "Previously saved model is of lower resolution; recomputing\n"
     ]
    },
    {
     "name": "stderr",
     "output_type": "stream",
     "text": [
      "Outer loop (a): 100%|██████████| 100/100 [00:47<00:00,  2.09it/s]\n"
     ]
    },
    {
     "name": "stdout",
     "output_type": "stream",
     "text": [
      "✅ Updated and saved new grid at ../backend/landscapes/mlp_10/spirals/train/range0.5/ep40\n",
      "Done: spirals, width=10, depth=1, ab_range=0.5, epoch=40\n",
      "Previously saved model is of lower resolution; recomputing\n"
     ]
    },
    {
     "name": "stderr",
     "output_type": "stream",
     "text": [
      "Outer loop (a): 100%|██████████| 100/100 [00:48<00:00,  2.04it/s]\n"
     ]
    },
    {
     "name": "stdout",
     "output_type": "stream",
     "text": [
      "✅ Updated and saved new grid at ../backend/landscapes/mlp_10/two_blobs_overlap/train/range0.2/ep70\n",
      "Done: two_blobs_overlap, width=10, depth=1, ab_range=0.2, epoch=70\n",
      "Previously saved model is of lower resolution; recomputing\n"
     ]
    },
    {
     "name": "stderr",
     "output_type": "stream",
     "text": [
      "Outer loop (a): 100%|██████████| 100/100 [00:50<00:00,  1.97it/s]\n"
     ]
    },
    {
     "name": "stdout",
     "output_type": "stream",
     "text": [
      "✅ Updated and saved new grid at ../backend/landscapes/mlp_10_10/two_blobs_overlap/train/range10/ep360\n",
      "Done: two_blobs_overlap, width=10, depth=2, ab_range=10, epoch=360\n",
      "Previously saved model is of lower resolution; recomputing\n"
     ]
    },
    {
     "name": "stderr",
     "output_type": "stream",
     "text": [
      "Outer loop (a): 100%|██████████| 100/100 [00:51<00:00,  1.94it/s]\n"
     ]
    },
    {
     "name": "stdout",
     "output_type": "stream",
     "text": [
      "✅ Updated and saved new grid at ../backend/landscapes/mlp_10_10/two_blobs_separate/train/range0.2/ep280\n",
      "Done: two_blobs_separate, width=10, depth=2, ab_range=0.2, epoch=280\n",
      "Previously saved model is of lower resolution; recomputing\n"
     ]
    },
    {
     "name": "stderr",
     "output_type": "stream",
     "text": [
      "Outer loop (a): 100%|██████████| 100/100 [00:49<00:00,  2.04it/s]\n"
     ]
    },
    {
     "name": "stdout",
     "output_type": "stream",
     "text": [
      "✅ Updated and saved new grid at ../backend/landscapes/mlp_10/spirals/train/range0.5/ep50\n",
      "Done: spirals, width=10, depth=1, ab_range=0.5, epoch=50\n",
      "Previously saved model is of lower resolution; recomputing\n"
     ]
    },
    {
     "name": "stderr",
     "output_type": "stream",
     "text": [
      "Outer loop (a): 100%|██████████| 100/100 [00:48<00:00,  2.08it/s]\n"
     ]
    },
    {
     "name": "stdout",
     "output_type": "stream",
     "text": [
      "✅ Updated and saved new grid at ../backend/landscapes/mlp_10/two_blobs_overlap/train/range0.2/ep80\n",
      "Done: two_blobs_overlap, width=10, depth=1, ab_range=0.2, epoch=80\n",
      "Previously saved model is of lower resolution; recomputing\n"
     ]
    },
    {
     "name": "stderr",
     "output_type": "stream",
     "text": [
      "Outer loop (a): 100%|██████████| 100/100 [00:51<00:00,  1.93it/s]\n"
     ]
    },
    {
     "name": "stdout",
     "output_type": "stream",
     "text": [
      "✅ Updated and saved new grid at ../backend/landscapes/mlp_10_10/two_blobs_overlap/train/range10/ep370\n",
      "Done: two_blobs_overlap, width=10, depth=2, ab_range=10, epoch=370\n",
      "Previously saved model is of lower resolution; recomputing\n"
     ]
    },
    {
     "name": "stderr",
     "output_type": "stream",
     "text": [
      "Outer loop (a): 100%|██████████| 100/100 [00:51<00:00,  1.94it/s]\n"
     ]
    },
    {
     "name": "stdout",
     "output_type": "stream",
     "text": [
      "✅ Updated and saved new grid at ../backend/landscapes/mlp_10_10/two_blobs_separate/train/range0.2/ep290\n",
      "Done: two_blobs_separate, width=10, depth=2, ab_range=0.2, epoch=290\n",
      "Previously saved model is of lower resolution; recomputing\n"
     ]
    },
    {
     "name": "stderr",
     "output_type": "stream",
     "text": [
      "Outer loop (a): 100%|██████████| 100/100 [00:49<00:00,  2.02it/s]\n"
     ]
    },
    {
     "name": "stdout",
     "output_type": "stream",
     "text": [
      "✅ Updated and saved new grid at ../backend/landscapes/mlp_10/spirals/train/range0.5/ep60\n",
      "Done: spirals, width=10, depth=1, ab_range=0.5, epoch=60\n",
      "Previously saved model is of lower resolution; recomputing\n"
     ]
    },
    {
     "name": "stderr",
     "output_type": "stream",
     "text": [
      "Outer loop (a): 100%|██████████| 100/100 [00:47<00:00,  2.10it/s]\n"
     ]
    },
    {
     "name": "stdout",
     "output_type": "stream",
     "text": [
      "✅ Updated and saved new grid at ../backend/landscapes/mlp_10/two_blobs_overlap/train/range0.2/ep90\n",
      "Done: two_blobs_overlap, width=10, depth=1, ab_range=0.2, epoch=90\n",
      "Previously saved model is of lower resolution; recomputing\n"
     ]
    },
    {
     "name": "stderr",
     "output_type": "stream",
     "text": [
      "Outer loop (a): 100%|██████████| 100/100 [00:52<00:00,  1.92it/s]\n"
     ]
    },
    {
     "name": "stdout",
     "output_type": "stream",
     "text": [
      "✅ Updated and saved new grid at ../backend/landscapes/mlp_10_10/two_blobs_overlap/train/range10/ep380\n",
      "Done: two_blobs_overlap, width=10, depth=2, ab_range=10, epoch=380\n",
      "Previously saved model is of lower resolution; recomputing\n"
     ]
    },
    {
     "name": "stderr",
     "output_type": "stream",
     "text": [
      "Outer loop (a): 100%|██████████| 100/100 [00:51<00:00,  1.95it/s]\n"
     ]
    },
    {
     "name": "stdout",
     "output_type": "stream",
     "text": [
      "✅ Updated and saved new grid at ../backend/landscapes/mlp_10_10/two_blobs_separate/train/range0.2/ep300\n",
      "Done: two_blobs_separate, width=10, depth=2, ab_range=0.2, epoch=300\n",
      "Previously saved model is of lower resolution; recomputing\n"
     ]
    },
    {
     "name": "stderr",
     "output_type": "stream",
     "text": [
      "Outer loop (a): 100%|██████████| 100/100 [00:50<00:00,  1.97it/s]\n"
     ]
    },
    {
     "name": "stdout",
     "output_type": "stream",
     "text": [
      "✅ Updated and saved new grid at ../backend/landscapes/mlp_10/spirals/train/range0.5/ep70\n",
      "Done: spirals, width=10, depth=1, ab_range=0.5, epoch=70\n",
      "Previously saved model is of lower resolution; recomputing\n"
     ]
    },
    {
     "name": "stderr",
     "output_type": "stream",
     "text": [
      "Outer loop (a): 100%|██████████| 100/100 [00:49<00:00,  2.03it/s]\n"
     ]
    },
    {
     "name": "stdout",
     "output_type": "stream",
     "text": [
      "✅ Updated and saved new grid at ../backend/landscapes/mlp_10/two_blobs_overlap/train/range0.2/ep100\n",
      "Done: two_blobs_overlap, width=10, depth=1, ab_range=0.2, epoch=100\n",
      "Previously saved model is of lower resolution; recomputing\n"
     ]
    },
    {
     "name": "stderr",
     "output_type": "stream",
     "text": [
      "Outer loop (a): 100%|██████████| 100/100 [00:52<00:00,  1.90it/s]\n"
     ]
    },
    {
     "name": "stdout",
     "output_type": "stream",
     "text": [
      "✅ Updated and saved new grid at ../backend/landscapes/mlp_10_10/two_blobs_overlap/train/range10/ep390\n",
      "Done: two_blobs_overlap, width=10, depth=2, ab_range=10, epoch=390\n",
      "Previously saved model is of lower resolution; recomputing\n"
     ]
    },
    {
     "name": "stderr",
     "output_type": "stream",
     "text": [
      "Outer loop (a): 100%|██████████| 100/100 [00:52<00:00,  1.91it/s]\n"
     ]
    },
    {
     "name": "stdout",
     "output_type": "stream",
     "text": [
      "✅ Updated and saved new grid at ../backend/landscapes/mlp_10_10/two_blobs_separate/train/range0.2/ep310\n",
      "Done: two_blobs_separate, width=10, depth=2, ab_range=0.2, epoch=310\n",
      "Previously saved model is of lower resolution; recomputing\n"
     ]
    },
    {
     "name": "stderr",
     "output_type": "stream",
     "text": [
      "Outer loop (a): 100%|██████████| 100/100 [00:49<00:00,  2.04it/s]\n"
     ]
    },
    {
     "name": "stdout",
     "output_type": "stream",
     "text": [
      "✅ Updated and saved new grid at ../backend/landscapes/mlp_10/spirals/train/range0.5/ep80\n",
      "Done: spirals, width=10, depth=1, ab_range=0.5, epoch=80\n",
      "Previously saved model is of lower resolution; recomputing\n"
     ]
    },
    {
     "name": "stderr",
     "output_type": "stream",
     "text": [
      "Outer loop (a): 100%|██████████| 100/100 [00:49<00:00,  2.03it/s]\n"
     ]
    },
    {
     "name": "stdout",
     "output_type": "stream",
     "text": [
      "✅ Updated and saved new grid at ../backend/landscapes/mlp_10/two_blobs_overlap/train/range0.2/ep110"
     ]
    },
    {
     "name": "stderr",
     "output_type": "stream",
     "text": [
      "Outer loop (a):  38%|███▊      | 38/100 [00:18<00:25,  2.43it/s]"
     ]
    },
    {
     "name": "stdout",
     "output_type": "stream",
     "text": [
      "\n",
      "Done: two_blobs_overlap, width=10, depth=1, ab_range=0.2, epoch=110\n",
      "Previously saved model is of lower resolution; recomputing\n"
     ]
    },
    {
     "name": "stderr",
     "output_type": "stream",
     "text": [
      "Outer loop (a): 100%|██████████| 100/100 [00:51<00:00,  1.93it/s]\n"
     ]
    },
    {
     "name": "stdout",
     "output_type": "stream",
     "text": [
      "✅ Updated and saved new grid at ../backend/landscapes/mlp_10_10/two_blobs_overlap/train/range10/ep400\n",
      "Done: two_blobs_overlap, width=10, depth=2, ab_range=10, epoch=400\n",
      "Previously saved model is of lower resolution; recomputing\n"
     ]
    },
    {
     "name": "stderr",
     "output_type": "stream",
     "text": [
      "Outer loop (a): 100%|██████████| 100/100 [00:51<00:00,  1.95it/s]\n"
     ]
    },
    {
     "name": "stdout",
     "output_type": "stream",
     "text": [
      "✅ Updated and saved new grid at ../backend/landscapes/mlp_10_10/two_blobs_separate/train/range0.2/ep320\n",
      "Done: two_blobs_separate, width=10, depth=2, ab_range=0.2, epoch=320\n",
      "Previously saved model is of lower resolution; recomputing\n"
     ]
    },
    {
     "name": "stderr",
     "output_type": "stream",
     "text": [
      "Outer loop (a): 100%|██████████| 100/100 [00:47<00:00,  2.09it/s]\n"
     ]
    },
    {
     "name": "stdout",
     "output_type": "stream",
     "text": [
      "✅ Updated and saved new grid at ../backend/landscapes/mlp_10/spirals/train/range0.5/ep90\n",
      "Done: spirals, width=10, depth=1, ab_range=0.5, epoch=90\n",
      "Previously saved model is of lower resolution; recomputing\n"
     ]
    },
    {
     "name": "stderr",
     "output_type": "stream",
     "text": [
      "Outer loop (a): 100%|██████████| 100/100 [00:48<00:00,  2.07it/s]\n"
     ]
    },
    {
     "name": "stdout",
     "output_type": "stream",
     "text": [
      "✅ Updated and saved new grid at ../backend/landscapes/mlp_10/two_blobs_overlap/train/range0.2/ep120\n",
      "Done: two_blobs_overlap, width=10, depth=1, ab_range=0.2, epoch=120\n",
      "Previously saved model is of lower resolution; recomputing\n"
     ]
    },
    {
     "name": "stderr",
     "output_type": "stream",
     "text": [
      "Outer loop (a):  97%|█████████▋| 97/100 [00:49<00:01,  1.98it/s]]\n"
     ]
    },
    {
     "name": "stdout",
     "output_type": "stream",
     "text": [
      "✅ Updated and saved new grid at ../backend/landscapes/mlp_10_10/two_blobs_overlap/train/range10/ep410\n",
      "Done: two_blobs_overlap, width=10, depth=2, ab_range=10, epoch=410\n",
      "Previously saved model is of lower resolution; recomputing\n"
     ]
    },
    {
     "name": "stderr",
     "output_type": "stream",
     "text": [
      "Outer loop (a): 100%|██████████| 100/100 [00:51<00:00,  1.95it/s]\n"
     ]
    },
    {
     "name": "stdout",
     "output_type": "stream",
     "text": [
      "✅ Updated and saved new grid at ../backend/landscapes/mlp_10_10/two_blobs_separate/train/range0.2/ep330\n",
      "Done: two_blobs_separate, width=10, depth=2, ab_range=0.2, epoch=330\n",
      "Previously saved model is of lower resolution; recomputing\n"
     ]
    },
    {
     "name": "stderr",
     "output_type": "stream",
     "text": [
      "Outer loop (a): 100%|██████████| 100/100 [00:47<00:00,  2.12it/s]\n"
     ]
    },
    {
     "name": "stdout",
     "output_type": "stream",
     "text": [
      "✅ Updated and saved new grid at ../backend/landscapes/mlp_10/spirals/train/range0.5/ep100\n",
      "Done: spirals, width=10, depth=1, ab_range=0.5, epoch=100\n",
      "Previously saved model is of lower resolution; recomputing\n"
     ]
    },
    {
     "name": "stderr",
     "output_type": "stream",
     "text": [
      "Outer loop (a): 100%|██████████| 100/100 [00:49<00:00,  2.01it/s]\n"
     ]
    },
    {
     "name": "stdout",
     "output_type": "stream",
     "text": [
      "✅ Updated and saved new grid at ../backend/landscapes/mlp_10/two_blobs_overlap/train/range0.2/ep130\n",
      "Done: two_blobs_overlap, width=10, depth=1, ab_range=0.2, epoch=130\n",
      "Previously saved model is of lower resolution; recomputing\n"
     ]
    },
    {
     "name": "stderr",
     "output_type": "stream",
     "text": [
      "Outer loop (a): 100%|██████████| 100/100 [00:50<00:00,  1.98it/s]\n"
     ]
    },
    {
     "name": "stdout",
     "output_type": "stream",
     "text": [
      "✅ Updated and saved new grid at ../backend/landscapes/mlp_10_10/two_blobs_overlap/train/range10/ep420\n",
      "Done: two_blobs_overlap, width=10, depth=2, ab_range=10, epoch=420\n",
      "Previously saved model is of lower resolution; recomputing\n"
     ]
    },
    {
     "name": "stderr",
     "output_type": "stream",
     "text": [
      "Outer loop (a): 100%|██████████| 100/100 [00:48<00:00,  2.06it/s]\n"
     ]
    },
    {
     "name": "stdout",
     "output_type": "stream",
     "text": [
      "✅ Updated and saved new grid at ../backend/landscapes/mlp_10/spirals/train/range0.5/ep110\n",
      "Done: spirals, width=10, depth=1, ab_range=0.5, epoch=110\n",
      "Previously saved model is of lower resolution; recomputing\n"
     ]
    },
    {
     "name": "stderr",
     "output_type": "stream",
     "text": [
      "Outer loop (a): 100%|██████████| 100/100 [00:50<00:00,  1.98it/s]\n"
     ]
    },
    {
     "name": "stdout",
     "output_type": "stream",
     "text": [
      "✅ Updated and saved new grid at ../backend/landscapes/mlp_10_10/two_blobs_separate/train/range0.2/ep340\n",
      "Done: two_blobs_separate, width=10, depth=2, ab_range=0.2, epoch=340\n",
      "Previously saved model is of lower resolution; recomputing\n"
     ]
    },
    {
     "name": "stderr",
     "output_type": "stream",
     "text": [
      "Outer loop (a): 100%|██████████| 100/100 [00:48<00:00,  2.04it/s]\n"
     ]
    },
    {
     "name": "stdout",
     "output_type": "stream",
     "text": [
      "✅ Updated and saved new grid at ../backend/landscapes/mlp_10/two_blobs_overlap/train/range0.2/ep140\n",
      "Done: two_blobs_overlap, width=10, depth=1, ab_range=0.2, epoch=140\n",
      "Previously saved model is of lower resolution; recomputing\n"
     ]
    },
    {
     "name": "stderr",
     "output_type": "stream",
     "text": [
      "Outer loop (a): 100%|██████████| 100/100 [00:49<00:00,  2.04it/s]\n"
     ]
    },
    {
     "name": "stdout",
     "output_type": "stream",
     "text": [
      "✅ Updated and saved new grid at ../backend/landscapes/mlp_10/spirals/train/range0.5/ep120\n",
      "Done: spirals, width=10, depth=1, ab_range=0.5, epoch=120\n",
      "Previously saved model is of lower resolution; recomputing\n"
     ]
    },
    {
     "name": "stderr",
     "output_type": "stream",
     "text": [
      "Outer loop (a): 100%|██████████| 100/100 [00:52<00:00,  1.92it/s]\n"
     ]
    },
    {
     "name": "stdout",
     "output_type": "stream",
     "text": [
      "✅ Updated and saved new grid at ../backend/landscapes/mlp_10_10/two_blobs_overlap/train/range10/ep430\n",
      "Done: two_blobs_overlap, width=10, depth=2, ab_range=10, epoch=430\n",
      "Previously saved model is of lower resolution; recomputing\n"
     ]
    },
    {
     "name": "stderr",
     "output_type": "stream",
     "text": [
      "Outer loop (a): 100%|██████████| 100/100 [00:52<00:00,  1.92it/s]\n"
     ]
    },
    {
     "name": "stdout",
     "output_type": "stream",
     "text": [
      "✅ Updated and saved new grid at ../backend/landscapes/mlp_10_10/two_blobs_separate/train/range0.2/ep350\n",
      "Done: two_blobs_separate, width=10, depth=2, ab_range=0.2, epoch=350\n",
      "Previously saved model is of lower resolution; recomputing\n"
     ]
    },
    {
     "name": "stderr",
     "output_type": "stream",
     "text": [
      "Outer loop (a): 100%|██████████| 100/100 [00:49<00:00,  2.01it/s]\n"
     ]
    },
    {
     "name": "stdout",
     "output_type": "stream",
     "text": [
      "✅ Updated and saved new grid at ../backend/landscapes/mlp_10/two_blobs_overlap/train/range0.2/ep150\n",
      "Done: two_blobs_overlap, width=10, depth=1, ab_range=0.2, epoch=150\n",
      "Previously saved model is of lower resolution; recomputing\n"
     ]
    },
    {
     "name": "stderr",
     "output_type": "stream",
     "text": [
      "Outer loop (a): 100%|██████████| 100/100 [00:50<00:00,  1.98it/s]\n"
     ]
    },
    {
     "name": "stdout",
     "output_type": "stream",
     "text": [
      "✅ Updated and saved new grid at ../backend/landscapes/mlp_10/spirals/train/range0.5/ep130\n",
      "Done: spirals, width=10, depth=1, ab_range=0.5, epoch=130\n",
      "Previously saved model is of lower resolution; recomputing\n"
     ]
    },
    {
     "name": "stderr",
     "output_type": "stream",
     "text": [
      "Outer loop (a): 100%|██████████| 100/100 [00:49<00:00,  2.01it/s]\n"
     ]
    },
    {
     "name": "stdout",
     "output_type": "stream",
     "text": [
      "✅ Updated and saved new grid at ../backend/landscapes/mlp_10_10/two_blobs_separate/train/range0.2/ep360\n",
      "Done: two_blobs_separate, width=10, depth=2, ab_range=0.2, epoch=360\n",
      "Previously saved model is of lower resolution; recomputing\n"
     ]
    },
    {
     "name": "stderr",
     "output_type": "stream",
     "text": [
      "Outer loop (a): 100%|██████████| 100/100 [00:52<00:00,  1.92it/s]\n"
     ]
    },
    {
     "name": "stdout",
     "output_type": "stream",
     "text": [
      "✅ Updated and saved new grid at ../backend/landscapes/mlp_10_10/two_blobs_overlap/train/range10/ep440\n",
      "Done: two_blobs_overlap, width=10, depth=2, ab_range=10, epoch=440\n",
      "Previously saved model is of lower resolution; recomputing\n"
     ]
    },
    {
     "name": "stderr",
     "output_type": "stream",
     "text": [
      "Outer loop (a): 100%|██████████| 100/100 [00:48<00:00,  2.05it/s]\n"
     ]
    },
    {
     "name": "stdout",
     "output_type": "stream",
     "text": [
      "✅ Updated and saved new grid at ../backend/landscapes/mlp_10/two_blobs_overlap/train/range0.2/ep160\n",
      "Done: two_blobs_overlap, width=10, depth=1, ab_range=0.2, epoch=160\n",
      "Previously saved model is of lower resolution; recomputing\n"
     ]
    },
    {
     "name": "stderr",
     "output_type": "stream",
     "text": [
      "Outer loop (a): 100%|██████████| 100/100 [00:50<00:00,  2.00it/s]\n"
     ]
    },
    {
     "name": "stdout",
     "output_type": "stream",
     "text": [
      "✅ Updated and saved new grid at ../backend/landscapes/mlp_10/spirals/train/range0.5/ep140\n",
      "Done: spirals, width=10, depth=1, ab_range=0.5, epoch=140\n",
      "Previously saved model is of lower resolution; recomputing\n"
     ]
    },
    {
     "name": "stderr",
     "output_type": "stream",
     "text": [
      "Outer loop (a): 100%|██████████| 100/100 [00:50<00:00,  1.97it/s]\n"
     ]
    },
    {
     "name": "stdout",
     "output_type": "stream",
     "text": [
      "✅ Updated and saved new grid at ../backend/landscapes/mlp_10_10/two_blobs_overlap/train/range10/ep450\n",
      "Done: two_blobs_overlap, width=10, depth=2, ab_range=10, epoch=450\n",
      "Previously saved model is of lower resolution; recomputing\n"
     ]
    },
    {
     "name": "stderr",
     "output_type": "stream",
     "text": [
      "Outer loop (a): 100%|██████████| 100/100 [00:52<00:00,  1.92it/s]\n"
     ]
    },
    {
     "name": "stdout",
     "output_type": "stream",
     "text": [
      "✅ Updated and saved new grid at ../backend/landscapes/mlp_10_10/two_blobs_separate/train/range0.2/ep370\n",
      "Done: two_blobs_separate, width=10, depth=2, ab_range=0.2, epoch=370\n",
      "Previously saved model is of lower resolution; recomputing\n"
     ]
    },
    {
     "name": "stderr",
     "output_type": "stream",
     "text": [
      "Outer loop (a): 100%|██████████| 100/100 [00:48<00:00,  2.07it/s]\n"
     ]
    },
    {
     "name": "stdout",
     "output_type": "stream",
     "text": [
      "✅ Updated and saved new grid at ../backend/landscapes/mlp_10/two_blobs_overlap/train/range0.2/ep170\n",
      "Done: two_blobs_overlap, width=10, depth=1, ab_range=0.2, epoch=170\n",
      "Previously saved model is of lower resolution; recomputing\n"
     ]
    },
    {
     "name": "stderr",
     "output_type": "stream",
     "text": [
      "Outer loop (a): 100%|██████████| 100/100 [00:49<00:00,  2.01it/s]\n",
      "Outer loop (a):  80%|████████  | 80/100 [00:39<00:09,  2.09it/s]"
     ]
    },
    {
     "name": "stdout",
     "output_type": "stream",
     "text": [
      "✅ Updated and saved new grid at ../backend/landscapes/mlp_10/spirals/train/range0.5/ep150\n",
      "Done: spirals, width=10, depth=1, ab_range=0.5, epoch=150\n",
      "Previously saved model is of lower resolution; recomputing\n"
     ]
    },
    {
     "name": "stderr",
     "output_type": "stream",
     "text": [
      "Outer loop (a): 100%|██████████| 100/100 [00:49<00:00,  2.02it/s]\n"
     ]
    },
    {
     "name": "stdout",
     "output_type": "stream",
     "text": [
      "✅ Updated and saved new grid at ../backend/landscapes/mlp_10_10/two_blobs_overlap/train/range10/ep460\n",
      "Done: two_blobs_overlap, width=10, depth=2, ab_range=10, epoch=460\n",
      "Previously saved model is of lower resolution; recomputing\n"
     ]
    },
    {
     "name": "stderr",
     "output_type": "stream",
     "text": [
      "Outer loop (a): 100%|██████████| 100/100 [00:52<00:00,  1.90it/s]\n"
     ]
    },
    {
     "name": "stdout",
     "output_type": "stream",
     "text": [
      "✅ Updated and saved new grid at ../backend/landscapes/mlp_10_10/two_blobs_separate/train/range0.2/ep380\n",
      "Done: two_blobs_separate, width=10, depth=2, ab_range=0.2, epoch=380\n",
      "Previously saved model is of lower resolution; recomputing\n"
     ]
    },
    {
     "name": "stderr",
     "output_type": "stream",
     "text": [
      "Outer loop (a): 100%|██████████| 100/100 [00:49<00:00,  2.03it/s]\n"
     ]
    },
    {
     "name": "stdout",
     "output_type": "stream",
     "text": [
      "✅ Updated and saved new grid at ../backend/landscapes/mlp_10/two_blobs_overlap/train/range0.2/ep180\n",
      "Done: two_blobs_overlap, width=10, depth=1, ab_range=0.2, epoch=180\n",
      "Previously saved model is of lower resolution; recomputing\n"
     ]
    },
    {
     "name": "stderr",
     "output_type": "stream",
     "text": [
      "Outer loop (a): 100%|██████████| 100/100 [00:48<00:00,  2.08it/s]\n"
     ]
    },
    {
     "name": "stdout",
     "output_type": "stream",
     "text": [
      "✅ Updated and saved new grid at ../backend/landscapes/mlp_10/spirals/train/range0.5/ep160\n",
      "Done: spirals, width=10, depth=1, ab_range=0.5, epoch=160\n",
      "Previously saved model is of lower resolution; recomputing\n"
     ]
    },
    {
     "name": "stderr",
     "output_type": "stream",
     "text": [
      "Outer loop (a): 100%|██████████| 100/100 [00:51<00:00,  1.96it/s]\n"
     ]
    },
    {
     "name": "stdout",
     "output_type": "stream",
     "text": [
      "✅ Updated and saved new grid at ../backend/landscapes/mlp_10_10/two_blobs_overlap/train/range10/ep470\n",
      "Done: two_blobs_overlap, width=10, depth=2, ab_range=10, epoch=470\n",
      "Previously saved model is of lower resolution; recomputing\n"
     ]
    },
    {
     "name": "stderr",
     "output_type": "stream",
     "text": [
      "Outer loop (a): 100%|██████████| 100/100 [00:45<00:00,  2.18it/s]\n"
     ]
    },
    {
     "name": "stdout",
     "output_type": "stream",
     "text": [
      "✅ Updated and saved new grid at ../backend/landscapes/mlp_10/two_blobs_overlap/train/range0.2/ep190\n",
      "Done: two_blobs_overlap, width=10, depth=1, ab_range=0.2, epoch=190\n",
      "Previously saved model is of lower resolution; recomputing\n"
     ]
    },
    {
     "name": "stderr",
     "output_type": "stream",
     "text": [
      "Outer loop (a): 100%|██████████| 100/100 [00:51<00:00,  1.96it/s]\n"
     ]
    },
    {
     "name": "stdout",
     "output_type": "stream",
     "text": [
      "✅ Updated and saved new grid at ../backend/landscapes/mlp_10_10/two_blobs_separate/train/range0.2/ep390\n",
      "Done: two_blobs_separate, width=10, depth=2, ab_range=0.2, epoch=390\n",
      "Previously saved model is of lower resolution; recomputing\n"
     ]
    },
    {
     "name": "stderr",
     "output_type": "stream",
     "text": [
      "Outer loop (a): 100%|██████████| 100/100 [00:47<00:00,  2.11it/s]\n"
     ]
    },
    {
     "name": "stdout",
     "output_type": "stream",
     "text": [
      "✅ Updated and saved new grid at ../backend/landscapes/mlp_10/spirals/train/range0.5/ep170\n",
      "Done: spirals, width=10, depth=1, ab_range=0.5, epoch=170\n",
      "Previously saved model is of lower resolution; recomputing\n"
     ]
    },
    {
     "name": "stderr",
     "output_type": "stream",
     "text": [
      "Outer loop (a): 100%|██████████| 100/100 [00:48<00:00,  2.04it/s]\n"
     ]
    },
    {
     "name": "stdout",
     "output_type": "stream",
     "text": [
      "✅ Updated and saved new grid at ../backend/landscapes/mlp_10/two_blobs_overlap/train/range0.2/ep200\n",
      "Done: two_blobs_overlap, width=10, depth=1, ab_range=0.2, epoch=200\n",
      "Previously saved model is of lower resolution; recomputing\n"
     ]
    },
    {
     "name": "stderr",
     "output_type": "stream",
     "text": [
      "Outer loop (a): 100%|██████████| 100/100 [00:51<00:00,  1.94it/s]\n"
     ]
    },
    {
     "name": "stdout",
     "output_type": "stream",
     "text": [
      "✅ Updated and saved new grid at ../backend/landscapes/mlp_10_10/two_blobs_overlap/train/range10/ep480\n",
      "Done: two_blobs_overlap, width=10, depth=2, ab_range=10, epoch=480\n",
      "Previously saved model is of lower resolution; recomputing\n"
     ]
    },
    {
     "name": "stderr",
     "output_type": "stream",
     "text": [
      "Outer loop (a): 100%|██████████| 100/100 [00:49<00:00,  2.01it/s]\n"
     ]
    },
    {
     "name": "stdout",
     "output_type": "stream",
     "text": [
      "✅ Updated and saved new grid at ../backend/landscapes/mlp_10_10/two_blobs_separate/train/range0.2/ep400\n",
      "Done: two_blobs_separate, width=10, depth=2, ab_range=0.2, epoch=400\n",
      "Previously saved model is of lower resolution; recomputing\n"
     ]
    },
    {
     "name": "stderr",
     "output_type": "stream",
     "text": [
      "Outer loop (a): 100%|██████████| 100/100 [00:47<00:00,  2.11it/s]\n"
     ]
    },
    {
     "name": "stdout",
     "output_type": "stream",
     "text": [
      "✅ Updated and saved new grid at ../backend/landscapes/mlp_10/spirals/train/range0.5/ep180\n",
      "Done: spirals, width=10, depth=1, ab_range=0.5, epoch=180\n",
      "Previously saved model is of lower resolution; recomputing\n"
     ]
    },
    {
     "name": "stderr",
     "output_type": "stream",
     "text": [
      "Outer loop (a): 100%|██████████| 100/100 [00:48<00:00,  2.05it/s]\n"
     ]
    },
    {
     "name": "stdout",
     "output_type": "stream",
     "text": [
      "✅ Updated and saved new grid at ../backend/landscapes/mlp_10/two_blobs_overlap/train/range0.2/ep210\n",
      "Done: two_blobs_overlap, width=10, depth=1, ab_range=0.2, epoch=210\n",
      "Previously saved model is of lower resolution; recomputing\n"
     ]
    },
    {
     "name": "stderr",
     "output_type": "stream",
     "text": [
      "Outer loop (a): 100%|██████████| 100/100 [00:50<00:00,  1.99it/s]\n"
     ]
    },
    {
     "name": "stdout",
     "output_type": "stream",
     "text": [
      "✅ Updated and saved new grid at ../backend/landscapes/mlp_10_10/two_blobs_overlap/train/range10/ep490\n",
      "Done: two_blobs_overlap, width=10, depth=2, ab_range=10, epoch=490\n",
      "Previously saved model is of lower resolution; recomputing\n"
     ]
    },
    {
     "name": "stderr",
     "output_type": "stream",
     "text": [
      "Outer loop (a): 100%|██████████| 100/100 [00:51<00:00,  1.96it/s]\n"
     ]
    },
    {
     "name": "stdout",
     "output_type": "stream",
     "text": [
      "✅ Updated and saved new grid at ../backend/landscapes/mlp_10_10/two_blobs_separate/train/range0.2/ep410\n",
      "Done: two_blobs_separate, width=10, depth=2, ab_range=0.2, epoch=410\n",
      "Previously saved model is of lower resolution; recomputing\n"
     ]
    },
    {
     "name": "stderr",
     "output_type": "stream",
     "text": [
      "Outer loop (a): 100%|██████████| 100/100 [00:49<00:00,  2.04it/s]\n"
     ]
    },
    {
     "name": "stdout",
     "output_type": "stream",
     "text": [
      "✅ Updated and saved new grid at ../backend/landscapes/mlp_10/spirals/train/range0.5/ep190\n",
      "Done: spirals, width=10, depth=1, ab_range=0.5, epoch=190\n",
      "Previously saved model is of lower resolution; recomputing\n"
     ]
    },
    {
     "name": "stderr",
     "output_type": "stream",
     "text": [
      "Outer loop (a): 100%|██████████| 100/100 [00:48<00:00,  2.06it/s]\n"
     ]
    },
    {
     "name": "stdout",
     "output_type": "stream",
     "text": [
      "✅ Updated and saved new grid at ../backend/landscapes/mlp_10/two_blobs_overlap/train/range0.2/ep220\n",
      "Done: two_blobs_overlap, width=10, depth=1, ab_range=0.2, epoch=220\n",
      "Previously saved model is of lower resolution; recomputing\n"
     ]
    },
    {
     "name": "stderr",
     "output_type": "stream",
     "text": [
      "Outer loop (a): 100%|██████████| 100/100 [00:52<00:00,  1.89it/s]\n"
     ]
    },
    {
     "name": "stdout",
     "output_type": "stream",
     "text": [
      "✅ Updated and saved new grid at ../backend/landscapes/mlp_10_10/two_blobs_overlap/train/range10/ep500\n",
      "Done: two_blobs_overlap, width=10, depth=2, ab_range=10, epoch=500\n",
      "Previously saved model is of lower resolution; recomputing\n"
     ]
    },
    {
     "name": "stderr",
     "output_type": "stream",
     "text": [
      "Outer loop (a): 100%|██████████| 100/100 [00:52<00:00,  1.91it/s]\n"
     ]
    },
    {
     "name": "stdout",
     "output_type": "stream",
     "text": [
      "✅ Updated and saved new grid at ../backend/landscapes/mlp_10_10/two_blobs_separate/train/range0.2/ep420\n",
      "Done: two_blobs_separate, width=10, depth=2, ab_range=0.2, epoch=420\n",
      "Previously saved model is of lower resolution; recomputing\n"
     ]
    },
    {
     "name": "stderr",
     "output_type": "stream",
     "text": [
      "Outer loop (a): 100%|██████████| 100/100 [00:46<00:00,  2.13it/s]\n"
     ]
    },
    {
     "name": "stdout",
     "output_type": "stream",
     "text": [
      "✅ Updated and saved new grid at ../backend/landscapes/mlp_10/spirals/train/range0.5/ep200\n",
      "Done: spirals, width=10, depth=1, ab_range=0.5, epoch=200\n",
      "Previously saved model is of lower resolution; recomputing\n"
     ]
    },
    {
     "name": "stderr",
     "output_type": "stream",
     "text": [
      "Outer loop (a): 100%|██████████| 100/100 [00:48<00:00,  2.08it/s]\n"
     ]
    },
    {
     "name": "stdout",
     "output_type": "stream",
     "text": [
      "✅ Updated and saved new grid at ../backend/landscapes/mlp_10/two_blobs_overlap/train/range0.2/ep230\n",
      "Done: two_blobs_overlap, width=10, depth=1, ab_range=0.2, epoch=230\n",
      "Previously saved model is of lower resolution; recomputing\n"
     ]
    },
    {
     "name": "stderr",
     "output_type": "stream",
     "text": [
      "Outer loop (a): 100%|██████████| 100/100 [00:52<00:00,  1.92it/s]\n"
     ]
    },
    {
     "name": "stdout",
     "output_type": "stream",
     "text": [
      "✅ Updated and saved new grid at ../backend/landscapes/mlp_10_10/two_blobs_overlap/train/range10/ep510\n",
      "Done: two_blobs_overlap, width=10, depth=2, ab_range=10, epoch=510\n",
      "Previously saved model is of lower resolution; recomputing\n"
     ]
    },
    {
     "name": "stderr",
     "output_type": "stream",
     "text": [
      "Outer loop (a): 100%|██████████| 100/100 [00:52<00:00,  1.90it/s]\n"
     ]
    },
    {
     "name": "stdout",
     "output_type": "stream",
     "text": [
      "✅ Updated and saved new grid at ../backend/landscapes/mlp_10_10/two_blobs_separate/train/range0.2/ep430\n",
      "Done: two_blobs_separate, width=10, depth=2, ab_range=0.2, epoch=430\n",
      "Previously saved model is of lower resolution; recomputing\n"
     ]
    },
    {
     "name": "stderr",
     "output_type": "stream",
     "text": [
      "Outer loop (a): 100%|██████████| 100/100 [00:47<00:00,  2.10it/s]\n"
     ]
    },
    {
     "name": "stdout",
     "output_type": "stream",
     "text": [
      "✅ Updated and saved new grid at ../backend/landscapes/mlp_10/spirals/train/range0.5/ep210\n",
      "Done: spirals, width=10, depth=1, ab_range=0.5, epoch=210\n",
      "Previously saved model is of lower resolution; recomputing\n"
     ]
    },
    {
     "name": "stderr",
     "output_type": "stream",
     "text": [
      "Outer loop (a): 100%|██████████| 100/100 [00:49<00:00,  2.04it/s]\n"
     ]
    },
    {
     "name": "stdout",
     "output_type": "stream",
     "text": [
      "✅ Updated and saved new grid at ../backend/landscapes/mlp_10/two_blobs_overlap/train/range0.2/ep240\n",
      "Done: two_blobs_overlap, width=10, depth=1, ab_range=0.2, epoch=240\n",
      "Previously saved model is of lower resolution; recomputing\n"
     ]
    },
    {
     "name": "stderr",
     "output_type": "stream",
     "text": [
      "Outer loop (a): 100%|██████████| 100/100 [00:50<00:00,  2.00it/s]\n"
     ]
    },
    {
     "name": "stdout",
     "output_type": "stream",
     "text": [
      "✅ Updated and saved new grid at ../backend/landscapes/mlp_10_10/two_blobs_overlap/train/range10/ep520\n",
      "Done: two_blobs_overlap, width=10, depth=2, ab_range=10, epoch=520\n",
      "Previously saved model is of lower resolution; recomputing\n"
     ]
    },
    {
     "name": "stderr",
     "output_type": "stream",
     "text": [
      "Outer loop (a): 100%|██████████| 100/100 [00:53<00:00,  1.89it/s]\n"
     ]
    },
    {
     "name": "stdout",
     "output_type": "stream",
     "text": [
      "✅ Updated and saved new grid at ../backend/landscapes/mlp_10_10/two_blobs_separate/train/range0.2/ep440\n",
      "Done: two_blobs_separate, width=10, depth=2, ab_range=0.2, epoch=440\n",
      "Previously saved model is of lower resolution; recomputing\n"
     ]
    },
    {
     "name": "stderr",
     "output_type": "stream",
     "text": [
      "Outer loop (a): 100%|██████████| 100/100 [00:48<00:00,  2.05it/s]\n"
     ]
    },
    {
     "name": "stdout",
     "output_type": "stream",
     "text": [
      "✅ Updated and saved new grid at ../backend/landscapes/mlp_10/spirals/train/range0.5/ep220\n",
      "Done: spirals, width=10, depth=1, ab_range=0.5, epoch=220\n",
      "Previously saved model is of lower resolution; recomputing\n"
     ]
    },
    {
     "name": "stderr",
     "output_type": "stream",
     "text": [
      "Outer loop (a): 100%|██████████| 100/100 [00:48<00:00,  2.06it/s]\n"
     ]
    },
    {
     "name": "stdout",
     "output_type": "stream",
     "text": [
      "✅ Updated and saved new grid at ../backend/landscapes/mlp_10/two_blobs_overlap/train/range0.2/ep250\n",
      "Done: two_blobs_overlap, width=10, depth=1, ab_range=0.2, epoch=250\n",
      "Previously saved model is of lower resolution; recomputing\n"
     ]
    },
    {
     "name": "stderr",
     "output_type": "stream",
     "text": [
      "Outer loop (a): 100%|██████████| 100/100 [00:53<00:00,  1.88it/s]\n"
     ]
    },
    {
     "name": "stdout",
     "output_type": "stream",
     "text": [
      "✅ Updated and saved new grid at ../backend/landscapes/mlp_10_10/two_blobs_overlap/train/range10/ep530\n",
      "Done: two_blobs_overlap, width=10, depth=2, ab_range=10, epoch=530\n",
      "Previously saved model is of lower resolution; recomputing\n"
     ]
    },
    {
     "name": "stderr",
     "output_type": "stream",
     "text": [
      "Outer loop (a): 100%|██████████| 100/100 [00:51<00:00,  1.93it/s]\n"
     ]
    },
    {
     "name": "stdout",
     "output_type": "stream",
     "text": [
      "✅ Updated and saved new grid at ../backend/landscapes/mlp_10_10/two_blobs_separate/train/range0.2/ep450\n",
      "Done: two_blobs_separate, width=10, depth=2, ab_range=0.2, epoch=450\n",
      "Previously saved model is of lower resolution; recomputing\n"
     ]
    },
    {
     "name": "stderr",
     "output_type": "stream",
     "text": [
      "Outer loop (a): 100%|██████████| 100/100 [00:48<00:00,  2.08it/s]\n"
     ]
    },
    {
     "name": "stdout",
     "output_type": "stream",
     "text": [
      "✅ Updated and saved new grid at ../backend/landscapes/mlp_10/spirals/train/range0.5/ep230\n",
      "Done: spirals, width=10, depth=1, ab_range=0.5, epoch=230\n",
      "Previously saved model is of lower resolution; recomputing\n"
     ]
    },
    {
     "name": "stderr",
     "output_type": "stream",
     "text": [
      "Outer loop (a): 100%|██████████| 100/100 [00:48<00:00,  2.05it/s]\n"
     ]
    },
    {
     "name": "stdout",
     "output_type": "stream",
     "text": [
      "✅ Updated and saved new grid at ../backend/landscapes/mlp_10/two_blobs_overlap/train/range0.2/ep260\n",
      "Done: two_blobs_overlap, width=10, depth=1, ab_range=0.2, epoch=260\n",
      "Previously saved model is of lower resolution; recomputing\n"
     ]
    },
    {
     "name": "stderr",
     "output_type": "stream",
     "text": [
      "Outer loop (a): 100%|██████████| 100/100 [00:51<00:00,  1.94it/s]\n"
     ]
    },
    {
     "name": "stdout",
     "output_type": "stream",
     "text": [
      "✅ Updated and saved new grid at ../backend/landscapes/mlp_10_10/two_blobs_overlap/train/range10/ep540\n",
      "Done: two_blobs_overlap, width=10, depth=2, ab_range=10, epoch=540\n",
      "Previously saved model is of lower resolution; recomputing\n"
     ]
    },
    {
     "name": "stderr",
     "output_type": "stream",
     "text": [
      "Outer loop (a): 100%|██████████| 100/100 [00:52<00:00,  1.92it/s]\n"
     ]
    },
    {
     "name": "stdout",
     "output_type": "stream",
     "text": [
      "✅ Updated and saved new grid at ../backend/landscapes/mlp_10_10/two_blobs_separate/train/range0.2/ep460\n",
      "Done: two_blobs_separate, width=10, depth=2, ab_range=0.2, epoch=460\n",
      "Previously saved model is of lower resolution; recomputing\n"
     ]
    },
    {
     "name": "stderr",
     "output_type": "stream",
     "text": [
      "Outer loop (a): 100%|██████████| 100/100 [00:48<00:00,  2.06it/s]\n"
     ]
    },
    {
     "name": "stdout",
     "output_type": "stream",
     "text": [
      "✅ Updated and saved new grid at ../backend/landscapes/mlp_10/spirals/train/range0.5/ep240\n",
      "Done: spirals, width=10, depth=1, ab_range=0.5, epoch=240\n",
      "Previously saved model is of lower resolution; recomputing\n"
     ]
    },
    {
     "name": "stderr",
     "output_type": "stream",
     "text": [
      "Outer loop (a): 100%|██████████| 100/100 [00:48<00:00,  2.07it/s]\n"
     ]
    },
    {
     "name": "stdout",
     "output_type": "stream",
     "text": [
      "✅ Updated and saved new grid at ../backend/landscapes/mlp_10/two_blobs_overlap/train/range0.2/ep270\n",
      "Done: two_blobs_overlap, width=10, depth=1, ab_range=0.2, epoch=270\n",
      "Previously saved model is of lower resolution; recomputing\n"
     ]
    },
    {
     "name": "stderr",
     "output_type": "stream",
     "text": [
      "Outer loop (a): 100%|██████████| 100/100 [00:50<00:00,  1.97it/s]\n"
     ]
    },
    {
     "name": "stdout",
     "output_type": "stream",
     "text": [
      "✅ Updated and saved new grid at ../backend/landscapes/mlp_10_10/two_blobs_overlap/train/range10/ep550\n",
      "Done: two_blobs_overlap, width=10, depth=2, ab_range=10, epoch=550\n",
      "Previously saved model is of lower resolution; recomputing\n"
     ]
    },
    {
     "name": "stderr",
     "output_type": "stream",
     "text": [
      "Outer loop (a): 100%|██████████| 100/100 [00:51<00:00,  1.94it/s]\n"
     ]
    },
    {
     "name": "stdout",
     "output_type": "stream",
     "text": [
      "✅ Updated and saved new grid at ../backend/landscapes/mlp_10_10/two_blobs_separate/train/range0.2/ep470\n",
      "Done: two_blobs_separate, width=10, depth=2, ab_range=0.2, epoch=470\n",
      "Previously saved model is of lower resolution; recomputing\n"
     ]
    },
    {
     "name": "stderr",
     "output_type": "stream",
     "text": [
      "Outer loop (a): 100%|██████████| 100/100 [00:48<00:00,  2.06it/s]\n"
     ]
    },
    {
     "name": "stdout",
     "output_type": "stream",
     "text": [
      "✅ Updated and saved new grid at ../backend/landscapes/mlp_10/spirals/train/range0.5/ep250\n",
      "Done: spirals, width=10, depth=1, ab_range=0.5, epoch=250\n",
      "Previously saved model is of lower resolution; recomputing\n"
     ]
    },
    {
     "name": "stderr",
     "output_type": "stream",
     "text": [
      "Outer loop (a): 100%|██████████| 100/100 [00:48<00:00,  2.06it/s]\n"
     ]
    },
    {
     "name": "stdout",
     "output_type": "stream",
     "text": [
      "✅ Updated and saved new grid at ../backend/landscapes/mlp_10/two_blobs_overlap/train/range0.2/ep280\n",
      "Done: two_blobs_overlap, width=10, depth=1, ab_range=0.2, epoch=280\n",
      "Previously saved model is of lower resolution; recomputing\n"
     ]
    },
    {
     "name": "stderr",
     "output_type": "stream",
     "text": [
      "Outer loop (a): 100%|██████████| 100/100 [00:51<00:00,  1.93it/s]\n"
     ]
    },
    {
     "name": "stdout",
     "output_type": "stream",
     "text": [
      "✅ Updated and saved new grid at ../backend/landscapes/mlp_10_10/two_blobs_overlap/train/range10/ep560\n",
      "Done: two_blobs_overlap, width=10, depth=2, ab_range=10, epoch=560\n",
      "Previously saved model is of lower resolution; recomputing\n"
     ]
    },
    {
     "name": "stderr",
     "output_type": "stream",
     "text": [
      "Outer loop (a): 100%|██████████| 100/100 [00:53<00:00,  1.89it/s]\n"
     ]
    },
    {
     "name": "stdout",
     "output_type": "stream",
     "text": [
      "✅ Updated and saved new grid at ../backend/landscapes/mlp_10_10/two_blobs_separate/train/range0.2/ep480\n",
      "Done: two_blobs_separate, width=10, depth=2, ab_range=0.2, epoch=480\n",
      "Previously saved model is of lower resolution; recomputing\n"
     ]
    },
    {
     "name": "stderr",
     "output_type": "stream",
     "text": [
      "Outer loop (a): 100%|██████████| 100/100 [00:48<00:00,  2.04it/s]\n"
     ]
    },
    {
     "name": "stdout",
     "output_type": "stream",
     "text": [
      "✅ Updated and saved new grid at ../backend/landscapes/mlp_10/spirals/train/range0.5/ep260\n",
      "Done: spirals, width=10, depth=1, ab_range=0.5, epoch=260\n",
      "Previously saved model is of lower resolution; recomputing\n"
     ]
    },
    {
     "name": "stderr",
     "output_type": "stream",
     "text": [
      "Outer loop (a): 100%|██████████| 100/100 [00:48<00:00,  2.06it/s]\n"
     ]
    },
    {
     "name": "stdout",
     "output_type": "stream",
     "text": [
      "✅ Updated and saved new grid at ../backend/landscapes/mlp_10/two_blobs_overlap/train/range0.2/ep290\n",
      "Done: two_blobs_overlap, width=10, depth=1, ab_range=0.2, epoch=290\n",
      "Previously saved model is of lower resolution; recomputing\n"
     ]
    },
    {
     "name": "stderr",
     "output_type": "stream",
     "text": [
      "Outer loop (a): 100%|██████████| 100/100 [00:51<00:00,  1.92it/s]\n"
     ]
    },
    {
     "name": "stdout",
     "output_type": "stream",
     "text": [
      "✅ Updated and saved new grid at ../backend/landscapes/mlp_10_10/two_blobs_overlap/train/range10/ep570\n",
      "Done: two_blobs_overlap, width=10, depth=2, ab_range=10, epoch=570\n",
      "Previously saved model is of lower resolution; recomputing\n"
     ]
    },
    {
     "name": "stderr",
     "output_type": "stream",
     "text": [
      "Outer loop (a): 100%|██████████| 100/100 [00:51<00:00,  1.94it/s]\n"
     ]
    },
    {
     "name": "stdout",
     "output_type": "stream",
     "text": [
      "✅ Updated and saved new grid at ../backend/landscapes/mlp_10_10/two_blobs_separate/train/range0.2/ep490\n",
      "Done: two_blobs_separate, width=10, depth=2, ab_range=0.2, epoch=490\n",
      "Previously saved model is of lower resolution; recomputing\n"
     ]
    },
    {
     "name": "stderr",
     "output_type": "stream",
     "text": [
      "Outer loop (a): 100%|██████████| 100/100 [00:48<00:00,  2.05it/s]\n"
     ]
    },
    {
     "name": "stdout",
     "output_type": "stream",
     "text": [
      "✅ Updated and saved new grid at ../backend/landscapes/mlp_10/spirals/train/range0.5/ep270\n",
      "Done: spirals, width=10, depth=1, ab_range=0.5, epoch=270\n",
      "Previously saved model is of lower resolution; recomputing\n"
     ]
    },
    {
     "name": "stderr",
     "output_type": "stream",
     "text": [
      "Outer loop (a): 100%|██████████| 100/100 [00:49<00:00,  2.03it/s]\n"
     ]
    },
    {
     "name": "stdout",
     "output_type": "stream",
     "text": [
      "✅ Updated and saved new grid at ../backend/landscapes/mlp_10/two_blobs_overlap/train/range0.2/ep300\n",
      "Done: two_blobs_overlap, width=10, depth=1, ab_range=0.2, epoch=300\n",
      "Previously saved model is of lower resolution; recomputing\n"
     ]
    },
    {
     "name": "stderr",
     "output_type": "stream",
     "text": [
      "Outer loop (a): 100%|██████████| 100/100 [00:51<00:00,  1.94it/s]\n"
     ]
    },
    {
     "name": "stdout",
     "output_type": "stream",
     "text": [
      "✅ Updated and saved new grid at ../backend/landscapes/mlp_10_10/two_blobs_overlap/train/range10/ep580\n",
      "Done: two_blobs_overlap, width=10, depth=2, ab_range=10, epoch=580\n",
      "Previously saved model is of lower resolution; recomputing\n"
     ]
    },
    {
     "name": "stderr",
     "output_type": "stream",
     "text": [
      "Outer loop (a): 100%|██████████| 100/100 [00:47<00:00,  2.10it/s]\n"
     ]
    },
    {
     "name": "stdout",
     "output_type": "stream",
     "text": [
      "✅ Updated and saved new grid at ../backend/landscapes/mlp_10/spirals/train/range0.5/ep280\n",
      "Done: spirals, width=10, depth=1, ab_range=0.5, epoch=280\n",
      "Previously saved model is of lower resolution; recomputing\n"
     ]
    },
    {
     "name": "stderr",
     "output_type": "stream",
     "text": [
      "Outer loop (a): 100%|██████████| 100/100 [00:50<00:00,  1.98it/s]\n"
     ]
    },
    {
     "name": "stdout",
     "output_type": "stream",
     "text": [
      "✅ Updated and saved new grid at ../backend/landscapes/mlp_10_10/two_blobs_separate/train/range0.2/ep500\n",
      "Done: two_blobs_separate, width=10, depth=2, ab_range=0.2, epoch=500\n",
      "Previously saved model is of lower resolution; recomputing\n"
     ]
    },
    {
     "name": "stderr",
     "output_type": "stream",
     "text": [
      "Outer loop (a): 100%|██████████| 100/100 [00:48<00:00,  2.08it/s]\n"
     ]
    },
    {
     "name": "stdout",
     "output_type": "stream",
     "text": [
      "✅ Updated and saved new grid at ../backend/landscapes/mlp_10/two_blobs_overlap/train/range0.2/ep310\n",
      "Done: two_blobs_overlap, width=10, depth=1, ab_range=0.2, epoch=310"
     ]
    },
    {
     "name": "stderr",
     "output_type": "stream",
     "text": [
      "Outer loop (a):  23%|██▎       | 23/100 [00:11<00:36,  2.13it/s]"
     ]
    },
    {
     "name": "stdout",
     "output_type": "stream",
     "text": [
      "\n",
      "Previously saved model is of lower resolution; recomputing\n"
     ]
    },
    {
     "name": "stderr",
     "output_type": "stream",
     "text": [
      "Outer loop (a): 100%|██████████| 100/100 [00:48<00:00,  2.04it/s]\n"
     ]
    },
    {
     "name": "stdout",
     "output_type": "stream",
     "text": [
      "✅ Updated and saved new grid at ../backend/landscapes/mlp_10/spirals/train/range0.5/ep290\n",
      "Done: spirals, width=10, depth=1, ab_range=0.5, epoch=290\n",
      "Previously saved model is of lower resolution; recomputing\n"
     ]
    },
    {
     "name": "stderr",
     "output_type": "stream",
     "text": [
      "Outer loop (a): 100%|██████████| 100/100 [00:53<00:00,  1.87it/s]\n"
     ]
    },
    {
     "name": "stdout",
     "output_type": "stream",
     "text": [
      "✅ Updated and saved new grid at ../backend/landscapes/mlp_10_10/two_blobs_overlap/train/range10/ep590\n",
      "Done: two_blobs_overlap, width=10, depth=2, ab_range=10, epoch=590\n",
      "Previously saved model is of lower resolution; recomputing\n"
     ]
    },
    {
     "name": "stderr",
     "output_type": "stream",
     "text": [
      "Outer loop (a): 100%|██████████| 100/100 [00:50<00:00,  1.98it/s]\n"
     ]
    },
    {
     "name": "stdout",
     "output_type": "stream",
     "text": [
      "✅ Updated and saved new grid at ../backend/landscapes/mlp_10_10/two_blobs_separate/train/range0.2/ep510\n",
      "Done: two_blobs_separate, width=10, depth=2, ab_range=0.2, epoch=510\n",
      "Previously saved model is of lower resolution; recomputing\n"
     ]
    },
    {
     "name": "stderr",
     "output_type": "stream",
     "text": [
      "Outer loop (a): 100%|██████████| 100/100 [00:47<00:00,  2.10it/s]\n"
     ]
    },
    {
     "name": "stdout",
     "output_type": "stream",
     "text": [
      "✅ Updated and saved new grid at ../backend/landscapes/mlp_10/two_blobs_overlap/train/range0.2/ep320\n",
      "Done: two_blobs_overlap, width=10, depth=1, ab_range=0.2, epoch=320\n",
      "Previously saved model is of lower resolution; recomputing\n"
     ]
    },
    {
     "name": "stderr",
     "output_type": "stream",
     "text": [
      "Outer loop (a): 100%|██████████| 100/100 [00:48<00:00,  2.04it/s]\n"
     ]
    },
    {
     "name": "stdout",
     "output_type": "stream",
     "text": [
      "✅ Updated and saved new grid at ../backend/landscapes/mlp_10/spirals/train/range0.5/ep300\n",
      "Done: spirals, width=10, depth=1, ab_range=0.5, epoch=300\n",
      "Previously saved model is of lower resolution; recomputing\n"
     ]
    },
    {
     "name": "stderr",
     "output_type": "stream",
     "text": [
      "Outer loop (a): 100%|██████████| 100/100 [00:51<00:00,  1.94it/s]\n"
     ]
    },
    {
     "name": "stdout",
     "output_type": "stream",
     "text": [
      "✅ Updated and saved new grid at ../backend/landscapes/mlp_10_10/two_blobs_overlap/train/range10/ep600\n",
      "Done: two_blobs_overlap, width=10, depth=2, ab_range=10, epoch=600\n",
      "Previously saved model is of lower resolution; recomputing\n"
     ]
    },
    {
     "name": "stderr",
     "output_type": "stream",
     "text": [
      "Outer loop (a): 100%|██████████| 100/100 [00:51<00:00,  1.94it/s]\n"
     ]
    },
    {
     "name": "stdout",
     "output_type": "stream",
     "text": [
      "✅ Updated and saved new grid at ../backend/landscapes/mlp_10_10/two_blobs_separate/train/range0.2/ep520\n",
      "Done: two_blobs_separate, width=10, depth=2, ab_range=0.2, epoch=520\n",
      "Previously saved model is of lower resolution; recomputing\n"
     ]
    },
    {
     "name": "stderr",
     "output_type": "stream",
     "text": [
      "Outer loop (a): 100%|██████████| 100/100 [00:48<00:00,  2.05it/s]\n"
     ]
    },
    {
     "name": "stdout",
     "output_type": "stream",
     "text": [
      "✅ Updated and saved new grid at ../backend/landscapes/mlp_10/two_blobs_overlap/train/range0.2/ep330\n",
      "Done: two_blobs_overlap, width=10, depth=1, ab_range=0.2, epoch=330\n",
      "Previously saved model is of lower resolution; recomputing\n"
     ]
    },
    {
     "name": "stderr",
     "output_type": "stream",
     "text": [
      "Outer loop (a): 100%|██████████| 100/100 [00:47<00:00,  2.09it/s]\n"
     ]
    },
    {
     "name": "stdout",
     "output_type": "stream",
     "text": [
      "✅ Updated and saved new grid at ../backend/landscapes/mlp_10/spirals/train/range0.5/ep310\n",
      "Done: spirals, width=10, depth=1, ab_range=0.5, epoch=310\n",
      "Previously saved model is of lower resolution; recomputing\n"
     ]
    },
    {
     "name": "stderr",
     "output_type": "stream",
     "text": [
      "Outer loop (a): 100%|██████████| 100/100 [00:50<00:00,  1.97it/s]\n"
     ]
    },
    {
     "name": "stdout",
     "output_type": "stream",
     "text": [
      "✅ Updated and saved new grid at ../backend/landscapes/mlp_10_10/two_blobs_overlap/train/range10/ep610"
     ]
    },
    {
     "name": "stderr",
     "output_type": "stream",
     "text": [
      "Outer loop (a):  14%|█▍        | 14/100 [00:07<00:39,  2.17it/s]"
     ]
    },
    {
     "name": "stdout",
     "output_type": "stream",
     "text": [
      "\n",
      "Done: two_blobs_overlap, width=10, depth=2, ab_range=10, epoch=610\n",
      "Previously saved model is of lower resolution; recomputing\n"
     ]
    },
    {
     "name": "stderr",
     "output_type": "stream",
     "text": [
      "Outer loop (a): 100%|██████████| 100/100 [00:50<00:00,  1.97it/s]\n"
     ]
    },
    {
     "name": "stdout",
     "output_type": "stream",
     "text": [
      "✅ Updated and saved new grid at ../backend/landscapes/mlp_10_10/two_blobs_separate/train/range0.2/ep530\n",
      "Done: two_blobs_separate, width=10, depth=2, ab_range=0.2, epoch=530\n",
      "Previously saved model is of lower resolution; recomputing\n"
     ]
    },
    {
     "name": "stderr",
     "output_type": "stream",
     "text": [
      "Outer loop (a): 100%|██████████| 100/100 [00:49<00:00,  2.03it/s]\n"
     ]
    },
    {
     "name": "stdout",
     "output_type": "stream",
     "text": [
      "✅ Updated and saved new grid at ../backend/landscapes/mlp_10/two_blobs_overlap/train/range0.2/ep340\n",
      "Done: two_blobs_overlap, width=10, depth=1, ab_range=0.2, epoch=340\n",
      "Previously saved model is of lower resolution; recomputing\n"
     ]
    },
    {
     "name": "stderr",
     "output_type": "stream",
     "text": [
      "Outer loop (a): 100%|██████████| 100/100 [00:49<00:00,  2.04it/s]\n"
     ]
    },
    {
     "name": "stdout",
     "output_type": "stream",
     "text": [
      "✅ Updated and saved new grid at ../backend/landscapes/mlp_10/spirals/train/range0.5/ep320\n",
      "Done: spirals, width=10, depth=1, ab_range=0.5, epoch=320\n",
      "Previously saved model is of lower resolution; recomputing\n"
     ]
    },
    {
     "name": "stderr",
     "output_type": "stream",
     "text": [
      "Outer loop (a): 100%|██████████| 100/100 [00:51<00:00,  1.95it/s]\n"
     ]
    },
    {
     "name": "stdout",
     "output_type": "stream",
     "text": [
      "✅ Updated and saved new grid at ../backend/landscapes/mlp_10_10/two_blobs_overlap/train/range10/ep620\n",
      "Done: two_blobs_overlap, width=10, depth=2, ab_range=10, epoch=620\n",
      "Previously saved model is of lower resolution; recomputing\n"
     ]
    },
    {
     "name": "stderr",
     "output_type": "stream",
     "text": [
      "Outer loop (a): 100%|██████████| 100/100 [00:50<00:00,  1.99it/s]\n"
     ]
    },
    {
     "name": "stdout",
     "output_type": "stream",
     "text": [
      "✅ Updated and saved new grid at ../backend/landscapes/mlp_10_10/two_blobs_separate/train/range0.2/ep540\n",
      "Done: two_blobs_separate, width=10, depth=2, ab_range=0.2, epoch=540\n",
      "Previously saved model is of lower resolution; recomputing\n"
     ]
    },
    {
     "name": "stderr",
     "output_type": "stream",
     "text": [
      "Outer loop (a): 100%|██████████| 100/100 [00:48<00:00,  2.07it/s]\n"
     ]
    },
    {
     "name": "stdout",
     "output_type": "stream",
     "text": [
      "✅ Updated and saved new grid at ../backend/landscapes/mlp_10/two_blobs_overlap/train/range0.2/ep350\n",
      "Done: two_blobs_overlap, width=10, depth=1, ab_range=0.2, epoch=350\n",
      "Previously saved model is of lower resolution; recomputing\n"
     ]
    },
    {
     "name": "stderr",
     "output_type": "stream",
     "text": [
      "Outer loop (a): 100%|██████████| 100/100 [00:48<00:00,  2.06it/s]\n"
     ]
    },
    {
     "name": "stdout",
     "output_type": "stream",
     "text": [
      "✅ Updated and saved new grid at ../backend/landscapes/mlp_10/spirals/train/range0.5/ep330\n",
      "Done: spirals, width=10, depth=1, ab_range=0.5, epoch=330\n",
      "Previously saved model is of lower resolution; recomputing\n"
     ]
    },
    {
     "name": "stderr",
     "output_type": "stream",
     "text": [
      "Outer loop (a): 100%|██████████| 100/100 [00:48<00:00,  2.06it/s]\n"
     ]
    },
    {
     "name": "stdout",
     "output_type": "stream",
     "text": [
      "✅ Updated and saved new grid at ../backend/landscapes/mlp_10/two_blobs_overlap/train/range0.2/ep360\n",
      "Done: two_blobs_overlap, width=10, depth=1, ab_range=0.2, epoch=360\n",
      "Previously saved model is of lower resolution; recomputing\n"
     ]
    },
    {
     "name": "stderr",
     "output_type": "stream",
     "text": [
      "Outer loop (a): 100%|██████████| 100/100 [00:52<00:00,  1.92it/s]\n"
     ]
    },
    {
     "name": "stdout",
     "output_type": "stream",
     "text": [
      "✅ Updated and saved new grid at ../backend/landscapes/mlp_10_10/two_blobs_overlap/train/range10/ep630\n",
      "Done: two_blobs_overlap, width=10, depth=2, ab_range=10, epoch=630\n",
      "Previously saved model is of lower resolution; recomputing\n"
     ]
    },
    {
     "name": "stderr",
     "output_type": "stream",
     "text": [
      "Outer loop (a): 100%|██████████| 100/100 [00:52<00:00,  1.90it/s]\n"
     ]
    },
    {
     "name": "stdout",
     "output_type": "stream",
     "text": [
      "✅ Updated and saved new grid at ../backend/landscapes/mlp_10_10/two_blobs_separate/train/range0.2/ep550\n",
      "Done: two_blobs_separate, width=10, depth=2, ab_range=0.2, epoch=550\n",
      "Previously saved model is of lower resolution; recomputing\n"
     ]
    },
    {
     "name": "stderr",
     "output_type": "stream",
     "text": [
      "Outer loop (a): 100%|██████████| 100/100 [00:49<00:00,  2.01it/s]\n"
     ]
    },
    {
     "name": "stdout",
     "output_type": "stream",
     "text": [
      "✅ Updated and saved new grid at ../backend/landscapes/mlp_10/spirals/train/range0.5/ep340\n",
      "Done: spirals, width=10, depth=1, ab_range=0.5, epoch=340\n",
      "Previously saved model is of lower resolution; recomputing\n"
     ]
    },
    {
     "name": "stderr",
     "output_type": "stream",
     "text": [
      "Outer loop (a): 100%|██████████| 100/100 [00:47<00:00,  2.09it/s]\n"
     ]
    },
    {
     "name": "stdout",
     "output_type": "stream",
     "text": [
      "✅ Updated and saved new grid at ../backend/landscapes/mlp_10/two_blobs_overlap/train/range0.2/ep370\n",
      "Done: two_blobs_overlap, width=10, depth=1, ab_range=0.2, epoch=370\n",
      "Previously saved model is of lower resolution; recomputing\n"
     ]
    },
    {
     "name": "stderr",
     "output_type": "stream",
     "text": [
      "Outer loop (a): 100%|██████████| 100/100 [00:50<00:00,  2.00it/s]\n"
     ]
    },
    {
     "name": "stdout",
     "output_type": "stream",
     "text": [
      "✅ Updated and saved new grid at ../backend/landscapes/mlp_10_10/two_blobs_overlap/train/range10/ep640\n",
      "Done: two_blobs_overlap, width=10, depth=2, ab_range=10, epoch=640\n",
      "Previously saved model is of lower resolution; recomputing\n"
     ]
    },
    {
     "name": "stderr",
     "output_type": "stream",
     "text": [
      "Outer loop (a): 100%|██████████| 100/100 [00:51<00:00,  1.95it/s]\n"
     ]
    },
    {
     "name": "stdout",
     "output_type": "stream",
     "text": [
      "✅ Updated and saved new grid at ../backend/landscapes/mlp_10_10/two_blobs_separate/train/range0.2/ep560\n",
      "Done: two_blobs_separate, width=10, depth=2, ab_range=0.2, epoch=560\n",
      "Previously saved model is of lower resolution; recomputing\n"
     ]
    },
    {
     "name": "stderr",
     "output_type": "stream",
     "text": [
      "Outer loop (a): 100%|██████████| 100/100 [00:49<00:00,  2.00it/s]\n"
     ]
    },
    {
     "name": "stdout",
     "output_type": "stream",
     "text": [
      "✅ Updated and saved new grid at ../backend/landscapes/mlp_10/spirals/train/range0.5/ep350\n",
      "Done: spirals, width=10, depth=1, ab_range=0.5, epoch=350\n",
      "Previously saved model is of lower resolution; recomputing\n"
     ]
    },
    {
     "name": "stderr",
     "output_type": "stream",
     "text": [
      "Outer loop (a): 100%|██████████| 100/100 [00:49<00:00,  2.03it/s]\n"
     ]
    },
    {
     "name": "stdout",
     "output_type": "stream",
     "text": [
      "✅ Updated and saved new grid at ../backend/landscapes/mlp_10/two_blobs_overlap/train/range0.2/ep380\n",
      "Done: two_blobs_overlap, width=10, depth=1, ab_range=0.2, epoch=380\n",
      "Previously saved model is of lower resolution; recomputing\n"
     ]
    },
    {
     "name": "stderr",
     "output_type": "stream",
     "text": [
      "Outer loop (a): 100%|██████████| 100/100 [00:51<00:00,  1.94it/s]\n"
     ]
    },
    {
     "name": "stdout",
     "output_type": "stream",
     "text": [
      "✅ Updated and saved new grid at ../backend/landscapes/mlp_10_10/two_blobs_overlap/train/range10/ep650\n",
      "Done: two_blobs_overlap, width=10, depth=2, ab_range=10, epoch=650\n",
      "Previously saved model is of lower resolution; recomputing\n"
     ]
    },
    {
     "name": "stderr",
     "output_type": "stream",
     "text": [
      "Outer loop (a): 100%|██████████| 100/100 [00:52<00:00,  1.90it/s]\n",
      "Outer loop (a):  37%|███▋      | 37/100 [00:18<00:30,  2.05it/s]"
     ]
    },
    {
     "name": "stdout",
     "output_type": "stream",
     "text": [
      "✅ Updated and saved new grid at ../backend/landscapes/mlp_10_10/two_blobs_separate/train/range0.2/ep570\n",
      "Done: two_blobs_separate, width=10, depth=2, ab_range=0.2, epoch=570\n",
      "Previously saved model is of lower resolution; recomputing\n"
     ]
    },
    {
     "name": "stderr",
     "output_type": "stream",
     "text": [
      "Outer loop (a): 100%|██████████| 100/100 [00:48<00:00,  2.06it/s]\n"
     ]
    },
    {
     "name": "stdout",
     "output_type": "stream",
     "text": [
      "✅ Updated and saved new grid at ../backend/landscapes/mlp_10/spirals/train/range0.5/ep360\n",
      "Done: spirals, width=10, depth=1, ab_range=0.5, epoch=360\n",
      "Previously saved model is of lower resolution; recomputing\n"
     ]
    },
    {
     "name": "stderr",
     "output_type": "stream",
     "text": [
      "Outer loop (a): 100%|██████████| 100/100 [00:49<00:00,  2.04it/s]\n"
     ]
    },
    {
     "name": "stdout",
     "output_type": "stream",
     "text": [
      "✅ Updated and saved new grid at ../backend/landscapes/mlp_10/two_blobs_overlap/train/range0.2/ep390\n",
      "Done: two_blobs_overlap, width=10, depth=1, ab_range=0.2, epoch=390\n",
      "Previously saved model is of lower resolution; recomputing\n"
     ]
    },
    {
     "name": "stderr",
     "output_type": "stream",
     "text": [
      "Outer loop (a): 100%|██████████| 100/100 [00:51<00:00,  1.93it/s]\n"
     ]
    },
    {
     "name": "stdout",
     "output_type": "stream",
     "text": [
      "✅ Updated and saved new grid at ../backend/landscapes/mlp_10_10/two_blobs_overlap/train/range10/ep660\n",
      "Done: two_blobs_overlap, width=10, depth=2, ab_range=10, epoch=660\n",
      "Previously saved model is of lower resolution; recomputing\n"
     ]
    },
    {
     "name": "stderr",
     "output_type": "stream",
     "text": [
      "Outer loop (a): 100%|██████████| 100/100 [00:52<00:00,  1.92it/s]\n"
     ]
    },
    {
     "name": "stdout",
     "output_type": "stream",
     "text": [
      "✅ Updated and saved new grid at ../backend/landscapes/mlp_10_10/two_blobs_separate/train/range0.2/ep580\n",
      "Done: two_blobs_separate, width=10, depth=2, ab_range=0.2, epoch=580\n",
      "Previously saved model is of lower resolution; recomputing\n"
     ]
    },
    {
     "name": "stderr",
     "output_type": "stream",
     "text": [
      "Outer loop (a): 100%|██████████| 100/100 [00:48<00:00,  2.06it/s]\n"
     ]
    },
    {
     "name": "stdout",
     "output_type": "stream",
     "text": [
      "✅ Updated and saved new grid at ../backend/landscapes/mlp_10/spirals/train/range0.5/ep370\n",
      "Done: spirals, width=10, depth=1, ab_range=0.5, epoch=370\n",
      "Previously saved model is of lower resolution; recomputing\n"
     ]
    },
    {
     "name": "stderr",
     "output_type": "stream",
     "text": [
      "Outer loop (a): 100%|██████████| 100/100 [00:49<00:00,  2.03it/s]\n"
     ]
    },
    {
     "name": "stdout",
     "output_type": "stream",
     "text": [
      "✅ Updated and saved new grid at ../backend/landscapes/mlp_10/two_blobs_overlap/train/range0.2/ep400\n",
      "Done: two_blobs_overlap, width=10, depth=1, ab_range=0.2, epoch=400\n",
      "Previously saved model is of lower resolution; recomputing\n"
     ]
    },
    {
     "name": "stderr",
     "output_type": "stream",
     "text": [
      "Outer loop (a): 100%|██████████| 100/100 [00:51<00:00,  1.94it/s]\n"
     ]
    },
    {
     "name": "stdout",
     "output_type": "stream",
     "text": [
      "✅ Updated and saved new grid at ../backend/landscapes/mlp_10_10/two_blobs_overlap/train/range10/ep670\n",
      "Done: two_blobs_overlap, width=10, depth=2, ab_range=10, epoch=670\n",
      "Previously saved model is of lower resolution; recomputing\n"
     ]
    },
    {
     "name": "stderr",
     "output_type": "stream",
     "text": [
      "Outer loop (a): 100%|██████████| 100/100 [00:52<00:00,  1.91it/s]\n"
     ]
    },
    {
     "name": "stdout",
     "output_type": "stream",
     "text": [
      "✅ Updated and saved new grid at ../backend/landscapes/mlp_10_10/two_blobs_separate/train/range0.2/ep590\n",
      "Done: two_blobs_separate, width=10, depth=2, ab_range=0.2, epoch=590\n",
      "Previously saved model is of lower resolution; recomputing\n"
     ]
    },
    {
     "name": "stderr",
     "output_type": "stream",
     "text": [
      "Outer loop (a): 100%|██████████| 100/100 [00:49<00:00,  2.02it/s]\n"
     ]
    },
    {
     "name": "stdout",
     "output_type": "stream",
     "text": [
      "✅ Updated and saved new grid at ../backend/landscapes/mlp_10/spirals/train/range0.5/ep380\n",
      "Done: spirals, width=10, depth=1, ab_range=0.5, epoch=380\n",
      "Previously saved model is of lower resolution; recomputing\n"
     ]
    },
    {
     "name": "stderr",
     "output_type": "stream",
     "text": [
      "Outer loop (a): 100%|██████████| 100/100 [00:49<00:00,  2.02it/s]\n"
     ]
    },
    {
     "name": "stdout",
     "output_type": "stream",
     "text": [
      "✅ Updated and saved new grid at ../backend/landscapes/mlp_10/two_blobs_overlap/train/range0.2/ep410\n",
      "Done: two_blobs_overlap, width=10, depth=1, ab_range=0.2, epoch=410\n",
      "Previously saved model is of lower resolution; recomputing\n"
     ]
    },
    {
     "name": "stderr",
     "output_type": "stream",
     "text": [
      "Outer loop (a): 100%|██████████| 100/100 [00:52<00:00,  1.89it/s]\n"
     ]
    },
    {
     "name": "stdout",
     "output_type": "stream",
     "text": [
      "✅ Updated and saved new grid at ../backend/landscapes/mlp_10_10/two_blobs_overlap/train/range10/ep680\n",
      "Done: two_blobs_overlap, width=10, depth=2, ab_range=10, epoch=680\n",
      "Previously saved model is of lower resolution; recomputing\n"
     ]
    },
    {
     "name": "stderr",
     "output_type": "stream",
     "text": [
      "Outer loop (a): 100%|██████████| 100/100 [00:51<00:00,  1.93it/s]\n"
     ]
    },
    {
     "name": "stdout",
     "output_type": "stream",
     "text": [
      "✅ Updated and saved new grid at ../backend/landscapes/mlp_10_10/two_blobs_separate/train/range0.2/ep600\n",
      "Done: two_blobs_separate, width=10, depth=2, ab_range=0.2, epoch=600\n",
      "Previously saved model is of lower resolution; recomputing\n"
     ]
    },
    {
     "name": "stderr",
     "output_type": "stream",
     "text": [
      "Outer loop (a): 100%|██████████| 100/100 [00:48<00:00,  2.08it/s]\n"
     ]
    },
    {
     "name": "stdout",
     "output_type": "stream",
     "text": [
      "✅ Updated and saved new grid at ../backend/landscapes/mlp_10/spirals/train/range0.5/ep390\n",
      "Done: spirals, width=10, depth=1, ab_range=0.5, epoch=390\n",
      "Previously saved model is of lower resolution; recomputing\n"
     ]
    },
    {
     "name": "stderr",
     "output_type": "stream",
     "text": [
      "Outer loop (a): 100%|██████████| 100/100 [00:48<00:00,  2.05it/s]\n"
     ]
    },
    {
     "name": "stdout",
     "output_type": "stream",
     "text": [
      "✅ Updated and saved new grid at ../backend/landscapes/mlp_10/two_blobs_overlap/train/range0.2/ep420\n",
      "Done: two_blobs_overlap, width=10, depth=1, ab_range=0.2, epoch=420\n",
      "Previously saved model is of lower resolution; recomputing\n"
     ]
    },
    {
     "name": "stderr",
     "output_type": "stream",
     "text": [
      "Outer loop (a): 100%|██████████| 100/100 [00:51<00:00,  1.94it/s]\n"
     ]
    },
    {
     "name": "stdout",
     "output_type": "stream",
     "text": [
      "✅ Updated and saved new grid at ../backend/landscapes/mlp_10_10/two_blobs_overlap/train/range10/ep690\n",
      "Done: two_blobs_overlap, width=10, depth=2, ab_range=10, epoch=690\n",
      "Previously saved model is of lower resolution; recomputing\n"
     ]
    },
    {
     "name": "stderr",
     "output_type": "stream",
     "text": [
      "Outer loop (a): 100%|██████████| 100/100 [00:50<00:00,  1.97it/s]\n"
     ]
    },
    {
     "name": "stdout",
     "output_type": "stream",
     "text": [
      "✅ Updated and saved new grid at ../backend/landscapes/mlp_10_10/two_blobs_separate/train/range0.2/ep610\n",
      "Done: two_blobs_separate, width=10, depth=2, ab_range=0.2, epoch=610\n",
      "Previously saved model is of lower resolution; recomputing\n"
     ]
    },
    {
     "name": "stderr",
     "output_type": "stream",
     "text": [
      "Outer loop (a): 100%|██████████| 100/100 [00:51<00:00,  1.94it/s]\n"
     ]
    },
    {
     "name": "stdout",
     "output_type": "stream",
     "text": [
      "✅ Updated and saved new grid at ../backend/landscapes/mlp_10/spirals/train/range0.5/ep400\n",
      "Done: spirals, width=10, depth=1, ab_range=0.5, epoch=400\n",
      "Previously saved model is of lower resolution; recomputing\n"
     ]
    },
    {
     "name": "stderr",
     "output_type": "stream",
     "text": [
      "Outer loop (a): 100%|██████████| 100/100 [00:49<00:00,  2.03it/s]\n"
     ]
    },
    {
     "name": "stdout",
     "output_type": "stream",
     "text": [
      "✅ Updated and saved new grid at ../backend/landscapes/mlp_10/two_blobs_overlap/train/range0.2/ep430\n",
      "Done: two_blobs_overlap, width=10, depth=1, ab_range=0.2, epoch=430\n",
      "Previously saved model is of lower resolution; recomputing\n"
     ]
    },
    {
     "name": "stderr",
     "output_type": "stream",
     "text": [
      "Outer loop (a): 100%|██████████| 100/100 [00:51<00:00,  1.95it/s]\n"
     ]
    },
    {
     "name": "stdout",
     "output_type": "stream",
     "text": [
      "✅ Updated and saved new grid at ../backend/landscapes/mlp_10_10/two_blobs_overlap/train/range10/ep700\n",
      "Done: two_blobs_overlap, width=10, depth=2, ab_range=10, epoch=700\n",
      "Previously saved model is of lower resolution; recomputing\n"
     ]
    },
    {
     "name": "stderr",
     "output_type": "stream",
     "text": [
      "Outer loop (a): 100%|██████████| 100/100 [00:51<00:00,  1.96it/s]\n"
     ]
    },
    {
     "name": "stdout",
     "output_type": "stream",
     "text": [
      "✅ Updated and saved new grid at ../backend/landscapes/mlp_10_10/two_blobs_separate/train/range0.2/ep620\n",
      "Done: two_blobs_separate, width=10, depth=2, ab_range=0.2, epoch=620\n",
      "Previously saved model is of lower resolution; recomputing\n"
     ]
    },
    {
     "name": "stderr",
     "output_type": "stream",
     "text": [
      "Outer loop (a): 100%|██████████| 100/100 [00:49<00:00,  2.01it/s]\n"
     ]
    },
    {
     "name": "stdout",
     "output_type": "stream",
     "text": [
      "✅ Updated and saved new grid at ../backend/landscapes/mlp_10/spirals/train/range0.5/ep410\n",
      "Done: spirals, width=10, depth=1, ab_range=0.5, epoch=410\n",
      "Previously saved model is of lower resolution; recomputing\n"
     ]
    },
    {
     "name": "stderr",
     "output_type": "stream",
     "text": [
      "Outer loop (a): 100%|██████████| 100/100 [00:48<00:00,  2.06it/s]\n"
     ]
    },
    {
     "name": "stdout",
     "output_type": "stream",
     "text": [
      "✅ Updated and saved new grid at ../backend/landscapes/mlp_10/two_blobs_overlap/train/range0.2/ep440\n",
      "Done: two_blobs_overlap, width=10, depth=1, ab_range=0.2, epoch=440\n",
      "Previously saved model is of lower resolution; recomputing\n"
     ]
    },
    {
     "name": "stderr",
     "output_type": "stream",
     "text": [
      "Outer loop (a): 100%|██████████| 100/100 [00:51<00:00,  1.94it/s]\n"
     ]
    },
    {
     "name": "stdout",
     "output_type": "stream",
     "text": [
      "✅ Updated and saved new grid at ../backend/landscapes/mlp_10_10/two_blobs_overlap/train/range10/ep710\n",
      "Done: two_blobs_overlap, width=10, depth=2, ab_range=10, epoch=710\n",
      "Previously saved model is of lower resolution; recomputing\n"
     ]
    },
    {
     "name": "stderr",
     "output_type": "stream",
     "text": [
      "Outer loop (a): 100%|██████████| 100/100 [00:52<00:00,  1.91it/s]\n"
     ]
    },
    {
     "name": "stdout",
     "output_type": "stream",
     "text": [
      "✅ Updated and saved new grid at ../backend/landscapes/mlp_10_10/two_blobs_separate/train/range0.2/ep630\n",
      "Done: two_blobs_separate, width=10, depth=2, ab_range=0.2, epoch=630\n",
      "Previously saved model is of lower resolution; recomputing\n"
     ]
    },
    {
     "name": "stderr",
     "output_type": "stream",
     "text": [
      "Outer loop (a): 100%|██████████| 100/100 [00:48<00:00,  2.06it/s]\n"
     ]
    },
    {
     "name": "stdout",
     "output_type": "stream",
     "text": [
      "✅ Updated and saved new grid at ../backend/landscapes/mlp_10/spirals/train/range0.5/ep420\n",
      "Done: spirals, width=10, depth=1, ab_range=0.5, epoch=420\n",
      "Previously saved model is of lower resolution; recomputing\n"
     ]
    },
    {
     "name": "stderr",
     "output_type": "stream",
     "text": [
      "Outer loop (a): 100%|██████████| 100/100 [00:47<00:00,  2.11it/s]\n"
     ]
    },
    {
     "name": "stdout",
     "output_type": "stream",
     "text": [
      "✅ Updated and saved new grid at ../backend/landscapes/mlp_10/two_blobs_overlap/train/range0.2/ep450\n",
      "Done: two_blobs_overlap, width=10, depth=1, ab_range=0.2, epoch=450\n",
      "Previously saved model is of lower resolution; recomputing\n"
     ]
    },
    {
     "name": "stderr",
     "output_type": "stream",
     "text": [
      "Outer loop (a): 100%|██████████| 100/100 [00:52<00:00,  1.91it/s]\n"
     ]
    },
    {
     "name": "stdout",
     "output_type": "stream",
     "text": [
      "✅ Updated and saved new grid at ../backend/landscapes/mlp_10_10/two_blobs_overlap/train/range10/ep720\n",
      "Done: two_blobs_overlap, width=10, depth=2, ab_range=10, epoch=720\n",
      "Previously saved model is of lower resolution; recomputing\n"
     ]
    },
    {
     "name": "stderr",
     "output_type": "stream",
     "text": [
      "Outer loop (a): 100%|██████████| 100/100 [00:52<00:00,  1.91it/s]\n"
     ]
    },
    {
     "name": "stdout",
     "output_type": "stream",
     "text": [
      "✅ Updated and saved new grid at ../backend/landscapes/mlp_10_10/two_blobs_separate/train/range0.2/ep640\n",
      "Done: two_blobs_separate, width=10, depth=2, ab_range=0.2, epoch=640\n",
      "Previously saved model is of lower resolution; recomputing\n"
     ]
    },
    {
     "name": "stderr",
     "output_type": "stream",
     "text": [
      "Outer loop (a): 100%|██████████| 100/100 [00:45<00:00,  2.17it/s]\n"
     ]
    },
    {
     "name": "stdout",
     "output_type": "stream",
     "text": [
      "✅ Updated and saved new grid at ../backend/landscapes/mlp_10/spirals/train/range0.5/ep430\n",
      "Done: spirals, width=10, depth=1, ab_range=0.5, epoch=430\n",
      "Previously saved model is of lower resolution; recomputing\n"
     ]
    },
    {
     "name": "stderr",
     "output_type": "stream",
     "text": [
      "Outer loop (a): 100%|██████████| 100/100 [00:49<00:00,  2.03it/s]\n"
     ]
    },
    {
     "name": "stdout",
     "output_type": "stream",
     "text": [
      "✅ Updated and saved new grid at ../backend/landscapes/mlp_10/two_blobs_overlap/train/range0.2/ep460\n",
      "Done: two_blobs_overlap, width=10, depth=1, ab_range=0.2, epoch=460\n",
      "Previously saved model is of lower resolution; recomputing\n"
     ]
    },
    {
     "name": "stderr",
     "output_type": "stream",
     "text": [
      "Outer loop (a): 100%|██████████| 100/100 [00:51<00:00,  1.93it/s]\n"
     ]
    },
    {
     "name": "stdout",
     "output_type": "stream",
     "text": [
      "✅ Updated and saved new grid at ../backend/landscapes/mlp_10_10/two_blobs_overlap/train/range10/ep730\n",
      "Done: two_blobs_overlap, width=10, depth=2, ab_range=10, epoch=730\n",
      "Previously saved model is of lower resolution; recomputing\n"
     ]
    },
    {
     "name": "stderr",
     "output_type": "stream",
     "text": [
      "Outer loop (a): 100%|██████████| 100/100 [00:52<00:00,  1.92it/s]\n"
     ]
    },
    {
     "name": "stdout",
     "output_type": "stream",
     "text": [
      "✅ Updated and saved new grid at ../backend/landscapes/mlp_10_10/two_blobs_separate/train/range0.2/ep650\n",
      "Done: two_blobs_separate, width=10, depth=2, ab_range=0.2, epoch=650\n",
      "Previously saved model is of lower resolution; recomputing\n"
     ]
    },
    {
     "name": "stderr",
     "output_type": "stream",
     "text": [
      "Outer loop (a): 100%|██████████| 100/100 [00:49<00:00,  2.00it/s]\n"
     ]
    },
    {
     "name": "stdout",
     "output_type": "stream",
     "text": [
      "✅ Updated and saved new grid at ../backend/landscapes/mlp_10/spirals/train/range0.5/ep440\n",
      "Done: spirals, width=10, depth=1, ab_range=0.5, epoch=440\n",
      "Previously saved model is of lower resolution; recomputing\n"
     ]
    },
    {
     "name": "stderr",
     "output_type": "stream",
     "text": [
      "Outer loop (a): 100%|██████████| 100/100 [00:47<00:00,  2.11it/s]\n"
     ]
    },
    {
     "name": "stdout",
     "output_type": "stream",
     "text": [
      "✅ Updated and saved new grid at ../backend/landscapes/mlp_10/two_blobs_overlap/train/range0.2/ep470\n",
      "Done: two_blobs_overlap, width=10, depth=1, ab_range=0.2, epoch=470\n",
      "Previously saved model is of lower resolution; recomputing\n"
     ]
    },
    {
     "name": "stderr",
     "output_type": "stream",
     "text": [
      "Outer loop (a): 100%|██████████| 100/100 [00:52<00:00,  1.92it/s]\n"
     ]
    },
    {
     "name": "stdout",
     "output_type": "stream",
     "text": [
      "✅ Updated and saved new grid at ../backend/landscapes/mlp_10_10/two_blobs_overlap/train/range10/ep740\n",
      "Done: two_blobs_overlap, width=10, depth=2, ab_range=10, epoch=740\n",
      "Previously saved model is of lower resolution; recomputing\n"
     ]
    },
    {
     "name": "stderr",
     "output_type": "stream",
     "text": [
      "Outer loop (a): 100%|██████████| 100/100 [00:49<00:00,  2.03it/s]\n"
     ]
    },
    {
     "name": "stdout",
     "output_type": "stream",
     "text": [
      "✅ Updated and saved new grid at ../backend/landscapes/mlp_10_10/two_blobs_separate/train/range0.2/ep660\n",
      "Done: two_blobs_separate, width=10, depth=2, ab_range=0.2, epoch=660\n",
      "Previously saved model is of lower resolution; recomputing\n"
     ]
    },
    {
     "name": "stderr",
     "output_type": "stream",
     "text": [
      "Outer loop (a): 100%|██████████| 100/100 [00:48<00:00,  2.07it/s]\n"
     ]
    },
    {
     "name": "stdout",
     "output_type": "stream",
     "text": [
      "✅ Updated and saved new grid at ../backend/landscapes/mlp_10/spirals/train/range0.5/ep450\n",
      "Done: spirals, width=10, depth=1, ab_range=0.5, epoch=450\n",
      "Previously saved model is of lower resolution; recomputing\n"
     ]
    },
    {
     "name": "stderr",
     "output_type": "stream",
     "text": [
      "Outer loop (a): 100%|██████████| 100/100 [00:50<00:00,  2.00it/s]\n"
     ]
    },
    {
     "name": "stdout",
     "output_type": "stream",
     "text": [
      "✅ Updated and saved new grid at ../backend/landscapes/mlp_10/two_blobs_overlap/train/range0.2/ep480\n",
      "Done: two_blobs_overlap, width=10, depth=1, ab_range=0.2, epoch=480\n",
      "Previously saved model is of lower resolution; recomputing\n"
     ]
    },
    {
     "name": "stderr",
     "output_type": "stream",
     "text": [
      "Outer loop (a): 100%|██████████| 100/100 [00:51<00:00,  1.96it/s]\n"
     ]
    },
    {
     "name": "stdout",
     "output_type": "stream",
     "text": [
      "✅ Updated and saved new grid at ../backend/landscapes/mlp_10_10/two_blobs_separate/train/range0.2/ep670\n",
      "Done: two_blobs_separate, width=10, depth=2, ab_range=0.2, epoch=670\n",
      "Previously saved model is of lower resolution; recomputing\n"
     ]
    },
    {
     "name": "stderr",
     "output_type": "stream",
     "text": [
      "Outer loop (a): 100%|██████████| 100/100 [00:51<00:00,  1.93it/s]\n"
     ]
    },
    {
     "name": "stdout",
     "output_type": "stream",
     "text": [
      "✅ Updated and saved new grid at ../backend/landscapes/mlp_10_10/two_blobs_overlap/train/range10/ep750\n",
      "Done: two_blobs_overlap, width=10, depth=2, ab_range=10, epoch=750\n",
      "Previously saved model is of lower resolution; recomputing\n"
     ]
    },
    {
     "name": "stderr",
     "output_type": "stream",
     "text": [
      "Outer loop (a): 100%|██████████| 100/100 [00:50<00:00,  1.98it/s]\n"
     ]
    },
    {
     "name": "stdout",
     "output_type": "stream",
     "text": [
      "✅ Updated and saved new grid at ../backend/landscapes/mlp_10/spirals/train/range0.5/ep460\n",
      "Done: spirals, width=10, depth=1, ab_range=0.5, epoch=460\n",
      "Previously saved model is of lower resolution; recomputing\n"
     ]
    },
    {
     "name": "stderr",
     "output_type": "stream",
     "text": [
      "Outer loop (a): 100%|██████████| 100/100 [00:50<00:00,  1.99it/s]\n"
     ]
    },
    {
     "name": "stdout",
     "output_type": "stream",
     "text": [
      "✅ Updated and saved new grid at ../backend/landscapes/mlp_10/two_blobs_overlap/train/range0.2/ep490\n",
      "Done: two_blobs_overlap, width=10, depth=1, ab_range=0.2, epoch=490\n",
      "Previously saved model is of lower resolution; recomputing\n"
     ]
    },
    {
     "name": "stderr",
     "output_type": "stream",
     "text": [
      "Outer loop (a): 100%|██████████| 100/100 [00:51<00:00,  1.95it/s]\n"
     ]
    },
    {
     "name": "stdout",
     "output_type": "stream",
     "text": [
      "✅ Updated and saved new grid at ../backend/landscapes/mlp_10_10/two_blobs_separate/train/range0.2/ep680\n",
      "Done: two_blobs_separate, width=10, depth=2, ab_range=0.2, epoch=680\n",
      "Previously saved model is of lower resolution; recomputing\n"
     ]
    },
    {
     "name": "stderr",
     "output_type": "stream",
     "text": [
      "Outer loop (a): 100%|██████████| 100/100 [00:51<00:00,  1.92it/s]\n"
     ]
    },
    {
     "name": "stdout",
     "output_type": "stream",
     "text": [
      "✅ Updated and saved new grid at ../backend/landscapes/mlp_10_10/two_blobs_overlap/train/range10/ep760\n",
      "Done: two_blobs_overlap, width=10, depth=2, ab_range=10, epoch=760\n",
      "Previously saved model is of lower resolution; recomputing\n"
     ]
    },
    {
     "name": "stderr",
     "output_type": "stream",
     "text": [
      "Outer loop (a): 100%|██████████| 100/100 [00:48<00:00,  2.07it/s]\n"
     ]
    },
    {
     "name": "stdout",
     "output_type": "stream",
     "text": [
      "✅ Updated and saved new grid at ../backend/landscapes/mlp_10/spirals/train/range0.5/ep470\n",
      "Done: spirals, width=10, depth=1, ab_range=0.5, epoch=470\n",
      "Previously saved model is of lower resolution; recomputing\n"
     ]
    },
    {
     "name": "stderr",
     "output_type": "stream",
     "text": [
      "Outer loop (a): 100%|██████████| 100/100 [00:48<00:00,  2.06it/s]\n"
     ]
    },
    {
     "name": "stdout",
     "output_type": "stream",
     "text": [
      "✅ Updated and saved new grid at ../backend/landscapes/mlp_10/two_blobs_overlap/train/range0.2/ep500\n",
      "Done: two_blobs_overlap, width=10, depth=1, ab_range=0.2, epoch=500\n",
      "Previously saved model is of lower resolution; recomputing\n"
     ]
    },
    {
     "name": "stderr",
     "output_type": "stream",
     "text": [
      "Outer loop (a): 100%|██████████| 100/100 [00:50<00:00,  1.97it/s]\n"
     ]
    },
    {
     "name": "stdout",
     "output_type": "stream",
     "text": [
      "✅ Updated and saved new grid at ../backend/landscapes/mlp_10_10/two_blobs_separate/train/range0.2/ep690\n",
      "Done: two_blobs_separate, width=10, depth=2, ab_range=0.2, epoch=690\n",
      "Previously saved model is of lower resolution; recomputing\n"
     ]
    },
    {
     "name": "stderr",
     "output_type": "stream",
     "text": [
      "Outer loop (a): 100%|██████████| 100/100 [00:49<00:00,  2.03it/s]\n"
     ]
    },
    {
     "name": "stdout",
     "output_type": "stream",
     "text": [
      "✅ Updated and saved new grid at ../backend/landscapes/mlp_10/spirals/train/range0.5/ep480\n",
      "Done: spirals, width=10, depth=1, ab_range=0.5, epoch=480\n",
      "Previously saved model is of lower resolution; recomputing\n"
     ]
    },
    {
     "name": "stderr",
     "output_type": "stream",
     "text": [
      "Outer loop (a): 100%|██████████| 100/100 [00:53<00:00,  1.86it/s]\n"
     ]
    },
    {
     "name": "stdout",
     "output_type": "stream",
     "text": [
      "✅ Updated and saved new grid at ../backend/landscapes/mlp_10_10/two_blobs_overlap/train/range10/ep770\n",
      "Done: two_blobs_overlap, width=10, depth=2, ab_range=10, epoch=770\n",
      "Previously saved model is of lower resolution; recomputing\n"
     ]
    },
    {
     "name": "stderr",
     "output_type": "stream",
     "text": [
      "Outer loop (a): 100%|██████████| 100/100 [00:48<00:00,  2.08it/s]\n"
     ]
    },
    {
     "name": "stdout",
     "output_type": "stream",
     "text": [
      "✅ Updated and saved new grid at ../backend/landscapes/mlp_10/two_blobs_overlap/train/range0.2/ep510\n",
      "Done: two_blobs_overlap, width=10, depth=1, ab_range=0.2, epoch=510\n",
      "Previously saved model is of lower resolution; recomputing\n"
     ]
    },
    {
     "name": "stderr",
     "output_type": "stream",
     "text": [
      "Outer loop (a): 100%|██████████| 100/100 [00:52<00:00,  1.91it/s]\n"
     ]
    },
    {
     "name": "stdout",
     "output_type": "stream",
     "text": [
      "✅ Updated and saved new grid at ../backend/landscapes/mlp_10_10/two_blobs_separate/train/range0.2/ep700\n",
      "Done: two_blobs_separate, width=10, depth=2, ab_range=0.2, epoch=700\n",
      "Previously saved model is of lower resolution; recomputing\n"
     ]
    },
    {
     "name": "stderr",
     "output_type": "stream",
     "text": [
      "Outer loop (a): 100%|██████████| 100/100 [00:51<00:00,  1.95it/s]\n"
     ]
    },
    {
     "name": "stdout",
     "output_type": "stream",
     "text": [
      "✅ Updated and saved new grid at ../backend/landscapes/mlp_10/spirals/train/range0.5/ep490\n",
      "Done: spirals, width=10, depth=1, ab_range=0.5, epoch=490\n",
      "Previously saved model is of lower resolution; recomputing\n"
     ]
    },
    {
     "name": "stderr",
     "output_type": "stream",
     "text": [
      "Outer loop (a): 100%|██████████| 100/100 [00:52<00:00,  1.92it/s]\n"
     ]
    },
    {
     "name": "stdout",
     "output_type": "stream",
     "text": [
      "✅ Updated and saved new grid at ../backend/landscapes/mlp_10_10/two_blobs_overlap/train/range10/ep780\n",
      "Done: two_blobs_overlap, width=10, depth=2, ab_range=10, epoch=780\n",
      "Previously saved model is of lower resolution; recomputing\n"
     ]
    },
    {
     "name": "stderr",
     "output_type": "stream",
     "text": [
      "Outer loop (a): 100%|██████████| 100/100 [00:50<00:00,  1.98it/s]\n"
     ]
    },
    {
     "name": "stdout",
     "output_type": "stream",
     "text": [
      "✅ Updated and saved new grid at ../backend/landscapes/mlp_10/two_blobs_overlap/train/range0.2/ep520\n",
      "Done: two_blobs_overlap, width=10, depth=1, ab_range=0.2, epoch=520\n",
      "Previously saved model is of lower resolution; recomputing\n"
     ]
    },
    {
     "name": "stderr",
     "output_type": "stream",
     "text": [
      "Outer loop (a): 100%|██████████| 100/100 [00:49<00:00,  2.03it/s]\n"
     ]
    },
    {
     "name": "stdout",
     "output_type": "stream",
     "text": [
      "✅ Updated and saved new grid at ../backend/landscapes/mlp_10/spirals/train/range0.5/ep500\n",
      "Done: spirals, width=10, depth=1, ab_range=0.5, epoch=500\n",
      "Previously saved model is of lower resolution; recomputing\n"
     ]
    },
    {
     "name": "stderr",
     "output_type": "stream",
     "text": [
      "Outer loop (a): 100%|██████████| 100/100 [00:51<00:00,  1.94it/s]\n"
     ]
    },
    {
     "name": "stdout",
     "output_type": "stream",
     "text": [
      "✅ Updated and saved new grid at ../backend/landscapes/mlp_10_10/two_blobs_separate/train/range0.2/ep710\n",
      "Done: two_blobs_separate, width=10, depth=2, ab_range=0.2, epoch=710\n",
      "Previously saved model is of lower resolution; recomputing\n"
     ]
    },
    {
     "name": "stderr",
     "output_type": "stream",
     "text": [
      "Outer loop (a): 100%|██████████| 100/100 [00:51<00:00,  1.94it/s]\n"
     ]
    },
    {
     "name": "stdout",
     "output_type": "stream",
     "text": [
      "✅ Updated and saved new grid at ../backend/landscapes/mlp_10_10/two_blobs_overlap/train/range10/ep790\n",
      "Done: two_blobs_overlap, width=10, depth=2, ab_range=10, epoch=790\n",
      "Previously saved model is of lower resolution; recomputing\n"
     ]
    },
    {
     "name": "stderr",
     "output_type": "stream",
     "text": [
      "Outer loop (a): 100%|██████████| 100/100 [00:49<00:00,  2.04it/s]\n"
     ]
    },
    {
     "name": "stdout",
     "output_type": "stream",
     "text": [
      "✅ Updated and saved new grid at ../backend/landscapes/mlp_10/two_blobs_overlap/train/range0.2/ep530\n",
      "Done: two_blobs_overlap, width=10, depth=1, ab_range=0.2, epoch=530\n",
      "Previously saved model is of lower resolution; recomputing\n"
     ]
    },
    {
     "name": "stderr",
     "output_type": "stream",
     "text": [
      "Outer loop (a): 100%|██████████| 100/100 [00:48<00:00,  2.06it/s]\n"
     ]
    },
    {
     "name": "stdout",
     "output_type": "stream",
     "text": [
      "✅ Updated and saved new grid at ../backend/landscapes/mlp_10/spirals/train/range0.5/ep510\n",
      "Done: spirals, width=10, depth=1, ab_range=0.5, epoch=510\n",
      "Previously saved model is of lower resolution; recomputing\n"
     ]
    },
    {
     "name": "stderr",
     "output_type": "stream",
     "text": [
      "Outer loop (a): 100%|██████████| 100/100 [00:50<00:00,  1.98it/s]\n"
     ]
    },
    {
     "name": "stdout",
     "output_type": "stream",
     "text": [
      "✅ Updated and saved new grid at ../backend/landscapes/mlp_10_10/two_blobs_separate/train/range0.2/ep720\n",
      "Done: two_blobs_separate, width=10, depth=2, ab_range=0.2, epoch=720\n",
      "Previously saved model is of lower resolution; recomputing\n"
     ]
    },
    {
     "name": "stderr",
     "output_type": "stream",
     "text": [
      "Outer loop (a): 100%|██████████| 100/100 [00:47<00:00,  2.10it/s]\n"
     ]
    },
    {
     "name": "stdout",
     "output_type": "stream",
     "text": [
      "✅ Updated and saved new grid at ../backend/landscapes/mlp_10/two_blobs_overlap/train/range0.2/ep540\n",
      "Done: two_blobs_overlap, width=10, depth=1, ab_range=0.2, epoch=540\n",
      "Previously saved model is of lower resolution; recomputing\n"
     ]
    },
    {
     "name": "stderr",
     "output_type": "stream",
     "text": [
      "Outer loop (a): 100%|██████████| 100/100 [00:51<00:00,  1.96it/s]\n"
     ]
    },
    {
     "name": "stdout",
     "output_type": "stream",
     "text": [
      "✅ Updated and saved new grid at ../backend/landscapes/mlp_10_10/two_blobs_overlap/train/range10/ep800\n",
      "Done: two_blobs_overlap, width=10, depth=2, ab_range=10, epoch=800\n",
      "Previously saved model is of lower resolution; recomputing\n"
     ]
    },
    {
     "name": "stderr",
     "output_type": "stream",
     "text": [
      "Outer loop (a): 100%|██████████| 100/100 [00:49<00:00,  2.03it/s]\n"
     ]
    },
    {
     "name": "stdout",
     "output_type": "stream",
     "text": [
      "✅ Updated and saved new grid at ../backend/landscapes/mlp_10/spirals/train/range0.5/ep520\n",
      "Done: spirals, width=10, depth=1, ab_range=0.5, epoch=520\n",
      "Previously saved model is of lower resolution; recomputing\n"
     ]
    },
    {
     "name": "stderr",
     "output_type": "stream",
     "text": [
      "Outer loop (a): 100%|██████████| 100/100 [00:47<00:00,  2.11it/s]\n"
     ]
    },
    {
     "name": "stdout",
     "output_type": "stream",
     "text": [
      "✅ Updated and saved new grid at ../backend/landscapes/mlp_10/two_blobs_overlap/train/range0.2/ep550\n",
      "Done: two_blobs_overlap, width=10, depth=1, ab_range=0.2, epoch=550\n",
      "Previously saved model is of lower resolution; recomputing\n"
     ]
    },
    {
     "name": "stderr",
     "output_type": "stream",
     "text": [
      "Outer loop (a): 100%|██████████| 100/100 [00:51<00:00,  1.93it/s]\n"
     ]
    },
    {
     "name": "stdout",
     "output_type": "stream",
     "text": [
      "✅ Updated and saved new grid at ../backend/landscapes/mlp_10_10/two_blobs_separate/train/range0.2/ep730\n",
      "Done: two_blobs_separate, width=10, depth=2, ab_range=0.2, epoch=730\n",
      "Previously saved model is of lower resolution; recomputing\n"
     ]
    },
    {
     "name": "stderr",
     "output_type": "stream",
     "text": [
      "Outer loop (a): 100%|██████████| 100/100 [00:51<00:00,  1.94it/s]\n"
     ]
    },
    {
     "name": "stdout",
     "output_type": "stream",
     "text": [
      "✅ Updated and saved new grid at ../backend/landscapes/mlp_10_10/two_blobs_overlap/train/range10/ep810\n",
      "Done: two_blobs_overlap, width=10, depth=2, ab_range=10, epoch=810\n",
      "Previously saved model is of lower resolution; recomputing\n"
     ]
    },
    {
     "name": "stderr",
     "output_type": "stream",
     "text": [
      "Outer loop (a): 100%|██████████| 100/100 [00:50<00:00,  2.00it/s]\n"
     ]
    },
    {
     "name": "stdout",
     "output_type": "stream",
     "text": [
      "✅ Updated and saved new grid at ../backend/landscapes/mlp_10/spirals/train/range0.5/ep530\n",
      "Done: spirals, width=10, depth=1, ab_range=0.5, epoch=530\n",
      "Previously saved model is of lower resolution; recomputing\n"
     ]
    },
    {
     "name": "stderr",
     "output_type": "stream",
     "text": [
      "Outer loop (a): 100%|██████████| 100/100 [00:48<00:00,  2.06it/s]\n"
     ]
    },
    {
     "name": "stdout",
     "output_type": "stream",
     "text": [
      "✅ Updated and saved new grid at ../backend/landscapes/mlp_10/two_blobs_overlap/train/range0.2/ep560\n",
      "Done: two_blobs_overlap, width=10, depth=1, ab_range=0.2, epoch=560\n",
      "Previously saved model is of lower resolution; recomputing\n"
     ]
    },
    {
     "name": "stderr",
     "output_type": "stream",
     "text": [
      "Outer loop (a): 100%|██████████| 100/100 [00:50<00:00,  1.99it/s]\n"
     ]
    },
    {
     "name": "stdout",
     "output_type": "stream",
     "text": [
      "✅ Updated and saved new grid at ../backend/landscapes/mlp_10_10/two_blobs_separate/train/range0.2/ep740\n",
      "Done: two_blobs_separate, width=10, depth=2, ab_range=0.2, epoch=740\n",
      "Previously saved model is of lower resolution; recomputing\n"
     ]
    },
    {
     "name": "stderr",
     "output_type": "stream",
     "text": [
      "Outer loop (a): 100%|██████████| 100/100 [00:52<00:00,  1.91it/s]\n"
     ]
    },
    {
     "name": "stdout",
     "output_type": "stream",
     "text": [
      "✅ Updated and saved new grid at ../backend/landscapes/mlp_10_10/two_blobs_overlap/train/range10/ep820\n",
      "Done: two_blobs_overlap, width=10, depth=2, ab_range=10, epoch=820\n",
      "Previously saved model is of lower resolution; recomputing\n"
     ]
    },
    {
     "name": "stderr",
     "output_type": "stream",
     "text": [
      "Outer loop (a): 100%|██████████| 100/100 [00:48<00:00,  2.06it/s]\n"
     ]
    },
    {
     "name": "stdout",
     "output_type": "stream",
     "text": [
      "✅ Updated and saved new grid at ../backend/landscapes/mlp_10/spirals/train/range0.5/ep540\n",
      "Done: spirals, width=10, depth=1, ab_range=0.5, epoch=540\n",
      "Previously saved model is of lower resolution; recomputing\n"
     ]
    },
    {
     "name": "stderr",
     "output_type": "stream",
     "text": [
      "Outer loop (a): 100%|██████████| 100/100 [00:49<00:00,  2.02it/s]\n"
     ]
    },
    {
     "name": "stdout",
     "output_type": "stream",
     "text": [
      "✅ Updated and saved new grid at ../backend/landscapes/mlp_10/two_blobs_overlap/train/range0.2/ep570\n",
      "Done: two_blobs_overlap, width=10, depth=1, ab_range=0.2, epoch=570\n",
      "Previously saved model is of lower resolution; recomputing\n"
     ]
    },
    {
     "name": "stderr",
     "output_type": "stream",
     "text": [
      "Outer loop (a): 100%|██████████| 100/100 [00:50<00:00,  1.98it/s]\n"
     ]
    },
    {
     "name": "stdout",
     "output_type": "stream",
     "text": [
      "✅ Updated and saved new grid at ../backend/landscapes/mlp_10_10/two_blobs_separate/train/range0.2/ep750\n",
      "Done: two_blobs_separate, width=10, depth=2, ab_range=0.2, epoch=750\n",
      "Previously saved model is of lower resolution; recomputing\n"
     ]
    },
    {
     "name": "stderr",
     "output_type": "stream",
     "text": [
      "Outer loop (a): 100%|██████████| 100/100 [00:51<00:00,  1.95it/s]\n"
     ]
    },
    {
     "name": "stdout",
     "output_type": "stream",
     "text": [
      "✅ Updated and saved new grid at ../backend/landscapes/mlp_10_10/two_blobs_overlap/train/range10/ep830\n",
      "Done: two_blobs_overlap, width=10, depth=2, ab_range=10, epoch=830\n",
      "Previously saved model is of lower resolution; recomputing\n"
     ]
    },
    {
     "name": "stderr",
     "output_type": "stream",
     "text": [
      "Outer loop (a): 100%|██████████| 100/100 [00:47<00:00,  2.12it/s]\n"
     ]
    },
    {
     "name": "stdout",
     "output_type": "stream",
     "text": [
      "✅ Updated and saved new grid at ../backend/landscapes/mlp_10/spirals/train/range0.5/ep550\n",
      "Done: spirals, width=10, depth=1, ab_range=0.5, epoch=550\n",
      "Previously saved model is of lower resolution; recomputing\n"
     ]
    },
    {
     "name": "stderr",
     "output_type": "stream",
     "text": [
      "Outer loop (a): 100%|██████████| 100/100 [00:50<00:00,  1.99it/s]\n"
     ]
    },
    {
     "name": "stdout",
     "output_type": "stream",
     "text": [
      "✅ Updated and saved new grid at ../backend/landscapes/mlp_10/two_blobs_overlap/train/range0.2/ep580\n",
      "Done: two_blobs_overlap, width=10, depth=1, ab_range=0.2, epoch=580\n",
      "Previously saved model is of lower resolution; recomputing\n"
     ]
    },
    {
     "name": "stderr",
     "output_type": "stream",
     "text": [
      "Outer loop (a): 100%|██████████| 100/100 [00:51<00:00,  1.95it/s]\n"
     ]
    },
    {
     "name": "stdout",
     "output_type": "stream",
     "text": [
      "✅ Updated and saved new grid at ../backend/landscapes/mlp_10_10/two_blobs_separate/train/range0.2/ep760\n",
      "Done: two_blobs_separate, width=10, depth=2, ab_range=0.2, epoch=760\n",
      "Previously saved model is of lower resolution; recomputing\n"
     ]
    },
    {
     "name": "stderr",
     "output_type": "stream",
     "text": [
      "Outer loop (a): 100%|██████████| 100/100 [00:52<00:00,  1.91it/s]\n"
     ]
    },
    {
     "name": "stdout",
     "output_type": "stream",
     "text": [
      "✅ Updated and saved new grid at ../backend/landscapes/mlp_10_10/two_blobs_overlap/train/range10/ep840\n",
      "Done: two_blobs_overlap, width=10, depth=2, ab_range=10, epoch=840\n",
      "Previously saved model is of lower resolution; recomputing\n"
     ]
    },
    {
     "name": "stderr",
     "output_type": "stream",
     "text": [
      "Outer loop (a): 100%|██████████| 100/100 [00:48<00:00,  2.06it/s]\n"
     ]
    },
    {
     "name": "stdout",
     "output_type": "stream",
     "text": [
      "✅ Updated and saved new grid at ../backend/landscapes/mlp_10/spirals/train/range0.5/ep560\n",
      "Done: spirals, width=10, depth=1, ab_range=0.5, epoch=560\n",
      "Previously saved model is of lower resolution; recomputing\n"
     ]
    },
    {
     "name": "stderr",
     "output_type": "stream",
     "text": [
      "Outer loop (a): 100%|██████████| 100/100 [00:47<00:00,  2.12it/s]\n"
     ]
    },
    {
     "name": "stdout",
     "output_type": "stream",
     "text": [
      "✅ Updated and saved new grid at ../backend/landscapes/mlp_10/two_blobs_overlap/train/range0.2/ep590\n",
      "Done: two_blobs_overlap, width=10, depth=1, ab_range=0.2, epoch=590\n",
      "Previously saved model is of lower resolution; recomputing\n"
     ]
    },
    {
     "name": "stderr",
     "output_type": "stream",
     "text": [
      "Outer loop (a): 100%|██████████| 100/100 [00:51<00:00,  1.93it/s]\n"
     ]
    },
    {
     "name": "stdout",
     "output_type": "stream",
     "text": [
      "✅ Updated and saved new grid at ../backend/landscapes/mlp_10_10/two_blobs_separate/train/range0.2/ep770\n",
      "Done: two_blobs_separate, width=10, depth=2, ab_range=0.2, epoch=770\n",
      "Previously saved model is of lower resolution; recomputing\n"
     ]
    },
    {
     "name": "stderr",
     "output_type": "stream",
     "text": [
      "Outer loop (a): 100%|██████████| 100/100 [00:51<00:00,  1.93it/s]\n"
     ]
    },
    {
     "name": "stdout",
     "output_type": "stream",
     "text": [
      "✅ Updated and saved new grid at ../backend/landscapes/mlp_10_10/two_blobs_overlap/train/range10/ep850\n",
      "Done: two_blobs_overlap, width=10, depth=2, ab_range=10, epoch=850\n",
      "Previously saved model is of lower resolution; recomputing\n"
     ]
    },
    {
     "name": "stderr",
     "output_type": "stream",
     "text": [
      "Outer loop (a): 100%|██████████| 100/100 [00:47<00:00,  2.10it/s]\n"
     ]
    },
    {
     "name": "stdout",
     "output_type": "stream",
     "text": [
      "✅ Updated and saved new grid at ../backend/landscapes/mlp_10/spirals/train/range0.5/ep570\n",
      "Done: spirals, width=10, depth=1, ab_range=0.5, epoch=570\n",
      "Previously saved model is of lower resolution; recomputing\n"
     ]
    },
    {
     "name": "stderr",
     "output_type": "stream",
     "text": [
      "Outer loop (a): 100%|██████████| 100/100 [00:49<00:00,  2.01it/s]\n"
     ]
    },
    {
     "name": "stdout",
     "output_type": "stream",
     "text": [
      "✅ Updated and saved new grid at ../backend/landscapes/mlp_10/two_blobs_overlap/train/range0.2/ep600\n",
      "Done: two_blobs_overlap, width=10, depth=1, ab_range=0.2, epoch=600\n",
      "Previously saved model is of lower resolution; recomputing\n"
     ]
    },
    {
     "name": "stderr",
     "output_type": "stream",
     "text": [
      "Outer loop (a): 100%|██████████| 100/100 [00:51<00:00,  1.93it/s]\n"
     ]
    },
    {
     "name": "stdout",
     "output_type": "stream",
     "text": [
      "✅ Updated and saved new grid at ../backend/landscapes/mlp_10_10/two_blobs_separate/train/range0.2/ep780\n",
      "Done: two_blobs_separate, width=10, depth=2, ab_range=0.2, epoch=780\n",
      "Previously saved model is of lower resolution; recomputing\n"
     ]
    },
    {
     "name": "stderr",
     "output_type": "stream",
     "text": [
      "Outer loop (a): 100%|██████████| 100/100 [00:51<00:00,  1.93it/s]\n"
     ]
    },
    {
     "name": "stdout",
     "output_type": "stream",
     "text": [
      "✅ Updated and saved new grid at ../backend/landscapes/mlp_10_10/two_blobs_overlap/train/range10/ep860\n",
      "Done: two_blobs_overlap, width=10, depth=2, ab_range=10, epoch=860\n",
      "Previously saved model is of lower resolution; recomputing\n"
     ]
    },
    {
     "name": "stderr",
     "output_type": "stream",
     "text": [
      "Outer loop (a): 100%|██████████| 100/100 [00:49<00:00,  2.01it/s]\n"
     ]
    },
    {
     "name": "stdout",
     "output_type": "stream",
     "text": [
      "✅ Updated and saved new grid at ../backend/landscapes/mlp_10/spirals/train/range0.5/ep580\n",
      "Done: spirals, width=10, depth=1, ab_range=0.5, epoch=580\n",
      "Previously saved model is of lower resolution; recomputing\n"
     ]
    },
    {
     "name": "stderr",
     "output_type": "stream",
     "text": [
      "Outer loop (a): 100%|██████████| 100/100 [00:48<00:00,  2.08it/s]\n"
     ]
    },
    {
     "name": "stdout",
     "output_type": "stream",
     "text": [
      "✅ Updated and saved new grid at ../backend/landscapes/mlp_10/two_blobs_overlap/train/range0.2/ep610\n",
      "Done: two_blobs_overlap, width=10, depth=1, ab_range=0.2, epoch=610\n",
      "Previously saved model is of lower resolution; recomputing\n"
     ]
    },
    {
     "name": "stderr",
     "output_type": "stream",
     "text": [
      "Outer loop (a): 100%|██████████| 100/100 [00:53<00:00,  1.88it/s]\n"
     ]
    },
    {
     "name": "stdout",
     "output_type": "stream",
     "text": [
      "✅ Updated and saved new grid at ../backend/landscapes/mlp_10_10/two_blobs_separate/train/range0.2/ep790\n",
      "Done: two_blobs_separate, width=10, depth=2, ab_range=0.2, epoch=790\n",
      "Previously saved model is of lower resolution; recomputing\n"
     ]
    },
    {
     "name": "stderr",
     "output_type": "stream",
     "text": [
      "Outer loop (a): 100%|██████████| 100/100 [00:52<00:00,  1.90it/s]\n"
     ]
    },
    {
     "name": "stdout",
     "output_type": "stream",
     "text": [
      "✅ Updated and saved new grid at ../backend/landscapes/mlp_10_10/two_blobs_overlap/train/range10/ep870\n",
      "Done: two_blobs_overlap, width=10, depth=2, ab_range=10, epoch=870\n",
      "Previously saved model is of lower resolution; recomputing\n"
     ]
    },
    {
     "name": "stderr",
     "output_type": "stream",
     "text": [
      "Outer loop (a): 100%|██████████| 100/100 [00:49<00:00,  2.04it/s]\n"
     ]
    },
    {
     "name": "stdout",
     "output_type": "stream",
     "text": [
      "✅ Updated and saved new grid at ../backend/landscapes/mlp_10/spirals/train/range0.5/ep590\n",
      "Done: spirals, width=10, depth=1, ab_range=0.5, epoch=590\n",
      "Previously saved model is of lower resolution; recomputing\n"
     ]
    },
    {
     "name": "stderr",
     "output_type": "stream",
     "text": [
      "Outer loop (a): 100%|██████████| 100/100 [00:48<00:00,  2.08it/s]\n"
     ]
    },
    {
     "name": "stdout",
     "output_type": "stream",
     "text": [
      "✅ Updated and saved new grid at ../backend/landscapes/mlp_10/two_blobs_overlap/train/range0.2/ep620\n",
      "Done: two_blobs_overlap, width=10, depth=1, ab_range=0.2, epoch=620\n",
      "Previously saved model is of lower resolution; recomputing\n"
     ]
    },
    {
     "name": "stderr",
     "output_type": "stream",
     "text": [
      "Outer loop (a): 100%|██████████| 100/100 [00:53<00:00,  1.85it/s]\n"
     ]
    },
    {
     "name": "stdout",
     "output_type": "stream",
     "text": [
      "✅ Updated and saved new grid at ../backend/landscapes/mlp_10_10/two_blobs_separate/train/range0.2/ep800\n",
      "Done: two_blobs_separate, width=10, depth=2, ab_range=0.2, epoch=800\n",
      "Previously saved model is of lower resolution; recomputing\n"
     ]
    },
    {
     "name": "stderr",
     "output_type": "stream",
     "text": [
      "Outer loop (a): 100%|██████████| 100/100 [00:50<00:00,  1.96it/s]\n"
     ]
    },
    {
     "name": "stdout",
     "output_type": "stream",
     "text": [
      "✅ Updated and saved new grid at ../backend/landscapes/mlp_10_10/two_blobs_overlap/train/range10/ep880"
     ]
    },
    {
     "name": "stderr",
     "output_type": "stream",
     "text": [
      "Outer loop (a):  10%|█         | 10/100 [00:04<00:44,  2.04it/s]"
     ]
    },
    {
     "name": "stdout",
     "output_type": "stream",
     "text": [
      "\n",
      "Done: two_blobs_overlap, width=10, depth=2, ab_range=10, epoch=880\n",
      "Previously saved model is of lower resolution; recomputing\n"
     ]
    },
    {
     "name": "stderr",
     "output_type": "stream",
     "text": [
      "Outer loop (a): 100%|██████████| 100/100 [00:49<00:00,  2.00it/s]\n"
     ]
    },
    {
     "name": "stdout",
     "output_type": "stream",
     "text": [
      "✅ Updated and saved new grid at ../backend/landscapes/mlp_10/spirals/train/range0.5/ep600\n",
      "Done: spirals, width=10, depth=1, ab_range=0.5, epoch=600\n",
      "Previously saved model is of lower resolution; recomputing\n"
     ]
    },
    {
     "name": "stderr",
     "output_type": "stream",
     "text": [
      "Outer loop (a): 100%|██████████| 100/100 [00:48<00:00,  2.08it/s]\n"
     ]
    },
    {
     "name": "stdout",
     "output_type": "stream",
     "text": [
      "✅ Updated and saved new grid at ../backend/landscapes/mlp_10/two_blobs_overlap/train/range0.2/ep630\n",
      "Done: two_blobs_overlap, width=10, depth=1, ab_range=0.2, epoch=630\n",
      "Previously saved model is of lower resolution; recomputing\n"
     ]
    },
    {
     "name": "stderr",
     "output_type": "stream",
     "text": [
      "Outer loop (a): 100%|██████████| 100/100 [00:52<00:00,  1.92it/s]\n"
     ]
    },
    {
     "name": "stdout",
     "output_type": "stream",
     "text": [
      "✅ Updated and saved new grid at ../backend/landscapes/mlp_10_10/two_blobs_separate/train/range0.2/ep810\n",
      "Done: two_blobs_separate, width=10, depth=2, ab_range=0.2, epoch=810\n",
      "Previously saved model is of lower resolution; recomputing\n"
     ]
    },
    {
     "name": "stderr",
     "output_type": "stream",
     "text": [
      "Outer loop (a): 100%|██████████| 100/100 [00:49<00:00,  2.03it/s]\n"
     ]
    },
    {
     "name": "stdout",
     "output_type": "stream",
     "text": [
      "✅ Updated and saved new grid at ../backend/landscapes/mlp_10_10/two_blobs_overlap/train/range10/ep890\n",
      "Done: two_blobs_overlap, width=10, depth=2, ab_range=10, epoch=890\n",
      "Previously saved model is of lower resolution; recomputing\n"
     ]
    },
    {
     "name": "stderr",
     "output_type": "stream",
     "text": [
      "Outer loop (a): 100%|██████████| 100/100 [00:48<00:00,  2.05it/s]\n"
     ]
    },
    {
     "name": "stdout",
     "output_type": "stream",
     "text": [
      "✅ Updated and saved new grid at ../backend/landscapes/mlp_10/spirals/train/range0.5/ep610\n",
      "Done: spirals, width=10, depth=1, ab_range=0.5, epoch=610\n",
      "Previously saved model is of lower resolution; recomputing\n"
     ]
    },
    {
     "name": "stderr",
     "output_type": "stream",
     "text": [
      "Outer loop (a): 100%|██████████| 100/100 [00:49<00:00,  2.01it/s]\n"
     ]
    },
    {
     "name": "stdout",
     "output_type": "stream",
     "text": [
      "✅ Updated and saved new grid at ../backend/landscapes/mlp_10/two_blobs_overlap/train/range0.2/ep640\n",
      "Done: two_blobs_overlap, width=10, depth=1, ab_range=0.2, epoch=640\n",
      "Previously saved model is of lower resolution; recomputing\n"
     ]
    },
    {
     "name": "stderr",
     "output_type": "stream",
     "text": [
      "Outer loop (a): 100%|██████████| 100/100 [00:52<00:00,  1.92it/s]\n"
     ]
    },
    {
     "name": "stdout",
     "output_type": "stream",
     "text": [
      "✅ Updated and saved new grid at ../backend/landscapes/mlp_10_10/two_blobs_separate/train/range0.2/ep820\n",
      "Done: two_blobs_separate, width=10, depth=2, ab_range=0.2, epoch=820\n",
      "Previously saved model is of lower resolution; recomputing\n"
     ]
    },
    {
     "name": "stderr",
     "output_type": "stream",
     "text": [
      "Outer loop (a): 100%|██████████| 100/100 [00:50<00:00,  2.00it/s]\n"
     ]
    },
    {
     "name": "stdout",
     "output_type": "stream",
     "text": [
      "✅ Updated and saved new grid at ../backend/landscapes/mlp_10_10/two_blobs_overlap/train/range10/ep900\n",
      "Done: two_blobs_overlap, width=10, depth=2, ab_range=10, epoch=900\n",
      "Previously saved model is of lower resolution; recomputing\n"
     ]
    },
    {
     "name": "stderr",
     "output_type": "stream",
     "text": [
      "Outer loop (a): 100%|██████████| 100/100 [00:45<00:00,  2.17it/s]\n"
     ]
    },
    {
     "name": "stdout",
     "output_type": "stream",
     "text": [
      "✅ Updated and saved new grid at ../backend/landscapes/mlp_10/spirals/train/range0.5/ep620\n",
      "Done: spirals, width=10, depth=1, ab_range=0.5, epoch=620\n",
      "Previously saved model is of lower resolution; recomputing\n"
     ]
    },
    {
     "name": "stderr",
     "output_type": "stream",
     "text": [
      "Outer loop (a): 100%|██████████| 100/100 [00:50<00:00,  1.99it/s]\n"
     ]
    },
    {
     "name": "stdout",
     "output_type": "stream",
     "text": [
      "✅ Updated and saved new grid at ../backend/landscapes/mlp_10/two_blobs_overlap/train/range0.2/ep650\n",
      "Done: two_blobs_overlap, width=10, depth=1, ab_range=0.2, epoch=650\n",
      "Previously saved model is of lower resolution; recomputing\n"
     ]
    },
    {
     "name": "stderr",
     "output_type": "stream",
     "text": [
      "Outer loop (a): 100%|██████████| 100/100 [00:51<00:00,  1.94it/s]\n"
     ]
    },
    {
     "name": "stdout",
     "output_type": "stream",
     "text": [
      "✅ Updated and saved new grid at ../backend/landscapes/mlp_10_10/two_blobs_separate/train/range0.2/ep830\n",
      "Done: two_blobs_separate, width=10, depth=2, ab_range=0.2, epoch=830\n",
      "Previously saved model is of lower resolution; recomputing\n"
     ]
    },
    {
     "name": "stderr",
     "output_type": "stream",
     "text": [
      "Outer loop (a): 100%|██████████| 100/100 [00:52<00:00,  1.92it/s]\n"
     ]
    },
    {
     "name": "stdout",
     "output_type": "stream",
     "text": [
      "✅ Updated and saved new grid at ../backend/landscapes/mlp_10_10/two_blobs_overlap/train/range10/ep910\n",
      "Done: two_blobs_overlap, width=10, depth=2, ab_range=10, epoch=910\n",
      "Previously saved model is of lower resolution; recomputing\n"
     ]
    },
    {
     "name": "stderr",
     "output_type": "stream",
     "text": [
      "Outer loop (a): 100%|██████████| 100/100 [00:48<00:00,  2.07it/s]\n"
     ]
    },
    {
     "name": "stdout",
     "output_type": "stream",
     "text": [
      "✅ Updated and saved new grid at ../backend/landscapes/mlp_10/spirals/train/range0.5/ep630\n",
      "Done: spirals, width=10, depth=1, ab_range=0.5, epoch=630\n",
      "Previously saved model is of lower resolution; recomputing\n"
     ]
    },
    {
     "name": "stderr",
     "output_type": "stream",
     "text": [
      "Outer loop (a): 100%|██████████| 100/100 [00:49<00:00,  2.02it/s]\n"
     ]
    },
    {
     "name": "stdout",
     "output_type": "stream",
     "text": [
      "✅ Updated and saved new grid at ../backend/landscapes/mlp_10/two_blobs_overlap/train/range0.2/ep660\n",
      "Done: two_blobs_overlap, width=10, depth=1, ab_range=0.2, epoch=660\n",
      "Previously saved model is of lower resolution; recomputing\n"
     ]
    },
    {
     "name": "stderr",
     "output_type": "stream",
     "text": [
      "Outer loop (a): 100%|██████████| 100/100 [00:52<00:00,  1.91it/s]\n"
     ]
    },
    {
     "name": "stdout",
     "output_type": "stream",
     "text": [
      "✅ Updated and saved new grid at ../backend/landscapes/mlp_10_10/two_blobs_separate/train/range0.2/ep840\n",
      "Done: two_blobs_separate, width=10, depth=2, ab_range=0.2, epoch=840\n",
      "Previously saved model is of lower resolution; recomputing\n"
     ]
    },
    {
     "name": "stderr",
     "output_type": "stream",
     "text": [
      "Outer loop (a): 100%|██████████| 100/100 [00:51<00:00,  1.93it/s]\n"
     ]
    },
    {
     "name": "stdout",
     "output_type": "stream",
     "text": [
      "✅ Updated and saved new grid at ../backend/landscapes/mlp_10_10/two_blobs_overlap/train/range10/ep920\n",
      "Done: two_blobs_overlap, width=10, depth=2, ab_range=10, epoch=920\n",
      "Previously saved model is of lower resolution; recomputing\n"
     ]
    },
    {
     "name": "stderr",
     "output_type": "stream",
     "text": [
      "Outer loop (a): 100%|██████████| 100/100 [00:49<00:00,  2.02it/s]\n"
     ]
    },
    {
     "name": "stdout",
     "output_type": "stream",
     "text": [
      "✅ Updated and saved new grid at ../backend/landscapes/mlp_10/spirals/train/range0.5/ep640\n",
      "Done: spirals, width=10, depth=1, ab_range=0.5, epoch=640\n",
      "Previously saved model is of lower resolution; recomputing\n"
     ]
    },
    {
     "name": "stderr",
     "output_type": "stream",
     "text": [
      "Outer loop (a): 100%|██████████| 100/100 [00:50<00:00,  1.99it/s]\n"
     ]
    },
    {
     "name": "stdout",
     "output_type": "stream",
     "text": [
      "✅ Updated and saved new grid at ../backend/landscapes/mlp_10/two_blobs_overlap/train/range0.2/ep670\n",
      "Done: two_blobs_overlap, width=10, depth=1, ab_range=0.2, epoch=670\n",
      "Previously saved model is of lower resolution; recomputing\n"
     ]
    },
    {
     "name": "stderr",
     "output_type": "stream",
     "text": [
      "Outer loop (a): 100%|██████████| 100/100 [00:49<00:00,  2.02it/s]\n"
     ]
    },
    {
     "name": "stdout",
     "output_type": "stream",
     "text": [
      "✅ Updated and saved new grid at ../backend/landscapes/mlp_10_10/two_blobs_separate/train/range0.2/ep850\n",
      "Done: two_blobs_separate, width=10, depth=2, ab_range=0.2, epoch=850\n",
      "Previously saved model is of lower resolution; recomputing\n"
     ]
    },
    {
     "name": "stderr",
     "output_type": "stream",
     "text": [
      "Outer loop (a): 100%|██████████| 100/100 [00:51<00:00,  1.96it/s]\n"
     ]
    },
    {
     "name": "stdout",
     "output_type": "stream",
     "text": [
      "✅ Updated and saved new grid at ../backend/landscapes/mlp_10_10/two_blobs_overlap/train/range10/ep930\n",
      "Done: two_blobs_overlap, width=10, depth=2, ab_range=10, epoch=930\n",
      "Previously saved model is of lower resolution; recomputing\n"
     ]
    },
    {
     "name": "stderr",
     "output_type": "stream",
     "text": [
      "Outer loop (a):   9%|▉         | 9/100 [00:04<00:41,  2.17it/s]s]\n"
     ]
    },
    {
     "name": "stdout",
     "output_type": "stream",
     "text": [
      "✅ Updated and saved new grid at ../backend/landscapes/mlp_10/spirals/train/range0.5/ep650\n",
      "Done: spirals, width=10, depth=1, ab_range=0.5, epoch=650\n",
      "Previously saved model is of lower resolution; recomputing\n"
     ]
    },
    {
     "name": "stderr",
     "output_type": "stream",
     "text": [
      "Outer loop (a): 100%|██████████| 100/100 [00:49<00:00,  2.00it/s]\n"
     ]
    },
    {
     "name": "stdout",
     "output_type": "stream",
     "text": [
      "✅ Updated and saved new grid at ../backend/landscapes/mlp_10/two_blobs_overlap/train/range0.2/ep680\n",
      "Done: two_blobs_overlap, width=10, depth=1, ab_range=0.2, epoch=680\n",
      "Previously saved model is of lower resolution; recomputing\n"
     ]
    },
    {
     "name": "stderr",
     "output_type": "stream",
     "text": [
      "Outer loop (a): 100%|██████████| 100/100 [00:53<00:00,  1.87it/s]\n"
     ]
    },
    {
     "name": "stdout",
     "output_type": "stream",
     "text": [
      "✅ Updated and saved new grid at ../backend/landscapes/mlp_10_10/two_blobs_separate/train/range0.2/ep860\n",
      "Done: two_blobs_separate, width=10, depth=2, ab_range=0.2, epoch=860\n",
      "Previously saved model is of lower resolution; recomputing\n"
     ]
    },
    {
     "name": "stderr",
     "output_type": "stream",
     "text": [
      "Outer loop (a): 100%|██████████| 100/100 [00:53<00:00,  1.88it/s]\n"
     ]
    },
    {
     "name": "stdout",
     "output_type": "stream",
     "text": [
      "✅ Updated and saved new grid at ../backend/landscapes/mlp_10_10/two_blobs_overlap/train/range10/ep940\n",
      "Done: two_blobs_overlap, width=10, depth=2, ab_range=10, epoch=940\n",
      "Previously saved model is of lower resolution; recomputing\n"
     ]
    },
    {
     "name": "stderr",
     "output_type": "stream",
     "text": [
      "Outer loop (a): 100%|██████████| 100/100 [00:49<00:00,  2.01it/s]\n"
     ]
    },
    {
     "name": "stdout",
     "output_type": "stream",
     "text": [
      "✅ Updated and saved new grid at ../backend/landscapes/mlp_10/spirals/train/range0.5/ep660\n",
      "Done: spirals, width=10, depth=1, ab_range=0.5, epoch=660\n",
      "Previously saved model is of lower resolution; recomputing\n"
     ]
    },
    {
     "name": "stderr",
     "output_type": "stream",
     "text": [
      "Outer loop (a): 100%|██████████| 100/100 [00:49<00:00,  2.04it/s]\n"
     ]
    },
    {
     "name": "stdout",
     "output_type": "stream",
     "text": [
      "✅ Updated and saved new grid at ../backend/landscapes/mlp_10/two_blobs_overlap/train/range0.2/ep690\n",
      "Done: two_blobs_overlap, width=10, depth=1, ab_range=0.2, epoch=690\n",
      "Previously saved model is of lower resolution; recomputing\n"
     ]
    },
    {
     "name": "stderr",
     "output_type": "stream",
     "text": [
      "Outer loop (a): 100%|██████████| 100/100 [00:48<00:00,  2.06it/s]\n"
     ]
    },
    {
     "name": "stdout",
     "output_type": "stream",
     "text": [
      "✅ Updated and saved new grid at ../backend/landscapes/mlp_10/spirals/train/range0.5/ep670\n",
      "Done: spirals, width=10, depth=1, ab_range=0.5, epoch=670\n",
      "Previously saved model is of lower resolution; recomputing\n"
     ]
    },
    {
     "name": "stderr",
     "output_type": "stream",
     "text": [
      "Outer loop (a): 100%|██████████| 100/100 [00:51<00:00,  1.94it/s]\n"
     ]
    },
    {
     "name": "stdout",
     "output_type": "stream",
     "text": [
      "✅ Updated and saved new grid at ../backend/landscapes/mlp_10_10/two_blobs_separate/train/range0.2/ep870\n",
      "Done: two_blobs_separate, width=10, depth=2, ab_range=0.2, epoch=870\n",
      "Previously saved model is of lower resolution; recomputing\n"
     ]
    },
    {
     "name": "stderr",
     "output_type": "stream",
     "text": [
      "Outer loop (a):   5%|▌         | 5/100 [00:02<00:54,  1.75it/s]s]\n"
     ]
    },
    {
     "name": "stdout",
     "output_type": "stream",
     "text": [
      "✅ Updated and saved new grid at ../backend/landscapes/mlp_10_10/two_blobs_overlap/train/range10/ep950\n",
      "Done: two_blobs_overlap, width=10, depth=2, ab_range=10, epoch=950\n",
      "Previously saved model is of lower resolution; recomputing\n"
     ]
    },
    {
     "name": "stderr",
     "output_type": "stream",
     "text": [
      "Outer loop (a): 100%|██████████| 100/100 [00:49<00:00,  2.01it/s]\n"
     ]
    },
    {
     "name": "stdout",
     "output_type": "stream",
     "text": [
      "✅ Updated and saved new grid at ../backend/landscapes/mlp_10/two_blobs_overlap/train/range0.2/ep700\n",
      "Done: two_blobs_overlap, width=10, depth=1, ab_range=0.2, epoch=700\n",
      "Previously saved model is of lower resolution; recomputing\n"
     ]
    },
    {
     "name": "stderr",
     "output_type": "stream",
     "text": [
      "Outer loop (a): 100%|██████████| 100/100 [00:48<00:00,  2.04it/s]\n"
     ]
    },
    {
     "name": "stdout",
     "output_type": "stream",
     "text": [
      "✅ Updated and saved new grid at ../backend/landscapes/mlp_10/spirals/train/range0.5/ep680\n",
      "Done: spirals, width=10, depth=1, ab_range=0.5, epoch=680\n",
      "Previously saved model is of lower resolution; recomputing\n"
     ]
    },
    {
     "name": "stderr",
     "output_type": "stream",
     "text": [
      "Outer loop (a): 100%|██████████| 100/100 [00:52<00:00,  1.90it/s]\n"
     ]
    },
    {
     "name": "stdout",
     "output_type": "stream",
     "text": [
      "✅ Updated and saved new grid at ../backend/landscapes/mlp_10_10/two_blobs_separate/train/range0.2/ep880\n",
      "Done: two_blobs_separate, width=10, depth=2, ab_range=0.2, epoch=880\n",
      "Previously saved model is of lower resolution; recomputing\n"
     ]
    },
    {
     "name": "stderr",
     "output_type": "stream",
     "text": [
      "Outer loop (a): 100%|██████████| 100/100 [00:51<00:00,  1.95it/s]\n"
     ]
    },
    {
     "name": "stdout",
     "output_type": "stream",
     "text": [
      "✅ Updated and saved new grid at ../backend/landscapes/mlp_10_10/two_blobs_overlap/train/range10/ep960\n",
      "Done: two_blobs_overlap, width=10, depth=2, ab_range=10, epoch=960\n",
      "Previously saved model is of lower resolution; recomputing\n"
     ]
    },
    {
     "name": "stderr",
     "output_type": "stream",
     "text": [
      "Outer loop (a): 100%|██████████| 100/100 [00:48<00:00,  2.06it/s]\n"
     ]
    },
    {
     "name": "stdout",
     "output_type": "stream",
     "text": [
      "✅ Updated and saved new grid at ../backend/landscapes/mlp_10/two_blobs_overlap/train/range0.2/ep710\n",
      "Done: two_blobs_overlap, width=10, depth=1, ab_range=0.2, epoch=710\n",
      "Previously saved model is of lower resolution; recomputing\n"
     ]
    },
    {
     "name": "stderr",
     "output_type": "stream",
     "text": [
      "Outer loop (a): 100%|██████████| 100/100 [00:49<00:00,  2.03it/s]\n"
     ]
    },
    {
     "name": "stdout",
     "output_type": "stream",
     "text": [
      "✅ Updated and saved new grid at ../backend/landscapes/mlp_10/spirals/train/range0.5/ep690\n",
      "Done: spirals, width=10, depth=1, ab_range=0.5, epoch=690\n",
      "Previously saved model is of lower resolution; recomputing\n"
     ]
    },
    {
     "name": "stderr",
     "output_type": "stream",
     "text": [
      "Outer loop (a): 100%|██████████| 100/100 [00:50<00:00,  1.97it/s]\n"
     ]
    },
    {
     "name": "stdout",
     "output_type": "stream",
     "text": [
      "✅ Updated and saved new grid at ../backend/landscapes/mlp_10_10/two_blobs_overlap/train/range10/ep970\n",
      "Done: two_blobs_overlap, width=10, depth=2, ab_range=10, epoch=970\n",
      "Previously saved model is of lower resolution; recomputing\n"
     ]
    },
    {
     "name": "stderr",
     "output_type": "stream",
     "text": [
      "Outer loop (a): 100%|██████████| 100/100 [00:52<00:00,  1.91it/s]\n"
     ]
    },
    {
     "name": "stdout",
     "output_type": "stream",
     "text": [
      "✅ Updated and saved new grid at ../backend/landscapes/mlp_10_10/two_blobs_separate/train/range0.2/ep890\n",
      "Done: two_blobs_separate, width=10, depth=2, ab_range=0.2, epoch=890\n",
      "Previously saved model is of lower resolution; recomputing\n"
     ]
    },
    {
     "name": "stderr",
     "output_type": "stream",
     "text": [
      "Outer loop (a): 100%|██████████| 100/100 [00:47<00:00,  2.08it/s]\n"
     ]
    },
    {
     "name": "stdout",
     "output_type": "stream",
     "text": [
      "✅ Updated and saved new grid at ../backend/landscapes/mlp_10/two_blobs_overlap/train/range0.2/ep720\n",
      "Done: two_blobs_overlap, width=10, depth=1, ab_range=0.2, epoch=720\n",
      "Previously saved model is of lower resolution; recomputing\n"
     ]
    },
    {
     "name": "stderr",
     "output_type": "stream",
     "text": [
      "Outer loop (a): 100%|██████████| 100/100 [00:49<00:00,  2.01it/s]\n"
     ]
    },
    {
     "name": "stdout",
     "output_type": "stream",
     "text": [
      "✅ Updated and saved new grid at ../backend/landscapes/mlp_10/spirals/train/range0.5/ep700\n",
      "Done: spirals, width=10, depth=1, ab_range=0.5, epoch=700\n",
      "Previously saved model is of lower resolution; recomputing\n"
     ]
    },
    {
     "name": "stderr",
     "output_type": "stream",
     "text": [
      "Outer loop (a): 100%|██████████| 100/100 [00:51<00:00,  1.95it/s]\n"
     ]
    },
    {
     "name": "stdout",
     "output_type": "stream",
     "text": [
      "✅ Updated and saved new grid at ../backend/landscapes/mlp_10_10/two_blobs_separate/train/range0.2/ep900\n",
      "Done: two_blobs_separate, width=10, depth=2, ab_range=0.2, epoch=900\n",
      "Previously saved model is of lower resolution; recomputing\n"
     ]
    },
    {
     "name": "stderr",
     "output_type": "stream",
     "text": [
      "Outer loop (a): 100%|██████████| 100/100 [00:52<00:00,  1.91it/s]\n"
     ]
    },
    {
     "name": "stdout",
     "output_type": "stream",
     "text": [
      "✅ Updated and saved new grid at ../backend/landscapes/mlp_10_10/two_blobs_overlap/train/range10/ep980\n",
      "Done: two_blobs_overlap, width=10, depth=2, ab_range=10, epoch=980\n",
      "Previously saved model is of lower resolution; recomputing\n"
     ]
    },
    {
     "name": "stderr",
     "output_type": "stream",
     "text": [
      "Outer loop (a): 100%|██████████| 100/100 [00:49<00:00,  2.02it/s]\n"
     ]
    },
    {
     "name": "stdout",
     "output_type": "stream",
     "text": [
      "✅ Updated and saved new grid at ../backend/landscapes/mlp_10/two_blobs_overlap/train/range0.2/ep730\n",
      "Done: two_blobs_overlap, width=10, depth=1, ab_range=0.2, epoch=730\n",
      "Previously saved model is of lower resolution; recomputing\n"
     ]
    },
    {
     "name": "stderr",
     "output_type": "stream",
     "text": [
      "Outer loop (a): 100%|██████████| 100/100 [00:47<00:00,  2.10it/s]\n"
     ]
    },
    {
     "name": "stdout",
     "output_type": "stream",
     "text": [
      "✅ Updated and saved new grid at ../backend/landscapes/mlp_10/spirals/train/range0.5/ep710\n",
      "Done: spirals, width=10, depth=1, ab_range=0.5, epoch=710\n",
      "Previously saved model is of lower resolution; recomputing\n"
     ]
    },
    {
     "name": "stderr",
     "output_type": "stream",
     "text": [
      "Outer loop (a): 100%|██████████| 100/100 [00:48<00:00,  2.05it/s]\n"
     ]
    },
    {
     "name": "stdout",
     "output_type": "stream",
     "text": [
      "✅ Updated and saved new grid at ../backend/landscapes/mlp_10/two_blobs_overlap/train/range0.2/ep740\n",
      "Done: two_blobs_overlap, width=10, depth=1, ab_range=0.2, epoch=740\n",
      "Previously saved model is of lower resolution; recomputing\n"
     ]
    },
    {
     "name": "stderr",
     "output_type": "stream",
     "text": [
      "Outer loop (a): 100%|██████████| 100/100 [00:51<00:00,  1.94it/s]\n"
     ]
    },
    {
     "name": "stdout",
     "output_type": "stream",
     "text": [
      "✅ Updated and saved new grid at ../backend/landscapes/mlp_10_10/two_blobs_separate/train/range0.2/ep910\n",
      "Done: two_blobs_separate, width=10, depth=2, ab_range=0.2, epoch=910\n",
      "Previously saved model is of lower resolution; recomputing\n"
     ]
    },
    {
     "name": "stderr",
     "output_type": "stream",
     "text": [
      "Outer loop (a): 100%|██████████| 100/100 [00:51<00:00,  1.94it/s]\n"
     ]
    },
    {
     "name": "stdout",
     "output_type": "stream",
     "text": [
      "✅ Updated and saved new grid at ../backend/landscapes/mlp_10_10/two_blobs_overlap/train/range10/ep990\n",
      "Done: two_blobs_overlap, width=10, depth=2, ab_range=10, epoch=990\n",
      "Previously saved model is of lower resolution; recomputing\n"
     ]
    },
    {
     "name": "stderr",
     "output_type": "stream",
     "text": [
      "Outer loop (a): 100%|██████████| 100/100 [00:48<00:00,  2.08it/s]\n"
     ]
    },
    {
     "name": "stdout",
     "output_type": "stream",
     "text": [
      "✅ Updated and saved new grid at ../backend/landscapes/mlp_10/spirals/train/range0.5/ep720\n",
      "Done: spirals, width=10, depth=1, ab_range=0.5, epoch=720\n",
      "Previously saved model is of lower resolution; recomputing\n"
     ]
    },
    {
     "name": "stderr",
     "output_type": "stream",
     "text": [
      "Outer loop (a): 100%|██████████| 100/100 [00:49<00:00,  2.02it/s]\n"
     ]
    },
    {
     "name": "stdout",
     "output_type": "stream",
     "text": [
      "✅ Updated and saved new grid at ../backend/landscapes/mlp_10/two_blobs_overlap/train/range0.2/ep750\n",
      "Done: two_blobs_overlap, width=10, depth=1, ab_range=0.2, epoch=750\n",
      "Previously saved model is of lower resolution; recomputing\n"
     ]
    },
    {
     "name": "stderr",
     "output_type": "stream",
     "text": [
      "Outer loop (a): 100%|██████████| 100/100 [00:51<00:00,  1.94it/s]\n"
     ]
    },
    {
     "name": "stdout",
     "output_type": "stream",
     "text": [
      "✅ Updated and saved new grid at ../backend/landscapes/mlp_10_10/two_blobs_separate/train/range0.2/ep920\n",
      "Done: two_blobs_separate, width=10, depth=2, ab_range=0.2, epoch=920\n",
      "Previously saved model is of lower resolution; recomputing\n"
     ]
    },
    {
     "name": "stderr",
     "output_type": "stream",
     "text": [
      "Outer loop (a): 100%|██████████| 100/100 [00:52<00:00,  1.90it/s]\n"
     ]
    },
    {
     "name": "stdout",
     "output_type": "stream",
     "text": [
      "✅ Updated and saved new grid at ../backend/landscapes/mlp_10_10/two_blobs_overlap/train/range10/ep1000\n",
      "Done: two_blobs_overlap, width=10, depth=2, ab_range=10, epoch=1000\n",
      "Previously saved model is of lower resolution; recomputing\n"
     ]
    },
    {
     "name": "stderr",
     "output_type": "stream",
     "text": [
      "Outer loop (a): 100%|██████████| 100/100 [00:49<00:00,  2.03it/s]\n"
     ]
    },
    {
     "name": "stdout",
     "output_type": "stream",
     "text": [
      "✅ Updated and saved new grid at ../backend/landscapes/mlp_10/spirals/train/range0.5/ep730\n",
      "Done: spirals, width=10, depth=1, ab_range=0.5, epoch=730\n",
      "Previously saved model is of lower resolution; recomputing\n"
     ]
    },
    {
     "name": "stderr",
     "output_type": "stream",
     "text": [
      "Outer loop (a): 100%|██████████| 100/100 [00:50<00:00,  1.97it/s]\n"
     ]
    },
    {
     "name": "stdout",
     "output_type": "stream",
     "text": [
      "✅ Updated and saved new grid at ../backend/landscapes/mlp_10/two_blobs_overlap/train/range0.2/ep760\n",
      "Done: two_blobs_overlap, width=10, depth=1, ab_range=0.2, epoch=760\n",
      "Previously saved model is of lower resolution; recomputing\n"
     ]
    },
    {
     "name": "stderr",
     "output_type": "stream",
     "text": [
      "Outer loop (a): 100%|██████████| 100/100 [00:50<00:00,  1.97it/s]\n"
     ]
    },
    {
     "name": "stdout",
     "output_type": "stream",
     "text": [
      "✅ Updated and saved new grid at ../backend/landscapes/mlp_10_10/two_blobs_separate/train/range0.2/ep930\n",
      "Done: two_blobs_separate, width=10, depth=2, ab_range=0.2, epoch=930\n",
      "Previously saved model is of lower resolution; recomputing\n"
     ]
    },
    {
     "name": "stderr",
     "output_type": "stream",
     "text": [
      "Outer loop (a): 100%|██████████| 100/100 [00:51<00:00,  1.93it/s]\n"
     ]
    },
    {
     "name": "stdout",
     "output_type": "stream",
     "text": [
      "✅ Updated and saved new grid at ../backend/landscapes/mlp_10_10/two_blobs_overlap/train/range2/ep0\n",
      "Done: two_blobs_overlap, width=10, depth=2, ab_range=2, epoch=0\n",
      "Previously saved model is of lower resolution; recomputing\n"
     ]
    },
    {
     "name": "stderr",
     "output_type": "stream",
     "text": [
      "Outer loop (a): 100%|██████████| 100/100 [00:50<00:00,  1.97it/s]\n"
     ]
    },
    {
     "name": "stdout",
     "output_type": "stream",
     "text": [
      "✅ Updated and saved new grid at ../backend/landscapes/mlp_10/spirals/train/range0.5/ep740\n",
      "Done: spirals, width=10, depth=1, ab_range=0.5, epoch=740\n",
      "Previously saved model is of lower resolution; recomputing\n"
     ]
    },
    {
     "name": "stderr",
     "output_type": "stream",
     "text": [
      "Outer loop (a): 100%|██████████| 100/100 [00:49<00:00,  2.01it/s]\n"
     ]
    },
    {
     "name": "stdout",
     "output_type": "stream",
     "text": [
      "✅ Updated and saved new grid at ../backend/landscapes/mlp_10/two_blobs_overlap/train/range0.2/ep770\n",
      "Done: two_blobs_overlap, width=10, depth=1, ab_range=0.2, epoch=770\n",
      "Previously saved model is of lower resolution; recomputing\n"
     ]
    },
    {
     "name": "stderr",
     "output_type": "stream",
     "text": [
      "Outer loop (a): 100%|██████████| 100/100 [00:51<00:00,  1.95it/s]\n"
     ]
    },
    {
     "name": "stdout",
     "output_type": "stream",
     "text": [
      "✅ Updated and saved new grid at ../backend/landscapes/mlp_10_10/two_blobs_separate/train/range0.2/ep940\n",
      "Done: two_blobs_separate, width=10, depth=2, ab_range=0.2, epoch=940\n",
      "Previously saved model is of lower resolution; recomputing\n"
     ]
    },
    {
     "name": "stderr",
     "output_type": "stream",
     "text": [
      "Outer loop (a): 100%|██████████| 100/100 [00:53<00:00,  1.85it/s]\n"
     ]
    },
    {
     "name": "stdout",
     "output_type": "stream",
     "text": [
      "✅ Updated and saved new grid at ../backend/landscapes/mlp_10_10/two_blobs_overlap/train/range2/ep10\n",
      "Done: two_blobs_overlap, width=10, depth=2, ab_range=2, epoch=10\n",
      "Previously saved model is of lower resolution; recomputing\n"
     ]
    },
    {
     "name": "stderr",
     "output_type": "stream",
     "text": [
      "Outer loop (a): 100%|██████████| 100/100 [00:50<00:00,  1.99it/s]\n"
     ]
    },
    {
     "name": "stdout",
     "output_type": "stream",
     "text": [
      "✅ Updated and saved new grid at ../backend/landscapes/mlp_10/spirals/train/range0.5/ep750\n",
      "Done: spirals, width=10, depth=1, ab_range=0.5, epoch=750\n",
      "Previously saved model is of lower resolution; recomputing\n"
     ]
    },
    {
     "name": "stderr",
     "output_type": "stream",
     "text": [
      "Outer loop (a): 100%|██████████| 100/100 [00:47<00:00,  2.12it/s]\n"
     ]
    },
    {
     "name": "stdout",
     "output_type": "stream",
     "text": [
      "✅ Updated and saved new grid at ../backend/landscapes/mlp_10/two_blobs_overlap/train/range0.2/ep780\n",
      "Done: two_blobs_overlap, width=10, depth=1, ab_range=0.2, epoch=780\n",
      "Previously saved model is of lower resolution; recomputing\n"
     ]
    },
    {
     "name": "stderr",
     "output_type": "stream",
     "text": [
      "Outer loop (a): 100%|██████████| 100/100 [00:50<00:00,  1.96it/s]\n"
     ]
    },
    {
     "name": "stdout",
     "output_type": "stream",
     "text": [
      "✅ Updated and saved new grid at ../backend/landscapes/mlp_10_10/two_blobs_separate/train/range0.2/ep950\n",
      "Done: two_blobs_separate, width=10, depth=2, ab_range=0.2, epoch=950\n",
      "Previously saved model is of lower resolution; recomputing\n"
     ]
    },
    {
     "name": "stderr",
     "output_type": "stream",
     "text": [
      "Outer loop (a): 100%|██████████| 100/100 [00:52<00:00,  1.89it/s]\n"
     ]
    },
    {
     "name": "stdout",
     "output_type": "stream",
     "text": [
      "✅ Updated and saved new grid at ../backend/landscapes/mlp_10_10/two_blobs_overlap/train/range2/ep20\n",
      "Done: two_blobs_overlap, width=10, depth=2, ab_range=2, epoch=20\n",
      "Previously saved model is of lower resolution; recomputing\n"
     ]
    },
    {
     "name": "stderr",
     "output_type": "stream",
     "text": [
      "Outer loop (a): 100%|██████████| 100/100 [00:47<00:00,  2.12it/s]\n"
     ]
    },
    {
     "name": "stdout",
     "output_type": "stream",
     "text": [
      "✅ Updated and saved new grid at ../backend/landscapes/mlp_10/spirals/train/range0.5/ep760\n",
      "Done: spirals, width=10, depth=1, ab_range=0.5, epoch=760\n",
      "Previously saved model is of lower resolution; recomputing\n"
     ]
    },
    {
     "name": "stderr",
     "output_type": "stream",
     "text": [
      "Outer loop (a): 100%|██████████| 100/100 [00:47<00:00,  2.12it/s]\n"
     ]
    },
    {
     "name": "stdout",
     "output_type": "stream",
     "text": [
      "✅ Updated and saved new grid at ../backend/landscapes/mlp_10/two_blobs_overlap/train/range0.2/ep790\n",
      "Done: two_blobs_overlap, width=10, depth=1, ab_range=0.2, epoch=790\n",
      "Previously saved model is of lower resolution; recomputing\n"
     ]
    },
    {
     "name": "stderr",
     "output_type": "stream",
     "text": [
      "Outer loop (a): 100%|██████████| 100/100 [00:51<00:00,  1.94it/s]\n"
     ]
    },
    {
     "name": "stdout",
     "output_type": "stream",
     "text": [
      "✅ Updated and saved new grid at ../backend/landscapes/mlp_10_10/two_blobs_separate/train/range0.2/ep960\n",
      "Done: two_blobs_separate, width=10, depth=2, ab_range=0.2, epoch=960\n"
     ]
    },
    {
     "name": "stderr",
     "output_type": "stream",
     "text": [
      "Outer loop (a):  28%|██▊       | 28/100 [00:13<00:30,  2.36it/s]"
     ]
    },
    {
     "name": "stdout",
     "output_type": "stream",
     "text": [
      "Previously saved model is of lower resolution; recomputing\n"
     ]
    },
    {
     "name": "stderr",
     "output_type": "stream",
     "text": [
      "Outer loop (a): 100%|██████████| 100/100 [00:51<00:00,  1.96it/s]\n"
     ]
    },
    {
     "name": "stdout",
     "output_type": "stream",
     "text": [
      "✅ Updated and saved new grid at ../backend/landscapes/mlp_10_10/two_blobs_overlap/train/range2/ep30\n",
      "Done: two_blobs_overlap, width=10, depth=2, ab_range=2, epoch=30\n",
      "Previously saved model is of lower resolution; recomputing\n"
     ]
    },
    {
     "name": "stderr",
     "output_type": "stream",
     "text": [
      "Outer loop (a): 100%|██████████| 100/100 [00:48<00:00,  2.05it/s]\n"
     ]
    },
    {
     "name": "stdout",
     "output_type": "stream",
     "text": [
      "✅ Updated and saved new grid at ../backend/landscapes/mlp_10/spirals/train/range0.5/ep770\n",
      "Done: spirals, width=10, depth=1, ab_range=0.5, epoch=770\n",
      "Previously saved model is of lower resolution; recomputing\n"
     ]
    },
    {
     "name": "stderr",
     "output_type": "stream",
     "text": [
      "Outer loop (a): 100%|██████████| 100/100 [00:51<00:00,  1.94it/s]\n"
     ]
    },
    {
     "name": "stdout",
     "output_type": "stream",
     "text": [
      "✅ Updated and saved new grid at ../backend/landscapes/mlp_10/two_blobs_overlap/train/range0.2/ep800\n",
      "Done: two_blobs_overlap, width=10, depth=1, ab_range=0.2, epoch=800\n",
      "Previously saved model is of lower resolution; recomputing\n"
     ]
    },
    {
     "name": "stderr",
     "output_type": "stream",
     "text": [
      "Outer loop (a): 100%|██████████| 100/100 [00:49<00:00,  2.01it/s]\n"
     ]
    },
    {
     "name": "stdout",
     "output_type": "stream",
     "text": [
      "✅ Updated and saved new grid at ../backend/landscapes/mlp_10_10/two_blobs_separate/train/range0.2/ep970\n",
      "Done: two_blobs_separate, width=10, depth=2, ab_range=0.2, epoch=970\n",
      "Previously saved model is of lower resolution; recomputing\n"
     ]
    },
    {
     "name": "stderr",
     "output_type": "stream",
     "text": [
      "Outer loop (a): 100%|██████████| 100/100 [00:52<00:00,  1.90it/s]\n"
     ]
    },
    {
     "name": "stdout",
     "output_type": "stream",
     "text": [
      "✅ Updated and saved new grid at ../backend/landscapes/mlp_10_10/two_blobs_overlap/train/range2/ep40\n",
      "Done: two_blobs_overlap, width=10, depth=2, ab_range=2, epoch=40\n",
      "Previously saved model is of lower resolution; recomputing\n"
     ]
    },
    {
     "name": "stderr",
     "output_type": "stream",
     "text": [
      "Outer loop (a): 100%|██████████| 100/100 [00:47<00:00,  2.09it/s]\n"
     ]
    },
    {
     "name": "stdout",
     "output_type": "stream",
     "text": [
      "✅ Updated and saved new grid at ../backend/landscapes/mlp_10/spirals/train/range0.5/ep780\n",
      "Done: spirals, width=10, depth=1, ab_range=0.5, epoch=780\n",
      "Previously saved model is of lower resolution; recomputing\n"
     ]
    },
    {
     "name": "stderr",
     "output_type": "stream",
     "text": [
      "Outer loop (a): 100%|██████████| 100/100 [00:48<00:00,  2.05it/s]\n"
     ]
    },
    {
     "name": "stdout",
     "output_type": "stream",
     "text": [
      "✅ Updated and saved new grid at ../backend/landscapes/mlp_10/two_blobs_overlap/train/range0.2/ep810\n",
      "Done: two_blobs_overlap, width=10, depth=1, ab_range=0.2, epoch=810\n",
      "Previously saved model is of lower resolution; recomputing\n"
     ]
    },
    {
     "name": "stderr",
     "output_type": "stream",
     "text": [
      "Outer loop (a): 100%|██████████| 100/100 [00:52<00:00,  1.92it/s]\n"
     ]
    },
    {
     "name": "stdout",
     "output_type": "stream",
     "text": [
      "✅ Updated and saved new grid at ../backend/landscapes/mlp_10_10/two_blobs_separate/train/range0.2/ep980\n",
      "Done: two_blobs_separate, width=10, depth=2, ab_range=0.2, epoch=980\n",
      "Previously saved model is of lower resolution; recomputing\n"
     ]
    },
    {
     "name": "stderr",
     "output_type": "stream",
     "text": [
      "Outer loop (a): 100%|██████████| 100/100 [00:52<00:00,  1.91it/s]\n"
     ]
    },
    {
     "name": "stdout",
     "output_type": "stream",
     "text": [
      "✅ Updated and saved new grid at ../backend/landscapes/mlp_10_10/two_blobs_overlap/train/range2/ep50\n",
      "Done: two_blobs_overlap, width=10, depth=2, ab_range=2, epoch=50\n",
      "Previously saved model is of lower resolution; recomputing\n"
     ]
    },
    {
     "name": "stderr",
     "output_type": "stream",
     "text": [
      "Outer loop (a): 100%|██████████| 100/100 [00:50<00:00,  1.99it/s]\n"
     ]
    },
    {
     "name": "stdout",
     "output_type": "stream",
     "text": [
      "✅ Updated and saved new grid at ../backend/landscapes/mlp_10/spirals/train/range0.5/ep790\n",
      "Done: spirals, width=10, depth=1, ab_range=0.5, epoch=790\n",
      "Previously saved model is of lower resolution; recomputing\n"
     ]
    },
    {
     "name": "stderr",
     "output_type": "stream",
     "text": [
      "Outer loop (a): 100%|██████████| 100/100 [00:47<00:00,  2.11it/s]\n"
     ]
    },
    {
     "name": "stdout",
     "output_type": "stream",
     "text": [
      "✅ Updated and saved new grid at ../backend/landscapes/mlp_10/two_blobs_overlap/train/range0.2/ep820\n",
      "Done: two_blobs_overlap, width=10, depth=1, ab_range=0.2, epoch=820"
     ]
    },
    {
     "name": "stderr",
     "output_type": "stream",
     "text": [
      "Outer loop (a):  20%|██        | 20/100 [00:10<00:43,  1.85it/s]"
     ]
    },
    {
     "name": "stdout",
     "output_type": "stream",
     "text": [
      "\n",
      "Previously saved model is of lower resolution; recomputing\n"
     ]
    },
    {
     "name": "stderr",
     "output_type": "stream",
     "text": [
      "Outer loop (a): 100%|██████████| 100/100 [00:50<00:00,  1.99it/s]\n"
     ]
    },
    {
     "name": "stdout",
     "output_type": "stream",
     "text": [
      "✅ Updated and saved new grid at ../backend/landscapes/mlp_10_10/two_blobs_separate/train/range0.2/ep990\n",
      "Done: two_blobs_separate, width=10, depth=2, ab_range=0.2, epoch=990\n",
      "Previously saved model is of lower resolution; recomputing\n"
     ]
    },
    {
     "name": "stderr",
     "output_type": "stream",
     "text": [
      "Outer loop (a): 100%|██████████| 100/100 [00:52<00:00,  1.91it/s]\n"
     ]
    },
    {
     "name": "stdout",
     "output_type": "stream",
     "text": [
      "✅ Updated and saved new grid at ../backend/landscapes/mlp_10_10/two_blobs_overlap/train/range2/ep60\n",
      "Done: two_blobs_overlap, width=10, depth=2, ab_range=2, epoch=60\n",
      "Previously saved model is of lower resolution; recomputing\n"
     ]
    },
    {
     "name": "stderr",
     "output_type": "stream",
     "text": [
      "Outer loop (a): 100%|██████████| 100/100 [00:48<00:00,  2.06it/s]\n"
     ]
    },
    {
     "name": "stdout",
     "output_type": "stream",
     "text": [
      "✅ Updated and saved new grid at ../backend/landscapes/mlp_10/spirals/train/range0.5/ep800\n",
      "Done: spirals, width=10, depth=1, ab_range=0.5, epoch=800\n",
      "Previously saved model is of lower resolution; recomputing\n"
     ]
    },
    {
     "name": "stderr",
     "output_type": "stream",
     "text": [
      "Outer loop (a): 100%|██████████| 100/100 [00:48<00:00,  2.08it/s]\n"
     ]
    },
    {
     "name": "stdout",
     "output_type": "stream",
     "text": [
      "✅ Updated and saved new grid at ../backend/landscapes/mlp_10/two_blobs_overlap/train/range0.2/ep830\n",
      "Done: two_blobs_overlap, width=10, depth=1, ab_range=0.2, epoch=830\n",
      "Previously saved model is of lower resolution; recomputing\n"
     ]
    },
    {
     "name": "stderr",
     "output_type": "stream",
     "text": [
      "Outer loop (a): 100%|██████████| 100/100 [00:53<00:00,  1.87it/s]\n"
     ]
    },
    {
     "name": "stdout",
     "output_type": "stream",
     "text": [
      "✅ Updated and saved new grid at ../backend/landscapes/mlp_10_10/two_blobs_separate/train/range0.2/ep1000\n",
      "Done: two_blobs_separate, width=10, depth=2, ab_range=0.2, epoch=1000\n",
      "Previously saved model is of lower resolution; recomputing\n"
     ]
    },
    {
     "name": "stderr",
     "output_type": "stream",
     "text": [
      "Outer loop (a): 100%|██████████| 100/100 [00:48<00:00,  2.08it/s]\n"
     ]
    },
    {
     "name": "stdout",
     "output_type": "stream",
     "text": [
      "✅ Updated and saved new grid at ../backend/landscapes/mlp_10_10/two_blobs_overlap/train/range2/ep70\n",
      "Done: two_blobs_overlap, width=10, depth=2, ab_range=2, epoch=70\n",
      "Previously saved model is of lower resolution; recomputing\n"
     ]
    },
    {
     "name": "stderr",
     "output_type": "stream",
     "text": [
      "Outer loop (a): 100%|██████████| 100/100 [00:47<00:00,  2.11it/s]\n"
     ]
    },
    {
     "name": "stdout",
     "output_type": "stream",
     "text": [
      "✅ Updated and saved new grid at ../backend/landscapes/mlp_10/spirals/train/range0.5/ep810\n",
      "Done: spirals, width=10, depth=1, ab_range=0.5, epoch=810\n",
      "Previously saved model is of lower resolution; recomputing\n"
     ]
    },
    {
     "name": "stderr",
     "output_type": "stream",
     "text": [
      "Outer loop (a):  33%|███▎      | 33/100 [00:17<00:34,  1.96it/s]"
     ]
    }
   ],
   "source": [
    "\n",
    "def worker(args):\n",
    "    dataset, width, depth, ab_range, epoch, gridsize = args\n",
    "    arch = [width] * depth\n",
    "\n",
    "    try:\n",
    "        #print(f\"Processing: epoch={epoch}, ab_range={ab_range}, width={width}, depth={depth}, dataset={dataset}\")\n",
    "        compute_loss_grid( arch, dataset, train=True, epoch=epoch, ab_range=ab_range, gridsize=gridsize  )\n",
    "\n",
    "        #compute_and_save_zrange(\n",
    "        #    arch=arch,\n",
    "        #    dataset=dataset,\n",
    "        #    train=True,\n",
    "        #    ab_range=ab_range,\n",
    "        #    gridsize=gridsize\n",
    "        #)\n",
    "        print(f\"Done: {dataset}, width={width}, depth={depth}, ab_range={ab_range}, epoch={epoch}\")\n",
    "\n",
    "    except Exception as e:\n",
    "        print(f\"Failed: {dataset}, width={width}, depth={depth}, ab_range={ab_range}, epoch={epoch}. Reason: {e}\")\n",
    "        \n",
    "\n",
    "\n",
    "num_epochs = 1001\n",
    "datasets = [\"two_blobs_separate\", \"two_blobs_overlap\", \"half_moons\", \"spirals\", \"four_corners\"]\n",
    "widths = [10]#,10,25,50,100]  \n",
    "depths = [1,2,4,8,16]  \n",
    "ab_ranges = [0.1, 1, 10,2,5,.2,.5]\n",
    "epochs = list(range(0, num_epochs, 10))\n",
    "gridsize = 100\n",
    "\n",
    "# Prepare the argument list for all jobs\n",
    "all_args = list(product( widths, depths,datasets, ab_ranges, epochs))\n",
    "\n",
    "\n",
    "all_args = [ (dataset,  width, depth, ab_range, epoch, gridsize) for ( width, depth, dataset,ab_range, epoch) in all_args]\n",
    "\n",
    "\n",
    "#for args in all_args:\n",
    "#    worker(args)\n",
    "\n",
    "\n",
    "# Launch the multiprocessing pool\n",
    "with mp.Pool(processes=4) as pool:\n",
    "    pool.map(worker, all_args)\n",
    "\n",
    "\n",
    "   \n"
   ]
  },
  {
   "cell_type": "code",
   "execution_count": null,
   "id": "bc48a875-b718-4efc-b569-3106d0493347",
   "metadata": {},
   "outputs": [],
   "source": []
  }
 ],
 "metadata": {
  "kernelspec": {
   "display_name": "Python 3 (ipykernel)",
   "language": "python",
   "name": "python3"
  },
  "language_info": {
   "codemirror_mode": {
    "name": "ipython",
    "version": 3
   },
   "file_extension": ".py",
   "mimetype": "text/x-python",
   "name": "python",
   "nbconvert_exporter": "python",
   "pygments_lexer": "ipython3",
   "version": "3.9.13"
  }
 },
 "nbformat": 4,
 "nbformat_minor": 5
}
