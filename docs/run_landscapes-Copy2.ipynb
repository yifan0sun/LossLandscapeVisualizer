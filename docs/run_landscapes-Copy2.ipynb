{
 "cells": [
  {
   "cell_type": "code",
   "execution_count": 1,
   "id": "7e33a9cb-a74b-4260-be5f-64abd9b2d781",
   "metadata": {},
   "outputs": [],
   "source": [
    "import numpy as np\n",
    "import multiprocessing as mp\n",
    "from itertools import product\n",
    "\n",
    "\n",
    "from visualize_landscape import *\n",
    "\n",
    "\n",
    "torch.set_num_threads(1)"
   ]
  },
  {
   "cell_type": "code",
   "execution_count": null,
   "id": "daba1293-3d34-4fa5-b0ee-7f40ec966e22",
   "metadata": {
    "scrolled": true,
    "tags": []
   },
   "outputs": [
    {
     "name": "stderr",
     "output_type": "stream",
     "text": [
      "/home/yifan/DISKB/Dropbox/Projects/Spring2025/LandscapeVisualizer_2D/LossLandscapeVisualizer/build/visualize_landscape.py:118: FutureWarning: You are using `torch.load` with `weights_only=False` (the current default value), which uses the default pickle module implicitly. It is possible to construct malicious pickle data which will execute arbitrary code during unpickling (See https://github.com/pytorch/pytorch/blob/main/SECURITY.md#untrusted-models for more details). In a future release, the default value for `weights_only` will be flipped to `True`. This limits the functions that could be executed during unpickling. Arbitrary objects will no longer be allowed to be loaded via this mode unless they are explicitly allowlisted by the user via `torch.serialization.add_safe_globals`. We recommend you start setting `weights_only=True` for any use case where you don't have full control of the loaded file. Please open an issue on GitHub for any issues related to this experimental feature.\n",
      "  base_model.load_state_dict(torch.load(base_path))\n",
      "/home/yifan/DISKB/Dropbox/Projects/Spring2025/LandscapeVisualizer_2D/LossLandscapeVisualizer/build/visualize_landscape.py:56: FutureWarning: You are using `torch.load` with `weights_only=False` (the current default value), which uses the default pickle module implicitly. It is possible to construct malicious pickle data which will execute arbitrary code during unpickling (See https://github.com/pytorch/pytorch/blob/main/SECURITY.md#untrusted-models for more details). In a future release, the default value for `weights_only` will be flipped to `True`. This limits the functions that could be executed during unpickling. Arbitrary objects will no longer be allowed to be loaded via this mode unless they are explicitly allowlisted by the user via `torch.serialization.add_safe_globals`. We recommend you start setting `weights_only=True` for any use case where you don't have full control of the loaded file. Please open an issue on GitHub for any issues related to this experimental feature.\n",
      "  model.load_state_dict(torch.load(path))\n"
     ]
    },
    {
     "name": "stdout",
     "output_type": "stream",
     "text": [
      "Previously saved model is of lower resolution; recomputing\n"
     ]
    },
    {
     "name": "stderr",
     "output_type": "stream",
     "text": [
      "Outer loop (a):   0%|          | 0/100 [00:00<?, ?it/s]/home/yifan/DISKB/Dropbox/Projects/Spring2025/LandscapeVisualizer_2D/LossLandscapeVisualizer/build/data.py:85: FutureWarning: You are using `torch.load` with `weights_only=False` (the current default value), which uses the default pickle module implicitly. It is possible to construct malicious pickle data which will execute arbitrary code during unpickling (See https://github.com/pytorch/pytorch/blob/main/SECURITY.md#untrusted-models for more details). In a future release, the default value for `weights_only` will be flipped to `True`. This limits the functions that could be executed during unpickling. Arbitrary objects will no longer be allowed to be loaded via this mode unless they are explicitly allowlisted by the user via `torch.serialization.add_safe_globals`. We recommend you start setting `weights_only=True` for any use case where you don't have full control of the loaded file. Please open an issue on GitHub for any issues related to this experimental feature.\n",
      "  data, labels = torch.load(path)\n",
      "Outer loop (a): 100%|██████████| 100/100 [00:47<00:00,  2.12it/s]\n"
     ]
    },
    {
     "name": "stdout",
     "output_type": "stream",
     "text": [
      "✅ Updated and saved new grid at ../backend/landscapes/mlp_50/two_blobs_separate/train/range0.1/ep0\n",
      "Done: two_blobs_separate, width=50, depth=1, ab_range=0.1, epoch=0\n",
      "Previously saved model is of lower resolution; recomputing\n"
     ]
    },
    {
     "name": "stderr",
     "output_type": "stream",
     "text": [
      "Outer loop (a): 100%|██████████| 100/100 [00:48<00:00,  2.04it/s]\n"
     ]
    },
    {
     "name": "stdout",
     "output_type": "stream",
     "text": [
      "✅ Updated and saved new grid at ../backend/landscapes/mlp_50/two_blobs_separate/train/range0.1/ep10\n",
      "Done: two_blobs_separate, width=50, depth=1, ab_range=0.1, epoch=10\n",
      "Previously saved model is of lower resolution; recomputing\n"
     ]
    },
    {
     "name": "stderr",
     "output_type": "stream",
     "text": [
      "Outer loop (a): 100%|██████████| 100/100 [00:49<00:00,  2.02it/s]\n"
     ]
    },
    {
     "name": "stdout",
     "output_type": "stream",
     "text": [
      "✅ Updated and saved new grid at ../backend/landscapes/mlp_50/two_blobs_separate/train/range0.1/ep20\n",
      "Done: two_blobs_separate, width=50, depth=1, ab_range=0.1, epoch=20\n",
      "Previously saved model is of lower resolution; recomputing\n"
     ]
    },
    {
     "name": "stderr",
     "output_type": "stream",
     "text": [
      "Outer loop (a): 100%|██████████| 100/100 [00:46<00:00,  2.15it/s]\n"
     ]
    },
    {
     "name": "stdout",
     "output_type": "stream",
     "text": [
      "✅ Updated and saved new grid at ../backend/landscapes/mlp_50/two_blobs_separate/train/range0.1/ep30\n",
      "Done: two_blobs_separate, width=50, depth=1, ab_range=0.1, epoch=30\n",
      "Previously saved model is of lower resolution; recomputing\n"
     ]
    },
    {
     "name": "stderr",
     "output_type": "stream",
     "text": [
      "Outer loop (a): 100%|██████████| 100/100 [00:47<00:00,  2.11it/s]\n"
     ]
    },
    {
     "name": "stdout",
     "output_type": "stream",
     "text": [
      "✅ Updated and saved new grid at ../backend/landscapes/mlp_50/two_blobs_separate/train/range0.1/ep40\n",
      "Done: two_blobs_separate, width=50, depth=1, ab_range=0.1, epoch=40\n",
      "Previously saved model is of lower resolution; recomputing\n"
     ]
    },
    {
     "name": "stderr",
     "output_type": "stream",
     "text": [
      "Outer loop (a): 100%|██████████| 100/100 [00:46<00:00,  2.14it/s]\n"
     ]
    },
    {
     "name": "stdout",
     "output_type": "stream",
     "text": [
      "✅ Updated and saved new grid at ../backend/landscapes/mlp_50/two_blobs_separate/train/range0.1/ep50\n",
      "Done: two_blobs_separate, width=50, depth=1, ab_range=0.1, epoch=50\n",
      "Previously saved model is of lower resolution; recomputing\n"
     ]
    },
    {
     "name": "stderr",
     "output_type": "stream",
     "text": [
      "Outer loop (a): 100%|██████████| 100/100 [00:48<00:00,  2.05it/s]\n"
     ]
    },
    {
     "name": "stdout",
     "output_type": "stream",
     "text": [
      "✅ Updated and saved new grid at ../backend/landscapes/mlp_50/two_blobs_separate/train/range0.1/ep60\n",
      "Done: two_blobs_separate, width=50, depth=1, ab_range=0.1, epoch=60\n",
      "Previously saved model is of lower resolution; recomputing\n"
     ]
    },
    {
     "name": "stderr",
     "output_type": "stream",
     "text": [
      "Outer loop (a): 100%|██████████| 100/100 [00:47<00:00,  2.09it/s]\n"
     ]
    },
    {
     "name": "stdout",
     "output_type": "stream",
     "text": [
      "✅ Updated and saved new grid at ../backend/landscapes/mlp_50/two_blobs_separate/train/range0.1/ep70\n",
      "Done: two_blobs_separate, width=50, depth=1, ab_range=0.1, epoch=70\n",
      "Previously saved model is of lower resolution; recomputing\n"
     ]
    },
    {
     "name": "stderr",
     "output_type": "stream",
     "text": [
      "Outer loop (a): 100%|██████████| 100/100 [00:47<00:00,  2.10it/s]\n"
     ]
    },
    {
     "name": "stdout",
     "output_type": "stream",
     "text": [
      "✅ Updated and saved new grid at ../backend/landscapes/mlp_50/two_blobs_separate/train/range0.1/ep80\n",
      "Done: two_blobs_separate, width=50, depth=1, ab_range=0.1, epoch=80\n",
      "Previously saved model is of lower resolution; recomputing\n"
     ]
    },
    {
     "name": "stderr",
     "output_type": "stream",
     "text": [
      "Outer loop (a): 100%|██████████| 100/100 [00:48<00:00,  2.08it/s]\n"
     ]
    },
    {
     "name": "stdout",
     "output_type": "stream",
     "text": [
      "✅ Updated and saved new grid at ../backend/landscapes/mlp_50/two_blobs_separate/train/range0.1/ep90\n",
      "Done: two_blobs_separate, width=50, depth=1, ab_range=0.1, epoch=90\n",
      "Previously saved model is of lower resolution; recomputing\n"
     ]
    },
    {
     "name": "stderr",
     "output_type": "stream",
     "text": [
      "Outer loop (a): 100%|██████████| 100/100 [00:46<00:00,  2.17it/s]\n"
     ]
    },
    {
     "name": "stdout",
     "output_type": "stream",
     "text": [
      "✅ Updated and saved new grid at ../backend/landscapes/mlp_50/two_blobs_separate/train/range0.1/ep100\n",
      "Done: two_blobs_separate, width=50, depth=1, ab_range=0.1, epoch=100\n",
      "Previously saved model is of lower resolution; recomputing\n"
     ]
    },
    {
     "name": "stderr",
     "output_type": "stream",
     "text": [
      "Outer loop (a): 100%|██████████| 100/100 [00:47<00:00,  2.10it/s]\n"
     ]
    },
    {
     "name": "stdout",
     "output_type": "stream",
     "text": [
      "✅ Updated and saved new grid at ../backend/landscapes/mlp_50/two_blobs_separate/train/range0.1/ep110\n",
      "Done: two_blobs_separate, width=50, depth=1, ab_range=0.1, epoch=110\n",
      "Previously saved model is of lower resolution; recomputing\n"
     ]
    },
    {
     "name": "stderr",
     "output_type": "stream",
     "text": [
      "Outer loop (a): 100%|██████████| 100/100 [00:47<00:00,  2.11it/s]\n"
     ]
    },
    {
     "name": "stdout",
     "output_type": "stream",
     "text": [
      "✅ Updated and saved new grid at ../backend/landscapes/mlp_50/two_blobs_separate/train/range0.1/ep120\n",
      "Done: two_blobs_separate, width=50, depth=1, ab_range=0.1, epoch=120\n",
      "Previously saved model is of lower resolution; recomputing\n"
     ]
    },
    {
     "name": "stderr",
     "output_type": "stream",
     "text": [
      "Outer loop (a): 100%|██████████| 100/100 [00:47<00:00,  2.11it/s]\n"
     ]
    },
    {
     "name": "stdout",
     "output_type": "stream",
     "text": [
      "✅ Updated and saved new grid at ../backend/landscapes/mlp_50/two_blobs_separate/train/range0.1/ep130\n",
      "Done: two_blobs_separate, width=50, depth=1, ab_range=0.1, epoch=130\n",
      "Previously saved model is of lower resolution; recomputing\n"
     ]
    },
    {
     "name": "stderr",
     "output_type": "stream",
     "text": [
      "Outer loop (a): 100%|██████████| 100/100 [00:46<00:00,  2.16it/s]\n"
     ]
    },
    {
     "name": "stdout",
     "output_type": "stream",
     "text": [
      "✅ Updated and saved new grid at ../backend/landscapes/mlp_50/two_blobs_separate/train/range0.1/ep140\n",
      "Done: two_blobs_separate, width=50, depth=1, ab_range=0.1, epoch=140\n",
      "Previously saved model is of lower resolution; recomputing\n"
     ]
    },
    {
     "name": "stderr",
     "output_type": "stream",
     "text": [
      "Outer loop (a): 100%|██████████| 100/100 [00:47<00:00,  2.09it/s]\n"
     ]
    },
    {
     "name": "stdout",
     "output_type": "stream",
     "text": [
      "✅ Updated and saved new grid at ../backend/landscapes/mlp_50/two_blobs_separate/train/range0.1/ep150\n",
      "Done: two_blobs_separate, width=50, depth=1, ab_range=0.1, epoch=150\n",
      "Previously saved model is of lower resolution; recomputing\n"
     ]
    },
    {
     "name": "stderr",
     "output_type": "stream",
     "text": [
      "Outer loop (a): 100%|██████████| 100/100 [00:46<00:00,  2.14it/s]\n"
     ]
    },
    {
     "name": "stdout",
     "output_type": "stream",
     "text": [
      "✅ Updated and saved new grid at ../backend/landscapes/mlp_50/two_blobs_separate/train/range0.1/ep160\n",
      "Done: two_blobs_separate, width=50, depth=1, ab_range=0.1, epoch=160\n",
      "Previously saved model is of lower resolution; recomputing\n"
     ]
    },
    {
     "name": "stderr",
     "output_type": "stream",
     "text": [
      "Outer loop (a): 100%|██████████| 100/100 [00:47<00:00,  2.09it/s]\n"
     ]
    },
    {
     "name": "stdout",
     "output_type": "stream",
     "text": [
      "✅ Updated and saved new grid at ../backend/landscapes/mlp_50/two_blobs_separate/train/range0.1/ep170\n",
      "Done: two_blobs_separate, width=50, depth=1, ab_range=0.1, epoch=170\n",
      "Previously saved model is of lower resolution; recomputing\n"
     ]
    },
    {
     "name": "stderr",
     "output_type": "stream",
     "text": [
      "Outer loop (a): 100%|██████████| 100/100 [00:48<00:00,  2.08it/s]\n"
     ]
    },
    {
     "name": "stdout",
     "output_type": "stream",
     "text": [
      "✅ Updated and saved new grid at ../backend/landscapes/mlp_50/two_blobs_separate/train/range0.1/ep180\n",
      "Done: two_blobs_separate, width=50, depth=1, ab_range=0.1, epoch=180\n",
      "Previously saved model is of lower resolution; recomputing\n"
     ]
    },
    {
     "name": "stderr",
     "output_type": "stream",
     "text": [
      "Outer loop (a): 100%|██████████| 100/100 [00:48<00:00,  2.06it/s]\n"
     ]
    },
    {
     "name": "stdout",
     "output_type": "stream",
     "text": [
      "✅ Updated and saved new grid at ../backend/landscapes/mlp_50/two_blobs_separate/train/range0.1/ep190\n",
      "Done: two_blobs_separate, width=50, depth=1, ab_range=0.1, epoch=190\n",
      "Previously saved model is of lower resolution; recomputing\n"
     ]
    },
    {
     "name": "stderr",
     "output_type": "stream",
     "text": [
      "Outer loop (a): 100%|██████████| 100/100 [00:48<00:00,  2.08it/s]\n"
     ]
    },
    {
     "name": "stdout",
     "output_type": "stream",
     "text": [
      "✅ Updated and saved new grid at ../backend/landscapes/mlp_50/two_blobs_separate/train/range0.1/ep200\n",
      "Done: two_blobs_separate, width=50, depth=1, ab_range=0.1, epoch=200\n",
      "Previously saved model is of lower resolution; recomputing\n"
     ]
    },
    {
     "name": "stderr",
     "output_type": "stream",
     "text": [
      "Outer loop (a): 100%|██████████| 100/100 [00:48<00:00,  2.06it/s]\n"
     ]
    },
    {
     "name": "stdout",
     "output_type": "stream",
     "text": [
      "✅ Updated and saved new grid at ../backend/landscapes/mlp_50/two_blobs_separate/train/range0.1/ep210\n",
      "Done: two_blobs_separate, width=50, depth=1, ab_range=0.1, epoch=210\n",
      "Previously saved model is of lower resolution; recomputing\n"
     ]
    },
    {
     "name": "stderr",
     "output_type": "stream",
     "text": [
      "Outer loop (a): 100%|██████████| 100/100 [00:46<00:00,  2.14it/s]\n"
     ]
    },
    {
     "name": "stdout",
     "output_type": "stream",
     "text": [
      "✅ Updated and saved new grid at ../backend/landscapes/mlp_50/two_blobs_separate/train/range0.1/ep220\n",
      "Done: two_blobs_separate, width=50, depth=1, ab_range=0.1, epoch=220\n",
      "Previously saved model is of lower resolution; recomputing\n"
     ]
    },
    {
     "name": "stderr",
     "output_type": "stream",
     "text": [
      "Outer loop (a): 100%|██████████| 100/100 [00:49<00:00,  2.02it/s]\n"
     ]
    },
    {
     "name": "stdout",
     "output_type": "stream",
     "text": [
      "✅ Updated and saved new grid at ../backend/landscapes/mlp_50/two_blobs_separate/train/range0.1/ep230\n",
      "Done: two_blobs_separate, width=50, depth=1, ab_range=0.1, epoch=230\n",
      "Previously saved model is of lower resolution; recomputing\n"
     ]
    },
    {
     "name": "stderr",
     "output_type": "stream",
     "text": [
      "Outer loop (a): 100%|██████████| 100/100 [00:45<00:00,  2.22it/s]\n"
     ]
    },
    {
     "name": "stdout",
     "output_type": "stream",
     "text": [
      "✅ Updated and saved new grid at ../backend/landscapes/mlp_50/two_blobs_separate/train/range0.1/ep240\n",
      "Done: two_blobs_separate, width=50, depth=1, ab_range=0.1, epoch=240\n",
      "Previously saved model is of lower resolution; recomputing\n"
     ]
    },
    {
     "name": "stderr",
     "output_type": "stream",
     "text": [
      "Outer loop (a): 100%|██████████| 100/100 [00:46<00:00,  2.13it/s]\n"
     ]
    },
    {
     "name": "stdout",
     "output_type": "stream",
     "text": [
      "✅ Updated and saved new grid at ../backend/landscapes/mlp_50/two_blobs_separate/train/range0.1/ep250\n",
      "Done: two_blobs_separate, width=50, depth=1, ab_range=0.1, epoch=250\n",
      "Previously saved model is of lower resolution; recomputing\n"
     ]
    },
    {
     "name": "stderr",
     "output_type": "stream",
     "text": [
      "Outer loop (a): 100%|██████████| 100/100 [00:47<00:00,  2.11it/s]\n"
     ]
    },
    {
     "name": "stdout",
     "output_type": "stream",
     "text": [
      "✅ Updated and saved new grid at ../backend/landscapes/mlp_50/two_blobs_separate/train/range0.1/ep260\n",
      "Done: two_blobs_separate, width=50, depth=1, ab_range=0.1, epoch=260\n",
      "Previously saved model is of lower resolution; recomputing\n"
     ]
    },
    {
     "name": "stderr",
     "output_type": "stream",
     "text": [
      "Outer loop (a): 100%|██████████| 100/100 [00:47<00:00,  2.11it/s]\n"
     ]
    },
    {
     "name": "stdout",
     "output_type": "stream",
     "text": [
      "✅ Updated and saved new grid at ../backend/landscapes/mlp_50/two_blobs_separate/train/range0.1/ep270\n",
      "Done: two_blobs_separate, width=50, depth=1, ab_range=0.1, epoch=270\n",
      "Previously saved model is of lower resolution; recomputing\n"
     ]
    },
    {
     "name": "stderr",
     "output_type": "stream",
     "text": [
      "Outer loop (a): 100%|██████████| 100/100 [00:47<00:00,  2.12it/s]\n"
     ]
    },
    {
     "name": "stdout",
     "output_type": "stream",
     "text": [
      "✅ Updated and saved new grid at ../backend/landscapes/mlp_50/two_blobs_separate/train/range0.1/ep280\n",
      "Done: two_blobs_separate, width=50, depth=1, ab_range=0.1, epoch=280\n",
      "Previously saved model is of lower resolution; recomputing\n"
     ]
    },
    {
     "name": "stderr",
     "output_type": "stream",
     "text": [
      "Outer loop (a): 100%|██████████| 100/100 [00:49<00:00,  2.04it/s]\n"
     ]
    },
    {
     "name": "stdout",
     "output_type": "stream",
     "text": [
      "✅ Updated and saved new grid at ../backend/landscapes/mlp_50/two_blobs_separate/train/range0.1/ep290\n",
      "Done: two_blobs_separate, width=50, depth=1, ab_range=0.1, epoch=290\n",
      "Previously saved model is of lower resolution; recomputing\n"
     ]
    },
    {
     "name": "stderr",
     "output_type": "stream",
     "text": [
      "Outer loop (a): 100%|██████████| 100/100 [00:46<00:00,  2.15it/s]\n"
     ]
    },
    {
     "name": "stdout",
     "output_type": "stream",
     "text": [
      "✅ Updated and saved new grid at ../backend/landscapes/mlp_50/two_blobs_separate/train/range0.1/ep300\n",
      "Done: two_blobs_separate, width=50, depth=1, ab_range=0.1, epoch=300\n",
      "Previously saved model is of lower resolution; recomputing\n"
     ]
    },
    {
     "name": "stderr",
     "output_type": "stream",
     "text": [
      "Outer loop (a): 100%|██████████| 100/100 [00:47<00:00,  2.12it/s]\n"
     ]
    },
    {
     "name": "stdout",
     "output_type": "stream",
     "text": [
      "✅ Updated and saved new grid at ../backend/landscapes/mlp_50/two_blobs_separate/train/range0.1/ep310\n",
      "Done: two_blobs_separate, width=50, depth=1, ab_range=0.1, epoch=310\n",
      "Previously saved model is of lower resolution; recomputing\n"
     ]
    },
    {
     "name": "stderr",
     "output_type": "stream",
     "text": [
      "Outer loop (a): 100%|██████████| 100/100 [00:47<00:00,  2.10it/s]\n"
     ]
    },
    {
     "name": "stdout",
     "output_type": "stream",
     "text": [
      "✅ Updated and saved new grid at ../backend/landscapes/mlp_50/two_blobs_separate/train/range0.1/ep320\n",
      "Done: two_blobs_separate, width=50, depth=1, ab_range=0.1, epoch=320\n",
      "Previously saved model is of lower resolution; recomputing\n"
     ]
    },
    {
     "name": "stderr",
     "output_type": "stream",
     "text": [
      "Outer loop (a): 100%|██████████| 100/100 [00:47<00:00,  2.10it/s]\n"
     ]
    },
    {
     "name": "stdout",
     "output_type": "stream",
     "text": [
      "✅ Updated and saved new grid at ../backend/landscapes/mlp_50/two_blobs_separate/train/range0.1/ep330\n",
      "Done: two_blobs_separate, width=50, depth=1, ab_range=0.1, epoch=330\n",
      "Previously saved model is of lower resolution; recomputing\n"
     ]
    },
    {
     "name": "stderr",
     "output_type": "stream",
     "text": [
      "Outer loop (a): 100%|██████████| 100/100 [00:44<00:00,  2.24it/s]\n"
     ]
    },
    {
     "name": "stdout",
     "output_type": "stream",
     "text": [
      "✅ Updated and saved new grid at ../backend/landscapes/mlp_50/two_blobs_separate/train/range0.1/ep340\n",
      "Done: two_blobs_separate, width=50, depth=1, ab_range=0.1, epoch=340\n",
      "Previously saved model is of lower resolution; recomputing\n"
     ]
    },
    {
     "name": "stderr",
     "output_type": "stream",
     "text": [
      "Outer loop (a): 100%|██████████| 100/100 [00:45<00:00,  2.20it/s]\n"
     ]
    },
    {
     "name": "stdout",
     "output_type": "stream",
     "text": [
      "✅ Updated and saved new grid at ../backend/landscapes/mlp_50/two_blobs_separate/train/range0.1/ep350\n",
      "Done: two_blobs_separate, width=50, depth=1, ab_range=0.1, epoch=350\n",
      "Previously saved model is of lower resolution; recomputing\n"
     ]
    },
    {
     "name": "stderr",
     "output_type": "stream",
     "text": [
      "Outer loop (a): 100%|██████████| 100/100 [00:46<00:00,  2.15it/s]\n"
     ]
    },
    {
     "name": "stdout",
     "output_type": "stream",
     "text": [
      "✅ Updated and saved new grid at ../backend/landscapes/mlp_50/two_blobs_separate/train/range0.1/ep360\n",
      "Done: two_blobs_separate, width=50, depth=1, ab_range=0.1, epoch=360\n",
      "Previously saved model is of lower resolution; recomputing\n"
     ]
    },
    {
     "name": "stderr",
     "output_type": "stream",
     "text": [
      "Outer loop (a): 100%|██████████| 100/100 [00:47<00:00,  2.12it/s]\n"
     ]
    },
    {
     "name": "stdout",
     "output_type": "stream",
     "text": [
      "✅ Updated and saved new grid at ../backend/landscapes/mlp_50/two_blobs_separate/train/range0.1/ep370\n",
      "Done: two_blobs_separate, width=50, depth=1, ab_range=0.1, epoch=370\n",
      "Previously saved model is of lower resolution; recomputing\n"
     ]
    },
    {
     "name": "stderr",
     "output_type": "stream",
     "text": [
      "Outer loop (a): 100%|██████████| 100/100 [00:45<00:00,  2.18it/s]\n"
     ]
    },
    {
     "name": "stdout",
     "output_type": "stream",
     "text": [
      "✅ Updated and saved new grid at ../backend/landscapes/mlp_50/two_blobs_separate/train/range0.1/ep380\n",
      "Done: two_blobs_separate, width=50, depth=1, ab_range=0.1, epoch=380\n",
      "Previously saved model is of lower resolution; recomputing\n"
     ]
    },
    {
     "name": "stderr",
     "output_type": "stream",
     "text": [
      "Outer loop (a): 100%|██████████| 100/100 [00:46<00:00,  2.15it/s]\n"
     ]
    },
    {
     "name": "stdout",
     "output_type": "stream",
     "text": [
      "✅ Updated and saved new grid at ../backend/landscapes/mlp_50/two_blobs_separate/train/range0.1/ep390\n",
      "Done: two_blobs_separate, width=50, depth=1, ab_range=0.1, epoch=390\n",
      "Previously saved model is of lower resolution; recomputing\n"
     ]
    },
    {
     "name": "stderr",
     "output_type": "stream",
     "text": [
      "Outer loop (a): 100%|██████████| 100/100 [00:46<00:00,  2.16it/s]\n"
     ]
    },
    {
     "name": "stdout",
     "output_type": "stream",
     "text": [
      "✅ Updated and saved new grid at ../backend/landscapes/mlp_50/two_blobs_separate/train/range0.1/ep400\n",
      "Done: two_blobs_separate, width=50, depth=1, ab_range=0.1, epoch=400\n",
      "Previously saved model is of lower resolution; recomputing\n"
     ]
    },
    {
     "name": "stderr",
     "output_type": "stream",
     "text": [
      "Outer loop (a): 100%|██████████| 100/100 [00:47<00:00,  2.10it/s]\n"
     ]
    },
    {
     "name": "stdout",
     "output_type": "stream",
     "text": [
      "✅ Updated and saved new grid at ../backend/landscapes/mlp_50/two_blobs_separate/train/range0.1/ep410\n",
      "Done: two_blobs_separate, width=50, depth=1, ab_range=0.1, epoch=410\n",
      "Previously saved model is of lower resolution; recomputing\n"
     ]
    },
    {
     "name": "stderr",
     "output_type": "stream",
     "text": [
      "Outer loop (a): 100%|██████████| 100/100 [00:48<00:00,  2.07it/s]\n"
     ]
    },
    {
     "name": "stdout",
     "output_type": "stream",
     "text": [
      "✅ Updated and saved new grid at ../backend/landscapes/mlp_50/two_blobs_separate/train/range0.1/ep420\n",
      "Done: two_blobs_separate, width=50, depth=1, ab_range=0.1, epoch=420\n",
      "Previously saved model is of lower resolution; recomputing\n"
     ]
    },
    {
     "name": "stderr",
     "output_type": "stream",
     "text": [
      "Outer loop (a): 100%|██████████| 100/100 [00:47<00:00,  2.12it/s]\n"
     ]
    },
    {
     "name": "stdout",
     "output_type": "stream",
     "text": [
      "✅ Updated and saved new grid at ../backend/landscapes/mlp_50/two_blobs_separate/train/range0.1/ep430\n",
      "Done: two_blobs_separate, width=50, depth=1, ab_range=0.1, epoch=430\n",
      "Previously saved model is of lower resolution; recomputing\n"
     ]
    },
    {
     "name": "stderr",
     "output_type": "stream",
     "text": [
      "Outer loop (a): 100%|██████████| 100/100 [00:48<00:00,  2.07it/s]\n"
     ]
    },
    {
     "name": "stdout",
     "output_type": "stream",
     "text": [
      "✅ Updated and saved new grid at ../backend/landscapes/mlp_50/two_blobs_separate/train/range0.1/ep440\n",
      "Done: two_blobs_separate, width=50, depth=1, ab_range=0.1, epoch=440\n",
      "Previously saved model is of lower resolution; recomputing\n"
     ]
    },
    {
     "name": "stderr",
     "output_type": "stream",
     "text": [
      "Outer loop (a): 100%|██████████| 100/100 [00:47<00:00,  2.11it/s]\n"
     ]
    },
    {
     "name": "stdout",
     "output_type": "stream",
     "text": [
      "✅ Updated and saved new grid at ../backend/landscapes/mlp_50/two_blobs_separate/train/range0.1/ep450\n",
      "Done: two_blobs_separate, width=50, depth=1, ab_range=0.1, epoch=450\n",
      "Previously saved model is of lower resolution; recomputing\n"
     ]
    },
    {
     "name": "stderr",
     "output_type": "stream",
     "text": [
      "Outer loop (a): 100%|██████████| 100/100 [00:46<00:00,  2.15it/s]\n"
     ]
    },
    {
     "name": "stdout",
     "output_type": "stream",
     "text": [
      "✅ Updated and saved new grid at ../backend/landscapes/mlp_50/two_blobs_separate/train/range0.1/ep460\n",
      "Done: two_blobs_separate, width=50, depth=1, ab_range=0.1, epoch=460\n",
      "Previously saved model is of lower resolution; recomputing\n"
     ]
    },
    {
     "name": "stderr",
     "output_type": "stream",
     "text": [
      "Outer loop (a): 100%|██████████| 100/100 [00:47<00:00,  2.11it/s]\n"
     ]
    },
    {
     "name": "stdout",
     "output_type": "stream",
     "text": [
      "✅ Updated and saved new grid at ../backend/landscapes/mlp_50/two_blobs_separate/train/range0.1/ep470\n",
      "Done: two_blobs_separate, width=50, depth=1, ab_range=0.1, epoch=470\n",
      "Previously saved model is of lower resolution; recomputing\n"
     ]
    },
    {
     "name": "stderr",
     "output_type": "stream",
     "text": [
      "Outer loop (a): 100%|██████████| 100/100 [00:47<00:00,  2.09it/s]\n"
     ]
    },
    {
     "name": "stdout",
     "output_type": "stream",
     "text": [
      "✅ Updated and saved new grid at ../backend/landscapes/mlp_50/two_blobs_separate/train/range0.1/ep480\n",
      "Done: two_blobs_separate, width=50, depth=1, ab_range=0.1, epoch=480\n",
      "Previously saved model is of lower resolution; recomputing\n"
     ]
    },
    {
     "name": "stderr",
     "output_type": "stream",
     "text": [
      "Outer loop (a): 100%|██████████| 100/100 [00:46<00:00,  2.16it/s]\n"
     ]
    },
    {
     "name": "stdout",
     "output_type": "stream",
     "text": [
      "✅ Updated and saved new grid at ../backend/landscapes/mlp_50/two_blobs_separate/train/range0.1/ep490\n",
      "Done: two_blobs_separate, width=50, depth=1, ab_range=0.1, epoch=490\n",
      "Previously saved model is of lower resolution; recomputing\n"
     ]
    },
    {
     "name": "stderr",
     "output_type": "stream",
     "text": [
      "Outer loop (a): 100%|██████████| 100/100 [00:44<00:00,  2.23it/s]\n"
     ]
    },
    {
     "name": "stdout",
     "output_type": "stream",
     "text": [
      "✅ Updated and saved new grid at ../backend/landscapes/mlp_50/two_blobs_separate/train/range0.1/ep500\n",
      "Done: two_blobs_separate, width=50, depth=1, ab_range=0.1, epoch=500\n",
      "Previously saved model is of lower resolution; recomputing\n"
     ]
    },
    {
     "name": "stderr",
     "output_type": "stream",
     "text": [
      "Outer loop (a): 100%|██████████| 100/100 [00:50<00:00,  1.99it/s]\n"
     ]
    },
    {
     "name": "stdout",
     "output_type": "stream",
     "text": [
      "✅ Updated and saved new grid at ../backend/landscapes/mlp_50/two_blobs_separate/train/range0.1/ep510\n",
      "Done: two_blobs_separate, width=50, depth=1, ab_range=0.1, epoch=510\n",
      "Previously saved model is of lower resolution; recomputing\n"
     ]
    },
    {
     "name": "stderr",
     "output_type": "stream",
     "text": [
      "Outer loop (a): 100%|██████████| 100/100 [00:45<00:00,  2.19it/s]\n"
     ]
    },
    {
     "name": "stdout",
     "output_type": "stream",
     "text": [
      "✅ Updated and saved new grid at ../backend/landscapes/mlp_50/two_blobs_separate/train/range0.1/ep520\n",
      "Done: two_blobs_separate, width=50, depth=1, ab_range=0.1, epoch=520\n",
      "Previously saved model is of lower resolution; recomputing\n"
     ]
    },
    {
     "name": "stderr",
     "output_type": "stream",
     "text": [
      "Outer loop (a): 100%|██████████| 100/100 [00:47<00:00,  2.11it/s]\n"
     ]
    },
    {
     "name": "stdout",
     "output_type": "stream",
     "text": [
      "✅ Updated and saved new grid at ../backend/landscapes/mlp_50/two_blobs_separate/train/range0.1/ep530\n",
      "Done: two_blobs_separate, width=50, depth=1, ab_range=0.1, epoch=530\n",
      "Previously saved model is of lower resolution; recomputing\n"
     ]
    },
    {
     "name": "stderr",
     "output_type": "stream",
     "text": [
      "Outer loop (a): 100%|██████████| 100/100 [00:50<00:00,  2.00it/s]\n"
     ]
    },
    {
     "name": "stdout",
     "output_type": "stream",
     "text": [
      "✅ Updated and saved new grid at ../backend/landscapes/mlp_50/two_blobs_separate/train/range0.1/ep540\n",
      "Done: two_blobs_separate, width=50, depth=1, ab_range=0.1, epoch=540\n",
      "Previously saved model is of lower resolution; recomputing\n"
     ]
    },
    {
     "name": "stderr",
     "output_type": "stream",
     "text": [
      "Outer loop (a): 100%|██████████| 100/100 [00:46<00:00,  2.17it/s]\n"
     ]
    },
    {
     "name": "stdout",
     "output_type": "stream",
     "text": [
      "✅ Updated and saved new grid at ../backend/landscapes/mlp_50/two_blobs_separate/train/range0.1/ep550\n",
      "Done: two_blobs_separate, width=50, depth=1, ab_range=0.1, epoch=550\n",
      "Previously saved model is of lower resolution; recomputing\n"
     ]
    },
    {
     "name": "stderr",
     "output_type": "stream",
     "text": [
      "Outer loop (a): 100%|██████████| 100/100 [00:48<00:00,  2.06it/s]\n"
     ]
    },
    {
     "name": "stdout",
     "output_type": "stream",
     "text": [
      "✅ Updated and saved new grid at ../backend/landscapes/mlp_50/two_blobs_separate/train/range0.1/ep560\n",
      "Done: two_blobs_separate, width=50, depth=1, ab_range=0.1, epoch=560\n",
      "Previously saved model is of lower resolution; recomputing\n"
     ]
    },
    {
     "name": "stderr",
     "output_type": "stream",
     "text": [
      "Outer loop (a): 100%|██████████| 100/100 [00:48<00:00,  2.08it/s]\n"
     ]
    },
    {
     "name": "stdout",
     "output_type": "stream",
     "text": [
      "✅ Updated and saved new grid at ../backend/landscapes/mlp_50/two_blobs_separate/train/range0.1/ep570\n",
      "Done: two_blobs_separate, width=50, depth=1, ab_range=0.1, epoch=570\n",
      "Previously saved model is of lower resolution; recomputing\n"
     ]
    },
    {
     "name": "stderr",
     "output_type": "stream",
     "text": [
      "Outer loop (a): 100%|██████████| 100/100 [00:45<00:00,  2.18it/s]\n"
     ]
    },
    {
     "name": "stdout",
     "output_type": "stream",
     "text": [
      "✅ Updated and saved new grid at ../backend/landscapes/mlp_50/two_blobs_separate/train/range0.1/ep580\n",
      "Done: two_blobs_separate, width=50, depth=1, ab_range=0.1, epoch=580\n",
      "Previously saved model is of lower resolution; recomputing\n"
     ]
    },
    {
     "name": "stderr",
     "output_type": "stream",
     "text": [
      "Outer loop (a): 100%|██████████| 100/100 [00:46<00:00,  2.13it/s]\n"
     ]
    },
    {
     "name": "stdout",
     "output_type": "stream",
     "text": [
      "✅ Updated and saved new grid at ../backend/landscapes/mlp_50/two_blobs_separate/train/range0.1/ep590\n",
      "Done: two_blobs_separate, width=50, depth=1, ab_range=0.1, epoch=590\n",
      "Previously saved model is of lower resolution; recomputing\n"
     ]
    },
    {
     "name": "stderr",
     "output_type": "stream",
     "text": [
      "Outer loop (a): 100%|██████████| 100/100 [00:47<00:00,  2.10it/s]\n"
     ]
    },
    {
     "name": "stdout",
     "output_type": "stream",
     "text": [
      "✅ Updated and saved new grid at ../backend/landscapes/mlp_50/two_blobs_separate/train/range0.1/ep600\n",
      "Done: two_blobs_separate, width=50, depth=1, ab_range=0.1, epoch=600\n",
      "Previously saved model is of lower resolution; recomputing\n"
     ]
    },
    {
     "name": "stderr",
     "output_type": "stream",
     "text": [
      "Outer loop (a): 100%|██████████| 100/100 [00:47<00:00,  2.09it/s]\n"
     ]
    },
    {
     "name": "stdout",
     "output_type": "stream",
     "text": [
      "✅ Updated and saved new grid at ../backend/landscapes/mlp_50/two_blobs_separate/train/range0.1/ep610\n",
      "Done: two_blobs_separate, width=50, depth=1, ab_range=0.1, epoch=610\n",
      "Previously saved model is of lower resolution; recomputing\n"
     ]
    },
    {
     "name": "stderr",
     "output_type": "stream",
     "text": [
      "Outer loop (a): 100%|██████████| 100/100 [00:49<00:00,  2.01it/s]\n"
     ]
    },
    {
     "name": "stdout",
     "output_type": "stream",
     "text": [
      "✅ Updated and saved new grid at ../backend/landscapes/mlp_50/two_blobs_separate/train/range0.1/ep620\n",
      "Done: two_blobs_separate, width=50, depth=1, ab_range=0.1, epoch=620\n",
      "Previously saved model is of lower resolution; recomputing\n"
     ]
    },
    {
     "name": "stderr",
     "output_type": "stream",
     "text": [
      "Outer loop (a): 100%|██████████| 100/100 [00:50<00:00,  1.99it/s]\n"
     ]
    },
    {
     "name": "stdout",
     "output_type": "stream",
     "text": [
      "✅ Updated and saved new grid at ../backend/landscapes/mlp_50/two_blobs_separate/train/range0.1/ep630\n",
      "Done: two_blobs_separate, width=50, depth=1, ab_range=0.1, epoch=630\n",
      "Previously saved model is of lower resolution; recomputing\n"
     ]
    },
    {
     "name": "stderr",
     "output_type": "stream",
     "text": [
      "Outer loop (a): 100%|██████████| 100/100 [00:47<00:00,  2.11it/s]\n"
     ]
    },
    {
     "name": "stdout",
     "output_type": "stream",
     "text": [
      "✅ Updated and saved new grid at ../backend/landscapes/mlp_50/two_blobs_separate/train/range0.1/ep640\n",
      "Done: two_blobs_separate, width=50, depth=1, ab_range=0.1, epoch=640\n",
      "Previously saved model is of lower resolution; recomputing\n"
     ]
    },
    {
     "name": "stderr",
     "output_type": "stream",
     "text": [
      "Outer loop (a): 100%|██████████| 100/100 [00:46<00:00,  2.15it/s]\n"
     ]
    },
    {
     "name": "stdout",
     "output_type": "stream",
     "text": [
      "✅ Updated and saved new grid at ../backend/landscapes/mlp_50/two_blobs_separate/train/range0.1/ep650\n",
      "Done: two_blobs_separate, width=50, depth=1, ab_range=0.1, epoch=650\n",
      "Previously saved model is of lower resolution; recomputing\n"
     ]
    },
    {
     "name": "stderr",
     "output_type": "stream",
     "text": [
      "Outer loop (a): 100%|██████████| 100/100 [00:47<00:00,  2.11it/s]\n"
     ]
    },
    {
     "name": "stdout",
     "output_type": "stream",
     "text": [
      "✅ Updated and saved new grid at ../backend/landscapes/mlp_50/two_blobs_separate/train/range0.1/ep660\n",
      "Done: two_blobs_separate, width=50, depth=1, ab_range=0.1, epoch=660\n",
      "Previously saved model is of lower resolution; recomputing\n"
     ]
    },
    {
     "name": "stderr",
     "output_type": "stream",
     "text": [
      "Outer loop (a): 100%|██████████| 100/100 [00:48<00:00,  2.07it/s]\n"
     ]
    },
    {
     "name": "stdout",
     "output_type": "stream",
     "text": [
      "✅ Updated and saved new grid at ../backend/landscapes/mlp_50/two_blobs_separate/train/range0.1/ep670\n",
      "Done: two_blobs_separate, width=50, depth=1, ab_range=0.1, epoch=670\n",
      "Previously saved model is of lower resolution; recomputing\n"
     ]
    },
    {
     "name": "stderr",
     "output_type": "stream",
     "text": [
      "Outer loop (a): 100%|██████████| 100/100 [00:47<00:00,  2.09it/s]\n"
     ]
    },
    {
     "name": "stdout",
     "output_type": "stream",
     "text": [
      "✅ Updated and saved new grid at ../backend/landscapes/mlp_50/two_blobs_separate/train/range0.1/ep680\n",
      "Done: two_blobs_separate, width=50, depth=1, ab_range=0.1, epoch=680\n",
      "Previously saved model is of lower resolution; recomputing\n"
     ]
    },
    {
     "name": "stderr",
     "output_type": "stream",
     "text": [
      "Outer loop (a): 100%|██████████| 100/100 [00:46<00:00,  2.13it/s]\n"
     ]
    },
    {
     "name": "stdout",
     "output_type": "stream",
     "text": [
      "✅ Updated and saved new grid at ../backend/landscapes/mlp_50/two_blobs_separate/train/range0.1/ep690\n",
      "Done: two_blobs_separate, width=50, depth=1, ab_range=0.1, epoch=690\n",
      "Previously saved model is of lower resolution; recomputing\n"
     ]
    },
    {
     "name": "stderr",
     "output_type": "stream",
     "text": [
      "Outer loop (a): 100%|██████████| 100/100 [00:47<00:00,  2.09it/s]\n"
     ]
    },
    {
     "name": "stdout",
     "output_type": "stream",
     "text": [
      "✅ Updated and saved new grid at ../backend/landscapes/mlp_50/two_blobs_separate/train/range0.1/ep700\n",
      "Done: two_blobs_separate, width=50, depth=1, ab_range=0.1, epoch=700\n",
      "Previously saved model is of lower resolution; recomputing\n"
     ]
    },
    {
     "name": "stderr",
     "output_type": "stream",
     "text": [
      "Outer loop (a): 100%|██████████| 100/100 [00:46<00:00,  2.14it/s]\n"
     ]
    },
    {
     "name": "stdout",
     "output_type": "stream",
     "text": [
      "✅ Updated and saved new grid at ../backend/landscapes/mlp_50/two_blobs_separate/train/range0.1/ep710\n",
      "Done: two_blobs_separate, width=50, depth=1, ab_range=0.1, epoch=710\n",
      "Previously saved model is of lower resolution; recomputing\n"
     ]
    },
    {
     "name": "stderr",
     "output_type": "stream",
     "text": [
      "Outer loop (a): 100%|██████████| 100/100 [00:48<00:00,  2.06it/s]\n"
     ]
    },
    {
     "name": "stdout",
     "output_type": "stream",
     "text": [
      "✅ Updated and saved new grid at ../backend/landscapes/mlp_50/two_blobs_separate/train/range0.1/ep720\n",
      "Done: two_blobs_separate, width=50, depth=1, ab_range=0.1, epoch=720\n",
      "Previously saved model is of lower resolution; recomputing\n"
     ]
    },
    {
     "name": "stderr",
     "output_type": "stream",
     "text": [
      "Outer loop (a): 100%|██████████| 100/100 [00:47<00:00,  2.10it/s]\n"
     ]
    },
    {
     "name": "stdout",
     "output_type": "stream",
     "text": [
      "✅ Updated and saved new grid at ../backend/landscapes/mlp_50/two_blobs_separate/train/range0.1/ep730\n",
      "Done: two_blobs_separate, width=50, depth=1, ab_range=0.1, epoch=730\n",
      "Previously saved model is of lower resolution; recomputing\n"
     ]
    },
    {
     "name": "stderr",
     "output_type": "stream",
     "text": [
      "Outer loop (a): 100%|██████████| 100/100 [00:47<00:00,  2.09it/s]\n"
     ]
    },
    {
     "name": "stdout",
     "output_type": "stream",
     "text": [
      "✅ Updated and saved new grid at ../backend/landscapes/mlp_50/two_blobs_separate/train/range0.1/ep740\n",
      "Done: two_blobs_separate, width=50, depth=1, ab_range=0.1, epoch=740\n",
      "Previously saved model is of lower resolution; recomputing\n"
     ]
    },
    {
     "name": "stderr",
     "output_type": "stream",
     "text": [
      "Outer loop (a): 100%|██████████| 100/100 [00:48<00:00,  2.07it/s]\n"
     ]
    },
    {
     "name": "stdout",
     "output_type": "stream",
     "text": [
      "✅ Updated and saved new grid at ../backend/landscapes/mlp_50/two_blobs_separate/train/range0.1/ep750\n",
      "Done: two_blobs_separate, width=50, depth=1, ab_range=0.1, epoch=750\n",
      "Previously saved model is of lower resolution; recomputing\n"
     ]
    },
    {
     "name": "stderr",
     "output_type": "stream",
     "text": [
      "Outer loop (a): 100%|██████████| 100/100 [00:45<00:00,  2.18it/s]\n"
     ]
    },
    {
     "name": "stdout",
     "output_type": "stream",
     "text": [
      "✅ Updated and saved new grid at ../backend/landscapes/mlp_50/two_blobs_separate/train/range0.1/ep760\n",
      "Done: two_blobs_separate, width=50, depth=1, ab_range=0.1, epoch=760\n",
      "Previously saved model is of lower resolution; recomputing\n"
     ]
    },
    {
     "name": "stderr",
     "output_type": "stream",
     "text": [
      "Outer loop (a): 100%|██████████| 100/100 [00:49<00:00,  2.03it/s]\n"
     ]
    },
    {
     "name": "stdout",
     "output_type": "stream",
     "text": [
      "✅ Updated and saved new grid at ../backend/landscapes/mlp_50/two_blobs_separate/train/range0.1/ep770\n",
      "Done: two_blobs_separate, width=50, depth=1, ab_range=0.1, epoch=770\n",
      "Previously saved model is of lower resolution; recomputing\n"
     ]
    },
    {
     "name": "stderr",
     "output_type": "stream",
     "text": [
      "Outer loop (a): 100%|██████████| 100/100 [00:47<00:00,  2.09it/s]\n"
     ]
    },
    {
     "name": "stdout",
     "output_type": "stream",
     "text": [
      "✅ Updated and saved new grid at ../backend/landscapes/mlp_50/two_blobs_separate/train/range0.1/ep780\n",
      "Done: two_blobs_separate, width=50, depth=1, ab_range=0.1, epoch=780\n",
      "Previously saved model is of lower resolution; recomputing\n"
     ]
    },
    {
     "name": "stderr",
     "output_type": "stream",
     "text": [
      "Outer loop (a): 100%|██████████| 100/100 [00:47<00:00,  2.13it/s]\n"
     ]
    },
    {
     "name": "stdout",
     "output_type": "stream",
     "text": [
      "✅ Updated and saved new grid at ../backend/landscapes/mlp_50/two_blobs_separate/train/range0.1/ep790\n",
      "Done: two_blobs_separate, width=50, depth=1, ab_range=0.1, epoch=790\n",
      "Previously saved model is of lower resolution; recomputing\n"
     ]
    },
    {
     "name": "stderr",
     "output_type": "stream",
     "text": [
      "Outer loop (a): 100%|██████████| 100/100 [00:47<00:00,  2.12it/s]\n"
     ]
    },
    {
     "name": "stdout",
     "output_type": "stream",
     "text": [
      "✅ Updated and saved new grid at ../backend/landscapes/mlp_50/two_blobs_separate/train/range0.1/ep800\n",
      "Done: two_blobs_separate, width=50, depth=1, ab_range=0.1, epoch=800\n",
      "Previously saved model is of lower resolution; recomputing\n"
     ]
    },
    {
     "name": "stderr",
     "output_type": "stream",
     "text": [
      "Outer loop (a): 100%|██████████| 100/100 [00:48<00:00,  2.07it/s]\n"
     ]
    },
    {
     "name": "stdout",
     "output_type": "stream",
     "text": [
      "✅ Updated and saved new grid at ../backend/landscapes/mlp_50/two_blobs_separate/train/range0.1/ep810\n",
      "Done: two_blobs_separate, width=50, depth=1, ab_range=0.1, epoch=810\n",
      "Previously saved model is of lower resolution; recomputing\n"
     ]
    },
    {
     "name": "stderr",
     "output_type": "stream",
     "text": [
      "Outer loop (a): 100%|██████████| 100/100 [00:48<00:00,  2.06it/s]\n"
     ]
    },
    {
     "name": "stdout",
     "output_type": "stream",
     "text": [
      "✅ Updated and saved new grid at ../backend/landscapes/mlp_50/two_blobs_separate/train/range0.1/ep820\n",
      "Done: two_blobs_separate, width=50, depth=1, ab_range=0.1, epoch=820\n",
      "Previously saved model is of lower resolution; recomputing\n"
     ]
    },
    {
     "name": "stderr",
     "output_type": "stream",
     "text": [
      "Outer loop (a): 100%|██████████| 100/100 [00:46<00:00,  2.14it/s]\n"
     ]
    },
    {
     "name": "stdout",
     "output_type": "stream",
     "text": [
      "✅ Updated and saved new grid at ../backend/landscapes/mlp_50/two_blobs_separate/train/range0.1/ep830\n",
      "Done: two_blobs_separate, width=50, depth=1, ab_range=0.1, epoch=830\n",
      "Previously saved model is of lower resolution; recomputing\n"
     ]
    },
    {
     "name": "stderr",
     "output_type": "stream",
     "text": [
      "Outer loop (a): 100%|██████████| 100/100 [00:47<00:00,  2.10it/s]\n"
     ]
    },
    {
     "name": "stdout",
     "output_type": "stream",
     "text": [
      "✅ Updated and saved new grid at ../backend/landscapes/mlp_50/two_blobs_separate/train/range0.1/ep840\n",
      "Done: two_blobs_separate, width=50, depth=1, ab_range=0.1, epoch=840\n",
      "Previously saved model is of lower resolution; recomputing\n"
     ]
    },
    {
     "name": "stderr",
     "output_type": "stream",
     "text": [
      "Outer loop (a): 100%|██████████| 100/100 [00:47<00:00,  2.12it/s]\n"
     ]
    },
    {
     "name": "stdout",
     "output_type": "stream",
     "text": [
      "✅ Updated and saved new grid at ../backend/landscapes/mlp_50/two_blobs_separate/train/range0.1/ep850\n",
      "Done: two_blobs_separate, width=50, depth=1, ab_range=0.1, epoch=850\n",
      "Previously saved model is of lower resolution; recomputing\n"
     ]
    },
    {
     "name": "stderr",
     "output_type": "stream",
     "text": [
      "Outer loop (a): 100%|██████████| 100/100 [00:48<00:00,  2.08it/s]\n"
     ]
    },
    {
     "name": "stdout",
     "output_type": "stream",
     "text": [
      "✅ Updated and saved new grid at ../backend/landscapes/mlp_50/two_blobs_separate/train/range0.1/ep860\n",
      "Done: two_blobs_separate, width=50, depth=1, ab_range=0.1, epoch=860\n",
      "Previously saved model is of lower resolution; recomputing\n"
     ]
    },
    {
     "name": "stderr",
     "output_type": "stream",
     "text": [
      "Outer loop (a): 100%|██████████| 100/100 [00:49<00:00,  2.02it/s]\n"
     ]
    },
    {
     "name": "stdout",
     "output_type": "stream",
     "text": [
      "✅ Updated and saved new grid at ../backend/landscapes/mlp_50/two_blobs_separate/train/range0.1/ep870\n",
      "Done: two_blobs_separate, width=50, depth=1, ab_range=0.1, epoch=870\n",
      "Previously saved model is of lower resolution; recomputing\n"
     ]
    },
    {
     "name": "stderr",
     "output_type": "stream",
     "text": [
      "Outer loop (a): 100%|██████████| 100/100 [00:47<00:00,  2.12it/s]\n"
     ]
    },
    {
     "name": "stdout",
     "output_type": "stream",
     "text": [
      "✅ Updated and saved new grid at ../backend/landscapes/mlp_50/two_blobs_separate/train/range0.1/ep880\n",
      "Done: two_blobs_separate, width=50, depth=1, ab_range=0.1, epoch=880\n",
      "Previously saved model is of lower resolution; recomputing\n"
     ]
    },
    {
     "name": "stderr",
     "output_type": "stream",
     "text": [
      "Outer loop (a): 100%|██████████| 100/100 [00:48<00:00,  2.07it/s]\n"
     ]
    },
    {
     "name": "stdout",
     "output_type": "stream",
     "text": [
      "✅ Updated and saved new grid at ../backend/landscapes/mlp_50/two_blobs_separate/train/range0.1/ep890\n",
      "Done: two_blobs_separate, width=50, depth=1, ab_range=0.1, epoch=890\n",
      "Previously saved model is of lower resolution; recomputing\n"
     ]
    },
    {
     "name": "stderr",
     "output_type": "stream",
     "text": [
      "Outer loop (a): 100%|██████████| 100/100 [00:49<00:00,  2.01it/s]\n"
     ]
    },
    {
     "name": "stdout",
     "output_type": "stream",
     "text": [
      "✅ Updated and saved new grid at ../backend/landscapes/mlp_50/two_blobs_separate/train/range0.1/ep900\n",
      "Done: two_blobs_separate, width=50, depth=1, ab_range=0.1, epoch=900\n",
      "Previously saved model is of lower resolution; recomputing\n"
     ]
    },
    {
     "name": "stderr",
     "output_type": "stream",
     "text": [
      "Outer loop (a): 100%|██████████| 100/100 [00:48<00:00,  2.05it/s]\n"
     ]
    },
    {
     "name": "stdout",
     "output_type": "stream",
     "text": [
      "✅ Updated and saved new grid at ../backend/landscapes/mlp_50/two_blobs_separate/train/range0.1/ep910\n",
      "Done: two_blobs_separate, width=50, depth=1, ab_range=0.1, epoch=910\n",
      "Previously saved model is of lower resolution; recomputing\n"
     ]
    },
    {
     "name": "stderr",
     "output_type": "stream",
     "text": [
      "Outer loop (a): 100%|██████████| 100/100 [00:48<00:00,  2.04it/s]\n"
     ]
    },
    {
     "name": "stdout",
     "output_type": "stream",
     "text": [
      "✅ Updated and saved new grid at ../backend/landscapes/mlp_50/two_blobs_separate/train/range0.1/ep920\n",
      "Done: two_blobs_separate, width=50, depth=1, ab_range=0.1, epoch=920\n",
      "Previously saved model is of lower resolution; recomputing\n"
     ]
    },
    {
     "name": "stderr",
     "output_type": "stream",
     "text": [
      "Outer loop (a): 100%|██████████| 100/100 [00:47<00:00,  2.10it/s]\n"
     ]
    },
    {
     "name": "stdout",
     "output_type": "stream",
     "text": [
      "✅ Updated and saved new grid at ../backend/landscapes/mlp_50/two_blobs_separate/train/range0.1/ep930\n",
      "Done: two_blobs_separate, width=50, depth=1, ab_range=0.1, epoch=930\n",
      "Previously saved model is of lower resolution; recomputing\n"
     ]
    },
    {
     "name": "stderr",
     "output_type": "stream",
     "text": [
      "Outer loop (a): 100%|██████████| 100/100 [00:49<00:00,  2.02it/s]\n"
     ]
    },
    {
     "name": "stdout",
     "output_type": "stream",
     "text": [
      "✅ Updated and saved new grid at ../backend/landscapes/mlp_50/two_blobs_separate/train/range0.1/ep940\n",
      "Done: two_blobs_separate, width=50, depth=1, ab_range=0.1, epoch=940\n",
      "Previously saved model is of lower resolution; recomputing\n"
     ]
    },
    {
     "name": "stderr",
     "output_type": "stream",
     "text": [
      "Outer loop (a): 100%|██████████| 100/100 [00:49<00:00,  2.04it/s]\n"
     ]
    },
    {
     "name": "stdout",
     "output_type": "stream",
     "text": [
      "✅ Updated and saved new grid at ../backend/landscapes/mlp_50/two_blobs_separate/train/range0.1/ep950\n",
      "Done: two_blobs_separate, width=50, depth=1, ab_range=0.1, epoch=950\n",
      "Previously saved model is of lower resolution; recomputing\n"
     ]
    },
    {
     "name": "stderr",
     "output_type": "stream",
     "text": [
      "Outer loop (a): 100%|██████████| 100/100 [00:48<00:00,  2.07it/s]\n"
     ]
    },
    {
     "name": "stdout",
     "output_type": "stream",
     "text": [
      "✅ Updated and saved new grid at ../backend/landscapes/mlp_50/two_blobs_separate/train/range0.1/ep960\n",
      "Done: two_blobs_separate, width=50, depth=1, ab_range=0.1, epoch=960\n",
      "Previously saved model is of lower resolution; recomputing\n"
     ]
    },
    {
     "name": "stderr",
     "output_type": "stream",
     "text": [
      "Outer loop (a): 100%|██████████| 100/100 [00:49<00:00,  2.04it/s]\n"
     ]
    },
    {
     "name": "stdout",
     "output_type": "stream",
     "text": [
      "✅ Updated and saved new grid at ../backend/landscapes/mlp_50/two_blobs_separate/train/range0.1/ep970\n",
      "Done: two_blobs_separate, width=50, depth=1, ab_range=0.1, epoch=970\n",
      "Previously saved model is of lower resolution; recomputing\n"
     ]
    },
    {
     "name": "stderr",
     "output_type": "stream",
     "text": [
      "Outer loop (a): 100%|██████████| 100/100 [00:46<00:00,  2.15it/s]\n"
     ]
    },
    {
     "name": "stdout",
     "output_type": "stream",
     "text": [
      "✅ Updated and saved new grid at ../backend/landscapes/mlp_50/two_blobs_separate/train/range0.1/ep980\n",
      "Done: two_blobs_separate, width=50, depth=1, ab_range=0.1, epoch=980\n",
      "Previously saved model is of lower resolution; recomputing\n"
     ]
    },
    {
     "name": "stderr",
     "output_type": "stream",
     "text": [
      "Outer loop (a): 100%|██████████| 100/100 [00:47<00:00,  2.11it/s]\n"
     ]
    },
    {
     "name": "stdout",
     "output_type": "stream",
     "text": [
      "✅ Updated and saved new grid at ../backend/landscapes/mlp_50/two_blobs_separate/train/range0.1/ep990\n",
      "Done: two_blobs_separate, width=50, depth=1, ab_range=0.1, epoch=990\n",
      "Previously saved model is of lower resolution; recomputing\n"
     ]
    },
    {
     "name": "stderr",
     "output_type": "stream",
     "text": [
      "Outer loop (a): 100%|██████████| 100/100 [00:48<00:00,  2.07it/s]\n"
     ]
    },
    {
     "name": "stdout",
     "output_type": "stream",
     "text": [
      "✅ Updated and saved new grid at ../backend/landscapes/mlp_50/two_blobs_separate/train/range0.1/ep1000\n",
      "Done: two_blobs_separate, width=50, depth=1, ab_range=0.1, epoch=1000\n",
      "Previously saved model is of lower resolution; recomputing\n"
     ]
    },
    {
     "name": "stderr",
     "output_type": "stream",
     "text": [
      "Outer loop (a): 100%|██████████| 100/100 [00:46<00:00,  2.14it/s]\n"
     ]
    },
    {
     "name": "stdout",
     "output_type": "stream",
     "text": [
      "✅ Updated and saved new grid at ../backend/landscapes/mlp_50/two_blobs_separate/train/range1/ep0\n",
      "Done: two_blobs_separate, width=50, depth=1, ab_range=1, epoch=0\n",
      "Previously saved model is of lower resolution; recomputing\n"
     ]
    },
    {
     "name": "stderr",
     "output_type": "stream",
     "text": [
      "Outer loop (a): 100%|██████████| 100/100 [00:47<00:00,  2.10it/s]\n"
     ]
    },
    {
     "name": "stdout",
     "output_type": "stream",
     "text": [
      "✅ Updated and saved new grid at ../backend/landscapes/mlp_50/two_blobs_separate/train/range1/ep10\n",
      "Done: two_blobs_separate, width=50, depth=1, ab_range=1, epoch=10\n",
      "Previously saved model is of lower resolution; recomputing\n"
     ]
    },
    {
     "name": "stderr",
     "output_type": "stream",
     "text": [
      "Outer loop (a): 100%|██████████| 100/100 [00:47<00:00,  2.10it/s]\n"
     ]
    },
    {
     "name": "stdout",
     "output_type": "stream",
     "text": [
      "✅ Updated and saved new grid at ../backend/landscapes/mlp_50/two_blobs_separate/train/range1/ep20\n",
      "Done: two_blobs_separate, width=50, depth=1, ab_range=1, epoch=20\n",
      "Previously saved model is of lower resolution; recomputing\n"
     ]
    },
    {
     "name": "stderr",
     "output_type": "stream",
     "text": [
      "Outer loop (a): 100%|██████████| 100/100 [00:48<00:00,  2.05it/s]\n"
     ]
    },
    {
     "name": "stdout",
     "output_type": "stream",
     "text": [
      "✅ Updated and saved new grid at ../backend/landscapes/mlp_50/two_blobs_separate/train/range1/ep30\n",
      "Done: two_blobs_separate, width=50, depth=1, ab_range=1, epoch=30\n",
      "Previously saved model is of lower resolution; recomputing\n"
     ]
    },
    {
     "name": "stderr",
     "output_type": "stream",
     "text": [
      "Outer loop (a): 100%|██████████| 100/100 [00:45<00:00,  2.19it/s]\n"
     ]
    },
    {
     "name": "stdout",
     "output_type": "stream",
     "text": [
      "✅ Updated and saved new grid at ../backend/landscapes/mlp_50/two_blobs_separate/train/range1/ep40\n",
      "Done: two_blobs_separate, width=50, depth=1, ab_range=1, epoch=40\n",
      "Previously saved model is of lower resolution; recomputing\n"
     ]
    },
    {
     "name": "stderr",
     "output_type": "stream",
     "text": [
      "Outer loop (a): 100%|██████████| 100/100 [00:47<00:00,  2.13it/s]\n"
     ]
    },
    {
     "name": "stdout",
     "output_type": "stream",
     "text": [
      "✅ Updated and saved new grid at ../backend/landscapes/mlp_50/two_blobs_separate/train/range1/ep50\n",
      "Done: two_blobs_separate, width=50, depth=1, ab_range=1, epoch=50\n",
      "Previously saved model is of lower resolution; recomputing\n"
     ]
    },
    {
     "name": "stderr",
     "output_type": "stream",
     "text": [
      "Outer loop (a): 100%|██████████| 100/100 [00:48<00:00,  2.05it/s]\n"
     ]
    },
    {
     "name": "stdout",
     "output_type": "stream",
     "text": [
      "✅ Updated and saved new grid at ../backend/landscapes/mlp_50/two_blobs_separate/train/range1/ep60\n",
      "Done: two_blobs_separate, width=50, depth=1, ab_range=1, epoch=60\n",
      "Previously saved model is of lower resolution; recomputing\n"
     ]
    },
    {
     "name": "stderr",
     "output_type": "stream",
     "text": [
      "Outer loop (a): 100%|██████████| 100/100 [00:49<00:00,  2.02it/s]\n"
     ]
    },
    {
     "name": "stdout",
     "output_type": "stream",
     "text": [
      "✅ Updated and saved new grid at ../backend/landscapes/mlp_50/two_blobs_separate/train/range1/ep70\n",
      "Done: two_blobs_separate, width=50, depth=1, ab_range=1, epoch=70\n",
      "Previously saved model is of lower resolution; recomputing\n"
     ]
    },
    {
     "name": "stderr",
     "output_type": "stream",
     "text": [
      "Outer loop (a): 100%|██████████| 100/100 [00:46<00:00,  2.14it/s]\n"
     ]
    },
    {
     "name": "stdout",
     "output_type": "stream",
     "text": [
      "✅ Updated and saved new grid at ../backend/landscapes/mlp_50/two_blobs_separate/train/range1/ep80\n",
      "Done: two_blobs_separate, width=50, depth=1, ab_range=1, epoch=80\n",
      "Previously saved model is of lower resolution; recomputing\n"
     ]
    },
    {
     "name": "stderr",
     "output_type": "stream",
     "text": [
      "Outer loop (a): 100%|██████████| 100/100 [00:46<00:00,  2.16it/s]\n"
     ]
    },
    {
     "name": "stdout",
     "output_type": "stream",
     "text": [
      "✅ Updated and saved new grid at ../backend/landscapes/mlp_50/two_blobs_separate/train/range1/ep90\n",
      "Done: two_blobs_separate, width=50, depth=1, ab_range=1, epoch=90\n",
      "Previously saved model is of lower resolution; recomputing\n"
     ]
    },
    {
     "name": "stderr",
     "output_type": "stream",
     "text": [
      "Outer loop (a): 100%|██████████| 100/100 [00:47<00:00,  2.11it/s]\n"
     ]
    },
    {
     "name": "stdout",
     "output_type": "stream",
     "text": [
      "✅ Updated and saved new grid at ../backend/landscapes/mlp_50/two_blobs_separate/train/range1/ep100\n",
      "Done: two_blobs_separate, width=50, depth=1, ab_range=1, epoch=100\n",
      "Previously saved model is of lower resolution; recomputing\n"
     ]
    },
    {
     "name": "stderr",
     "output_type": "stream",
     "text": [
      "Outer loop (a): 100%|██████████| 100/100 [00:47<00:00,  2.09it/s]\n"
     ]
    },
    {
     "name": "stdout",
     "output_type": "stream",
     "text": [
      "✅ Updated and saved new grid at ../backend/landscapes/mlp_50/two_blobs_separate/train/range1/ep110\n",
      "Done: two_blobs_separate, width=50, depth=1, ab_range=1, epoch=110\n",
      "Previously saved model is of lower resolution; recomputing\n"
     ]
    },
    {
     "name": "stderr",
     "output_type": "stream",
     "text": [
      "Outer loop (a): 100%|██████████| 100/100 [00:47<00:00,  2.10it/s]\n"
     ]
    },
    {
     "name": "stdout",
     "output_type": "stream",
     "text": [
      "✅ Updated and saved new grid at ../backend/landscapes/mlp_50/two_blobs_separate/train/range1/ep120\n",
      "Done: two_blobs_separate, width=50, depth=1, ab_range=1, epoch=120\n",
      "Previously saved model is of lower resolution; recomputing\n"
     ]
    },
    {
     "name": "stderr",
     "output_type": "stream",
     "text": [
      "Outer loop (a): 100%|██████████| 100/100 [00:47<00:00,  2.13it/s]\n"
     ]
    },
    {
     "name": "stdout",
     "output_type": "stream",
     "text": [
      "✅ Updated and saved new grid at ../backend/landscapes/mlp_50/two_blobs_separate/train/range1/ep130\n",
      "Done: two_blobs_separate, width=50, depth=1, ab_range=1, epoch=130\n",
      "Previously saved model is of lower resolution; recomputing\n"
     ]
    },
    {
     "name": "stderr",
     "output_type": "stream",
     "text": [
      "Outer loop (a): 100%|██████████| 100/100 [00:48<00:00,  2.05it/s]\n"
     ]
    },
    {
     "name": "stdout",
     "output_type": "stream",
     "text": [
      "✅ Updated and saved new grid at ../backend/landscapes/mlp_50/two_blobs_separate/train/range1/ep140\n",
      "Done: two_blobs_separate, width=50, depth=1, ab_range=1, epoch=140\n",
      "Previously saved model is of lower resolution; recomputing\n"
     ]
    },
    {
     "name": "stderr",
     "output_type": "stream",
     "text": [
      "Outer loop (a): 100%|██████████| 100/100 [00:48<00:00,  2.06it/s]\n"
     ]
    },
    {
     "name": "stdout",
     "output_type": "stream",
     "text": [
      "✅ Updated and saved new grid at ../backend/landscapes/mlp_50/two_blobs_separate/train/range1/ep150\n",
      "Done: two_blobs_separate, width=50, depth=1, ab_range=1, epoch=150\n",
      "Previously saved model is of lower resolution; recomputing\n"
     ]
    },
    {
     "name": "stderr",
     "output_type": "stream",
     "text": [
      "Outer loop (a): 100%|██████████| 100/100 [00:47<00:00,  2.08it/s]\n"
     ]
    },
    {
     "name": "stdout",
     "output_type": "stream",
     "text": [
      "✅ Updated and saved new grid at ../backend/landscapes/mlp_50/two_blobs_separate/train/range1/ep160\n",
      "Done: two_blobs_separate, width=50, depth=1, ab_range=1, epoch=160\n",
      "Previously saved model is of lower resolution; recomputing\n"
     ]
    },
    {
     "name": "stderr",
     "output_type": "stream",
     "text": [
      "Outer loop (a): 100%|██████████| 100/100 [00:47<00:00,  2.12it/s]\n"
     ]
    },
    {
     "name": "stdout",
     "output_type": "stream",
     "text": [
      "✅ Updated and saved new grid at ../backend/landscapes/mlp_50/two_blobs_separate/train/range1/ep170\n",
      "Done: two_blobs_separate, width=50, depth=1, ab_range=1, epoch=170\n",
      "Previously saved model is of lower resolution; recomputing\n"
     ]
    },
    {
     "name": "stderr",
     "output_type": "stream",
     "text": [
      "Outer loop (a): 100%|██████████| 100/100 [00:48<00:00,  2.05it/s]\n"
     ]
    },
    {
     "name": "stdout",
     "output_type": "stream",
     "text": [
      "✅ Updated and saved new grid at ../backend/landscapes/mlp_50/two_blobs_separate/train/range1/ep180\n",
      "Done: two_blobs_separate, width=50, depth=1, ab_range=1, epoch=180\n",
      "Previously saved model is of lower resolution; recomputing\n"
     ]
    },
    {
     "name": "stderr",
     "output_type": "stream",
     "text": [
      "Outer loop (a): 100%|██████████| 100/100 [00:47<00:00,  2.09it/s]\n"
     ]
    },
    {
     "name": "stdout",
     "output_type": "stream",
     "text": [
      "✅ Updated and saved new grid at ../backend/landscapes/mlp_50/two_blobs_separate/train/range1/ep190\n",
      "Done: two_blobs_separate, width=50, depth=1, ab_range=1, epoch=190\n",
      "Previously saved model is of lower resolution; recomputing\n"
     ]
    },
    {
     "name": "stderr",
     "output_type": "stream",
     "text": [
      "Outer loop (a): 100%|██████████| 100/100 [00:45<00:00,  2.18it/s]\n"
     ]
    },
    {
     "name": "stdout",
     "output_type": "stream",
     "text": [
      "✅ Updated and saved new grid at ../backend/landscapes/mlp_50/two_blobs_separate/train/range1/ep200\n",
      "Done: two_blobs_separate, width=50, depth=1, ab_range=1, epoch=200\n",
      "Previously saved model is of lower resolution; recomputing\n"
     ]
    },
    {
     "name": "stderr",
     "output_type": "stream",
     "text": [
      "Outer loop (a): 100%|██████████| 100/100 [00:47<00:00,  2.10it/s]\n"
     ]
    },
    {
     "name": "stdout",
     "output_type": "stream",
     "text": [
      "✅ Updated and saved new grid at ../backend/landscapes/mlp_50/two_blobs_separate/train/range1/ep210\n",
      "Done: two_blobs_separate, width=50, depth=1, ab_range=1, epoch=210\n",
      "Previously saved model is of lower resolution; recomputing\n"
     ]
    },
    {
     "name": "stderr",
     "output_type": "stream",
     "text": [
      "Outer loop (a): 100%|██████████| 100/100 [00:49<00:00,  2.01it/s]\n"
     ]
    },
    {
     "name": "stdout",
     "output_type": "stream",
     "text": [
      "✅ Updated and saved new grid at ../backend/landscapes/mlp_50/two_blobs_separate/train/range1/ep220\n",
      "Done: two_blobs_separate, width=50, depth=1, ab_range=1, epoch=220\n",
      "Previously saved model is of lower resolution; recomputing\n"
     ]
    },
    {
     "name": "stderr",
     "output_type": "stream",
     "text": [
      "Outer loop (a): 100%|██████████| 100/100 [00:48<00:00,  2.07it/s]\n"
     ]
    },
    {
     "name": "stdout",
     "output_type": "stream",
     "text": [
      "✅ Updated and saved new grid at ../backend/landscapes/mlp_50/two_blobs_separate/train/range1/ep230\n",
      "Done: two_blobs_separate, width=50, depth=1, ab_range=1, epoch=230\n",
      "Previously saved model is of lower resolution; recomputing\n"
     ]
    },
    {
     "name": "stderr",
     "output_type": "stream",
     "text": [
      "Outer loop (a): 100%|██████████| 100/100 [00:46<00:00,  2.14it/s]\n"
     ]
    },
    {
     "name": "stdout",
     "output_type": "stream",
     "text": [
      "✅ Updated and saved new grid at ../backend/landscapes/mlp_50/two_blobs_separate/train/range1/ep240\n",
      "Done: two_blobs_separate, width=50, depth=1, ab_range=1, epoch=240\n",
      "Previously saved model is of lower resolution; recomputing\n"
     ]
    },
    {
     "name": "stderr",
     "output_type": "stream",
     "text": [
      "Outer loop (a): 100%|██████████| 100/100 [00:47<00:00,  2.11it/s]\n"
     ]
    },
    {
     "name": "stdout",
     "output_type": "stream",
     "text": [
      "✅ Updated and saved new grid at ../backend/landscapes/mlp_50/two_blobs_separate/train/range1/ep250\n",
      "Done: two_blobs_separate, width=50, depth=1, ab_range=1, epoch=250\n",
      "Previously saved model is of lower resolution; recomputing\n"
     ]
    },
    {
     "name": "stderr",
     "output_type": "stream",
     "text": [
      "Outer loop (a): 100%|██████████| 100/100 [00:50<00:00,  1.98it/s]\n"
     ]
    },
    {
     "name": "stdout",
     "output_type": "stream",
     "text": [
      "✅ Updated and saved new grid at ../backend/landscapes/mlp_50/two_blobs_separate/train/range1/ep260\n",
      "Done: two_blobs_separate, width=50, depth=1, ab_range=1, epoch=260\n",
      "Previously saved model is of lower resolution; recomputing\n"
     ]
    },
    {
     "name": "stderr",
     "output_type": "stream",
     "text": [
      "Outer loop (a): 100%|██████████| 100/100 [00:47<00:00,  2.12it/s]\n"
     ]
    },
    {
     "name": "stdout",
     "output_type": "stream",
     "text": [
      "✅ Updated and saved new grid at ../backend/landscapes/mlp_50/two_blobs_separate/train/range1/ep270\n",
      "Done: two_blobs_separate, width=50, depth=1, ab_range=1, epoch=270\n",
      "Previously saved model is of lower resolution; recomputing\n"
     ]
    },
    {
     "name": "stderr",
     "output_type": "stream",
     "text": [
      "Outer loop (a): 100%|██████████| 100/100 [00:47<00:00,  2.10it/s]\n"
     ]
    },
    {
     "name": "stdout",
     "output_type": "stream",
     "text": [
      "✅ Updated and saved new grid at ../backend/landscapes/mlp_50/two_blobs_separate/train/range1/ep280\n",
      "Done: two_blobs_separate, width=50, depth=1, ab_range=1, epoch=280\n",
      "Previously saved model is of lower resolution; recomputing\n"
     ]
    },
    {
     "name": "stderr",
     "output_type": "stream",
     "text": [
      "Outer loop (a): 100%|██████████| 100/100 [00:49<00:00,  2.04it/s]\n"
     ]
    },
    {
     "name": "stdout",
     "output_type": "stream",
     "text": [
      "✅ Updated and saved new grid at ../backend/landscapes/mlp_50/two_blobs_separate/train/range1/ep290\n",
      "Done: two_blobs_separate, width=50, depth=1, ab_range=1, epoch=290\n",
      "Previously saved model is of lower resolution; recomputing\n"
     ]
    },
    {
     "name": "stderr",
     "output_type": "stream",
     "text": [
      "Outer loop (a): 100%|██████████| 100/100 [00:46<00:00,  2.16it/s]\n"
     ]
    },
    {
     "name": "stdout",
     "output_type": "stream",
     "text": [
      "✅ Updated and saved new grid at ../backend/landscapes/mlp_50/two_blobs_separate/train/range1/ep300\n",
      "Done: two_blobs_separate, width=50, depth=1, ab_range=1, epoch=300\n",
      "Previously saved model is of lower resolution; recomputing\n"
     ]
    },
    {
     "name": "stderr",
     "output_type": "stream",
     "text": [
      "Outer loop (a): 100%|██████████| 100/100 [00:46<00:00,  2.17it/s]\n"
     ]
    },
    {
     "name": "stdout",
     "output_type": "stream",
     "text": [
      "✅ Updated and saved new grid at ../backend/landscapes/mlp_50/two_blobs_separate/train/range1/ep310\n",
      "Done: two_blobs_separate, width=50, depth=1, ab_range=1, epoch=310\n",
      "Previously saved model is of lower resolution; recomputing\n"
     ]
    },
    {
     "name": "stderr",
     "output_type": "stream",
     "text": [
      "Outer loop (a): 100%|██████████| 100/100 [00:45<00:00,  2.19it/s]\n"
     ]
    },
    {
     "name": "stdout",
     "output_type": "stream",
     "text": [
      "✅ Updated and saved new grid at ../backend/landscapes/mlp_50/two_blobs_separate/train/range1/ep320\n",
      "Done: two_blobs_separate, width=50, depth=1, ab_range=1, epoch=320\n",
      "Previously saved model is of lower resolution; recomputing\n"
     ]
    },
    {
     "name": "stderr",
     "output_type": "stream",
     "text": [
      "Outer loop (a): 100%|██████████| 100/100 [00:47<00:00,  2.12it/s]\n"
     ]
    },
    {
     "name": "stdout",
     "output_type": "stream",
     "text": [
      "✅ Updated and saved new grid at ../backend/landscapes/mlp_50/two_blobs_separate/train/range1/ep330\n",
      "Done: two_blobs_separate, width=50, depth=1, ab_range=1, epoch=330\n",
      "Previously saved model is of lower resolution; recomputing\n"
     ]
    },
    {
     "name": "stderr",
     "output_type": "stream",
     "text": [
      "Outer loop (a): 100%|██████████| 100/100 [00:46<00:00,  2.13it/s]\n"
     ]
    },
    {
     "name": "stdout",
     "output_type": "stream",
     "text": [
      "✅ Updated and saved new grid at ../backend/landscapes/mlp_50/two_blobs_separate/train/range1/ep340\n",
      "Done: two_blobs_separate, width=50, depth=1, ab_range=1, epoch=340\n",
      "Previously saved model is of lower resolution; recomputing\n"
     ]
    },
    {
     "name": "stderr",
     "output_type": "stream",
     "text": [
      "Outer loop (a): 100%|██████████| 100/100 [00:47<00:00,  2.12it/s]\n"
     ]
    },
    {
     "name": "stdout",
     "output_type": "stream",
     "text": [
      "✅ Updated and saved new grid at ../backend/landscapes/mlp_50/two_blobs_separate/train/range1/ep350\n",
      "Done: two_blobs_separate, width=50, depth=1, ab_range=1, epoch=350\n",
      "Previously saved model is of lower resolution; recomputing\n"
     ]
    },
    {
     "name": "stderr",
     "output_type": "stream",
     "text": [
      "Outer loop (a): 100%|██████████| 100/100 [00:48<00:00,  2.07it/s]\n"
     ]
    },
    {
     "name": "stdout",
     "output_type": "stream",
     "text": [
      "✅ Updated and saved new grid at ../backend/landscapes/mlp_50/two_blobs_separate/train/range1/ep360\n",
      "Done: two_blobs_separate, width=50, depth=1, ab_range=1, epoch=360\n",
      "Previously saved model is of lower resolution; recomputing\n"
     ]
    },
    {
     "name": "stderr",
     "output_type": "stream",
     "text": [
      "Outer loop (a): 100%|██████████| 100/100 [00:47<00:00,  2.11it/s]\n"
     ]
    },
    {
     "name": "stdout",
     "output_type": "stream",
     "text": [
      "✅ Updated and saved new grid at ../backend/landscapes/mlp_50/two_blobs_separate/train/range1/ep370\n",
      "Done: two_blobs_separate, width=50, depth=1, ab_range=1, epoch=370\n",
      "Previously saved model is of lower resolution; recomputing\n"
     ]
    },
    {
     "name": "stderr",
     "output_type": "stream",
     "text": [
      "Outer loop (a): 100%|██████████| 100/100 [00:49<00:00,  2.04it/s]\n"
     ]
    },
    {
     "name": "stdout",
     "output_type": "stream",
     "text": [
      "✅ Updated and saved new grid at ../backend/landscapes/mlp_50/two_blobs_separate/train/range1/ep380\n",
      "Done: two_blobs_separate, width=50, depth=1, ab_range=1, epoch=380\n",
      "Previously saved model is of lower resolution; recomputing\n"
     ]
    },
    {
     "name": "stderr",
     "output_type": "stream",
     "text": [
      "Outer loop (a): 100%|██████████| 100/100 [00:49<00:00,  2.04it/s]\n"
     ]
    },
    {
     "name": "stdout",
     "output_type": "stream",
     "text": [
      "✅ Updated and saved new grid at ../backend/landscapes/mlp_50/two_blobs_separate/train/range1/ep390\n",
      "Done: two_blobs_separate, width=50, depth=1, ab_range=1, epoch=390\n",
      "Previously saved model is of lower resolution; recomputing\n"
     ]
    },
    {
     "name": "stderr",
     "output_type": "stream",
     "text": [
      "Outer loop (a): 100%|██████████| 100/100 [00:48<00:00,  2.07it/s]\n"
     ]
    },
    {
     "name": "stdout",
     "output_type": "stream",
     "text": [
      "✅ Updated and saved new grid at ../backend/landscapes/mlp_50/two_blobs_separate/train/range1/ep400\n",
      "Done: two_blobs_separate, width=50, depth=1, ab_range=1, epoch=400\n",
      "Previously saved model is of lower resolution; recomputing\n"
     ]
    },
    {
     "name": "stderr",
     "output_type": "stream",
     "text": [
      "Outer loop (a): 100%|██████████| 100/100 [00:46<00:00,  2.16it/s]\n"
     ]
    },
    {
     "name": "stdout",
     "output_type": "stream",
     "text": [
      "✅ Updated and saved new grid at ../backend/landscapes/mlp_50/two_blobs_separate/train/range1/ep410\n",
      "Done: two_blobs_separate, width=50, depth=1, ab_range=1, epoch=410\n",
      "Previously saved model is of lower resolution; recomputing\n"
     ]
    },
    {
     "name": "stderr",
     "output_type": "stream",
     "text": [
      "Outer loop (a): 100%|██████████| 100/100 [00:47<00:00,  2.09it/s]\n"
     ]
    },
    {
     "name": "stdout",
     "output_type": "stream",
     "text": [
      "✅ Updated and saved new grid at ../backend/landscapes/mlp_50/two_blobs_separate/train/range1/ep420\n",
      "Done: two_blobs_separate, width=50, depth=1, ab_range=1, epoch=420\n",
      "Previously saved model is of lower resolution; recomputing\n"
     ]
    },
    {
     "name": "stderr",
     "output_type": "stream",
     "text": [
      "Outer loop (a):  20%|██        | 20/100 [00:09<00:35,  2.23it/s]"
     ]
    }
   ],
   "source": [
    "\n",
    "def worker(args):\n",
    "    dataset, width, depth, ab_range, epoch, gridsize = args\n",
    "    arch = [width] * depth\n",
    "\n",
    "    try:\n",
    "        #print(f\"Processing: epoch={epoch}, ab_range={ab_range}, width={width}, depth={depth}, dataset={dataset}\")\n",
    "        compute_loss_grid( arch, dataset, train=True, epoch=epoch, ab_range=ab_range, gridsize=gridsize  )\n",
    "\n",
    "        #compute_and_save_zrange(\n",
    "        #    arch=arch,\n",
    "        #    dataset=dataset,\n",
    "        #    train=True,\n",
    "        #    ab_range=ab_range,\n",
    "        #    gridsize=gridsize\n",
    "        #)\n",
    "        print(f\"Done: {dataset}, width={width}, depth={depth}, ab_range={ab_range}, epoch={epoch}\")\n",
    "\n",
    "    except Exception as e:\n",
    "        print(f\"Failed: {dataset}, width={width}, depth={depth}, ab_range={ab_range}, epoch={epoch}. Reason: {e}\")\n",
    "        \n",
    "\n",
    "\n",
    "num_epochs = 1001\n",
    "datasets = [\"two_blobs_separate\", \"two_blobs_overlap\", \"half_moons\", \"spirals\", \"four_corners\"]\n",
    "widths = [50]#,10,25,50,100]  \n",
    "depths = [1,2,4,8,16]  \n",
    "ab_ranges = [0.1, 1, 10,2,5,.2,.5]\n",
    "epochs = list(range(0, num_epochs, 10))\n",
    "gridsize = 100\n",
    "\n",
    "# Prepare the argument list for all jobs\n",
    "all_args = list(product( widths, depths,datasets, ab_ranges, epochs))\n",
    "\n",
    "\n",
    "all_args = [ (dataset,  width, depth, ab_range, epoch, gridsize) for ( width, depth, dataset,ab_range, epoch) in all_args]\n",
    "\n",
    "\n",
    "for args in all_args:\n",
    "    worker(args)\n",
    "\n",
    "asdf\n",
    "# Launch the multiprocessing pool\n",
    "with mp.Pool(processes=2) as pool:\n",
    "    pool.map(worker, all_args)\n",
    "\n",
    "\n",
    "   "
   ]
  },
  {
   "cell_type": "code",
   "execution_count": null,
   "id": "bc48a875-b718-4efc-b569-3106d0493347",
   "metadata": {},
   "outputs": [],
   "source": []
  }
 ],
 "metadata": {
  "kernelspec": {
   "display_name": "Python 3 (ipykernel)",
   "language": "python",
   "name": "python3"
  },
  "language_info": {
   "codemirror_mode": {
    "name": "ipython",
    "version": 3
   },
   "file_extension": ".py",
   "mimetype": "text/x-python",
   "name": "python",
   "nbconvert_exporter": "python",
   "pygments_lexer": "ipython3",
   "version": "3.9.13"
  }
 },
 "nbformat": 4,
 "nbformat_minor": 5
}
