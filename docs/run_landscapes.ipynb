{
 "cells": [
  {
   "cell_type": "code",
   "execution_count": 1,
   "id": "7e33a9cb-a74b-4260-be5f-64abd9b2d781",
   "metadata": {},
   "outputs": [],
   "source": [
    "import numpy as np\n",
    "import multiprocessing as mp\n",
    "from itertools import product\n",
    "\n",
    "\n",
    "from visualize_landscape import *\n",
    "\n",
    "\n",
    "torch.set_num_threads(1)"
   ]
  },
  {
   "cell_type": "code",
   "execution_count": null,
   "id": "daba1293-3d34-4fa5-b0ee-7f40ec966e22",
   "metadata": {
    "scrolled": true,
    "tags": []
   },
   "outputs": [
    {
     "name": "stderr",
     "output_type": "stream",
     "text": [
      "Outer loop (a): 100%|██████████| 100/100 [00:47<00:00,  2.10it/s]\n"
     ]
    },
    {
     "name": "stdout",
     "output_type": "stream",
     "text": [
      "✅ Updated and saved new grid at ../backend/landscapes/mlp_5/spirals/train/range0.2/ep470\n",
      "Done: spirals, width=5, depth=1, ab_range=0.2, epoch=470\n",
      "Previously saved model is of lower resolution; recomputing\n"
     ]
    },
    {
     "name": "stderr",
     "output_type": "stream",
     "text": [
      "Outer loop (a): 100%|██████████| 100/100 [00:46<00:00,  2.13it/s]\n"
     ]
    },
    {
     "name": "stdout",
     "output_type": "stream",
     "text": [
      "✅ Updated and saved new grid at ../backend/landscapes/mlp_5/two_blobs_overlap/train/range0.2/ep830\n",
      "Done: two_blobs_overlap, width=5, depth=1, ab_range=0.2, epoch=830\n",
      "Previously saved model is of lower resolution; recomputing\n"
     ]
    },
    {
     "name": "stderr",
     "output_type": "stream",
     "text": [
      "Outer loop (a): 100%|██████████| 100/100 [00:49<00:00,  2.04it/s]\n"
     ]
    },
    {
     "name": "stdout",
     "output_type": "stream",
     "text": [
      "✅ Updated and saved new grid at ../backend/landscapes/mlp_5/spirals/train/range0.5/ep390"
     ]
    },
    {
     "name": "stderr",
     "output_type": "stream",
     "text": [
      "Outer loop (a):  90%|█████████ | 90/100 [00:45<00:05,  1.83it/s]"
     ]
    },
    {
     "name": "stdout",
     "output_type": "stream",
     "text": [
      "\n",
      "Done: spirals, width=5, depth=1, ab_range=0.5, epoch=390"
     ]
    },
    {
     "name": "stderr",
     "output_type": "stream",
     "text": [
      "Outer loop (a):   3%|▎         | 3/100 [00:01<00:49,  1.94it/s]"
     ]
    },
    {
     "name": "stdout",
     "output_type": "stream",
     "text": [
      "\n",
      "Previously saved model is of lower resolution; recomputing\n"
     ]
    },
    {
     "name": "stderr",
     "output_type": "stream",
     "text": [
      "Outer loop (a): 100%|██████████| 100/100 [00:51<00:00,  1.96it/s]\n"
     ]
    },
    {
     "name": "stdout",
     "output_type": "stream",
     "text": [
      "✅ Updated and saved new grid at ../backend/landscapes/mlp_5_5/two_blobs_separate/train/range5/ep900\n",
      "Done: two_blobs_separate, width=5, depth=2, ab_range=5, epoch=900\n",
      "Previously saved model is of lower resolution; recomputing\n"
     ]
    },
    {
     "name": "stderr",
     "output_type": "stream",
     "text": [
      "Outer loop (a): 100%|██████████| 100/100 [00:49<00:00,  2.01it/s]\n"
     ]
    },
    {
     "name": "stdout",
     "output_type": "stream",
     "text": [
      "✅ Updated and saved new grid at ../backend/landscapes/mlp_5_5/half_moons/train/range0.2/ep550\n",
      "Done: half_moons, width=5, depth=2, ab_range=0.2, epoch=550\n",
      "Previously saved model is of lower resolution; recomputing\n"
     ]
    },
    {
     "name": "stderr",
     "output_type": "stream",
     "text": [
      "Outer loop (a): 100%|██████████| 100/100 [00:51<00:00,  1.95it/s]\n"
     ]
    },
    {
     "name": "stdout",
     "output_type": "stream",
     "text": [
      "✅ Updated and saved new grid at ../backend/landscapes/mlp_5_5/half_moons/train/range0.2/ep770\n",
      "Done: half_moons, width=5, depth=2, ab_range=0.2, epoch=770\n",
      "Previously saved model is of lower resolution; recomputing\n"
     ]
    },
    {
     "name": "stderr",
     "output_type": "stream",
     "text": [
      "Outer loop (a): 100%|██████████| 100/100 [00:50<00:00,  1.99it/s]\n"
     ]
    },
    {
     "name": "stdout",
     "output_type": "stream",
     "text": [
      "✅ Updated and saved new grid at ../backend/landscapes/mlp_5_5/four_corners/train/range0.2/ep130\n",
      "Done: four_corners, width=5, depth=2, ab_range=0.2, epoch=130\n",
      "Previously saved model is of lower resolution; recomputing\n"
     ]
    },
    {
     "name": "stderr",
     "output_type": "stream",
     "text": [
      "Outer loop (a): 100%|██████████| 100/100 [00:54<00:00,  1.83it/s]\n"
     ]
    },
    {
     "name": "stdout",
     "output_type": "stream",
     "text": [
      "✅ Updated and saved new grid at ../backend/landscapes/mlp_5_5_5_5/two_blobs_separate/train/range1/ep190\n",
      "Done: two_blobs_separate, width=5, depth=4, ab_range=1, epoch=190\n",
      "Previously saved model is of lower resolution; recomputing\n"
     ]
    },
    {
     "name": "stderr",
     "output_type": "stream",
     "text": [
      "Outer loop (a): 100%|██████████| 100/100 [00:46<00:00,  2.16it/s]\n"
     ]
    },
    {
     "name": "stdout",
     "output_type": "stream",
     "text": [
      "✅ Updated and saved new grid at ../backend/landscapes/mlp_5/spirals/train/range0.2/ep480\n",
      "Done: spirals, width=5, depth=1, ab_range=0.2, epoch=480\n",
      "Previously saved model is of lower resolution; recomputing\n"
     ]
    },
    {
     "name": "stderr",
     "output_type": "stream",
     "text": [
      "Outer loop (a): 100%|██████████| 100/100 [00:48<00:00,  2.07it/s]\n",
      "Outer loop (a):  96%|█████████▌| 96/100 [00:46<00:01,  2.06it/s]"
     ]
    },
    {
     "name": "stdout",
     "output_type": "stream",
     "text": [
      "✅ Updated and saved new grid at ../backend/landscapes/mlp_5/two_blobs_overlap/train/range0.2/ep840\n",
      "Done: two_blobs_overlap, width=5, depth=1, ab_range=0.2, epoch=840\n",
      "Previously saved model is of lower resolution; recomputing\n"
     ]
    },
    {
     "name": "stderr",
     "output_type": "stream",
     "text": [
      "Outer loop (a): 100%|██████████| 100/100 [00:48<00:00,  2.05it/s]\n"
     ]
    },
    {
     "name": "stdout",
     "output_type": "stream",
     "text": [
      "✅ Updated and saved new grid at ../backend/landscapes/mlp_5/spirals/train/range0.5/ep400\n",
      "Done: spirals, width=5, depth=1, ab_range=0.5, epoch=400\n",
      "Previously saved model is of lower resolution; recomputing\n"
     ]
    },
    {
     "name": "stderr",
     "output_type": "stream",
     "text": [
      "Outer loop (a): 100%|██████████| 100/100 [00:49<00:00,  2.02it/s]\n"
     ]
    },
    {
     "name": "stdout",
     "output_type": "stream",
     "text": [
      "✅ Updated and saved new grid at ../backend/landscapes/mlp_5_5/two_blobs_separate/train/range5/ep910\n",
      "Done: two_blobs_separate, width=5, depth=2, ab_range=5, epoch=910\n",
      "Previously saved model is of lower resolution; recomputing\n"
     ]
    },
    {
     "name": "stderr",
     "output_type": "stream",
     "text": [
      "Outer loop (a): 100%|██████████| 100/100 [00:50<00:00,  1.98it/s]\n"
     ]
    },
    {
     "name": "stdout",
     "output_type": "stream",
     "text": [
      "✅ Updated and saved new grid at ../backend/landscapes/mlp_5_5/half_moons/train/range0.2/ep560\n",
      "Done: half_moons, width=5, depth=2, ab_range=0.2, epoch=560\n",
      "Previously saved model is of lower resolution; recomputing\n"
     ]
    },
    {
     "name": "stderr",
     "output_type": "stream",
     "text": [
      "Outer loop (a): 100%|██████████| 100/100 [00:50<00:00,  1.96it/s]\n"
     ]
    },
    {
     "name": "stdout",
     "output_type": "stream",
     "text": [
      "✅ Updated and saved new grid at ../backend/landscapes/mlp_5_5/half_moons/train/range0.2/ep780\n",
      "Done: half_moons, width=5, depth=2, ab_range=0.2, epoch=780\n",
      "Previously saved model is of lower resolution; recomputing\n"
     ]
    },
    {
     "name": "stderr",
     "output_type": "stream",
     "text": [
      "Outer loop (a): 100%|██████████| 100/100 [00:51<00:00,  1.94it/s]\n"
     ]
    },
    {
     "name": "stdout",
     "output_type": "stream",
     "text": [
      "✅ Updated and saved new grid at ../backend/landscapes/mlp_5_5/four_corners/train/range0.2/ep140\n",
      "Done: four_corners, width=5, depth=2, ab_range=0.2, epoch=140\n",
      "Previously saved model is of lower resolution; recomputing\n"
     ]
    },
    {
     "name": "stderr",
     "output_type": "stream",
     "text": [
      "Outer loop (a): 100%|██████████| 100/100 [00:55<00:00,  1.80it/s]\n"
     ]
    },
    {
     "name": "stdout",
     "output_type": "stream",
     "text": [
      "✅ Updated and saved new grid at ../backend/landscapes/mlp_5_5_5_5/two_blobs_separate/train/range1/ep200\n",
      "Done: two_blobs_separate, width=5, depth=4, ab_range=1, epoch=200\n",
      "Previously saved model is of lower resolution; recomputing\n"
     ]
    },
    {
     "name": "stderr",
     "output_type": "stream",
     "text": [
      "Outer loop (a): 100%|██████████| 100/100 [00:47<00:00,  2.09it/s]\n"
     ]
    },
    {
     "name": "stdout",
     "output_type": "stream",
     "text": [
      "✅ Updated and saved new grid at ../backend/landscapes/mlp_5/spirals/train/range0.2/ep490\n",
      "Done: spirals, width=5, depth=1, ab_range=0.2, epoch=490\n",
      "Previously saved model is of lower resolution; recomputing\n"
     ]
    },
    {
     "name": "stderr",
     "output_type": "stream",
     "text": [
      "Outer loop (a): 100%|██████████| 100/100 [00:47<00:00,  2.11it/s]\n"
     ]
    },
    {
     "name": "stdout",
     "output_type": "stream",
     "text": [
      "✅ Updated and saved new grid at ../backend/landscapes/mlp_5/two_blobs_overlap/train/range0.2/ep850\n",
      "Done: two_blobs_overlap, width=5, depth=1, ab_range=0.2, epoch=850\n",
      "Previously saved model is of lower resolution; recomputing\n"
     ]
    },
    {
     "name": "stderr",
     "output_type": "stream",
     "text": [
      "Outer loop (a): 100%|██████████| 100/100 [00:49<00:00,  2.03it/s]\n"
     ]
    },
    {
     "name": "stdout",
     "output_type": "stream",
     "text": [
      "✅ Updated and saved new grid at ../backend/landscapes/mlp_5/spirals/train/range0.5/ep410\n",
      "Done: spirals, width=5, depth=1, ab_range=0.5, epoch=410\n",
      "Previously saved model is of lower resolution; recomputing\n"
     ]
    },
    {
     "name": "stderr",
     "output_type": "stream",
     "text": [
      "Outer loop (a): 100%|██████████| 100/100 [00:49<00:00,  2.01it/s]\n"
     ]
    },
    {
     "name": "stdout",
     "output_type": "stream",
     "text": [
      "✅ Updated and saved new grid at ../backend/landscapes/mlp_5_5/two_blobs_separate/train/range5/ep920\n",
      "Done: two_blobs_separate, width=5, depth=2, ab_range=5, epoch=920\n",
      "Previously saved model is of lower resolution; recomputing\n"
     ]
    },
    {
     "name": "stderr",
     "output_type": "stream",
     "text": [
      "Outer loop (a): 100%|██████████| 100/100 [00:50<00:00,  1.99it/s]\n"
     ]
    },
    {
     "name": "stdout",
     "output_type": "stream",
     "text": [
      "✅ Updated and saved new grid at ../backend/landscapes/mlp_5_5/half_moons/train/range0.2/ep570\n",
      "Done: half_moons, width=5, depth=2, ab_range=0.2, epoch=570\n",
      "Previously saved model is of lower resolution; recomputing\n"
     ]
    },
    {
     "name": "stderr",
     "output_type": "stream",
     "text": [
      "Outer loop (a): 100%|██████████| 100/100 [00:50<00:00,  1.98it/s]\n"
     ]
    },
    {
     "name": "stdout",
     "output_type": "stream",
     "text": [
      "✅ Updated and saved new grid at ../backend/landscapes/mlp_5_5/half_moons/train/range0.2/ep790\n",
      "Done: half_moons, width=5, depth=2, ab_range=0.2, epoch=790\n",
      "Previously saved model is of lower resolution; recomputing\n"
     ]
    },
    {
     "name": "stderr",
     "output_type": "stream",
     "text": [
      "Outer loop (a): 100%|██████████| 100/100 [00:50<00:00,  1.98it/s]\n"
     ]
    },
    {
     "name": "stdout",
     "output_type": "stream",
     "text": [
      "✅ Updated and saved new grid at ../backend/landscapes/mlp_5_5/four_corners/train/range0.2/ep150\n",
      "Done: four_corners, width=5, depth=2, ab_range=0.2, epoch=150\n",
      "Previously saved model is of lower resolution; recomputing\n"
     ]
    },
    {
     "name": "stderr",
     "output_type": "stream",
     "text": [
      "Outer loop (a): 100%|██████████| 100/100 [00:53<00:00,  1.88it/s]\n"
     ]
    },
    {
     "name": "stdout",
     "output_type": "stream",
     "text": [
      "✅ Updated and saved new grid at ../backend/landscapes/mlp_5_5_5_5/two_blobs_separate/train/range1/ep210\n",
      "Done: two_blobs_separate, width=5, depth=4, ab_range=1, epoch=210\n",
      "Previously saved model is of lower resolution; recomputing\n"
     ]
    },
    {
     "name": "stderr",
     "output_type": "stream",
     "text": [
      "Outer loop (a): 100%|██████████| 100/100 [00:48<00:00,  2.08it/s]\n"
     ]
    },
    {
     "name": "stdout",
     "output_type": "stream",
     "text": [
      "✅ Updated and saved new grid at ../backend/landscapes/mlp_5/spirals/train/range0.2/ep500\n",
      "Done: spirals, width=5, depth=1, ab_range=0.2, epoch=500\n",
      "Previously saved model is of lower resolution; recomputing\n"
     ]
    },
    {
     "name": "stderr",
     "output_type": "stream",
     "text": [
      "Outer loop (a): 100%|██████████| 100/100 [00:48<00:00,  2.05it/s]\n"
     ]
    },
    {
     "name": "stdout",
     "output_type": "stream",
     "text": [
      "✅ Updated and saved new grid at ../backend/landscapes/mlp_5/two_blobs_overlap/train/range0.2/ep860\n",
      "Done: two_blobs_overlap, width=5, depth=1, ab_range=0.2, epoch=860\n",
      "Previously saved model is of lower resolution; recomputing\n"
     ]
    },
    {
     "name": "stderr",
     "output_type": "stream",
     "text": [
      "Outer loop (a): 100%|██████████| 100/100 [00:49<00:00,  2.02it/s]\n"
     ]
    },
    {
     "name": "stdout",
     "output_type": "stream",
     "text": [
      "✅ Updated and saved new grid at ../backend/landscapes/mlp_5/spirals/train/range0.5/ep420"
     ]
    },
    {
     "name": "stderr",
     "output_type": "stream",
     "text": [
      "Outer loop (a):  41%|████      | 41/100 [00:22<00:35,  1.67it/s]"
     ]
    },
    {
     "name": "stdout",
     "output_type": "stream",
     "text": [
      "\n",
      "Done: spirals, width=5, depth=1, ab_range=0.5, epoch=420\n",
      "Previously saved model is of lower resolution; recomputing\n"
     ]
    },
    {
     "name": "stderr",
     "output_type": "stream",
     "text": [
      "Outer loop (a): 100%|██████████| 100/100 [00:50<00:00,  1.98it/s]\n"
     ]
    },
    {
     "name": "stdout",
     "output_type": "stream",
     "text": [
      "✅ Updated and saved new grid at ../backend/landscapes/mlp_5_5/two_blobs_separate/train/range5/ep930\n",
      "Done: two_blobs_separate, width=5, depth=2, ab_range=5, epoch=930\n",
      "Previously saved model is of lower resolution; recomputing\n"
     ]
    },
    {
     "name": "stderr",
     "output_type": "stream",
     "text": [
      "Outer loop (a): 100%|██████████| 100/100 [00:49<00:00,  2.00it/s]\n"
     ]
    },
    {
     "name": "stdout",
     "output_type": "stream",
     "text": [
      "✅ Updated and saved new grid at ../backend/landscapes/mlp_5_5/half_moons/train/range0.2/ep580\n",
      "Done: half_moons, width=5, depth=2, ab_range=0.2, epoch=580\n",
      "Previously saved model is of lower resolution; recomputing\n"
     ]
    },
    {
     "name": "stderr",
     "output_type": "stream",
     "text": [
      "Outer loop (a): 100%|██████████| 100/100 [00:48<00:00,  2.06it/s]\n"
     ]
    },
    {
     "name": "stdout",
     "output_type": "stream",
     "text": [
      "✅ Updated and saved new grid at ../backend/landscapes/mlp_5_5/four_corners/train/range0.2/ep160\n",
      "Done: four_corners, width=5, depth=2, ab_range=0.2, epoch=160\n",
      "Previously saved model is of lower resolution; recomputing\n"
     ]
    },
    {
     "name": "stderr",
     "output_type": "stream",
     "text": [
      "Outer loop (a): 100%|██████████| 100/100 [00:50<00:00,  1.99it/s]\n"
     ]
    },
    {
     "name": "stdout",
     "output_type": "stream",
     "text": [
      "✅ Updated and saved new grid at ../backend/landscapes/mlp_5_5/half_moons/train/range0.2/ep800\n",
      "Done: half_moons, width=5, depth=2, ab_range=0.2, epoch=800\n",
      "Previously saved model is of lower resolution; recomputing"
     ]
    },
    {
     "name": "stderr",
     "output_type": "stream",
     "text": [
      "Outer loop (a):   5%|▌         | 5/100 [00:02<00:50,  1.89it/s]"
     ]
    },
    {
     "name": "stdout",
     "output_type": "stream",
     "text": [
      "\n"
     ]
    },
    {
     "name": "stderr",
     "output_type": "stream",
     "text": [
      "Outer loop (a): 100%|██████████| 100/100 [00:54<00:00,  1.84it/s]\n"
     ]
    },
    {
     "name": "stdout",
     "output_type": "stream",
     "text": [
      "✅ Updated and saved new grid at ../backend/landscapes/mlp_5_5_5_5/two_blobs_separate/train/range1/ep220\n",
      "Done: two_blobs_separate, width=5, depth=4, ab_range=1, epoch=220\n",
      "Previously saved model is of lower resolution; recomputing\n"
     ]
    },
    {
     "name": "stderr",
     "output_type": "stream",
     "text": [
      "Outer loop (a): 100%|██████████| 100/100 [00:47<00:00,  2.11it/s]\n"
     ]
    },
    {
     "name": "stdout",
     "output_type": "stream",
     "text": [
      "✅ Updated and saved new grid at ../backend/landscapes/mlp_5/spirals/train/range0.2/ep510\n",
      "Done: spirals, width=5, depth=1, ab_range=0.2, epoch=510\n",
      "Previously saved model is of lower resolution; recomputing\n"
     ]
    },
    {
     "name": "stderr",
     "output_type": "stream",
     "text": [
      "Outer loop (a): 100%|██████████| 100/100 [00:49<00:00,  2.04it/s]\n"
     ]
    },
    {
     "name": "stdout",
     "output_type": "stream",
     "text": [
      "✅ Updated and saved new grid at ../backend/landscapes/mlp_5/two_blobs_overlap/train/range0.2/ep870\n",
      "Done: two_blobs_overlap, width=5, depth=1, ab_range=0.2, epoch=870\n",
      "Previously saved model is of lower resolution; recomputing\n"
     ]
    },
    {
     "name": "stderr",
     "output_type": "stream",
     "text": [
      "Outer loop (a): 100%|██████████| 100/100 [00:47<00:00,  2.09it/s]\n"
     ]
    },
    {
     "name": "stdout",
     "output_type": "stream",
     "text": [
      "✅ Updated and saved new grid at ../backend/landscapes/mlp_5/spirals/train/range0.5/ep430\n",
      "Done: spirals, width=5, depth=1, ab_range=0.5, epoch=430\n",
      "Previously saved model is of lower resolution; recomputing\n"
     ]
    },
    {
     "name": "stderr",
     "output_type": "stream",
     "text": [
      "Outer loop (a): 100%|██████████| 100/100 [00:50<00:00,  1.96it/s]\n"
     ]
    },
    {
     "name": "stdout",
     "output_type": "stream",
     "text": [
      "✅ Updated and saved new grid at ../backend/landscapes/mlp_5_5/two_blobs_separate/train/range5/ep940\n",
      "Done: two_blobs_separate, width=5, depth=2, ab_range=5, epoch=940\n",
      "Previously saved model is of lower resolution; recomputing\n"
     ]
    },
    {
     "name": "stderr",
     "output_type": "stream",
     "text": [
      "Outer loop (a): 100%|██████████| 100/100 [00:50<00:00,  1.97it/s]\n"
     ]
    },
    {
     "name": "stdout",
     "output_type": "stream",
     "text": [
      "✅ Updated and saved new grid at ../backend/landscapes/mlp_5_5/half_moons/train/range0.2/ep590\n",
      "Done: half_moons, width=5, depth=2, ab_range=0.2, epoch=590\n",
      "Previously saved model is of lower resolution; recomputing\n"
     ]
    },
    {
     "name": "stderr",
     "output_type": "stream",
     "text": [
      "Outer loop (a): 100%|██████████| 100/100 [00:50<00:00,  1.98it/s]\n"
     ]
    },
    {
     "name": "stdout",
     "output_type": "stream",
     "text": [
      "✅ Updated and saved new grid at ../backend/landscapes/mlp_5_5/half_moons/train/range0.2/ep810\n",
      "Done: half_moons, width=5, depth=2, ab_range=0.2, epoch=810\n",
      "Previously saved model is of lower resolution; recomputing\n"
     ]
    },
    {
     "name": "stderr",
     "output_type": "stream",
     "text": [
      "Outer loop (a): 100%|██████████| 100/100 [00:51<00:00,  1.95it/s]\n"
     ]
    },
    {
     "name": "stdout",
     "output_type": "stream",
     "text": [
      "✅ Updated and saved new grid at ../backend/landscapes/mlp_5_5/four_corners/train/range0.2/ep170\n",
      "Done: four_corners, width=5, depth=2, ab_range=0.2, epoch=170\n",
      "Previously saved model is of lower resolution; recomputing\n"
     ]
    },
    {
     "name": "stderr",
     "output_type": "stream",
     "text": [
      "Outer loop (a): 100%|██████████| 100/100 [00:54<00:00,  1.82it/s]\n"
     ]
    },
    {
     "name": "stdout",
     "output_type": "stream",
     "text": [
      "✅ Updated and saved new grid at ../backend/landscapes/mlp_5_5_5_5/two_blobs_separate/train/range1/ep230\n",
      "Done: two_blobs_separate, width=5, depth=4, ab_range=1, epoch=230\n"
     ]
    },
    {
     "name": "stderr",
     "output_type": "stream",
     "text": [
      "Outer loop (a):  97%|█████████▋| 97/100 [00:45<00:01,  2.02it/s]"
     ]
    },
    {
     "name": "stdout",
     "output_type": "stream",
     "text": [
      "Previously saved model is of lower resolution; recomputing\n"
     ]
    },
    {
     "name": "stderr",
     "output_type": "stream",
     "text": [
      "Outer loop (a):  59%|█████▉    | 59/100 [00:29<00:21,  1.90it/s]]\n"
     ]
    },
    {
     "name": "stdout",
     "output_type": "stream",
     "text": [
      "✅ Updated and saved new grid at ../backend/landscapes/mlp_5/spirals/train/range0.2/ep520\n",
      "Done: spirals, width=5, depth=1, ab_range=0.2, epoch=520\n",
      "Previously saved model is of lower resolution; recomputing\n"
     ]
    },
    {
     "name": "stderr",
     "output_type": "stream",
     "text": [
      "Outer loop (a): 100%|██████████| 100/100 [00:46<00:00,  2.15it/s]\n"
     ]
    },
    {
     "name": "stdout",
     "output_type": "stream",
     "text": [
      "✅ Updated and saved new grid at ../backend/landscapes/mlp_5/two_blobs_overlap/train/range0.2/ep880\n",
      "Done: two_blobs_overlap, width=5, depth=1, ab_range=0.2, epoch=880\n",
      "Previously saved model is of lower resolution; recomputing\n"
     ]
    },
    {
     "name": "stderr",
     "output_type": "stream",
     "text": [
      "Outer loop (a): 100%|██████████| 100/100 [00:46<00:00,  2.14it/s]\n"
     ]
    },
    {
     "name": "stdout",
     "output_type": "stream",
     "text": [
      "✅ Updated and saved new grid at ../backend/landscapes/mlp_5/spirals/train/range0.5/ep440\n",
      "Done: spirals, width=5, depth=1, ab_range=0.5, epoch=440\n",
      "Previously saved model is of lower resolution; recomputing\n"
     ]
    },
    {
     "name": "stderr",
     "output_type": "stream",
     "text": [
      "Outer loop (a): 100%|██████████| 100/100 [00:49<00:00,  2.02it/s]\n"
     ]
    },
    {
     "name": "stdout",
     "output_type": "stream",
     "text": [
      "✅ Updated and saved new grid at ../backend/landscapes/mlp_5_5/half_moons/train/range0.2/ep600\n",
      "Done: half_moons, width=5, depth=2, ab_range=0.2, epoch=600\n",
      "Previously saved model is of lower resolution; recomputing\n"
     ]
    },
    {
     "name": "stderr",
     "output_type": "stream",
     "text": [
      "Outer loop (a): 100%|██████████| 100/100 [00:51<00:00,  1.96it/s]\n"
     ]
    },
    {
     "name": "stdout",
     "output_type": "stream",
     "text": [
      "✅ Updated and saved new grid at ../backend/landscapes/mlp_5_5/two_blobs_separate/train/range5/ep950\n",
      "Done: two_blobs_separate, width=5, depth=2, ab_range=5, epoch=950\n",
      "Previously saved model is of lower resolution; recomputing\n"
     ]
    },
    {
     "name": "stderr",
     "output_type": "stream",
     "text": [
      "Outer loop (a): 100%|██████████| 100/100 [00:50<00:00,  1.96it/s]\n"
     ]
    },
    {
     "name": "stdout",
     "output_type": "stream",
     "text": [
      "✅ Updated and saved new grid at ../backend/landscapes/mlp_5_5/half_moons/train/range0.2/ep820\n",
      "Done: half_moons, width=5, depth=2, ab_range=0.2, epoch=820\n",
      "Previously saved model is of lower resolution; recomputing\n"
     ]
    },
    {
     "name": "stderr",
     "output_type": "stream",
     "text": [
      "Outer loop (a): 100%|██████████| 100/100 [00:51<00:00,  1.94it/s]\n"
     ]
    },
    {
     "name": "stdout",
     "output_type": "stream",
     "text": [
      "✅ Updated and saved new grid at ../backend/landscapes/mlp_5_5/four_corners/train/range0.2/ep180\n",
      "Done: four_corners, width=5, depth=2, ab_range=0.2, epoch=180\n",
      "Previously saved model is of lower resolution; recomputing\n"
     ]
    },
    {
     "name": "stderr",
     "output_type": "stream",
     "text": [
      "Outer loop (a): 100%|██████████| 100/100 [00:47<00:00,  2.12it/s]\n"
     ]
    },
    {
     "name": "stdout",
     "output_type": "stream",
     "text": [
      "✅ Updated and saved new grid at ../backend/landscapes/mlp_5/spirals/train/range0.2/ep530\n",
      "Done: spirals, width=5, depth=1, ab_range=0.2, epoch=530\n",
      "Previously saved model is of lower resolution; recomputing\n"
     ]
    },
    {
     "name": "stderr",
     "output_type": "stream",
     "text": [
      "Outer loop (a): 100%|██████████| 100/100 [00:46<00:00,  2.14it/s]\n"
     ]
    },
    {
     "name": "stdout",
     "output_type": "stream",
     "text": [
      "✅ Updated and saved new grid at ../backend/landscapes/mlp_5/two_blobs_overlap/train/range0.2/ep890\n",
      "Done: two_blobs_overlap, width=5, depth=1, ab_range=0.2, epoch=890"
     ]
    },
    {
     "name": "stderr",
     "output_type": "stream",
     "text": [
      "Outer loop (a):  95%|█████████▌| 95/100 [00:51<00:02,  1.78it/s]"
     ]
    },
    {
     "name": "stdout",
     "output_type": "stream",
     "text": [
      "\n",
      "Previously saved model is of lower resolution; recomputing\n"
     ]
    },
    {
     "name": "stderr",
     "output_type": "stream",
     "text": [
      "Outer loop (a): 100%|██████████| 100/100 [00:54<00:00,  1.83it/s]\n"
     ]
    },
    {
     "name": "stdout",
     "output_type": "stream",
     "text": [
      "✅ Updated and saved new grid at ../backend/landscapes/mlp_5_5_5_5/two_blobs_separate/train/range1/ep240\n",
      "Done: two_blobs_separate, width=5, depth=4, ab_range=1, epoch=240\n",
      "Previously saved model is of lower resolution; recomputing"
     ]
    },
    {
     "name": "stderr",
     "output_type": "stream",
     "text": [
      "Outer loop (a):  62%|██████▏   | 62/100 [00:31<00:23,  1.65it/s]"
     ]
    },
    {
     "name": "stdout",
     "output_type": "stream",
     "text": [
      "\n"
     ]
    },
    {
     "name": "stderr",
     "output_type": "stream",
     "text": [
      "Outer loop (a): 100%|██████████| 100/100 [00:47<00:00,  2.11it/s]\n"
     ]
    },
    {
     "name": "stdout",
     "output_type": "stream",
     "text": [
      "✅ Updated and saved new grid at ../backend/landscapes/mlp_5/spirals/train/range0.5/ep450\n",
      "Done: spirals, width=5, depth=1, ab_range=0.5, epoch=450\n",
      "Previously saved model is of lower resolution; recomputing\n"
     ]
    },
    {
     "name": "stderr",
     "output_type": "stream",
     "text": [
      "Outer loop (a): 100%|██████████| 100/100 [00:49<00:00,  2.02it/s]\n"
     ]
    },
    {
     "name": "stdout",
     "output_type": "stream",
     "text": [
      "✅ Updated and saved new grid at ../backend/landscapes/mlp_5_5/half_moons/train/range0.2/ep610\n",
      "Done: half_moons, width=5, depth=2, ab_range=0.2, epoch=610\n",
      "Previously saved model is of lower resolution; recomputing\n"
     ]
    },
    {
     "name": "stderr",
     "output_type": "stream",
     "text": [
      "Outer loop (a): 100%|██████████| 100/100 [00:50<00:00,  1.97it/s]\n"
     ]
    },
    {
     "name": "stdout",
     "output_type": "stream",
     "text": [
      "✅ Updated and saved new grid at ../backend/landscapes/mlp_5_5/two_blobs_separate/train/range5/ep960\n",
      "Done: two_blobs_separate, width=5, depth=2, ab_range=5, epoch=960\n",
      "Previously saved model is of lower resolution; recomputing\n"
     ]
    },
    {
     "name": "stderr",
     "output_type": "stream",
     "text": [
      "Outer loop (a): 100%|██████████| 100/100 [00:49<00:00,  2.01it/s]\n"
     ]
    },
    {
     "name": "stdout",
     "output_type": "stream",
     "text": [
      "✅ Updated and saved new grid at ../backend/landscapes/mlp_5_5/half_moons/train/range0.2/ep830\n",
      "Done: half_moons, width=5, depth=2, ab_range=0.2, epoch=830\n",
      "Previously saved model is of lower resolution; recomputing\n"
     ]
    },
    {
     "name": "stderr",
     "output_type": "stream",
     "text": [
      "Outer loop (a): 100%|██████████| 100/100 [00:51<00:00,  1.93it/s]\n"
     ]
    },
    {
     "name": "stdout",
     "output_type": "stream",
     "text": [
      "✅ Updated and saved new grid at ../backend/landscapes/mlp_5_5/four_corners/train/range0.2/ep190\n",
      "Done: four_corners, width=5, depth=2, ab_range=0.2, epoch=190"
     ]
    },
    {
     "name": "stderr",
     "output_type": "stream",
     "text": [
      "Outer loop (a):  55%|█████▌    | 55/100 [00:25<00:19,  2.30it/s]"
     ]
    },
    {
     "name": "stdout",
     "output_type": "stream",
     "text": [
      "\n",
      "Previously saved model is of lower resolution; recomputing\n"
     ]
    },
    {
     "name": "stderr",
     "output_type": "stream",
     "text": [
      "Outer loop (a): 100%|██████████| 100/100 [00:47<00:00,  2.12it/s]\n"
     ]
    },
    {
     "name": "stdout",
     "output_type": "stream",
     "text": [
      "✅ Updated and saved new grid at ../backend/landscapes/mlp_5/spirals/train/range0.2/ep540\n",
      "Done: spirals, width=5, depth=1, ab_range=0.2, epoch=540\n",
      "Previously saved model is of lower resolution; recomputing\n"
     ]
    },
    {
     "name": "stderr",
     "output_type": "stream",
     "text": [
      "Outer loop (a): 100%|██████████| 100/100 [00:47<00:00,  2.12it/s]\n"
     ]
    },
    {
     "name": "stdout",
     "output_type": "stream",
     "text": [
      "✅ Updated and saved new grid at ../backend/landscapes/mlp_5/two_blobs_overlap/train/range0.2/ep900\n",
      "Done: two_blobs_overlap, width=5, depth=1, ab_range=0.2, epoch=900\n",
      "Previously saved model is of lower resolution; recomputing\n"
     ]
    },
    {
     "name": "stderr",
     "output_type": "stream",
     "text": [
      "Outer loop (a): 100%|██████████| 100/100 [00:47<00:00,  2.09it/s]\n"
     ]
    },
    {
     "name": "stdout",
     "output_type": "stream",
     "text": [
      "✅ Updated and saved new grid at ../backend/landscapes/mlp_5/spirals/train/range0.5/ep460\n",
      "Done: spirals, width=5, depth=1, ab_range=0.5, epoch=460\n",
      "Previously saved model is of lower resolution; recomputing\n"
     ]
    },
    {
     "name": "stderr",
     "output_type": "stream",
     "text": [
      "Outer loop (a): 100%|██████████| 100/100 [00:55<00:00,  1.80it/s]\n"
     ]
    },
    {
     "name": "stdout",
     "output_type": "stream",
     "text": [
      "✅ Updated and saved new grid at ../backend/landscapes/mlp_5_5_5_5/two_blobs_separate/train/range1/ep250\n",
      "Done: two_blobs_separate, width=5, depth=4, ab_range=1, epoch=250\n",
      "Previously saved model is of lower resolution; recomputing\n"
     ]
    },
    {
     "name": "stderr",
     "output_type": "stream",
     "text": [
      "Outer loop (a): 100%|██████████| 100/100 [00:50<00:00,  1.97it/s]\n"
     ]
    },
    {
     "name": "stdout",
     "output_type": "stream",
     "text": [
      "✅ Updated and saved new grid at ../backend/landscapes/mlp_5_5/half_moons/train/range0.2/ep620\n",
      "Done: half_moons, width=5, depth=2, ab_range=0.2, epoch=620\n",
      "Previously saved model is of lower resolution; recomputing\n"
     ]
    },
    {
     "name": "stderr",
     "output_type": "stream",
     "text": [
      "Outer loop (a): 100%|██████████| 100/100 [00:50<00:00,  1.98it/s]\n"
     ]
    },
    {
     "name": "stdout",
     "output_type": "stream",
     "text": [
      "✅ Updated and saved new grid at ../backend/landscapes/mlp_5_5/two_blobs_separate/train/range5/ep970\n",
      "Done: two_blobs_separate, width=5, depth=2, ab_range=5, epoch=970\n",
      "Previously saved model is of lower resolution; recomputing\n"
     ]
    },
    {
     "name": "stderr",
     "output_type": "stream",
     "text": [
      "Outer loop (a): 100%|██████████| 100/100 [00:50<00:00,  2.00it/s]\n"
     ]
    },
    {
     "name": "stdout",
     "output_type": "stream",
     "text": [
      "✅ Updated and saved new grid at ../backend/landscapes/mlp_5_5/half_moons/train/range0.2/ep840\n",
      "Done: half_moons, width=5, depth=2, ab_range=0.2, epoch=840\n",
      "Previously saved model is of lower resolution; recomputing\n"
     ]
    },
    {
     "name": "stderr",
     "output_type": "stream",
     "text": [
      "Outer loop (a): 100%|██████████| 100/100 [00:49<00:00,  2.01it/s]\n"
     ]
    },
    {
     "name": "stdout",
     "output_type": "stream",
     "text": [
      "✅ Updated and saved new grid at ../backend/landscapes/mlp_5_5/four_corners/train/range0.2/ep200\n",
      "Done: four_corners, width=5, depth=2, ab_range=0.2, epoch=200\n",
      "Previously saved model is of lower resolution; recomputing\n"
     ]
    },
    {
     "name": "stderr",
     "output_type": "stream",
     "text": [
      "Outer loop (a): 100%|██████████| 100/100 [00:46<00:00,  2.13it/s]\n"
     ]
    },
    {
     "name": "stdout",
     "output_type": "stream",
     "text": [
      "✅ Updated and saved new grid at ../backend/landscapes/mlp_5/spirals/train/range0.2/ep550\n",
      "Done: spirals, width=5, depth=1, ab_range=0.2, epoch=550\n",
      "Previously saved model is of lower resolution; recomputing\n"
     ]
    },
    {
     "name": "stderr",
     "output_type": "stream",
     "text": [
      "Outer loop (a):  44%|████▍     | 44/100 [00:21<00:25,  2.16it/s]]\n"
     ]
    },
    {
     "name": "stdout",
     "output_type": "stream",
     "text": [
      "✅ Updated and saved new grid at ../backend/landscapes/mlp_5/two_blobs_overlap/train/range0.2/ep910\n",
      "Done: two_blobs_overlap, width=5, depth=1, ab_range=0.2, epoch=910\n",
      "Previously saved model is of lower resolution; recomputing\n"
     ]
    },
    {
     "name": "stderr",
     "output_type": "stream",
     "text": [
      "Outer loop (a): 100%|██████████| 100/100 [00:47<00:00,  2.08it/s]\n"
     ]
    },
    {
     "name": "stdout",
     "output_type": "stream",
     "text": [
      "✅ Updated and saved new grid at ../backend/landscapes/mlp_5/spirals/train/range0.5/ep470\n",
      "Done: spirals, width=5, depth=1, ab_range=0.5, epoch=470\n",
      "Previously saved model is of lower resolution; recomputing\n"
     ]
    },
    {
     "name": "stderr",
     "output_type": "stream",
     "text": [
      "Outer loop (a): 100%|██████████| 100/100 [00:54<00:00,  1.83it/s]\n"
     ]
    },
    {
     "name": "stdout",
     "output_type": "stream",
     "text": [
      "✅ Updated and saved new grid at ../backend/landscapes/mlp_5_5_5_5/two_blobs_separate/train/range1/ep260\n",
      "Done: two_blobs_separate, width=5, depth=4, ab_range=1, epoch=260\n",
      "Previously saved model is of lower resolution; recomputing\n"
     ]
    },
    {
     "name": "stderr",
     "output_type": "stream",
     "text": [
      "Outer loop (a): 100%|██████████| 100/100 [00:50<00:00,  1.98it/s]\n"
     ]
    },
    {
     "name": "stdout",
     "output_type": "stream",
     "text": [
      "✅ Updated and saved new grid at ../backend/landscapes/mlp_5_5/half_moons/train/range0.2/ep630\n",
      "Done: half_moons, width=5, depth=2, ab_range=0.2, epoch=630\n",
      "Previously saved model is of lower resolution; recomputing\n"
     ]
    },
    {
     "name": "stderr",
     "output_type": "stream",
     "text": [
      "Outer loop (a): 100%|██████████| 100/100 [00:48<00:00,  2.05it/s]\n"
     ]
    },
    {
     "name": "stdout",
     "output_type": "stream",
     "text": [
      "✅ Updated and saved new grid at ../backend/landscapes/mlp_5_5/two_blobs_separate/train/range5/ep980\n",
      "Done: two_blobs_separate, width=5, depth=2, ab_range=5, epoch=980\n",
      "Previously saved model is of lower resolution; recomputing\n"
     ]
    },
    {
     "name": "stderr",
     "output_type": "stream",
     "text": [
      "Outer loop (a): 100%|██████████| 100/100 [00:50<00:00,  1.97it/s]\n"
     ]
    },
    {
     "name": "stdout",
     "output_type": "stream",
     "text": [
      "✅ Updated and saved new grid at ../backend/landscapes/mlp_5_5/half_moons/train/range0.2/ep850\n",
      "Done: half_moons, width=5, depth=2, ab_range=0.2, epoch=850\n",
      "Previously saved model is of lower resolution; recomputing\n"
     ]
    },
    {
     "name": "stderr",
     "output_type": "stream",
     "text": [
      "Outer loop (a): 100%|██████████| 100/100 [00:51<00:00,  1.93it/s]\n"
     ]
    },
    {
     "name": "stdout",
     "output_type": "stream",
     "text": [
      "✅ Updated and saved new grid at ../backend/landscapes/mlp_5_5/four_corners/train/range0.2/ep210\n",
      "Done: four_corners, width=5, depth=2, ab_range=0.2, epoch=210\n",
      "Previously saved model is of lower resolution; recomputing\n"
     ]
    },
    {
     "name": "stderr",
     "output_type": "stream",
     "text": [
      "Outer loop (a): 100%|██████████| 100/100 [00:48<00:00,  2.07it/s]\n"
     ]
    },
    {
     "name": "stdout",
     "output_type": "stream",
     "text": [
      "✅ Updated and saved new grid at ../backend/landscapes/mlp_5/spirals/train/range0.2/ep560\n",
      "Done: spirals, width=5, depth=1, ab_range=0.2, epoch=560\n",
      "Previously saved model is of lower resolution; recomputing\n"
     ]
    },
    {
     "name": "stderr",
     "output_type": "stream",
     "text": [
      "Outer loop (a): 100%|██████████| 100/100 [00:45<00:00,  2.20it/s]\n"
     ]
    },
    {
     "name": "stdout",
     "output_type": "stream",
     "text": [
      "✅ Updated and saved new grid at ../backend/landscapes/mlp_5/two_blobs_overlap/train/range0.2/ep920\n",
      "Done: two_blobs_overlap, width=5, depth=1, ab_range=0.2, epoch=920\n",
      "Previously saved model is of lower resolution; recomputing\n"
     ]
    },
    {
     "name": "stderr",
     "output_type": "stream",
     "text": [
      "Outer loop (a): 100%|██████████| 100/100 [00:47<00:00,  2.09it/s]\n"
     ]
    },
    {
     "name": "stdout",
     "output_type": "stream",
     "text": [
      "✅ Updated and saved new grid at ../backend/landscapes/mlp_5/spirals/train/range0.5/ep480\n",
      "Done: spirals, width=5, depth=1, ab_range=0.5, epoch=480\n",
      "Previously saved model is of lower resolution; recomputing\n"
     ]
    },
    {
     "name": "stderr",
     "output_type": "stream",
     "text": [
      "Outer loop (a): 100%|██████████| 100/100 [00:55<00:00,  1.81it/s]\n"
     ]
    },
    {
     "name": "stdout",
     "output_type": "stream",
     "text": [
      "✅ Updated and saved new grid at ../backend/landscapes/mlp_5_5_5_5/two_blobs_separate/train/range1/ep270\n",
      "Done: two_blobs_separate, width=5, depth=4, ab_range=1, epoch=270\n",
      "Previously saved model is of lower resolution; recomputing"
     ]
    },
    {
     "name": "stderr",
     "output_type": "stream",
     "text": [
      "Outer loop (a):  88%|████████▊ | 88/100 [00:44<00:06,  1.80it/s]"
     ]
    },
    {
     "name": "stdout",
     "output_type": "stream",
     "text": [
      "\n"
     ]
    },
    {
     "name": "stderr",
     "output_type": "stream",
     "text": [
      "Outer loop (a): 100%|██████████| 100/100 [00:50<00:00,  1.97it/s]\n"
     ]
    },
    {
     "name": "stdout",
     "output_type": "stream",
     "text": [
      "✅ Updated and saved new grid at ../backend/landscapes/mlp_5_5/two_blobs_separate/train/range5/ep990\n",
      "Done: two_blobs_separate, width=5, depth=2, ab_range=5, epoch=990\n",
      "Previously saved model is of lower resolution; recomputing\n"
     ]
    },
    {
     "name": "stderr",
     "output_type": "stream",
     "text": [
      "Outer loop (a): 100%|██████████| 100/100 [00:51<00:00,  1.95it/s]\n"
     ]
    },
    {
     "name": "stdout",
     "output_type": "stream",
     "text": [
      "✅ Updated and saved new grid at ../backend/landscapes/mlp_5_5/half_moons/train/range0.2/ep640\n",
      "Done: half_moons, width=5, depth=2, ab_range=0.2, epoch=640\n",
      "Previously saved model is of lower resolution; recomputing\n"
     ]
    },
    {
     "name": "stderr",
     "output_type": "stream",
     "text": [
      "Outer loop (a): 100%|██████████| 100/100 [00:50<00:00,  1.97it/s]\n"
     ]
    },
    {
     "name": "stdout",
     "output_type": "stream",
     "text": [
      "✅ Updated and saved new grid at ../backend/landscapes/mlp_5_5/half_moons/train/range0.2/ep860\n",
      "Done: half_moons, width=5, depth=2, ab_range=0.2, epoch=860\n",
      "Previously saved model is of lower resolution; recomputing\n"
     ]
    },
    {
     "name": "stderr",
     "output_type": "stream",
     "text": [
      "Outer loop (a): 100%|██████████| 100/100 [00:49<00:00,  2.01it/s]\n"
     ]
    },
    {
     "name": "stdout",
     "output_type": "stream",
     "text": [
      "✅ Updated and saved new grid at ../backend/landscapes/mlp_5_5/four_corners/train/range0.2/ep220\n",
      "Done: four_corners, width=5, depth=2, ab_range=0.2, epoch=220\n",
      "Previously saved model is of lower resolution; recomputing\n"
     ]
    },
    {
     "name": "stderr",
     "output_type": "stream",
     "text": [
      "Outer loop (a): 100%|██████████| 100/100 [00:47<00:00,  2.11it/s]\n"
     ]
    },
    {
     "name": "stdout",
     "output_type": "stream",
     "text": [
      "✅ Updated and saved new grid at ../backend/landscapes/mlp_5/two_blobs_overlap/train/range0.2/ep930\n",
      "Done: two_blobs_overlap, width=5, depth=1, ab_range=0.2, epoch=930\n",
      "Previously saved model is of lower resolution; recomputing\n"
     ]
    },
    {
     "name": "stderr",
     "output_type": "stream",
     "text": [
      "Outer loop (a): 100%|██████████| 100/100 [00:48<00:00,  2.07it/s]\n"
     ]
    },
    {
     "name": "stdout",
     "output_type": "stream",
     "text": [
      "✅ Updated and saved new grid at ../backend/landscapes/mlp_5/spirals/train/range0.2/ep570\n",
      "Done: spirals, width=5, depth=1, ab_range=0.2, epoch=570\n",
      "Previously saved model is of lower resolution; recomputing\n"
     ]
    },
    {
     "name": "stderr",
     "output_type": "stream",
     "text": [
      "Outer loop (a): 100%|██████████| 100/100 [00:47<00:00,  2.12it/s]\n"
     ]
    },
    {
     "name": "stdout",
     "output_type": "stream",
     "text": [
      "✅ Updated and saved new grid at ../backend/landscapes/mlp_5/spirals/train/range0.5/ep490\n",
      "Done: spirals, width=5, depth=1, ab_range=0.5, epoch=490\n",
      "Previously saved model is of lower resolution; recomputing\n"
     ]
    },
    {
     "name": "stderr",
     "output_type": "stream",
     "text": [
      "Outer loop (a): 100%|██████████| 100/100 [00:48<00:00,  2.05it/s]\n"
     ]
    },
    {
     "name": "stdout",
     "output_type": "stream",
     "text": [
      "✅ Updated and saved new grid at ../backend/landscapes/mlp_5_5/two_blobs_separate/train/range5/ep1000\n",
      "Done: two_blobs_separate, width=5, depth=2, ab_range=5, epoch=1000\n",
      "Previously saved model is of lower resolution; recomputing\n"
     ]
    },
    {
     "name": "stderr",
     "output_type": "stream",
     "text": [
      "Outer loop (a): 100%|██████████| 100/100 [00:55<00:00,  1.79it/s]\n"
     ]
    },
    {
     "name": "stdout",
     "output_type": "stream",
     "text": [
      "✅ Updated and saved new grid at ../backend/landscapes/mlp_5_5_5_5/two_blobs_separate/train/range1/ep280\n",
      "Done: two_blobs_separate, width=5, depth=4, ab_range=1, epoch=280\n",
      "Done: two_blobs_separate, width=5, depth=4, ab_range=1, epoch=290\n",
      "Done: two_blobs_separate, width=5, depth=4, ab_range=1, epoch=300\n",
      "Done: two_blobs_separate, width=5, depth=4, ab_range=1, epoch=310\n",
      "Done: two_blobs_separate, width=5, depth=4, ab_range=1, epoch=320\n",
      "Done: two_blobs_separate, width=5, depth=4, ab_range=1, epoch=330\n"
     ]
    },
    {
     "name": "stderr",
     "output_type": "stream",
     "text": [
      "Outer loop (a):  99%|█████████▉| 99/100 [00:51<00:00,  1.68it/s]"
     ]
    },
    {
     "name": "stdout",
     "output_type": "stream",
     "text": [
      "Done: two_blobs_separate, width=5, depth=4, ab_range=1, epoch=340\n",
      "Done: two_blobs_separate, width=5, depth=4, ab_range=1, epoch=350\n",
      "Done: two_blobs_separate, width=5, depth=4, ab_range=1, epoch=360\n",
      "Done: two_blobs_separate, width=5, depth=4, ab_range=1, epoch=370\n",
      "Done: two_blobs_separate, width=5, depth=4, ab_range=1, epoch=380\n",
      "Done: two_blobs_separate, width=5, depth=4, ab_range=1, epoch=390\n",
      "Done: two_blobs_separate, width=5, depth=4, ab_range=1, epoch=400\n",
      "Done: two_blobs_separate, width=5, depth=4, ab_range=1, epoch=410\n",
      "Done: two_blobs_separate, width=5, depth=4, ab_range=1, epoch=420\n",
      "Done: two_blobs_separate, width=5, depth=4, ab_range=1, epoch=430\n",
      "Done: two_blobs_separate, width=5, depth=4, ab_range=1, epoch=440\n",
      "Done: two_blobs_separate, width=5, depth=4, ab_range=1, epoch=450\n",
      "Done: two_blobs_separate, width=5, depth=4, ab_range=1, epoch=460\n",
      "Done: two_blobs_separate, width=5, depth=4, ab_range=1, epoch=470\n",
      "Done: two_blobs_separate, width=5, depth=4, ab_range=1, epoch=480\n",
      "Done: two_blobs_separate, width=5, depth=4, ab_range=1, epoch=490\n",
      "Done: two_blobs_separate, width=5, depth=4, ab_range=1, epoch=500\n",
      "Done: two_blobs_separate, width=5, depth=4, ab_range=1, epoch=510\n",
      "Done: two_blobs_separate, width=5, depth=4, ab_range=1, epoch=520\n",
      "Done: two_blobs_separate, width=5, depth=4, ab_range=1, epoch=530\n",
      "Done: two_blobs_separate, width=5, depth=4, ab_range=1, epoch=540\n",
      "Done: two_blobs_separate, width=5, depth=4, ab_range=1, epoch=550\n",
      "Done: two_blobs_separate, width=5, depth=4, ab_range=1, epoch=560\n",
      "Done: two_blobs_separate, width=5, depth=4, ab_range=1, epoch=570\n",
      "Done: two_blobs_separate, width=5, depth=4, ab_range=1, epoch=580\n",
      "Done: two_blobs_separate, width=5, depth=4, ab_range=1, epoch=590\n",
      "Done: two_blobs_separate, width=5, depth=4, ab_range=1, epoch=600\n",
      "Done: two_blobs_separate, width=5, depth=4, ab_range=1, epoch=610\n",
      "Done: two_blobs_separate, width=5, depth=4, ab_range=1, epoch=620\n",
      "Done: two_blobs_separate, width=5, depth=4, ab_range=1, epoch=630\n",
      "Done: two_blobs_separate, width=5, depth=4, ab_range=1, epoch=640\n",
      "Done: two_blobs_separate, width=5, depth=4, ab_range=1, epoch=650\n",
      "Done: two_blobs_separate, width=5, depth=4, ab_range=1, epoch=660\n",
      "Done: two_blobs_separate, width=5, depth=4, ab_range=1, epoch=670\n",
      "Done: two_blobs_separate, width=5, depth=4, ab_range=1, epoch=680\n",
      "Done: two_blobs_separate, width=5, depth=4, ab_range=1, epoch=690\n",
      "Done: two_blobs_separate, width=5, depth=4, ab_range=1, epoch=700\n",
      "Done: two_blobs_separate, width=5, depth=4, ab_range=1, epoch=710\n",
      "Done: two_blobs_separate, width=5, depth=4, ab_range=1, epoch=720\n",
      "Done: two_blobs_separate, width=5, depth=4, ab_range=1, epoch=730\n",
      "Done: two_blobs_separate, width=5, depth=4, ab_range=1, epoch=740\n",
      "Done: two_blobs_separate, width=5, depth=4, ab_range=1, epoch=750\n",
      "Done: two_blobs_separate, width=5, depth=4, ab_range=1, epoch=760\n",
      "Done: two_blobs_separate, width=5, depth=4, ab_range=1, epoch=770\n",
      "Done: two_blobs_separate, width=5, depth=4, ab_range=1, epoch=780\n",
      "Done: two_blobs_separate, width=5, depth=4, ab_range=1, epoch=790\n",
      "Done: two_blobs_separate, width=5, depth=4, ab_range=1, epoch=800\n",
      "Done: two_blobs_separate, width=5, depth=4, ab_range=1, epoch=810\n",
      "Done: two_blobs_separate, width=5, depth=4, ab_range=1, epoch=820\n",
      "Done: two_blobs_separate, width=5, depth=4, ab_range=1, epoch=830\n",
      "Done: two_blobs_separate, width=5, depth=4, ab_range=1, epoch=840\n",
      "Done: two_blobs_separate, width=5, depth=4, ab_range=1, epoch=850\n",
      "Done: two_blobs_separate, width=5, depth=4, ab_range=1, epoch=860\n",
      "Done: two_blobs_separate, width=5, depth=4, ab_range=1, epoch=870\n",
      "Done: two_blobs_separate, width=5, depth=4, ab_range=1, epoch=880\n",
      "Done: two_blobs_separate, width=5, depth=4, ab_range=1, epoch=890\n",
      "Done: two_blobs_separate, width=5, depth=4, ab_range=1, epoch=900\n",
      "Done: two_blobs_separate, width=5, depth=4, ab_range=1, epoch=910\n",
      "Done: two_blobs_separate, width=5, depth=4, ab_range=1, epoch=920\n",
      "Done: two_blobs_separate, width=5, depth=4, ab_range=1, epoch=930\n",
      "Done: two_blobs_separate, width=5, depth=4, ab_range=1, epoch=940\n",
      "Done: two_blobs_separate, width=5, depth=4, ab_range=1, epoch=950\n"
     ]
    },
    {
     "name": "stderr",
     "output_type": "stream",
     "text": [
      "Outer loop (a):  75%|███████▌  | 75/100 [00:36<00:10,  2.41it/s]"
     ]
    },
    {
     "name": "stdout",
     "output_type": "stream",
     "text": [
      "Done: two_blobs_separate, width=5, depth=4, ab_range=1, epoch=960\n",
      "Done: two_blobs_separate, width=5, depth=4, ab_range=1, epoch=970\n",
      "Done: two_blobs_separate, width=5, depth=4, ab_range=1, epoch=980\n",
      "Done: two_blobs_separate, width=5, depth=4, ab_range=1, epoch=990"
     ]
    },
    {
     "name": "stderr",
     "output_type": "stream",
     "text": [
      "Outer loop (a):  60%|██████    | 60/100 [00:29<00:22,  1.80it/s]"
     ]
    },
    {
     "name": "stdout",
     "output_type": "stream",
     "text": [
      "\n",
      "Done: two_blobs_separate, width=5, depth=4, ab_range=1, epoch=1000\n",
      "Done: two_blobs_separate, width=5, depth=4, ab_range=10, epoch=0\n",
      "Done: two_blobs_separate, width=5, depth=4, ab_range=10, epoch=10\n",
      "Done: two_blobs_separate, width=5, depth=4, ab_range=10, epoch=20\n",
      "Done: two_blobs_separate, width=5, depth=4, ab_range=10, epoch=30\n",
      "Done: two_blobs_separate, width=5, depth=4, ab_range=10, epoch=40\n",
      "Done: two_blobs_separate, width=5, depth=4, ab_range=10, epoch=50\n",
      "Done: two_blobs_separate, width=5, depth=4, ab_range=10, epoch=60\n",
      "Done: two_blobs_separate, width=5, depth=4, ab_range=10, epoch=70\n",
      "Done: two_blobs_separate, width=5, depth=4, ab_range=10, epoch=80\n",
      "Done: two_blobs_separate, width=5, depth=4, ab_range=10, epoch=90\n",
      "Done: two_blobs_separate, width=5, depth=4, ab_range=10, epoch=100\n",
      "Done: two_blobs_separate, width=5, depth=4, ab_range=10, epoch=110\n",
      "Done: two_blobs_separate, width=5, depth=4, ab_range=10, epoch=120\n",
      "Done: two_blobs_separate, width=5, depth=4, ab_range=10, epoch=130\n",
      "Done: two_blobs_separate, width=5, depth=4, ab_range=10, epoch=140\n",
      "Done: two_blobs_separate, width=5, depth=4, ab_range=10, epoch=150\n",
      "Done: two_blobs_separate, width=5, depth=4, ab_range=10, epoch=160\n",
      "Done: two_blobs_separate, width=5, depth=4, ab_range=10, epoch=170\n",
      "Done: two_blobs_separate, width=5, depth=4, ab_range=10, epoch=180\n",
      "Done: two_blobs_separate, width=5, depth=4, ab_range=10, epoch=190\n",
      "Done: two_blobs_separate, width=5, depth=4, ab_range=10, epoch=200\n",
      "Done: two_blobs_separate, width=5, depth=4, ab_range=10, epoch=210\n",
      "Done: two_blobs_separate, width=5, depth=4, ab_range=10, epoch=220\n",
      "Done: two_blobs_separate, width=5, depth=4, ab_range=10, epoch=230\n",
      "Done: two_blobs_separate, width=5, depth=4, ab_range=10, epoch=240\n",
      "Done: two_blobs_separate, width=5, depth=4, ab_range=10, epoch=250\n",
      "Done: two_blobs_separate, width=5, depth=4, ab_range=10, epoch=260\n",
      "Done: two_blobs_separate, width=5, depth=4, ab_range=10, epoch=270\n",
      "Done: two_blobs_separate, width=5, depth=4, ab_range=10, epoch=280\n",
      "Done: two_blobs_separate, width=5, depth=4, ab_range=10, epoch=290\n",
      "Done: two_blobs_separate, width=5, depth=4, ab_range=10, epoch=300\n",
      "Done: two_blobs_separate, width=5, depth=4, ab_range=10, epoch=310\n",
      "Done: two_blobs_separate, width=5, depth=4, ab_range=10, epoch=320\n",
      "Done: two_blobs_separate, width=5, depth=4, ab_range=10, epoch=330\n",
      "Done: two_blobs_separate, width=5, depth=4, ab_range=10, epoch=340\n",
      "Done: two_blobs_separate, width=5, depth=4, ab_range=10, epoch=350\n",
      "Done: two_blobs_separate, width=5, depth=4, ab_range=10, epoch=360\n",
      "Done: two_blobs_separate, width=5, depth=4, ab_range=10, epoch=370\n",
      "Done: two_blobs_separate, width=5, depth=4, ab_range=10, epoch=380\n",
      "Done: two_blobs_separate, width=5, depth=4, ab_range=10, epoch=390\n",
      "Done: two_blobs_separate, width=5, depth=4, ab_range=10, epoch=400\n",
      "Done: two_blobs_separate, width=5, depth=4, ab_range=10, epoch=410\n",
      "Done: two_blobs_separate, width=5, depth=4, ab_range=10, epoch=420\n",
      "Done: two_blobs_separate, width=5, depth=4, ab_range=10, epoch=430\n",
      "Done: two_blobs_separate, width=5, depth=4, ab_range=10, epoch=440\n",
      "Done: two_blobs_separate, width=5, depth=4, ab_range=10, epoch=450\n",
      "Done: two_blobs_separate, width=5, depth=4, ab_range=10, epoch=460\n",
      "Done: two_blobs_separate, width=5, depth=4, ab_range=10, epoch=470\n",
      "Done: two_blobs_separate, width=5, depth=4, ab_range=10, epoch=480\n",
      "Done: two_blobs_separate, width=5, depth=4, ab_range=10, epoch=490\n",
      "Done: two_blobs_separate, width=5, depth=4, ab_range=10, epoch=500\n",
      "Done: two_blobs_separate, width=5, depth=4, ab_range=10, epoch=510\n",
      "Done: two_blobs_separate, width=5, depth=4, ab_range=10, epoch=520\n",
      "Done: two_blobs_separate, width=5, depth=4, ab_range=10, epoch=530\n",
      "Done: two_blobs_separate, width=5, depth=4, ab_range=10, epoch=540\n",
      "Done: two_blobs_separate, width=5, depth=4, ab_range=10, epoch=550\n",
      "Done: two_blobs_separate, width=5, depth=4, ab_range=10, epoch=560\n",
      "Done: two_blobs_separate, width=5, depth=4, ab_range=10, epoch=570\n",
      "Done: two_blobs_separate, width=5, depth=4, ab_range=10, epoch=580\n",
      "Done: two_blobs_separate, width=5, depth=4, ab_range=10, epoch=590\n",
      "Done: two_blobs_separate, width=5, depth=4, ab_range=10, epoch=600\n",
      "Done: two_blobs_separate, width=5, depth=4, ab_range=10, epoch=610\n",
      "Done: two_blobs_separate, width=5, depth=4, ab_range=10, epoch=620\n",
      "Done: two_blobs_separate, width=5, depth=4, ab_range=10, epoch=630"
     ]
    },
    {
     "name": "stderr",
     "output_type": "stream",
     "text": [
      "Outer loop (a):  94%|█████████▍| 94/100 [00:47<00:03,  1.94it/s]"
     ]
    },
    {
     "name": "stdout",
     "output_type": "stream",
     "text": [
      "\n",
      "Done: two_blobs_separate, width=5, depth=4, ab_range=10, epoch=640\n",
      "Done: two_blobs_separate, width=5, depth=4, ab_range=10, epoch=650\n",
      "Done: two_blobs_separate, width=5, depth=4, ab_range=10, epoch=660\n",
      "Done: two_blobs_separate, width=5, depth=4, ab_range=10, epoch=670\n",
      "Done: two_blobs_separate, width=5, depth=4, ab_range=10, epoch=680\n",
      "Done: two_blobs_separate, width=5, depth=4, ab_range=10, epoch=690\n",
      "Done: two_blobs_separate, width=5, depth=4, ab_range=10, epoch=700\n",
      "Done: two_blobs_separate, width=5, depth=4, ab_range=10, epoch=710\n",
      "Done: two_blobs_separate, width=5, depth=4, ab_range=10, epoch=720\n",
      "Done: two_blobs_separate, width=5, depth=4, ab_range=10, epoch=730\n",
      "Done: two_blobs_separate, width=5, depth=4, ab_range=10, epoch=740\n",
      "Done: two_blobs_separate, width=5, depth=4, ab_range=10, epoch=750\n",
      "Done: two_blobs_separate, width=5, depth=4, ab_range=10, epoch=760\n",
      "Done: two_blobs_separate, width=5, depth=4, ab_range=10, epoch=770\n",
      "Done: two_blobs_separate, width=5, depth=4, ab_range=10, epoch=780\n",
      "Done: two_blobs_separate, width=5, depth=4, ab_range=10, epoch=790\n",
      "Done: two_blobs_separate, width=5, depth=4, ab_range=10, epoch=800\n",
      "Done: two_blobs_separate, width=5, depth=4, ab_range=10, epoch=810\n",
      "Done: two_blobs_separate, width=5, depth=4, ab_range=10, epoch=820\n",
      "Done: two_blobs_separate, width=5, depth=4, ab_range=10, epoch=830\n",
      "Done: two_blobs_separate, width=5, depth=4, ab_range=10, epoch=840\n",
      "Done: two_blobs_separate, width=5, depth=4, ab_range=10, epoch=850\n",
      "Done: two_blobs_separate, width=5, depth=4, ab_range=10, epoch=860\n",
      "Done: two_blobs_separate, width=5, depth=4, ab_range=10, epoch=870\n",
      "Done: two_blobs_separate, width=5, depth=4, ab_range=10, epoch=880\n",
      "Done: two_blobs_separate, width=5, depth=4, ab_range=10, epoch=890\n",
      "Done: two_blobs_separate, width=5, depth=4, ab_range=10, epoch=900\n",
      "Done: two_blobs_separate, width=5, depth=4, ab_range=10, epoch=910\n",
      "Done: two_blobs_separate, width=5, depth=4, ab_range=10, epoch=920\n",
      "Done: two_blobs_separate, width=5, depth=4, ab_range=10, epoch=930\n",
      "Done: two_blobs_separate, width=5, depth=4, ab_range=10, epoch=940\n",
      "Done: two_blobs_separate, width=5, depth=4, ab_range=10, epoch=950\n",
      "Done: two_blobs_separate, width=5, depth=4, ab_range=10, epoch=960\n",
      "Done: two_blobs_separate, width=5, depth=4, ab_range=10, epoch=970\n",
      "Done: two_blobs_separate, width=5, depth=4, ab_range=10, epoch=980\n",
      "Done: two_blobs_separate, width=5, depth=4, ab_range=10, epoch=990\n",
      "Done: two_blobs_separate, width=5, depth=4, ab_range=10, epoch=1000\n",
      "Done: two_blobs_separate, width=5, depth=4, ab_range=2, epoch=0\n",
      "Done: two_blobs_separate, width=5, depth=4, ab_range=2, epoch=10\n",
      "Done: two_blobs_separate, width=5, depth=4, ab_range=2, epoch=20\n",
      "Done: two_blobs_separate, width=5, depth=4, ab_range=2, epoch=30\n"
     ]
    },
    {
     "name": "stderr",
     "output_type": "stream",
     "text": [
      "Outer loop (a):   8%|▊         | 8/100 [00:03<00:40,  2.27it/s]"
     ]
    },
    {
     "name": "stdout",
     "output_type": "stream",
     "text": [
      "Done: two_blobs_separate, width=5, depth=4, ab_range=2, epoch=40\n",
      "Done: two_blobs_separate, width=5, depth=4, ab_range=2, epoch=50\n",
      "Done: two_blobs_separate, width=5, depth=4, ab_range=2, epoch=60\n",
      "Done: two_blobs_separate, width=5, depth=4, ab_range=2, epoch=70\n",
      "Done: two_blobs_separate, width=5, depth=4, ab_range=2, epoch=80\n",
      "Done: two_blobs_separate, width=5, depth=4, ab_range=2, epoch=90\n",
      "Done: two_blobs_separate, width=5, depth=4, ab_range=2, epoch=100\n",
      "Done: two_blobs_separate, width=5, depth=4, ab_range=2, epoch=110\n",
      "Done: two_blobs_separate, width=5, depth=4, ab_range=2, epoch=120\n",
      "Done: two_blobs_separate, width=5, depth=4, ab_range=2, epoch=130\n",
      "Done: two_blobs_separate, width=5, depth=4, ab_range=2, epoch=140\n",
      "Done: two_blobs_separate, width=5, depth=4, ab_range=2, epoch=150\n",
      "Done: two_blobs_separate, width=5, depth=4, ab_range=2, epoch=160\n",
      "Done: two_blobs_separate, width=5, depth=4, ab_range=2, epoch=170\n",
      "Done: two_blobs_separate, width=5, depth=4, ab_range=2, epoch=180\n",
      "Done: two_blobs_separate, width=5, depth=4, ab_range=2, epoch=190\n",
      "Done: two_blobs_separate, width=5, depth=4, ab_range=2, epoch=200\n",
      "Done: two_blobs_separate, width=5, depth=4, ab_range=2, epoch=210\n",
      "Done: two_blobs_separate, width=5, depth=4, ab_range=2, epoch=220\n",
      "Done: two_blobs_separate, width=5, depth=4, ab_range=2, epoch=230\n",
      "Done: two_blobs_separate, width=5, depth=4, ab_range=2, epoch=240\n",
      "Done: two_blobs_separate, width=5, depth=4, ab_range=2, epoch=250\n",
      "Done: two_blobs_separate, width=5, depth=4, ab_range=2, epoch=260\n",
      "Done: two_blobs_separate, width=5, depth=4, ab_range=2, epoch=270\n",
      "Done: two_blobs_separate, width=5, depth=4, ab_range=2, epoch=280\n",
      "Done: two_blobs_separate, width=5, depth=4, ab_range=2, epoch=290\n",
      "Done: two_blobs_separate, width=5, depth=4, ab_range=2, epoch=300\n",
      "Done: two_blobs_separate, width=5, depth=4, ab_range=2, epoch=310\n",
      "Done: two_blobs_separate, width=5, depth=4, ab_range=2, epoch=320\n",
      "Done: two_blobs_separate, width=5, depth=4, ab_range=2, epoch=330\n",
      "Done: two_blobs_separate, width=5, depth=4, ab_range=2, epoch=340\n"
     ]
    },
    {
     "name": "stderr",
     "output_type": "stream",
     "text": [
      "Outer loop (a):  80%|████████  | 80/100 [00:37<00:10,  1.97it/s]"
     ]
    },
    {
     "name": "stdout",
     "output_type": "stream",
     "text": [
      "Done: two_blobs_separate, width=5, depth=4, ab_range=2, epoch=350\n",
      "Done: two_blobs_separate, width=5, depth=4, ab_range=2, epoch=360\n",
      "Done: two_blobs_separate, width=5, depth=4, ab_range=2, epoch=370\n",
      "Done: two_blobs_separate, width=5, depth=4, ab_range=2, epoch=380\n",
      "Done: two_blobs_separate, width=5, depth=4, ab_range=2, epoch=390\n",
      "Done: two_blobs_separate, width=5, depth=4, ab_range=2, epoch=400\n",
      "Done: two_blobs_separate, width=5, depth=4, ab_range=2, epoch=410\n",
      "Done: two_blobs_separate, width=5, depth=4, ab_range=2, epoch=420\n",
      "Done: two_blobs_separate, width=5, depth=4, ab_range=2, epoch=430\n",
      "Done: two_blobs_separate, width=5, depth=4, ab_range=2, epoch=440\n",
      "Done: two_blobs_separate, width=5, depth=4, ab_range=2, epoch=450\n",
      "Done: two_blobs_separate, width=5, depth=4, ab_range=2, epoch=460\n",
      "Done: two_blobs_separate, width=5, depth=4, ab_range=2, epoch=470\n",
      "Done: two_blobs_separate, width=5, depth=4, ab_range=2, epoch=480\n",
      "Done: two_blobs_separate, width=5, depth=4, ab_range=2, epoch=490\n",
      "Done: two_blobs_separate, width=5, depth=4, ab_range=2, epoch=500\n",
      "Done: two_blobs_separate, width=5, depth=4, ab_range=2, epoch=510\n",
      "Done: two_blobs_separate, width=5, depth=4, ab_range=2, epoch=520\n",
      "Done: two_blobs_separate, width=5, depth=4, ab_range=2, epoch=530\n",
      "Done: two_blobs_separate, width=5, depth=4, ab_range=2, epoch=540"
     ]
    },
    {
     "name": "stderr",
     "output_type": "stream",
     "text": [
      "Outer loop (a): 100%|██████████| 100/100 [00:52<00:00,  1.80it/s]"
     ]
    },
    {
     "name": "stdout",
     "output_type": "stream",
     "text": [
      "\n"
     ]
    },
    {
     "name": "stderr",
     "output_type": "stream",
     "text": [
      "Outer loop (a): 100%|██████████| 100/100 [00:52<00:00,  1.92it/s]\n"
     ]
    },
    {
     "name": "stdout",
     "output_type": "stream",
     "text": [
      "Done: two_blobs_separate, width=5, depth=4, ab_range=2, epoch=550\n",
      "✅ Updated and saved new grid at ../backend/landscapes/mlp_5_5/half_moons/train/range0.2/ep650\n",
      "Done: two_blobs_separate, width=5, depth=4, ab_range=2, epoch=560Done: half_moons, width=5, depth=2, ab_range=0.2, epoch=650\n",
      "\n",
      "Done: two_blobs_separate, width=5, depth=4, ab_range=2, epoch=570\n",
      "Previously saved model is of lower resolution; recomputingDone: two_blobs_separate, width=5, depth=4, ab_range=2, epoch=580\n",
      "\n",
      "Done: two_blobs_separate, width=5, depth=4, ab_range=2, epoch=590\n",
      "Done: two_blobs_separate, width=5, depth=4, ab_range=2, epoch=600\n"
     ]
    },
    {
     "name": "stderr",
     "output_type": "stream",
     "text": [
      "Outer loop (a):   0%|          | 0/100 [00:00<?, ?it/s]"
     ]
    },
    {
     "name": "stdout",
     "output_type": "stream",
     "text": [
      "Done: two_blobs_separate, width=5, depth=4, ab_range=2, epoch=610\n",
      "Done: two_blobs_separate, width=5, depth=4, ab_range=2, epoch=620\n",
      "Done: two_blobs_separate, width=5, depth=4, ab_range=2, epoch=630\n",
      "Done: two_blobs_separate, width=5, depth=4, ab_range=2, epoch=640\n",
      "Done: two_blobs_separate, width=5, depth=4, ab_range=2, epoch=650\n",
      "Done: two_blobs_separate, width=5, depth=4, ab_range=2, epoch=660\n",
      "Done: two_blobs_separate, width=5, depth=4, ab_range=2, epoch=670\n",
      "Done: two_blobs_separate, width=5, depth=4, ab_range=2, epoch=680\n",
      "Done: two_blobs_separate, width=5, depth=4, ab_range=2, epoch=690\n",
      "Done: two_blobs_separate, width=5, depth=4, ab_range=2, epoch=700\n",
      "Done: two_blobs_separate, width=5, depth=4, ab_range=2, epoch=710\n",
      "Done: two_blobs_separate, width=5, depth=4, ab_range=2, epoch=720\n",
      "Done: two_blobs_separate, width=5, depth=4, ab_range=2, epoch=730\n",
      "Done: two_blobs_separate, width=5, depth=4, ab_range=2, epoch=740\n",
      "Done: two_blobs_separate, width=5, depth=4, ab_range=2, epoch=750\n",
      "Done: two_blobs_separate, width=5, depth=4, ab_range=2, epoch=760\n",
      "Done: two_blobs_separate, width=5, depth=4, ab_range=2, epoch=770\n",
      "Done: two_blobs_separate, width=5, depth=4, ab_range=2, epoch=780\n",
      "Done: two_blobs_separate, width=5, depth=4, ab_range=2, epoch=790\n",
      "Done: two_blobs_separate, width=5, depth=4, ab_range=2, epoch=800\n",
      "Done: two_blobs_separate, width=5, depth=4, ab_range=2, epoch=810\n",
      "Done: two_blobs_separate, width=5, depth=4, ab_range=2, epoch=820\n",
      "Done: two_blobs_separate, width=5, depth=4, ab_range=2, epoch=830\n",
      "Done: two_blobs_separate, width=5, depth=4, ab_range=2, epoch=840\n",
      "Done: two_blobs_separate, width=5, depth=4, ab_range=2, epoch=850\n",
      "Done: two_blobs_separate, width=5, depth=4, ab_range=2, epoch=860\n",
      "Done: two_blobs_separate, width=5, depth=4, ab_range=2, epoch=870\n",
      "Done: two_blobs_separate, width=5, depth=4, ab_range=2, epoch=880\n",
      "Done: two_blobs_separate, width=5, depth=4, ab_range=2, epoch=890\n",
      "Done: two_blobs_separate, width=5, depth=4, ab_range=2, epoch=900\n",
      "Done: two_blobs_separate, width=5, depth=4, ab_range=2, epoch=910\n",
      "Done: two_blobs_separate, width=5, depth=4, ab_range=2, epoch=920\n",
      "Done: two_blobs_separate, width=5, depth=4, ab_range=2, epoch=930\n",
      "Done: two_blobs_separate, width=5, depth=4, ab_range=2, epoch=940\n",
      "Done: two_blobs_separate, width=5, depth=4, ab_range=2, epoch=950\n",
      "Done: two_blobs_separate, width=5, depth=4, ab_range=2, epoch=960\n",
      "Done: two_blobs_separate, width=5, depth=4, ab_range=2, epoch=970\n",
      "Done: two_blobs_separate, width=5, depth=4, ab_range=2, epoch=980\n",
      "Done: two_blobs_separate, width=5, depth=4, ab_range=2, epoch=990\n",
      "Done: two_blobs_separate, width=5, depth=4, ab_range=2, epoch=1000\n",
      "Done: two_blobs_separate, width=5, depth=4, ab_range=5, epoch=0\n",
      "Done: two_blobs_separate, width=5, depth=4, ab_range=5, epoch=10\n",
      "Done: two_blobs_separate, width=5, depth=4, ab_range=5, epoch=20\n",
      "Done: two_blobs_separate, width=5, depth=4, ab_range=5, epoch=30\n",
      "Done: two_blobs_separate, width=5, depth=4, ab_range=5, epoch=40\n",
      "Done: two_blobs_separate, width=5, depth=4, ab_range=5, epoch=50\n",
      "Done: two_blobs_separate, width=5, depth=4, ab_range=5, epoch=60\n",
      "Done: two_blobs_separate, width=5, depth=4, ab_range=5, epoch=70\n",
      "Done: two_blobs_separate, width=5, depth=4, ab_range=5, epoch=80\n",
      "Done: two_blobs_separate, width=5, depth=4, ab_range=5, epoch=90\n",
      "Done: two_blobs_separate, width=5, depth=4, ab_range=5, epoch=100\n",
      "Done: two_blobs_separate, width=5, depth=4, ab_range=5, epoch=110\n",
      "Done: two_blobs_separate, width=5, depth=4, ab_range=5, epoch=120\n",
      "Done: two_blobs_separate, width=5, depth=4, ab_range=5, epoch=130\n",
      "Done: two_blobs_separate, width=5, depth=4, ab_range=5, epoch=140\n",
      "Done: two_blobs_separate, width=5, depth=4, ab_range=5, epoch=150\n",
      "Done: two_blobs_separate, width=5, depth=4, ab_range=5, epoch=160\n",
      "Done: two_blobs_separate, width=5, depth=4, ab_range=5, epoch=170\n",
      "Done: two_blobs_separate, width=5, depth=4, ab_range=5, epoch=180\n",
      "Done: two_blobs_separate, width=5, depth=4, ab_range=5, epoch=190\n",
      "Done: two_blobs_separate, width=5, depth=4, ab_range=5, epoch=200\n",
      "Done: two_blobs_separate, width=5, depth=4, ab_range=5, epoch=210\n",
      "Done: two_blobs_separate, width=5, depth=4, ab_range=5, epoch=220\n",
      "Done: two_blobs_separate, width=5, depth=4, ab_range=5, epoch=230\n",
      "Done: two_blobs_separate, width=5, depth=4, ab_range=5, epoch=240\n",
      "Done: two_blobs_separate, width=5, depth=4, ab_range=5, epoch=250\n"
     ]
    },
    {
     "name": "stderr",
     "output_type": "stream",
     "text": [
      "Outer loop (a):  99%|█████████▉| 99/100 [00:50<00:00,  1.89it/s]"
     ]
    },
    {
     "name": "stdout",
     "output_type": "stream",
     "text": [
      "Done: two_blobs_separate, width=5, depth=4, ab_range=5, epoch=260\n",
      "Done: two_blobs_separate, width=5, depth=4, ab_range=5, epoch=270\n",
      "Done: two_blobs_separate, width=5, depth=4, ab_range=5, epoch=280\n",
      "Done: two_blobs_separate, width=5, depth=4, ab_range=5, epoch=290\n",
      "Done: two_blobs_separate, width=5, depth=4, ab_range=5, epoch=300\n",
      "Done: two_blobs_separate, width=5, depth=4, ab_range=5, epoch=310\n",
      "Done: two_blobs_separate, width=5, depth=4, ab_range=5, epoch=320\n",
      "Done: two_blobs_separate, width=5, depth=4, ab_range=5, epoch=330\n",
      "Done: two_blobs_separate, width=5, depth=4, ab_range=5, epoch=340\n",
      "Done: two_blobs_separate, width=5, depth=4, ab_range=5, epoch=350\n",
      "Done: two_blobs_separate, width=5, depth=4, ab_range=5, epoch=360\n",
      "Done: two_blobs_separate, width=5, depth=4, ab_range=5, epoch=370\n",
      "Done: two_blobs_separate, width=5, depth=4, ab_range=5, epoch=380\n",
      "Done: two_blobs_separate, width=5, depth=4, ab_range=5, epoch=390\n",
      "Done: two_blobs_separate, width=5, depth=4, ab_range=5, epoch=400\n",
      "Done: two_blobs_separate, width=5, depth=4, ab_range=5, epoch=410\n",
      "Done: two_blobs_separate, width=5, depth=4, ab_range=5, epoch=420\n",
      "Done: two_blobs_separate, width=5, depth=4, ab_range=5, epoch=430\n",
      "Done: two_blobs_separate, width=5, depth=4, ab_range=5, epoch=440\n",
      "Done: two_blobs_separate, width=5, depth=4, ab_range=5, epoch=450\n",
      "Done: two_blobs_separate, width=5, depth=4, ab_range=5, epoch=460\n",
      "Done: two_blobs_separate, width=5, depth=4, ab_range=5, epoch=470\n",
      "Done: two_blobs_separate, width=5, depth=4, ab_range=5, epoch=480\n",
      "Done: two_blobs_separate, width=5, depth=4, ab_range=5, epoch=490\n",
      "Done: two_blobs_separate, width=5, depth=4, ab_range=5, epoch=500\n",
      "Done: two_blobs_separate, width=5, depth=4, ab_range=5, epoch=510\n",
      "Done: two_blobs_separate, width=5, depth=4, ab_range=5, epoch=520\n",
      "Done: two_blobs_separate, width=5, depth=4, ab_range=5, epoch=530\n",
      "Done: two_blobs_separate, width=5, depth=4, ab_range=5, epoch=540\n",
      "Done: two_blobs_separate, width=5, depth=4, ab_range=5, epoch=550\n",
      "Done: two_blobs_separate, width=5, depth=4, ab_range=5, epoch=560\n",
      "Done: two_blobs_separate, width=5, depth=4, ab_range=5, epoch=570\n",
      "Done: two_blobs_separate, width=5, depth=4, ab_range=5, epoch=580\n",
      "Done: two_blobs_separate, width=5, depth=4, ab_range=5, epoch=590\n",
      "Done: two_blobs_separate, width=5, depth=4, ab_range=5, epoch=600\n",
      "Done: two_blobs_separate, width=5, depth=4, ab_range=5, epoch=610\n",
      "Done: two_blobs_separate, width=5, depth=4, ab_range=5, epoch=620\n",
      "Done: two_blobs_separate, width=5, depth=4, ab_range=5, epoch=630\n",
      "Done: two_blobs_separate, width=5, depth=4, ab_range=5, epoch=640\n",
      "Done: two_blobs_separate, width=5, depth=4, ab_range=5, epoch=650\n",
      "Done: two_blobs_separate, width=5, depth=4, ab_range=5, epoch=660\n",
      "Done: two_blobs_separate, width=5, depth=4, ab_range=5, epoch=670\n",
      "Done: two_blobs_separate, width=5, depth=4, ab_range=5, epoch=680\n",
      "Done: two_blobs_separate, width=5, depth=4, ab_range=5, epoch=690\n",
      "Done: two_blobs_separate, width=5, depth=4, ab_range=5, epoch=700\n",
      "Done: two_blobs_separate, width=5, depth=4, ab_range=5, epoch=710\n",
      "Done: two_blobs_separate, width=5, depth=4, ab_range=5, epoch=720"
     ]
    },
    {
     "name": "stderr",
     "output_type": "stream",
     "text": [
      "Outer loop (a):  61%|██████    | 61/100 [00:29<00:21,  1.85it/s]"
     ]
    },
    {
     "name": "stdout",
     "output_type": "stream",
     "text": [
      "\n",
      "Done: two_blobs_separate, width=5, depth=4, ab_range=5, epoch=730\n",
      "Done: two_blobs_separate, width=5, depth=4, ab_range=5, epoch=740\n",
      "Done: two_blobs_separate, width=5, depth=4, ab_range=5, epoch=750\n",
      "Done: two_blobs_separate, width=5, depth=4, ab_range=5, epoch=760\n",
      "Done: two_blobs_separate, width=5, depth=4, ab_range=5, epoch=770\n",
      "Done: two_blobs_separate, width=5, depth=4, ab_range=5, epoch=780\n",
      "Done: two_blobs_separate, width=5, depth=4, ab_range=5, epoch=790\n",
      "Done: two_blobs_separate, width=5, depth=4, ab_range=5, epoch=800\n",
      "Done: two_blobs_separate, width=5, depth=4, ab_range=5, epoch=810\n",
      "Done: two_blobs_separate, width=5, depth=4, ab_range=5, epoch=820\n",
      "Done: two_blobs_separate, width=5, depth=4, ab_range=5, epoch=830\n",
      "Done: two_blobs_separate, width=5, depth=4, ab_range=5, epoch=840\n",
      "Done: two_blobs_separate, width=5, depth=4, ab_range=5, epoch=850\n",
      "Done: two_blobs_separate, width=5, depth=4, ab_range=5, epoch=860\n",
      "Done: two_blobs_separate, width=5, depth=4, ab_range=5, epoch=870\n",
      "Done: two_blobs_separate, width=5, depth=4, ab_range=5, epoch=880\n",
      "Done: two_blobs_separate, width=5, depth=4, ab_range=5, epoch=890\n",
      "Done: two_blobs_separate, width=5, depth=4, ab_range=5, epoch=900\n",
      "Done: two_blobs_separate, width=5, depth=4, ab_range=5, epoch=910\n",
      "Done: two_blobs_separate, width=5, depth=4, ab_range=5, epoch=920\n",
      "Done: two_blobs_separate, width=5, depth=4, ab_range=5, epoch=930\n",
      "Done: two_blobs_separate, width=5, depth=4, ab_range=5, epoch=940\n",
      "Done: two_blobs_separate, width=5, depth=4, ab_range=5, epoch=950\n",
      "Done: two_blobs_separate, width=5, depth=4, ab_range=5, epoch=960\n",
      "Done: two_blobs_separate, width=5, depth=4, ab_range=5, epoch=970\n",
      "Done: two_blobs_separate, width=5, depth=4, ab_range=5, epoch=980\n",
      "Done: two_blobs_separate, width=5, depth=4, ab_range=5, epoch=990\n",
      "Done: two_blobs_separate, width=5, depth=4, ab_range=5, epoch=1000\n",
      "Done: two_blobs_separate, width=5, depth=4, ab_range=0.2, epoch=0\n",
      "Done: two_blobs_separate, width=5, depth=4, ab_range=0.2, epoch=10\n",
      "Done: two_blobs_separate, width=5, depth=4, ab_range=0.2, epoch=20\n",
      "Done: two_blobs_separate, width=5, depth=4, ab_range=0.2, epoch=30\n",
      "Done: two_blobs_separate, width=5, depth=4, ab_range=0.2, epoch=40\n",
      "Done: two_blobs_separate, width=5, depth=4, ab_range=0.2, epoch=50\n",
      "Done: two_blobs_separate, width=5, depth=4, ab_range=0.2, epoch=60\n",
      "Done: two_blobs_separate, width=5, depth=4, ab_range=0.2, epoch=70\n",
      "Done: two_blobs_separate, width=5, depth=4, ab_range=0.2, epoch=80\n",
      "Done: two_blobs_separate, width=5, depth=4, ab_range=0.2, epoch=90\n",
      "Done: two_blobs_separate, width=5, depth=4, ab_range=0.2, epoch=100\n",
      "Done: two_blobs_separate, width=5, depth=4, ab_range=0.2, epoch=110\n"
     ]
    },
    {
     "name": "stderr",
     "output_type": "stream",
     "text": [
      "Outer loop (a):  76%|███████▌  | 76/100 [00:37<00:11,  2.10it/s]"
     ]
    },
    {
     "name": "stdout",
     "output_type": "stream",
     "text": [
      "Done: two_blobs_separate, width=5, depth=4, ab_range=0.2, epoch=120\n",
      "Done: two_blobs_separate, width=5, depth=4, ab_range=0.2, epoch=130\n",
      "Done: two_blobs_separate, width=5, depth=4, ab_range=0.2, epoch=140\n",
      "Done: two_blobs_separate, width=5, depth=4, ab_range=0.2, epoch=150\n",
      "Done: two_blobs_separate, width=5, depth=4, ab_range=0.2, epoch=160\n",
      "Done: two_blobs_separate, width=5, depth=4, ab_range=0.2, epoch=170\n",
      "Done: two_blobs_separate, width=5, depth=4, ab_range=0.2, epoch=180\n",
      "Done: two_blobs_separate, width=5, depth=4, ab_range=0.2, epoch=190\n",
      "Done: two_blobs_separate, width=5, depth=4, ab_range=0.2, epoch=200\n",
      "Done: two_blobs_separate, width=5, depth=4, ab_range=0.2, epoch=210\n",
      "Done: two_blobs_separate, width=5, depth=4, ab_range=0.2, epoch=220\n",
      "Done: two_blobs_separate, width=5, depth=4, ab_range=0.2, epoch=230\n",
      "Done: two_blobs_separate, width=5, depth=4, ab_range=0.2, epoch=240\n"
     ]
    },
    {
     "name": "stderr",
     "output_type": "stream",
     "text": [
      "Outer loop (a):  81%|████████  | 81/100 [00:37<00:08,  2.13it/s]"
     ]
    },
    {
     "name": "stdout",
     "output_type": "stream",
     "text": [
      "Done: two_blobs_separate, width=5, depth=4, ab_range=0.2, epoch=250\n",
      "Done: two_blobs_separate, width=5, depth=4, ab_range=0.2, epoch=260\n",
      "Done: two_blobs_separate, width=5, depth=4, ab_range=0.2, epoch=270\n",
      "Done: two_blobs_separate, width=5, depth=4, ab_range=0.2, epoch=280\n",
      "Done: two_blobs_separate, width=5, depth=4, ab_range=0.2, epoch=290\n",
      "Done: two_blobs_separate, width=5, depth=4, ab_range=0.2, epoch=300\n",
      "Done: two_blobs_separate, width=5, depth=4, ab_range=0.2, epoch=310\n",
      "Done: two_blobs_separate, width=5, depth=4, ab_range=0.2, epoch=320\n",
      "Done: two_blobs_separate, width=5, depth=4, ab_range=0.2, epoch=330\n",
      "Done: two_blobs_separate, width=5, depth=4, ab_range=0.2, epoch=340\n",
      "Done: two_blobs_separate, width=5, depth=4, ab_range=0.2, epoch=350\n"
     ]
    },
    {
     "name": "stderr",
     "output_type": "stream",
     "text": [
      "Outer loop (a):  95%|█████████▌| 95/100 [00:47<00:02,  1.88it/s]"
     ]
    },
    {
     "name": "stdout",
     "output_type": "stream",
     "text": [
      "Done: two_blobs_separate, width=5, depth=4, ab_range=0.2, epoch=360\n",
      "Done: two_blobs_separate, width=5, depth=4, ab_range=0.2, epoch=370\n",
      "Done: two_blobs_separate, width=5, depth=4, ab_range=0.2, epoch=380\n",
      "Done: two_blobs_separate, width=5, depth=4, ab_range=0.2, epoch=390"
     ]
    },
    {
     "name": "stderr",
     "output_type": "stream",
     "text": [
      "Outer loop (a):   9%|▉         | 9/100 [00:04<00:41,  2.18it/s]"
     ]
    },
    {
     "name": "stdout",
     "output_type": "stream",
     "text": [
      "\n",
      "Done: two_blobs_separate, width=5, depth=4, ab_range=0.2, epoch=400\n",
      "Done: two_blobs_separate, width=5, depth=4, ab_range=0.2, epoch=410"
     ]
    },
    {
     "name": "stderr",
     "output_type": "stream",
     "text": [
      "Outer loop (a):   1%|          | 1/100 [00:00<00:40,  2.42it/s]"
     ]
    },
    {
     "name": "stdout",
     "output_type": "stream",
     "text": [
      "\n",
      "Done: two_blobs_separate, width=5, depth=4, ab_range=0.2, epoch=420\n",
      "Done: two_blobs_separate, width=5, depth=4, ab_range=0.2, epoch=430\n",
      "Done: two_blobs_separate, width=5, depth=4, ab_range=0.2, epoch=440\n",
      "Done: two_blobs_separate, width=5, depth=4, ab_range=0.2, epoch=450\n",
      "Done: two_blobs_separate, width=5, depth=4, ab_range=0.2, epoch=460\n",
      "Done: two_blobs_separate, width=5, depth=4, ab_range=0.2, epoch=470\n",
      "Done: two_blobs_separate, width=5, depth=4, ab_range=0.2, epoch=480\n",
      "Done: two_blobs_separate, width=5, depth=4, ab_range=0.2, epoch=490\n",
      "Done: two_blobs_separate, width=5, depth=4, ab_range=0.2, epoch=500\n",
      "Done: two_blobs_separate, width=5, depth=4, ab_range=0.2, epoch=510\n",
      "Done: two_blobs_separate, width=5, depth=4, ab_range=0.2, epoch=520\n",
      "Done: two_blobs_separate, width=5, depth=4, ab_range=0.2, epoch=530\n",
      "Done: two_blobs_separate, width=5, depth=4, ab_range=0.2, epoch=540\n",
      "Done: two_blobs_separate, width=5, depth=4, ab_range=0.2, epoch=550\n",
      "Done: two_blobs_separate, width=5, depth=4, ab_range=0.2, epoch=560\n",
      "Done: two_blobs_separate, width=5, depth=4, ab_range=0.2, epoch=570\n",
      "Done: two_blobs_separate, width=5, depth=4, ab_range=0.2, epoch=580\n",
      "Done: two_blobs_separate, width=5, depth=4, ab_range=0.2, epoch=590\n",
      "Done: two_blobs_separate, width=5, depth=4, ab_range=0.2, epoch=600\n",
      "Done: two_blobs_separate, width=5, depth=4, ab_range=0.2, epoch=610\n",
      "Done: two_blobs_separate, width=5, depth=4, ab_range=0.2, epoch=620\n",
      "Done: two_blobs_separate, width=5, depth=4, ab_range=0.2, epoch=630\n",
      "Done: two_blobs_separate, width=5, depth=4, ab_range=0.2, epoch=640\n",
      "Done: two_blobs_separate, width=5, depth=4, ab_range=0.2, epoch=650\n",
      "Done: two_blobs_separate, width=5, depth=4, ab_range=0.2, epoch=660\n",
      "Done: two_blobs_separate, width=5, depth=4, ab_range=0.2, epoch=670\n",
      "Done: two_blobs_separate, width=5, depth=4, ab_range=0.2, epoch=680\n",
      "Done: two_blobs_separate, width=5, depth=4, ab_range=0.2, epoch=690\n",
      "Done: two_blobs_separate, width=5, depth=4, ab_range=0.2, epoch=700\n",
      "Done: two_blobs_separate, width=5, depth=4, ab_range=0.2, epoch=710\n",
      "Done: two_blobs_separate, width=5, depth=4, ab_range=0.2, epoch=720\n",
      "Done: two_blobs_separate, width=5, depth=4, ab_range=0.2, epoch=730\n",
      "Done: two_blobs_separate, width=5, depth=4, ab_range=0.2, epoch=740\n",
      "Done: two_blobs_separate, width=5, depth=4, ab_range=0.2, epoch=750\n",
      "Done: two_blobs_separate, width=5, depth=4, ab_range=0.2, epoch=760\n",
      "Done: two_blobs_separate, width=5, depth=4, ab_range=0.2, epoch=770\n",
      "Done: two_blobs_separate, width=5, depth=4, ab_range=0.2, epoch=780\n",
      "Done: two_blobs_separate, width=5, depth=4, ab_range=0.2, epoch=790\n",
      "Done: two_blobs_separate, width=5, depth=4, ab_range=0.2, epoch=800\n",
      "Done: two_blobs_separate, width=5, depth=4, ab_range=0.2, epoch=810\n",
      "Done: two_blobs_separate, width=5, depth=4, ab_range=0.2, epoch=820\n",
      "Done: two_blobs_separate, width=5, depth=4, ab_range=0.2, epoch=830\n",
      "Done: two_blobs_separate, width=5, depth=4, ab_range=0.2, epoch=840\n",
      "Done: two_blobs_separate, width=5, depth=4, ab_range=0.2, epoch=850\n",
      "Done: two_blobs_separate, width=5, depth=4, ab_range=0.2, epoch=860\n",
      "Done: two_blobs_separate, width=5, depth=4, ab_range=0.2, epoch=870\n",
      "Done: two_blobs_separate, width=5, depth=4, ab_range=0.2, epoch=880\n",
      "Done: two_blobs_separate, width=5, depth=4, ab_range=0.2, epoch=890\n",
      "Done: two_blobs_separate, width=5, depth=4, ab_range=0.2, epoch=900\n",
      "Done: two_blobs_separate, width=5, depth=4, ab_range=0.2, epoch=910\n",
      "Done: two_blobs_separate, width=5, depth=4, ab_range=0.2, epoch=920\n",
      "Done: two_blobs_separate, width=5, depth=4, ab_range=0.2, epoch=930\n",
      "Done: two_blobs_separate, width=5, depth=4, ab_range=0.2, epoch=940\n",
      "Done: two_blobs_separate, width=5, depth=4, ab_range=0.2, epoch=950\n",
      "Done: two_blobs_separate, width=5, depth=4, ab_range=0.2, epoch=960\n",
      "Done: two_blobs_separate, width=5, depth=4, ab_range=0.2, epoch=970\n",
      "Done: two_blobs_separate, width=5, depth=4, ab_range=0.2, epoch=980\n",
      "Done: two_blobs_separate, width=5, depth=4, ab_range=0.2, epoch=990\n",
      "Done: two_blobs_separate, width=5, depth=4, ab_range=0.2, epoch=1000\n",
      "Done: two_blobs_separate, width=5, depth=4, ab_range=0.5, epoch=0\n",
      "Done: two_blobs_separate, width=5, depth=4, ab_range=0.5, epoch=10\n",
      "Done: two_blobs_separate, width=5, depth=4, ab_range=0.5, epoch=20\n",
      "Done: two_blobs_separate, width=5, depth=4, ab_range=0.5, epoch=30\n",
      "Done: two_blobs_separate, width=5, depth=4, ab_range=0.5, epoch=40\n",
      "Done: two_blobs_separate, width=5, depth=4, ab_range=0.5, epoch=50\n",
      "Done: two_blobs_separate, width=5, depth=4, ab_range=0.5, epoch=60\n",
      "Done: two_blobs_separate, width=5, depth=4, ab_range=0.5, epoch=70\n",
      "Done: two_blobs_separate, width=5, depth=4, ab_range=0.5, epoch=80\n",
      "Done: two_blobs_separate, width=5, depth=4, ab_range=0.5, epoch=90\n",
      "Done: two_blobs_separate, width=5, depth=4, ab_range=0.5, epoch=100\n",
      "Done: two_blobs_separate, width=5, depth=4, ab_range=0.5, epoch=110\n",
      "Done: two_blobs_separate, width=5, depth=4, ab_range=0.5, epoch=120\n",
      "Done: two_blobs_separate, width=5, depth=4, ab_range=0.5, epoch=130\n",
      "Done: two_blobs_separate, width=5, depth=4, ab_range=0.5, epoch=140\n",
      "Done: two_blobs_separate, width=5, depth=4, ab_range=0.5, epoch=150\n",
      "Done: two_blobs_separate, width=5, depth=4, ab_range=0.5, epoch=160\n",
      "Done: two_blobs_separate, width=5, depth=4, ab_range=0.5, epoch=170\n",
      "Done: two_blobs_separate, width=5, depth=4, ab_range=0.5, epoch=180\n",
      "Done: two_blobs_separate, width=5, depth=4, ab_range=0.5, epoch=190\n",
      "Done: two_blobs_separate, width=5, depth=4, ab_range=0.5, epoch=200\n",
      "Done: two_blobs_separate, width=5, depth=4, ab_range=0.5, epoch=210\n",
      "Done: two_blobs_separate, width=5, depth=4, ab_range=0.5, epoch=220\n",
      "Done: two_blobs_separate, width=5, depth=4, ab_range=0.5, epoch=230\n",
      "Done: two_blobs_separate, width=5, depth=4, ab_range=0.5, epoch=240\n",
      "Done: two_blobs_separate, width=5, depth=4, ab_range=0.5, epoch=250\n",
      "Done: two_blobs_separate, width=5, depth=4, ab_range=0.5, epoch=260\n",
      "Done: two_blobs_separate, width=5, depth=4, ab_range=0.5, epoch=270\n",
      "Done: two_blobs_separate, width=5, depth=4, ab_range=0.5, epoch=280\n",
      "Done: two_blobs_separate, width=5, depth=4, ab_range=0.5, epoch=290\n",
      "Done: two_blobs_separate, width=5, depth=4, ab_range=0.5, epoch=300\n",
      "Done: two_blobs_separate, width=5, depth=4, ab_range=0.5, epoch=310\n",
      "Done: two_blobs_separate, width=5, depth=4, ab_range=0.5, epoch=320\n",
      "Done: two_blobs_separate, width=5, depth=4, ab_range=0.5, epoch=330\n",
      "Done: two_blobs_separate, width=5, depth=4, ab_range=0.5, epoch=340\n",
      "Done: two_blobs_separate, width=5, depth=4, ab_range=0.5, epoch=350\n",
      "Done: two_blobs_separate, width=5, depth=4, ab_range=0.5, epoch=360\n",
      "Done: two_blobs_separate, width=5, depth=4, ab_range=0.5, epoch=370\n",
      "Done: two_blobs_separate, width=5, depth=4, ab_range=0.5, epoch=380"
     ]
    },
    {
     "name": "stderr",
     "output_type": "stream",
     "text": [
      "Outer loop (a): 100%|██████████| 100/100 [00:50<00:00,  1.94it/s]"
     ]
    },
    {
     "name": "stdout",
     "output_type": "stream",
     "text": [
      "\n"
     ]
    },
    {
     "name": "stderr",
     "output_type": "stream",
     "text": [
      "Outer loop (a): 100%|██████████| 100/100 [00:50<00:00,  1.97it/s]"
     ]
    },
    {
     "name": "stdout",
     "output_type": "stream",
     "text": [
      "Done: two_blobs_separate, width=5, depth=4, ab_range=0.5, epoch=390\n",
      "Done: two_blobs_separate, width=5, depth=4, ab_range=0.5, epoch=400\n"
     ]
    },
    {
     "name": "stderr",
     "output_type": "stream",
     "text": [
      "\n"
     ]
    },
    {
     "name": "stdout",
     "output_type": "stream",
     "text": [
      "Done: two_blobs_separate, width=5, depth=4, ab_range=0.5, epoch=410\n",
      "✅ Updated and saved new grid at ../backend/landscapes/mlp_5_5/half_moons/train/range0.2/ep870\n",
      "Done: two_blobs_separate, width=5, depth=4, ab_range=0.5, epoch=420\n",
      "Done: two_blobs_separate, width=5, depth=4, ab_range=0.5, epoch=430\n",
      "Done: two_blobs_separate, width=5, depth=4, ab_range=0.5, epoch=440\n",
      "Done: half_moons, width=5, depth=2, ab_range=0.2, epoch=870Done: two_blobs_separate, width=5, depth=4, ab_range=0.5, epoch=450\n",
      "\n",
      "Previously saved model is of lower resolution; recomputingDone: two_blobs_separate, width=5, depth=4, ab_range=0.5, epoch=460\n",
      "\n",
      "Done: two_blobs_separate, width=5, depth=4, ab_range=0.5, epoch=470"
     ]
    },
    {
     "name": "stderr",
     "output_type": "stream",
     "text": [
      "Outer loop (a):   0%|          | 0/100 [00:00<?, ?it/s]"
     ]
    },
    {
     "name": "stdout",
     "output_type": "stream",
     "text": [
      "\n"
     ]
    },
    {
     "name": "stderr",
     "output_type": "stream",
     "text": [
      "Outer loop (a):  62%|██████▏   | 62/100 [00:30<00:19,  1.97it/s]"
     ]
    },
    {
     "name": "stdout",
     "output_type": "stream",
     "text": [
      "Done: two_blobs_separate, width=5, depth=4, ab_range=0.5, epoch=480\n",
      "Done: two_blobs_separate, width=5, depth=4, ab_range=0.5, epoch=490\n",
      "Done: two_blobs_separate, width=5, depth=4, ab_range=0.5, epoch=500\n",
      "Done: two_blobs_separate, width=5, depth=4, ab_range=0.5, epoch=510\n",
      "Done: two_blobs_separate, width=5, depth=4, ab_range=0.5, epoch=520\n",
      "Done: two_blobs_separate, width=5, depth=4, ab_range=0.5, epoch=530\n",
      "Done: two_blobs_separate, width=5, depth=4, ab_range=0.5, epoch=540\n",
      "Done: two_blobs_separate, width=5, depth=4, ab_range=0.5, epoch=550\n",
      "Done: two_blobs_separate, width=5, depth=4, ab_range=0.5, epoch=560\n",
      "Done: two_blobs_separate, width=5, depth=4, ab_range=0.5, epoch=570\n",
      "Done: two_blobs_separate, width=5, depth=4, ab_range=0.5, epoch=580\n",
      "Done: two_blobs_separate, width=5, depth=4, ab_range=0.5, epoch=590\n",
      "Done: two_blobs_separate, width=5, depth=4, ab_range=0.5, epoch=600\n",
      "Done: two_blobs_separate, width=5, depth=4, ab_range=0.5, epoch=610\n",
      "Done: two_blobs_separate, width=5, depth=4, ab_range=0.5, epoch=620\n",
      "Done: two_blobs_separate, width=5, depth=4, ab_range=0.5, epoch=630\n",
      "Done: two_blobs_separate, width=5, depth=4, ab_range=0.5, epoch=640\n",
      "Done: two_blobs_separate, width=5, depth=4, ab_range=0.5, epoch=650\n",
      "Done: two_blobs_separate, width=5, depth=4, ab_range=0.5, epoch=660\n",
      "Done: two_blobs_separate, width=5, depth=4, ab_range=0.5, epoch=670\n",
      "Done: two_blobs_separate, width=5, depth=4, ab_range=0.5, epoch=680\n",
      "Done: two_blobs_separate, width=5, depth=4, ab_range=0.5, epoch=690\n",
      "Done: two_blobs_separate, width=5, depth=4, ab_range=0.5, epoch=700\n",
      "Done: two_blobs_separate, width=5, depth=4, ab_range=0.5, epoch=710\n",
      "Done: two_blobs_separate, width=5, depth=4, ab_range=0.5, epoch=720\n",
      "Done: two_blobs_separate, width=5, depth=4, ab_range=0.5, epoch=730\n",
      "Done: two_blobs_separate, width=5, depth=4, ab_range=0.5, epoch=740\n",
      "Done: two_blobs_separate, width=5, depth=4, ab_range=0.5, epoch=750\n",
      "Done: two_blobs_separate, width=5, depth=4, ab_range=0.5, epoch=760\n",
      "Done: two_blobs_separate, width=5, depth=4, ab_range=0.5, epoch=770\n",
      "Done: two_blobs_separate, width=5, depth=4, ab_range=0.5, epoch=780\n",
      "Done: two_blobs_separate, width=5, depth=4, ab_range=0.5, epoch=790\n",
      "Done: two_blobs_separate, width=5, depth=4, ab_range=0.5, epoch=800\n",
      "Done: two_blobs_separate, width=5, depth=4, ab_range=0.5, epoch=810\n",
      "Done: two_blobs_separate, width=5, depth=4, ab_range=0.5, epoch=820\n",
      "Done: two_blobs_separate, width=5, depth=4, ab_range=0.5, epoch=830\n",
      "Done: two_blobs_separate, width=5, depth=4, ab_range=0.5, epoch=840\n",
      "Done: two_blobs_separate, width=5, depth=4, ab_range=0.5, epoch=850\n",
      "Done: two_blobs_separate, width=5, depth=4, ab_range=0.5, epoch=860\n",
      "Done: two_blobs_separate, width=5, depth=4, ab_range=0.5, epoch=870\n",
      "Done: two_blobs_separate, width=5, depth=4, ab_range=0.5, epoch=880\n",
      "Done: two_blobs_separate, width=5, depth=4, ab_range=0.5, epoch=890\n",
      "Done: two_blobs_separate, width=5, depth=4, ab_range=0.5, epoch=900\n",
      "Done: two_blobs_separate, width=5, depth=4, ab_range=0.5, epoch=910\n",
      "Done: two_blobs_separate, width=5, depth=4, ab_range=0.5, epoch=920\n",
      "Done: two_blobs_separate, width=5, depth=4, ab_range=0.5, epoch=930\n",
      "Done: two_blobs_separate, width=5, depth=4, ab_range=0.5, epoch=940\n",
      "Done: two_blobs_separate, width=5, depth=4, ab_range=0.5, epoch=950\n",
      "Done: two_blobs_separate, width=5, depth=4, ab_range=0.5, epoch=960\n",
      "Done: two_blobs_separate, width=5, depth=4, ab_range=0.5, epoch=970\n",
      "Done: two_blobs_separate, width=5, depth=4, ab_range=0.5, epoch=980\n"
     ]
    },
    {
     "name": "stderr",
     "output_type": "stream",
     "text": [
      "Outer loop (a):  82%|████████▏ | 82/100 [00:38<00:08,  2.12it/s]"
     ]
    },
    {
     "name": "stdout",
     "output_type": "stream",
     "text": [
      "Done: two_blobs_separate, width=5, depth=4, ab_range=0.5, epoch=990\n",
      "Done: two_blobs_separate, width=5, depth=4, ab_range=0.5, epoch=1000\n",
      "Done: two_blobs_overlap, width=5, depth=4, ab_range=0.1, epoch=0\n",
      "Done: two_blobs_overlap, width=5, depth=4, ab_range=0.1, epoch=10\n",
      "Done: two_blobs_overlap, width=5, depth=4, ab_range=0.1, epoch=20\n",
      "Done: two_blobs_overlap, width=5, depth=4, ab_range=0.1, epoch=30\n",
      "Done: two_blobs_overlap, width=5, depth=4, ab_range=0.1, epoch=40\n",
      "Done: two_blobs_overlap, width=5, depth=4, ab_range=0.1, epoch=50\n",
      "Done: two_blobs_overlap, width=5, depth=4, ab_range=0.1, epoch=60\n",
      "Done: two_blobs_overlap, width=5, depth=4, ab_range=0.1, epoch=70\n",
      "Done: two_blobs_overlap, width=5, depth=4, ab_range=0.1, epoch=80\n",
      "Done: two_blobs_overlap, width=5, depth=4, ab_range=0.1, epoch=90\n",
      "Done: two_blobs_overlap, width=5, depth=4, ab_range=0.1, epoch=100"
     ]
    },
    {
     "name": "stderr",
     "output_type": "stream",
     "text": [
      "Outer loop (a):  77%|███████▋  | 77/100 [00:37<00:11,  2.01it/s]"
     ]
    },
    {
     "name": "stdout",
     "output_type": "stream",
     "text": [
      "\n",
      "Done: two_blobs_overlap, width=5, depth=4, ab_range=0.1, epoch=110\n",
      "Done: two_blobs_overlap, width=5, depth=4, ab_range=0.1, epoch=120\n",
      "Done: two_blobs_overlap, width=5, depth=4, ab_range=0.1, epoch=130\n",
      "Done: two_blobs_overlap, width=5, depth=4, ab_range=0.1, epoch=140\n",
      "Done: two_blobs_overlap, width=5, depth=4, ab_range=0.1, epoch=150\n",
      "Done: two_blobs_overlap, width=5, depth=4, ab_range=0.1, epoch=160\n",
      "Done: two_blobs_overlap, width=5, depth=4, ab_range=0.1, epoch=170\n",
      "Done: two_blobs_overlap, width=5, depth=4, ab_range=0.1, epoch=180\n",
      "Done: two_blobs_overlap, width=5, depth=4, ab_range=0.1, epoch=190\n",
      "Done: two_blobs_overlap, width=5, depth=4, ab_range=0.1, epoch=200\n",
      "Done: two_blobs_overlap, width=5, depth=4, ab_range=0.1, epoch=210"
     ]
    },
    {
     "name": "stderr",
     "output_type": "stream",
     "text": [
      "Outer loop (a):   2%|▏         | 2/100 [00:00<00:42,  2.30it/s]"
     ]
    },
    {
     "name": "stdout",
     "output_type": "stream",
     "text": [
      "\n",
      "Done: two_blobs_overlap, width=5, depth=4, ab_range=0.1, epoch=220\n",
      "Done: two_blobs_overlap, width=5, depth=4, ab_range=0.1, epoch=230\n",
      "Done: two_blobs_overlap, width=5, depth=4, ab_range=0.1, epoch=240\n",
      "Done: two_blobs_overlap, width=5, depth=4, ab_range=0.1, epoch=250\n",
      "Done: two_blobs_overlap, width=5, depth=4, ab_range=0.1, epoch=260\n",
      "Done: two_blobs_overlap, width=5, depth=4, ab_range=0.1, epoch=270\n",
      "Done: two_blobs_overlap, width=5, depth=4, ab_range=0.1, epoch=280\n",
      "Done: two_blobs_overlap, width=5, depth=4, ab_range=0.1, epoch=290\n",
      "Done: two_blobs_overlap, width=5, depth=4, ab_range=0.1, epoch=300\n",
      "Done: two_blobs_overlap, width=5, depth=4, ab_range=0.1, epoch=310\n",
      "Done: two_blobs_overlap, width=5, depth=4, ab_range=0.1, epoch=320\n",
      "Done: two_blobs_overlap, width=5, depth=4, ab_range=0.1, epoch=330\n",
      "Done: two_blobs_overlap, width=5, depth=4, ab_range=0.1, epoch=340\n",
      "Done: two_blobs_overlap, width=5, depth=4, ab_range=0.1, epoch=350\n",
      "Done: two_blobs_overlap, width=5, depth=4, ab_range=0.1, epoch=360"
     ]
    },
    {
     "name": "stderr",
     "output_type": "stream",
     "text": [
      "Outer loop (a):  96%|█████████▌| 96/100 [00:48<00:02,  1.90it/s]"
     ]
    },
    {
     "name": "stdout",
     "output_type": "stream",
     "text": [
      "\n",
      "Done: two_blobs_overlap, width=5, depth=4, ab_range=0.1, epoch=370\n",
      "Done: two_blobs_overlap, width=5, depth=4, ab_range=0.1, epoch=380\n",
      "Done: two_blobs_overlap, width=5, depth=4, ab_range=0.1, epoch=390\n",
      "Done: two_blobs_overlap, width=5, depth=4, ab_range=0.1, epoch=400\n",
      "Done: two_blobs_overlap, width=5, depth=4, ab_range=0.1, epoch=410\n",
      "Done: two_blobs_overlap, width=5, depth=4, ab_range=0.1, epoch=420\n",
      "Done: two_blobs_overlap, width=5, depth=4, ab_range=0.1, epoch=430\n",
      "Done: two_blobs_overlap, width=5, depth=4, ab_range=0.1, epoch=440\n",
      "Done: two_blobs_overlap, width=5, depth=4, ab_range=0.1, epoch=450\n",
      "Done: two_blobs_overlap, width=5, depth=4, ab_range=0.1, epoch=460\n",
      "Done: two_blobs_overlap, width=5, depth=4, ab_range=0.1, epoch=470\n",
      "Done: two_blobs_overlap, width=5, depth=4, ab_range=0.1, epoch=480\n",
      "Done: two_blobs_overlap, width=5, depth=4, ab_range=0.1, epoch=490\n",
      "Done: two_blobs_overlap, width=5, depth=4, ab_range=0.1, epoch=500\n",
      "Done: two_blobs_overlap, width=5, depth=4, ab_range=0.1, epoch=510\n",
      "Done: two_blobs_overlap, width=5, depth=4, ab_range=0.1, epoch=520\n",
      "Done: two_blobs_overlap, width=5, depth=4, ab_range=0.1, epoch=530\n",
      "Done: two_blobs_overlap, width=5, depth=4, ab_range=0.1, epoch=540\n",
      "Done: two_blobs_overlap, width=5, depth=4, ab_range=0.1, epoch=550\n",
      "Done: two_blobs_overlap, width=5, depth=4, ab_range=0.1, epoch=560\n",
      "Done: two_blobs_overlap, width=5, depth=4, ab_range=0.1, epoch=570\n",
      "Done: two_blobs_overlap, width=5, depth=4, ab_range=0.1, epoch=580\n",
      "Done: two_blobs_overlap, width=5, depth=4, ab_range=0.1, epoch=590\n",
      "Done: two_blobs_overlap, width=5, depth=4, ab_range=0.1, epoch=600\n",
      "Done: two_blobs_overlap, width=5, depth=4, ab_range=0.1, epoch=610\n",
      "Done: two_blobs_overlap, width=5, depth=4, ab_range=0.1, epoch=620\n",
      "Done: two_blobs_overlap, width=5, depth=4, ab_range=0.1, epoch=630\n",
      "Done: two_blobs_overlap, width=5, depth=4, ab_range=0.1, epoch=640\n",
      "Done: two_blobs_overlap, width=5, depth=4, ab_range=0.1, epoch=650\n",
      "Done: two_blobs_overlap, width=5, depth=4, ab_range=0.1, epoch=660\n",
      "Done: two_blobs_overlap, width=5, depth=4, ab_range=0.1, epoch=670\n",
      "Done: two_blobs_overlap, width=5, depth=4, ab_range=0.1, epoch=680\n",
      "Done: two_blobs_overlap, width=5, depth=4, ab_range=0.1, epoch=690\n",
      "Done: two_blobs_overlap, width=5, depth=4, ab_range=0.1, epoch=700\n",
      "Done: two_blobs_overlap, width=5, depth=4, ab_range=0.1, epoch=710\n",
      "Done: two_blobs_overlap, width=5, depth=4, ab_range=0.1, epoch=720\n",
      "Done: two_blobs_overlap, width=5, depth=4, ab_range=0.1, epoch=730\n",
      "Done: two_blobs_overlap, width=5, depth=4, ab_range=0.1, epoch=740\n",
      "Done: two_blobs_overlap, width=5, depth=4, ab_range=0.1, epoch=750\n",
      "Done: two_blobs_overlap, width=5, depth=4, ab_range=0.1, epoch=760\n",
      "Done: two_blobs_overlap, width=5, depth=4, ab_range=0.1, epoch=770\n",
      "Done: two_blobs_overlap, width=5, depth=4, ab_range=0.1, epoch=780\n",
      "Done: two_blobs_overlap, width=5, depth=4, ab_range=0.1, epoch=790\n",
      "Done: two_blobs_overlap, width=5, depth=4, ab_range=0.1, epoch=800\n",
      "Done: two_blobs_overlap, width=5, depth=4, ab_range=0.1, epoch=810\n",
      "Done: two_blobs_overlap, width=5, depth=4, ab_range=0.1, epoch=820\n",
      "Done: two_blobs_overlap, width=5, depth=4, ab_range=0.1, epoch=830\n",
      "Done: two_blobs_overlap, width=5, depth=4, ab_range=0.1, epoch=840\n",
      "Done: two_blobs_overlap, width=5, depth=4, ab_range=0.1, epoch=850\n",
      "Done: two_blobs_overlap, width=5, depth=4, ab_range=0.1, epoch=860\n",
      "Done: two_blobs_overlap, width=5, depth=4, ab_range=0.1, epoch=870\n",
      "Done: two_blobs_overlap, width=5, depth=4, ab_range=0.1, epoch=880\n",
      "Done: two_blobs_overlap, width=5, depth=4, ab_range=0.1, epoch=890\n",
      "Done: two_blobs_overlap, width=5, depth=4, ab_range=0.1, epoch=900\n",
      "Done: two_blobs_overlap, width=5, depth=4, ab_range=0.1, epoch=910\n",
      "Done: two_blobs_overlap, width=5, depth=4, ab_range=0.1, epoch=920\n",
      "Done: two_blobs_overlap, width=5, depth=4, ab_range=0.1, epoch=930\n",
      "Done: two_blobs_overlap, width=5, depth=4, ab_range=0.1, epoch=940\n",
      "Done: two_blobs_overlap, width=5, depth=4, ab_range=0.1, epoch=950\n",
      "Done: two_blobs_overlap, width=5, depth=4, ab_range=0.1, epoch=960\n",
      "Done: two_blobs_overlap, width=5, depth=4, ab_range=0.1, epoch=970\n",
      "Done: two_blobs_overlap, width=5, depth=4, ab_range=0.1, epoch=980\n",
      "Done: two_blobs_overlap, width=5, depth=4, ab_range=0.1, epoch=990\n",
      "Done: two_blobs_overlap, width=5, depth=4, ab_range=0.1, epoch=1000\n",
      "Done: two_blobs_overlap, width=5, depth=4, ab_range=1, epoch=0\n",
      "Done: two_blobs_overlap, width=5, depth=4, ab_range=1, epoch=10\n",
      "Done: two_blobs_overlap, width=5, depth=4, ab_range=1, epoch=20\n",
      "Done: two_blobs_overlap, width=5, depth=4, ab_range=1, epoch=30\n",
      "Done: two_blobs_overlap, width=5, depth=4, ab_range=1, epoch=40\n",
      "Done: two_blobs_overlap, width=5, depth=4, ab_range=1, epoch=50\n",
      "Done: two_blobs_overlap, width=5, depth=4, ab_range=1, epoch=60\n",
      "Done: two_blobs_overlap, width=5, depth=4, ab_range=1, epoch=70\n",
      "Done: two_blobs_overlap, width=5, depth=4, ab_range=1, epoch=80\n",
      "Done: two_blobs_overlap, width=5, depth=4, ab_range=1, epoch=90\n",
      "Done: two_blobs_overlap, width=5, depth=4, ab_range=1, epoch=100\n",
      "Done: two_blobs_overlap, width=5, depth=4, ab_range=1, epoch=110\n",
      "Done: two_blobs_overlap, width=5, depth=4, ab_range=1, epoch=120\n",
      "Done: two_blobs_overlap, width=5, depth=4, ab_range=1, epoch=130\n",
      "Done: two_blobs_overlap, width=5, depth=4, ab_range=1, epoch=140\n",
      "Done: two_blobs_overlap, width=5, depth=4, ab_range=1, epoch=150\n",
      "Done: two_blobs_overlap, width=5, depth=4, ab_range=1, epoch=160\n",
      "Done: two_blobs_overlap, width=5, depth=4, ab_range=1, epoch=170\n",
      "Done: two_blobs_overlap, width=5, depth=4, ab_range=1, epoch=180\n",
      "Done: two_blobs_overlap, width=5, depth=4, ab_range=1, epoch=190\n",
      "Done: two_blobs_overlap, width=5, depth=4, ab_range=1, epoch=200\n",
      "Done: two_blobs_overlap, width=5, depth=4, ab_range=1, epoch=210\n",
      "Done: two_blobs_overlap, width=5, depth=4, ab_range=1, epoch=220\n",
      "Done: two_blobs_overlap, width=5, depth=4, ab_range=1, epoch=230\n",
      "Done: two_blobs_overlap, width=5, depth=4, ab_range=1, epoch=240\n",
      "Done: two_blobs_overlap, width=5, depth=4, ab_range=1, epoch=250\n",
      "Done: two_blobs_overlap, width=5, depth=4, ab_range=1, epoch=260\n",
      "Done: two_blobs_overlap, width=5, depth=4, ab_range=1, epoch=270\n",
      "Done: two_blobs_overlap, width=5, depth=4, ab_range=1, epoch=280\n",
      "Done: two_blobs_overlap, width=5, depth=4, ab_range=1, epoch=290\n",
      "Done: two_blobs_overlap, width=5, depth=4, ab_range=1, epoch=300\n",
      "Done: two_blobs_overlap, width=5, depth=4, ab_range=1, epoch=310\n",
      "Done: two_blobs_overlap, width=5, depth=4, ab_range=1, epoch=320\n",
      "Done: two_blobs_overlap, width=5, depth=4, ab_range=1, epoch=330\n",
      "Done: two_blobs_overlap, width=5, depth=4, ab_range=1, epoch=340\n",
      "Done: two_blobs_overlap, width=5, depth=4, ab_range=1, epoch=350\n",
      "Done: two_blobs_overlap, width=5, depth=4, ab_range=1, epoch=360\n",
      "Done: two_blobs_overlap, width=5, depth=4, ab_range=1, epoch=370\n",
      "Done: two_blobs_overlap, width=5, depth=4, ab_range=1, epoch=380\n",
      "Done: two_blobs_overlap, width=5, depth=4, ab_range=1, epoch=390\n",
      "Done: two_blobs_overlap, width=5, depth=4, ab_range=1, epoch=400\n",
      "Done: two_blobs_overlap, width=5, depth=4, ab_range=1, epoch=410\n",
      "Done: two_blobs_overlap, width=5, depth=4, ab_range=1, epoch=420\n",
      "Done: two_blobs_overlap, width=5, depth=4, ab_range=1, epoch=430\n",
      "Done: two_blobs_overlap, width=5, depth=4, ab_range=1, epoch=440\n",
      "Done: two_blobs_overlap, width=5, depth=4, ab_range=1, epoch=450\n",
      "Done: two_blobs_overlap, width=5, depth=4, ab_range=1, epoch=460\n",
      "Done: two_blobs_overlap, width=5, depth=4, ab_range=1, epoch=470\n",
      "Done: two_blobs_overlap, width=5, depth=4, ab_range=1, epoch=480\n",
      "Done: two_blobs_overlap, width=5, depth=4, ab_range=1, epoch=490\n",
      "Done: two_blobs_overlap, width=5, depth=4, ab_range=1, epoch=500\n",
      "Done: two_blobs_overlap, width=5, depth=4, ab_range=1, epoch=510\n",
      "Done: two_blobs_overlap, width=5, depth=4, ab_range=1, epoch=520"
     ]
    },
    {
     "name": "stderr",
     "output_type": "stream",
     "text": [
      "Outer loop (a):   1%|          | 1/100 [00:00<00:47,  2.08it/s]"
     ]
    },
    {
     "name": "stdout",
     "output_type": "stream",
     "text": [
      "\n",
      "Done: two_blobs_overlap, width=5, depth=4, ab_range=1, epoch=530\n"
     ]
    },
    {
     "name": "stderr",
     "output_type": "stream",
     "text": [
      "Outer loop (a):  10%|█         | 10/100 [00:04<00:48,  1.86it/s]"
     ]
    },
    {
     "name": "stdout",
     "output_type": "stream",
     "text": [
      "Done: two_blobs_overlap, width=5, depth=4, ab_range=1, epoch=540\n",
      "Done: two_blobs_overlap, width=5, depth=4, ab_range=1, epoch=550\n",
      "Done: two_blobs_overlap, width=5, depth=4, ab_range=1, epoch=560\n",
      "Done: two_blobs_overlap, width=5, depth=4, ab_range=1, epoch=570\n",
      "Done: two_blobs_overlap, width=5, depth=4, ab_range=1, epoch=580\n",
      "Done: two_blobs_overlap, width=5, depth=4, ab_range=1, epoch=590\n",
      "Done: two_blobs_overlap, width=5, depth=4, ab_range=1, epoch=600\n",
      "Done: two_blobs_overlap, width=5, depth=4, ab_range=1, epoch=610\n",
      "Done: two_blobs_overlap, width=5, depth=4, ab_range=1, epoch=620\n",
      "Done: two_blobs_overlap, width=5, depth=4, ab_range=1, epoch=630\n",
      "Done: two_blobs_overlap, width=5, depth=4, ab_range=1, epoch=640\n",
      "Done: two_blobs_overlap, width=5, depth=4, ab_range=1, epoch=650\n",
      "Done: two_blobs_overlap, width=5, depth=4, ab_range=1, epoch=660\n",
      "Done: two_blobs_overlap, width=5, depth=4, ab_range=1, epoch=670\n",
      "Done: two_blobs_overlap, width=5, depth=4, ab_range=1, epoch=680\n",
      "Done: two_blobs_overlap, width=5, depth=4, ab_range=1, epoch=690\n",
      "Done: two_blobs_overlap, width=5, depth=4, ab_range=1, epoch=700\n",
      "Done: two_blobs_overlap, width=5, depth=4, ab_range=1, epoch=710\n",
      "Done: two_blobs_overlap, width=5, depth=4, ab_range=1, epoch=720\n",
      "Done: two_blobs_overlap, width=5, depth=4, ab_range=1, epoch=730\n",
      "Done: two_blobs_overlap, width=5, depth=4, ab_range=1, epoch=740\n",
      "Done: two_blobs_overlap, width=5, depth=4, ab_range=1, epoch=750\n",
      "Done: two_blobs_overlap, width=5, depth=4, ab_range=1, epoch=760\n",
      "Done: two_blobs_overlap, width=5, depth=4, ab_range=1, epoch=770\n",
      "Done: two_blobs_overlap, width=5, depth=4, ab_range=1, epoch=780\n",
      "Done: two_blobs_overlap, width=5, depth=4, ab_range=1, epoch=790\n",
      "Done: two_blobs_overlap, width=5, depth=4, ab_range=1, epoch=800\n",
      "Done: two_blobs_overlap, width=5, depth=4, ab_range=1, epoch=810\n",
      "Done: two_blobs_overlap, width=5, depth=4, ab_range=1, epoch=820\n",
      "Done: two_blobs_overlap, width=5, depth=4, ab_range=1, epoch=830\n",
      "Done: two_blobs_overlap, width=5, depth=4, ab_range=1, epoch=840\n",
      "Done: two_blobs_overlap, width=5, depth=4, ab_range=1, epoch=850\n",
      "Done: two_blobs_overlap, width=5, depth=4, ab_range=1, epoch=860\n",
      "Done: two_blobs_overlap, width=5, depth=4, ab_range=1, epoch=870\n",
      "Done: two_blobs_overlap, width=5, depth=4, ab_range=1, epoch=880\n",
      "Done: two_blobs_overlap, width=5, depth=4, ab_range=1, epoch=890\n",
      "Done: two_blobs_overlap, width=5, depth=4, ab_range=1, epoch=900\n",
      "Done: two_blobs_overlap, width=5, depth=4, ab_range=1, epoch=910\n",
      "Done: two_blobs_overlap, width=5, depth=4, ab_range=1, epoch=920\n",
      "Done: two_blobs_overlap, width=5, depth=4, ab_range=1, epoch=930\n",
      "Done: two_blobs_overlap, width=5, depth=4, ab_range=1, epoch=940\n",
      "Done: two_blobs_overlap, width=5, depth=4, ab_range=1, epoch=950\n",
      "Done: two_blobs_overlap, width=5, depth=4, ab_range=1, epoch=960\n",
      "Done: two_blobs_overlap, width=5, depth=4, ab_range=1, epoch=970\n",
      "Done: two_blobs_overlap, width=5, depth=4, ab_range=1, epoch=980\n",
      "Done: two_blobs_overlap, width=5, depth=4, ab_range=1, epoch=990\n",
      "Done: two_blobs_overlap, width=5, depth=4, ab_range=1, epoch=1000\n",
      "Done: two_blobs_overlap, width=5, depth=4, ab_range=10, epoch=0\n",
      "Done: two_blobs_overlap, width=5, depth=4, ab_range=10, epoch=10\n",
      "Done: two_blobs_overlap, width=5, depth=4, ab_range=10, epoch=20\n",
      "Done: two_blobs_overlap, width=5, depth=4, ab_range=10, epoch=30\n",
      "Done: two_blobs_overlap, width=5, depth=4, ab_range=10, epoch=40\n",
      "Done: two_blobs_overlap, width=5, depth=4, ab_range=10, epoch=50\n",
      "Done: two_blobs_overlap, width=5, depth=4, ab_range=10, epoch=60\n",
      "Done: two_blobs_overlap, width=5, depth=4, ab_range=10, epoch=70\n",
      "Done: two_blobs_overlap, width=5, depth=4, ab_range=10, epoch=80\n",
      "Done: two_blobs_overlap, width=5, depth=4, ab_range=10, epoch=90\n",
      "Done: two_blobs_overlap, width=5, depth=4, ab_range=10, epoch=100\n",
      "Done: two_blobs_overlap, width=5, depth=4, ab_range=10, epoch=110\n",
      "Done: two_blobs_overlap, width=5, depth=4, ab_range=10, epoch=120\n"
     ]
    },
    {
     "name": "stderr",
     "output_type": "stream",
     "text": [
      "Outer loop (a):  63%|██████▎   | 63/100 [00:31<00:20,  1.83it/s]"
     ]
    },
    {
     "name": "stdout",
     "output_type": "stream",
     "text": [
      "Done: two_blobs_overlap, width=5, depth=4, ab_range=10, epoch=130\n",
      "Done: two_blobs_overlap, width=5, depth=4, ab_range=10, epoch=140\n",
      "Done: two_blobs_overlap, width=5, depth=4, ab_range=10, epoch=150\n",
      "Done: two_blobs_overlap, width=5, depth=4, ab_range=10, epoch=160\n",
      "Done: two_blobs_overlap, width=5, depth=4, ab_range=10, epoch=170\n",
      "Done: two_blobs_overlap, width=5, depth=4, ab_range=10, epoch=180\n",
      "Done: two_blobs_overlap, width=5, depth=4, ab_range=10, epoch=190\n",
      "Done: two_blobs_overlap, width=5, depth=4, ab_range=10, epoch=200\n",
      "Done: two_blobs_overlap, width=5, depth=4, ab_range=10, epoch=210\n",
      "Done: two_blobs_overlap, width=5, depth=4, ab_range=10, epoch=220\n",
      "Done: two_blobs_overlap, width=5, depth=4, ab_range=10, epoch=230\n",
      "Done: two_blobs_overlap, width=5, depth=4, ab_range=10, epoch=240\n",
      "Done: two_blobs_overlap, width=5, depth=4, ab_range=10, epoch=250\n",
      "Done: two_blobs_overlap, width=5, depth=4, ab_range=10, epoch=260\n",
      "Done: two_blobs_overlap, width=5, depth=4, ab_range=10, epoch=270\n",
      "Done: two_blobs_overlap, width=5, depth=4, ab_range=10, epoch=280\n",
      "Done: two_blobs_overlap, width=5, depth=4, ab_range=10, epoch=290\n",
      "Done: two_blobs_overlap, width=5, depth=4, ab_range=10, epoch=300\n",
      "Done: two_blobs_overlap, width=5, depth=4, ab_range=10, epoch=310\n",
      "Done: two_blobs_overlap, width=5, depth=4, ab_range=10, epoch=320\n",
      "Done: two_blobs_overlap, width=5, depth=4, ab_range=10, epoch=330\n"
     ]
    },
    {
     "name": "stderr",
     "output_type": "stream",
     "text": [
      "Outer loop (a):  78%|███████▊  | 78/100 [00:38<00:10,  2.05it/s]"
     ]
    },
    {
     "name": "stdout",
     "output_type": "stream",
     "text": [
      "Done: two_blobs_overlap, width=5, depth=4, ab_range=10, epoch=340\n",
      "Done: two_blobs_overlap, width=5, depth=4, ab_range=10, epoch=350\n",
      "Done: two_blobs_overlap, width=5, depth=4, ab_range=10, epoch=360\n",
      "Done: two_blobs_overlap, width=5, depth=4, ab_range=10, epoch=370\n",
      "Done: two_blobs_overlap, width=5, depth=4, ab_range=10, epoch=380\n",
      "Done: two_blobs_overlap, width=5, depth=4, ab_range=10, epoch=390\n",
      "Done: two_blobs_overlap, width=5, depth=4, ab_range=10, epoch=400\n",
      "Done: two_blobs_overlap, width=5, depth=4, ab_range=10, epoch=410\n",
      "Done: two_blobs_overlap, width=5, depth=4, ab_range=10, epoch=420\n",
      "Done: two_blobs_overlap, width=5, depth=4, ab_range=10, epoch=430\n",
      "Done: two_blobs_overlap, width=5, depth=4, ab_range=10, epoch=440\n",
      "Done: two_blobs_overlap, width=5, depth=4, ab_range=10, epoch=450\n",
      "Done: two_blobs_overlap, width=5, depth=4, ab_range=10, epoch=460\n",
      "Done: two_blobs_overlap, width=5, depth=4, ab_range=10, epoch=470\n",
      "Done: two_blobs_overlap, width=5, depth=4, ab_range=10, epoch=480\n",
      "Done: two_blobs_overlap, width=5, depth=4, ab_range=10, epoch=490\n",
      "Done: two_blobs_overlap, width=5, depth=4, ab_range=10, epoch=500\n",
      "Done: two_blobs_overlap, width=5, depth=4, ab_range=10, epoch=510\n",
      "Done: two_blobs_overlap, width=5, depth=4, ab_range=10, epoch=520\n",
      "Done: two_blobs_overlap, width=5, depth=4, ab_range=10, epoch=530\n",
      "Done: two_blobs_overlap, width=5, depth=4, ab_range=10, epoch=540\n",
      "Done: two_blobs_overlap, width=5, depth=4, ab_range=10, epoch=550\n",
      "Done: two_blobs_overlap, width=5, depth=4, ab_range=10, epoch=560\n",
      "Done: two_blobs_overlap, width=5, depth=4, ab_range=10, epoch=570\n",
      "Done: two_blobs_overlap, width=5, depth=4, ab_range=10, epoch=580\n",
      "Done: two_blobs_overlap, width=5, depth=4, ab_range=10, epoch=590\n",
      "Done: two_blobs_overlap, width=5, depth=4, ab_range=10, epoch=600\n",
      "Done: two_blobs_overlap, width=5, depth=4, ab_range=10, epoch=610\n",
      "Done: two_blobs_overlap, width=5, depth=4, ab_range=10, epoch=620\n"
     ]
    },
    {
     "name": "stderr",
     "output_type": "stream",
     "text": [
      "Outer loop (a):  83%|████████▎ | 83/100 [00:38<00:08,  2.02it/s]"
     ]
    },
    {
     "name": "stdout",
     "output_type": "stream",
     "text": [
      "Done: two_blobs_overlap, width=5, depth=4, ab_range=10, epoch=630\n",
      "Done: two_blobs_overlap, width=5, depth=4, ab_range=10, epoch=640\n",
      "Done: two_blobs_overlap, width=5, depth=4, ab_range=10, epoch=650\n",
      "Done: two_blobs_overlap, width=5, depth=4, ab_range=10, epoch=660\n",
      "Done: two_blobs_overlap, width=5, depth=4, ab_range=10, epoch=670\n",
      "Done: two_blobs_overlap, width=5, depth=4, ab_range=10, epoch=680\n",
      "Done: two_blobs_overlap, width=5, depth=4, ab_range=10, epoch=690\n",
      "Done: two_blobs_overlap, width=5, depth=4, ab_range=10, epoch=700\n",
      "Done: two_blobs_overlap, width=5, depth=4, ab_range=10, epoch=710\n",
      "Done: two_blobs_overlap, width=5, depth=4, ab_range=10, epoch=720\n",
      "Done: two_blobs_overlap, width=5, depth=4, ab_range=10, epoch=730\n",
      "Done: two_blobs_overlap, width=5, depth=4, ab_range=10, epoch=740\n",
      "Done: two_blobs_overlap, width=5, depth=4, ab_range=10, epoch=750\n",
      "Done: two_blobs_overlap, width=5, depth=4, ab_range=10, epoch=760\n",
      "Done: two_blobs_overlap, width=5, depth=4, ab_range=10, epoch=770\n",
      "Done: two_blobs_overlap, width=5, depth=4, ab_range=10, epoch=780\n",
      "Done: two_blobs_overlap, width=5, depth=4, ab_range=10, epoch=790\n",
      "Done: two_blobs_overlap, width=5, depth=4, ab_range=10, epoch=800\n",
      "Done: two_blobs_overlap, width=5, depth=4, ab_range=10, epoch=810\n",
      "Done: two_blobs_overlap, width=5, depth=4, ab_range=10, epoch=820\n",
      "Done: two_blobs_overlap, width=5, depth=4, ab_range=10, epoch=830\n",
      "Done: two_blobs_overlap, width=5, depth=4, ab_range=10, epoch=840\n",
      "Done: two_blobs_overlap, width=5, depth=4, ab_range=10, epoch=850\n",
      "Done: two_blobs_overlap, width=5, depth=4, ab_range=10, epoch=860\n",
      "Done: two_blobs_overlap, width=5, depth=4, ab_range=10, epoch=870\n",
      "Done: two_blobs_overlap, width=5, depth=4, ab_range=10, epoch=880\n",
      "Done: two_blobs_overlap, width=5, depth=4, ab_range=10, epoch=890\n",
      "Done: two_blobs_overlap, width=5, depth=4, ab_range=10, epoch=900\n",
      "Done: two_blobs_overlap, width=5, depth=4, ab_range=10, epoch=910\n"
     ]
    },
    {
     "name": "stderr",
     "output_type": "stream",
     "text": [
      "Outer loop (a):   3%|▎         | 3/100 [00:01<00:46,  2.08it/s]"
     ]
    },
    {
     "name": "stdout",
     "output_type": "stream",
     "text": [
      "Done: two_blobs_overlap, width=5, depth=4, ab_range=10, epoch=920\n",
      "Done: two_blobs_overlap, width=5, depth=4, ab_range=10, epoch=930\n",
      "Done: two_blobs_overlap, width=5, depth=4, ab_range=10, epoch=940\n",
      "Done: two_blobs_overlap, width=5, depth=4, ab_range=10, epoch=950\n",
      "Done: two_blobs_overlap, width=5, depth=4, ab_range=10, epoch=960\n",
      "Done: two_blobs_overlap, width=5, depth=4, ab_range=10, epoch=970\n",
      "Done: two_blobs_overlap, width=5, depth=4, ab_range=10, epoch=980\n",
      "Done: two_blobs_overlap, width=5, depth=4, ab_range=10, epoch=990\n",
      "Done: two_blobs_overlap, width=5, depth=4, ab_range=10, epoch=1000\n",
      "Done: two_blobs_overlap, width=5, depth=4, ab_range=2, epoch=0\n",
      "Done: two_blobs_overlap, width=5, depth=4, ab_range=2, epoch=10\n",
      "Done: two_blobs_overlap, width=5, depth=4, ab_range=2, epoch=20\n",
      "Done: two_blobs_overlap, width=5, depth=4, ab_range=2, epoch=30\n",
      "Done: two_blobs_overlap, width=5, depth=4, ab_range=2, epoch=40\n",
      "Done: two_blobs_overlap, width=5, depth=4, ab_range=2, epoch=50\n",
      "Done: two_blobs_overlap, width=5, depth=4, ab_range=2, epoch=60\n",
      "Done: two_blobs_overlap, width=5, depth=4, ab_range=2, epoch=70\n",
      "Done: two_blobs_overlap, width=5, depth=4, ab_range=2, epoch=80\n",
      "Done: two_blobs_overlap, width=5, depth=4, ab_range=2, epoch=90\n",
      "Done: two_blobs_overlap, width=5, depth=4, ab_range=2, epoch=100\n",
      "Done: two_blobs_overlap, width=5, depth=4, ab_range=2, epoch=110\n",
      "Done: two_blobs_overlap, width=5, depth=4, ab_range=2, epoch=120\n",
      "Done: two_blobs_overlap, width=5, depth=4, ab_range=2, epoch=130\n",
      "Done: two_blobs_overlap, width=5, depth=4, ab_range=2, epoch=140\n",
      "Done: two_blobs_overlap, width=5, depth=4, ab_range=2, epoch=150\n",
      "Done: two_blobs_overlap, width=5, depth=4, ab_range=2, epoch=160\n",
      "Done: two_blobs_overlap, width=5, depth=4, ab_range=2, epoch=170\n",
      "Done: two_blobs_overlap, width=5, depth=4, ab_range=2, epoch=180\n",
      "Done: two_blobs_overlap, width=5, depth=4, ab_range=2, epoch=190\n",
      "Done: two_blobs_overlap, width=5, depth=4, ab_range=2, epoch=200\n",
      "Done: two_blobs_overlap, width=5, depth=4, ab_range=2, epoch=210\n",
      "Done: two_blobs_overlap, width=5, depth=4, ab_range=2, epoch=220\n",
      "Done: two_blobs_overlap, width=5, depth=4, ab_range=2, epoch=230\n",
      "Done: two_blobs_overlap, width=5, depth=4, ab_range=2, epoch=240\n",
      "Done: two_blobs_overlap, width=5, depth=4, ab_range=2, epoch=250\n",
      "Done: two_blobs_overlap, width=5, depth=4, ab_range=2, epoch=260\n",
      "Done: two_blobs_overlap, width=5, depth=4, ab_range=2, epoch=270\n",
      "Done: two_blobs_overlap, width=5, depth=4, ab_range=2, epoch=280\n",
      "Done: two_blobs_overlap, width=5, depth=4, ab_range=2, epoch=290\n",
      "Done: two_blobs_overlap, width=5, depth=4, ab_range=2, epoch=300\n",
      "Done: two_blobs_overlap, width=5, depth=4, ab_range=2, epoch=310\n",
      "Done: two_blobs_overlap, width=5, depth=4, ab_range=2, epoch=320\n",
      "Done: two_blobs_overlap, width=5, depth=4, ab_range=2, epoch=330\n",
      "Done: two_blobs_overlap, width=5, depth=4, ab_range=2, epoch=340\n",
      "Done: two_blobs_overlap, width=5, depth=4, ab_range=2, epoch=350\n",
      "Done: two_blobs_overlap, width=5, depth=4, ab_range=2, epoch=360\n",
      "Done: two_blobs_overlap, width=5, depth=4, ab_range=2, epoch=370\n",
      "Done: two_blobs_overlap, width=5, depth=4, ab_range=2, epoch=380\n",
      "Done: two_blobs_overlap, width=5, depth=4, ab_range=2, epoch=390\n",
      "Done: two_blobs_overlap, width=5, depth=4, ab_range=2, epoch=400\n",
      "Done: two_blobs_overlap, width=5, depth=4, ab_range=2, epoch=410\n",
      "Done: two_blobs_overlap, width=5, depth=4, ab_range=2, epoch=420\n",
      "Done: two_blobs_overlap, width=5, depth=4, ab_range=2, epoch=430\n",
      "Done: two_blobs_overlap, width=5, depth=4, ab_range=2, epoch=440\n",
      "Done: two_blobs_overlap, width=5, depth=4, ab_range=2, epoch=450\n",
      "Done: two_blobs_overlap, width=5, depth=4, ab_range=2, epoch=460\n",
      "Done: two_blobs_overlap, width=5, depth=4, ab_range=2, epoch=470\n",
      "Done: two_blobs_overlap, width=5, depth=4, ab_range=2, epoch=480\n",
      "Done: two_blobs_overlap, width=5, depth=4, ab_range=2, epoch=490\n",
      "Done: two_blobs_overlap, width=5, depth=4, ab_range=2, epoch=500\n",
      "Done: two_blobs_overlap, width=5, depth=4, ab_range=2, epoch=510\n",
      "Done: two_blobs_overlap, width=5, depth=4, ab_range=2, epoch=520\n",
      "Done: two_blobs_overlap, width=5, depth=4, ab_range=2, epoch=530\n",
      "Done: two_blobs_overlap, width=5, depth=4, ab_range=2, epoch=540\n",
      "Done: two_blobs_overlap, width=5, depth=4, ab_range=2, epoch=550\n",
      "Done: two_blobs_overlap, width=5, depth=4, ab_range=2, epoch=560\n",
      "Done: two_blobs_overlap, width=5, depth=4, ab_range=2, epoch=570\n",
      "Done: two_blobs_overlap, width=5, depth=4, ab_range=2, epoch=580\n",
      "Done: two_blobs_overlap, width=5, depth=4, ab_range=2, epoch=590\n",
      "Done: two_blobs_overlap, width=5, depth=4, ab_range=2, epoch=600\n",
      "Done: two_blobs_overlap, width=5, depth=4, ab_range=2, epoch=610\n",
      "Done: two_blobs_overlap, width=5, depth=4, ab_range=2, epoch=620\n",
      "Done: two_blobs_overlap, width=5, depth=4, ab_range=2, epoch=630\n",
      "Done: two_blobs_overlap, width=5, depth=4, ab_range=2, epoch=640\n",
      "Done: two_blobs_overlap, width=5, depth=4, ab_range=2, epoch=650\n",
      "Done: two_blobs_overlap, width=5, depth=4, ab_range=2, epoch=660\n",
      "Done: two_blobs_overlap, width=5, depth=4, ab_range=2, epoch=670\n",
      "Done: two_blobs_overlap, width=5, depth=4, ab_range=2, epoch=680\n",
      "Done: two_blobs_overlap, width=5, depth=4, ab_range=2, epoch=690\n",
      "Done: two_blobs_overlap, width=5, depth=4, ab_range=2, epoch=700\n",
      "Done: two_blobs_overlap, width=5, depth=4, ab_range=2, epoch=710\n",
      "Done: two_blobs_overlap, width=5, depth=4, ab_range=2, epoch=720\n",
      "Done: two_blobs_overlap, width=5, depth=4, ab_range=2, epoch=730\n",
      "Done: two_blobs_overlap, width=5, depth=4, ab_range=2, epoch=740\n",
      "Done: two_blobs_overlap, width=5, depth=4, ab_range=2, epoch=750\n",
      "Done: two_blobs_overlap, width=5, depth=4, ab_range=2, epoch=760\n",
      "Done: two_blobs_overlap, width=5, depth=4, ab_range=2, epoch=770\n",
      "Done: two_blobs_overlap, width=5, depth=4, ab_range=2, epoch=780\n",
      "Done: two_blobs_overlap, width=5, depth=4, ab_range=2, epoch=790\n",
      "Done: two_blobs_overlap, width=5, depth=4, ab_range=2, epoch=800\n",
      "Done: two_blobs_overlap, width=5, depth=4, ab_range=2, epoch=810\n",
      "Done: two_blobs_overlap, width=5, depth=4, ab_range=2, epoch=820\n",
      "Done: two_blobs_overlap, width=5, depth=4, ab_range=2, epoch=830\n",
      "Done: two_blobs_overlap, width=5, depth=4, ab_range=2, epoch=840\n",
      "Done: two_blobs_overlap, width=5, depth=4, ab_range=2, epoch=850\n",
      "Done: two_blobs_overlap, width=5, depth=4, ab_range=2, epoch=860\n",
      "Done: two_blobs_overlap, width=5, depth=4, ab_range=2, epoch=870\n",
      "Done: two_blobs_overlap, width=5, depth=4, ab_range=2, epoch=880\n",
      "Done: two_blobs_overlap, width=5, depth=4, ab_range=2, epoch=890\n",
      "Done: two_blobs_overlap, width=5, depth=4, ab_range=2, epoch=900\n",
      "Done: two_blobs_overlap, width=5, depth=4, ab_range=2, epoch=910\n",
      "Done: two_blobs_overlap, width=5, depth=4, ab_range=2, epoch=920\n",
      "Done: two_blobs_overlap, width=5, depth=4, ab_range=2, epoch=930\n",
      "Done: two_blobs_overlap, width=5, depth=4, ab_range=2, epoch=940\n",
      "Done: two_blobs_overlap, width=5, depth=4, ab_range=2, epoch=950\n",
      "Done: two_blobs_overlap, width=5, depth=4, ab_range=2, epoch=960\n",
      "Done: two_blobs_overlap, width=5, depth=4, ab_range=2, epoch=970\n",
      "Done: two_blobs_overlap, width=5, depth=4, ab_range=2, epoch=980\n",
      "Done: two_blobs_overlap, width=5, depth=4, ab_range=2, epoch=990\n",
      "Done: two_blobs_overlap, width=5, depth=4, ab_range=2, epoch=1000\n",
      "Done: two_blobs_overlap, width=5, depth=4, ab_range=5, epoch=0\n",
      "Done: two_blobs_overlap, width=5, depth=4, ab_range=5, epoch=10\n",
      "Done: two_blobs_overlap, width=5, depth=4, ab_range=5, epoch=20\n",
      "Done: two_blobs_overlap, width=5, depth=4, ab_range=5, epoch=30\n",
      "Done: two_blobs_overlap, width=5, depth=4, ab_range=5, epoch=40\n",
      "Done: two_blobs_overlap, width=5, depth=4, ab_range=5, epoch=50\n",
      "Done: two_blobs_overlap, width=5, depth=4, ab_range=5, epoch=60\n",
      "Done: two_blobs_overlap, width=5, depth=4, ab_range=5, epoch=70\n",
      "Done: two_blobs_overlap, width=5, depth=4, ab_range=5, epoch=80\n",
      "Done: two_blobs_overlap, width=5, depth=4, ab_range=5, epoch=90\n",
      "Done: two_blobs_overlap, width=5, depth=4, ab_range=5, epoch=100\n",
      "Done: two_blobs_overlap, width=5, depth=4, ab_range=5, epoch=110\n",
      "Done: two_blobs_overlap, width=5, depth=4, ab_range=5, epoch=120\n",
      "Done: two_blobs_overlap, width=5, depth=4, ab_range=5, epoch=130\n",
      "Done: two_blobs_overlap, width=5, depth=4, ab_range=5, epoch=140\n",
      "Done: two_blobs_overlap, width=5, depth=4, ab_range=5, epoch=150\n",
      "Done: two_blobs_overlap, width=5, depth=4, ab_range=5, epoch=160\n",
      "Done: two_blobs_overlap, width=5, depth=4, ab_range=5, epoch=170"
     ]
    },
    {
     "name": "stderr",
     "output_type": "stream",
     "text": [
      "Outer loop (a):  97%|█████████▋| 97/100 [00:48<00:01,  1.75it/s]"
     ]
    },
    {
     "name": "stdout",
     "output_type": "stream",
     "text": [
      "\n",
      "Done: two_blobs_overlap, width=5, depth=4, ab_range=5, epoch=180\n",
      "Done: two_blobs_overlap, width=5, depth=4, ab_range=5, epoch=190\n",
      "Done: two_blobs_overlap, width=5, depth=4, ab_range=5, epoch=200\n",
      "Done: two_blobs_overlap, width=5, depth=4, ab_range=5, epoch=210\n",
      "Done: two_blobs_overlap, width=5, depth=4, ab_range=5, epoch=220\n",
      "Done: two_blobs_overlap, width=5, depth=4, ab_range=5, epoch=230\n",
      "Done: two_blobs_overlap, width=5, depth=4, ab_range=5, epoch=240\n",
      "Done: two_blobs_overlap, width=5, depth=4, ab_range=5, epoch=250\n",
      "Done: two_blobs_overlap, width=5, depth=4, ab_range=5, epoch=260\n",
      "Done: two_blobs_overlap, width=5, depth=4, ab_range=5, epoch=270\n",
      "Done: two_blobs_overlap, width=5, depth=4, ab_range=5, epoch=280\n",
      "Done: two_blobs_overlap, width=5, depth=4, ab_range=5, epoch=290\n",
      "Done: two_blobs_overlap, width=5, depth=4, ab_range=5, epoch=300\n",
      "Done: two_blobs_overlap, width=5, depth=4, ab_range=5, epoch=310\n",
      "Done: two_blobs_overlap, width=5, depth=4, ab_range=5, epoch=320\n",
      "Done: two_blobs_overlap, width=5, depth=4, ab_range=5, epoch=330\n",
      "Done: two_blobs_overlap, width=5, depth=4, ab_range=5, epoch=340\n",
      "Done: two_blobs_overlap, width=5, depth=4, ab_range=5, epoch=350\n",
      "Done: two_blobs_overlap, width=5, depth=4, ab_range=5, epoch=360\n",
      "Done: two_blobs_overlap, width=5, depth=4, ab_range=5, epoch=370\n",
      "Done: two_blobs_overlap, width=5, depth=4, ab_range=5, epoch=380\n",
      "Done: two_blobs_overlap, width=5, depth=4, ab_range=5, epoch=390\n",
      "Previously saved model is of lower resolution; recomputing\n"
     ]
    },
    {
     "name": "stderr",
     "output_type": "stream",
     "text": [
      "Outer loop (a): 100%|██████████| 100/100 [00:50<00:00,  1.97it/s]\n"
     ]
    },
    {
     "name": "stdout",
     "output_type": "stream",
     "text": [
      "✅ Updated and saved new grid at ../backend/landscapes/mlp_5_5/four_corners/train/range0.2/ep230"
     ]
    },
    {
     "name": "stderr",
     "output_type": "stream",
     "text": [
      "Outer loop (a):  82%|████████▏ | 82/100 [00:40<00:08,  2.05it/s]"
     ]
    },
    {
     "name": "stdout",
     "output_type": "stream",
     "text": [
      "\n",
      "Done: four_corners, width=5, depth=2, ab_range=0.2, epoch=230\n",
      "Previously saved model is of lower resolution; recomputing\n"
     ]
    },
    {
     "name": "stderr",
     "output_type": "stream",
     "text": [
      "Outer loop (a): 100%|██████████| 100/100 [00:47<00:00,  2.11it/s]\n"
     ]
    },
    {
     "name": "stdout",
     "output_type": "stream",
     "text": [
      "✅ Updated and saved new grid at ../backend/landscapes/mlp_5/two_blobs_overlap/train/range0.2/ep940\n",
      "Done: two_blobs_overlap, width=5, depth=1, ab_range=0.2, epoch=940\n",
      "Previously saved model is of lower resolution; recomputing\n"
     ]
    },
    {
     "name": "stderr",
     "output_type": "stream",
     "text": [
      "Outer loop (a): 100%|██████████| 100/100 [00:49<00:00,  2.02it/s]\n"
     ]
    },
    {
     "name": "stdout",
     "output_type": "stream",
     "text": [
      "✅ Updated and saved new grid at ../backend/landscapes/mlp_5/spirals/train/range0.2/ep580\n",
      "Done: spirals, width=5, depth=1, ab_range=0.2, epoch=580\n",
      "Previously saved model is of lower resolution; recomputing\n"
     ]
    },
    {
     "name": "stderr",
     "output_type": "stream",
     "text": [
      "Outer loop (a): 100%|██████████| 100/100 [00:48<00:00,  2.07it/s]\n"
     ]
    },
    {
     "name": "stdout",
     "output_type": "stream",
     "text": [
      "✅ Updated and saved new grid at ../backend/landscapes/mlp_5/spirals/train/range0.5/ep500\n",
      "Done: spirals, width=5, depth=1, ab_range=0.5, epoch=500\n",
      "Previously saved model is of lower resolution; recomputing\n"
     ]
    },
    {
     "name": "stderr",
     "output_type": "stream",
     "text": [
      "Outer loop (a): 100%|██████████| 100/100 [00:52<00:00,  1.91it/s]\n"
     ]
    },
    {
     "name": "stdout",
     "output_type": "stream",
     "text": [
      "✅ Updated and saved new grid at ../backend/landscapes/mlp_5_5/two_blobs_separate/train/range0.2/ep0\n",
      "Done: two_blobs_separate, width=5, depth=2, ab_range=0.2, epoch=0\n",
      "Previously saved model is of lower resolution; recomputing\n"
     ]
    },
    {
     "name": "stderr",
     "output_type": "stream",
     "text": [
      "Outer loop (a): 100%|██████████| 100/100 [00:48<00:00,  2.07it/s]\n",
      "Outer loop (a):   0%|          | 0/100 [00:00<?, ?it/s]"
     ]
    },
    {
     "name": "stdout",
     "output_type": "stream",
     "text": [
      "✅ Updated and saved new grid at ../backend/landscapes/mlp_5_5/half_moons/train/range0.2/ep880\n",
      "Done: half_moons, width=5, depth=2, ab_range=0.2, epoch=880\n",
      "Previously saved model is of lower resolution; recomputing\n"
     ]
    },
    {
     "name": "stderr",
     "output_type": "stream",
     "text": [
      "Outer loop (a): 100%|██████████| 100/100 [00:49<00:00,  2.01it/s]\n"
     ]
    },
    {
     "name": "stdout",
     "output_type": "stream",
     "text": [
      "✅ Updated and saved new grid at ../backend/landscapes/mlp_5_5/half_moons/train/range0.2/ep660\n",
      "Done: half_moons, width=5, depth=2, ab_range=0.2, epoch=660\n",
      "Previously saved model is of lower resolution; recomputing\n"
     ]
    },
    {
     "name": "stderr",
     "output_type": "stream",
     "text": [
      "Outer loop (a): 100%|██████████| 100/100 [00:51<00:00,  1.93it/s]\n"
     ]
    },
    {
     "name": "stdout",
     "output_type": "stream",
     "text": [
      "✅ Updated and saved new grid at ../backend/landscapes/mlp_5_5/four_corners/train/range0.2/ep240\n",
      "Done: four_corners, width=5, depth=2, ab_range=0.2, epoch=240\n",
      "Previously saved model is of lower resolution; recomputing\n"
     ]
    },
    {
     "name": "stderr",
     "output_type": "stream",
     "text": [
      "Outer loop (a): 100%|██████████| 100/100 [00:47<00:00,  2.10it/s]\n"
     ]
    },
    {
     "name": "stdout",
     "output_type": "stream",
     "text": [
      "✅ Updated and saved new grid at ../backend/landscapes/mlp_5/two_blobs_overlap/train/range0.2/ep950\n",
      "Done: two_blobs_overlap, width=5, depth=1, ab_range=0.2, epoch=950\n",
      "Previously saved model is of lower resolution; recomputing\n"
     ]
    },
    {
     "name": "stderr",
     "output_type": "stream",
     "text": [
      "Outer loop (a): 100%|██████████| 100/100 [00:56<00:00,  1.76it/s]\n"
     ]
    },
    {
     "name": "stdout",
     "output_type": "stream",
     "text": [
      "✅ Updated and saved new grid at ../backend/landscapes/mlp_5_5_5_5/two_blobs_overlap/train/range5/ep400\n",
      "Done: two_blobs_overlap, width=5, depth=4, ab_range=5, epoch=400\n",
      "Previously saved model is of lower resolution; recomputing\n"
     ]
    },
    {
     "name": "stderr",
     "output_type": "stream",
     "text": [
      "Outer loop (a): 100%|██████████| 100/100 [00:48<00:00,  2.04it/s]\n"
     ]
    },
    {
     "name": "stdout",
     "output_type": "stream",
     "text": [
      "✅ Updated and saved new grid at ../backend/landscapes/mlp_5/spirals/train/range0.2/ep590\n",
      "Done: spirals, width=5, depth=1, ab_range=0.2, epoch=590\n",
      "Previously saved model is of lower resolution; recomputing\n"
     ]
    },
    {
     "name": "stderr",
     "output_type": "stream",
     "text": [
      "Outer loop (a): 100%|██████████| 100/100 [00:47<00:00,  2.10it/s]\n"
     ]
    },
    {
     "name": "stdout",
     "output_type": "stream",
     "text": [
      "✅ Updated and saved new grid at ../backend/landscapes/mlp_5/spirals/train/range0.5/ep510\n",
      "Done: spirals, width=5, depth=1, ab_range=0.5, epoch=510\n",
      "Previously saved model is of lower resolution; recomputing\n"
     ]
    },
    {
     "name": "stderr",
     "output_type": "stream",
     "text": [
      "Outer loop (a): 100%|██████████| 100/100 [00:49<00:00,  2.01it/s]\n"
     ]
    },
    {
     "name": "stdout",
     "output_type": "stream",
     "text": [
      "✅ Updated and saved new grid at ../backend/landscapes/mlp_5_5/half_moons/train/range0.2/ep670\n",
      "Done: half_moons, width=5, depth=2, ab_range=0.2, epoch=670\n",
      "Previously saved model is of lower resolution; recomputing\n"
     ]
    },
    {
     "name": "stderr",
     "output_type": "stream",
     "text": [
      "Outer loop (a): 100%|██████████| 100/100 [00:51<00:00,  1.95it/s]\n"
     ]
    },
    {
     "name": "stdout",
     "output_type": "stream",
     "text": [
      "✅ Updated and saved new grid at ../backend/landscapes/mlp_5_5/half_moons/train/range0.2/ep890\n",
      "Done: half_moons, width=5, depth=2, ab_range=0.2, epoch=890\n",
      "Previously saved model is of lower resolution; recomputing\n"
     ]
    },
    {
     "name": "stderr",
     "output_type": "stream",
     "text": [
      "Outer loop (a): 100%|██████████| 100/100 [00:51<00:00,  1.93it/s]\n"
     ]
    },
    {
     "name": "stdout",
     "output_type": "stream",
     "text": [
      "✅ Updated and saved new grid at ../backend/landscapes/mlp_5_5/two_blobs_separate/train/range0.2/ep10\n",
      "Done: two_blobs_separate, width=5, depth=2, ab_range=0.2, epoch=10\n",
      "Previously saved model is of lower resolution; recomputing\n"
     ]
    },
    {
     "name": "stderr",
     "output_type": "stream",
     "text": [
      "Outer loop (a): 100%|██████████| 100/100 [00:50<00:00,  1.97it/s]\n"
     ]
    },
    {
     "name": "stdout",
     "output_type": "stream",
     "text": [
      "✅ Updated and saved new grid at ../backend/landscapes/mlp_5_5/four_corners/train/range0.2/ep250\n",
      "Done: four_corners, width=5, depth=2, ab_range=0.2, epoch=250\n",
      "Previously saved model is of lower resolution; recomputing\n"
     ]
    },
    {
     "name": "stderr",
     "output_type": "stream",
     "text": [
      "Outer loop (a): 100%|██████████| 100/100 [00:49<00:00,  2.03it/s]\n"
     ]
    },
    {
     "name": "stdout",
     "output_type": "stream",
     "text": [
      "✅ Updated and saved new grid at ../backend/landscapes/mlp_5/two_blobs_overlap/train/range0.2/ep960\n",
      "Done: two_blobs_overlap, width=5, depth=1, ab_range=0.2, epoch=960\n",
      "Previously saved model is of lower resolution; recomputing\n"
     ]
    },
    {
     "name": "stderr",
     "output_type": "stream",
     "text": [
      "Outer loop (a): 100%|██████████| 100/100 [00:45<00:00,  2.20it/s]\n"
     ]
    },
    {
     "name": "stdout",
     "output_type": "stream",
     "text": [
      "✅ Updated and saved new grid at ../backend/landscapes/mlp_5/spirals/train/range0.2/ep600\n",
      "Done: spirals, width=5, depth=1, ab_range=0.2, epoch=600\n",
      "Previously saved model is of lower resolution; recomputing\n"
     ]
    },
    {
     "name": "stderr",
     "output_type": "stream",
     "text": [
      "Outer loop (a): 100%|██████████| 100/100 [00:54<00:00,  1.83it/s]\n"
     ]
    },
    {
     "name": "stdout",
     "output_type": "stream",
     "text": [
      "✅ Updated and saved new grid at ../backend/landscapes/mlp_5_5_5_5/two_blobs_overlap/train/range5/ep410\n",
      "Done: two_blobs_overlap, width=5, depth=4, ab_range=5, epoch=410\n",
      "Previously saved model is of lower resolution; recomputing\n"
     ]
    },
    {
     "name": "stderr",
     "output_type": "stream",
     "text": [
      "Outer loop (a): 100%|██████████| 100/100 [00:47<00:00,  2.11it/s]\n"
     ]
    },
    {
     "name": "stdout",
     "output_type": "stream",
     "text": [
      "✅ Updated and saved new grid at ../backend/landscapes/mlp_5/spirals/train/range0.5/ep520\n",
      "Done: spirals, width=5, depth=1, ab_range=0.5, epoch=520\n",
      "Previously saved model is of lower resolution; recomputing\n"
     ]
    },
    {
     "name": "stderr",
     "output_type": "stream",
     "text": [
      "Outer loop (a): 100%|██████████| 100/100 [00:50<00:00,  1.98it/s]\n"
     ]
    },
    {
     "name": "stdout",
     "output_type": "stream",
     "text": [
      "✅ Updated and saved new grid at ../backend/landscapes/mlp_5_5/half_moons/train/range0.2/ep680\n",
      "Done: half_moons, width=5, depth=2, ab_range=0.2, epoch=680\n",
      "Previously saved model is of lower resolution; recomputing\n"
     ]
    },
    {
     "name": "stderr",
     "output_type": "stream",
     "text": [
      "Outer loop (a): 100%|██████████| 100/100 [00:51<00:00,  1.96it/s]\n"
     ]
    },
    {
     "name": "stdout",
     "output_type": "stream",
     "text": [
      "✅ Updated and saved new grid at ../backend/landscapes/mlp_5_5/half_moons/train/range0.2/ep900\n",
      "Done: half_moons, width=5, depth=2, ab_range=0.2, epoch=900\n",
      "Previously saved model is of lower resolution; recomputing\n"
     ]
    },
    {
     "name": "stderr",
     "output_type": "stream",
     "text": [
      "Outer loop (a): 100%|██████████| 100/100 [00:51<00:00,  1.96it/s]\n"
     ]
    },
    {
     "name": "stdout",
     "output_type": "stream",
     "text": [
      "✅ Updated and saved new grid at ../backend/landscapes/mlp_5_5/two_blobs_separate/train/range0.2/ep20\n",
      "Done: two_blobs_separate, width=5, depth=2, ab_range=0.2, epoch=20\n"
     ]
    },
    {
     "name": "stderr",
     "output_type": "stream",
     "text": [
      "Outer loop (a):   3%|▎         | 3/100 [00:01<00:51,  1.88it/s]"
     ]
    },
    {
     "name": "stdout",
     "output_type": "stream",
     "text": [
      "Previously saved model is of lower resolution; recomputing\n"
     ]
    },
    {
     "name": "stderr",
     "output_type": "stream",
     "text": [
      "Outer loop (a): 100%|██████████| 100/100 [00:47<00:00,  2.10it/s]\n"
     ]
    },
    {
     "name": "stdout",
     "output_type": "stream",
     "text": [
      "✅ Updated and saved new grid at ../backend/landscapes/mlp_5/two_blobs_overlap/train/range0.2/ep970\n",
      "Done: two_blobs_overlap, width=5, depth=1, ab_range=0.2, epoch=970\n",
      "Previously saved model is of lower resolution; recomputing\n"
     ]
    },
    {
     "name": "stderr",
     "output_type": "stream",
     "text": [
      "Outer loop (a): 100%|██████████| 100/100 [00:48<00:00,  2.08it/s]\n"
     ]
    },
    {
     "name": "stdout",
     "output_type": "stream",
     "text": [
      "✅ Updated and saved new grid at ../backend/landscapes/mlp_5/spirals/train/range0.2/ep610\n",
      "Done: spirals, width=5, depth=1, ab_range=0.2, epoch=610\n",
      "Previously saved model is of lower resolution; recomputing\n"
     ]
    },
    {
     "name": "stderr",
     "output_type": "stream",
     "text": [
      "Outer loop (a): 100%|██████████| 100/100 [00:50<00:00,  1.99it/s]\n"
     ]
    },
    {
     "name": "stdout",
     "output_type": "stream",
     "text": [
      "✅ Updated and saved new grid at ../backend/landscapes/mlp_5_5/four_corners/train/range0.2/ep260\n",
      "Done: four_corners, width=5, depth=2, ab_range=0.2, epoch=260\n",
      "Previously saved model is of lower resolution; recomputing\n"
     ]
    },
    {
     "name": "stderr",
     "output_type": "stream",
     "text": [
      "Outer loop (a): 100%|██████████| 100/100 [00:47<00:00,  2.09it/s]\n"
     ]
    },
    {
     "name": "stdout",
     "output_type": "stream",
     "text": [
      "✅ Updated and saved new grid at ../backend/landscapes/mlp_5/spirals/train/range0.5/ep530\n",
      "Done: spirals, width=5, depth=1, ab_range=0.5, epoch=530\n",
      "Previously saved model is of lower resolution; recomputing\n"
     ]
    },
    {
     "name": "stderr",
     "output_type": "stream",
     "text": [
      "Outer loop (a): 100%|██████████| 100/100 [00:55<00:00,  1.79it/s]\n"
     ]
    },
    {
     "name": "stdout",
     "output_type": "stream",
     "text": [
      "✅ Updated and saved new grid at ../backend/landscapes/mlp_5_5_5_5/two_blobs_overlap/train/range5/ep420\n",
      "Done: two_blobs_overlap, width=5, depth=4, ab_range=5, epoch=420\n",
      "Previously saved model is of lower resolution; recomputing\n"
     ]
    },
    {
     "name": "stderr",
     "output_type": "stream",
     "text": [
      "Outer loop (a): 100%|██████████| 100/100 [00:49<00:00,  2.00it/s]\n"
     ]
    },
    {
     "name": "stdout",
     "output_type": "stream",
     "text": [
      "✅ Updated and saved new grid at ../backend/landscapes/mlp_5_5/half_moons/train/range0.2/ep910\n",
      "Done: half_moons, width=5, depth=2, ab_range=0.2, epoch=910"
     ]
    },
    {
     "name": "stderr",
     "output_type": "stream",
     "text": [
      "Outer loop (a): 100%|██████████| 100/100 [00:51<00:00,  1.96it/s]"
     ]
    },
    {
     "name": "stdout",
     "output_type": "stream",
     "text": [
      "\n"
     ]
    },
    {
     "name": "stderr",
     "output_type": "stream",
     "text": [
      "\n"
     ]
    },
    {
     "name": "stdout",
     "output_type": "stream",
     "text": [
      "Previously saved model is of lower resolution; recomputing\n",
      "✅ Updated and saved new grid at ../backend/landscapes/mlp_5_5/half_moons/train/range0.2/ep690\n",
      "Done: half_moons, width=5, depth=2, ab_range=0.2, epoch=690\n",
      "Previously saved model is of lower resolution; recomputing\n"
     ]
    },
    {
     "name": "stderr",
     "output_type": "stream",
     "text": [
      "Outer loop (a): 100%|██████████| 100/100 [00:50<00:00,  1.98it/s]\n"
     ]
    },
    {
     "name": "stdout",
     "output_type": "stream",
     "text": [
      "✅ Updated and saved new grid at ../backend/landscapes/mlp_5_5/two_blobs_separate/train/range0.2/ep30\n",
      "Done: two_blobs_separate, width=5, depth=2, ab_range=0.2, epoch=30\n",
      "Previously saved model is of lower resolution; recomputing\n"
     ]
    },
    {
     "name": "stderr",
     "output_type": "stream",
     "text": [
      "Outer loop (a): 100%|██████████| 100/100 [00:48<00:00,  2.07it/s]\n"
     ]
    },
    {
     "name": "stdout",
     "output_type": "stream",
     "text": [
      "✅ Updated and saved new grid at ../backend/landscapes/mlp_5/spirals/train/range0.2/ep620\n",
      "Done: spirals, width=5, depth=1, ab_range=0.2, epoch=620\n",
      "Previously saved model is of lower resolution; recomputing\n"
     ]
    },
    {
     "name": "stderr",
     "output_type": "stream",
     "text": [
      "Outer loop (a): 100%|██████████| 100/100 [00:49<00:00,  2.03it/s]\n"
     ]
    },
    {
     "name": "stdout",
     "output_type": "stream",
     "text": [
      "✅ Updated and saved new grid at ../backend/landscapes/mlp_5/two_blobs_overlap/train/range0.2/ep980\n",
      "Done: two_blobs_overlap, width=5, depth=1, ab_range=0.2, epoch=980\n",
      "Previously saved model is of lower resolution; recomputing\n"
     ]
    },
    {
     "name": "stderr",
     "output_type": "stream",
     "text": [
      "Outer loop (a): 100%|██████████| 100/100 [00:51<00:00,  1.95it/s]\n"
     ]
    },
    {
     "name": "stdout",
     "output_type": "stream",
     "text": [
      "✅ Updated and saved new grid at ../backend/landscapes/mlp_5_5/four_corners/train/range0.2/ep270\n",
      "Done: four_corners, width=5, depth=2, ab_range=0.2, epoch=270\n",
      "Previously saved model is of lower resolution; recomputing\n"
     ]
    },
    {
     "name": "stderr",
     "output_type": "stream",
     "text": [
      "Outer loop (a): 100%|██████████| 100/100 [00:47<00:00,  2.09it/s]\n"
     ]
    },
    {
     "name": "stdout",
     "output_type": "stream",
     "text": [
      "✅ Updated and saved new grid at ../backend/landscapes/mlp_5/spirals/train/range0.5/ep540\n",
      "Done: spirals, width=5, depth=1, ab_range=0.5, epoch=540\n",
      "Previously saved model is of lower resolution; recomputing\n"
     ]
    },
    {
     "name": "stderr",
     "output_type": "stream",
     "text": [
      "Outer loop (a): 100%|██████████| 100/100 [00:55<00:00,  1.79it/s]\n"
     ]
    },
    {
     "name": "stdout",
     "output_type": "stream",
     "text": [
      "✅ Updated and saved new grid at ../backend/landscapes/mlp_5_5_5_5/two_blobs_overlap/train/range5/ep430\n",
      "Done: two_blobs_overlap, width=5, depth=4, ab_range=5, epoch=430\n",
      "Previously saved model is of lower resolution; recomputing\n"
     ]
    },
    {
     "name": "stderr",
     "output_type": "stream",
     "text": [
      "Outer loop (a): 100%|██████████| 100/100 [00:49<00:00,  2.04it/s]\n"
     ]
    },
    {
     "name": "stdout",
     "output_type": "stream",
     "text": [
      "✅ Updated and saved new grid at ../backend/landscapes/mlp_5_5/half_moons/train/range0.2/ep700\n",
      "Done: half_moons, width=5, depth=2, ab_range=0.2, epoch=700\n",
      "Previously saved model is of lower resolution; recomputing\n"
     ]
    },
    {
     "name": "stderr",
     "output_type": "stream",
     "text": [
      "Outer loop (a): 100%|██████████| 100/100 [00:46<00:00,  2.15it/s]\n"
     ]
    },
    {
     "name": "stdout",
     "output_type": "stream",
     "text": [
      "✅ Updated and saved new grid at ../backend/landscapes/mlp_5/two_blobs_overlap/train/range0.2/ep990\n",
      "Done: two_blobs_overlap, width=5, depth=1, ab_range=0.2, epoch=990\n",
      "Previously saved model is of lower resolution; recomputing\n"
     ]
    },
    {
     "name": "stderr",
     "output_type": "stream",
     "text": [
      "Outer loop (a): 100%|██████████| 100/100 [00:50<00:00,  1.97it/s]\n"
     ]
    },
    {
     "name": "stdout",
     "output_type": "stream",
     "text": [
      "✅ Updated and saved new grid at ../backend/landscapes/mlp_5_5/half_moons/train/range0.2/ep920\n",
      "Done: half_moons, width=5, depth=2, ab_range=0.2, epoch=920\n",
      "Previously saved model is of lower resolution; recomputing\n"
     ]
    },
    {
     "name": "stderr",
     "output_type": "stream",
     "text": [
      "Outer loop (a): 100%|██████████| 100/100 [00:48<00:00,  2.06it/s]\n"
     ]
    },
    {
     "name": "stdout",
     "output_type": "stream",
     "text": [
      "✅ Updated and saved new grid at ../backend/landscapes/mlp_5/spirals/train/range0.2/ep630\n",
      "Done: spirals, width=5, depth=1, ab_range=0.2, epoch=630\n",
      "Previously saved model is of lower resolution; recomputing\n"
     ]
    },
    {
     "name": "stderr",
     "output_type": "stream",
     "text": [
      "Outer loop (a): 100%|██████████| 100/100 [00:51<00:00,  1.93it/s]\n"
     ]
    },
    {
     "name": "stdout",
     "output_type": "stream",
     "text": [
      "✅ Updated and saved new grid at ../backend/landscapes/mlp_5_5/two_blobs_separate/train/range0.2/ep40\n",
      "Done: two_blobs_separate, width=5, depth=2, ab_range=0.2, epoch=40\n",
      "Previously saved model is of lower resolution; recomputing\n"
     ]
    },
    {
     "name": "stderr",
     "output_type": "stream",
     "text": [
      "Outer loop (a): 100%|██████████| 100/100 [00:47<00:00,  2.12it/s]\n"
     ]
    },
    {
     "name": "stdout",
     "output_type": "stream",
     "text": [
      "✅ Updated and saved new grid at ../backend/landscapes/mlp_5/spirals/train/range0.5/ep550\n",
      "Done: spirals, width=5, depth=1, ab_range=0.5, epoch=550\n",
      "Previously saved model is of lower resolution; recomputing\n"
     ]
    },
    {
     "name": "stderr",
     "output_type": "stream",
     "text": [
      "Outer loop (a): 100%|██████████| 100/100 [00:49<00:00,  2.03it/s]\n"
     ]
    },
    {
     "name": "stdout",
     "output_type": "stream",
     "text": [
      "✅ Updated and saved new grid at ../backend/landscapes/mlp_5_5/four_corners/train/range0.2/ep280\n",
      "Done: four_corners, width=5, depth=2, ab_range=0.2, epoch=280\n",
      "Previously saved model is of lower resolution; recomputing\n"
     ]
    },
    {
     "name": "stderr",
     "output_type": "stream",
     "text": [
      "Outer loop (a): 100%|██████████| 100/100 [00:55<00:00,  1.82it/s]\n"
     ]
    },
    {
     "name": "stdout",
     "output_type": "stream",
     "text": [
      "✅ Updated and saved new grid at ../backend/landscapes/mlp_5_5_5_5/two_blobs_overlap/train/range5/ep440\n",
      "Done: two_blobs_overlap, width=5, depth=4, ab_range=5, epoch=440\n",
      "Previously saved model is of lower resolution; recomputing\n"
     ]
    },
    {
     "name": "stderr",
     "output_type": "stream",
     "text": [
      "Outer loop (a): 100%|██████████| 100/100 [00:47<00:00,  2.11it/s]\n"
     ]
    },
    {
     "name": "stdout",
     "output_type": "stream",
     "text": [
      "✅ Updated and saved new grid at ../backend/landscapes/mlp_5/two_blobs_overlap/train/range0.2/ep1000\n",
      "Done: two_blobs_overlap, width=5, depth=1, ab_range=0.2, epoch=1000\n",
      "Previously saved model is of lower resolution; recomputing\n"
     ]
    },
    {
     "name": "stderr",
     "output_type": "stream",
     "text": [
      "Outer loop (a): 100%|██████████| 100/100 [00:48<00:00,  2.06it/s]\n"
     ]
    },
    {
     "name": "stdout",
     "output_type": "stream",
     "text": [
      "✅ Updated and saved new grid at ../backend/landscapes/mlp_5/spirals/train/range0.2/ep640\n",
      "Done: spirals, width=5, depth=1, ab_range=0.2, epoch=640\n",
      "Previously saved model is of lower resolution; recomputing\n"
     ]
    },
    {
     "name": "stderr",
     "output_type": "stream",
     "text": [
      "Outer loop (a): 100%|██████████| 100/100 [00:51<00:00,  1.94it/s]\n"
     ]
    },
    {
     "name": "stdout",
     "output_type": "stream",
     "text": [
      "✅ Updated and saved new grid at ../backend/landscapes/mlp_5_5/half_moons/train/range0.2/ep710\n",
      "Done: half_moons, width=5, depth=2, ab_range=0.2, epoch=710\n",
      "Previously saved model is of lower resolution; recomputing\n"
     ]
    },
    {
     "name": "stderr",
     "output_type": "stream",
     "text": [
      "Outer loop (a): 100%|██████████| 100/100 [00:50<00:00,  1.99it/s]\n"
     ]
    },
    {
     "name": "stdout",
     "output_type": "stream",
     "text": [
      "✅ Updated and saved new grid at ../backend/landscapes/mlp_5_5/half_moons/train/range0.2/ep930\n",
      "Done: half_moons, width=5, depth=2, ab_range=0.2, epoch=930\n",
      "Previously saved model is of lower resolution; recomputing\n"
     ]
    },
    {
     "name": "stderr",
     "output_type": "stream",
     "text": [
      "Outer loop (a): 100%|██████████| 100/100 [00:47<00:00,  2.09it/s]\n"
     ]
    },
    {
     "name": "stdout",
     "output_type": "stream",
     "text": [
      "✅ Updated and saved new grid at ../backend/landscapes/mlp_5/spirals/train/range0.5/ep560\n",
      "Done: spirals, width=5, depth=1, ab_range=0.5, epoch=560\n",
      "Previously saved model is of lower resolution; recomputing\n"
     ]
    },
    {
     "name": "stderr",
     "output_type": "stream",
     "text": [
      "Outer loop (a): 100%|██████████| 100/100 [00:51<00:00,  1.96it/s]\n"
     ]
    },
    {
     "name": "stdout",
     "output_type": "stream",
     "text": [
      "✅ Updated and saved new grid at ../backend/landscapes/mlp_5_5/two_blobs_separate/train/range0.2/ep50\n",
      "Done: two_blobs_separate, width=5, depth=2, ab_range=0.2, epoch=50\n",
      "Previously saved model is of lower resolution; recomputing\n"
     ]
    },
    {
     "name": "stderr",
     "output_type": "stream",
     "text": [
      "Outer loop (a): 100%|██████████| 100/100 [00:48<00:00,  2.06it/s]\n"
     ]
    },
    {
     "name": "stdout",
     "output_type": "stream",
     "text": [
      "✅ Updated and saved new grid at ../backend/landscapes/mlp_5_5/four_corners/train/range0.2/ep290\n",
      "Done: four_corners, width=5, depth=2, ab_range=0.2, epoch=290\n",
      "Previously saved model is of lower resolution; recomputing\n"
     ]
    },
    {
     "name": "stderr",
     "output_type": "stream",
     "text": [
      "Outer loop (a): 100%|██████████| 100/100 [00:58<00:00,  1.72it/s]\n"
     ]
    },
    {
     "name": "stdout",
     "output_type": "stream",
     "text": [
      "✅ Updated and saved new grid at ../backend/landscapes/mlp_5_5_5_5/two_blobs_overlap/train/range5/ep450\n",
      "Done: two_blobs_overlap, width=5, depth=4, ab_range=5, epoch=450\n",
      "Previously saved model is of lower resolution; recomputing\n"
     ]
    },
    {
     "name": "stderr",
     "output_type": "stream",
     "text": [
      "Outer loop (a): 100%|██████████| 100/100 [00:47<00:00,  2.09it/s]\n"
     ]
    },
    {
     "name": "stdout",
     "output_type": "stream",
     "text": [
      "✅ Updated and saved new grid at ../backend/landscapes/mlp_5/two_blobs_overlap/train/range0.5/ep0\n",
      "Done: two_blobs_overlap, width=5, depth=1, ab_range=0.5, epoch=0\n",
      "Previously saved model is of lower resolution; recomputing\n"
     ]
    },
    {
     "name": "stderr",
     "output_type": "stream",
     "text": [
      "Outer loop (a): 100%|██████████| 100/100 [00:47<00:00,  2.10it/s]\n"
     ]
    },
    {
     "name": "stdout",
     "output_type": "stream",
     "text": [
      "✅ Updated and saved new grid at ../backend/landscapes/mlp_5/spirals/train/range0.2/ep650\n",
      "Done: spirals, width=5, depth=1, ab_range=0.2, epoch=650"
     ]
    },
    {
     "name": "stderr",
     "output_type": "stream",
     "text": [
      "Outer loop (a):  85%|████████▌ | 85/100 [00:43<00:07,  2.03it/s]"
     ]
    },
    {
     "name": "stdout",
     "output_type": "stream",
     "text": [
      "\n",
      "Previously saved model is of lower resolution; recomputing\n"
     ]
    },
    {
     "name": "stderr",
     "output_type": "stream",
     "text": [
      "Outer loop (a): 100%|██████████| 100/100 [00:50<00:00,  1.98it/s]\n"
     ]
    },
    {
     "name": "stdout",
     "output_type": "stream",
     "text": [
      "✅ Updated and saved new grid at ../backend/landscapes/mlp_5_5/half_moons/train/range0.2/ep720\n",
      "Done: half_moons, width=5, depth=2, ab_range=0.2, epoch=720\n",
      "Previously saved model is of lower resolution; recomputing\n"
     ]
    },
    {
     "name": "stderr",
     "output_type": "stream",
     "text": [
      "Outer loop (a): 100%|██████████| 100/100 [00:48<00:00,  2.07it/s]\n"
     ]
    },
    {
     "name": "stdout",
     "output_type": "stream",
     "text": [
      "✅ Updated and saved new grid at ../backend/landscapes/mlp_5/spirals/train/range0.5/ep570\n",
      "Done: spirals, width=5, depth=1, ab_range=0.5, epoch=570\n",
      "Previously saved model is of lower resolution; recomputing\n"
     ]
    },
    {
     "name": "stderr",
     "output_type": "stream",
     "text": [
      "Outer loop (a): 100%|██████████| 100/100 [00:49<00:00,  2.04it/s]\n"
     ]
    },
    {
     "name": "stdout",
     "output_type": "stream",
     "text": [
      "✅ Updated and saved new grid at ../backend/landscapes/mlp_5_5/four_corners/train/range0.2/ep300\n",
      "Done: four_corners, width=5, depth=2, ab_range=0.2, epoch=300\n",
      "Previously saved model is of lower resolution; recomputing\n"
     ]
    },
    {
     "name": "stderr",
     "output_type": "stream",
     "text": [
      "Outer loop (a): 100%|██████████| 100/100 [00:53<00:00,  1.88it/s]\n"
     ]
    },
    {
     "name": "stdout",
     "output_type": "stream",
     "text": [
      "✅ Updated and saved new grid at ../backend/landscapes/mlp_5_5/half_moons/train/range0.2/ep940\n",
      "Done: half_moons, width=5, depth=2, ab_range=0.2, epoch=940\n",
      "Previously saved model is of lower resolution; recomputing\n"
     ]
    },
    {
     "name": "stderr",
     "output_type": "stream",
     "text": [
      "Outer loop (a): 100%|██████████| 100/100 [00:51<00:00,  1.96it/s]\n"
     ]
    },
    {
     "name": "stdout",
     "output_type": "stream",
     "text": [
      "✅ Updated and saved new grid at ../backend/landscapes/mlp_5_5/two_blobs_separate/train/range0.2/ep60\n",
      "Done: two_blobs_separate, width=5, depth=2, ab_range=0.2, epoch=60\n",
      "Previously saved model is of lower resolution; recomputing\n"
     ]
    },
    {
     "name": "stderr",
     "output_type": "stream",
     "text": [
      "Outer loop (a): 100%|██████████| 100/100 [00:47<00:00,  2.11it/s]\n"
     ]
    },
    {
     "name": "stdout",
     "output_type": "stream",
     "text": [
      "✅ Updated and saved new grid at ../backend/landscapes/mlp_5/two_blobs_overlap/train/range0.5/ep10\n",
      "Done: two_blobs_overlap, width=5, depth=1, ab_range=0.5, epoch=10"
     ]
    },
    {
     "name": "stderr",
     "output_type": "stream",
     "text": [
      "Outer loop (a):  82%|████████▏ | 82/100 [00:40<00:08,  2.00it/s]"
     ]
    },
    {
     "name": "stdout",
     "output_type": "stream",
     "text": [
      "\n",
      "Previously saved model is of lower resolution; recomputing\n"
     ]
    },
    {
     "name": "stderr",
     "output_type": "stream",
     "text": [
      "Outer loop (a): 100%|██████████| 100/100 [00:55<00:00,  1.79it/s]\n"
     ]
    },
    {
     "name": "stdout",
     "output_type": "stream",
     "text": [
      "✅ Updated and saved new grid at ../backend/landscapes/mlp_5_5_5_5/two_blobs_overlap/train/range5/ep460\n",
      "Done: two_blobs_overlap, width=5, depth=4, ab_range=5, epoch=460\n",
      "Previously saved model is of lower resolution; recomputing\n"
     ]
    },
    {
     "name": "stderr",
     "output_type": "stream",
     "text": [
      "Outer loop (a): 100%|██████████| 100/100 [00:50<00:00,  1.98it/s]\n"
     ]
    },
    {
     "name": "stdout",
     "output_type": "stream",
     "text": [
      "✅ Updated and saved new grid at ../backend/landscapes/mlp_5/spirals/train/range0.2/ep660\n",
      "Done: spirals, width=5, depth=1, ab_range=0.2, epoch=660\n",
      "Previously saved model is of lower resolution; recomputing\n"
     ]
    },
    {
     "name": "stderr",
     "output_type": "stream",
     "text": [
      "Outer loop (a): 100%|██████████| 100/100 [00:49<00:00,  2.03it/s]\n"
     ]
    },
    {
     "name": "stdout",
     "output_type": "stream",
     "text": [
      "✅ Updated and saved new grid at ../backend/landscapes/mlp_5/spirals/train/range0.5/ep580\n",
      "Done: spirals, width=5, depth=1, ab_range=0.5, epoch=580\n",
      "Previously saved model is of lower resolution; recomputing\n"
     ]
    },
    {
     "name": "stderr",
     "output_type": "stream",
     "text": [
      "Outer loop (a): 100%|██████████| 100/100 [00:51<00:00,  1.93it/s]\n"
     ]
    },
    {
     "name": "stdout",
     "output_type": "stream",
     "text": [
      "✅ Updated and saved new grid at ../backend/landscapes/mlp_5_5/half_moons/train/range0.2/ep730\n",
      "Done: half_moons, width=5, depth=2, ab_range=0.2, epoch=730\n",
      "Previously saved model is of lower resolution; recomputing\n"
     ]
    },
    {
     "name": "stderr",
     "output_type": "stream",
     "text": [
      "Outer loop (a): 100%|██████████| 100/100 [00:49<00:00,  2.01it/s]\n"
     ]
    },
    {
     "name": "stdout",
     "output_type": "stream",
     "text": [
      "✅ Updated and saved new grid at ../backend/landscapes/mlp_5_5/half_moons/train/range0.2/ep950\n",
      "Done: half_moons, width=5, depth=2, ab_range=0.2, epoch=950\n",
      "Previously saved model is of lower resolution; recomputing\n"
     ]
    },
    {
     "name": "stderr",
     "output_type": "stream",
     "text": [
      "Outer loop (a): 100%|██████████| 100/100 [00:49<00:00,  2.03it/s]\n"
     ]
    },
    {
     "name": "stdout",
     "output_type": "stream",
     "text": [
      "✅ Updated and saved new grid at ../backend/landscapes/mlp_5_5/two_blobs_separate/train/range0.2/ep70\n",
      "Done: two_blobs_separate, width=5, depth=2, ab_range=0.2, epoch=70\n",
      "Previously saved model is of lower resolution; recomputing\n"
     ]
    },
    {
     "name": "stderr",
     "output_type": "stream",
     "text": [
      "Outer loop (a): 100%|██████████| 100/100 [00:51<00:00,  1.93it/s]\n"
     ]
    },
    {
     "name": "stdout",
     "output_type": "stream",
     "text": [
      "✅ Updated and saved new grid at ../backend/landscapes/mlp_5_5/four_corners/train/range0.2/ep310\n",
      "Done: four_corners, width=5, depth=2, ab_range=0.2, epoch=310\n"
     ]
    },
    {
     "name": "stderr",
     "output_type": "stream",
     "text": [
      "Outer loop (a):  15%|█▌        | 15/100 [00:07<00:39,  2.17it/s]"
     ]
    },
    {
     "name": "stdout",
     "output_type": "stream",
     "text": [
      "Previously saved model is of lower resolution; recomputing\n"
     ]
    },
    {
     "name": "stderr",
     "output_type": "stream",
     "text": [
      "Outer loop (a): 100%|██████████| 100/100 [00:48<00:00,  2.08it/s]\n"
     ]
    },
    {
     "name": "stdout",
     "output_type": "stream",
     "text": [
      "✅ Updated and saved new grid at ../backend/landscapes/mlp_5/two_blobs_overlap/train/range0.5/ep20\n",
      "Done: two_blobs_overlap, width=5, depth=1, ab_range=0.5, epoch=20\n",
      "Previously saved model is of lower resolution; recomputing\n"
     ]
    },
    {
     "name": "stderr",
     "output_type": "stream",
     "text": [
      "Outer loop (a): 100%|██████████| 100/100 [00:48<00:00,  2.06it/s]\n"
     ]
    },
    {
     "name": "stdout",
     "output_type": "stream",
     "text": [
      "✅ Updated and saved new grid at ../backend/landscapes/mlp_5/spirals/train/range0.2/ep670\n",
      "Done: spirals, width=5, depth=1, ab_range=0.2, epoch=670\n",
      "Previously saved model is of lower resolution; recomputing\n"
     ]
    },
    {
     "name": "stderr",
     "output_type": "stream",
     "text": [
      "Outer loop (a): 100%|██████████| 100/100 [00:54<00:00,  1.85it/s]\n"
     ]
    },
    {
     "name": "stdout",
     "output_type": "stream",
     "text": [
      "✅ Updated and saved new grid at ../backend/landscapes/mlp_5_5_5_5/two_blobs_overlap/train/range5/ep470\n",
      "Done: two_blobs_overlap, width=5, depth=4, ab_range=5, epoch=470\n",
      "Previously saved model is of lower resolution; recomputing\n"
     ]
    },
    {
     "name": "stderr",
     "output_type": "stream",
     "text": [
      "Outer loop (a): 100%|██████████| 100/100 [00:47<00:00,  2.11it/s]\n"
     ]
    },
    {
     "name": "stdout",
     "output_type": "stream",
     "text": [
      "✅ Updated and saved new grid at ../backend/landscapes/mlp_5/spirals/train/range0.5/ep590\n",
      "Done: spirals, width=5, depth=1, ab_range=0.5, epoch=590\n",
      "Previously saved model is of lower resolution; recomputing\n"
     ]
    },
    {
     "name": "stderr",
     "output_type": "stream",
     "text": [
      "Outer loop (a): 100%|██████████| 100/100 [00:50<00:00,  1.97it/s]\n"
     ]
    },
    {
     "name": "stdout",
     "output_type": "stream",
     "text": [
      "✅ Updated and saved new grid at ../backend/landscapes/mlp_5_5/half_moons/train/range0.2/ep740\n",
      "Done: half_moons, width=5, depth=2, ab_range=0.2, epoch=740\n",
      "Previously saved model is of lower resolution; recomputing\n"
     ]
    },
    {
     "name": "stderr",
     "output_type": "stream",
     "text": [
      "Outer loop (a): 100%|██████████| 100/100 [00:50<00:00,  2.00it/s]\n"
     ]
    },
    {
     "name": "stdout",
     "output_type": "stream",
     "text": [
      "✅ Updated and saved new grid at ../backend/landscapes/mlp_5_5/half_moons/train/range0.2/ep960\n",
      "Done: half_moons, width=5, depth=2, ab_range=0.2, epoch=960\n",
      "Previously saved model is of lower resolution; recomputing\n"
     ]
    },
    {
     "name": "stderr",
     "output_type": "stream",
     "text": [
      "Outer loop (a): 100%|██████████| 100/100 [00:50<00:00,  1.99it/s]\n"
     ]
    },
    {
     "name": "stdout",
     "output_type": "stream",
     "text": [
      "✅ Updated and saved new grid at ../backend/landscapes/mlp_5_5/two_blobs_separate/train/range0.2/ep80\n",
      "Done: two_blobs_separate, width=5, depth=2, ab_range=0.2, epoch=80\n",
      "Previously saved model is of lower resolution; recomputing\n"
     ]
    },
    {
     "name": "stderr",
     "output_type": "stream",
     "text": [
      "Outer loop (a): 100%|██████████| 100/100 [00:50<00:00,  2.00it/s]\n"
     ]
    },
    {
     "name": "stdout",
     "output_type": "stream",
     "text": [
      "✅ Updated and saved new grid at ../backend/landscapes/mlp_5_5/four_corners/train/range0.2/ep320\n",
      "Done: four_corners, width=5, depth=2, ab_range=0.2, epoch=320\n",
      "Previously saved model is of lower resolution; recomputing\n"
     ]
    },
    {
     "name": "stderr",
     "output_type": "stream",
     "text": [
      "Outer loop (a): 100%|██████████| 100/100 [00:48<00:00,  2.05it/s]\n"
     ]
    },
    {
     "name": "stdout",
     "output_type": "stream",
     "text": [
      "✅ Updated and saved new grid at ../backend/landscapes/mlp_5/two_blobs_overlap/train/range0.5/ep30\n",
      "Done: two_blobs_overlap, width=5, depth=1, ab_range=0.5, epoch=30\n",
      "Previously saved model is of lower resolution; recomputing\n"
     ]
    },
    {
     "name": "stderr",
     "output_type": "stream",
     "text": [
      "Outer loop (a): 100%|██████████| 100/100 [00:47<00:00,  2.08it/s]\n"
     ]
    },
    {
     "name": "stdout",
     "output_type": "stream",
     "text": [
      "✅ Updated and saved new grid at ../backend/landscapes/mlp_5/spirals/train/range0.2/ep680\n",
      "Done: spirals, width=5, depth=1, ab_range=0.2, epoch=680\n",
      "Previously saved model is of lower resolution; recomputing\n"
     ]
    },
    {
     "name": "stderr",
     "output_type": "stream",
     "text": [
      "Outer loop (a): 100%|██████████| 100/100 [00:48<00:00,  2.05it/s]\n"
     ]
    },
    {
     "name": "stdout",
     "output_type": "stream",
     "text": [
      "✅ Updated and saved new grid at ../backend/landscapes/mlp_5/spirals/train/range0.5/ep600\n",
      "Done: spirals, width=5, depth=1, ab_range=0.5, epoch=600\n",
      "Previously saved model is of lower resolution; recomputing\n"
     ]
    },
    {
     "name": "stderr",
     "output_type": "stream",
     "text": [
      "Outer loop (a): 100%|██████████| 100/100 [00:55<00:00,  1.80it/s]\n"
     ]
    },
    {
     "name": "stdout",
     "output_type": "stream",
     "text": [
      "✅ Updated and saved new grid at ../backend/landscapes/mlp_5_5_5_5/two_blobs_overlap/train/range5/ep480\n",
      "Done: two_blobs_overlap, width=5, depth=4, ab_range=5, epoch=480\n",
      "Previously saved model is of lower resolution; recomputing\n"
     ]
    },
    {
     "name": "stderr",
     "output_type": "stream",
     "text": [
      "Outer loop (a): 100%|██████████| 100/100 [00:49<00:00,  2.02it/s]\n"
     ]
    },
    {
     "name": "stdout",
     "output_type": "stream",
     "text": [
      "✅ Updated and saved new grid at ../backend/landscapes/mlp_5_5/four_corners/train/range0.2/ep330\n",
      "Done: four_corners, width=5, depth=2, ab_range=0.2, epoch=330\n",
      "Previously saved model is of lower resolution; recomputing\n"
     ]
    },
    {
     "name": "stderr",
     "output_type": "stream",
     "text": [
      "Outer loop (a): 100%|██████████| 100/100 [00:51<00:00,  1.96it/s]\n"
     ]
    },
    {
     "name": "stdout",
     "output_type": "stream",
     "text": [
      "✅ Updated and saved new grid at ../backend/landscapes/mlp_5_5/half_moons/train/range0.2/ep970\n",
      "Done: half_moons, width=5, depth=2, ab_range=0.2, epoch=970\n",
      "Previously saved model is of lower resolution; recomputing\n"
     ]
    },
    {
     "name": "stderr",
     "output_type": "stream",
     "text": [
      "Outer loop (a): 100%|██████████| 100/100 [00:50<00:00,  1.96it/s]\n"
     ]
    },
    {
     "name": "stdout",
     "output_type": "stream",
     "text": [
      "✅ Updated and saved new grid at ../backend/landscapes/mlp_5_5/two_blobs_separate/train/range0.2/ep90\n",
      "Done: two_blobs_separate, width=5, depth=2, ab_range=0.2, epoch=90\n"
     ]
    },
    {
     "name": "stderr",
     "output_type": "stream",
     "text": [
      "Outer loop (a):  35%|███▌      | 35/100 [00:16<00:29,  2.21it/s]"
     ]
    },
    {
     "name": "stdout",
     "output_type": "stream",
     "text": [
      "Previously saved model is of lower resolution; recomputing\n"
     ]
    },
    {
     "name": "stderr",
     "output_type": "stream",
     "text": [
      "Outer loop (a): 100%|██████████| 100/100 [00:52<00:00,  1.92it/s]\n"
     ]
    },
    {
     "name": "stdout",
     "output_type": "stream",
     "text": [
      "✅ Updated and saved new grid at ../backend/landscapes/mlp_5_5/half_moons/train/range0.2/ep750\n",
      "Done: half_moons, width=5, depth=2, ab_range=0.2, epoch=750\n",
      "Previously saved model is of lower resolution; recomputing\n"
     ]
    },
    {
     "name": "stderr",
     "output_type": "stream",
     "text": [
      "Outer loop (a): 100%|██████████| 100/100 [00:47<00:00,  2.10it/s]\n"
     ]
    },
    {
     "name": "stdout",
     "output_type": "stream",
     "text": [
      "✅ Updated and saved new grid at ../backend/landscapes/mlp_5/two_blobs_overlap/train/range0.5/ep40\n",
      "Done: two_blobs_overlap, width=5, depth=1, ab_range=0.5, epoch=40\n",
      "Previously saved model is of lower resolution; recomputing\n"
     ]
    },
    {
     "name": "stderr",
     "output_type": "stream",
     "text": [
      "Outer loop (a): 100%|██████████| 100/100 [00:48<00:00,  2.04it/s]\n"
     ]
    },
    {
     "name": "stdout",
     "output_type": "stream",
     "text": [
      "✅ Updated and saved new grid at ../backend/landscapes/mlp_5/spirals/train/range0.2/ep690\n",
      "Done: spirals, width=5, depth=1, ab_range=0.2, epoch=690\n",
      "Previously saved model is of lower resolution; recomputing\n"
     ]
    },
    {
     "name": "stderr",
     "output_type": "stream",
     "text": [
      "Outer loop (a): 100%|██████████| 100/100 [00:48<00:00,  2.07it/s]\n"
     ]
    },
    {
     "name": "stdout",
     "output_type": "stream",
     "text": [
      "✅ Updated and saved new grid at ../backend/landscapes/mlp_5/spirals/train/range0.5/ep610\n"
     ]
    },
    {
     "name": "stderr",
     "output_type": "stream",
     "text": [
      "Outer loop (a):  69%|██████▉   | 69/100 [00:39<00:19,  1.62it/s]"
     ]
    },
    {
     "name": "stdout",
     "output_type": "stream",
     "text": [
      "Done: spirals, width=5, depth=1, ab_range=0.5, epoch=610\n",
      "Previously saved model is of lower resolution; recomputing\n"
     ]
    },
    {
     "name": "stderr",
     "output_type": "stream",
     "text": [
      "Outer loop (a): 100%|██████████| 100/100 [00:50<00:00,  1.97it/s]\n"
     ]
    },
    {
     "name": "stdout",
     "output_type": "stream",
     "text": [
      "✅ Updated and saved new grid at ../backend/landscapes/mlp_5_5/four_corners/train/range0.2/ep340\n",
      "Done: four_corners, width=5, depth=2, ab_range=0.2, epoch=340\n",
      "Previously saved model is of lower resolution; recomputing\n"
     ]
    },
    {
     "name": "stderr",
     "output_type": "stream",
     "text": [
      "Outer loop (a): 100%|██████████| 100/100 [00:53<00:00,  1.86it/s]\n"
     ]
    },
    {
     "name": "stdout",
     "output_type": "stream",
     "text": [
      "✅ Updated and saved new grid at ../backend/landscapes/mlp_5_5_5_5/two_blobs_overlap/train/range5/ep490\n",
      "Done: two_blobs_overlap, width=5, depth=4, ab_range=5, epoch=490\n",
      "Previously saved model is of lower resolution; recomputing\n"
     ]
    },
    {
     "name": "stderr",
     "output_type": "stream",
     "text": [
      "Outer loop (a): 100%|██████████| 100/100 [00:51<00:00,  1.96it/s]\n"
     ]
    },
    {
     "name": "stdout",
     "output_type": "stream",
     "text": [
      "✅ Updated and saved new grid at ../backend/landscapes/mlp_5_5/two_blobs_separate/train/range0.2/ep100\n",
      "Done: two_blobs_separate, width=5, depth=2, ab_range=0.2, epoch=100\n",
      "Previously saved model is of lower resolution; recomputing\n"
     ]
    },
    {
     "name": "stderr",
     "output_type": "stream",
     "text": [
      "Outer loop (a): 100%|██████████| 100/100 [00:53<00:00,  1.87it/s]\n"
     ]
    },
    {
     "name": "stdout",
     "output_type": "stream",
     "text": [
      "✅ Updated and saved new grid at ../backend/landscapes/mlp_5_5/half_moons/train/range0.2/ep980\n",
      "Done: half_moons, width=5, depth=2, ab_range=0.2, epoch=980\n",
      "Previously saved model is of lower resolution; recomputing\n"
     ]
    },
    {
     "name": "stderr",
     "output_type": "stream",
     "text": [
      "Outer loop (a): 100%|██████████| 100/100 [00:56<00:00,  1.79it/s]\n"
     ]
    },
    {
     "name": "stdout",
     "output_type": "stream",
     "text": [
      "✅ Updated and saved new grid at ../backend/landscapes/mlp_5_5_5_5/two_blobs_overlap/train/range0.2/ep130\n",
      "Done: two_blobs_overlap, width=5, depth=4, ab_range=0.2, epoch=130\n",
      "Previously saved model is of lower resolution; recomputing\n"
     ]
    },
    {
     "name": "stderr",
     "output_type": "stream",
     "text": [
      "Outer loop (a): 100%|██████████| 100/100 [00:46<00:00,  2.14it/s]\n"
     ]
    },
    {
     "name": "stdout",
     "output_type": "stream",
     "text": [
      "✅ Updated and saved new grid at ../backend/landscapes/mlp_5/two_blobs_overlap/train/range0.5/ep50\n",
      "Done: two_blobs_overlap, width=5, depth=1, ab_range=0.5, epoch=50\n",
      "Previously saved model is of lower resolution; recomputing\n"
     ]
    },
    {
     "name": "stderr",
     "output_type": "stream",
     "text": [
      "Outer loop (a): 100%|██████████| 100/100 [00:48<00:00,  2.04it/s]\n"
     ]
    },
    {
     "name": "stdout",
     "output_type": "stream",
     "text": [
      "✅ Updated and saved new grid at ../backend/landscapes/mlp_5/spirals/train/range0.2/ep700\n",
      "Done: spirals, width=5, depth=1, ab_range=0.2, epoch=700\n",
      "Previously saved model is of lower resolution; recomputing\n"
     ]
    },
    {
     "name": "stderr",
     "output_type": "stream",
     "text": [
      "Outer loop (a): 100%|██████████| 100/100 [00:48<00:00,  2.04it/s]\n"
     ]
    },
    {
     "name": "stdout",
     "output_type": "stream",
     "text": [
      "✅ Updated and saved new grid at ../backend/landscapes/mlp_5/spirals/train/range0.5/ep620\n",
      "Done: spirals, width=5, depth=1, ab_range=0.5, epoch=620\n",
      "Previously saved model is of lower resolution; recomputing\n"
     ]
    },
    {
     "name": "stderr",
     "output_type": "stream",
     "text": [
      "Outer loop (a): 100%|██████████| 100/100 [00:49<00:00,  2.03it/s]\n"
     ]
    },
    {
     "name": "stdout",
     "output_type": "stream",
     "text": [
      "✅ Updated and saved new grid at ../backend/landscapes/mlp_5_5/four_corners/train/range0.2/ep350\n",
      "Done: four_corners, width=5, depth=2, ab_range=0.2, epoch=350\n",
      "Previously saved model is of lower resolution; recomputing\n"
     ]
    },
    {
     "name": "stderr",
     "output_type": "stream",
     "text": [
      "Outer loop (a): 100%|██████████| 100/100 [00:50<00:00,  1.99it/s]\n"
     ]
    },
    {
     "name": "stdout",
     "output_type": "stream",
     "text": [
      "✅ Updated and saved new grid at ../backend/landscapes/mlp_5_5/two_blobs_separate/train/range0.2/ep110\n",
      "Done: two_blobs_separate, width=5, depth=2, ab_range=0.2, epoch=110\n",
      "Previously saved model is of lower resolution; recomputing\n"
     ]
    },
    {
     "name": "stderr",
     "output_type": "stream",
     "text": [
      "Outer loop (a): 100%|██████████| 100/100 [00:53<00:00,  1.87it/s]\n"
     ]
    },
    {
     "name": "stdout",
     "output_type": "stream",
     "text": [
      "✅ Updated and saved new grid at ../backend/landscapes/mlp_5_5_5_5/two_blobs_overlap/train/range5/ep500\n",
      "Done: two_blobs_overlap, width=5, depth=4, ab_range=5, epoch=500\n",
      "Previously saved model is of lower resolution; recomputing\n"
     ]
    },
    {
     "name": "stderr",
     "output_type": "stream",
     "text": [
      "Outer loop (a): 100%|██████████| 100/100 [00:50<00:00,  1.96it/s]\n"
     ]
    },
    {
     "name": "stdout",
     "output_type": "stream",
     "text": [
      "✅ Updated and saved new grid at ../backend/landscapes/mlp_5_5/half_moons/train/range0.2/ep990"
     ]
    },
    {
     "name": "stderr",
     "output_type": "stream",
     "text": [
      "Outer loop (a):  10%|█         | 10/100 [00:04<00:48,  1.84it/s]"
     ]
    },
    {
     "name": "stdout",
     "output_type": "stream",
     "text": [
      "\n",
      "Done: half_moons, width=5, depth=2, ab_range=0.2, epoch=990\n"
     ]
    },
    {
     "name": "stderr",
     "output_type": "stream",
     "text": [
      "Outer loop (a):  54%|█████▍    | 54/100 [00:26<00:21,  2.13it/s]"
     ]
    },
    {
     "name": "stdout",
     "output_type": "stream",
     "text": [
      "Previously saved model is of lower resolution; recomputing\n"
     ]
    },
    {
     "name": "stderr",
     "output_type": "stream",
     "text": [
      "Outer loop (a): 100%|██████████| 100/100 [00:53<00:00,  1.89it/s]\n"
     ]
    },
    {
     "name": "stdout",
     "output_type": "stream",
     "text": [
      "✅ Updated and saved new grid at ../backend/landscapes/mlp_5_5_5_5/two_blobs_overlap/train/range0.2/ep140\n",
      "Done: two_blobs_overlap, width=5, depth=4, ab_range=0.2, epoch=140\n",
      "Previously saved model is of lower resolution; recomputing\n"
     ]
    },
    {
     "name": "stderr",
     "output_type": "stream",
     "text": [
      "Outer loop (a): 100%|██████████| 100/100 [00:49<00:00,  2.02it/s]\n"
     ]
    },
    {
     "name": "stdout",
     "output_type": "stream",
     "text": [
      "✅ Updated and saved new grid at ../backend/landscapes/mlp_5/two_blobs_overlap/train/range0.5/ep60\n",
      "Done: two_blobs_overlap, width=5, depth=1, ab_range=0.5, epoch=60\n",
      "Previously saved model is of lower resolution; recomputing\n"
     ]
    },
    {
     "name": "stderr",
     "output_type": "stream",
     "text": [
      "Outer loop (a): 100%|██████████| 100/100 [00:47<00:00,  2.10it/s]\n"
     ]
    },
    {
     "name": "stdout",
     "output_type": "stream",
     "text": [
      "✅ Updated and saved new grid at ../backend/landscapes/mlp_5/spirals/train/range0.2/ep710\n",
      "Done: spirals, width=5, depth=1, ab_range=0.2, epoch=710\n",
      "Previously saved model is of lower resolution; recomputing\n"
     ]
    },
    {
     "name": "stderr",
     "output_type": "stream",
     "text": [
      "Outer loop (a): 100%|██████████| 100/100 [00:48<00:00,  2.05it/s]\n"
     ]
    },
    {
     "name": "stdout",
     "output_type": "stream",
     "text": [
      "✅ Updated and saved new grid at ../backend/landscapes/mlp_5/spirals/train/range0.5/ep630\n",
      "Done: spirals, width=5, depth=1, ab_range=0.5, epoch=630\n",
      "Previously saved model is of lower resolution; recomputing\n"
     ]
    },
    {
     "name": "stderr",
     "output_type": "stream",
     "text": [
      "Outer loop (a): 100%|██████████| 100/100 [00:47<00:00,  2.11it/s]\n"
     ]
    },
    {
     "name": "stdout",
     "output_type": "stream",
     "text": [
      "✅ Updated and saved new grid at ../backend/landscapes/mlp_5_5/four_corners/train/range0.2/ep360\n",
      "Done: four_corners, width=5, depth=2, ab_range=0.2, epoch=360\n",
      "Previously saved model is of lower resolution; recomputing\n"
     ]
    },
    {
     "name": "stderr",
     "output_type": "stream",
     "text": [
      "Outer loop (a): 100%|██████████| 100/100 [00:49<00:00,  2.04it/s]\n"
     ]
    },
    {
     "name": "stdout",
     "output_type": "stream",
     "text": [
      "✅ Updated and saved new grid at ../backend/landscapes/mlp_5_5/two_blobs_separate/train/range0.2/ep120\n",
      "Done: two_blobs_separate, width=5, depth=2, ab_range=0.2, epoch=120\n",
      "Previously saved model is of lower resolution; recomputing\n"
     ]
    },
    {
     "name": "stderr",
     "output_type": "stream",
     "text": [
      "Outer loop (a): 100%|██████████| 100/100 [00:49<00:00,  2.01it/s]\n"
     ]
    },
    {
     "name": "stdout",
     "output_type": "stream",
     "text": [
      "✅ Updated and saved new grid at ../backend/landscapes/mlp_5_5/half_moons/train/range0.2/ep1000"
     ]
    },
    {
     "name": "stderr",
     "output_type": "stream",
     "text": [
      "Outer loop (a):  40%|████      | 40/100 [00:19<00:29,  2.03it/s]"
     ]
    },
    {
     "name": "stdout",
     "output_type": "stream",
     "text": [
      "\n",
      "Done: half_moons, width=5, depth=2, ab_range=0.2, epoch=1000\n",
      "Previously saved model is of lower resolution; recomputing\n"
     ]
    },
    {
     "name": "stderr",
     "output_type": "stream",
     "text": [
      "Outer loop (a): 100%|██████████| 100/100 [00:53<00:00,  1.86it/s]\n"
     ]
    },
    {
     "name": "stdout",
     "output_type": "stream",
     "text": [
      "✅ Updated and saved new grid at ../backend/landscapes/mlp_5_5_5_5/two_blobs_overlap/train/range5/ep510\n",
      "Done: two_blobs_overlap, width=5, depth=4, ab_range=5, epoch=510\n",
      "Previously saved model is of lower resolution; recomputing\n"
     ]
    },
    {
     "name": "stderr",
     "output_type": "stream",
     "text": [
      "Outer loop (a): 100%|██████████| 100/100 [00:52<00:00,  1.91it/s]\n"
     ]
    },
    {
     "name": "stdout",
     "output_type": "stream",
     "text": [
      "✅ Updated and saved new grid at ../backend/landscapes/mlp_5_5_5_5/two_blobs_overlap/train/range0.2/ep150\n",
      "Done: two_blobs_overlap, width=5, depth=4, ab_range=0.2, epoch=150\n",
      "Previously saved model is of lower resolution; recomputing\n"
     ]
    },
    {
     "name": "stderr",
     "output_type": "stream",
     "text": [
      "Outer loop (a): 100%|██████████| 100/100 [00:48<00:00,  2.07it/s]\n"
     ]
    },
    {
     "name": "stdout",
     "output_type": "stream",
     "text": [
      "✅ Updated and saved new grid at ../backend/landscapes/mlp_5/two_blobs_overlap/train/range0.5/ep70\n",
      "Done: two_blobs_overlap, width=5, depth=1, ab_range=0.5, epoch=70\n",
      "Previously saved model is of lower resolution; recomputing\n"
     ]
    },
    {
     "name": "stderr",
     "output_type": "stream",
     "text": [
      "Outer loop (a): 100%|██████████| 100/100 [00:47<00:00,  2.11it/s]\n"
     ]
    },
    {
     "name": "stdout",
     "output_type": "stream",
     "text": [
      "✅ Updated and saved new grid at ../backend/landscapes/mlp_5/spirals/train/range0.2/ep720\n",
      "Done: spirals, width=5, depth=1, ab_range=0.2, epoch=720\n",
      "Previously saved model is of lower resolution; recomputing\n"
     ]
    },
    {
     "name": "stderr",
     "output_type": "stream",
     "text": [
      "Outer loop (a): 100%|██████████| 100/100 [00:47<00:00,  2.10it/s]\n"
     ]
    },
    {
     "name": "stdout",
     "output_type": "stream",
     "text": [
      "✅ Updated and saved new grid at ../backend/landscapes/mlp_5/spirals/train/range0.5/ep640\n"
     ]
    },
    {
     "name": "stderr",
     "output_type": "stream",
     "text": [
      "Outer loop (a):  21%|██        | 21/100 [00:09<00:38,  2.03it/s]"
     ]
    },
    {
     "name": "stdout",
     "output_type": "stream",
     "text": [
      "Done: spirals, width=5, depth=1, ab_range=0.5, epoch=640\n",
      "Previously saved model is of lower resolution; recomputing\n"
     ]
    },
    {
     "name": "stderr",
     "output_type": "stream",
     "text": [
      "Outer loop (a): 100%|██████████| 100/100 [00:50<00:00,  1.98it/s]\n"
     ]
    },
    {
     "name": "stdout",
     "output_type": "stream",
     "text": [
      "✅ Updated and saved new grid at ../backend/landscapes/mlp_5_5/four_corners/train/range0.2/ep370\n",
      "Done: four_corners, width=5, depth=2, ab_range=0.2, epoch=370\n",
      "Previously saved model is of lower resolution; recomputing\n"
     ]
    },
    {
     "name": "stderr",
     "output_type": "stream",
     "text": [
      "Outer loop (a): 100%|██████████| 100/100 [00:51<00:00,  1.94it/s]\n",
      "Outer loop (a):  97%|█████████▋| 97/100 [00:48<00:01,  1.90it/s]"
     ]
    },
    {
     "name": "stdout",
     "output_type": "stream",
     "text": [
      "✅ Updated and saved new grid at ../backend/landscapes/mlp_5_5/two_blobs_separate/train/range0.2/ep130\n",
      "Done: two_blobs_separate, width=5, depth=2, ab_range=0.2, epoch=130"
     ]
    },
    {
     "name": "stderr",
     "output_type": "stream",
     "text": [
      "Outer loop (a):  73%|███████▎  | 73/100 [00:40<00:16,  1.63it/s]"
     ]
    },
    {
     "name": "stdout",
     "output_type": "stream",
     "text": [
      "\n",
      "Previously saved model is of lower resolution; recomputing\n"
     ]
    },
    {
     "name": "stderr",
     "output_type": "stream",
     "text": [
      "Outer loop (a): 100%|██████████| 100/100 [00:49<00:00,  2.02it/s]\n"
     ]
    },
    {
     "name": "stdout",
     "output_type": "stream",
     "text": [
      "✅ Updated and saved new grid at ../backend/landscapes/mlp_5_5/half_moons/train/range0.5/ep0\n",
      "Done: half_moons, width=5, depth=2, ab_range=0.5, epoch=0\n",
      "Previously saved model is of lower resolution; recomputing\n"
     ]
    },
    {
     "name": "stderr",
     "output_type": "stream",
     "text": [
      "Outer loop (a): 100%|██████████| 100/100 [00:54<00:00,  1.83it/s]\n"
     ]
    },
    {
     "name": "stdout",
     "output_type": "stream",
     "text": [
      "✅ Updated and saved new grid at ../backend/landscapes/mlp_5_5_5_5/two_blobs_overlap/train/range5/ep520\n",
      "Done: two_blobs_overlap, width=5, depth=4, ab_range=5, epoch=520\n",
      "Previously saved model is of lower resolution; recomputing\n"
     ]
    },
    {
     "name": "stderr",
     "output_type": "stream",
     "text": [
      "Outer loop (a): 100%|██████████| 100/100 [00:54<00:00,  1.85it/s]\n"
     ]
    },
    {
     "name": "stdout",
     "output_type": "stream",
     "text": [
      "✅ Updated and saved new grid at ../backend/landscapes/mlp_5_5_5_5/two_blobs_overlap/train/range0.2/ep160\n",
      "Done: two_blobs_overlap, width=5, depth=4, ab_range=0.2, epoch=160\n",
      "Previously saved model is of lower resolution; recomputing\n"
     ]
    },
    {
     "name": "stderr",
     "output_type": "stream",
     "text": [
      "Outer loop (a): 100%|██████████| 100/100 [00:47<00:00,  2.09it/s]\n"
     ]
    },
    {
     "name": "stdout",
     "output_type": "stream",
     "text": [
      "✅ Updated and saved new grid at ../backend/landscapes/mlp_5/two_blobs_overlap/train/range0.5/ep80\n",
      "Done: two_blobs_overlap, width=5, depth=1, ab_range=0.5, epoch=80\n",
      "Previously saved model is of lower resolution; recomputing\n"
     ]
    },
    {
     "name": "stderr",
     "output_type": "stream",
     "text": [
      "Outer loop (a): 100%|██████████| 100/100 [00:47<00:00,  2.10it/s]\n"
     ]
    },
    {
     "name": "stdout",
     "output_type": "stream",
     "text": [
      "✅ Updated and saved new grid at ../backend/landscapes/mlp_5/spirals/train/range0.2/ep730\n",
      "Done: spirals, width=5, depth=1, ab_range=0.2, epoch=730\n",
      "Previously saved model is of lower resolution; recomputing\n"
     ]
    },
    {
     "name": "stderr",
     "output_type": "stream",
     "text": [
      "Outer loop (a): 100%|██████████| 100/100 [00:45<00:00,  2.18it/s]\n"
     ]
    },
    {
     "name": "stdout",
     "output_type": "stream",
     "text": [
      "✅ Updated and saved new grid at ../backend/landscapes/mlp_5/spirals/train/range0.5/ep650\n",
      "Done: spirals, width=5, depth=1, ab_range=0.5, epoch=650\n",
      "Previously saved model is of lower resolution; recomputing\n"
     ]
    },
    {
     "name": "stderr",
     "output_type": "stream",
     "text": [
      "Outer loop (a): 100%|██████████| 100/100 [00:49<00:00,  2.01it/s]\n"
     ]
    },
    {
     "name": "stdout",
     "output_type": "stream",
     "text": [
      "✅ Updated and saved new grid at ../backend/landscapes/mlp_5_5/four_corners/train/range0.2/ep380\n",
      "Done: four_corners, width=5, depth=2, ab_range=0.2, epoch=380\n",
      "Previously saved model is of lower resolution; recomputing\n"
     ]
    },
    {
     "name": "stderr",
     "output_type": "stream",
     "text": [
      "Outer loop (a): 100%|██████████| 100/100 [00:49<00:00,  2.01it/s]\n"
     ]
    },
    {
     "name": "stdout",
     "output_type": "stream",
     "text": [
      "✅ Updated and saved new grid at ../backend/landscapes/mlp_5_5/two_blobs_separate/train/range0.2/ep140\n",
      "Done: two_blobs_separate, width=5, depth=2, ab_range=0.2, epoch=140\n",
      "Previously saved model is of lower resolution; recomputing\n"
     ]
    },
    {
     "name": "stderr",
     "output_type": "stream",
     "text": [
      "Outer loop (a): 100%|██████████| 100/100 [00:50<00:00,  2.00it/s]\n"
     ]
    },
    {
     "name": "stdout",
     "output_type": "stream",
     "text": [
      "✅ Updated and saved new grid at ../backend/landscapes/mlp_5_5/half_moons/train/range0.5/ep10\n",
      "Done: half_moons, width=5, depth=2, ab_range=0.5, epoch=10\n",
      "Previously saved model is of lower resolution; recomputing\n"
     ]
    },
    {
     "name": "stderr",
     "output_type": "stream",
     "text": [
      "Outer loop (a):  93%|█████████▎| 93/100 [00:43<00:03,  1.91it/s]]\n"
     ]
    },
    {
     "name": "stdout",
     "output_type": "stream",
     "text": [
      "✅ Updated and saved new grid at ../backend/landscapes/mlp_5_5_5_5/two_blobs_overlap/train/range5/ep530\n",
      "Done: two_blobs_overlap, width=5, depth=4, ab_range=5, epoch=530\n",
      "Previously saved model is of lower resolution; recomputing\n"
     ]
    },
    {
     "name": "stderr",
     "output_type": "stream",
     "text": [
      "Outer loop (a): 100%|██████████| 100/100 [00:46<00:00,  2.16it/s]\n"
     ]
    },
    {
     "name": "stdout",
     "output_type": "stream",
     "text": [
      "✅ Updated and saved new grid at ../backend/landscapes/mlp_5/two_blobs_overlap/train/range0.5/ep90\n",
      "Done: two_blobs_overlap, width=5, depth=1, ab_range=0.5, epoch=90\n",
      "Previously saved model is of lower resolution; recomputing\n"
     ]
    },
    {
     "name": "stderr",
     "output_type": "stream",
     "text": [
      "Outer loop (a): 100%|██████████| 100/100 [00:54<00:00,  1.82it/s]\n"
     ]
    },
    {
     "name": "stdout",
     "output_type": "stream",
     "text": [
      "✅ Updated and saved new grid at ../backend/landscapes/mlp_5_5_5_5/two_blobs_overlap/train/range0.2/ep170\n",
      "Done: two_blobs_overlap, width=5, depth=4, ab_range=0.2, epoch=170\n",
      "Previously saved model is of lower resolution; recomputing\n"
     ]
    },
    {
     "name": "stderr",
     "output_type": "stream",
     "text": [
      "Outer loop (a): 100%|██████████| 100/100 [00:47<00:00,  2.11it/s]\n"
     ]
    },
    {
     "name": "stdout",
     "output_type": "stream",
     "text": [
      "✅ Updated and saved new grid at ../backend/landscapes/mlp_5/spirals/train/range0.2/ep740\n",
      "Done: spirals, width=5, depth=1, ab_range=0.2, epoch=740"
     ]
    },
    {
     "name": "stderr",
     "output_type": "stream",
     "text": [
      "Outer loop (a):  15%|█▌        | 15/100 [00:07<00:34,  2.43it/s]"
     ]
    },
    {
     "name": "stdout",
     "output_type": "stream",
     "text": [
      "\n",
      "Previously saved model is of lower resolution; recomputing\n"
     ]
    },
    {
     "name": "stderr",
     "output_type": "stream",
     "text": [
      "Outer loop (a): 100%|██████████| 100/100 [00:47<00:00,  2.10it/s]\n"
     ]
    },
    {
     "name": "stdout",
     "output_type": "stream",
     "text": [
      "✅ Updated and saved new grid at ../backend/landscapes/mlp_5/spirals/train/range0.5/ep660\n",
      "Done: spirals, width=5, depth=1, ab_range=0.5, epoch=660\n",
      "Previously saved model is of lower resolution; recomputing\n"
     ]
    },
    {
     "name": "stderr",
     "output_type": "stream",
     "text": [
      "Outer loop (a): 100%|██████████| 100/100 [00:47<00:00,  2.09it/s]\n"
     ]
    },
    {
     "name": "stdout",
     "output_type": "stream",
     "text": [
      "✅ Updated and saved new grid at ../backend/landscapes/mlp_5_5/four_corners/train/range0.2/ep390\n",
      "Done: four_corners, width=5, depth=2, ab_range=0.2, epoch=390\n",
      "Previously saved model is of lower resolution; recomputing\n"
     ]
    },
    {
     "name": "stderr",
     "output_type": "stream",
     "text": [
      "Outer loop (a): 100%|██████████| 100/100 [00:49<00:00,  2.04it/s]\n"
     ]
    },
    {
     "name": "stdout",
     "output_type": "stream",
     "text": [
      "✅ Updated and saved new grid at ../backend/landscapes/mlp_5_5/two_blobs_separate/train/range0.2/ep150\n",
      "Done: two_blobs_separate, width=5, depth=2, ab_range=0.2, epoch=150\n",
      "Previously saved model is of lower resolution; recomputing"
     ]
    },
    {
     "name": "stderr",
     "output_type": "stream",
     "text": [
      "Outer loop (a):  51%|█████     | 51/100 [00:23<00:17,  2.73it/s]"
     ]
    },
    {
     "name": "stdout",
     "output_type": "stream",
     "text": [
      "\n"
     ]
    },
    {
     "name": "stderr",
     "output_type": "stream",
     "text": [
      "Outer loop (a): 100%|██████████| 100/100 [00:49<00:00,  2.01it/s]\n"
     ]
    },
    {
     "name": "stdout",
     "output_type": "stream",
     "text": [
      "✅ Updated and saved new grid at ../backend/landscapes/mlp_5_5/half_moons/train/range0.5/ep20\n",
      "Done: half_moons, width=5, depth=2, ab_range=0.5, epoch=20\n",
      "Previously saved model is of lower resolution; recomputing\n"
     ]
    },
    {
     "name": "stderr",
     "output_type": "stream",
     "text": [
      "Outer loop (a): 100%|██████████| 100/100 [00:46<00:00,  2.16it/s]\n"
     ]
    },
    {
     "name": "stdout",
     "output_type": "stream",
     "text": [
      "✅ Updated and saved new grid at ../backend/landscapes/mlp_5/two_blobs_overlap/train/range0.5/ep100\n",
      "Done: two_blobs_overlap, width=5, depth=1, ab_range=0.5, epoch=100\n",
      "Previously saved model is of lower resolution; recomputing\n"
     ]
    },
    {
     "name": "stderr",
     "output_type": "stream",
     "text": [
      "Outer loop (a): 100%|██████████| 100/100 [00:54<00:00,  1.83it/s]\n"
     ]
    },
    {
     "name": "stdout",
     "output_type": "stream",
     "text": [
      "✅ Updated and saved new grid at ../backend/landscapes/mlp_5_5_5_5/two_blobs_overlap/train/range5/ep540\n",
      "Done: two_blobs_overlap, width=5, depth=4, ab_range=5, epoch=540\n",
      "Previously saved model is of lower resolution; recomputing\n"
     ]
    },
    {
     "name": "stderr",
     "output_type": "stream",
     "text": [
      "Outer loop (a): 100%|██████████| 100/100 [00:46<00:00,  2.17it/s]\n"
     ]
    },
    {
     "name": "stdout",
     "output_type": "stream",
     "text": [
      "✅ Updated and saved new grid at ../backend/landscapes/mlp_5/spirals/train/range0.2/ep750\n",
      "Done: spirals, width=5, depth=1, ab_range=0.2, epoch=750\n",
      "Previously saved model is of lower resolution; recomputing\n"
     ]
    },
    {
     "name": "stderr",
     "output_type": "stream",
     "text": [
      "Outer loop (a): 100%|██████████| 100/100 [00:53<00:00,  1.89it/s]\n"
     ]
    },
    {
     "name": "stdout",
     "output_type": "stream",
     "text": [
      "✅ Updated and saved new grid at ../backend/landscapes/mlp_5_5_5_5/two_blobs_overlap/train/range0.2/ep180\n",
      "Done: two_blobs_overlap, width=5, depth=4, ab_range=0.2, epoch=180\n",
      "Previously saved model is of lower resolution; recomputing\n"
     ]
    },
    {
     "name": "stderr",
     "output_type": "stream",
     "text": [
      "Outer loop (a): 100%|██████████| 100/100 [00:48<00:00,  2.07it/s]\n"
     ]
    },
    {
     "name": "stdout",
     "output_type": "stream",
     "text": [
      "✅ Updated and saved new grid at ../backend/landscapes/mlp_5/spirals/train/range0.5/ep670\n",
      "Done: spirals, width=5, depth=1, ab_range=0.5, epoch=670\n",
      "Previously saved model is of lower resolution; recomputing\n"
     ]
    },
    {
     "name": "stderr",
     "output_type": "stream",
     "text": [
      "Outer loop (a): 100%|██████████| 100/100 [00:50<00:00,  1.99it/s]\n"
     ]
    },
    {
     "name": "stdout",
     "output_type": "stream",
     "text": [
      "✅ Updated and saved new grid at ../backend/landscapes/mlp_5_5/four_corners/train/range0.2/ep400\n",
      "Done: four_corners, width=5, depth=2, ab_range=0.2, epoch=400\n",
      "Previously saved model is of lower resolution; recomputing\n"
     ]
    },
    {
     "name": "stderr",
     "output_type": "stream",
     "text": [
      "Outer loop (a): 100%|██████████| 100/100 [00:48<00:00,  2.05it/s]\n"
     ]
    },
    {
     "name": "stdout",
     "output_type": "stream",
     "text": [
      "✅ Updated and saved new grid at ../backend/landscapes/mlp_5_5/two_blobs_separate/train/range0.2/ep160\n",
      "Done: two_blobs_separate, width=5, depth=2, ab_range=0.2, epoch=160\n",
      "Previously saved model is of lower resolution; recomputing\n"
     ]
    },
    {
     "name": "stderr",
     "output_type": "stream",
     "text": [
      "Outer loop (a): 100%|██████████| 100/100 [00:49<00:00,  2.02it/s]\n"
     ]
    },
    {
     "name": "stdout",
     "output_type": "stream",
     "text": [
      "✅ Updated and saved new grid at ../backend/landscapes/mlp_5_5/half_moons/train/range0.5/ep30\n",
      "Done: half_moons, width=5, depth=2, ab_range=0.5, epoch=30\n",
      "Previously saved model is of lower resolution; recomputing\n"
     ]
    },
    {
     "name": "stderr",
     "output_type": "stream",
     "text": [
      "Outer loop (a): 100%|██████████| 100/100 [00:49<00:00,  2.04it/s]\n"
     ]
    },
    {
     "name": "stdout",
     "output_type": "stream",
     "text": [
      "✅ Updated and saved new grid at ../backend/landscapes/mlp_5/two_blobs_overlap/train/range0.5/ep110\n",
      "Done: two_blobs_overlap, width=5, depth=1, ab_range=0.5, epoch=110\n",
      "Previously saved model is of lower resolution; recomputing\n"
     ]
    },
    {
     "name": "stderr",
     "output_type": "stream",
     "text": [
      "Outer loop (a): 100%|██████████| 100/100 [00:46<00:00,  2.14it/s]\n"
     ]
    },
    {
     "name": "stdout",
     "output_type": "stream",
     "text": [
      "✅ Updated and saved new grid at ../backend/landscapes/mlp_5/spirals/train/range0.2/ep760\n",
      "Done: spirals, width=5, depth=1, ab_range=0.2, epoch=760\n",
      "Previously saved model is of lower resolution; recomputing\n"
     ]
    },
    {
     "name": "stderr",
     "output_type": "stream",
     "text": [
      "Outer loop (a): 100%|██████████| 100/100 [00:52<00:00,  1.91it/s]\n"
     ]
    },
    {
     "name": "stdout",
     "output_type": "stream",
     "text": [
      "✅ Updated and saved new grid at ../backend/landscapes/mlp_5_5_5_5/two_blobs_overlap/train/range5/ep550\n",
      "Done: two_blobs_overlap, width=5, depth=4, ab_range=5, epoch=550\n",
      "Previously saved model is of lower resolution; recomputing\n"
     ]
    },
    {
     "name": "stderr",
     "output_type": "stream",
     "text": [
      "Outer loop (a): 100%|██████████| 100/100 [00:46<00:00,  2.13it/s]\n"
     ]
    },
    {
     "name": "stdout",
     "output_type": "stream",
     "text": [
      "✅ Updated and saved new grid at ../backend/landscapes/mlp_5/spirals/train/range0.5/ep680\n",
      "Done: spirals, width=5, depth=1, ab_range=0.5, epoch=680\n",
      "Previously saved model is of lower resolution; recomputing\n"
     ]
    },
    {
     "name": "stderr",
     "output_type": "stream",
     "text": [
      "Outer loop (a): 100%|██████████| 100/100 [00:55<00:00,  1.82it/s]\n"
     ]
    },
    {
     "name": "stdout",
     "output_type": "stream",
     "text": [
      "✅ Updated and saved new grid at ../backend/landscapes/mlp_5_5_5_5/two_blobs_overlap/train/range0.2/ep190\n",
      "Done: two_blobs_overlap, width=5, depth=4, ab_range=0.2, epoch=190\n",
      "Previously saved model is of lower resolution; recomputing\n"
     ]
    },
    {
     "name": "stderr",
     "output_type": "stream",
     "text": [
      "Outer loop (a): 100%|██████████| 100/100 [00:48<00:00,  2.07it/s]\n"
     ]
    },
    {
     "name": "stdout",
     "output_type": "stream",
     "text": [
      "✅ Updated and saved new grid at ../backend/landscapes/mlp_5_5/four_corners/train/range0.2/ep410\n",
      "Done: four_corners, width=5, depth=2, ab_range=0.2, epoch=410\n",
      "Previously saved model is of lower resolution; recomputing\n"
     ]
    },
    {
     "name": "stderr",
     "output_type": "stream",
     "text": [
      "Outer loop (a): 100%|██████████| 100/100 [00:48<00:00,  2.04it/s]\n"
     ]
    },
    {
     "name": "stdout",
     "output_type": "stream",
     "text": [
      "✅ Updated and saved new grid at ../backend/landscapes/mlp_5_5/two_blobs_separate/train/range0.2/ep170\n",
      "Done: two_blobs_separate, width=5, depth=2, ab_range=0.2, epoch=170\n",
      "Previously saved model is of lower resolution; recomputing\n"
     ]
    },
    {
     "name": "stderr",
     "output_type": "stream",
     "text": [
      "Outer loop (a): 100%|██████████| 100/100 [00:50<00:00,  1.97it/s]\n"
     ]
    },
    {
     "name": "stdout",
     "output_type": "stream",
     "text": [
      "✅ Updated and saved new grid at ../backend/landscapes/mlp_5_5/half_moons/train/range0.5/ep40\n",
      "Done: half_moons, width=5, depth=2, ab_range=0.5, epoch=40\n",
      "Previously saved model is of lower resolution; recomputing\n"
     ]
    },
    {
     "name": "stderr",
     "output_type": "stream",
     "text": [
      "Outer loop (a): 100%|██████████| 100/100 [00:46<00:00,  2.16it/s]\n"
     ]
    },
    {
     "name": "stdout",
     "output_type": "stream",
     "text": [
      "✅ Updated and saved new grid at ../backend/landscapes/mlp_5/two_blobs_overlap/train/range0.5/ep120\n",
      "Done: two_blobs_overlap, width=5, depth=1, ab_range=0.5, epoch=120\n",
      "Previously saved model is of lower resolution; recomputing\n"
     ]
    },
    {
     "name": "stderr",
     "output_type": "stream",
     "text": [
      "Outer loop (a): 100%|██████████| 100/100 [00:47<00:00,  2.12it/s]\n"
     ]
    },
    {
     "name": "stdout",
     "output_type": "stream",
     "text": [
      "✅ Updated and saved new grid at ../backend/landscapes/mlp_5/spirals/train/range0.2/ep770\n",
      "Done: spirals, width=5, depth=1, ab_range=0.2, epoch=770\n",
      "Previously saved model is of lower resolution; recomputing\n"
     ]
    },
    {
     "name": "stderr",
     "output_type": "stream",
     "text": [
      "Outer loop (a): 100%|██████████| 100/100 [00:48<00:00,  2.06it/s]\n"
     ]
    },
    {
     "name": "stdout",
     "output_type": "stream",
     "text": [
      "✅ Updated and saved new grid at ../backend/landscapes/mlp_5/spirals/train/range0.5/ep690\n",
      "Done: spirals, width=5, depth=1, ab_range=0.5, epoch=690\n",
      "Previously saved model is of lower resolution; recomputing\n"
     ]
    },
    {
     "name": "stderr",
     "output_type": "stream",
     "text": [
      "Outer loop (a): 100%|██████████| 100/100 [00:53<00:00,  1.86it/s]\n"
     ]
    },
    {
     "name": "stdout",
     "output_type": "stream",
     "text": [
      "✅ Updated and saved new grid at ../backend/landscapes/mlp_5_5_5_5/two_blobs_overlap/train/range5/ep560\n",
      "Done: two_blobs_overlap, width=5, depth=4, ab_range=5, epoch=560\n",
      "Previously saved model is of lower resolution; recomputing\n"
     ]
    },
    {
     "name": "stderr",
     "output_type": "stream",
     "text": [
      "Outer loop (a): 100%|██████████| 100/100 [00:51<00:00,  1.93it/s]\n"
     ]
    },
    {
     "name": "stdout",
     "output_type": "stream",
     "text": [
      "✅ Updated and saved new grid at ../backend/landscapes/mlp_5_5_5_5/two_blobs_overlap/train/range0.2/ep200\n",
      "Done: two_blobs_overlap, width=5, depth=4, ab_range=0.2, epoch=200\n",
      "Previously saved model is of lower resolution; recomputing\n"
     ]
    },
    {
     "name": "stderr",
     "output_type": "stream",
     "text": [
      "Outer loop (a): 100%|██████████| 100/100 [00:49<00:00,  2.03it/s]\n"
     ]
    },
    {
     "name": "stdout",
     "output_type": "stream",
     "text": [
      "✅ Updated and saved new grid at ../backend/landscapes/mlp_5_5/four_corners/train/range0.2/ep420\n",
      "Done: four_corners, width=5, depth=2, ab_range=0.2, epoch=420\n"
     ]
    },
    {
     "name": "stderr",
     "output_type": "stream",
     "text": [
      "Outer loop (a):  42%|████▏     | 42/100 [00:19<00:28,  2.03it/s]"
     ]
    },
    {
     "name": "stdout",
     "output_type": "stream",
     "text": [
      "Previously saved model is of lower resolution; recomputing\n"
     ]
    },
    {
     "name": "stderr",
     "output_type": "stream",
     "text": [
      "Outer loop (a): 100%|██████████| 100/100 [00:50<00:00,  1.97it/s]\n"
     ]
    },
    {
     "name": "stdout",
     "output_type": "stream",
     "text": [
      "✅ Updated and saved new grid at ../backend/landscapes/mlp_5_5/two_blobs_separate/train/range0.2/ep180"
     ]
    },
    {
     "name": "stderr",
     "output_type": "stream",
     "text": [
      "Outer loop (a):  57%|█████▋    | 57/100 [00:26<00:16,  2.53it/s]"
     ]
    },
    {
     "name": "stdout",
     "output_type": "stream",
     "text": [
      "\n",
      "Done: two_blobs_separate, width=5, depth=2, ab_range=0.2, epoch=180\n",
      "Previously saved model is of lower resolution; recomputing\n"
     ]
    },
    {
     "name": "stderr",
     "output_type": "stream",
     "text": [
      "Outer loop (a): 100%|██████████| 100/100 [00:49<00:00,  2.03it/s]\n"
     ]
    },
    {
     "name": "stdout",
     "output_type": "stream",
     "text": [
      "✅ Updated and saved new grid at ../backend/landscapes/mlp_5_5/half_moons/train/range0.5/ep50\n",
      "Done: half_moons, width=5, depth=2, ab_range=0.5, epoch=50\n",
      "Previously saved model is of lower resolution; recomputing\n"
     ]
    },
    {
     "name": "stderr",
     "output_type": "stream",
     "text": [
      "Outer loop (a): 100%|██████████| 100/100 [00:47<00:00,  2.10it/s]\n"
     ]
    },
    {
     "name": "stdout",
     "output_type": "stream",
     "text": [
      "✅ Updated and saved new grid at ../backend/landscapes/mlp_5/two_blobs_overlap/train/range0.5/ep130\n",
      "Done: two_blobs_overlap, width=5, depth=1, ab_range=0.5, epoch=130"
     ]
    },
    {
     "name": "stderr",
     "output_type": "stream",
     "text": [
      "Outer loop (a):  11%|█         | 11/100 [00:05<00:45,  1.94it/s]"
     ]
    },
    {
     "name": "stdout",
     "output_type": "stream",
     "text": [
      "\n",
      "Previously saved model is of lower resolution; recomputing\n"
     ]
    },
    {
     "name": "stderr",
     "output_type": "stream",
     "text": [
      "Outer loop (a): 100%|██████████| 100/100 [00:47<00:00,  2.10it/s]\n"
     ]
    },
    {
     "name": "stdout",
     "output_type": "stream",
     "text": [
      "✅ Updated and saved new grid at ../backend/landscapes/mlp_5/spirals/train/range0.2/ep780"
     ]
    },
    {
     "name": "stderr",
     "output_type": "stream",
     "text": [
      "Outer loop (a):  89%|████████▉ | 89/100 [00:41<00:05,  2.13it/s]"
     ]
    },
    {
     "name": "stdout",
     "output_type": "stream",
     "text": [
      "\n",
      "Done: spirals, width=5, depth=1, ab_range=0.2, epoch=780\n",
      "Previously saved model is of lower resolution; recomputing\n"
     ]
    },
    {
     "name": "stderr",
     "output_type": "stream",
     "text": [
      "Outer loop (a): 100%|██████████| 100/100 [00:46<00:00,  2.15it/s]\n"
     ]
    },
    {
     "name": "stdout",
     "output_type": "stream",
     "text": [
      "✅ Updated and saved new grid at ../backend/landscapes/mlp_5/spirals/train/range0.5/ep700\n",
      "Done: spirals, width=5, depth=1, ab_range=0.5, epoch=700\n",
      "Previously saved model is of lower resolution; recomputing\n"
     ]
    },
    {
     "name": "stderr",
     "output_type": "stream",
     "text": [
      "Outer loop (a): 100%|██████████| 100/100 [00:54<00:00,  1.83it/s]\n"
     ]
    },
    {
     "name": "stdout",
     "output_type": "stream",
     "text": [
      "✅ Updated and saved new grid at ../backend/landscapes/mlp_5_5_5_5/two_blobs_overlap/train/range5/ep570\n",
      "Done: two_blobs_overlap, width=5, depth=4, ab_range=5, epoch=570\n",
      "Previously saved model is of lower resolution; recomputing\n"
     ]
    },
    {
     "name": "stderr",
     "output_type": "stream",
     "text": [
      "Outer loop (a): 100%|██████████| 100/100 [00:54<00:00,  1.85it/s]\n"
     ]
    },
    {
     "name": "stdout",
     "output_type": "stream",
     "text": [
      "✅ Updated and saved new grid at ../backend/landscapes/mlp_5_5_5_5/two_blobs_overlap/train/range0.2/ep210\n",
      "Done: two_blobs_overlap, width=5, depth=4, ab_range=0.2, epoch=210\n",
      "Previously saved model is of lower resolution; recomputing\n"
     ]
    },
    {
     "name": "stderr",
     "output_type": "stream",
     "text": [
      "Outer loop (a): 100%|██████████| 100/100 [00:47<00:00,  2.12it/s]\n"
     ]
    },
    {
     "name": "stdout",
     "output_type": "stream",
     "text": [
      "✅ Updated and saved new grid at ../backend/landscapes/mlp_5_5/four_corners/train/range0.2/ep430\n",
      "Done: four_corners, width=5, depth=2, ab_range=0.2, epoch=430\n",
      "Previously saved model is of lower resolution; recomputing\n"
     ]
    },
    {
     "name": "stderr",
     "output_type": "stream",
     "text": [
      "Outer loop (a): 100%|██████████| 100/100 [00:48<00:00,  2.04it/s]\n",
      "Outer loop (a):  17%|█▋        | 17/100 [00:08<00:40,  2.07it/s]"
     ]
    },
    {
     "name": "stdout",
     "output_type": "stream",
     "text": [
      "✅ Updated and saved new grid at ../backend/landscapes/mlp_5_5/two_blobs_separate/train/range0.2/ep190\n",
      "Done: two_blobs_separate, width=5, depth=2, ab_range=0.2, epoch=190\n",
      "Previously saved model is of lower resolution; recomputing\n"
     ]
    },
    {
     "name": "stderr",
     "output_type": "stream",
     "text": [
      "Outer loop (a): 100%|██████████| 100/100 [00:50<00:00,  1.99it/s]\n"
     ]
    },
    {
     "name": "stdout",
     "output_type": "stream",
     "text": [
      "✅ Updated and saved new grid at ../backend/landscapes/mlp_5_5/half_moons/train/range0.5/ep60\n",
      "Done: half_moons, width=5, depth=2, ab_range=0.5, epoch=60\n",
      "Previously saved model is of lower resolution; recomputing\n"
     ]
    },
    {
     "name": "stderr",
     "output_type": "stream",
     "text": [
      "Outer loop (a): 100%|██████████| 100/100 [00:48<00:00,  2.07it/s]\n"
     ]
    },
    {
     "name": "stdout",
     "output_type": "stream",
     "text": [
      "✅ Updated and saved new grid at ../backend/landscapes/mlp_5/two_blobs_overlap/train/range0.5/ep140\n",
      "Done: two_blobs_overlap, width=5, depth=1, ab_range=0.5, epoch=140\n",
      "Previously saved model is of lower resolution; recomputing\n"
     ]
    },
    {
     "name": "stderr",
     "output_type": "stream",
     "text": [
      "Outer loop (a): 100%|██████████| 100/100 [00:46<00:00,  2.16it/s]\n"
     ]
    },
    {
     "name": "stdout",
     "output_type": "stream",
     "text": [
      "✅ Updated and saved new grid at ../backend/landscapes/mlp_5/spirals/train/range0.2/ep790\n",
      "Done: spirals, width=5, depth=1, ab_range=0.2, epoch=790\n",
      "Previously saved model is of lower resolution; recomputing\n"
     ]
    },
    {
     "name": "stderr",
     "output_type": "stream",
     "text": [
      "Outer loop (a): 100%|██████████| 100/100 [00:46<00:00,  2.14it/s]\n"
     ]
    },
    {
     "name": "stdout",
     "output_type": "stream",
     "text": [
      "✅ Updated and saved new grid at ../backend/landscapes/mlp_5/spirals/train/range0.5/ep710\n",
      "Done: spirals, width=5, depth=1, ab_range=0.5, epoch=710\n",
      "Previously saved model is of lower resolution; recomputing\n"
     ]
    },
    {
     "name": "stderr",
     "output_type": "stream",
     "text": [
      "Outer loop (a): 100%|██████████| 100/100 [00:53<00:00,  1.86it/s]\n"
     ]
    },
    {
     "name": "stdout",
     "output_type": "stream",
     "text": [
      "✅ Updated and saved new grid at ../backend/landscapes/mlp_5_5_5_5/two_blobs_overlap/train/range5/ep580\n",
      "Done: two_blobs_overlap, width=5, depth=4, ab_range=5, epoch=580\n",
      "Previously saved model is of lower resolution; recomputing"
     ]
    },
    {
     "name": "stderr",
     "output_type": "stream",
     "text": [
      "Outer loop (a):  93%|█████████▎| 93/100 [00:46<00:03,  1.95it/s]"
     ]
    },
    {
     "name": "stdout",
     "output_type": "stream",
     "text": [
      "\n"
     ]
    },
    {
     "name": "stderr",
     "output_type": "stream",
     "text": [
      "Outer loop (a): 100%|██████████| 100/100 [00:49<00:00,  2.02it/s]\n"
     ]
    },
    {
     "name": "stdout",
     "output_type": "stream",
     "text": [
      "✅ Updated and saved new grid at ../backend/landscapes/mlp_5_5/four_corners/train/range0.2/ep440\n",
      "Done: four_corners, width=5, depth=2, ab_range=0.2, epoch=440\n"
     ]
    },
    {
     "name": "stderr",
     "output_type": "stream",
     "text": [
      "Outer loop (a):  60%|██████    | 60/100 [00:28<00:17,  2.27it/s]"
     ]
    },
    {
     "name": "stdout",
     "output_type": "stream",
     "text": [
      "Previously saved model is of lower resolution; recomputing\n"
     ]
    },
    {
     "name": "stderr",
     "output_type": "stream",
     "text": [
      "Outer loop (a): 100%|██████████| 100/100 [00:55<00:00,  1.81it/s]\n"
     ]
    },
    {
     "name": "stdout",
     "output_type": "stream",
     "text": [
      "✅ Updated and saved new grid at ../backend/landscapes/mlp_5_5_5_5/two_blobs_overlap/train/range0.2/ep220\n",
      "Done: two_blobs_overlap, width=5, depth=4, ab_range=0.2, epoch=220\n",
      "Previously saved model is of lower resolution; recomputing\n"
     ]
    },
    {
     "name": "stderr",
     "output_type": "stream",
     "text": [
      "Outer loop (a): 100%|██████████| 100/100 [00:48<00:00,  2.04it/s]\n"
     ]
    },
    {
     "name": "stdout",
     "output_type": "stream",
     "text": [
      "✅ Updated and saved new grid at ../backend/landscapes/mlp_5_5/two_blobs_separate/train/range0.2/ep200\n",
      "Done: two_blobs_separate, width=5, depth=2, ab_range=0.2, epoch=200\n",
      "Previously saved model is of lower resolution; recomputing\n"
     ]
    },
    {
     "name": "stderr",
     "output_type": "stream",
     "text": [
      "Outer loop (a): 100%|██████████| 100/100 [00:50<00:00,  1.99it/s]\n"
     ]
    },
    {
     "name": "stdout",
     "output_type": "stream",
     "text": [
      "✅ Updated and saved new grid at ../backend/landscapes/mlp_5_5/half_moons/train/range0.5/ep70\n",
      "Done: half_moons, width=5, depth=2, ab_range=0.5, epoch=70\n",
      "Previously saved model is of lower resolution; recomputing\n"
     ]
    },
    {
     "name": "stderr",
     "output_type": "stream",
     "text": [
      "Outer loop (a): 100%|██████████| 100/100 [00:48<00:00,  2.06it/s]\n"
     ]
    },
    {
     "name": "stdout",
     "output_type": "stream",
     "text": [
      "✅ Updated and saved new grid at ../backend/landscapes/mlp_5/two_blobs_overlap/train/range0.5/ep150\n",
      "Done: two_blobs_overlap, width=5, depth=1, ab_range=0.5, epoch=150\n",
      "Previously saved model is of lower resolution; recomputing\n"
     ]
    },
    {
     "name": "stderr",
     "output_type": "stream",
     "text": [
      "Outer loop (a): 100%|██████████| 100/100 [00:48<00:00,  2.07it/s]\n"
     ]
    },
    {
     "name": "stdout",
     "output_type": "stream",
     "text": [
      "✅ Updated and saved new grid at ../backend/landscapes/mlp_5/spirals/train/range0.2/ep800\n",
      "Done: spirals, width=5, depth=1, ab_range=0.2, epoch=800\n",
      "Previously saved model is of lower resolution; recomputing\n"
     ]
    },
    {
     "name": "stderr",
     "output_type": "stream",
     "text": [
      "Outer loop (a): 100%|██████████| 100/100 [00:48<00:00,  2.05it/s]\n"
     ]
    },
    {
     "name": "stdout",
     "output_type": "stream",
     "text": [
      "✅ Updated and saved new grid at ../backend/landscapes/mlp_5/spirals/train/range0.5/ep720\n",
      "Done: spirals, width=5, depth=1, ab_range=0.5, epoch=720\n",
      "Previously saved model is of lower resolution; recomputing\n"
     ]
    },
    {
     "name": "stderr",
     "output_type": "stream",
     "text": [
      "Outer loop (a): 100%|██████████| 100/100 [00:49<00:00,  2.03it/s]\n"
     ]
    },
    {
     "name": "stdout",
     "output_type": "stream",
     "text": [
      "✅ Updated and saved new grid at ../backend/landscapes/mlp_5_5/four_corners/train/range0.2/ep450\n",
      "Done: four_corners, width=5, depth=2, ab_range=0.2, epoch=450\n",
      "Previously saved model is of lower resolution; recomputing\n"
     ]
    },
    {
     "name": "stderr",
     "output_type": "stream",
     "text": [
      "Outer loop (a): 100%|██████████| 100/100 [00:55<00:00,  1.81it/s]\n"
     ]
    },
    {
     "name": "stdout",
     "output_type": "stream",
     "text": [
      "✅ Updated and saved new grid at ../backend/landscapes/mlp_5_5_5_5/two_blobs_overlap/train/range5/ep590\n",
      "Done: two_blobs_overlap, width=5, depth=4, ab_range=5, epoch=590\n",
      "Previously saved model is of lower resolution; recomputing\n"
     ]
    },
    {
     "name": "stderr",
     "output_type": "stream",
     "text": [
      "Outer loop (a): 100%|██████████| 100/100 [00:54<00:00,  1.82it/s]\n"
     ]
    },
    {
     "name": "stdout",
     "output_type": "stream",
     "text": [
      "✅ Updated and saved new grid at ../backend/landscapes/mlp_5_5_5_5/two_blobs_overlap/train/range0.2/ep230\n",
      "Done: two_blobs_overlap, width=5, depth=4, ab_range=0.2, epoch=230\n",
      "Previously saved model is of lower resolution; recomputing\n"
     ]
    },
    {
     "name": "stderr",
     "output_type": "stream",
     "text": [
      "Outer loop (a): 100%|██████████| 100/100 [00:50<00:00,  1.99it/s]\n"
     ]
    },
    {
     "name": "stdout",
     "output_type": "stream",
     "text": [
      "✅ Updated and saved new grid at ../backend/landscapes/mlp_5_5/two_blobs_separate/train/range0.2/ep210\n",
      "Done: two_blobs_separate, width=5, depth=2, ab_range=0.2, epoch=210\n",
      "Previously saved model is of lower resolution; recomputing\n"
     ]
    },
    {
     "name": "stderr",
     "output_type": "stream",
     "text": [
      "Outer loop (a): 100%|██████████| 100/100 [00:49<00:00,  2.04it/s]\n"
     ]
    },
    {
     "name": "stdout",
     "output_type": "stream",
     "text": [
      "✅ Updated and saved new grid at ../backend/landscapes/mlp_5_5/half_moons/train/range0.5/ep80\n",
      "Done: half_moons, width=5, depth=2, ab_range=0.5, epoch=80\n",
      "Previously saved model is of lower resolution; recomputing\n"
     ]
    },
    {
     "name": "stderr",
     "output_type": "stream",
     "text": [
      "Outer loop (a): 100%|██████████| 100/100 [00:47<00:00,  2.12it/s]\n"
     ]
    },
    {
     "name": "stdout",
     "output_type": "stream",
     "text": [
      "✅ Updated and saved new grid at ../backend/landscapes/mlp_5/two_blobs_overlap/train/range0.5/ep160\n",
      "Done: two_blobs_overlap, width=5, depth=1, ab_range=0.5, epoch=160\n",
      "Previously saved model is of lower resolution; recomputing\n"
     ]
    },
    {
     "name": "stderr",
     "output_type": "stream",
     "text": [
      "Outer loop (a): 100%|██████████| 100/100 [00:47<00:00,  2.09it/s]\n"
     ]
    },
    {
     "name": "stdout",
     "output_type": "stream",
     "text": [
      "✅ Updated and saved new grid at ../backend/landscapes/mlp_5/spirals/train/range0.2/ep810\n",
      "Done: spirals, width=5, depth=1, ab_range=0.2, epoch=810"
     ]
    },
    {
     "name": "stderr",
     "output_type": "stream",
     "text": [
      "Outer loop (a):  20%|██        | 20/100 [00:09<00:41,  1.91it/s]"
     ]
    },
    {
     "name": "stdout",
     "output_type": "stream",
     "text": [
      "\n",
      "Previously saved model is of lower resolution; recomputing"
     ]
    },
    {
     "name": "stderr",
     "output_type": "stream",
     "text": [
      "Outer loop (a):  38%|███▊      | 38/100 [00:18<00:27,  2.26it/s]"
     ]
    },
    {
     "name": "stdout",
     "output_type": "stream",
     "text": [
      "\n"
     ]
    },
    {
     "name": "stderr",
     "output_type": "stream",
     "text": [
      "Outer loop (a): 100%|██████████| 100/100 [00:49<00:00,  2.02it/s]\n"
     ]
    },
    {
     "name": "stdout",
     "output_type": "stream",
     "text": [
      "✅ Updated and saved new grid at ../backend/landscapes/mlp_5/spirals/train/range0.5/ep730\n",
      "Done: spirals, width=5, depth=1, ab_range=0.5, epoch=730\n",
      "Previously saved model is of lower resolution; recomputing"
     ]
    },
    {
     "name": "stderr",
     "output_type": "stream",
     "text": [
      "Outer loop (a):  25%|██▌       | 25/100 [00:12<00:35,  2.11it/s]"
     ]
    },
    {
     "name": "stdout",
     "output_type": "stream",
     "text": [
      "\n"
     ]
    },
    {
     "name": "stderr",
     "output_type": "stream",
     "text": [
      "Outer loop (a): 100%|██████████| 100/100 [00:49<00:00,  2.04it/s]\n"
     ]
    },
    {
     "name": "stdout",
     "output_type": "stream",
     "text": [
      "✅ Updated and saved new grid at ../backend/landscapes/mlp_5_5/four_corners/train/range0.2/ep460\n",
      "Done: four_corners, width=5, depth=2, ab_range=0.2, epoch=460\n",
      "Previously saved model is of lower resolution; recomputing\n"
     ]
    },
    {
     "name": "stderr",
     "output_type": "stream",
     "text": [
      "Outer loop (a): 100%|██████████| 100/100 [00:48<00:00,  2.04it/s]\n",
      "Outer loop (a):  67%|██████▋   | 67/100 [00:31<00:13,  2.48it/s]"
     ]
    },
    {
     "name": "stdout",
     "output_type": "stream",
     "text": [
      "✅ Updated and saved new grid at ../backend/landscapes/mlp_5_5/two_blobs_separate/train/range0.2/ep220\n",
      "Done: two_blobs_separate, width=5, depth=2, ab_range=0.2, epoch=220\n",
      "Previously saved model is of lower resolution; recomputing\n"
     ]
    },
    {
     "name": "stderr",
     "output_type": "stream",
     "text": [
      "Outer loop (a): 100%|██████████| 100/100 [00:56<00:00,  1.77it/s]\n"
     ]
    },
    {
     "name": "stdout",
     "output_type": "stream",
     "text": [
      "✅ Updated and saved new grid at ../backend/landscapes/mlp_5_5_5_5/two_blobs_overlap/train/range5/ep600\n",
      "Done: two_blobs_overlap, width=5, depth=4, ab_range=5, epoch=600\n",
      "Previously saved model is of lower resolution; recomputing\n"
     ]
    },
    {
     "name": "stderr",
     "output_type": "stream",
     "text": [
      "Outer loop (a):  71%|███████   | 71/100 [00:33<00:13,  2.16it/s]]\n"
     ]
    },
    {
     "name": "stdout",
     "output_type": "stream",
     "text": [
      "✅ Updated and saved new grid at ../backend/landscapes/mlp_5_5_5_5/two_blobs_overlap/train/range0.2/ep240\n",
      "Done: two_blobs_overlap, width=5, depth=4, ab_range=0.2, epoch=240\n",
      "Previously saved model is of lower resolution; recomputing\n"
     ]
    },
    {
     "name": "stderr",
     "output_type": "stream",
     "text": [
      "Outer loop (a): 100%|██████████| 100/100 [00:47<00:00,  2.10it/s]\n"
     ]
    },
    {
     "name": "stdout",
     "output_type": "stream",
     "text": [
      "✅ Updated and saved new grid at ../backend/landscapes/mlp_5_5/half_moons/train/range0.5/ep90\n",
      "Done: half_moons, width=5, depth=2, ab_range=0.5, epoch=90\n",
      "Previously saved model is of lower resolution; recomputing\n"
     ]
    },
    {
     "name": "stderr",
     "output_type": "stream",
     "text": [
      "Outer loop (a): 100%|██████████| 100/100 [00:47<00:00,  2.09it/s]\n"
     ]
    },
    {
     "name": "stdout",
     "output_type": "stream",
     "text": [
      "✅ Updated and saved new grid at ../backend/landscapes/mlp_5/two_blobs_overlap/train/range0.5/ep170\n",
      "Done: two_blobs_overlap, width=5, depth=1, ab_range=0.5, epoch=170\n",
      "Previously saved model is of lower resolution; recomputing\n"
     ]
    },
    {
     "name": "stderr",
     "output_type": "stream",
     "text": [
      "Outer loop (a): 100%|██████████| 100/100 [00:47<00:00,  2.09it/s]\n"
     ]
    },
    {
     "name": "stdout",
     "output_type": "stream",
     "text": [
      "✅ Updated and saved new grid at ../backend/landscapes/mlp_5/spirals/train/range0.2/ep820\n",
      "Done: spirals, width=5, depth=1, ab_range=0.2, epoch=820\n",
      "Previously saved model is of lower resolution; recomputing\n"
     ]
    },
    {
     "name": "stderr",
     "output_type": "stream",
     "text": [
      "Outer loop (a): 100%|██████████| 100/100 [00:47<00:00,  2.13it/s]\n"
     ]
    },
    {
     "name": "stdout",
     "output_type": "stream",
     "text": [
      "✅ Updated and saved new grid at ../backend/landscapes/mlp_5/spirals/train/range0.5/ep740\n",
      "Done: spirals, width=5, depth=1, ab_range=0.5, epoch=740\n",
      "Previously saved model is of lower resolution; recomputing\n"
     ]
    },
    {
     "name": "stderr",
     "output_type": "stream",
     "text": [
      "Outer loop (a): 100%|██████████| 100/100 [00:49<00:00,  2.04it/s]\n"
     ]
    },
    {
     "name": "stdout",
     "output_type": "stream",
     "text": [
      "✅ Updated and saved new grid at ../backend/landscapes/mlp_5_5/four_corners/train/range0.2/ep470\n",
      "Done: four_corners, width=5, depth=2, ab_range=0.2, epoch=470"
     ]
    },
    {
     "name": "stderr",
     "output_type": "stream",
     "text": [
      "Outer loop (a):  73%|███████▎  | 73/100 [00:38<00:15,  1.78it/s]"
     ]
    },
    {
     "name": "stdout",
     "output_type": "stream",
     "text": [
      "\n",
      "Previously saved model is of lower resolution; recomputing\n"
     ]
    },
    {
     "name": "stderr",
     "output_type": "stream",
     "text": [
      "Outer loop (a): 100%|██████████| 100/100 [00:50<00:00,  1.99it/s]\n"
     ]
    },
    {
     "name": "stdout",
     "output_type": "stream",
     "text": [
      "✅ Updated and saved new grid at ../backend/landscapes/mlp_5_5/two_blobs_separate/train/range0.2/ep230\n",
      "Done: two_blobs_separate, width=5, depth=2, ab_range=0.2, epoch=230\n",
      "Previously saved model is of lower resolution; recomputing\n"
     ]
    },
    {
     "name": "stderr",
     "output_type": "stream",
     "text": [
      "Outer loop (a): 100%|██████████| 100/100 [00:46<00:00,  2.15it/s]\n"
     ]
    },
    {
     "name": "stdout",
     "output_type": "stream",
     "text": [
      "✅ Updated and saved new grid at ../backend/landscapes/mlp_5/two_blobs_overlap/train/range0.5/ep180\n",
      "Done: two_blobs_overlap, width=5, depth=1, ab_range=0.5, epoch=180\n",
      "Previously saved model is of lower resolution; recomputing\n"
     ]
    },
    {
     "name": "stderr",
     "output_type": "stream",
     "text": [
      "Outer loop (a): 100%|██████████| 100/100 [00:50<00:00,  1.98it/s]\n"
     ]
    },
    {
     "name": "stdout",
     "output_type": "stream",
     "text": [
      "✅ Updated and saved new grid at ../backend/landscapes/mlp_5_5/half_moons/train/range0.5/ep100\n",
      "Done: half_moons, width=5, depth=2, ab_range=0.5, epoch=100\n",
      "Previously saved model is of lower resolution; recomputing\n"
     ]
    },
    {
     "name": "stderr",
     "output_type": "stream",
     "text": [
      "Outer loop (a): 100%|██████████| 100/100 [00:53<00:00,  1.86it/s]\n"
     ]
    },
    {
     "name": "stdout",
     "output_type": "stream",
     "text": [
      "✅ Updated and saved new grid at ../backend/landscapes/mlp_5_5_5_5/two_blobs_overlap/train/range5/ep610\n",
      "Done: two_blobs_overlap, width=5, depth=4, ab_range=5, epoch=610\n",
      "Previously saved model is of lower resolution; recomputing\n"
     ]
    },
    {
     "name": "stderr",
     "output_type": "stream",
     "text": [
      "Outer loop (a): 100%|██████████| 100/100 [00:54<00:00,  1.84it/s]\n"
     ]
    },
    {
     "name": "stdout",
     "output_type": "stream",
     "text": [
      "✅ Updated and saved new grid at ../backend/landscapes/mlp_5_5_5_5/two_blobs_overlap/train/range0.2/ep250\n",
      "Done: two_blobs_overlap, width=5, depth=4, ab_range=0.2, epoch=250\n",
      "Previously saved model is of lower resolution; recomputing\n"
     ]
    },
    {
     "name": "stderr",
     "output_type": "stream",
     "text": [
      "Outer loop (a): 100%|██████████| 100/100 [00:48<00:00,  2.08it/s]\n"
     ]
    },
    {
     "name": "stdout",
     "output_type": "stream",
     "text": [
      "✅ Updated and saved new grid at ../backend/landscapes/mlp_5/spirals/train/range0.2/ep830\n",
      "Done: spirals, width=5, depth=1, ab_range=0.2, epoch=830\n",
      "Previously saved model is of lower resolution; recomputing\n"
     ]
    },
    {
     "name": "stderr",
     "output_type": "stream",
     "text": [
      "Outer loop (a): 100%|██████████| 100/100 [00:47<00:00,  2.09it/s]\n"
     ]
    },
    {
     "name": "stdout",
     "output_type": "stream",
     "text": [
      "✅ Updated and saved new grid at ../backend/landscapes/mlp_5/spirals/train/range0.5/ep750\n",
      "Done: spirals, width=5, depth=1, ab_range=0.5, epoch=750\n",
      "Previously saved model is of lower resolution; recomputing\n"
     ]
    },
    {
     "name": "stderr",
     "output_type": "stream",
     "text": [
      "Outer loop (a): 100%|██████████| 100/100 [00:50<00:00,  2.00it/s]\n"
     ]
    },
    {
     "name": "stdout",
     "output_type": "stream",
     "text": [
      "✅ Updated and saved new grid at ../backend/landscapes/mlp_5_5/four_corners/train/range0.2/ep480\n",
      "Done: four_corners, width=5, depth=2, ab_range=0.2, epoch=480\n",
      "Previously saved model is of lower resolution; recomputing\n"
     ]
    },
    {
     "name": "stderr",
     "output_type": "stream",
     "text": [
      "Outer loop (a): 100%|██████████| 100/100 [00:47<00:00,  2.09it/s]\n"
     ]
    },
    {
     "name": "stdout",
     "output_type": "stream",
     "text": [
      "✅ Updated and saved new grid at ../backend/landscapes/mlp_5/two_blobs_overlap/train/range0.5/ep190\n",
      "Done: two_blobs_overlap, width=5, depth=1, ab_range=0.5, epoch=190\n",
      "Previously saved model is of lower resolution; recomputing\n"
     ]
    },
    {
     "name": "stderr",
     "output_type": "stream",
     "text": [
      "Outer loop (a): 100%|██████████| 100/100 [00:49<00:00,  2.00it/s]\n"
     ]
    },
    {
     "name": "stdout",
     "output_type": "stream",
     "text": [
      "✅ Updated and saved new grid at ../backend/landscapes/mlp_5_5/two_blobs_separate/train/range0.2/ep240\n",
      "Done: two_blobs_separate, width=5, depth=2, ab_range=0.2, epoch=240\n",
      "Previously saved model is of lower resolution; recomputing\n"
     ]
    },
    {
     "name": "stderr",
     "output_type": "stream",
     "text": [
      "Outer loop (a): 100%|██████████| 100/100 [00:45<00:00,  2.18it/s]\n"
     ]
    },
    {
     "name": "stdout",
     "output_type": "stream",
     "text": [
      "✅ Updated and saved new grid at ../backend/landscapes/mlp_5/spirals/train/range0.2/ep840\n",
      "Done: spirals, width=5, depth=1, ab_range=0.2, epoch=840\n",
      "Previously saved model is of lower resolution; recomputing\n"
     ]
    },
    {
     "name": "stderr",
     "output_type": "stream",
     "text": [
      "Outer loop (a): 100%|██████████| 100/100 [00:50<00:00,  1.99it/s]\n"
     ]
    },
    {
     "name": "stdout",
     "output_type": "stream",
     "text": [
      "✅ Updated and saved new grid at ../backend/landscapes/mlp_5_5/half_moons/train/range0.5/ep110\n",
      "Done: half_moons, width=5, depth=2, ab_range=0.5, epoch=110\n",
      "Previously saved model is of lower resolution; recomputing\n"
     ]
    },
    {
     "name": "stderr",
     "output_type": "stream",
     "text": [
      "Outer loop (a): 100%|██████████| 100/100 [00:54<00:00,  1.84it/s]\n"
     ]
    },
    {
     "name": "stdout",
     "output_type": "stream",
     "text": [
      "✅ Updated and saved new grid at ../backend/landscapes/mlp_5_5_5_5/two_blobs_overlap/train/range5/ep620\n",
      "Done: two_blobs_overlap, width=5, depth=4, ab_range=5, epoch=620\n",
      "Previously saved model is of lower resolution; recomputing\n"
     ]
    },
    {
     "name": "stderr",
     "output_type": "stream",
     "text": [
      "Outer loop (a): 100%|██████████| 100/100 [00:53<00:00,  1.86it/s]\n"
     ]
    },
    {
     "name": "stdout",
     "output_type": "stream",
     "text": [
      "✅ Updated and saved new grid at ../backend/landscapes/mlp_5_5_5_5/two_blobs_overlap/train/range0.2/ep260\n",
      "Done: two_blobs_overlap, width=5, depth=4, ab_range=0.2, epoch=260\n",
      "Previously saved model is of lower resolution; recomputing\n"
     ]
    },
    {
     "name": "stderr",
     "output_type": "stream",
     "text": [
      "Outer loop (a): 100%|██████████| 100/100 [00:47<00:00,  2.09it/s]\n"
     ]
    },
    {
     "name": "stdout",
     "output_type": "stream",
     "text": [
      "✅ Updated and saved new grid at ../backend/landscapes/mlp_5/spirals/train/range0.5/ep760\n",
      "Done: spirals, width=5, depth=1, ab_range=0.5, epoch=760\n",
      "Previously saved model is of lower resolution; recomputing\n"
     ]
    },
    {
     "name": "stderr",
     "output_type": "stream",
     "text": [
      "Outer loop (a): 100%|██████████| 100/100 [00:50<00:00,  2.00it/s]\n"
     ]
    },
    {
     "name": "stdout",
     "output_type": "stream",
     "text": [
      "✅ Updated and saved new grid at ../backend/landscapes/mlp_5_5/four_corners/train/range0.2/ep490\n",
      "Done: four_corners, width=5, depth=2, ab_range=0.2, epoch=490\n",
      "Previously saved model is of lower resolution; recomputing\n"
     ]
    },
    {
     "name": "stderr",
     "output_type": "stream",
     "text": [
      "Outer loop (a): 100%|██████████| 100/100 [00:47<00:00,  2.10it/s]\n"
     ]
    },
    {
     "name": "stdout",
     "output_type": "stream",
     "text": [
      "✅ Updated and saved new grid at ../backend/landscapes/mlp_5/two_blobs_overlap/train/range0.5/ep200"
     ]
    },
    {
     "name": "stderr",
     "output_type": "stream",
     "text": [
      "Outer loop (a):  94%|█████████▍| 94/100 [00:46<00:02,  2.03it/s]"
     ]
    },
    {
     "name": "stdout",
     "output_type": "stream",
     "text": [
      "\n",
      "Done: two_blobs_overlap, width=5, depth=1, ab_range=0.5, epoch=200\n",
      "Previously saved model is of lower resolution; recomputing\n"
     ]
    },
    {
     "name": "stderr",
     "output_type": "stream",
     "text": [
      "Outer loop (a): 100%|██████████| 100/100 [00:45<00:00,  2.17it/s]\n"
     ]
    },
    {
     "name": "stdout",
     "output_type": "stream",
     "text": [
      "✅ Updated and saved new grid at ../backend/landscapes/mlp_5/spirals/train/range0.2/ep850\n",
      "Done: spirals, width=5, depth=1, ab_range=0.2, epoch=850\n",
      "Previously saved model is of lower resolution; recomputing\n"
     ]
    },
    {
     "name": "stderr",
     "output_type": "stream",
     "text": [
      "Outer loop (a): 100%|██████████| 100/100 [00:49<00:00,  2.04it/s]\n"
     ]
    },
    {
     "name": "stdout",
     "output_type": "stream",
     "text": [
      "✅ Updated and saved new grid at ../backend/landscapes/mlp_5_5/two_blobs_separate/train/range0.2/ep250\n",
      "Done: two_blobs_separate, width=5, depth=2, ab_range=0.2, epoch=250\n",
      "Previously saved model is of lower resolution; recomputing\n"
     ]
    },
    {
     "name": "stderr",
     "output_type": "stream",
     "text": [
      "Outer loop (a): 100%|██████████| 100/100 [00:49<00:00,  2.01it/s]\n"
     ]
    },
    {
     "name": "stdout",
     "output_type": "stream",
     "text": [
      "✅ Updated and saved new grid at ../backend/landscapes/mlp_5_5/half_moons/train/range0.5/ep120\n",
      "Done: half_moons, width=5, depth=2, ab_range=0.5, epoch=120\n",
      "Previously saved model is of lower resolution; recomputing\n"
     ]
    },
    {
     "name": "stderr",
     "output_type": "stream",
     "text": [
      "Outer loop (a): 100%|██████████| 100/100 [00:47<00:00,  2.08it/s]\n"
     ]
    },
    {
     "name": "stdout",
     "output_type": "stream",
     "text": [
      "✅ Updated and saved new grid at ../backend/landscapes/mlp_5/spirals/train/range0.5/ep770\n",
      "Done: spirals, width=5, depth=1, ab_range=0.5, epoch=770\n",
      "Previously saved model is of lower resolution; recomputing\n"
     ]
    },
    {
     "name": "stderr",
     "output_type": "stream",
     "text": [
      "Outer loop (a): 100%|██████████| 100/100 [00:51<00:00,  1.94it/s]\n"
     ]
    },
    {
     "name": "stdout",
     "output_type": "stream",
     "text": [
      "✅ Updated and saved new grid at ../backend/landscapes/mlp_5_5_5_5/two_blobs_overlap/train/range0.2/ep270\n",
      "Done: two_blobs_overlap, width=5, depth=4, ab_range=0.2, epoch=270\n",
      "Previously saved model is of lower resolution; recomputing\n"
     ]
    },
    {
     "name": "stderr",
     "output_type": "stream",
     "text": [
      "Outer loop (a): 100%|██████████| 100/100 [00:55<00:00,  1.81it/s]\n"
     ]
    },
    {
     "name": "stdout",
     "output_type": "stream",
     "text": [
      "✅ Updated and saved new grid at ../backend/landscapes/mlp_5_5_5_5/two_blobs_overlap/train/range5/ep630\n",
      "Done: two_blobs_overlap, width=5, depth=4, ab_range=5, epoch=630\n",
      "Previously saved model is of lower resolution; recomputing\n"
     ]
    },
    {
     "name": "stderr",
     "output_type": "stream",
     "text": [
      "Outer loop (a): 100%|██████████| 100/100 [00:50<00:00,  1.99it/s]\n"
     ]
    },
    {
     "name": "stdout",
     "output_type": "stream",
     "text": [
      "✅ Updated and saved new grid at ../backend/landscapes/mlp_5_5/four_corners/train/range0.2/ep500\n",
      "Done: four_corners, width=5, depth=2, ab_range=0.2, epoch=500\n",
      "Previously saved model is of lower resolution; recomputing\n"
     ]
    },
    {
     "name": "stderr",
     "output_type": "stream",
     "text": [
      "Outer loop (a): 100%|██████████| 100/100 [00:47<00:00,  2.12it/s]\n"
     ]
    },
    {
     "name": "stdout",
     "output_type": "stream",
     "text": [
      "✅ Updated and saved new grid at ../backend/landscapes/mlp_5/two_blobs_overlap/train/range0.5/ep210\n",
      "Done: two_blobs_overlap, width=5, depth=1, ab_range=0.5, epoch=210\n",
      "Previously saved model is of lower resolution; recomputing\n"
     ]
    },
    {
     "name": "stderr",
     "output_type": "stream",
     "text": [
      "Outer loop (a): 100%|██████████| 100/100 [00:48<00:00,  2.06it/s]\n"
     ]
    },
    {
     "name": "stdout",
     "output_type": "stream",
     "text": [
      "✅ Updated and saved new grid at ../backend/landscapes/mlp_5/spirals/train/range0.2/ep860\n",
      "Done: spirals, width=5, depth=1, ab_range=0.2, epoch=860\n",
      "Previously saved model is of lower resolution; recomputing\n"
     ]
    },
    {
     "name": "stderr",
     "output_type": "stream",
     "text": [
      "Outer loop (a): 100%|██████████| 100/100 [00:49<00:00,  2.00it/s]\n"
     ]
    },
    {
     "name": "stdout",
     "output_type": "stream",
     "text": [
      "✅ Updated and saved new grid at ../backend/landscapes/mlp_5_5/two_blobs_separate/train/range0.2/ep260\n",
      "Done: two_blobs_separate, width=5, depth=2, ab_range=0.2, epoch=260\n",
      "Previously saved model is of lower resolution; recomputing\n"
     ]
    },
    {
     "name": "stderr",
     "output_type": "stream",
     "text": [
      "Outer loop (a): 100%|██████████| 100/100 [00:50<00:00,  1.99it/s]\n"
     ]
    },
    {
     "name": "stdout",
     "output_type": "stream",
     "text": [
      "✅ Updated and saved new grid at ../backend/landscapes/mlp_5_5/half_moons/train/range0.5/ep130\n",
      "Done: half_moons, width=5, depth=2, ab_range=0.5, epoch=130\n",
      "Previously saved model is of lower resolution; recomputing\n"
     ]
    },
    {
     "name": "stderr",
     "output_type": "stream",
     "text": [
      "Outer loop (a): 100%|██████████| 100/100 [00:46<00:00,  2.13it/s]\n"
     ]
    },
    {
     "name": "stdout",
     "output_type": "stream",
     "text": [
      "✅ Updated and saved new grid at ../backend/landscapes/mlp_5/spirals/train/range0.5/ep780\n",
      "Done: spirals, width=5, depth=1, ab_range=0.5, epoch=780\n",
      "Previously saved model is of lower resolution; recomputing\n"
     ]
    },
    {
     "name": "stderr",
     "output_type": "stream",
     "text": [
      "Outer loop (a): 100%|██████████| 100/100 [00:54<00:00,  1.83it/s]\n"
     ]
    },
    {
     "name": "stdout",
     "output_type": "stream",
     "text": [
      "✅ Updated and saved new grid at ../backend/landscapes/mlp_5_5_5_5/two_blobs_overlap/train/range0.2/ep280\n",
      "Done: two_blobs_overlap, width=5, depth=4, ab_range=0.2, epoch=280\n",
      "Previously saved model is of lower resolution; recomputing\n"
     ]
    },
    {
     "name": "stderr",
     "output_type": "stream",
     "text": [
      "Outer loop (a): 100%|██████████| 100/100 [00:53<00:00,  1.86it/s]\n"
     ]
    },
    {
     "name": "stdout",
     "output_type": "stream",
     "text": [
      "✅ Updated and saved new grid at ../backend/landscapes/mlp_5_5_5_5/two_blobs_overlap/train/range5/ep640\n",
      "Done: two_blobs_overlap, width=5, depth=4, ab_range=5, epoch=640\n",
      "Previously saved model is of lower resolution; recomputing\n"
     ]
    },
    {
     "name": "stderr",
     "output_type": "stream",
     "text": [
      "Outer loop (a): 100%|██████████| 100/100 [00:50<00:00,  2.00it/s]\n"
     ]
    },
    {
     "name": "stdout",
     "output_type": "stream",
     "text": [
      "✅ Updated and saved new grid at ../backend/landscapes/mlp_5_5/four_corners/train/range0.2/ep510\n",
      "Done: four_corners, width=5, depth=2, ab_range=0.2, epoch=510\n",
      "Previously saved model is of lower resolution; recomputing\n"
     ]
    },
    {
     "name": "stderr",
     "output_type": "stream",
     "text": [
      "Outer loop (a): 100%|██████████| 100/100 [00:47<00:00,  2.09it/s]\n"
     ]
    },
    {
     "name": "stdout",
     "output_type": "stream",
     "text": [
      "✅ Updated and saved new grid at ../backend/landscapes/mlp_5/two_blobs_overlap/train/range0.5/ep220\n",
      "Done: two_blobs_overlap, width=5, depth=1, ab_range=0.5, epoch=220\n",
      "Previously saved model is of lower resolution; recomputing\n"
     ]
    },
    {
     "name": "stderr",
     "output_type": "stream",
     "text": [
      "Outer loop (a): 100%|██████████| 100/100 [00:47<00:00,  2.10it/s]\n"
     ]
    },
    {
     "name": "stdout",
     "output_type": "stream",
     "text": [
      "✅ Updated and saved new grid at ../backend/landscapes/mlp_5/spirals/train/range0.2/ep870\n",
      "Done: spirals, width=5, depth=1, ab_range=0.2, epoch=870\n",
      "Previously saved model is of lower resolution; recomputing\n"
     ]
    },
    {
     "name": "stderr",
     "output_type": "stream",
     "text": [
      "Outer loop (a): 100%|██████████| 100/100 [00:49<00:00,  2.01it/s]\n"
     ]
    },
    {
     "name": "stdout",
     "output_type": "stream",
     "text": [
      "✅ Updated and saved new grid at ../backend/landscapes/mlp_5_5/two_blobs_separate/train/range0.2/ep270\n",
      "Done: two_blobs_separate, width=5, depth=2, ab_range=0.2, epoch=270\n",
      "Previously saved model is of lower resolution; recomputing\n"
     ]
    },
    {
     "name": "stderr",
     "output_type": "stream",
     "text": [
      "Outer loop (a): 100%|██████████| 100/100 [00:47<00:00,  2.11it/s]\n",
      "Outer loop (a):  97%|█████████▋| 97/100 [00:48<00:01,  1.86it/s]"
     ]
    },
    {
     "name": "stdout",
     "output_type": "stream",
     "text": [
      "✅ Updated and saved new grid at ../backend/landscapes/mlp_5/spirals/train/range0.5/ep790\n",
      "Done: spirals, width=5, depth=1, ab_range=0.5, epoch=790\n",
      "Previously saved model is of lower resolution; recomputing\n"
     ]
    },
    {
     "name": "stderr",
     "output_type": "stream",
     "text": [
      "Outer loop (a): 100%|██████████| 100/100 [00:50<00:00,  2.00it/s]\n"
     ]
    },
    {
     "name": "stdout",
     "output_type": "stream",
     "text": [
      "✅ Updated and saved new grid at ../backend/landscapes/mlp_5_5/half_moons/train/range0.5/ep140\n",
      "Done: half_moons, width=5, depth=2, ab_range=0.5, epoch=140\n",
      "Previously saved model is of lower resolution; recomputing\n"
     ]
    },
    {
     "name": "stderr",
     "output_type": "stream",
     "text": [
      "Outer loop (a): 100%|██████████| 100/100 [00:52<00:00,  1.89it/s]\n"
     ]
    },
    {
     "name": "stdout",
     "output_type": "stream",
     "text": [
      "✅ Updated and saved new grid at ../backend/landscapes/mlp_5_5_5_5/two_blobs_overlap/train/range0.2/ep290\n",
      "Done: two_blobs_overlap, width=5, depth=4, ab_range=0.2, epoch=290\n",
      "Previously saved model is of lower resolution; recomputing\n"
     ]
    },
    {
     "name": "stderr",
     "output_type": "stream",
     "text": [
      "Outer loop (a): 100%|██████████| 100/100 [00:55<00:00,  1.79it/s]\n"
     ]
    },
    {
     "name": "stdout",
     "output_type": "stream",
     "text": [
      "✅ Updated and saved new grid at ../backend/landscapes/mlp_5_5_5_5/two_blobs_overlap/train/range5/ep650\n",
      "Done: two_blobs_overlap, width=5, depth=4, ab_range=5, epoch=650\n",
      "Previously saved model is of lower resolution; recomputing\n"
     ]
    },
    {
     "name": "stderr",
     "output_type": "stream",
     "text": [
      "Outer loop (a): 100%|██████████| 100/100 [00:48<00:00,  2.06it/s]\n"
     ]
    },
    {
     "name": "stdout",
     "output_type": "stream",
     "text": [
      "✅ Updated and saved new grid at ../backend/landscapes/mlp_5_5/four_corners/train/range0.2/ep520\n",
      "Done: four_corners, width=5, depth=2, ab_range=0.2, epoch=520\n",
      "Previously saved model is of lower resolution; recomputing\n"
     ]
    },
    {
     "name": "stderr",
     "output_type": "stream",
     "text": [
      "Outer loop (a): 100%|██████████| 100/100 [00:49<00:00,  2.03it/s]\n",
      "Outer loop (a):  73%|███████▎  | 73/100 [00:35<00:13,  1.93it/s]"
     ]
    },
    {
     "name": "stdout",
     "output_type": "stream",
     "text": [
      "✅ Updated and saved new grid at ../backend/landscapes/mlp_5/two_blobs_overlap/train/range0.5/ep230\n",
      "Done: two_blobs_overlap, width=5, depth=1, ab_range=0.5, epoch=230\n",
      "Previously saved model is of lower resolution; recomputing\n"
     ]
    },
    {
     "name": "stderr",
     "output_type": "stream",
     "text": [
      "Outer loop (a): 100%|██████████| 100/100 [00:47<00:00,  2.11it/s]\n"
     ]
    },
    {
     "name": "stdout",
     "output_type": "stream",
     "text": [
      "✅ Updated and saved new grid at ../backend/landscapes/mlp_5/spirals/train/range0.2/ep880\n",
      "Done: spirals, width=5, depth=1, ab_range=0.2, epoch=880\n",
      "Previously saved model is of lower resolution; recomputing\n"
     ]
    },
    {
     "name": "stderr",
     "output_type": "stream",
     "text": [
      "Outer loop (a): 100%|██████████| 100/100 [00:48<00:00,  2.06it/s]\n"
     ]
    },
    {
     "name": "stdout",
     "output_type": "stream",
     "text": [
      "✅ Updated and saved new grid at ../backend/landscapes/mlp_5_5/two_blobs_separate/train/range0.2/ep280\n",
      "Done: two_blobs_separate, width=5, depth=2, ab_range=0.2, epoch=280\n",
      "Previously saved model is of lower resolution; recomputing\n"
     ]
    },
    {
     "name": "stderr",
     "output_type": "stream",
     "text": [
      "Outer loop (a): 100%|██████████| 100/100 [00:46<00:00,  2.16it/s]\n"
     ]
    },
    {
     "name": "stdout",
     "output_type": "stream",
     "text": [
      "✅ Updated and saved new grid at ../backend/landscapes/mlp_5/spirals/train/range0.5/ep800\n",
      "Done: spirals, width=5, depth=1, ab_range=0.5, epoch=800\n",
      "Previously saved model is of lower resolution; recomputing\n"
     ]
    },
    {
     "name": "stderr",
     "output_type": "stream",
     "text": [
      "Outer loop (a): 100%|██████████| 100/100 [00:49<00:00,  2.01it/s]\n"
     ]
    },
    {
     "name": "stdout",
     "output_type": "stream",
     "text": [
      "✅ Updated and saved new grid at ../backend/landscapes/mlp_5_5/half_moons/train/range0.5/ep150\n",
      "Done: half_moons, width=5, depth=2, ab_range=0.5, epoch=150\n",
      "Previously saved model is of lower resolution; recomputing\n"
     ]
    },
    {
     "name": "stderr",
     "output_type": "stream",
     "text": [
      "Outer loop (a): 100%|██████████| 100/100 [00:53<00:00,  1.87it/s]\n"
     ]
    },
    {
     "name": "stdout",
     "output_type": "stream",
     "text": [
      "✅ Updated and saved new grid at ../backend/landscapes/mlp_5_5_5_5/two_blobs_overlap/train/range0.2/ep300\n",
      "Done: two_blobs_overlap, width=5, depth=4, ab_range=0.2, epoch=300\n",
      "Previously saved model is of lower resolution; recomputing\n"
     ]
    },
    {
     "name": "stderr",
     "output_type": "stream",
     "text": [
      "Outer loop (a): 100%|██████████| 100/100 [00:55<00:00,  1.81it/s]\n"
     ]
    },
    {
     "name": "stdout",
     "output_type": "stream",
     "text": [
      "✅ Updated and saved new grid at ../backend/landscapes/mlp_5_5_5_5/two_blobs_overlap/train/range5/ep660\n",
      "Done: two_blobs_overlap, width=5, depth=4, ab_range=5, epoch=660\n",
      "Previously saved model is of lower resolution; recomputing\n"
     ]
    },
    {
     "name": "stderr",
     "output_type": "stream",
     "text": [
      "Outer loop (a): 100%|██████████| 100/100 [00:45<00:00,  2.18it/s]\n"
     ]
    },
    {
     "name": "stdout",
     "output_type": "stream",
     "text": [
      "✅ Updated and saved new grid at ../backend/landscapes/mlp_5/two_blobs_overlap/train/range0.5/ep240\n",
      "Done: two_blobs_overlap, width=5, depth=1, ab_range=0.5, epoch=240\n",
      "Previously saved model is of lower resolution; recomputing\n"
     ]
    },
    {
     "name": "stderr",
     "output_type": "stream",
     "text": [
      "Outer loop (a): 100%|██████████| 100/100 [00:46<00:00,  2.15it/s]\n"
     ]
    },
    {
     "name": "stdout",
     "output_type": "stream",
     "text": [
      "✅ Updated and saved new grid at ../backend/landscapes/mlp_5/spirals/train/range0.2/ep890\n",
      "Done: spirals, width=5, depth=1, ab_range=0.2, epoch=890\n",
      "Previously saved model is of lower resolution; recomputing\n"
     ]
    },
    {
     "name": "stderr",
     "output_type": "stream",
     "text": [
      "Outer loop (a): 100%|██████████| 100/100 [00:49<00:00,  2.02it/s]\n"
     ]
    },
    {
     "name": "stdout",
     "output_type": "stream",
     "text": [
      "✅ Updated and saved new grid at ../backend/landscapes/mlp_5_5/four_corners/train/range0.2/ep530\n",
      "Done: four_corners, width=5, depth=2, ab_range=0.2, epoch=530\n"
     ]
    },
    {
     "name": "stderr",
     "output_type": "stream",
     "text": [
      "Outer loop (a):  70%|███████   | 70/100 [00:34<00:14,  2.01it/s]"
     ]
    },
    {
     "name": "stdout",
     "output_type": "stream",
     "text": [
      "Previously saved model is of lower resolution; recomputing\n"
     ]
    },
    {
     "name": "stderr",
     "output_type": "stream",
     "text": [
      "Outer loop (a): 100%|██████████| 100/100 [00:47<00:00,  2.12it/s]\n"
     ]
    },
    {
     "name": "stdout",
     "output_type": "stream",
     "text": [
      "✅ Updated and saved new grid at ../backend/landscapes/mlp_5/spirals/train/range0.5/ep810\n",
      "Done: spirals, width=5, depth=1, ab_range=0.5, epoch=810\n",
      "Previously saved model is of lower resolution; recomputing\n"
     ]
    },
    {
     "name": "stderr",
     "output_type": "stream",
     "text": [
      "Outer loop (a): 100%|██████████| 100/100 [00:49<00:00,  2.01it/s]\n"
     ]
    },
    {
     "name": "stdout",
     "output_type": "stream",
     "text": [
      "✅ Updated and saved new grid at ../backend/landscapes/mlp_5_5/two_blobs_separate/train/range0.2/ep290\n",
      "Done: two_blobs_separate, width=5, depth=2, ab_range=0.2, epoch=290\n",
      "Previously saved model is of lower resolution; recomputing\n"
     ]
    },
    {
     "name": "stderr",
     "output_type": "stream",
     "text": [
      "Outer loop (a): 100%|██████████| 100/100 [00:49<00:00,  2.03it/s]\n"
     ]
    },
    {
     "name": "stdout",
     "output_type": "stream",
     "text": [
      "✅ Updated and saved new grid at ../backend/landscapes/mlp_5_5/half_moons/train/range0.5/ep160\n",
      "Done: half_moons, width=5, depth=2, ab_range=0.5, epoch=160\n",
      "Previously saved model is of lower resolution; recomputing\n"
     ]
    },
    {
     "name": "stderr",
     "output_type": "stream",
     "text": [
      "Outer loop (a): 100%|██████████| 100/100 [00:55<00:00,  1.81it/s]\n"
     ]
    },
    {
     "name": "stdout",
     "output_type": "stream",
     "text": [
      "✅ Updated and saved new grid at ../backend/landscapes/mlp_5_5_5_5/two_blobs_overlap/train/range0.2/ep310\n",
      "Done: two_blobs_overlap, width=5, depth=4, ab_range=0.2, epoch=310\n",
      "Previously saved model is of lower resolution; recomputing\n"
     ]
    },
    {
     "name": "stderr",
     "output_type": "stream",
     "text": [
      "Outer loop (a): 100%|██████████| 100/100 [00:47<00:00,  2.10it/s]\n"
     ]
    },
    {
     "name": "stdout",
     "output_type": "stream",
     "text": [
      "✅ Updated and saved new grid at ../backend/landscapes/mlp_5/two_blobs_overlap/train/range0.5/ep250"
     ]
    },
    {
     "name": "stderr",
     "output_type": "stream",
     "text": [
      "Outer loop (a):  91%|█████████ | 91/100 [00:44<00:04,  2.18it/s]"
     ]
    },
    {
     "name": "stdout",
     "output_type": "stream",
     "text": [
      "\n",
      "Done: two_blobs_overlap, width=5, depth=1, ab_range=0.5, epoch=250\n",
      "Previously saved model is of lower resolution; recomputing\n"
     ]
    },
    {
     "name": "stderr",
     "output_type": "stream",
     "text": [
      "Outer loop (a): 100%|██████████| 100/100 [00:54<00:00,  1.82it/s]\n"
     ]
    },
    {
     "name": "stdout",
     "output_type": "stream",
     "text": [
      "✅ Updated and saved new grid at ../backend/landscapes/mlp_5_5_5_5/two_blobs_overlap/train/range5/ep670\n",
      "Done: two_blobs_overlap, width=5, depth=4, ab_range=5, epoch=670\n",
      "Previously saved model is of lower resolution; recomputing\n"
     ]
    },
    {
     "name": "stderr",
     "output_type": "stream",
     "text": [
      "Outer loop (a): 100%|██████████| 100/100 [00:47<00:00,  2.10it/s]\n"
     ]
    },
    {
     "name": "stdout",
     "output_type": "stream",
     "text": [
      "✅ Updated and saved new grid at ../backend/landscapes/mlp_5/spirals/train/range0.2/ep900\n",
      "Done: spirals, width=5, depth=1, ab_range=0.2, epoch=900\n",
      "Previously saved model is of lower resolution; recomputing\n"
     ]
    },
    {
     "name": "stderr",
     "output_type": "stream",
     "text": [
      "Outer loop (a): 100%|██████████| 100/100 [00:49<00:00,  2.03it/s]\n"
     ]
    },
    {
     "name": "stdout",
     "output_type": "stream",
     "text": [
      "✅ Updated and saved new grid at ../backend/landscapes/mlp_5_5/four_corners/train/range0.2/ep540\n",
      "Done: four_corners, width=5, depth=2, ab_range=0.2, epoch=540\n",
      "Previously saved model is of lower resolution; recomputing\n"
     ]
    },
    {
     "name": "stderr",
     "output_type": "stream",
     "text": [
      "Outer loop (a): 100%|██████████| 100/100 [00:48<00:00,  2.06it/s]\n"
     ]
    },
    {
     "name": "stdout",
     "output_type": "stream",
     "text": [
      "✅ Updated and saved new grid at ../backend/landscapes/mlp_5/spirals/train/range0.5/ep820\n",
      "Done: spirals, width=5, depth=1, ab_range=0.5, epoch=820\n",
      "Previously saved model is of lower resolution; recomputing\n"
     ]
    },
    {
     "name": "stderr",
     "output_type": "stream",
     "text": [
      "Outer loop (a): 100%|██████████| 100/100 [00:49<00:00,  2.03it/s]\n"
     ]
    },
    {
     "name": "stdout",
     "output_type": "stream",
     "text": [
      "✅ Updated and saved new grid at ../backend/landscapes/mlp_5_5/two_blobs_separate/train/range0.2/ep300\n",
      "Done: two_blobs_separate, width=5, depth=2, ab_range=0.2, epoch=300\n",
      "Previously saved model is of lower resolution; recomputing\n"
     ]
    },
    {
     "name": "stderr",
     "output_type": "stream",
     "text": [
      "Outer loop (a): 100%|██████████| 100/100 [00:49<00:00,  2.00it/s]\n"
     ]
    },
    {
     "name": "stdout",
     "output_type": "stream",
     "text": [
      "✅ Updated and saved new grid at ../backend/landscapes/mlp_5_5/half_moons/train/range0.5/ep170\n",
      "Done: half_moons, width=5, depth=2, ab_range=0.5, epoch=170\n",
      "Previously saved model is of lower resolution; recomputing\n"
     ]
    },
    {
     "name": "stderr",
     "output_type": "stream",
     "text": [
      "Outer loop (a): 100%|██████████| 100/100 [00:47<00:00,  2.11it/s]\n"
     ]
    },
    {
     "name": "stdout",
     "output_type": "stream",
     "text": [
      "✅ Updated and saved new grid at ../backend/landscapes/mlp_5/two_blobs_overlap/train/range0.5/ep260\n",
      "Done: two_blobs_overlap, width=5, depth=1, ab_range=0.5, epoch=260\n",
      "Previously saved model is of lower resolution; recomputing\n"
     ]
    },
    {
     "name": "stderr",
     "output_type": "stream",
     "text": [
      "Outer loop (a): 100%|██████████| 100/100 [00:46<00:00,  2.14it/s]\n"
     ]
    },
    {
     "name": "stdout",
     "output_type": "stream",
     "text": [
      "✅ Updated and saved new grid at ../backend/landscapes/mlp_5/spirals/train/range0.2/ep910\n",
      "Done: spirals, width=5, depth=1, ab_range=0.2, epoch=910\n",
      "Previously saved model is of lower resolution; recomputing\n"
     ]
    },
    {
     "name": "stderr",
     "output_type": "stream",
     "text": [
      "Outer loop (a): 100%|██████████| 100/100 [00:56<00:00,  1.77it/s]\n"
     ]
    },
    {
     "name": "stdout",
     "output_type": "stream",
     "text": [
      "✅ Updated and saved new grid at ../backend/landscapes/mlp_5_5_5_5/two_blobs_overlap/train/range0.2/ep320\n",
      "Done: two_blobs_overlap, width=5, depth=4, ab_range=0.2, epoch=320\n",
      "Previously saved model is of lower resolution; recomputing\n"
     ]
    },
    {
     "name": "stderr",
     "output_type": "stream",
     "text": [
      "Outer loop (a): 100%|██████████| 100/100 [00:48<00:00,  2.04it/s]\n"
     ]
    },
    {
     "name": "stdout",
     "output_type": "stream",
     "text": [
      "✅ Updated and saved new grid at ../backend/landscapes/mlp_5_5/four_corners/train/range0.2/ep550\n",
      "Done: four_corners, width=5, depth=2, ab_range=0.2, epoch=550\n",
      "Previously saved model is of lower resolution; recomputing\n"
     ]
    },
    {
     "name": "stderr",
     "output_type": "stream",
     "text": [
      "Outer loop (a): 100%|██████████| 100/100 [00:55<00:00,  1.81it/s]\n"
     ]
    },
    {
     "name": "stdout",
     "output_type": "stream",
     "text": [
      "✅ Updated and saved new grid at ../backend/landscapes/mlp_5_5_5_5/two_blobs_overlap/train/range5/ep680\n",
      "Done: two_blobs_overlap, width=5, depth=4, ab_range=5, epoch=680\n",
      "Previously saved model is of lower resolution; recomputing\n"
     ]
    },
    {
     "name": "stderr",
     "output_type": "stream",
     "text": [
      "Outer loop (a): 100%|██████████| 100/100 [00:48<00:00,  2.06it/s]\n"
     ]
    },
    {
     "name": "stdout",
     "output_type": "stream",
     "text": [
      "✅ Updated and saved new grid at ../backend/landscapes/mlp_5/spirals/train/range0.5/ep830\n",
      "Done: spirals, width=5, depth=1, ab_range=0.5, epoch=830\n",
      "Previously saved model is of lower resolution; recomputing\n"
     ]
    },
    {
     "name": "stderr",
     "output_type": "stream",
     "text": [
      "Outer loop (a):  22%|██▏       | 22/100 [00:12<00:45,  1.71it/s]]\n"
     ]
    },
    {
     "name": "stdout",
     "output_type": "stream",
     "text": [
      "✅ Updated and saved new grid at ../backend/landscapes/mlp_5_5/two_blobs_separate/train/range0.2/ep310\n",
      "Done: two_blobs_separate, width=5, depth=2, ab_range=0.2, epoch=310\n",
      "Previously saved model is of lower resolution; recomputing\n"
     ]
    },
    {
     "name": "stderr",
     "output_type": "stream",
     "text": [
      "Outer loop (a): 100%|██████████| 100/100 [00:49<00:00,  2.02it/s]\n"
     ]
    },
    {
     "name": "stdout",
     "output_type": "stream",
     "text": [
      "✅ Updated and saved new grid at ../backend/landscapes/mlp_5_5/half_moons/train/range0.5/ep180\n",
      "Done: half_moons, width=5, depth=2, ab_range=0.5, epoch=180\n",
      "Previously saved model is of lower resolution; recomputing\n"
     ]
    },
    {
     "name": "stderr",
     "output_type": "stream",
     "text": [
      "Outer loop (a): 100%|██████████| 100/100 [00:48<00:00,  2.05it/s]\n"
     ]
    },
    {
     "name": "stdout",
     "output_type": "stream",
     "text": [
      "✅ Updated and saved new grid at ../backend/landscapes/mlp_5/two_blobs_overlap/train/range0.5/ep270\n",
      "Done: two_blobs_overlap, width=5, depth=1, ab_range=0.5, epoch=270\n",
      "Previously saved model is of lower resolution; recomputing\n"
     ]
    },
    {
     "name": "stderr",
     "output_type": "stream",
     "text": [
      "Outer loop (a): 100%|██████████| 100/100 [00:48<00:00,  2.07it/s]\n"
     ]
    },
    {
     "name": "stdout",
     "output_type": "stream",
     "text": [
      "✅ Updated and saved new grid at ../backend/landscapes/mlp_5/spirals/train/range0.2/ep920\n",
      "Done: spirals, width=5, depth=1, ab_range=0.2, epoch=920\n",
      "Previously saved model is of lower resolution; recomputing\n"
     ]
    },
    {
     "name": "stderr",
     "output_type": "stream",
     "text": [
      "Outer loop (a): 100%|██████████| 100/100 [00:48<00:00,  2.05it/s]\n"
     ]
    },
    {
     "name": "stdout",
     "output_type": "stream",
     "text": [
      "✅ Updated and saved new grid at ../backend/landscapes/mlp_5_5/four_corners/train/range0.2/ep560\n",
      "Done: four_corners, width=5, depth=2, ab_range=0.2, epoch=560\n",
      "Previously saved model is of lower resolution; recomputing\n"
     ]
    },
    {
     "name": "stderr",
     "output_type": "stream",
     "text": [
      "Outer loop (a): 100%|██████████| 100/100 [00:55<00:00,  1.79it/s]\n"
     ]
    },
    {
     "name": "stdout",
     "output_type": "stream",
     "text": [
      "✅ Updated and saved new grid at ../backend/landscapes/mlp_5_5_5_5/two_blobs_overlap/train/range0.2/ep330\n",
      "Done: two_blobs_overlap, width=5, depth=4, ab_range=0.2, epoch=330\n",
      "Previously saved model is of lower resolution; recomputing\n"
     ]
    },
    {
     "name": "stderr",
     "output_type": "stream",
     "text": [
      "Outer loop (a): 100%|██████████| 100/100 [00:47<00:00,  2.10it/s]\n"
     ]
    },
    {
     "name": "stdout",
     "output_type": "stream",
     "text": [
      "✅ Updated and saved new grid at ../backend/landscapes/mlp_5/spirals/train/range0.5/ep840\n",
      "Done: spirals, width=5, depth=1, ab_range=0.5, epoch=840\n",
      "Previously saved model is of lower resolution; recomputing\n"
     ]
    },
    {
     "name": "stderr",
     "output_type": "stream",
     "text": [
      "Outer loop (a): 100%|██████████| 100/100 [00:53<00:00,  1.88it/s]\n"
     ]
    },
    {
     "name": "stdout",
     "output_type": "stream",
     "text": [
      "✅ Updated and saved new grid at ../backend/landscapes/mlp_5_5_5_5/two_blobs_overlap/train/range5/ep690\n",
      "Done: two_blobs_overlap, width=5, depth=4, ab_range=5, epoch=690\n",
      "Previously saved model is of lower resolution; recomputing\n"
     ]
    },
    {
     "name": "stderr",
     "output_type": "stream",
     "text": [
      "Outer loop (a): 100%|██████████| 100/100 [00:49<00:00,  2.01it/s]\n"
     ]
    },
    {
     "name": "stdout",
     "output_type": "stream",
     "text": [
      "✅ Updated and saved new grid at ../backend/landscapes/mlp_5_5/two_blobs_separate/train/range0.2/ep320\n",
      "Done: two_blobs_separate, width=5, depth=2, ab_range=0.2, epoch=320\n",
      "Previously saved model is of lower resolution; recomputing\n"
     ]
    },
    {
     "name": "stderr",
     "output_type": "stream",
     "text": [
      "Outer loop (a): 100%|██████████| 100/100 [00:49<00:00,  2.02it/s]\n"
     ]
    },
    {
     "name": "stdout",
     "output_type": "stream",
     "text": [
      "✅ Updated and saved new grid at ../backend/landscapes/mlp_5_5/half_moons/train/range0.5/ep190\n",
      "Done: half_moons, width=5, depth=2, ab_range=0.5, epoch=190\n",
      "Previously saved model is of lower resolution; recomputing\n"
     ]
    },
    {
     "name": "stderr",
     "output_type": "stream",
     "text": [
      "Outer loop (a): 100%|██████████| 100/100 [00:47<00:00,  2.11it/s]\n"
     ]
    },
    {
     "name": "stdout",
     "output_type": "stream",
     "text": [
      "✅ Updated and saved new grid at ../backend/landscapes/mlp_5/two_blobs_overlap/train/range0.5/ep280\n",
      "Done: two_blobs_overlap, width=5, depth=1, ab_range=0.5, epoch=280\n",
      "Previously saved model is of lower resolution; recomputing\n"
     ]
    },
    {
     "name": "stderr",
     "output_type": "stream",
     "text": [
      "Outer loop (a): 100%|██████████| 100/100 [00:49<00:00,  2.04it/s]\n"
     ]
    },
    {
     "name": "stdout",
     "output_type": "stream",
     "text": [
      "✅ Updated and saved new grid at ../backend/landscapes/mlp_5/spirals/train/range0.2/ep930\n",
      "Done: spirals, width=5, depth=1, ab_range=0.2, epoch=930\n",
      "Previously saved model is of lower resolution; recomputing\n"
     ]
    },
    {
     "name": "stderr",
     "output_type": "stream",
     "text": [
      "Outer loop (a): 100%|██████████| 100/100 [00:49<00:00,  2.03it/s]\n"
     ]
    },
    {
     "name": "stdout",
     "output_type": "stream",
     "text": [
      "✅ Updated and saved new grid at ../backend/landscapes/mlp_5_5/four_corners/train/range0.2/ep570\n",
      "Done: four_corners, width=5, depth=2, ab_range=0.2, epoch=570\n",
      "Previously saved model is of lower resolution; recomputing\n"
     ]
    },
    {
     "name": "stderr",
     "output_type": "stream",
     "text": [
      "Outer loop (a): 100%|██████████| 100/100 [00:45<00:00,  2.21it/s]\n"
     ]
    },
    {
     "name": "stdout",
     "output_type": "stream",
     "text": [
      "✅ Updated and saved new grid at ../backend/landscapes/mlp_5/spirals/train/range0.5/ep850\n",
      "Done: spirals, width=5, depth=1, ab_range=0.5, epoch=850\n",
      "Previously saved model is of lower resolution; recomputing\n"
     ]
    },
    {
     "name": "stderr",
     "output_type": "stream",
     "text": [
      "Outer loop (a): 100%|██████████| 100/100 [00:53<00:00,  1.86it/s]\n"
     ]
    },
    {
     "name": "stdout",
     "output_type": "stream",
     "text": [
      "✅ Updated and saved new grid at ../backend/landscapes/mlp_5_5_5_5/two_blobs_overlap/train/range0.2/ep340\n",
      "Done: two_blobs_overlap, width=5, depth=4, ab_range=0.2, epoch=340\n",
      "Previously saved model is of lower resolution; recomputing\n"
     ]
    },
    {
     "name": "stderr",
     "output_type": "stream",
     "text": [
      "Outer loop (a): 100%|██████████| 100/100 [00:53<00:00,  1.87it/s]\n"
     ]
    },
    {
     "name": "stdout",
     "output_type": "stream",
     "text": [
      "✅ Updated and saved new grid at ../backend/landscapes/mlp_5_5_5_5/two_blobs_overlap/train/range5/ep700\n",
      "Done: two_blobs_overlap, width=5, depth=4, ab_range=5, epoch=700\n",
      "Previously saved model is of lower resolution; recomputing\n"
     ]
    },
    {
     "name": "stderr",
     "output_type": "stream",
     "text": [
      "Outer loop (a): 100%|██████████| 100/100 [00:50<00:00,  1.98it/s]\n"
     ]
    },
    {
     "name": "stdout",
     "output_type": "stream",
     "text": [
      "✅ Updated and saved new grid at ../backend/landscapes/mlp_5_5/two_blobs_separate/train/range0.2/ep330\n",
      "Done: two_blobs_separate, width=5, depth=2, ab_range=0.2, epoch=330\n",
      "Previously saved model is of lower resolution; recomputing\n"
     ]
    },
    {
     "name": "stderr",
     "output_type": "stream",
     "text": [
      "Outer loop (a): 100%|██████████| 100/100 [00:49<00:00,  2.02it/s]\n"
     ]
    },
    {
     "name": "stdout",
     "output_type": "stream",
     "text": [
      "✅ Updated and saved new grid at ../backend/landscapes/mlp_5_5/half_moons/train/range0.5/ep200\n",
      "Done: half_moons, width=5, depth=2, ab_range=0.5, epoch=200\n",
      "Previously saved model is of lower resolution; recomputing\n"
     ]
    },
    {
     "name": "stderr",
     "output_type": "stream",
     "text": [
      "Outer loop (a): 100%|██████████| 100/100 [00:47<00:00,  2.11it/s]\n"
     ]
    },
    {
     "name": "stdout",
     "output_type": "stream",
     "text": [
      "✅ Updated and saved new grid at ../backend/landscapes/mlp_5/two_blobs_overlap/train/range0.5/ep290\n",
      "Done: two_blobs_overlap, width=5, depth=1, ab_range=0.5, epoch=290\n",
      "Previously saved model is of lower resolution; recomputing\n"
     ]
    },
    {
     "name": "stderr",
     "output_type": "stream",
     "text": [
      "Outer loop (a): 100%|██████████| 100/100 [00:46<00:00,  2.15it/s]\n"
     ]
    },
    {
     "name": "stdout",
     "output_type": "stream",
     "text": [
      "✅ Updated and saved new grid at ../backend/landscapes/mlp_5/spirals/train/range0.2/ep940\n",
      "Done: spirals, width=5, depth=1, ab_range=0.2, epoch=940\n",
      "Previously saved model is of lower resolution; recomputing\n"
     ]
    },
    {
     "name": "stderr",
     "output_type": "stream",
     "text": [
      "Outer loop (a): 100%|██████████| 100/100 [00:47<00:00,  2.10it/s]\n"
     ]
    },
    {
     "name": "stdout",
     "output_type": "stream",
     "text": [
      "✅ Updated and saved new grid at ../backend/landscapes/mlp_5/spirals/train/range0.5/ep860\n",
      "Done: spirals, width=5, depth=1, ab_range=0.5, epoch=860\n",
      "Previously saved model is of lower resolution; recomputing\n"
     ]
    },
    {
     "name": "stderr",
     "output_type": "stream",
     "text": [
      "Outer loop (a): 100%|██████████| 100/100 [00:51<00:00,  1.94it/s]\n"
     ]
    },
    {
     "name": "stdout",
     "output_type": "stream",
     "text": [
      "✅ Updated and saved new grid at ../backend/landscapes/mlp_5_5/four_corners/train/range0.2/ep580\n",
      "Done: four_corners, width=5, depth=2, ab_range=0.2, epoch=580\n",
      "Previously saved model is of lower resolution; recomputing\n"
     ]
    },
    {
     "name": "stderr",
     "output_type": "stream",
     "text": [
      "Outer loop (a): 100%|██████████| 100/100 [00:48<00:00,  2.05it/s]\n"
     ]
    },
    {
     "name": "stdout",
     "output_type": "stream",
     "text": [
      "✅ Updated and saved new grid at ../backend/landscapes/mlp_5_5/two_blobs_separate/train/range0.2/ep340\n",
      "Done: two_blobs_separate, width=5, depth=2, ab_range=0.2, epoch=340\n",
      "Previously saved model is of lower resolution; recomputing\n"
     ]
    },
    {
     "name": "stderr",
     "output_type": "stream",
     "text": [
      "Outer loop (a): 100%|██████████| 100/100 [00:54<00:00,  1.83it/s]\n"
     ]
    },
    {
     "name": "stdout",
     "output_type": "stream",
     "text": [
      "✅ Updated and saved new grid at ../backend/landscapes/mlp_5_5_5_5/two_blobs_overlap/train/range0.2/ep350\n",
      "Done: two_blobs_overlap, width=5, depth=4, ab_range=0.2, epoch=350\n",
      "Previously saved model is of lower resolution; recomputing\n"
     ]
    },
    {
     "name": "stderr",
     "output_type": "stream",
     "text": [
      "Outer loop (a): 100%|██████████| 100/100 [00:54<00:00,  1.83it/s]\n"
     ]
    },
    {
     "name": "stdout",
     "output_type": "stream",
     "text": [
      "✅ Updated and saved new grid at ../backend/landscapes/mlp_5_5_5_5/two_blobs_overlap/train/range5/ep710\n",
      "Done: two_blobs_overlap, width=5, depth=4, ab_range=5, epoch=710\n",
      "Previously saved model is of lower resolution; recomputing\n"
     ]
    },
    {
     "name": "stderr",
     "output_type": "stream",
     "text": [
      "Outer loop (a): 100%|██████████| 100/100 [00:49<00:00,  2.01it/s]\n"
     ]
    },
    {
     "name": "stdout",
     "output_type": "stream",
     "text": [
      "✅ Updated and saved new grid at ../backend/landscapes/mlp_5_5/half_moons/train/range0.5/ep210\n",
      "Done: half_moons, width=5, depth=2, ab_range=0.5, epoch=210\n",
      "Previously saved model is of lower resolution; recomputing\n"
     ]
    },
    {
     "name": "stderr",
     "output_type": "stream",
     "text": [
      "Outer loop (a): 100%|██████████| 100/100 [00:47<00:00,  2.11it/s]\n"
     ]
    },
    {
     "name": "stdout",
     "output_type": "stream",
     "text": [
      "✅ Updated and saved new grid at ../backend/landscapes/mlp_5/two_blobs_overlap/train/range0.5/ep300\n",
      "Done: two_blobs_overlap, width=5, depth=1, ab_range=0.5, epoch=300\n",
      "Previously saved model is of lower resolution; recomputing\n"
     ]
    },
    {
     "name": "stderr",
     "output_type": "stream",
     "text": [
      "Outer loop (a): 100%|██████████| 100/100 [00:46<00:00,  2.17it/s]\n"
     ]
    },
    {
     "name": "stdout",
     "output_type": "stream",
     "text": [
      "✅ Updated and saved new grid at ../backend/landscapes/mlp_5/spirals/train/range0.2/ep950\n",
      "Done: spirals, width=5, depth=1, ab_range=0.2, epoch=950\n",
      "Previously saved model is of lower resolution; recomputing\n"
     ]
    },
    {
     "name": "stderr",
     "output_type": "stream",
     "text": [
      "Outer loop (a): 100%|██████████| 100/100 [00:46<00:00,  2.17it/s]\n"
     ]
    },
    {
     "name": "stdout",
     "output_type": "stream",
     "text": [
      "✅ Updated and saved new grid at ../backend/landscapes/mlp_5/spirals/train/range0.5/ep870\n",
      "Done: spirals, width=5, depth=1, ab_range=0.5, epoch=870\n",
      "Previously saved model is of lower resolution; recomputing\n"
     ]
    },
    {
     "name": "stderr",
     "output_type": "stream",
     "text": [
      "Outer loop (a): 100%|██████████| 100/100 [00:49<00:00,  2.03it/s]\n"
     ]
    },
    {
     "name": "stdout",
     "output_type": "stream",
     "text": [
      "✅ Updated and saved new grid at ../backend/landscapes/mlp_5_5/four_corners/train/range0.2/ep590\n",
      "Done: four_corners, width=5, depth=2, ab_range=0.2, epoch=590\n",
      "Previously saved model is of lower resolution; recomputing\n"
     ]
    },
    {
     "name": "stderr",
     "output_type": "stream",
     "text": [
      "Outer loop (a): 100%|██████████| 100/100 [00:50<00:00,  1.96it/s]\n"
     ]
    },
    {
     "name": "stdout",
     "output_type": "stream",
     "text": [
      "✅ Updated and saved new grid at ../backend/landscapes/mlp_5_5/two_blobs_separate/train/range0.2/ep350\n",
      "Done: two_blobs_separate, width=5, depth=2, ab_range=0.2, epoch=350\n",
      "Previously saved model is of lower resolution; recomputing\n"
     ]
    },
    {
     "name": "stderr",
     "output_type": "stream",
     "text": [
      "Outer loop (a): 100%|██████████| 100/100 [00:48<00:00,  2.04it/s]\n"
     ]
    },
    {
     "name": "stdout",
     "output_type": "stream",
     "text": [
      "✅ Updated and saved new grid at ../backend/landscapes/mlp_5_5/half_moons/train/range0.5/ep220\n",
      "Done: half_moons, width=5, depth=2, ab_range=0.5, epoch=220\n",
      "Previously saved model is of lower resolution; recomputing\n"
     ]
    },
    {
     "name": "stderr",
     "output_type": "stream",
     "text": [
      "Outer loop (a): 100%|██████████| 100/100 [00:54<00:00,  1.82it/s]\n"
     ]
    },
    {
     "name": "stdout",
     "output_type": "stream",
     "text": [
      "✅ Updated and saved new grid at ../backend/landscapes/mlp_5_5_5_5/two_blobs_overlap/train/range0.2/ep360\n",
      "Done: two_blobs_overlap, width=5, depth=4, ab_range=0.2, epoch=360\n",
      "Previously saved model is of lower resolution; recomputing\n"
     ]
    },
    {
     "name": "stderr",
     "output_type": "stream",
     "text": [
      "Outer loop (a): 100%|██████████| 100/100 [00:53<00:00,  1.86it/s]\n"
     ]
    },
    {
     "name": "stdout",
     "output_type": "stream",
     "text": [
      "✅ Updated and saved new grid at ../backend/landscapes/mlp_5_5_5_5/two_blobs_overlap/train/range5/ep720\n",
      "Done: two_blobs_overlap, width=5, depth=4, ab_range=5, epoch=720\n",
      "Previously saved model is of lower resolution; recomputing\n"
     ]
    },
    {
     "name": "stderr",
     "output_type": "stream",
     "text": [
      "Outer loop (a): 100%|██████████| 100/100 [00:48<00:00,  2.07it/s]\n"
     ]
    },
    {
     "name": "stdout",
     "output_type": "stream",
     "text": [
      "✅ Updated and saved new grid at ../backend/landscapes/mlp_5/spirals/train/range0.2/ep960\n",
      "Done: spirals, width=5, depth=1, ab_range=0.2, epoch=960\n",
      "Previously saved model is of lower resolution; recomputing\n"
     ]
    },
    {
     "name": "stderr",
     "output_type": "stream",
     "text": [
      "Outer loop (a): 100%|██████████| 100/100 [00:49<00:00,  2.01it/s]\n"
     ]
    },
    {
     "name": "stdout",
     "output_type": "stream",
     "text": [
      "✅ Updated and saved new grid at ../backend/landscapes/mlp_5/two_blobs_overlap/train/range0.5/ep310\n",
      "Done: two_blobs_overlap, width=5, depth=1, ab_range=0.5, epoch=310\n",
      "Previously saved model is of lower resolution; recomputing\n"
     ]
    },
    {
     "name": "stderr",
     "output_type": "stream",
     "text": [
      "Outer loop (a): 100%|██████████| 100/100 [00:47<00:00,  2.11it/s]\n"
     ]
    },
    {
     "name": "stdout",
     "output_type": "stream",
     "text": [
      "✅ Updated and saved new grid at ../backend/landscapes/mlp_5/spirals/train/range0.5/ep880\n",
      "Done: spirals, width=5, depth=1, ab_range=0.5, epoch=880\n",
      "Previously saved model is of lower resolution; recomputing\n"
     ]
    },
    {
     "name": "stderr",
     "output_type": "stream",
     "text": [
      "Outer loop (a): 100%|██████████| 100/100 [00:48<00:00,  2.05it/s]\n"
     ]
    },
    {
     "name": "stdout",
     "output_type": "stream",
     "text": [
      "✅ Updated and saved new grid at ../backend/landscapes/mlp_5_5/four_corners/train/range0.2/ep600\n",
      "Done: four_corners, width=5, depth=2, ab_range=0.2, epoch=600\n",
      "Previously saved model is of lower resolution; recomputing\n"
     ]
    },
    {
     "name": "stderr",
     "output_type": "stream",
     "text": [
      "Outer loop (a): 100%|██████████| 100/100 [00:49<00:00,  2.01it/s]\n"
     ]
    },
    {
     "name": "stdout",
     "output_type": "stream",
     "text": [
      "✅ Updated and saved new grid at ../backend/landscapes/mlp_5_5/two_blobs_separate/train/range0.2/ep360\n",
      "Done: two_blobs_separate, width=5, depth=2, ab_range=0.2, epoch=360\n",
      "Previously saved model is of lower resolution; recomputing\n"
     ]
    },
    {
     "name": "stderr",
     "output_type": "stream",
     "text": [
      "Outer loop (a): 100%|██████████| 100/100 [00:50<00:00,  1.97it/s]\n"
     ]
    },
    {
     "name": "stdout",
     "output_type": "stream",
     "text": [
      "✅ Updated and saved new grid at ../backend/landscapes/mlp_5_5/half_moons/train/range0.5/ep230\n",
      "Done: half_moons, width=5, depth=2, ab_range=0.5, epoch=230\n",
      "Previously saved model is of lower resolution; recomputing\n"
     ]
    },
    {
     "name": "stderr",
     "output_type": "stream",
     "text": [
      "Outer loop (a): 100%|██████████| 100/100 [00:54<00:00,  1.83it/s]\n",
      "Outer loop (a):  64%|██████▍   | 64/100 [00:30<00:17,  2.04it/s]"
     ]
    },
    {
     "name": "stdout",
     "output_type": "stream",
     "text": [
      "✅ Updated and saved new grid at ../backend/landscapes/mlp_5_5_5_5/two_blobs_overlap/train/range0.2/ep370\n",
      "Done: two_blobs_overlap, width=5, depth=4, ab_range=0.2, epoch=370\n",
      "Previously saved model is of lower resolution; recomputing\n"
     ]
    },
    {
     "name": "stderr",
     "output_type": "stream",
     "text": [
      "Outer loop (a): 100%|██████████| 100/100 [00:54<00:00,  1.85it/s]\n"
     ]
    },
    {
     "name": "stdout",
     "output_type": "stream",
     "text": [
      "✅ Updated and saved new grid at ../backend/landscapes/mlp_5_5_5_5/two_blobs_overlap/train/range5/ep730\n",
      "Done: two_blobs_overlap, width=5, depth=4, ab_range=5, epoch=730\n",
      "Previously saved model is of lower resolution; recomputing\n"
     ]
    },
    {
     "name": "stderr",
     "output_type": "stream",
     "text": [
      "Outer loop (a): 100%|██████████| 100/100 [00:46<00:00,  2.16it/s]\n"
     ]
    },
    {
     "name": "stdout",
     "output_type": "stream",
     "text": [
      "✅ Updated and saved new grid at ../backend/landscapes/mlp_5/spirals/train/range0.2/ep970\n",
      "Done: spirals, width=5, depth=1, ab_range=0.2, epoch=970\n",
      "Previously saved model is of lower resolution; recomputing\n"
     ]
    },
    {
     "name": "stderr",
     "output_type": "stream",
     "text": [
      "Outer loop (a): 100%|██████████| 100/100 [00:47<00:00,  2.12it/s]\n",
      "Outer loop (a):  46%|████▌     | 46/100 [00:23<00:24,  2.25it/s]"
     ]
    },
    {
     "name": "stdout",
     "output_type": "stream",
     "text": [
      "✅ Updated and saved new grid at ../backend/landscapes/mlp_5/two_blobs_overlap/train/range0.5/ep320\n",
      "Done: two_blobs_overlap, width=5, depth=1, ab_range=0.5, epoch=320\n",
      "Previously saved model is of lower resolution; recomputing\n"
     ]
    },
    {
     "name": "stderr",
     "output_type": "stream",
     "text": [
      "Outer loop (a): 100%|██████████| 100/100 [00:46<00:00,  2.13it/s]\n"
     ]
    },
    {
     "name": "stdout",
     "output_type": "stream",
     "text": [
      "✅ Updated and saved new grid at ../backend/landscapes/mlp_5/spirals/train/range0.5/ep890\n",
      "Done: spirals, width=5, depth=1, ab_range=0.5, epoch=890\n",
      "Previously saved model is of lower resolution; recomputing\n"
     ]
    },
    {
     "name": "stderr",
     "output_type": "stream",
     "text": [
      "Outer loop (a): 100%|██████████| 100/100 [00:49<00:00,  2.03it/s]\n"
     ]
    },
    {
     "name": "stdout",
     "output_type": "stream",
     "text": [
      "✅ Updated and saved new grid at ../backend/landscapes/mlp_5_5/four_corners/train/range0.2/ep610\n",
      "Done: four_corners, width=5, depth=2, ab_range=0.2, epoch=610\n",
      "Previously saved model is of lower resolution; recomputing\n"
     ]
    },
    {
     "name": "stderr",
     "output_type": "stream",
     "text": [
      "Outer loop (a): 100%|██████████| 100/100 [00:51<00:00,  1.95it/s]\n"
     ]
    },
    {
     "name": "stdout",
     "output_type": "stream",
     "text": [
      "✅ Updated and saved new grid at ../backend/landscapes/mlp_5_5/two_blobs_separate/train/range0.2/ep370\n",
      "Done: two_blobs_separate, width=5, depth=2, ab_range=0.2, epoch=370\n",
      "Previously saved model is of lower resolution; recomputing\n"
     ]
    },
    {
     "name": "stderr",
     "output_type": "stream",
     "text": [
      "Outer loop (a): 100%|██████████| 100/100 [00:51<00:00,  1.94it/s]\n"
     ]
    },
    {
     "name": "stdout",
     "output_type": "stream",
     "text": [
      "✅ Updated and saved new grid at ../backend/landscapes/mlp_5_5/half_moons/train/range0.5/ep240\n",
      "Done: half_moons, width=5, depth=2, ab_range=0.5, epoch=240\n",
      "Previously saved model is of lower resolution; recomputing\n"
     ]
    },
    {
     "name": "stderr",
     "output_type": "stream",
     "text": [
      "Outer loop (a): 100%|██████████| 100/100 [00:54<00:00,  1.83it/s]\n"
     ]
    },
    {
     "name": "stdout",
     "output_type": "stream",
     "text": [
      "✅ Updated and saved new grid at ../backend/landscapes/mlp_5_5_5_5/two_blobs_overlap/train/range5/ep740\n",
      "Done: two_blobs_overlap, width=5, depth=4, ab_range=5, epoch=740\n",
      "Previously saved model is of lower resolution; recomputing\n"
     ]
    },
    {
     "name": "stderr",
     "output_type": "stream",
     "text": [
      "Outer loop (a): 100%|██████████| 100/100 [00:46<00:00,  2.14it/s]\n"
     ]
    },
    {
     "name": "stdout",
     "output_type": "stream",
     "text": [
      "✅ Updated and saved new grid at ../backend/landscapes/mlp_5/spirals/train/range0.2/ep980\n",
      "Done: spirals, width=5, depth=1, ab_range=0.2, epoch=980\n",
      "Previously saved model is of lower resolution; recomputing\n"
     ]
    },
    {
     "name": "stderr",
     "output_type": "stream",
     "text": [
      "Outer loop (a): 100%|██████████| 100/100 [00:56<00:00,  1.76it/s]\n"
     ]
    },
    {
     "name": "stdout",
     "output_type": "stream",
     "text": [
      "✅ Updated and saved new grid at ../backend/landscapes/mlp_5_5_5_5/two_blobs_overlap/train/range0.2/ep380\n",
      "Done: two_blobs_overlap, width=5, depth=4, ab_range=0.2, epoch=380\n",
      "Previously saved model is of lower resolution; recomputing\n"
     ]
    },
    {
     "name": "stderr",
     "output_type": "stream",
     "text": [
      "Outer loop (a): 100%|██████████| 100/100 [00:46<00:00,  2.15it/s]\n"
     ]
    },
    {
     "name": "stdout",
     "output_type": "stream",
     "text": [
      "✅ Updated and saved new grid at ../backend/landscapes/mlp_5/two_blobs_overlap/train/range0.5/ep330\n",
      "Done: two_blobs_overlap, width=5, depth=1, ab_range=0.5, epoch=330\n",
      "Previously saved model is of lower resolution; recomputing\n"
     ]
    },
    {
     "name": "stderr",
     "output_type": "stream",
     "text": [
      "Outer loop (a): 100%|██████████| 100/100 [00:47<00:00,  2.12it/s]\n"
     ]
    },
    {
     "name": "stdout",
     "output_type": "stream",
     "text": [
      "✅ Updated and saved new grid at ../backend/landscapes/mlp_5/spirals/train/range0.5/ep900\n",
      "Done: spirals, width=5, depth=1, ab_range=0.5, epoch=900\n",
      "Previously saved model is of lower resolution; recomputing\n"
     ]
    },
    {
     "name": "stderr",
     "output_type": "stream",
     "text": [
      "Outer loop (a): 100%|██████████| 100/100 [00:49<00:00,  2.02it/s]\n"
     ]
    },
    {
     "name": "stdout",
     "output_type": "stream",
     "text": [
      "✅ Updated and saved new grid at ../backend/landscapes/mlp_5_5/four_corners/train/range0.2/ep620\n",
      "Done: four_corners, width=5, depth=2, ab_range=0.2, epoch=620\n",
      "Previously saved model is of lower resolution; recomputing\n"
     ]
    },
    {
     "name": "stderr",
     "output_type": "stream",
     "text": [
      "Outer loop (a): 100%|██████████| 100/100 [00:51<00:00,  1.96it/s]\n"
     ]
    },
    {
     "name": "stdout",
     "output_type": "stream",
     "text": [
      "✅ Updated and saved new grid at ../backend/landscapes/mlp_5_5/two_blobs_separate/train/range0.2/ep380\n",
      "Done: two_blobs_separate, width=5, depth=2, ab_range=0.2, epoch=380\n",
      "Previously saved model is of lower resolution; recomputing"
     ]
    },
    {
     "name": "stderr",
     "output_type": "stream",
     "text": [
      "Outer loop (a):  58%|█████▊    | 58/100 [00:27<00:21,  1.93it/s]"
     ]
    },
    {
     "name": "stdout",
     "output_type": "stream",
     "text": [
      "\n"
     ]
    },
    {
     "name": "stderr",
     "output_type": "stream",
     "text": [
      "Outer loop (a): 100%|██████████| 100/100 [00:51<00:00,  1.96it/s]\n"
     ]
    },
    {
     "name": "stdout",
     "output_type": "stream",
     "text": [
      "✅ Updated and saved new grid at ../backend/landscapes/mlp_5_5/half_moons/train/range0.5/ep250\n",
      "Done: half_moons, width=5, depth=2, ab_range=0.5, epoch=250\n",
      "Previously saved model is of lower resolution; recomputing\n"
     ]
    },
    {
     "name": "stderr",
     "output_type": "stream",
     "text": [
      "Outer loop (a): 100%|██████████| 100/100 [00:46<00:00,  2.15it/s]\n"
     ]
    },
    {
     "name": "stdout",
     "output_type": "stream",
     "text": [
      "✅ Updated and saved new grid at ../backend/landscapes/mlp_5/two_blobs_overlap/train/range0.5/ep340\n",
      "Done: two_blobs_overlap, width=5, depth=1, ab_range=0.5, epoch=340\n",
      "Previously saved model is of lower resolution; recomputing\n"
     ]
    },
    {
     "name": "stderr",
     "output_type": "stream",
     "text": [
      "Outer loop (a): 100%|██████████| 100/100 [00:48<00:00,  2.05it/s]\n"
     ]
    },
    {
     "name": "stdout",
     "output_type": "stream",
     "text": [
      "✅ Updated and saved new grid at ../backend/landscapes/mlp_5/spirals/train/range0.2/ep990\n",
      "Done: spirals, width=5, depth=1, ab_range=0.2, epoch=990\n",
      "Previously saved model is of lower resolution; recomputing\n"
     ]
    },
    {
     "name": "stderr",
     "output_type": "stream",
     "text": [
      "Outer loop (a): 100%|██████████| 100/100 [00:54<00:00,  1.85it/s]\n"
     ]
    },
    {
     "name": "stdout",
     "output_type": "stream",
     "text": [
      "✅ Updated and saved new grid at ../backend/landscapes/mlp_5_5_5_5/two_blobs_overlap/train/range5/ep750\n",
      "Done: two_blobs_overlap, width=5, depth=4, ab_range=5, epoch=750\n",
      "Previously saved model is of lower resolution; recomputing\n"
     ]
    },
    {
     "name": "stderr",
     "output_type": "stream",
     "text": [
      "Outer loop (a): 100%|██████████| 100/100 [00:54<00:00,  1.85it/s]\n"
     ]
    },
    {
     "name": "stdout",
     "output_type": "stream",
     "text": [
      "✅ Updated and saved new grid at ../backend/landscapes/mlp_5_5_5_5/two_blobs_overlap/train/range0.2/ep390\n",
      "Done: two_blobs_overlap, width=5, depth=4, ab_range=0.2, epoch=390\n",
      "Previously saved model is of lower resolution; recomputing\n"
     ]
    },
    {
     "name": "stderr",
     "output_type": "stream",
     "text": [
      "Outer loop (a): 100%|██████████| 100/100 [00:47<00:00,  2.09it/s]\n"
     ]
    },
    {
     "name": "stdout",
     "output_type": "stream",
     "text": [
      "✅ Updated and saved new grid at ../backend/landscapes/mlp_5/spirals/train/range0.5/ep910\n",
      "Done: spirals, width=5, depth=1, ab_range=0.5, epoch=910\n",
      "Previously saved model is of lower resolution; recomputing\n"
     ]
    },
    {
     "name": "stderr",
     "output_type": "stream",
     "text": [
      "Outer loop (a): 100%|██████████| 100/100 [00:48<00:00,  2.06it/s]\n"
     ]
    },
    {
     "name": "stdout",
     "output_type": "stream",
     "text": [
      "✅ Updated and saved new grid at ../backend/landscapes/mlp_5_5/four_corners/train/range0.2/ep630\n",
      "Done: four_corners, width=5, depth=2, ab_range=0.2, epoch=630\n",
      "Previously saved model is of lower resolution; recomputing\n"
     ]
    },
    {
     "name": "stderr",
     "output_type": "stream",
     "text": [
      "Outer loop (a): 100%|██████████| 100/100 [00:49<00:00,  2.03it/s]\n"
     ]
    },
    {
     "name": "stdout",
     "output_type": "stream",
     "text": [
      "✅ Updated and saved new grid at ../backend/landscapes/mlp_5_5/two_blobs_separate/train/range0.2/ep390\n",
      "Done: two_blobs_separate, width=5, depth=2, ab_range=0.2, epoch=390\n",
      "Previously saved model is of lower resolution; recomputing\n"
     ]
    },
    {
     "name": "stderr",
     "output_type": "stream",
     "text": [
      "Outer loop (a): 100%|██████████| 100/100 [00:50<00:00,  1.96it/s]\n"
     ]
    },
    {
     "name": "stdout",
     "output_type": "stream",
     "text": [
      "✅ Updated and saved new grid at ../backend/landscapes/mlp_5_5/half_moons/train/range0.5/ep260\n",
      "Done: half_moons, width=5, depth=2, ab_range=0.5, epoch=260\n",
      "Previously saved model is of lower resolution; recomputing\n"
     ]
    },
    {
     "name": "stderr",
     "output_type": "stream",
     "text": [
      "Outer loop (a): 100%|██████████| 100/100 [00:46<00:00,  2.16it/s]\n"
     ]
    },
    {
     "name": "stdout",
     "output_type": "stream",
     "text": [
      "✅ Updated and saved new grid at ../backend/landscapes/mlp_5/spirals/train/range0.2/ep1000\n",
      "Done: spirals, width=5, depth=1, ab_range=0.2, epoch=1000\n",
      "Previously saved model is of lower resolution; recomputing\n"
     ]
    },
    {
     "name": "stderr",
     "output_type": "stream",
     "text": [
      "Outer loop (a): 100%|██████████| 100/100 [00:48<00:00,  2.05it/s]\n"
     ]
    },
    {
     "name": "stdout",
     "output_type": "stream",
     "text": [
      "✅ Updated and saved new grid at ../backend/landscapes/mlp_5/two_blobs_overlap/train/range0.5/ep350\n",
      "Done: two_blobs_overlap, width=5, depth=1, ab_range=0.5, epoch=350\n",
      "Previously saved model is of lower resolution; recomputing\n"
     ]
    },
    {
     "name": "stderr",
     "output_type": "stream",
     "text": [
      "Outer loop (a): 100%|██████████| 100/100 [00:44<00:00,  2.24it/s]\n"
     ]
    },
    {
     "name": "stdout",
     "output_type": "stream",
     "text": [
      "✅ Updated and saved new grid at ../backend/landscapes/mlp_5/spirals/train/range0.5/ep920\n",
      "Done: spirals, width=5, depth=1, ab_range=0.5, epoch=920\n",
      "Previously saved model is of lower resolution; recomputing\n"
     ]
    },
    {
     "name": "stderr",
     "output_type": "stream",
     "text": [
      "Outer loop (a): 100%|██████████| 100/100 [00:53<00:00,  1.87it/s]\n"
     ]
    },
    {
     "name": "stdout",
     "output_type": "stream",
     "text": [
      "✅ Updated and saved new grid at ../backend/landscapes/mlp_5_5_5_5/two_blobs_overlap/train/range5/ep760\n",
      "Done: two_blobs_overlap, width=5, depth=4, ab_range=5, epoch=760\n",
      "Previously saved model is of lower resolution; recomputing\n"
     ]
    },
    {
     "name": "stderr",
     "output_type": "stream",
     "text": [
      "Outer loop (a): 100%|██████████| 100/100 [00:54<00:00,  1.82it/s]\n"
     ]
    },
    {
     "name": "stdout",
     "output_type": "stream",
     "text": [
      "✅ Updated and saved new grid at ../backend/landscapes/mlp_5_5_5_5/two_blobs_overlap/train/range0.2/ep400\n",
      "Done: two_blobs_overlap, width=5, depth=4, ab_range=0.2, epoch=400\n",
      "Previously saved model is of lower resolution; recomputing\n"
     ]
    },
    {
     "name": "stderr",
     "output_type": "stream",
     "text": [
      "Outer loop (a): 100%|██████████| 100/100 [00:49<00:00,  2.01it/s]\n"
     ]
    },
    {
     "name": "stdout",
     "output_type": "stream",
     "text": [
      "✅ Updated and saved new grid at ../backend/landscapes/mlp_5_5/four_corners/train/range0.2/ep640\n"
     ]
    },
    {
     "name": "stderr",
     "output_type": "stream",
     "text": [
      "Outer loop (a):  14%|█▍        | 14/100 [00:08<00:55,  1.54it/s]"
     ]
    },
    {
     "name": "stdout",
     "output_type": "stream",
     "text": [
      "Done: four_corners, width=5, depth=2, ab_range=0.2, epoch=640\n",
      "Previously saved model is of lower resolution; recomputing\n"
     ]
    },
    {
     "name": "stderr",
     "output_type": "stream",
     "text": [
      "Outer loop (a): 100%|██████████| 100/100 [00:49<00:00,  2.03it/s]\n"
     ]
    },
    {
     "name": "stdout",
     "output_type": "stream",
     "text": [
      "✅ Updated and saved new grid at ../backend/landscapes/mlp_5_5/two_blobs_separate/train/range0.2/ep400\n",
      "Done: two_blobs_separate, width=5, depth=2, ab_range=0.2, epoch=400\n",
      "Previously saved model is of lower resolution; recomputing\n"
     ]
    },
    {
     "name": "stderr",
     "output_type": "stream",
     "text": [
      "Outer loop (a): 100%|██████████| 100/100 [00:50<00:00,  2.00it/s]\n"
     ]
    },
    {
     "name": "stdout",
     "output_type": "stream",
     "text": [
      "✅ Updated and saved new grid at ../backend/landscapes/mlp_5_5/half_moons/train/range0.5/ep270\n",
      "Done: half_moons, width=5, depth=2, ab_range=0.5, epoch=270\n",
      "Previously saved model is of lower resolution; recomputing\n"
     ]
    },
    {
     "name": "stderr",
     "output_type": "stream",
     "text": [
      "Outer loop (a): 100%|██████████| 100/100 [00:48<00:00,  2.07it/s]\n"
     ]
    },
    {
     "name": "stdout",
     "output_type": "stream",
     "text": [
      "✅ Updated and saved new grid at ../backend/landscapes/mlp_5/spirals/train/range0.5/ep0\n",
      "Done: spirals, width=5, depth=1, ab_range=0.5, epoch=0\n",
      "Previously saved model is of lower resolution; recomputing\n"
     ]
    },
    {
     "name": "stderr",
     "output_type": "stream",
     "text": [
      "Outer loop (a): 100%|██████████| 100/100 [00:48<00:00,  2.07it/s]\n"
     ]
    },
    {
     "name": "stdout",
     "output_type": "stream",
     "text": [
      "✅ Updated and saved new grid at ../backend/landscapes/mlp_5/two_blobs_overlap/train/range0.5/ep360\n",
      "Done: two_blobs_overlap, width=5, depth=1, ab_range=0.5, epoch=360\n",
      "Previously saved model is of lower resolution; recomputing\n"
     ]
    },
    {
     "name": "stderr",
     "output_type": "stream",
     "text": [
      "Outer loop (a): 100%|██████████| 100/100 [00:47<00:00,  2.12it/s]\n"
     ]
    },
    {
     "name": "stdout",
     "output_type": "stream",
     "text": [
      "✅ Updated and saved new grid at ../backend/landscapes/mlp_5/spirals/train/range0.5/ep930\n",
      "Done: spirals, width=5, depth=1, ab_range=0.5, epoch=930\n",
      "Previously saved model is of lower resolution; recomputing"
     ]
    },
    {
     "name": "stderr",
     "output_type": "stream",
     "text": [
      "Outer loop (a):   5%|▌         | 5/100 [00:02<00:41,  2.28it/s]"
     ]
    },
    {
     "name": "stdout",
     "output_type": "stream",
     "text": [
      "\n"
     ]
    },
    {
     "name": "stderr",
     "output_type": "stream",
     "text": [
      "Outer loop (a): 100%|██████████| 100/100 [00:56<00:00,  1.77it/s]\n"
     ]
    },
    {
     "name": "stdout",
     "output_type": "stream",
     "text": [
      "✅ Updated and saved new grid at ../backend/landscapes/mlp_5_5_5_5/two_blobs_overlap/train/range5/ep770\n",
      "Done: two_blobs_overlap, width=5, depth=4, ab_range=5, epoch=770\n",
      "Previously saved model is of lower resolution; recomputing\n"
     ]
    },
    {
     "name": "stderr",
     "output_type": "stream",
     "text": [
      "Outer loop (a): 100%|██████████| 100/100 [00:55<00:00,  1.79it/s]\n"
     ]
    },
    {
     "name": "stdout",
     "output_type": "stream",
     "text": [
      "✅ Updated and saved new grid at ../backend/landscapes/mlp_5_5_5_5/two_blobs_overlap/train/range0.2/ep410\n",
      "Done: two_blobs_overlap, width=5, depth=4, ab_range=0.2, epoch=410\n",
      "Previously saved model is of lower resolution; recomputing\n"
     ]
    },
    {
     "name": "stderr",
     "output_type": "stream",
     "text": [
      "Outer loop (a): 100%|██████████| 100/100 [00:50<00:00,  1.98it/s]\n"
     ]
    },
    {
     "name": "stdout",
     "output_type": "stream",
     "text": [
      "✅ Updated and saved new grid at ../backend/landscapes/mlp_5_5/four_corners/train/range0.2/ep650\n",
      "Done: four_corners, width=5, depth=2, ab_range=0.2, epoch=650\n",
      "Previously saved model is of lower resolution; recomputing\n"
     ]
    },
    {
     "name": "stderr",
     "output_type": "stream",
     "text": [
      "Outer loop (a): 100%|██████████| 100/100 [00:50<00:00,  2.00it/s]\n"
     ]
    },
    {
     "name": "stdout",
     "output_type": "stream",
     "text": [
      "✅ Updated and saved new grid at ../backend/landscapes/mlp_5_5/two_blobs_separate/train/range0.2/ep410\n",
      "Done: two_blobs_separate, width=5, depth=2, ab_range=0.2, epoch=410\n",
      "Previously saved model is of lower resolution; recomputing\n"
     ]
    },
    {
     "name": "stderr",
     "output_type": "stream",
     "text": [
      "Outer loop (a): 100%|██████████| 100/100 [00:45<00:00,  2.19it/s]\n"
     ]
    },
    {
     "name": "stdout",
     "output_type": "stream",
     "text": [
      "✅ Updated and saved new grid at ../backend/landscapes/mlp_5/spirals/train/range0.5/ep10\n",
      "Done: spirals, width=5, depth=1, ab_range=0.5, epoch=10\n",
      "Previously saved model is of lower resolution; recomputing\n"
     ]
    },
    {
     "name": "stderr",
     "output_type": "stream",
     "text": [
      "Outer loop (a): 100%|██████████| 100/100 [00:50<00:00,  1.99it/s]\n"
     ]
    },
    {
     "name": "stdout",
     "output_type": "stream",
     "text": [
      "✅ Updated and saved new grid at ../backend/landscapes/mlp_5_5/half_moons/train/range0.5/ep280\n",
      "Done: half_moons, width=5, depth=2, ab_range=0.5, epoch=280\n",
      "Previously saved model is of lower resolution; recomputing\n"
     ]
    },
    {
     "name": "stderr",
     "output_type": "stream",
     "text": [
      "Outer loop (a): 100%|██████████| 100/100 [00:47<00:00,  2.12it/s]\n"
     ]
    },
    {
     "name": "stdout",
     "output_type": "stream",
     "text": [
      "✅ Updated and saved new grid at ../backend/landscapes/mlp_5/two_blobs_overlap/train/range0.5/ep370\n",
      "Done: two_blobs_overlap, width=5, depth=1, ab_range=0.5, epoch=370\n",
      "Previously saved model is of lower resolution; recomputing\n"
     ]
    },
    {
     "name": "stderr",
     "output_type": "stream",
     "text": [
      "Outer loop (a): 100%|██████████| 100/100 [00:48<00:00,  2.06it/s]\n"
     ]
    },
    {
     "name": "stdout",
     "output_type": "stream",
     "text": [
      "✅ Updated and saved new grid at ../backend/landscapes/mlp_5/spirals/train/range0.5/ep940\n",
      "Done: spirals, width=5, depth=1, ab_range=0.5, epoch=940\n",
      "Previously saved model is of lower resolution; recomputing\n"
     ]
    },
    {
     "name": "stderr",
     "output_type": "stream",
     "text": [
      "Outer loop (a): 100%|██████████| 100/100 [00:52<00:00,  1.92it/s]\n"
     ]
    },
    {
     "name": "stdout",
     "output_type": "stream",
     "text": [
      "✅ Updated and saved new grid at ../backend/landscapes/mlp_5_5_5_5/two_blobs_overlap/train/range0.2/ep420\n",
      "Done: two_blobs_overlap, width=5, depth=4, ab_range=0.2, epoch=420\n",
      "Previously saved model is of lower resolution; recomputing\n"
     ]
    },
    {
     "name": "stderr",
     "output_type": "stream",
     "text": [
      "Outer loop (a): 100%|██████████| 100/100 [00:53<00:00,  1.86it/s]\n"
     ]
    },
    {
     "name": "stdout",
     "output_type": "stream",
     "text": [
      "✅ Updated and saved new grid at ../backend/landscapes/mlp_5_5_5_5/two_blobs_overlap/train/range5/ep780\n",
      "Done: two_blobs_overlap, width=5, depth=4, ab_range=5, epoch=780\n",
      "Previously saved model is of lower resolution; recomputing\n"
     ]
    },
    {
     "name": "stderr",
     "output_type": "stream",
     "text": [
      "Outer loop (a): 100%|██████████| 100/100 [00:51<00:00,  1.94it/s]\n"
     ]
    },
    {
     "name": "stdout",
     "output_type": "stream",
     "text": [
      "✅ Updated and saved new grid at ../backend/landscapes/mlp_5_5/four_corners/train/range0.2/ep660\n",
      "Done: four_corners, width=5, depth=2, ab_range=0.2, epoch=660\n",
      "Previously saved model is of lower resolution; recomputing\n"
     ]
    },
    {
     "name": "stderr",
     "output_type": "stream",
     "text": [
      "Outer loop (a): 100%|██████████| 100/100 [00:51<00:00,  1.95it/s]\n"
     ]
    },
    {
     "name": "stdout",
     "output_type": "stream",
     "text": [
      "✅ Updated and saved new grid at ../backend/landscapes/mlp_5_5/two_blobs_separate/train/range0.2/ep420\n",
      "Done: two_blobs_separate, width=5, depth=2, ab_range=0.2, epoch=420\n",
      "Previously saved model is of lower resolution; recomputing\n"
     ]
    },
    {
     "name": "stderr",
     "output_type": "stream",
     "text": [
      "Outer loop (a): 100%|██████████| 100/100 [00:48<00:00,  2.06it/s]\n"
     ]
    },
    {
     "name": "stdout",
     "output_type": "stream",
     "text": [
      "✅ Updated and saved new grid at ../backend/landscapes/mlp_5/spirals/train/range0.5/ep20\n",
      "Done: spirals, width=5, depth=1, ab_range=0.5, epoch=20\n",
      "Previously saved model is of lower resolution; recomputing\n"
     ]
    },
    {
     "name": "stderr",
     "output_type": "stream",
     "text": [
      "Outer loop (a): 100%|██████████| 100/100 [00:47<00:00,  2.11it/s]\n"
     ]
    },
    {
     "name": "stdout",
     "output_type": "stream",
     "text": [
      "✅ Updated and saved new grid at ../backend/landscapes/mlp_5_5/half_moons/train/range0.5/ep290\n",
      "Done: half_moons, width=5, depth=2, ab_range=0.5, epoch=290\n",
      "Previously saved model is of lower resolution; recomputing\n"
     ]
    },
    {
     "name": "stderr",
     "output_type": "stream",
     "text": [
      "Outer loop (a): 100%|██████████| 100/100 [00:47<00:00,  2.11it/s]\n"
     ]
    },
    {
     "name": "stdout",
     "output_type": "stream",
     "text": [
      "✅ Updated and saved new grid at ../backend/landscapes/mlp_5/two_blobs_overlap/train/range0.5/ep380\n",
      "Done: two_blobs_overlap, width=5, depth=1, ab_range=0.5, epoch=380\n",
      "Previously saved model is of lower resolution; recomputing\n"
     ]
    },
    {
     "name": "stderr",
     "output_type": "stream",
     "text": [
      "Outer loop (a): 100%|██████████| 100/100 [00:47<00:00,  2.11it/s]\n"
     ]
    },
    {
     "name": "stdout",
     "output_type": "stream",
     "text": [
      "✅ Updated and saved new grid at ../backend/landscapes/mlp_5/spirals/train/range0.5/ep950\n",
      "Done: spirals, width=5, depth=1, ab_range=0.5, epoch=950\n",
      "Previously saved model is of lower resolution; recomputing\n"
     ]
    },
    {
     "name": "stderr",
     "output_type": "stream",
     "text": [
      "Outer loop (a): 100%|██████████| 100/100 [00:53<00:00,  1.87it/s]\n"
     ]
    },
    {
     "name": "stdout",
     "output_type": "stream",
     "text": [
      "✅ Updated and saved new grid at ../backend/landscapes/mlp_5_5_5_5/two_blobs_overlap/train/range0.2/ep430\n",
      "Done: two_blobs_overlap, width=5, depth=4, ab_range=0.2, epoch=430\n",
      "Previously saved model is of lower resolution; recomputing\n"
     ]
    },
    {
     "name": "stderr",
     "output_type": "stream",
     "text": [
      "Outer loop (a): 100%|██████████| 100/100 [00:51<00:00,  1.95it/s]\n"
     ]
    },
    {
     "name": "stdout",
     "output_type": "stream",
     "text": [
      "✅ Updated and saved new grid at ../backend/landscapes/mlp_5_5/four_corners/train/range0.2/ep670\n",
      "Done: four_corners, width=5, depth=2, ab_range=0.2, epoch=670\n",
      "Previously saved model is of lower resolution; recomputing"
     ]
    },
    {
     "name": "stderr",
     "output_type": "stream",
     "text": [
      "Outer loop (a):  65%|██████▌   | 65/100 [00:31<00:16,  2.10it/s]"
     ]
    },
    {
     "name": "stdout",
     "output_type": "stream",
     "text": [
      "\n"
     ]
    },
    {
     "name": "stderr",
     "output_type": "stream",
     "text": [
      "Outer loop (a): 100%|██████████| 100/100 [00:54<00:00,  1.84it/s]\n"
     ]
    },
    {
     "name": "stdout",
     "output_type": "stream",
     "text": [
      "✅ Updated and saved new grid at ../backend/landscapes/mlp_5_5_5_5/two_blobs_overlap/train/range5/ep790\n",
      "Done: two_blobs_overlap, width=5, depth=4, ab_range=5, epoch=790\n",
      "Previously saved model is of lower resolution; recomputing\n"
     ]
    },
    {
     "name": "stderr",
     "output_type": "stream",
     "text": [
      "Outer loop (a): 100%|██████████| 100/100 [00:49<00:00,  2.01it/s]\n"
     ]
    },
    {
     "name": "stdout",
     "output_type": "stream",
     "text": [
      "✅ Updated and saved new grid at ../backend/landscapes/mlp_5_5/two_blobs_separate/train/range0.2/ep430\n",
      "Done: two_blobs_separate, width=5, depth=2, ab_range=0.2, epoch=430\n",
      "Previously saved model is of lower resolution; recomputing\n"
     ]
    },
    {
     "name": "stderr",
     "output_type": "stream",
     "text": [
      "Outer loop (a): 100%|██████████| 100/100 [00:47<00:00,  2.11it/s]\n"
     ]
    },
    {
     "name": "stdout",
     "output_type": "stream",
     "text": [
      "✅ Updated and saved new grid at ../backend/landscapes/mlp_5/spirals/train/range0.5/ep30\n",
      "Done: spirals, width=5, depth=1, ab_range=0.5, epoch=30\n",
      "Previously saved model is of lower resolution; recomputing\n"
     ]
    },
    {
     "name": "stderr",
     "output_type": "stream",
     "text": [
      "Outer loop (a): 100%|██████████| 100/100 [00:48<00:00,  2.08it/s]\n"
     ]
    },
    {
     "name": "stdout",
     "output_type": "stream",
     "text": [
      "✅ Updated and saved new grid at ../backend/landscapes/mlp_5/two_blobs_overlap/train/range0.5/ep390\n",
      "Done: two_blobs_overlap, width=5, depth=1, ab_range=0.5, epoch=390\n",
      "Previously saved model is of lower resolution; recomputing\n"
     ]
    },
    {
     "name": "stderr",
     "output_type": "stream",
     "text": [
      "Outer loop (a): 100%|██████████| 100/100 [00:50<00:00,  1.98it/s]\n"
     ]
    },
    {
     "name": "stdout",
     "output_type": "stream",
     "text": [
      "✅ Updated and saved new grid at ../backend/landscapes/mlp_5_5/half_moons/train/range0.5/ep300\n",
      "Done: half_moons, width=5, depth=2, ab_range=0.5, epoch=300\n",
      "Previously saved model is of lower resolution; recomputing\n"
     ]
    },
    {
     "name": "stderr",
     "output_type": "stream",
     "text": [
      "Outer loop (a): 100%|██████████| 100/100 [00:49<00:00,  2.04it/s]\n"
     ]
    },
    {
     "name": "stdout",
     "output_type": "stream",
     "text": [
      "✅ Updated and saved new grid at ../backend/landscapes/mlp_5/spirals/train/range0.5/ep960\n",
      "Done: spirals, width=5, depth=1, ab_range=0.5, epoch=960\n",
      "Previously saved model is of lower resolution; recomputing\n"
     ]
    },
    {
     "name": "stderr",
     "output_type": "stream",
     "text": [
      "Outer loop (a): 100%|██████████| 100/100 [00:50<00:00,  1.99it/s]\n"
     ]
    },
    {
     "name": "stdout",
     "output_type": "stream",
     "text": [
      "✅ Updated and saved new grid at ../backend/landscapes/mlp_5_5/four_corners/train/range0.2/ep680\n",
      "Done: four_corners, width=5, depth=2, ab_range=0.2, epoch=680\n",
      "Previously saved model is of lower resolution; recomputing\n"
     ]
    },
    {
     "name": "stderr",
     "output_type": "stream",
     "text": [
      "Outer loop (a): 100%|██████████| 100/100 [00:52<00:00,  1.90it/s]\n"
     ]
    },
    {
     "name": "stdout",
     "output_type": "stream",
     "text": [
      "✅ Updated and saved new grid at ../backend/landscapes/mlp_5_5_5_5/two_blobs_overlap/train/range5/ep800\n",
      "Done: two_blobs_overlap, width=5, depth=4, ab_range=5, epoch=800\n",
      "Previously saved model is of lower resolution; recomputing\n"
     ]
    },
    {
     "name": "stderr",
     "output_type": "stream",
     "text": [
      "Outer loop (a): 100%|██████████| 100/100 [00:55<00:00,  1.81it/s]\n"
     ]
    },
    {
     "name": "stdout",
     "output_type": "stream",
     "text": [
      "✅ Updated and saved new grid at ../backend/landscapes/mlp_5_5_5_5/two_blobs_overlap/train/range0.2/ep440\n",
      "Done: two_blobs_overlap, width=5, depth=4, ab_range=0.2, epoch=440\n",
      "Previously saved model is of lower resolution; recomputing\n"
     ]
    },
    {
     "name": "stderr",
     "output_type": "stream",
     "text": [
      "Outer loop (a): 100%|██████████| 100/100 [00:45<00:00,  2.19it/s]\n"
     ]
    },
    {
     "name": "stdout",
     "output_type": "stream",
     "text": [
      "✅ Updated and saved new grid at ../backend/landscapes/mlp_5/spirals/train/range0.5/ep40\n",
      "Done: spirals, width=5, depth=1, ab_range=0.5, epoch=40\n",
      "Previously saved model is of lower resolution; recomputing\n"
     ]
    },
    {
     "name": "stderr",
     "output_type": "stream",
     "text": [
      "Outer loop (a): 100%|██████████| 100/100 [00:51<00:00,  1.95it/s]\n"
     ]
    },
    {
     "name": "stdout",
     "output_type": "stream",
     "text": [
      "✅ Updated and saved new grid at ../backend/landscapes/mlp_5_5/two_blobs_separate/train/range0.2/ep440\n",
      "Done: two_blobs_separate, width=5, depth=2, ab_range=0.2, epoch=440\n",
      "Previously saved model is of lower resolution; recomputing\n"
     ]
    },
    {
     "name": "stderr",
     "output_type": "stream",
     "text": [
      "Outer loop (a): 100%|██████████| 100/100 [00:48<00:00,  2.08it/s]\n"
     ]
    },
    {
     "name": "stdout",
     "output_type": "stream",
     "text": [
      "✅ Updated and saved new grid at ../backend/landscapes/mlp_5/two_blobs_overlap/train/range0.5/ep400\n",
      "Done: two_blobs_overlap, width=5, depth=1, ab_range=0.5, epoch=400\n",
      "Previously saved model is of lower resolution; recomputing\n"
     ]
    },
    {
     "name": "stderr",
     "output_type": "stream",
     "text": [
      "Outer loop (a): 100%|██████████| 100/100 [00:49<00:00,  2.04it/s]\n"
     ]
    },
    {
     "name": "stdout",
     "output_type": "stream",
     "text": [
      "✅ Updated and saved new grid at ../backend/landscapes/mlp_5_5/half_moons/train/range0.5/ep310\n",
      "Done: half_moons, width=5, depth=2, ab_range=0.5, epoch=310\n",
      "Previously saved model is of lower resolution; recomputing\n"
     ]
    },
    {
     "name": "stderr",
     "output_type": "stream",
     "text": [
      "Outer loop (a): 100%|██████████| 100/100 [00:49<00:00,  2.04it/s]\n",
      "Outer loop (a):   6%|▌         | 6/100 [00:02<00:40,  2.31it/s]"
     ]
    },
    {
     "name": "stdout",
     "output_type": "stream",
     "text": [
      "✅ Updated and saved new grid at ../backend/landscapes/mlp_5/spirals/train/range0.5/ep970\n",
      "Done: spirals, width=5, depth=1, ab_range=0.5, epoch=970\n",
      "Previously saved model is of lower resolution; recomputing\n"
     ]
    },
    {
     "name": "stderr",
     "output_type": "stream",
     "text": [
      "Outer loop (a): 100%|██████████| 100/100 [00:48<00:00,  2.04it/s]\n"
     ]
    },
    {
     "name": "stdout",
     "output_type": "stream",
     "text": [
      "✅ Updated and saved new grid at ../backend/landscapes/mlp_5_5/four_corners/train/range0.2/ep690\n",
      "Done: four_corners, width=5, depth=2, ab_range=0.2, epoch=690\n",
      "Previously saved model is of lower resolution; recomputing\n"
     ]
    },
    {
     "name": "stderr",
     "output_type": "stream",
     "text": [
      "Outer loop (a): 100%|██████████| 100/100 [00:46<00:00,  2.13it/s]\n"
     ]
    },
    {
     "name": "stdout",
     "output_type": "stream",
     "text": [
      "✅ Updated and saved new grid at ../backend/landscapes/mlp_5/spirals/train/range0.5/ep50\n",
      "Done: spirals, width=5, depth=1, ab_range=0.5, epoch=50\n",
      "Previously saved model is of lower resolution; recomputing\n"
     ]
    },
    {
     "name": "stderr",
     "output_type": "stream",
     "text": [
      "Outer loop (a): 100%|██████████| 100/100 [00:54<00:00,  1.84it/s]\n"
     ]
    },
    {
     "name": "stdout",
     "output_type": "stream",
     "text": [
      "✅ Updated and saved new grid at ../backend/landscapes/mlp_5_5_5_5/two_blobs_overlap/train/range5/ep810\n",
      "Done: two_blobs_overlap, width=5, depth=4, ab_range=5, epoch=810\n",
      "Previously saved model is of lower resolution; recomputing\n"
     ]
    },
    {
     "name": "stderr",
     "output_type": "stream",
     "text": [
      "Outer loop (a): 100%|██████████| 100/100 [00:55<00:00,  1.80it/s]\n"
     ]
    },
    {
     "name": "stdout",
     "output_type": "stream",
     "text": [
      "✅ Updated and saved new grid at ../backend/landscapes/mlp_5_5_5_5/two_blobs_overlap/train/range0.2/ep450\n",
      "Done: two_blobs_overlap, width=5, depth=4, ab_range=0.2, epoch=450\n",
      "Previously saved model is of lower resolution; recomputing\n"
     ]
    },
    {
     "name": "stderr",
     "output_type": "stream",
     "text": [
      "Outer loop (a): 100%|██████████| 100/100 [00:48<00:00,  2.07it/s]\n"
     ]
    },
    {
     "name": "stdout",
     "output_type": "stream",
     "text": [
      "✅ Updated and saved new grid at ../backend/landscapes/mlp_5/two_blobs_overlap/train/range0.5/ep410\n",
      "Done: two_blobs_overlap, width=5, depth=1, ab_range=0.5, epoch=410\n",
      "Previously saved model is of lower resolution; recomputing\n"
     ]
    },
    {
     "name": "stderr",
     "output_type": "stream",
     "text": [
      "Outer loop (a): 100%|██████████| 100/100 [00:50<00:00,  1.96it/s]\n"
     ]
    },
    {
     "name": "stdout",
     "output_type": "stream",
     "text": [
      "✅ Updated and saved new grid at ../backend/landscapes/mlp_5_5/two_blobs_separate/train/range0.2/ep450\n",
      "Done: two_blobs_separate, width=5, depth=2, ab_range=0.2, epoch=450\n",
      "Previously saved model is of lower resolution; recomputing\n"
     ]
    },
    {
     "name": "stderr",
     "output_type": "stream",
     "text": [
      "Outer loop (a): 100%|██████████| 100/100 [00:47<00:00,  2.09it/s]\n"
     ]
    },
    {
     "name": "stdout",
     "output_type": "stream",
     "text": [
      "✅ Updated and saved new grid at ../backend/landscapes/mlp_5_5/half_moons/train/range0.5/ep320\n",
      "Done: half_moons, width=5, depth=2, ab_range=0.5, epoch=320\n",
      "Previously saved model is of lower resolution; recomputing\n"
     ]
    },
    {
     "name": "stderr",
     "output_type": "stream",
     "text": [
      "Outer loop (a): 100%|██████████| 100/100 [00:48<00:00,  2.08it/s]\n"
     ]
    },
    {
     "name": "stdout",
     "output_type": "stream",
     "text": [
      "✅ Updated and saved new grid at ../backend/landscapes/mlp_5/spirals/train/range0.5/ep980\n",
      "Done: spirals, width=5, depth=1, ab_range=0.5, epoch=980\n",
      "Previously saved model is of lower resolution; recomputing\n"
     ]
    },
    {
     "name": "stderr",
     "output_type": "stream",
     "text": [
      "Outer loop (a): 100%|██████████| 100/100 [00:49<00:00,  2.02it/s]\n"
     ]
    },
    {
     "name": "stdout",
     "output_type": "stream",
     "text": [
      "✅ Updated and saved new grid at ../backend/landscapes/mlp_5_5/four_corners/train/range0.2/ep700\n",
      "Done: four_corners, width=5, depth=2, ab_range=0.2, epoch=700\n",
      "Previously saved model is of lower resolution; recomputing\n"
     ]
    },
    {
     "name": "stderr",
     "output_type": "stream",
     "text": [
      "Outer loop (a): 100%|██████████| 100/100 [00:47<00:00,  2.12it/s]\n"
     ]
    },
    {
     "name": "stdout",
     "output_type": "stream",
     "text": [
      "✅ Updated and saved new grid at ../backend/landscapes/mlp_5/spirals/train/range0.5/ep60\n",
      "Done: spirals, width=5, depth=1, ab_range=0.5, epoch=60\n",
      "Previously saved model is of lower resolution; recomputing\n"
     ]
    },
    {
     "name": "stderr",
     "output_type": "stream",
     "text": [
      "Outer loop (a): 100%|██████████| 100/100 [00:47<00:00,  2.09it/s]\n"
     ]
    },
    {
     "name": "stdout",
     "output_type": "stream",
     "text": [
      "✅ Updated and saved new grid at ../backend/landscapes/mlp_5/two_blobs_overlap/train/range0.5/ep420\n",
      "Done: two_blobs_overlap, width=5, depth=1, ab_range=0.5, epoch=420\n",
      "Previously saved model is of lower resolution; recomputing\n"
     ]
    },
    {
     "name": "stderr",
     "output_type": "stream",
     "text": [
      "Outer loop (a): 100%|██████████| 100/100 [00:55<00:00,  1.82it/s]\n"
     ]
    },
    {
     "name": "stdout",
     "output_type": "stream",
     "text": [
      "✅ Updated and saved new grid at ../backend/landscapes/mlp_5_5_5_5/two_blobs_overlap/train/range5/ep820\n",
      "Done: two_blobs_overlap, width=5, depth=4, ab_range=5, epoch=820\n",
      "Previously saved model is of lower resolution; recomputing\n"
     ]
    },
    {
     "name": "stderr",
     "output_type": "stream",
     "text": [
      "Outer loop (a): 100%|██████████| 100/100 [00:53<00:00,  1.86it/s]\n"
     ]
    },
    {
     "name": "stdout",
     "output_type": "stream",
     "text": [
      "✅ Updated and saved new grid at ../backend/landscapes/mlp_5_5_5_5/two_blobs_overlap/train/range0.2/ep460\n",
      "Done: two_blobs_overlap, width=5, depth=4, ab_range=0.2, epoch=460\n",
      "Previously saved model is of lower resolution; recomputing\n"
     ]
    },
    {
     "name": "stderr",
     "output_type": "stream",
     "text": [
      "Outer loop (a): 100%|██████████| 100/100 [00:50<00:00,  2.00it/s]\n"
     ]
    },
    {
     "name": "stdout",
     "output_type": "stream",
     "text": [
      "✅ Updated and saved new grid at ../backend/landscapes/mlp_5_5/two_blobs_separate/train/range0.2/ep460\n",
      "Done: two_blobs_separate, width=5, depth=2, ab_range=0.2, epoch=460\n",
      "Previously saved model is of lower resolution; recomputing\n"
     ]
    },
    {
     "name": "stderr",
     "output_type": "stream",
     "text": [
      "Outer loop (a): 100%|██████████| 100/100 [00:47<00:00,  2.10it/s]\n"
     ]
    },
    {
     "name": "stdout",
     "output_type": "stream",
     "text": [
      "✅ Updated and saved new grid at ../backend/landscapes/mlp_5/spirals/train/range0.5/ep990\n",
      "Done: spirals, width=5, depth=1, ab_range=0.5, epoch=990\n",
      "Previously saved model is of lower resolution; recomputing\n"
     ]
    },
    {
     "name": "stderr",
     "output_type": "stream",
     "text": [
      "Outer loop (a): 100%|██████████| 100/100 [00:50<00:00,  1.97it/s]\n"
     ]
    },
    {
     "name": "stdout",
     "output_type": "stream",
     "text": [
      "✅ Updated and saved new grid at ../backend/landscapes/mlp_5_5/half_moons/train/range0.5/ep330\n",
      "Done: half_moons, width=5, depth=2, ab_range=0.5, epoch=330\n",
      "Previously saved model is of lower resolution; recomputing\n"
     ]
    },
    {
     "name": "stderr",
     "output_type": "stream",
     "text": [
      "Outer loop (a): 100%|██████████| 100/100 [00:48<00:00,  2.04it/s]\n"
     ]
    },
    {
     "name": "stdout",
     "output_type": "stream",
     "text": [
      "✅ Updated and saved new grid at ../backend/landscapes/mlp_5_5/four_corners/train/range0.2/ep710\n",
      "Done: four_corners, width=5, depth=2, ab_range=0.2, epoch=710\n",
      "Previously saved model is of lower resolution; recomputing\n"
     ]
    },
    {
     "name": "stderr",
     "output_type": "stream",
     "text": [
      "Outer loop (a): 100%|██████████| 100/100 [00:48<00:00,  2.05it/s]\n"
     ]
    },
    {
     "name": "stdout",
     "output_type": "stream",
     "text": [
      "✅ Updated and saved new grid at ../backend/landscapes/mlp_5/spirals/train/range0.5/ep70\n",
      "Done: spirals, width=5, depth=1, ab_range=0.5, epoch=70\n",
      "Previously saved model is of lower resolution; recomputing\n"
     ]
    },
    {
     "name": "stderr",
     "output_type": "stream",
     "text": [
      "Outer loop (a): 100%|██████████| 100/100 [00:46<00:00,  2.14it/s]\n"
     ]
    },
    {
     "name": "stdout",
     "output_type": "stream",
     "text": [
      "✅ Updated and saved new grid at ../backend/landscapes/mlp_5/two_blobs_overlap/train/range0.5/ep430\n",
      "Done: two_blobs_overlap, width=5, depth=1, ab_range=0.5, epoch=430\n",
      "Previously saved model is of lower resolution; recomputing\n"
     ]
    },
    {
     "name": "stderr",
     "output_type": "stream",
     "text": [
      "Outer loop (a): 100%|██████████| 100/100 [00:50<00:00,  1.99it/s]\n"
     ]
    },
    {
     "name": "stdout",
     "output_type": "stream",
     "text": [
      "✅ Updated and saved new grid at ../backend/landscapes/mlp_5_5/two_blobs_separate/train/range0.2/ep470\n",
      "Done: two_blobs_separate, width=5, depth=2, ab_range=0.2, epoch=470\n",
      "Previously saved model is of lower resolution; recomputing\n"
     ]
    },
    {
     "name": "stderr",
     "output_type": "stream",
     "text": [
      "Outer loop (a): 100%|██████████| 100/100 [00:49<00:00,  2.01it/s]\n",
      "Outer loop (a):  97%|█████████▋| 97/100 [00:52<00:01,  1.79it/s]"
     ]
    },
    {
     "name": "stdout",
     "output_type": "stream",
     "text": [
      "✅ Updated and saved new grid at ../backend/landscapes/mlp_5/spirals/train/range0.5/ep1000\n",
      "Done: spirals, width=5, depth=1, ab_range=0.5, epoch=1000\n",
      "Done: four_corners, width=5, depth=1, ab_range=0.1, epoch=0\n",
      "Done: four_corners, width=5, depth=1, ab_range=0.1, epoch=10\n",
      "Done: four_corners, width=5, depth=1, ab_range=0.1, epoch=20\n",
      "Done: four_corners, width=5, depth=1, ab_range=0.1, epoch=30\n",
      "Done: four_corners, width=5, depth=1, ab_range=0.1, epoch=40\n",
      "Done: four_corners, width=5, depth=1, ab_range=0.1, epoch=50\n",
      "Done: four_corners, width=5, depth=1, ab_range=0.1, epoch=60\n",
      "Done: four_corners, width=5, depth=1, ab_range=0.1, epoch=70\n",
      "Done: four_corners, width=5, depth=1, ab_range=0.1, epoch=80\n",
      "Done: four_corners, width=5, depth=1, ab_range=0.1, epoch=90\n",
      "Done: four_corners, width=5, depth=1, ab_range=0.1, epoch=100\n"
     ]
    },
    {
     "name": "stderr",
     "output_type": "stream",
     "text": [
      "Outer loop (a):  29%|██▉       | 29/100 [00:13<00:37,  1.90it/s]"
     ]
    },
    {
     "name": "stdout",
     "output_type": "stream",
     "text": [
      "Done: four_corners, width=5, depth=1, ab_range=0.1, epoch=110\n",
      "Done: four_corners, width=5, depth=1, ab_range=0.1, epoch=120\n",
      "Done: four_corners, width=5, depth=1, ab_range=0.1, epoch=130\n",
      "Done: four_corners, width=5, depth=1, ab_range=0.1, epoch=140\n",
      "Done: four_corners, width=5, depth=1, ab_range=0.1, epoch=150\n",
      "Done: four_corners, width=5, depth=1, ab_range=0.1, epoch=160\n",
      "Done: four_corners, width=5, depth=1, ab_range=0.1, epoch=170\n",
      "Done: four_corners, width=5, depth=1, ab_range=0.1, epoch=180\n",
      "Done: four_corners, width=5, depth=1, ab_range=0.1, epoch=190\n",
      "Done: four_corners, width=5, depth=1, ab_range=0.1, epoch=200"
     ]
    },
    {
     "name": "stderr",
     "output_type": "stream",
     "text": [
      "Outer loop (a):  36%|███▌      | 36/100 [00:18<00:30,  2.09it/s]"
     ]
    },
    {
     "name": "stdout",
     "output_type": "stream",
     "text": [
      "\n",
      "Done: four_corners, width=5, depth=1, ab_range=0.1, epoch=210\n",
      "Done: four_corners, width=5, depth=1, ab_range=0.1, epoch=220\n",
      "Done: four_corners, width=5, depth=1, ab_range=0.1, epoch=230\n",
      "Done: four_corners, width=5, depth=1, ab_range=0.1, epoch=240\n",
      "Done: four_corners, width=5, depth=1, ab_range=0.1, epoch=250\n",
      "Done: four_corners, width=5, depth=1, ab_range=0.1, epoch=260\n",
      "Done: four_corners, width=5, depth=1, ab_range=0.1, epoch=270\n",
      "Done: four_corners, width=5, depth=1, ab_range=0.1, epoch=280\n",
      "Done: four_corners, width=5, depth=1, ab_range=0.1, epoch=290\n",
      "Done: four_corners, width=5, depth=1, ab_range=0.1, epoch=300\n",
      "Done: four_corners, width=5, depth=1, ab_range=0.1, epoch=310\n",
      "Done: four_corners, width=5, depth=1, ab_range=0.1, epoch=320\n",
      "Done: four_corners, width=5, depth=1, ab_range=0.1, epoch=330\n",
      "Done: four_corners, width=5, depth=1, ab_range=0.1, epoch=340\n",
      "Done: four_corners, width=5, depth=1, ab_range=0.1, epoch=350\n",
      "Done: four_corners, width=5, depth=1, ab_range=0.1, epoch=360\n",
      "Done: four_corners, width=5, depth=1, ab_range=0.1, epoch=370\n",
      "Done: four_corners, width=5, depth=1, ab_range=0.1, epoch=380\n",
      "Done: four_corners, width=5, depth=1, ab_range=0.1, epoch=390\n",
      "Done: four_corners, width=5, depth=1, ab_range=0.1, epoch=400\n",
      "Done: four_corners, width=5, depth=1, ab_range=0.1, epoch=410\n",
      "Done: four_corners, width=5, depth=1, ab_range=0.1, epoch=420\n",
      "Done: four_corners, width=5, depth=1, ab_range=0.1, epoch=430\n",
      "Done: four_corners, width=5, depth=1, ab_range=0.1, epoch=440\n",
      "Done: four_corners, width=5, depth=1, ab_range=0.1, epoch=450\n",
      "Done: four_corners, width=5, depth=1, ab_range=0.1, epoch=460\n",
      "Done: four_corners, width=5, depth=1, ab_range=0.1, epoch=470\n",
      "Done: four_corners, width=5, depth=1, ab_range=0.1, epoch=480\n",
      "Done: four_corners, width=5, depth=1, ab_range=0.1, epoch=490\n",
      "Done: four_corners, width=5, depth=1, ab_range=0.1, epoch=500\n",
      "Done: four_corners, width=5, depth=1, ab_range=0.1, epoch=510\n",
      "Done: four_corners, width=5, depth=1, ab_range=0.1, epoch=520\n",
      "Done: four_corners, width=5, depth=1, ab_range=0.1, epoch=530\n",
      "Done: four_corners, width=5, depth=1, ab_range=0.1, epoch=540\n",
      "Done: four_corners, width=5, depth=1, ab_range=0.1, epoch=550\n",
      "Done: four_corners, width=5, depth=1, ab_range=0.1, epoch=560\n",
      "Done: four_corners, width=5, depth=1, ab_range=0.1, epoch=570\n",
      "Done: four_corners, width=5, depth=1, ab_range=0.1, epoch=580\n",
      "Done: four_corners, width=5, depth=1, ab_range=0.1, epoch=590\n",
      "Done: four_corners, width=5, depth=1, ab_range=0.1, epoch=600\n",
      "Done: four_corners, width=5, depth=1, ab_range=0.1, epoch=610\n",
      "Done: four_corners, width=5, depth=1, ab_range=0.1, epoch=620\n",
      "Done: four_corners, width=5, depth=1, ab_range=0.1, epoch=630"
     ]
    },
    {
     "name": "stderr",
     "output_type": "stream",
     "text": [
      "Outer loop (a):  18%|█▊        | 18/100 [00:08<00:39,  2.05it/s]"
     ]
    },
    {
     "name": "stdout",
     "output_type": "stream",
     "text": [
      "\n",
      "Done: four_corners, width=5, depth=1, ab_range=0.1, epoch=640\n",
      "Done: four_corners, width=5, depth=1, ab_range=0.1, epoch=650\n",
      "Done: four_corners, width=5, depth=1, ab_range=0.1, epoch=660\n",
      "Done: four_corners, width=5, depth=1, ab_range=0.1, epoch=670\n",
      "Done: four_corners, width=5, depth=1, ab_range=0.1, epoch=680\n",
      "Done: four_corners, width=5, depth=1, ab_range=0.1, epoch=690\n",
      "Done: four_corners, width=5, depth=1, ab_range=0.1, epoch=700\n",
      "Done: four_corners, width=5, depth=1, ab_range=0.1, epoch=710\n",
      "Done: four_corners, width=5, depth=1, ab_range=0.1, epoch=720\n",
      "Done: four_corners, width=5, depth=1, ab_range=0.1, epoch=730\n",
      "Done: four_corners, width=5, depth=1, ab_range=0.1, epoch=740\n",
      "Done: four_corners, width=5, depth=1, ab_range=0.1, epoch=750\n",
      "Done: four_corners, width=5, depth=1, ab_range=0.1, epoch=760\n",
      "Done: four_corners, width=5, depth=1, ab_range=0.1, epoch=770\n",
      "Done: four_corners, width=5, depth=1, ab_range=0.1, epoch=780\n",
      "Done: four_corners, width=5, depth=1, ab_range=0.1, epoch=790\n",
      "Done: four_corners, width=5, depth=1, ab_range=0.1, epoch=800\n",
      "Done: four_corners, width=5, depth=1, ab_range=0.1, epoch=810\n",
      "Done: four_corners, width=5, depth=1, ab_range=0.1, epoch=820\n",
      "Done: four_corners, width=5, depth=1, ab_range=0.1, epoch=830\n",
      "Done: four_corners, width=5, depth=1, ab_range=0.1, epoch=840\n"
     ]
    },
    {
     "name": "stderr",
     "output_type": "stream",
     "text": [
      "Outer loop (a):  99%|█████████▉| 99/100 [00:49<00:00,  1.73it/s]"
     ]
    },
    {
     "name": "stdout",
     "output_type": "stream",
     "text": [
      "Done: four_corners, width=5, depth=1, ab_range=0.1, epoch=850\n",
      "Done: four_corners, width=5, depth=1, ab_range=0.1, epoch=860\n",
      "Done: four_corners, width=5, depth=1, ab_range=0.1, epoch=870\n",
      "Done: four_corners, width=5, depth=1, ab_range=0.1, epoch=880\n",
      "Done: four_corners, width=5, depth=1, ab_range=0.1, epoch=890\n",
      "Done: four_corners, width=5, depth=1, ab_range=0.1, epoch=900\n",
      "Done: four_corners, width=5, depth=1, ab_range=0.1, epoch=910\n",
      "Done: four_corners, width=5, depth=1, ab_range=0.1, epoch=920\n",
      "Done: four_corners, width=5, depth=1, ab_range=0.1, epoch=930\n",
      "Done: four_corners, width=5, depth=1, ab_range=0.1, epoch=940\n",
      "Done: four_corners, width=5, depth=1, ab_range=0.1, epoch=950\n",
      "Done: four_corners, width=5, depth=1, ab_range=0.1, epoch=960\n",
      "Done: four_corners, width=5, depth=1, ab_range=0.1, epoch=970\n",
      "Done: four_corners, width=5, depth=1, ab_range=0.1, epoch=980\n",
      "Done: four_corners, width=5, depth=1, ab_range=0.1, epoch=990\n",
      "Done: four_corners, width=5, depth=1, ab_range=0.1, epoch=1000\n",
      "Done: four_corners, width=5, depth=1, ab_range=1, epoch=0\n"
     ]
    },
    {
     "name": "stderr",
     "output_type": "stream",
     "text": [
      "Outer loop (a):   1%|          | 1/100 [00:00<00:47,  2.08it/s]"
     ]
    },
    {
     "name": "stdout",
     "output_type": "stream",
     "text": [
      "Done: four_corners, width=5, depth=1, ab_range=1, epoch=10\n",
      "Done: four_corners, width=5, depth=1, ab_range=1, epoch=20\n",
      "Done: four_corners, width=5, depth=1, ab_range=1, epoch=30\n",
      "Done: four_corners, width=5, depth=1, ab_range=1, epoch=40\n",
      "Done: four_corners, width=5, depth=1, ab_range=1, epoch=50\n",
      "Done: four_corners, width=5, depth=1, ab_range=1, epoch=60\n",
      "Done: four_corners, width=5, depth=1, ab_range=1, epoch=70\n",
      "Done: four_corners, width=5, depth=1, ab_range=1, epoch=80\n",
      "Done: four_corners, width=5, depth=1, ab_range=1, epoch=90\n",
      "Done: four_corners, width=5, depth=1, ab_range=1, epoch=100\n",
      "Done: four_corners, width=5, depth=1, ab_range=1, epoch=110\n",
      "Done: four_corners, width=5, depth=1, ab_range=1, epoch=120\n",
      "Done: four_corners, width=5, depth=1, ab_range=1, epoch=130\n",
      "Done: four_corners, width=5, depth=1, ab_range=1, epoch=140\n",
      "Done: four_corners, width=5, depth=1, ab_range=1, epoch=150\n",
      "Done: four_corners, width=5, depth=1, ab_range=1, epoch=160\n",
      "Done: four_corners, width=5, depth=1, ab_range=1, epoch=170\n",
      "Done: four_corners, width=5, depth=1, ab_range=1, epoch=180\n",
      "Done: four_corners, width=5, depth=1, ab_range=1, epoch=190\n",
      "Done: four_corners, width=5, depth=1, ab_range=1, epoch=200\n",
      "Done: four_corners, width=5, depth=1, ab_range=1, epoch=210\n",
      "Done: four_corners, width=5, depth=1, ab_range=1, epoch=220\n",
      "Done: four_corners, width=5, depth=1, ab_range=1, epoch=230\n",
      "Done: four_corners, width=5, depth=1, ab_range=1, epoch=240\n",
      "Done: four_corners, width=5, depth=1, ab_range=1, epoch=250\n",
      "Done: four_corners, width=5, depth=1, ab_range=1, epoch=260\n",
      "Done: four_corners, width=5, depth=1, ab_range=1, epoch=270\n",
      "Done: four_corners, width=5, depth=1, ab_range=1, epoch=280\n",
      "Done: four_corners, width=5, depth=1, ab_range=1, epoch=290\n",
      "Done: four_corners, width=5, depth=1, ab_range=1, epoch=300\n",
      "Done: four_corners, width=5, depth=1, ab_range=1, epoch=310\n",
      "Done: four_corners, width=5, depth=1, ab_range=1, epoch=320\n",
      "Done: four_corners, width=5, depth=1, ab_range=1, epoch=330\n",
      "Done: four_corners, width=5, depth=1, ab_range=1, epoch=340\n",
      "Done: four_corners, width=5, depth=1, ab_range=1, epoch=350\n",
      "Done: four_corners, width=5, depth=1, ab_range=1, epoch=360\n",
      "Done: four_corners, width=5, depth=1, ab_range=1, epoch=370\n",
      "Done: four_corners, width=5, depth=1, ab_range=1, epoch=380\n",
      "Done: four_corners, width=5, depth=1, ab_range=1, epoch=390\n",
      "Done: four_corners, width=5, depth=1, ab_range=1, epoch=400\n",
      "Done: four_corners, width=5, depth=1, ab_range=1, epoch=410\n",
      "Done: four_corners, width=5, depth=1, ab_range=1, epoch=420\n",
      "Done: four_corners, width=5, depth=1, ab_range=1, epoch=430\n",
      "Done: four_corners, width=5, depth=1, ab_range=1, epoch=440\n",
      "Done: four_corners, width=5, depth=1, ab_range=1, epoch=450\n",
      "Done: four_corners, width=5, depth=1, ab_range=1, epoch=460\n",
      "Done: four_corners, width=5, depth=1, ab_range=1, epoch=470\n",
      "Done: four_corners, width=5, depth=1, ab_range=1, epoch=480\n",
      "Done: four_corners, width=5, depth=1, ab_range=1, epoch=490\n",
      "Done: four_corners, width=5, depth=1, ab_range=1, epoch=500\n",
      "Done: four_corners, width=5, depth=1, ab_range=1, epoch=510\n",
      "Done: four_corners, width=5, depth=1, ab_range=1, epoch=520\n",
      "Done: four_corners, width=5, depth=1, ab_range=1, epoch=530\n",
      "Done: four_corners, width=5, depth=1, ab_range=1, epoch=540\n",
      "Done: four_corners, width=5, depth=1, ab_range=1, epoch=550\n",
      "Done: four_corners, width=5, depth=1, ab_range=1, epoch=560\n",
      "Done: four_corners, width=5, depth=1, ab_range=1, epoch=570\n",
      "Done: four_corners, width=5, depth=1, ab_range=1, epoch=580\n",
      "Done: four_corners, width=5, depth=1, ab_range=1, epoch=590\n",
      "Done: four_corners, width=5, depth=1, ab_range=1, epoch=600\n",
      "Done: four_corners, width=5, depth=1, ab_range=1, epoch=610\n",
      "Done: four_corners, width=5, depth=1, ab_range=1, epoch=620\n",
      "Done: four_corners, width=5, depth=1, ab_range=1, epoch=630\n",
      "Done: four_corners, width=5, depth=1, ab_range=1, epoch=640\n",
      "Done: four_corners, width=5, depth=1, ab_range=1, epoch=650\n",
      "Done: four_corners, width=5, depth=1, ab_range=1, epoch=660\n",
      "Done: four_corners, width=5, depth=1, ab_range=1, epoch=670\n",
      "Done: four_corners, width=5, depth=1, ab_range=1, epoch=680\n"
     ]
    },
    {
     "name": "stderr",
     "output_type": "stream",
     "text": [
      "Outer loop (a):  96%|█████████▌| 96/100 [00:51<00:02,  1.73it/s]"
     ]
    },
    {
     "name": "stdout",
     "output_type": "stream",
     "text": [
      "Done: four_corners, width=5, depth=1, ab_range=1, epoch=690\n",
      "Done: four_corners, width=5, depth=1, ab_range=1, epoch=700\n",
      "Done: four_corners, width=5, depth=1, ab_range=1, epoch=710\n",
      "Done: four_corners, width=5, depth=1, ab_range=1, epoch=720\n",
      "Done: four_corners, width=5, depth=1, ab_range=1, epoch=730\n",
      "Done: four_corners, width=5, depth=1, ab_range=1, epoch=740\n",
      "Done: four_corners, width=5, depth=1, ab_range=1, epoch=750\n",
      "Done: four_corners, width=5, depth=1, ab_range=1, epoch=760\n",
      "Done: four_corners, width=5, depth=1, ab_range=1, epoch=770\n",
      "Done: four_corners, width=5, depth=1, ab_range=1, epoch=780\n",
      "Done: four_corners, width=5, depth=1, ab_range=1, epoch=790\n",
      "Done: four_corners, width=5, depth=1, ab_range=1, epoch=800\n",
      "Done: four_corners, width=5, depth=1, ab_range=1, epoch=810\n",
      "Done: four_corners, width=5, depth=1, ab_range=1, epoch=820\n",
      "Done: four_corners, width=5, depth=1, ab_range=1, epoch=830\n",
      "Done: four_corners, width=5, depth=1, ab_range=1, epoch=840\n",
      "Done: four_corners, width=5, depth=1, ab_range=1, epoch=850\n",
      "Done: four_corners, width=5, depth=1, ab_range=1, epoch=860\n",
      "Done: four_corners, width=5, depth=1, ab_range=1, epoch=870\n",
      "Done: four_corners, width=5, depth=1, ab_range=1, epoch=880\n",
      "Done: four_corners, width=5, depth=1, ab_range=1, epoch=890\n",
      "Done: four_corners, width=5, depth=1, ab_range=1, epoch=900\n",
      "Done: four_corners, width=5, depth=1, ab_range=1, epoch=910\n",
      "Done: four_corners, width=5, depth=1, ab_range=1, epoch=920\n",
      "Done: four_corners, width=5, depth=1, ab_range=1, epoch=930\n",
      "Done: four_corners, width=5, depth=1, ab_range=1, epoch=940\n",
      "Done: four_corners, width=5, depth=1, ab_range=1, epoch=950\n",
      "Done: four_corners, width=5, depth=1, ab_range=1, epoch=960\n",
      "Done: four_corners, width=5, depth=1, ab_range=1, epoch=970\n",
      "Done: four_corners, width=5, depth=1, ab_range=1, epoch=980\n",
      "Done: four_corners, width=5, depth=1, ab_range=1, epoch=990\n",
      "Done: four_corners, width=5, depth=1, ab_range=1, epoch=1000\n",
      "Done: four_corners, width=5, depth=1, ab_range=10, epoch=0\n",
      "Done: four_corners, width=5, depth=1, ab_range=10, epoch=10\n",
      "Done: four_corners, width=5, depth=1, ab_range=10, epoch=20\n",
      "Done: four_corners, width=5, depth=1, ab_range=10, epoch=30\n",
      "Done: four_corners, width=5, depth=1, ab_range=10, epoch=40\n",
      "Done: four_corners, width=5, depth=1, ab_range=10, epoch=50\n",
      "Done: four_corners, width=5, depth=1, ab_range=10, epoch=60\n",
      "Done: four_corners, width=5, depth=1, ab_range=10, epoch=70\n",
      "Done: four_corners, width=5, depth=1, ab_range=10, epoch=80\n",
      "Done: four_corners, width=5, depth=1, ab_range=10, epoch=90\n",
      "Done: four_corners, width=5, depth=1, ab_range=10, epoch=100\n",
      "Done: four_corners, width=5, depth=1, ab_range=10, epoch=110\n",
      "Done: four_corners, width=5, depth=1, ab_range=10, epoch=120\n",
      "Done: four_corners, width=5, depth=1, ab_range=10, epoch=130\n",
      "Done: four_corners, width=5, depth=1, ab_range=10, epoch=140\n",
      "Done: four_corners, width=5, depth=1, ab_range=10, epoch=150\n",
      "Done: four_corners, width=5, depth=1, ab_range=10, epoch=160\n",
      "Done: four_corners, width=5, depth=1, ab_range=10, epoch=170\n",
      "Done: four_corners, width=5, depth=1, ab_range=10, epoch=180\n",
      "Done: four_corners, width=5, depth=1, ab_range=10, epoch=190\n",
      "Done: four_corners, width=5, depth=1, ab_range=10, epoch=200\n",
      "Done: four_corners, width=5, depth=1, ab_range=10, epoch=210\n",
      "Done: four_corners, width=5, depth=1, ab_range=10, epoch=220\n",
      "Done: four_corners, width=5, depth=1, ab_range=10, epoch=230\n",
      "Done: four_corners, width=5, depth=1, ab_range=10, epoch=240\n",
      "Done: four_corners, width=5, depth=1, ab_range=10, epoch=250\n",
      "Done: four_corners, width=5, depth=1, ab_range=10, epoch=260\n",
      "Done: four_corners, width=5, depth=1, ab_range=10, epoch=270\n",
      "Done: four_corners, width=5, depth=1, ab_range=10, epoch=280\n",
      "Done: four_corners, width=5, depth=1, ab_range=10, epoch=290\n",
      "Done: four_corners, width=5, depth=1, ab_range=10, epoch=300\n",
      "Done: four_corners, width=5, depth=1, ab_range=10, epoch=310\n",
      "Done: four_corners, width=5, depth=1, ab_range=10, epoch=320\n",
      "Done: four_corners, width=5, depth=1, ab_range=10, epoch=330\n",
      "Done: four_corners, width=5, depth=1, ab_range=10, epoch=340\n",
      "Done: four_corners, width=5, depth=1, ab_range=10, epoch=350\n",
      "Done: four_corners, width=5, depth=1, ab_range=10, epoch=360\n",
      "Done: four_corners, width=5, depth=1, ab_range=10, epoch=370\n",
      "Done: four_corners, width=5, depth=1, ab_range=10, epoch=380\n",
      "Done: four_corners, width=5, depth=1, ab_range=10, epoch=390\n",
      "Done: four_corners, width=5, depth=1, ab_range=10, epoch=400\n",
      "Done: four_corners, width=5, depth=1, ab_range=10, epoch=410\n",
      "Done: four_corners, width=5, depth=1, ab_range=10, epoch=420\n",
      "Done: four_corners, width=5, depth=1, ab_range=10, epoch=430\n",
      "Done: four_corners, width=5, depth=1, ab_range=10, epoch=440\n",
      "Done: four_corners, width=5, depth=1, ab_range=10, epoch=450\n",
      "Done: four_corners, width=5, depth=1, ab_range=10, epoch=460\n",
      "Done: four_corners, width=5, depth=1, ab_range=10, epoch=470\n",
      "Done: four_corners, width=5, depth=1, ab_range=10, epoch=480\n",
      "Done: four_corners, width=5, depth=1, ab_range=10, epoch=490\n",
      "Done: four_corners, width=5, depth=1, ab_range=10, epoch=500\n",
      "Done: four_corners, width=5, depth=1, ab_range=10, epoch=510\n",
      "Done: four_corners, width=5, depth=1, ab_range=10, epoch=520\n",
      "Done: four_corners, width=5, depth=1, ab_range=10, epoch=530\n",
      "Done: four_corners, width=5, depth=1, ab_range=10, epoch=540\n",
      "Done: four_corners, width=5, depth=1, ab_range=10, epoch=550\n",
      "Done: four_corners, width=5, depth=1, ab_range=10, epoch=560\n",
      "Done: four_corners, width=5, depth=1, ab_range=10, epoch=570\n",
      "Done: four_corners, width=5, depth=1, ab_range=10, epoch=580\n",
      "Done: four_corners, width=5, depth=1, ab_range=10, epoch=590\n",
      "Done: four_corners, width=5, depth=1, ab_range=10, epoch=600\n",
      "Done: four_corners, width=5, depth=1, ab_range=10, epoch=610\n",
      "Done: four_corners, width=5, depth=1, ab_range=10, epoch=620\n",
      "Done: four_corners, width=5, depth=1, ab_range=10, epoch=630\n",
      "Done: four_corners, width=5, depth=1, ab_range=10, epoch=640\n",
      "Done: four_corners, width=5, depth=1, ab_range=10, epoch=650\n",
      "Done: four_corners, width=5, depth=1, ab_range=10, epoch=660\n",
      "Done: four_corners, width=5, depth=1, ab_range=10, epoch=670\n",
      "Done: four_corners, width=5, depth=1, ab_range=10, epoch=680\n",
      "Done: four_corners, width=5, depth=1, ab_range=10, epoch=690\n",
      "Done: four_corners, width=5, depth=1, ab_range=10, epoch=700\n",
      "Done: four_corners, width=5, depth=1, ab_range=10, epoch=710\n",
      "Done: four_corners, width=5, depth=1, ab_range=10, epoch=720\n",
      "Done: four_corners, width=5, depth=1, ab_range=10, epoch=730\n",
      "Done: four_corners, width=5, depth=1, ab_range=10, epoch=740\n",
      "Done: four_corners, width=5, depth=1, ab_range=10, epoch=750\n",
      "Done: four_corners, width=5, depth=1, ab_range=10, epoch=760\n",
      "Done: four_corners, width=5, depth=1, ab_range=10, epoch=770\n",
      "Done: four_corners, width=5, depth=1, ab_range=10, epoch=780\n",
      "Done: four_corners, width=5, depth=1, ab_range=10, epoch=790\n",
      "Done: four_corners, width=5, depth=1, ab_range=10, epoch=800\n",
      "Done: four_corners, width=5, depth=1, ab_range=10, epoch=810\n",
      "Done: four_corners, width=5, depth=1, ab_range=10, epoch=820\n",
      "Done: four_corners, width=5, depth=1, ab_range=10, epoch=830\n",
      "Done: four_corners, width=5, depth=1, ab_range=10, epoch=840\n",
      "Done: four_corners, width=5, depth=1, ab_range=10, epoch=850\n",
      "Done: four_corners, width=5, depth=1, ab_range=10, epoch=860\n",
      "Done: four_corners, width=5, depth=1, ab_range=10, epoch=870\n",
      "Done: four_corners, width=5, depth=1, ab_range=10, epoch=880\n",
      "Done: four_corners, width=5, depth=1, ab_range=10, epoch=890\n",
      "Done: four_corners, width=5, depth=1, ab_range=10, epoch=900\n",
      "Done: four_corners, width=5, depth=1, ab_range=10, epoch=910\n",
      "Done: four_corners, width=5, depth=1, ab_range=10, epoch=920\n",
      "Done: four_corners, width=5, depth=1, ab_range=10, epoch=930\n",
      "Done: four_corners, width=5, depth=1, ab_range=10, epoch=940\n",
      "Done: four_corners, width=5, depth=1, ab_range=10, epoch=950\n",
      "Done: four_corners, width=5, depth=1, ab_range=10, epoch=960\n",
      "Done: four_corners, width=5, depth=1, ab_range=10, epoch=970\n",
      "Done: four_corners, width=5, depth=1, ab_range=10, epoch=980\n",
      "Done: four_corners, width=5, depth=1, ab_range=10, epoch=990\n",
      "Done: four_corners, width=5, depth=1, ab_range=10, epoch=1000\n",
      "Done: four_corners, width=5, depth=1, ab_range=2, epoch=0\n",
      "Done: four_corners, width=5, depth=1, ab_range=2, epoch=10\n",
      "Done: four_corners, width=5, depth=1, ab_range=2, epoch=20\n",
      "Done: four_corners, width=5, depth=1, ab_range=2, epoch=30\n",
      "Done: four_corners, width=5, depth=1, ab_range=2, epoch=40\n",
      "Done: four_corners, width=5, depth=1, ab_range=2, epoch=50\n",
      "Done: four_corners, width=5, depth=1, ab_range=2, epoch=60\n",
      "Done: four_corners, width=5, depth=1, ab_range=2, epoch=70\n",
      "Done: four_corners, width=5, depth=1, ab_range=2, epoch=80\n",
      "Done: four_corners, width=5, depth=1, ab_range=2, epoch=90\n",
      "Done: four_corners, width=5, depth=1, ab_range=2, epoch=100\n",
      "Done: four_corners, width=5, depth=1, ab_range=2, epoch=110\n"
     ]
    },
    {
     "name": "stderr",
     "output_type": "stream",
     "text": [
      "Outer loop (a):  30%|███       | 30/100 [00:13<00:37,  1.88it/s]"
     ]
    },
    {
     "name": "stdout",
     "output_type": "stream",
     "text": [
      "Done: four_corners, width=5, depth=1, ab_range=2, epoch=120\n",
      "Done: four_corners, width=5, depth=1, ab_range=2, epoch=130\n",
      "Done: four_corners, width=5, depth=1, ab_range=2, epoch=140\n",
      "Done: four_corners, width=5, depth=1, ab_range=2, epoch=150\n"
     ]
    },
    {
     "name": "stderr",
     "output_type": "stream",
     "text": [
      "Outer loop (a):  19%|█▉        | 19/100 [00:08<00:37,  2.15it/s]"
     ]
    },
    {
     "name": "stdout",
     "output_type": "stream",
     "text": [
      "Done: four_corners, width=5, depth=1, ab_range=2, epoch=160\n",
      "Done: four_corners, width=5, depth=1, ab_range=2, epoch=170\n",
      "Done: four_corners, width=5, depth=1, ab_range=2, epoch=180\n",
      "Done: four_corners, width=5, depth=1, ab_range=2, epoch=190\n",
      "Done: four_corners, width=5, depth=1, ab_range=2, epoch=200\n",
      "Done: four_corners, width=5, depth=1, ab_range=2, epoch=210\n",
      "Done: four_corners, width=5, depth=1, ab_range=2, epoch=220\n",
      "Done: four_corners, width=5, depth=1, ab_range=2, epoch=230\n",
      "Done: four_corners, width=5, depth=1, ab_range=2, epoch=240\n",
      "Done: four_corners, width=5, depth=1, ab_range=2, epoch=250\n",
      "Done: four_corners, width=5, depth=1, ab_range=2, epoch=260\n",
      "Done: four_corners, width=5, depth=1, ab_range=2, epoch=270\n",
      "Done: four_corners, width=5, depth=1, ab_range=2, epoch=280\n",
      "Done: four_corners, width=5, depth=1, ab_range=2, epoch=290\n",
      "Done: four_corners, width=5, depth=1, ab_range=2, epoch=300\n",
      "Done: four_corners, width=5, depth=1, ab_range=2, epoch=310\n",
      "Done: four_corners, width=5, depth=1, ab_range=2, epoch=320\n",
      "Done: four_corners, width=5, depth=1, ab_range=2, epoch=330\n",
      "Done: four_corners, width=5, depth=1, ab_range=2, epoch=340\n",
      "Done: four_corners, width=5, depth=1, ab_range=2, epoch=350\n",
      "Done: four_corners, width=5, depth=1, ab_range=2, epoch=360\n",
      "Done: four_corners, width=5, depth=1, ab_range=2, epoch=370\n",
      "Done: four_corners, width=5, depth=1, ab_range=2, epoch=380\n",
      "Done: four_corners, width=5, depth=1, ab_range=2, epoch=390\n",
      "Done: four_corners, width=5, depth=1, ab_range=2, epoch=400\n",
      "Done: four_corners, width=5, depth=1, ab_range=2, epoch=410\n",
      "Done: four_corners, width=5, depth=1, ab_range=2, epoch=420\n",
      "Done: four_corners, width=5, depth=1, ab_range=2, epoch=430\n",
      "Done: four_corners, width=5, depth=1, ab_range=2, epoch=440\n",
      "Done: four_corners, width=5, depth=1, ab_range=2, epoch=450\n",
      "Done: four_corners, width=5, depth=1, ab_range=2, epoch=460\n"
     ]
    },
    {
     "name": "stderr",
     "output_type": "stream",
     "text": [
      "Outer loop (a):  98%|█████████▊| 98/100 [00:53<00:01,  1.71it/s]"
     ]
    },
    {
     "name": "stdout",
     "output_type": "stream",
     "text": [
      "Done: four_corners, width=5, depth=1, ab_range=2, epoch=470\n",
      "Done: four_corners, width=5, depth=1, ab_range=2, epoch=480\n",
      "Done: four_corners, width=5, depth=1, ab_range=2, epoch=490\n",
      "Done: four_corners, width=5, depth=1, ab_range=2, epoch=500\n",
      "Done: four_corners, width=5, depth=1, ab_range=2, epoch=510\n",
      "Done: four_corners, width=5, depth=1, ab_range=2, epoch=520\n",
      "Done: four_corners, width=5, depth=1, ab_range=2, epoch=530\n",
      "Done: four_corners, width=5, depth=1, ab_range=2, epoch=540\n",
      "Done: four_corners, width=5, depth=1, ab_range=2, epoch=550\n",
      "Done: four_corners, width=5, depth=1, ab_range=2, epoch=560"
     ]
    },
    {
     "name": "stderr",
     "output_type": "stream",
     "text": [
      "Outer loop (a): 100%|██████████| 100/100 [00:50<00:00,  1.88it/s]"
     ]
    },
    {
     "name": "stdout",
     "output_type": "stream",
     "text": [
      "\n"
     ]
    },
    {
     "name": "stderr",
     "output_type": "stream",
     "text": [
      "Outer loop (a): 100%|██████████| 100/100 [00:50<00:00,  1.99it/s]\n"
     ]
    },
    {
     "name": "stdout",
     "output_type": "stream",
     "text": [
      "✅ Updated and saved new grid at ../backend/landscapes/mlp_5_5/half_moons/train/range0.5/ep340\n",
      "Done: four_corners, width=5, depth=1, ab_range=2, epoch=570Done: half_moons, width=5, depth=2, ab_range=0.5, epoch=340\n",
      "\n",
      "Done: four_corners, width=5, depth=1, ab_range=2, epoch=580\n",
      "Previously saved model is of lower resolution; recomputing\n",
      "Done: four_corners, width=5, depth=1, ab_range=2, epoch=590\n",
      "Done: four_corners, width=5, depth=1, ab_range=2, epoch=600\n",
      "Done: four_corners, width=5, depth=1, ab_range=2, epoch=610\n"
     ]
    },
    {
     "name": "stderr",
     "output_type": "stream",
     "text": [
      "Outer loop (a):   0%|          | 0/100 [00:00<?, ?it/s]"
     ]
    },
    {
     "name": "stdout",
     "output_type": "stream",
     "text": [
      "Done: four_corners, width=5, depth=1, ab_range=2, epoch=620\n",
      "Done: four_corners, width=5, depth=1, ab_range=2, epoch=630\n",
      "Done: four_corners, width=5, depth=1, ab_range=2, epoch=640\n",
      "Done: four_corners, width=5, depth=1, ab_range=2, epoch=650\n",
      "Done: four_corners, width=5, depth=1, ab_range=2, epoch=660\n",
      "Done: four_corners, width=5, depth=1, ab_range=2, epoch=670\n",
      "Done: four_corners, width=5, depth=1, ab_range=2, epoch=680\n",
      "Done: four_corners, width=5, depth=1, ab_range=2, epoch=690\n",
      "Done: four_corners, width=5, depth=1, ab_range=2, epoch=700\n",
      "Done: four_corners, width=5, depth=1, ab_range=2, epoch=710\n",
      "Done: four_corners, width=5, depth=1, ab_range=2, epoch=720\n",
      "Done: four_corners, width=5, depth=1, ab_range=2, epoch=730\n",
      "Done: four_corners, width=5, depth=1, ab_range=2, epoch=740\n",
      "Done: four_corners, width=5, depth=1, ab_range=2, epoch=750\n",
      "Done: four_corners, width=5, depth=1, ab_range=2, epoch=760\n",
      "Done: four_corners, width=5, depth=1, ab_range=2, epoch=770\n",
      "Done: four_corners, width=5, depth=1, ab_range=2, epoch=780\n",
      "Done: four_corners, width=5, depth=1, ab_range=2, epoch=790\n",
      "Done: four_corners, width=5, depth=1, ab_range=2, epoch=800\n",
      "Done: four_corners, width=5, depth=1, ab_range=2, epoch=810\n",
      "Done: four_corners, width=5, depth=1, ab_range=2, epoch=820\n",
      "Done: four_corners, width=5, depth=1, ab_range=2, epoch=830\n",
      "Done: four_corners, width=5, depth=1, ab_range=2, epoch=840\n",
      "Done: four_corners, width=5, depth=1, ab_range=2, epoch=850\n",
      "Done: four_corners, width=5, depth=1, ab_range=2, epoch=860\n",
      "Done: four_corners, width=5, depth=1, ab_range=2, epoch=870\n",
      "Done: four_corners, width=5, depth=1, ab_range=2, epoch=880\n",
      "Done: four_corners, width=5, depth=1, ab_range=2, epoch=890\n",
      "Done: four_corners, width=5, depth=1, ab_range=2, epoch=900\n",
      "Done: four_corners, width=5, depth=1, ab_range=2, epoch=910\n",
      "Done: four_corners, width=5, depth=1, ab_range=2, epoch=920\n",
      "Done: four_corners, width=5, depth=1, ab_range=2, epoch=930\n",
      "Done: four_corners, width=5, depth=1, ab_range=2, epoch=940\n",
      "Done: four_corners, width=5, depth=1, ab_range=2, epoch=950\n",
      "Done: four_corners, width=5, depth=1, ab_range=2, epoch=960\n",
      "Done: four_corners, width=5, depth=1, ab_range=2, epoch=970\n",
      "Done: four_corners, width=5, depth=1, ab_range=2, epoch=980\n",
      "Done: four_corners, width=5, depth=1, ab_range=2, epoch=990\n",
      "Done: four_corners, width=5, depth=1, ab_range=2, epoch=1000\n",
      "Done: four_corners, width=5, depth=1, ab_range=5, epoch=0\n",
      "Done: four_corners, width=5, depth=1, ab_range=5, epoch=10\n",
      "Done: four_corners, width=5, depth=1, ab_range=5, epoch=20\n",
      "Done: four_corners, width=5, depth=1, ab_range=5, epoch=30\n",
      "Done: four_corners, width=5, depth=1, ab_range=5, epoch=40\n",
      "Done: four_corners, width=5, depth=1, ab_range=5, epoch=50\n",
      "Done: four_corners, width=5, depth=1, ab_range=5, epoch=60\n",
      "Done: four_corners, width=5, depth=1, ab_range=5, epoch=70\n",
      "Done: four_corners, width=5, depth=1, ab_range=5, epoch=80\n",
      "Done: four_corners, width=5, depth=1, ab_range=5, epoch=90\n"
     ]
    },
    {
     "name": "stderr",
     "output_type": "stream",
     "text": [
      "Outer loop (a):  37%|███▋      | 37/100 [00:19<00:34,  1.81it/s]"
     ]
    },
    {
     "name": "stdout",
     "output_type": "stream",
     "text": [
      "Done: four_corners, width=5, depth=1, ab_range=5, epoch=100\n",
      "Done: four_corners, width=5, depth=1, ab_range=5, epoch=110\n",
      "Done: four_corners, width=5, depth=1, ab_range=5, epoch=120\n",
      "Done: four_corners, width=5, depth=1, ab_range=5, epoch=130\n",
      "Done: four_corners, width=5, depth=1, ab_range=5, epoch=140\n",
      "Done: four_corners, width=5, depth=1, ab_range=5, epoch=150\n",
      "Done: four_corners, width=5, depth=1, ab_range=5, epoch=160\n",
      "Done: four_corners, width=5, depth=1, ab_range=5, epoch=170\n",
      "Done: four_corners, width=5, depth=1, ab_range=5, epoch=180\n",
      "Done: four_corners, width=5, depth=1, ab_range=5, epoch=190\n",
      "Done: four_corners, width=5, depth=1, ab_range=5, epoch=200\n",
      "Done: four_corners, width=5, depth=1, ab_range=5, epoch=210\n",
      "Done: four_corners, width=5, depth=1, ab_range=5, epoch=220\n",
      "Done: four_corners, width=5, depth=1, ab_range=5, epoch=230\n",
      "Done: four_corners, width=5, depth=1, ab_range=5, epoch=240\n",
      "Done: four_corners, width=5, depth=1, ab_range=5, epoch=250\n",
      "Done: four_corners, width=5, depth=1, ab_range=5, epoch=260\n",
      "Done: four_corners, width=5, depth=1, ab_range=5, epoch=270\n",
      "Done: four_corners, width=5, depth=1, ab_range=5, epoch=280\n",
      "Done: four_corners, width=5, depth=1, ab_range=5, epoch=290\n",
      "Done: four_corners, width=5, depth=1, ab_range=5, epoch=300\n",
      "Done: four_corners, width=5, depth=1, ab_range=5, epoch=310\n",
      "Done: four_corners, width=5, depth=1, ab_range=5, epoch=320\n",
      "Done: four_corners, width=5, depth=1, ab_range=5, epoch=330\n",
      "Done: four_corners, width=5, depth=1, ab_range=5, epoch=340\n",
      "Done: four_corners, width=5, depth=1, ab_range=5, epoch=350\n",
      "Done: four_corners, width=5, depth=1, ab_range=5, epoch=360\n",
      "Done: four_corners, width=5, depth=1, ab_range=5, epoch=370\n",
      "Done: four_corners, width=5, depth=1, ab_range=5, epoch=380\n",
      "Done: four_corners, width=5, depth=1, ab_range=5, epoch=390\n",
      "Done: four_corners, width=5, depth=1, ab_range=5, epoch=400\n",
      "Done: four_corners, width=5, depth=1, ab_range=5, epoch=410\n",
      "Done: four_corners, width=5, depth=1, ab_range=5, epoch=420\n",
      "Done: four_corners, width=5, depth=1, ab_range=5, epoch=430\n",
      "Done: four_corners, width=5, depth=1, ab_range=5, epoch=440\n",
      "Done: four_corners, width=5, depth=1, ab_range=5, epoch=450\n",
      "Done: four_corners, width=5, depth=1, ab_range=5, epoch=460\n",
      "Done: four_corners, width=5, depth=1, ab_range=5, epoch=470\n",
      "Done: four_corners, width=5, depth=1, ab_range=5, epoch=480\n",
      "Done: four_corners, width=5, depth=1, ab_range=5, epoch=490\n",
      "Done: four_corners, width=5, depth=1, ab_range=5, epoch=500\n",
      "Done: four_corners, width=5, depth=1, ab_range=5, epoch=510\n",
      "Done: four_corners, width=5, depth=1, ab_range=5, epoch=520\n",
      "Done: four_corners, width=5, depth=1, ab_range=5, epoch=530\n",
      "Done: four_corners, width=5, depth=1, ab_range=5, epoch=540\n",
      "Done: four_corners, width=5, depth=1, ab_range=5, epoch=550\n",
      "Done: four_corners, width=5, depth=1, ab_range=5, epoch=560\n",
      "Done: four_corners, width=5, depth=1, ab_range=5, epoch=570\n",
      "Done: four_corners, width=5, depth=1, ab_range=5, epoch=580\n",
      "Done: four_corners, width=5, depth=1, ab_range=5, epoch=590\n",
      "Done: four_corners, width=5, depth=1, ab_range=5, epoch=600\n",
      "Done: four_corners, width=5, depth=1, ab_range=5, epoch=610\n",
      "Done: four_corners, width=5, depth=1, ab_range=5, epoch=620\n",
      "Done: four_corners, width=5, depth=1, ab_range=5, epoch=630\n",
      "Done: four_corners, width=5, depth=1, ab_range=5, epoch=640\n",
      "Done: four_corners, width=5, depth=1, ab_range=5, epoch=650\n",
      "Done: four_corners, width=5, depth=1, ab_range=5, epoch=660\n",
      "Done: four_corners, width=5, depth=1, ab_range=5, epoch=670\n",
      "Done: four_corners, width=5, depth=1, ab_range=5, epoch=680\n",
      "Done: four_corners, width=5, depth=1, ab_range=5, epoch=690\n",
      "Done: four_corners, width=5, depth=1, ab_range=5, epoch=700\n",
      "Done: four_corners, width=5, depth=1, ab_range=5, epoch=710\n",
      "Done: four_corners, width=5, depth=1, ab_range=5, epoch=720\n",
      "Done: four_corners, width=5, depth=1, ab_range=5, epoch=730\n",
      "Done: four_corners, width=5, depth=1, ab_range=5, epoch=740\n",
      "Done: four_corners, width=5, depth=1, ab_range=5, epoch=750\n",
      "Done: four_corners, width=5, depth=1, ab_range=5, epoch=760\n",
      "Done: four_corners, width=5, depth=1, ab_range=5, epoch=770\n",
      "Done: four_corners, width=5, depth=1, ab_range=5, epoch=780\n",
      "Done: four_corners, width=5, depth=1, ab_range=5, epoch=790\n",
      "Done: four_corners, width=5, depth=1, ab_range=5, epoch=800\n",
      "Done: four_corners, width=5, depth=1, ab_range=5, epoch=810\n",
      "Done: four_corners, width=5, depth=1, ab_range=5, epoch=820\n",
      "Done: four_corners, width=5, depth=1, ab_range=5, epoch=830\n",
      "Done: four_corners, width=5, depth=1, ab_range=5, epoch=840\n",
      "Done: four_corners, width=5, depth=1, ab_range=5, epoch=850\n",
      "Done: half_moons, width=5, depth=4, ab_range=2, epoch=610\n",
      "Done: half_moons, width=5, depth=4, ab_range=2, epoch=620\n",
      "Done: half_moons, width=5, depth=4, ab_range=2, epoch=630\n",
      "Done: half_moons, width=5, depth=4, ab_range=2, epoch=640\n",
      "Done: half_moons, width=5, depth=4, ab_range=2, epoch=650\n"
     ]
    },
    {
     "name": "stderr",
     "output_type": "stream",
     "text": [
      "Outer loop (a):   2%|▏         | 2/100 [00:01<00:57,  1.71it/s]"
     ]
    },
    {
     "name": "stdout",
     "output_type": "stream",
     "text": [
      "Done: half_moons, width=5, depth=4, ab_range=2, epoch=660\n",
      "Done: half_moons, width=5, depth=4, ab_range=2, epoch=670\n",
      "Done: half_moons, width=5, depth=4, ab_range=2, epoch=680\n",
      "Done: half_moons, width=5, depth=4, ab_range=2, epoch=690\n",
      "Done: half_moons, width=5, depth=4, ab_range=2, epoch=700\n",
      "Done: half_moons, width=5, depth=4, ab_range=2, epoch=710\n"
     ]
    },
    {
     "name": "stderr",
     "output_type": "stream",
     "text": [
      "Outer loop (a):  97%|█████████▋| 97/100 [00:52<00:01,  1.73it/s]"
     ]
    },
    {
     "name": "stdout",
     "output_type": "stream",
     "text": [
      "Done: half_moons, width=5, depth=4, ab_range=2, epoch=720\n",
      "Done: half_moons, width=5, depth=4, ab_range=2, epoch=730\n",
      "Done: half_moons, width=5, depth=4, ab_range=2, epoch=740\n",
      "Done: half_moons, width=5, depth=4, ab_range=2, epoch=750\n",
      "Done: half_moons, width=5, depth=4, ab_range=2, epoch=760\n",
      "Done: half_moons, width=5, depth=4, ab_range=2, epoch=770\n",
      "Done: half_moons, width=5, depth=4, ab_range=2, epoch=780\n",
      "Done: half_moons, width=5, depth=4, ab_range=2, epoch=790\n",
      "Done: half_moons, width=5, depth=4, ab_range=2, epoch=800\n",
      "Done: half_moons, width=5, depth=4, ab_range=2, epoch=810\n",
      "Done: half_moons, width=5, depth=4, ab_range=2, epoch=820\n",
      "Done: half_moons, width=5, depth=4, ab_range=2, epoch=830\n",
      "Done: half_moons, width=5, depth=4, ab_range=2, epoch=840\n",
      "Done: half_moons, width=5, depth=4, ab_range=2, epoch=850\n",
      "Done: half_moons, width=5, depth=4, ab_range=2, epoch=860\n",
      "Done: half_moons, width=5, depth=4, ab_range=2, epoch=870\n",
      "Done: half_moons, width=5, depth=4, ab_range=2, epoch=880\n",
      "Done: half_moons, width=5, depth=4, ab_range=2, epoch=890\n",
      "Done: half_moons, width=5, depth=4, ab_range=2, epoch=900\n",
      "Done: half_moons, width=5, depth=4, ab_range=2, epoch=910\n",
      "Done: half_moons, width=5, depth=4, ab_range=2, epoch=920\n",
      "Done: half_moons, width=5, depth=4, ab_range=2, epoch=930\n",
      "Done: half_moons, width=5, depth=4, ab_range=2, epoch=940\n",
      "Done: half_moons, width=5, depth=4, ab_range=2, epoch=950\n",
      "Done: half_moons, width=5, depth=4, ab_range=2, epoch=960\n",
      "Done: half_moons, width=5, depth=4, ab_range=2, epoch=970\n",
      "Done: half_moons, width=5, depth=4, ab_range=2, epoch=980\n",
      "Done: half_moons, width=5, depth=4, ab_range=2, epoch=990\n",
      "Done: half_moons, width=5, depth=4, ab_range=2, epoch=1000\n",
      "Done: half_moons, width=5, depth=4, ab_range=5, epoch=0\n",
      "Done: half_moons, width=5, depth=4, ab_range=5, epoch=10\n",
      "Done: half_moons, width=5, depth=4, ab_range=5, epoch=20\n",
      "Done: half_moons, width=5, depth=4, ab_range=5, epoch=30\n",
      "Done: half_moons, width=5, depth=4, ab_range=5, epoch=40\n",
      "Done: half_moons, width=5, depth=4, ab_range=5, epoch=50\n",
      "Done: half_moons, width=5, depth=4, ab_range=5, epoch=60\n",
      "Done: half_moons, width=5, depth=4, ab_range=5, epoch=70\n",
      "Done: half_moons, width=5, depth=4, ab_range=5, epoch=80\n",
      "Done: half_moons, width=5, depth=4, ab_range=5, epoch=90\n",
      "Done: half_moons, width=5, depth=4, ab_range=5, epoch=100\n",
      "Done: half_moons, width=5, depth=4, ab_range=5, epoch=110\n",
      "Done: half_moons, width=5, depth=4, ab_range=5, epoch=120\n",
      "Done: half_moons, width=5, depth=4, ab_range=5, epoch=130\n",
      "Done: half_moons, width=5, depth=4, ab_range=5, epoch=140\n",
      "Done: half_moons, width=5, depth=4, ab_range=5, epoch=150\n",
      "Done: half_moons, width=5, depth=4, ab_range=5, epoch=160\n",
      "Done: half_moons, width=5, depth=4, ab_range=5, epoch=170\n",
      "Done: half_moons, width=5, depth=4, ab_range=5, epoch=180\n",
      "Done: half_moons, width=5, depth=4, ab_range=5, epoch=190\n",
      "Done: half_moons, width=5, depth=4, ab_range=5, epoch=200\n",
      "Done: half_moons, width=5, depth=4, ab_range=5, epoch=210\n",
      "Done: half_moons, width=5, depth=4, ab_range=5, epoch=220\n",
      "Done: half_moons, width=5, depth=4, ab_range=5, epoch=230\n",
      "Done: half_moons, width=5, depth=4, ab_range=5, epoch=240\n",
      "Done: half_moons, width=5, depth=4, ab_range=5, epoch=250\n",
      "Done: half_moons, width=5, depth=4, ab_range=5, epoch=260\n",
      "Done: half_moons, width=5, depth=4, ab_range=5, epoch=270\n",
      "Done: half_moons, width=5, depth=4, ab_range=5, epoch=280\n",
      "Done: half_moons, width=5, depth=4, ab_range=5, epoch=290"
     ]
    },
    {
     "name": "stderr",
     "output_type": "stream",
     "text": [
      "Outer loop (a):  31%|███       | 31/100 [00:14<00:34,  1.98it/s]"
     ]
    },
    {
     "name": "stdout",
     "output_type": "stream",
     "text": [
      "\n",
      "Done: half_moons, width=5, depth=4, ab_range=5, epoch=300\n",
      "Done: half_moons, width=5, depth=4, ab_range=5, epoch=310\n",
      "Done: half_moons, width=5, depth=4, ab_range=5, epoch=320\n",
      "Done: half_moons, width=5, depth=4, ab_range=5, epoch=330\n",
      "Done: half_moons, width=5, depth=4, ab_range=5, epoch=340\n",
      "Done: half_moons, width=5, depth=4, ab_range=5, epoch=350\n",
      "Done: half_moons, width=5, depth=4, ab_range=5, epoch=360\n",
      "Done: half_moons, width=5, depth=4, ab_range=5, epoch=370\n",
      "Done: half_moons, width=5, depth=4, ab_range=5, epoch=380\n",
      "Done: half_moons, width=5, depth=4, ab_range=5, epoch=390\n",
      "Done: half_moons, width=5, depth=4, ab_range=5, epoch=400\n",
      "Done: half_moons, width=5, depth=4, ab_range=5, epoch=410\n",
      "Done: half_moons, width=5, depth=4, ab_range=5, epoch=420\n",
      "Done: half_moons, width=5, depth=4, ab_range=5, epoch=430\n",
      "Done: half_moons, width=5, depth=4, ab_range=5, epoch=440\n",
      "Done: half_moons, width=5, depth=4, ab_range=5, epoch=450\n",
      "Done: half_moons, width=5, depth=4, ab_range=5, epoch=460\n",
      "Done: half_moons, width=5, depth=4, ab_range=5, epoch=470\n",
      "Done: half_moons, width=5, depth=4, ab_range=5, epoch=480\n",
      "Done: half_moons, width=5, depth=4, ab_range=5, epoch=490\n",
      "Done: half_moons, width=5, depth=4, ab_range=5, epoch=500\n",
      "Done: half_moons, width=5, depth=4, ab_range=5, epoch=510\n",
      "Done: half_moons, width=5, depth=4, ab_range=5, epoch=520\n",
      "Done: half_moons, width=5, depth=4, ab_range=5, epoch=530\n",
      "Done: half_moons, width=5, depth=4, ab_range=5, epoch=540\n",
      "Done: half_moons, width=5, depth=4, ab_range=5, epoch=550\n",
      "Done: half_moons, width=5, depth=4, ab_range=5, epoch=560\n",
      "Done: half_moons, width=5, depth=4, ab_range=5, epoch=570\n",
      "Done: half_moons, width=5, depth=4, ab_range=5, epoch=580\n",
      "Done: half_moons, width=5, depth=4, ab_range=5, epoch=590\n",
      "Done: half_moons, width=5, depth=4, ab_range=5, epoch=600\n",
      "Done: half_moons, width=5, depth=4, ab_range=5, epoch=610\n",
      "Done: half_moons, width=5, depth=4, ab_range=5, epoch=620\n",
      "Done: half_moons, width=5, depth=4, ab_range=5, epoch=630\n",
      "Done: half_moons, width=5, depth=4, ab_range=5, epoch=640\n",
      "Done: half_moons, width=5, depth=4, ab_range=5, epoch=650\n",
      "Done: half_moons, width=5, depth=4, ab_range=5, epoch=660\n",
      "Done: half_moons, width=5, depth=4, ab_range=5, epoch=670\n",
      "Done: half_moons, width=5, depth=4, ab_range=5, epoch=680\n",
      "Done: half_moons, width=5, depth=4, ab_range=5, epoch=690\n",
      "Done: half_moons, width=5, depth=4, ab_range=5, epoch=700\n",
      "Done: half_moons, width=5, depth=4, ab_range=5, epoch=710\n",
      "Done: half_moons, width=5, depth=4, ab_range=5, epoch=720\n",
      "Done: half_moons, width=5, depth=4, ab_range=5, epoch=730\n",
      "Done: half_moons, width=5, depth=4, ab_range=5, epoch=740\n",
      "Done: half_moons, width=5, depth=4, ab_range=5, epoch=750\n",
      "Done: half_moons, width=5, depth=4, ab_range=5, epoch=760\n",
      "Done: half_moons, width=5, depth=4, ab_range=5, epoch=770\n",
      "Done: half_moons, width=5, depth=4, ab_range=5, epoch=780\n",
      "Done: half_moons, width=5, depth=4, ab_range=5, epoch=790\n",
      "Done: half_moons, width=5, depth=4, ab_range=5, epoch=800\n",
      "Done: half_moons, width=5, depth=4, ab_range=5, epoch=810\n",
      "Done: half_moons, width=5, depth=4, ab_range=5, epoch=820\n",
      "Done: half_moons, width=5, depth=4, ab_range=5, epoch=830\n",
      "Done: half_moons, width=5, depth=4, ab_range=5, epoch=840\n",
      "Done: half_moons, width=5, depth=4, ab_range=5, epoch=850\n"
     ]
    },
    {
     "name": "stderr",
     "output_type": "stream",
     "text": [
      "Outer loop (a):  20%|██        | 20/100 [00:09<00:39,  2.05it/s]"
     ]
    },
    {
     "name": "stdout",
     "output_type": "stream",
     "text": [
      "Done: half_moons, width=5, depth=4, ab_range=5, epoch=860\n"
     ]
    },
    {
     "name": "stderr",
     "output_type": "stream",
     "text": [
      "Outer loop (a):   1%|          | 1/100 [00:00<00:46,  2.12it/s]"
     ]
    },
    {
     "name": "stdout",
     "output_type": "stream",
     "text": [
      "Done: half_moons, width=5, depth=4, ab_range=5, epoch=870\n",
      "Done: half_moons, width=5, depth=4, ab_range=5, epoch=880\n",
      "Done: half_moons, width=5, depth=4, ab_range=5, epoch=890\n",
      "Done: half_moons, width=5, depth=4, ab_range=5, epoch=900\n",
      "Done: half_moons, width=5, depth=4, ab_range=5, epoch=910\n",
      "Done: half_moons, width=5, depth=4, ab_range=5, epoch=920\n",
      "Done: half_moons, width=5, depth=4, ab_range=5, epoch=930\n",
      "Done: half_moons, width=5, depth=4, ab_range=5, epoch=940\n",
      "Done: half_moons, width=5, depth=4, ab_range=5, epoch=950\n",
      "Done: half_moons, width=5, depth=4, ab_range=5, epoch=960\n",
      "Done: half_moons, width=5, depth=4, ab_range=5, epoch=970\n",
      "Done: half_moons, width=5, depth=4, ab_range=5, epoch=980\n",
      "Done: half_moons, width=5, depth=4, ab_range=5, epoch=990\n",
      "Done: half_moons, width=5, depth=4, ab_range=5, epoch=1000\n",
      "Done: half_moons, width=5, depth=4, ab_range=0.2, epoch=0\n",
      "Done: half_moons, width=5, depth=4, ab_range=0.2, epoch=10\n",
      "Done: half_moons, width=5, depth=4, ab_range=0.2, epoch=20\n",
      "Done: half_moons, width=5, depth=4, ab_range=0.2, epoch=30\n",
      "Done: half_moons, width=5, depth=4, ab_range=0.2, epoch=40\n",
      "Done: half_moons, width=5, depth=4, ab_range=0.2, epoch=50\n",
      "Done: half_moons, width=5, depth=4, ab_range=0.2, epoch=60\n",
      "Done: half_moons, width=5, depth=4, ab_range=0.2, epoch=70\n",
      "Done: half_moons, width=5, depth=4, ab_range=0.2, epoch=80\n",
      "Done: half_moons, width=5, depth=4, ab_range=0.2, epoch=90\n",
      "Done: half_moons, width=5, depth=4, ab_range=0.2, epoch=100\n",
      "Done: half_moons, width=5, depth=4, ab_range=0.2, epoch=110\n",
      "Done: half_moons, width=5, depth=4, ab_range=0.2, epoch=120\n",
      "Done: half_moons, width=5, depth=4, ab_range=0.2, epoch=130\n",
      "Done: half_moons, width=5, depth=4, ab_range=0.2, epoch=140\n",
      "Done: half_moons, width=5, depth=4, ab_range=0.2, epoch=150\n",
      "Done: half_moons, width=5, depth=4, ab_range=0.2, epoch=160\n",
      "Done: half_moons, width=5, depth=4, ab_range=0.2, epoch=170\n",
      "Done: half_moons, width=5, depth=4, ab_range=0.2, epoch=180\n",
      "Done: half_moons, width=5, depth=4, ab_range=0.2, epoch=190\n",
      "Done: half_moons, width=5, depth=4, ab_range=0.2, epoch=200\n",
      "Done: half_moons, width=5, depth=4, ab_range=0.2, epoch=210\n",
      "Done: half_moons, width=5, depth=4, ab_range=0.2, epoch=220\n",
      "Done: half_moons, width=5, depth=4, ab_range=0.2, epoch=230\n",
      "Done: half_moons, width=5, depth=4, ab_range=0.2, epoch=240\n",
      "Done: half_moons, width=5, depth=4, ab_range=0.2, epoch=250\n",
      "Done: half_moons, width=5, depth=4, ab_range=0.2, epoch=260\n",
      "Done: half_moons, width=5, depth=4, ab_range=0.2, epoch=270\n",
      "Done: half_moons, width=5, depth=4, ab_range=0.2, epoch=280\n",
      "Done: half_moons, width=5, depth=4, ab_range=0.2, epoch=290\n",
      "Done: half_moons, width=5, depth=4, ab_range=0.2, epoch=300\n",
      "Done: half_moons, width=5, depth=4, ab_range=0.2, epoch=310"
     ]
    },
    {
     "name": "stderr",
     "output_type": "stream",
     "text": [
      "Outer loop (a):  99%|█████████▉| 99/100 [00:54<00:00,  1.72it/s]"
     ]
    },
    {
     "name": "stdout",
     "output_type": "stream",
     "text": [
      "\n",
      "Done: half_moons, width=5, depth=4, ab_range=0.2, epoch=320\n",
      "Done: half_moons, width=5, depth=4, ab_range=0.2, epoch=330\n",
      "Done: half_moons, width=5, depth=4, ab_range=0.2, epoch=340\n",
      "Done: half_moons, width=5, depth=4, ab_range=0.2, epoch=350\n",
      "Done: half_moons, width=5, depth=4, ab_range=0.2, epoch=360\n",
      "Done: half_moons, width=5, depth=4, ab_range=0.2, epoch=370\n",
      "Done: half_moons, width=5, depth=4, ab_range=0.2, epoch=380\n",
      "Done: half_moons, width=5, depth=4, ab_range=0.2, epoch=390\n",
      "Done: half_moons, width=5, depth=4, ab_range=0.2, epoch=400\n",
      "Done: half_moons, width=5, depth=4, ab_range=0.2, epoch=410\n",
      "Done: half_moons, width=5, depth=4, ab_range=0.2, epoch=420\n",
      "Done: half_moons, width=5, depth=4, ab_range=0.2, epoch=430\n",
      "Done: half_moons, width=5, depth=4, ab_range=0.2, epoch=440\n",
      "Done: half_moons, width=5, depth=4, ab_range=0.2, epoch=450\n",
      "Done: half_moons, width=5, depth=4, ab_range=0.2, epoch=460\n",
      "Done: half_moons, width=5, depth=4, ab_range=0.2, epoch=470\n",
      "Done: half_moons, width=5, depth=4, ab_range=0.2, epoch=480\n",
      "Done: half_moons, width=5, depth=4, ab_range=0.2, epoch=490\n",
      "Done: half_moons, width=5, depth=4, ab_range=0.2, epoch=500\n",
      "Done: half_moons, width=5, depth=4, ab_range=0.2, epoch=510\n",
      "Done: half_moons, width=5, depth=4, ab_range=0.2, epoch=520\n",
      "Done: half_moons, width=5, depth=4, ab_range=0.2, epoch=530\n",
      "Done: half_moons, width=5, depth=4, ab_range=0.2, epoch=540\n",
      "Done: half_moons, width=5, depth=4, ab_range=0.2, epoch=550\n",
      "Done: half_moons, width=5, depth=4, ab_range=0.2, epoch=560\n",
      "Done: half_moons, width=5, depth=4, ab_range=0.2, epoch=570\n",
      "Done: half_moons, width=5, depth=4, ab_range=0.2, epoch=580\n",
      "Done: half_moons, width=5, depth=4, ab_range=0.2, epoch=590\n",
      "Done: half_moons, width=5, depth=4, ab_range=0.2, epoch=600\n",
      "Done: half_moons, width=5, depth=4, ab_range=0.2, epoch=610\n",
      "Done: half_moons, width=5, depth=4, ab_range=0.2, epoch=620\n",
      "Done: half_moons, width=5, depth=4, ab_range=0.2, epoch=630\n",
      "Done: half_moons, width=5, depth=4, ab_range=0.2, epoch=640\n",
      "Done: half_moons, width=5, depth=4, ab_range=0.2, epoch=650\n",
      "Done: half_moons, width=5, depth=4, ab_range=0.2, epoch=660\n",
      "Done: half_moons, width=5, depth=4, ab_range=0.2, epoch=670\n",
      "Done: half_moons, width=5, depth=4, ab_range=0.2, epoch=680\n",
      "Done: half_moons, width=5, depth=4, ab_range=0.2, epoch=690\n",
      "Done: half_moons, width=5, depth=4, ab_range=0.2, epoch=700\n",
      "Done: half_moons, width=5, depth=4, ab_range=0.2, epoch=710\n",
      "Done: half_moons, width=5, depth=4, ab_range=0.2, epoch=720\n",
      "Done: half_moons, width=5, depth=4, ab_range=0.2, epoch=730\n",
      "Done: half_moons, width=5, depth=4, ab_range=0.2, epoch=740\n",
      "Done: half_moons, width=5, depth=4, ab_range=0.2, epoch=750\n",
      "Done: half_moons, width=5, depth=4, ab_range=0.2, epoch=760\n",
      "Done: half_moons, width=5, depth=4, ab_range=0.2, epoch=770\n",
      "Done: half_moons, width=5, depth=4, ab_range=0.2, epoch=780\n",
      "Done: half_moons, width=5, depth=4, ab_range=0.2, epoch=790\n",
      "Done: half_moons, width=5, depth=4, ab_range=0.2, epoch=800\n",
      "Done: half_moons, width=5, depth=4, ab_range=0.2, epoch=810\n",
      "Done: half_moons, width=5, depth=4, ab_range=0.2, epoch=820\n",
      "Done: half_moons, width=5, depth=4, ab_range=0.2, epoch=830\n",
      "Done: half_moons, width=5, depth=4, ab_range=0.2, epoch=840\n",
      "Done: half_moons, width=5, depth=4, ab_range=0.2, epoch=850\n",
      "Done: half_moons, width=5, depth=4, ab_range=0.2, epoch=860\n",
      "Done: half_moons, width=5, depth=4, ab_range=0.2, epoch=870\n",
      "Done: half_moons, width=5, depth=4, ab_range=0.2, epoch=880\n",
      "Done: half_moons, width=5, depth=4, ab_range=0.2, epoch=890\n",
      "Done: half_moons, width=5, depth=4, ab_range=0.2, epoch=900\n",
      "Done: half_moons, width=5, depth=4, ab_range=0.2, epoch=910\n",
      "Done: half_moons, width=5, depth=4, ab_range=0.2, epoch=920\n",
      "Done: half_moons, width=5, depth=4, ab_range=0.2, epoch=930\n",
      "Done: half_moons, width=5, depth=4, ab_range=0.2, epoch=940\n",
      "Done: half_moons, width=5, depth=4, ab_range=0.2, epoch=950\n",
      "Done: half_moons, width=5, depth=4, ab_range=0.2, epoch=960\n",
      "Done: half_moons, width=5, depth=4, ab_range=0.2, epoch=970\n",
      "Done: half_moons, width=5, depth=4, ab_range=0.2, epoch=980\n",
      "Done: half_moons, width=5, depth=4, ab_range=0.2, epoch=990\n",
      "Done: half_moons, width=5, depth=4, ab_range=0.2, epoch=1000\n",
      "Done: half_moons, width=5, depth=4, ab_range=0.5, epoch=0\n",
      "Done: half_moons, width=5, depth=4, ab_range=0.5, epoch=10"
     ]
    },
    {
     "name": "stderr",
     "output_type": "stream",
     "text": [
      "Outer loop (a):   3%|▎         | 3/100 [00:01<00:49,  1.96it/s]"
     ]
    },
    {
     "name": "stdout",
     "output_type": "stream",
     "text": [
      "\n",
      "Done: half_moons, width=5, depth=4, ab_range=0.5, epoch=20\n",
      "Done: half_moons, width=5, depth=4, ab_range=0.5, epoch=30\n",
      "Done: half_moons, width=5, depth=4, ab_range=0.5, epoch=40\n",
      "Done: half_moons, width=5, depth=4, ab_range=0.5, epoch=50\n",
      "Done: half_moons, width=5, depth=4, ab_range=0.5, epoch=60\n",
      "Done: half_moons, width=5, depth=4, ab_range=0.5, epoch=70\n",
      "Done: half_moons, width=5, depth=4, ab_range=0.5, epoch=80\n",
      "Done: half_moons, width=5, depth=4, ab_range=0.5, epoch=90\n",
      "Done: half_moons, width=5, depth=4, ab_range=0.5, epoch=100\n",
      "Done: half_moons, width=5, depth=4, ab_range=0.5, epoch=110\n",
      "Done: half_moons, width=5, depth=4, ab_range=0.5, epoch=120\n",
      "Done: half_moons, width=5, depth=4, ab_range=0.5, epoch=130\n",
      "Done: half_moons, width=5, depth=4, ab_range=0.5, epoch=140\n",
      "Done: half_moons, width=5, depth=4, ab_range=0.5, epoch=150\n",
      "Done: half_moons, width=5, depth=4, ab_range=0.5, epoch=160\n",
      "Done: half_moons, width=5, depth=4, ab_range=0.5, epoch=170\n",
      "Done: half_moons, width=5, depth=4, ab_range=0.5, epoch=180\n",
      "Done: half_moons, width=5, depth=4, ab_range=0.5, epoch=190\n",
      "Done: half_moons, width=5, depth=4, ab_range=0.5, epoch=200\n",
      "Done: half_moons, width=5, depth=4, ab_range=0.5, epoch=210\n",
      "Done: half_moons, width=5, depth=4, ab_range=0.5, epoch=220\n",
      "Done: half_moons, width=5, depth=4, ab_range=0.5, epoch=230\n",
      "Done: half_moons, width=5, depth=4, ab_range=0.5, epoch=240"
     ]
    },
    {
     "name": "stderr",
     "output_type": "stream",
     "text": [
      "Outer loop (a):  38%|███▊      | 38/100 [00:19<00:34,  1.78it/s]"
     ]
    },
    {
     "name": "stdout",
     "output_type": "stream",
     "text": [
      "\n",
      "Done: half_moons, width=5, depth=4, ab_range=0.5, epoch=250\n",
      "Done: half_moons, width=5, depth=4, ab_range=0.5, epoch=260\n",
      "Done: half_moons, width=5, depth=4, ab_range=0.5, epoch=270\n",
      "Done: half_moons, width=5, depth=4, ab_range=0.5, epoch=280\n",
      "Done: half_moons, width=5, depth=4, ab_range=0.5, epoch=290\n",
      "Done: half_moons, width=5, depth=4, ab_range=0.5, epoch=300\n",
      "Done: half_moons, width=5, depth=4, ab_range=0.5, epoch=310\n",
      "Done: half_moons, width=5, depth=4, ab_range=0.5, epoch=320\n",
      "Done: half_moons, width=5, depth=4, ab_range=0.5, epoch=330\n",
      "Done: half_moons, width=5, depth=4, ab_range=0.5, epoch=340\n",
      "Done: half_moons, width=5, depth=4, ab_range=0.5, epoch=350\n",
      "Done: half_moons, width=5, depth=4, ab_range=0.5, epoch=360\n",
      "Done: half_moons, width=5, depth=4, ab_range=0.5, epoch=370\n",
      "Done: half_moons, width=5, depth=4, ab_range=0.5, epoch=380\n",
      "Done: half_moons, width=5, depth=4, ab_range=0.5, epoch=390\n",
      "Done: half_moons, width=5, depth=4, ab_range=0.5, epoch=400\n",
      "Done: half_moons, width=5, depth=4, ab_range=0.5, epoch=410\n",
      "Done: half_moons, width=5, depth=4, ab_range=0.5, epoch=420\n",
      "Done: half_moons, width=5, depth=4, ab_range=0.5, epoch=430\n",
      "Done: half_moons, width=5, depth=4, ab_range=0.5, epoch=440\n"
     ]
    },
    {
     "name": "stderr",
     "output_type": "stream",
     "text": [
      "Outer loop (a):  32%|███▏      | 32/100 [00:14<00:31,  2.13it/s]"
     ]
    },
    {
     "name": "stdout",
     "output_type": "stream",
     "text": [
      "Done: half_moons, width=5, depth=4, ab_range=0.5, epoch=450\n",
      "Done: half_moons, width=5, depth=4, ab_range=0.5, epoch=460\n",
      "Done: half_moons, width=5, depth=4, ab_range=0.5, epoch=470\n",
      "Done: half_moons, width=5, depth=4, ab_range=0.5, epoch=480\n",
      "Done: half_moons, width=5, depth=4, ab_range=0.5, epoch=490\n",
      "Done: half_moons, width=5, depth=4, ab_range=0.5, epoch=500\n",
      "Done: half_moons, width=5, depth=4, ab_range=0.5, epoch=510\n",
      "Done: half_moons, width=5, depth=4, ab_range=0.5, epoch=520\n",
      "Done: half_moons, width=5, depth=4, ab_range=0.5, epoch=530\n",
      "Done: half_moons, width=5, depth=4, ab_range=0.5, epoch=540\n",
      "Done: half_moons, width=5, depth=4, ab_range=0.5, epoch=550\n",
      "Done: half_moons, width=5, depth=4, ab_range=0.5, epoch=560\n",
      "Done: half_moons, width=5, depth=4, ab_range=0.5, epoch=570\n",
      "Done: half_moons, width=5, depth=4, ab_range=0.5, epoch=580\n",
      "Done: half_moons, width=5, depth=4, ab_range=0.5, epoch=590\n",
      "Done: half_moons, width=5, depth=4, ab_range=0.5, epoch=600\n",
      "Done: half_moons, width=5, depth=4, ab_range=0.5, epoch=610\n",
      "Done: half_moons, width=5, depth=4, ab_range=0.5, epoch=620\n",
      "Done: half_moons, width=5, depth=4, ab_range=0.5, epoch=630\n",
      "Done: half_moons, width=5, depth=4, ab_range=0.5, epoch=640\n",
      "Done: half_moons, width=5, depth=4, ab_range=0.5, epoch=650\n",
      "Done: half_moons, width=5, depth=4, ab_range=0.5, epoch=660\n",
      "Done: half_moons, width=5, depth=4, ab_range=0.5, epoch=670\n",
      "Done: half_moons, width=5, depth=4, ab_range=0.5, epoch=680\n",
      "Done: half_moons, width=5, depth=4, ab_range=0.5, epoch=690\n",
      "Done: half_moons, width=5, depth=4, ab_range=0.5, epoch=700\n",
      "Done: half_moons, width=5, depth=4, ab_range=0.5, epoch=710\n",
      "Done: half_moons, width=5, depth=4, ab_range=0.5, epoch=720\n",
      "Done: half_moons, width=5, depth=4, ab_range=0.5, epoch=730\n",
      "Done: half_moons, width=5, depth=4, ab_range=0.5, epoch=740\n",
      "Done: half_moons, width=5, depth=4, ab_range=0.5, epoch=750\n",
      "Done: half_moons, width=5, depth=4, ab_range=0.5, epoch=760\n",
      "Done: half_moons, width=5, depth=4, ab_range=0.5, epoch=770\n",
      "Done: half_moons, width=5, depth=4, ab_range=0.5, epoch=780\n",
      "Done: half_moons, width=5, depth=4, ab_range=0.5, epoch=790\n",
      "Done: half_moons, width=5, depth=4, ab_range=0.5, epoch=800"
     ]
    },
    {
     "name": "stderr",
     "output_type": "stream",
     "text": [
      "Outer loop (a):  98%|█████████▊| 98/100 [00:53<00:01,  1.76it/s]"
     ]
    },
    {
     "name": "stdout",
     "output_type": "stream",
     "text": [
      "\n",
      "Done: half_moons, width=5, depth=4, ab_range=0.5, epoch=810\n",
      "Done: half_moons, width=5, depth=4, ab_range=0.5, epoch=820\n",
      "Done: half_moons, width=5, depth=4, ab_range=0.5, epoch=830\n",
      "Done: half_moons, width=5, depth=4, ab_range=0.5, epoch=840\n",
      "Done: half_moons, width=5, depth=4, ab_range=0.5, epoch=850\n",
      "Done: half_moons, width=5, depth=4, ab_range=0.5, epoch=860\n",
      "Done: half_moons, width=5, depth=4, ab_range=0.5, epoch=870\n",
      "Done: half_moons, width=5, depth=4, ab_range=0.5, epoch=880\n",
      "Done: half_moons, width=5, depth=4, ab_range=0.5, epoch=890\n",
      "Done: half_moons, width=5, depth=4, ab_range=0.5, epoch=900\n",
      "Done: half_moons, width=5, depth=4, ab_range=0.5, epoch=910\n",
      "Done: half_moons, width=5, depth=4, ab_range=0.5, epoch=920\n",
      "Done: half_moons, width=5, depth=4, ab_range=0.5, epoch=930\n",
      "Done: half_moons, width=5, depth=4, ab_range=0.5, epoch=940\n",
      "Done: half_moons, width=5, depth=4, ab_range=0.5, epoch=950\n",
      "Done: half_moons, width=5, depth=4, ab_range=0.5, epoch=960\n",
      "Done: half_moons, width=5, depth=4, ab_range=0.5, epoch=970\n",
      "Done: half_moons, width=5, depth=4, ab_range=0.5, epoch=980\n",
      "Done: half_moons, width=5, depth=4, ab_range=0.5, epoch=990\n",
      "Done: half_moons, width=5, depth=4, ab_range=0.5, epoch=1000\n",
      "Done: spirals, width=5, depth=4, ab_range=0.1, epoch=0\n",
      "Done: spirals, width=5, depth=4, ab_range=0.1, epoch=10\n",
      "Done: spirals, width=5, depth=4, ab_range=0.1, epoch=20\n",
      "Done: spirals, width=5, depth=4, ab_range=0.1, epoch=30\n",
      "Done: spirals, width=5, depth=4, ab_range=0.1, epoch=40\n",
      "Done: spirals, width=5, depth=4, ab_range=0.1, epoch=50\n",
      "Done: spirals, width=5, depth=4, ab_range=0.1, epoch=60\n",
      "Done: spirals, width=5, depth=4, ab_range=0.1, epoch=70\n",
      "Done: spirals, width=5, depth=4, ab_range=0.1, epoch=80\n",
      "Done: spirals, width=5, depth=4, ab_range=0.1, epoch=90\n",
      "Done: spirals, width=5, depth=4, ab_range=0.1, epoch=100\n",
      "Done: spirals, width=5, depth=4, ab_range=0.1, epoch=110\n",
      "Done: spirals, width=5, depth=4, ab_range=0.1, epoch=120\n",
      "Done: spirals, width=5, depth=4, ab_range=0.1, epoch=130\n",
      "Done: spirals, width=5, depth=4, ab_range=0.1, epoch=140\n",
      "Done: spirals, width=5, depth=4, ab_range=0.1, epoch=150\n",
      "Done: spirals, width=5, depth=4, ab_range=0.1, epoch=160\n",
      "Done: spirals, width=5, depth=4, ab_range=0.1, epoch=170\n",
      "Done: spirals, width=5, depth=4, ab_range=0.1, epoch=180\n",
      "Done: spirals, width=5, depth=4, ab_range=0.1, epoch=190\n",
      "Done: spirals, width=5, depth=4, ab_range=0.1, epoch=200\n",
      "Done: spirals, width=5, depth=4, ab_range=0.1, epoch=210\n",
      "Done: spirals, width=5, depth=4, ab_range=0.1, epoch=220\n",
      "Done: spirals, width=5, depth=4, ab_range=0.1, epoch=230\n",
      "Done: spirals, width=5, depth=4, ab_range=0.1, epoch=240\n",
      "Done: spirals, width=5, depth=4, ab_range=0.1, epoch=250\n",
      "Done: spirals, width=5, depth=4, ab_range=0.1, epoch=260\n",
      "Done: spirals, width=5, depth=4, ab_range=0.1, epoch=270\n",
      "Done: spirals, width=5, depth=4, ab_range=0.1, epoch=280\n",
      "Done: spirals, width=5, depth=4, ab_range=0.1, epoch=290\n",
      "Done: spirals, width=5, depth=4, ab_range=0.1, epoch=300\n",
      "Done: spirals, width=5, depth=4, ab_range=0.1, epoch=310\n",
      "Done: spirals, width=5, depth=4, ab_range=0.1, epoch=320\n",
      "Done: spirals, width=5, depth=4, ab_range=0.1, epoch=330\n",
      "Done: spirals, width=5, depth=4, ab_range=0.1, epoch=340\n",
      "Done: spirals, width=5, depth=4, ab_range=0.1, epoch=350\n",
      "Done: spirals, width=5, depth=4, ab_range=0.1, epoch=360\n",
      "Done: spirals, width=5, depth=4, ab_range=0.1, epoch=370\n",
      "Done: spirals, width=5, depth=4, ab_range=0.1, epoch=380\n",
      "Done: spirals, width=5, depth=4, ab_range=0.1, epoch=390\n",
      "Done: spirals, width=5, depth=4, ab_range=0.1, epoch=400\n",
      "Done: spirals, width=5, depth=4, ab_range=0.1, epoch=410\n",
      "Done: spirals, width=5, depth=4, ab_range=0.1, epoch=420\n",
      "Done: spirals, width=5, depth=4, ab_range=0.1, epoch=430\n",
      "Done: spirals, width=5, depth=4, ab_range=0.1, epoch=440\n",
      "Done: spirals, width=5, depth=4, ab_range=0.1, epoch=450\n",
      "Done: spirals, width=5, depth=4, ab_range=0.1, epoch=460\n",
      "Done: spirals, width=5, depth=4, ab_range=0.1, epoch=470\n",
      "Done: spirals, width=5, depth=4, ab_range=0.1, epoch=480\n",
      "Done: spirals, width=5, depth=4, ab_range=0.1, epoch=490\n",
      "Done: spirals, width=5, depth=4, ab_range=0.1, epoch=500\n",
      "Done: spirals, width=5, depth=4, ab_range=0.1, epoch=510\n",
      "Done: spirals, width=5, depth=4, ab_range=0.1, epoch=520\n",
      "Done: spirals, width=5, depth=4, ab_range=0.1, epoch=530\n",
      "Done: spirals, width=5, depth=4, ab_range=0.1, epoch=540\n",
      "Done: spirals, width=5, depth=4, ab_range=0.1, epoch=550\n",
      "Done: spirals, width=5, depth=4, ab_range=0.1, epoch=560\n",
      "Done: spirals, width=5, depth=4, ab_range=0.1, epoch=570\n",
      "Done: spirals, width=5, depth=4, ab_range=0.1, epoch=580\n",
      "Done: spirals, width=5, depth=4, ab_range=0.1, epoch=590\n",
      "Done: spirals, width=5, depth=4, ab_range=0.1, epoch=600\n",
      "Done: spirals, width=5, depth=4, ab_range=0.1, epoch=610\n",
      "Done: spirals, width=5, depth=4, ab_range=0.1, epoch=620\n",
      "Done: spirals, width=5, depth=4, ab_range=0.1, epoch=630\n",
      "Done: spirals, width=5, depth=4, ab_range=0.1, epoch=640\n",
      "Done: spirals, width=5, depth=4, ab_range=0.1, epoch=650\n"
     ]
    },
    {
     "name": "stderr",
     "output_type": "stream",
     "text": [
      "Outer loop (a):  21%|██        | 21/100 [00:09<00:38,  2.06it/s]"
     ]
    },
    {
     "name": "stdout",
     "output_type": "stream",
     "text": [
      "Done: spirals, width=5, depth=4, ab_range=0.1, epoch=660\n",
      "Done: spirals, width=5, depth=4, ab_range=0.1, epoch=670\n",
      "Done: spirals, width=5, depth=4, ab_range=0.1, epoch=680\n",
      "Done: spirals, width=5, depth=4, ab_range=0.1, epoch=690\n",
      "Done: spirals, width=5, depth=4, ab_range=0.1, epoch=700\n",
      "Done: spirals, width=5, depth=4, ab_range=0.1, epoch=710\n",
      "Done: spirals, width=5, depth=4, ab_range=0.1, epoch=720\n",
      "Done: spirals, width=5, depth=4, ab_range=0.1, epoch=730\n",
      "Done: spirals, width=5, depth=4, ab_range=0.1, epoch=740\n",
      "Done: spirals, width=5, depth=4, ab_range=0.1, epoch=750\n",
      "Done: spirals, width=5, depth=4, ab_range=0.1, epoch=760\n",
      "Done: spirals, width=5, depth=4, ab_range=0.1, epoch=770\n",
      "Done: spirals, width=5, depth=4, ab_range=0.1, epoch=780\n",
      "Done: spirals, width=5, depth=4, ab_range=0.1, epoch=790\n",
      "Done: spirals, width=5, depth=4, ab_range=0.1, epoch=800\n",
      "Done: spirals, width=5, depth=4, ab_range=0.1, epoch=810\n",
      "Done: spirals, width=5, depth=4, ab_range=0.1, epoch=820\n",
      "Done: spirals, width=5, depth=4, ab_range=0.1, epoch=830\n",
      "Done: spirals, width=5, depth=4, ab_range=0.1, epoch=840\n",
      "Done: spirals, width=5, depth=4, ab_range=0.1, epoch=850\n",
      "Done: spirals, width=5, depth=4, ab_range=0.1, epoch=860\n",
      "Done: spirals, width=5, depth=4, ab_range=0.1, epoch=870\n",
      "Done: spirals, width=5, depth=4, ab_range=0.1, epoch=880\n",
      "Done: spirals, width=5, depth=4, ab_range=0.1, epoch=890\n",
      "Done: spirals, width=5, depth=4, ab_range=0.1, epoch=900\n",
      "Done: spirals, width=5, depth=4, ab_range=0.1, epoch=910\n",
      "Done: spirals, width=5, depth=4, ab_range=0.1, epoch=920\n",
      "Done: spirals, width=5, depth=4, ab_range=0.1, epoch=930\n",
      "Done: spirals, width=5, depth=4, ab_range=0.1, epoch=940\n",
      "Done: spirals, width=5, depth=4, ab_range=0.1, epoch=950\n",
      "Done: spirals, width=5, depth=4, ab_range=0.1, epoch=960\n",
      "Done: spirals, width=5, depth=4, ab_range=0.1, epoch=970\n",
      "Done: spirals, width=5, depth=4, ab_range=0.1, epoch=980\n",
      "Done: spirals, width=5, depth=4, ab_range=0.1, epoch=990\n",
      "Done: spirals, width=5, depth=4, ab_range=0.1, epoch=1000\n",
      "Done: spirals, width=5, depth=4, ab_range=1, epoch=0\n",
      "Done: spirals, width=5, depth=4, ab_range=1, epoch=10\n",
      "Done: spirals, width=5, depth=4, ab_range=1, epoch=20\n",
      "Done: spirals, width=5, depth=4, ab_range=1, epoch=30\n",
      "Done: spirals, width=5, depth=4, ab_range=1, epoch=40\n",
      "Done: spirals, width=5, depth=4, ab_range=1, epoch=50\n",
      "Done: spirals, width=5, depth=4, ab_range=1, epoch=60\n",
      "Done: spirals, width=5, depth=4, ab_range=1, epoch=70\n",
      "Done: spirals, width=5, depth=4, ab_range=1, epoch=80\n",
      "Done: spirals, width=5, depth=4, ab_range=1, epoch=90\n",
      "Done: spirals, width=5, depth=4, ab_range=1, epoch=100\n",
      "Done: spirals, width=5, depth=4, ab_range=1, epoch=110\n",
      "Done: spirals, width=5, depth=4, ab_range=1, epoch=120\n",
      "Done: spirals, width=5, depth=4, ab_range=1, epoch=130\n",
      "Done: spirals, width=5, depth=4, ab_range=1, epoch=140\n",
      "Done: spirals, width=5, depth=4, ab_range=1, epoch=150\n",
      "Done: spirals, width=5, depth=4, ab_range=1, epoch=160\n",
      "Done: spirals, width=5, depth=4, ab_range=1, epoch=170\n",
      "Done: spirals, width=5, depth=4, ab_range=1, epoch=180\n",
      "Done: spirals, width=5, depth=4, ab_range=1, epoch=190\n",
      "Done: spirals, width=5, depth=4, ab_range=1, epoch=200\n",
      "Done: spirals, width=5, depth=4, ab_range=1, epoch=210\n",
      "Done: spirals, width=5, depth=4, ab_range=1, epoch=220\n",
      "Done: spirals, width=5, depth=4, ab_range=1, epoch=230\n",
      "Done: spirals, width=5, depth=4, ab_range=1, epoch=240\n",
      "Done: spirals, width=5, depth=4, ab_range=1, epoch=250\n",
      "Done: spirals, width=5, depth=4, ab_range=1, epoch=260\n",
      "Done: spirals, width=5, depth=4, ab_range=1, epoch=270\n",
      "Done: spirals, width=5, depth=4, ab_range=1, epoch=280\n",
      "Done: spirals, width=5, depth=4, ab_range=1, epoch=290\n",
      "Done: spirals, width=5, depth=4, ab_range=1, epoch=300\n",
      "Done: spirals, width=5, depth=4, ab_range=1, epoch=310\n",
      "Done: spirals, width=5, depth=4, ab_range=1, epoch=320\n",
      "Done: spirals, width=5, depth=4, ab_range=1, epoch=330\n",
      "Done: spirals, width=5, depth=4, ab_range=1, epoch=340\n",
      "Done: spirals, width=5, depth=4, ab_range=1, epoch=350\n",
      "Done: spirals, width=5, depth=4, ab_range=1, epoch=360\n",
      "Done: spirals, width=5, depth=4, ab_range=1, epoch=370\n",
      "Done: spirals, width=5, depth=4, ab_range=1, epoch=380\n",
      "Done: spirals, width=5, depth=4, ab_range=1, epoch=390\n",
      "Done: spirals, width=5, depth=4, ab_range=1, epoch=400\n",
      "Done: spirals, width=5, depth=4, ab_range=1, epoch=410\n",
      "Done: spirals, width=5, depth=4, ab_range=1, epoch=420\n",
      "Done: spirals, width=5, depth=4, ab_range=1, epoch=430\n",
      "Done: spirals, width=5, depth=4, ab_range=1, epoch=440\n",
      "Done: spirals, width=5, depth=4, ab_range=1, epoch=450\n",
      "Done: spirals, width=5, depth=4, ab_range=1, epoch=460\n"
     ]
    },
    {
     "name": "stderr",
     "output_type": "stream",
     "text": [
      "Outer loop (a):   4%|▍         | 4/100 [00:01<00:46,  2.08it/s]"
     ]
    },
    {
     "name": "stdout",
     "output_type": "stream",
     "text": [
      "Done: spirals, width=5, depth=4, ab_range=1, epoch=470\n",
      "Done: spirals, width=5, depth=4, ab_range=1, epoch=480\n",
      "Done: spirals, width=5, depth=4, ab_range=1, epoch=490\n",
      "Done: spirals, width=5, depth=4, ab_range=1, epoch=500\n",
      "Done: spirals, width=5, depth=4, ab_range=1, epoch=510\n",
      "Done: spirals, width=5, depth=4, ab_range=1, epoch=520\n",
      "Done: spirals, width=5, depth=4, ab_range=1, epoch=530\n",
      "Done: spirals, width=5, depth=4, ab_range=1, epoch=540\n",
      "Done: spirals, width=5, depth=4, ab_range=1, epoch=550\n",
      "Done: spirals, width=5, depth=4, ab_range=1, epoch=560\n",
      "Done: spirals, width=5, depth=4, ab_range=1, epoch=570\n",
      "Done: spirals, width=5, depth=4, ab_range=1, epoch=580\n",
      "Done: spirals, width=5, depth=4, ab_range=1, epoch=590\n",
      "Done: spirals, width=5, depth=4, ab_range=1, epoch=600\n",
      "Done: spirals, width=5, depth=4, ab_range=1, epoch=610\n",
      "Done: spirals, width=5, depth=4, ab_range=1, epoch=620\n",
      "Done: spirals, width=5, depth=4, ab_range=1, epoch=630\n",
      "Done: spirals, width=5, depth=4, ab_range=1, epoch=640\n",
      "Done: spirals, width=5, depth=4, ab_range=1, epoch=650\n",
      "Done: spirals, width=5, depth=4, ab_range=1, epoch=660\n",
      "Done: spirals, width=5, depth=4, ab_range=1, epoch=670\n",
      "Done: spirals, width=5, depth=4, ab_range=1, epoch=680\n",
      "Done: spirals, width=5, depth=4, ab_range=1, epoch=690\n",
      "Done: spirals, width=5, depth=4, ab_range=1, epoch=700\n",
      "Done: spirals, width=5, depth=4, ab_range=1, epoch=710\n",
      "Done: spirals, width=5, depth=4, ab_range=1, epoch=720\n",
      "Done: spirals, width=5, depth=4, ab_range=1, epoch=730\n",
      "Done: spirals, width=5, depth=4, ab_range=1, epoch=740\n",
      "Done: spirals, width=5, depth=4, ab_range=1, epoch=750\n",
      "Done: spirals, width=5, depth=4, ab_range=1, epoch=760\n",
      "Done: spirals, width=5, depth=4, ab_range=1, epoch=770"
     ]
    },
    {
     "name": "stderr",
     "output_type": "stream",
     "text": [
      "Outer loop (a):  33%|███▎      | 33/100 [00:15<00:30,  2.20it/s]"
     ]
    },
    {
     "name": "stdout",
     "output_type": "stream",
     "text": [
      "\n",
      "Done: spirals, width=5, depth=4, ab_range=1, epoch=780\n",
      "Done: spirals, width=5, depth=4, ab_range=1, epoch=790\n",
      "Done: spirals, width=5, depth=4, ab_range=1, epoch=800\n",
      "Done: spirals, width=5, depth=4, ab_range=1, epoch=810\n",
      "Done: spirals, width=5, depth=4, ab_range=1, epoch=820\n",
      "Done: spirals, width=5, depth=4, ab_range=1, epoch=830\n",
      "Done: spirals, width=5, depth=4, ab_range=1, epoch=840\n",
      "Done: spirals, width=5, depth=4, ab_range=1, epoch=850\n",
      "Done: spirals, width=5, depth=4, ab_range=1, epoch=860\n",
      "Done: spirals, width=5, depth=4, ab_range=1, epoch=870\n",
      "Done: spirals, width=5, depth=4, ab_range=1, epoch=880\n",
      "Done: spirals, width=5, depth=4, ab_range=1, epoch=890\n",
      "Done: spirals, width=5, depth=4, ab_range=1, epoch=900\n",
      "Done: spirals, width=5, depth=4, ab_range=1, epoch=910\n",
      "Done: spirals, width=5, depth=4, ab_range=1, epoch=920\n",
      "Done: spirals, width=5, depth=4, ab_range=1, epoch=930\n",
      "Done: spirals, width=5, depth=4, ab_range=1, epoch=940\n",
      "Done: spirals, width=5, depth=4, ab_range=1, epoch=950\n"
     ]
    },
    {
     "name": "stderr",
     "output_type": "stream",
     "text": [
      "Outer loop (a): 100%|██████████| 100/100 [00:54<00:00,  1.66it/s]"
     ]
    },
    {
     "name": "stdout",
     "output_type": "stream",
     "text": [
      "Done: spirals, width=5, depth=4, ab_range=1, epoch=960"
     ]
    },
    {
     "name": "stderr",
     "output_type": "stream",
     "text": [
      "Outer loop (a): 100%|██████████| 100/100 [00:54<00:00,  1.82it/s]"
     ]
    },
    {
     "name": "stdout",
     "output_type": "stream",
     "text": [
      "\n"
     ]
    },
    {
     "name": "stderr",
     "output_type": "stream",
     "text": [
      "\n"
     ]
    },
    {
     "name": "stdout",
     "output_type": "stream",
     "text": [
      "Done: spirals, width=5, depth=4, ab_range=1, epoch=970\n",
      "Done: spirals, width=5, depth=4, ab_range=1, epoch=980\n",
      "✅ Updated and saved new grid at ../backend/landscapes/mlp_5_5_5_5/two_blobs_overlap/train/range5/ep830\n",
      "Done: spirals, width=5, depth=4, ab_range=1, epoch=990\n",
      "Done: spirals, width=5, depth=4, ab_range=1, epoch=1000\n",
      "Done: two_blobs_overlap, width=5, depth=4, ab_range=5, epoch=830Done: spirals, width=5, depth=4, ab_range=10, epoch=0\n",
      "\n",
      "Previously saved model is of lower resolution; recomputing\n",
      "Done: spirals, width=5, depth=4, ab_range=10, epoch=10\n",
      "Done: spirals, width=5, depth=4, ab_range=10, epoch=20\n",
      "Done: spirals, width=5, depth=4, ab_range=10, epoch=30\n",
      "Done: spirals, width=5, depth=4, ab_range=10, epoch=40"
     ]
    },
    {
     "name": "stderr",
     "output_type": "stream",
     "text": [
      "Outer loop (a):   0%|          | 0/100 [00:00<?, ?it/s]"
     ]
    },
    {
     "name": "stdout",
     "output_type": "stream",
     "text": [
      "\n",
      "Done: spirals, width=5, depth=4, ab_range=10, epoch=50\n",
      "Done: spirals, width=5, depth=4, ab_range=10, epoch=60\n"
     ]
    },
    {
     "name": "stderr",
     "output_type": "stream",
     "text": [
      "Outer loop (a):   2%|▏         | 2/100 [00:01<01:02,  1.57it/s]"
     ]
    },
    {
     "name": "stdout",
     "output_type": "stream",
     "text": [
      "Done: spirals, width=5, depth=4, ab_range=10, epoch=70\n",
      "Done: spirals, width=5, depth=4, ab_range=10, epoch=80\n",
      "Done: spirals, width=5, depth=4, ab_range=10, epoch=90\n",
      "Done: spirals, width=5, depth=4, ab_range=10, epoch=100\n",
      "Done: spirals, width=5, depth=4, ab_range=10, epoch=110\n",
      "Done: spirals, width=5, depth=4, ab_range=10, epoch=120\n",
      "Done: spirals, width=5, depth=4, ab_range=10, epoch=130\n",
      "Done: spirals, width=5, depth=4, ab_range=10, epoch=140\n",
      "Done: spirals, width=5, depth=4, ab_range=10, epoch=150\n",
      "Done: spirals, width=5, depth=4, ab_range=10, epoch=160\n",
      "Done: spirals, width=5, depth=4, ab_range=10, epoch=170\n",
      "Done: spirals, width=5, depth=4, ab_range=10, epoch=180\n",
      "Done: spirals, width=5, depth=4, ab_range=10, epoch=190\n",
      "Done: spirals, width=5, depth=4, ab_range=10, epoch=200\n",
      "Done: spirals, width=5, depth=4, ab_range=10, epoch=210\n",
      "Done: spirals, width=5, depth=4, ab_range=10, epoch=220\n",
      "Done: spirals, width=5, depth=4, ab_range=10, epoch=230\n",
      "Done: spirals, width=5, depth=4, ab_range=10, epoch=240\n",
      "Done: spirals, width=5, depth=4, ab_range=10, epoch=250\n",
      "Done: spirals, width=5, depth=4, ab_range=10, epoch=260\n",
      "Done: spirals, width=5, depth=4, ab_range=10, epoch=270\n",
      "Done: spirals, width=5, depth=4, ab_range=10, epoch=280\n",
      "Done: spirals, width=5, depth=4, ab_range=10, epoch=290\n",
      "Done: spirals, width=5, depth=4, ab_range=10, epoch=300\n",
      "Done: spirals, width=5, depth=4, ab_range=10, epoch=310\n",
      "Done: spirals, width=5, depth=4, ab_range=10, epoch=320Done: spirals, width=5, depth=4, ab_range=10, epoch=330\n",
      "\n",
      "Done: spirals, width=5, depth=4, ab_range=10, epoch=340\n",
      "Done: spirals, width=5, depth=4, ab_range=10, epoch=350\n",
      "Done: spirals, width=5, depth=4, ab_range=10, epoch=360\n",
      "Done: spirals, width=5, depth=4, ab_range=10, epoch=370\n",
      "Done: spirals, width=5, depth=4, ab_range=10, epoch=380\n",
      "Done: spirals, width=5, depth=4, ab_range=10, epoch=390\n",
      "Done: spirals, width=5, depth=4, ab_range=10, epoch=400\n",
      "Done: spirals, width=5, depth=4, ab_range=10, epoch=410\n",
      "Done: spirals, width=5, depth=4, ab_range=10, epoch=420\n",
      "Done: spirals, width=5, depth=4, ab_range=10, epoch=430\n",
      "Done: spirals, width=5, depth=4, ab_range=10, epoch=440\n",
      "Done: spirals, width=5, depth=4, ab_range=10, epoch=450\n",
      "Done: spirals, width=5, depth=4, ab_range=10, epoch=460\n",
      "Done: spirals, width=5, depth=4, ab_range=10, epoch=470\n",
      "Done: spirals, width=5, depth=4, ab_range=10, epoch=480\n",
      "Done: spirals, width=5, depth=4, ab_range=10, epoch=490\n",
      "Done: spirals, width=5, depth=4, ab_range=10, epoch=500\n",
      "Done: spirals, width=5, depth=4, ab_range=10, epoch=510\n",
      "Done: spirals, width=5, depth=4, ab_range=10, epoch=520\n",
      "Done: spirals, width=5, depth=4, ab_range=10, epoch=530\n",
      "Done: spirals, width=5, depth=4, ab_range=10, epoch=540\n",
      "Done: spirals, width=5, depth=4, ab_range=10, epoch=550\n",
      "Done: spirals, width=5, depth=4, ab_range=10, epoch=560\n",
      "Done: spirals, width=5, depth=4, ab_range=10, epoch=570\n",
      "Done: spirals, width=5, depth=4, ab_range=10, epoch=580\n"
     ]
    },
    {
     "name": "stderr",
     "output_type": "stream",
     "text": [
      "Outer loop (a):  39%|███▉      | 39/100 [00:20<00:34,  1.77it/s]"
     ]
    },
    {
     "name": "stdout",
     "output_type": "stream",
     "text": [
      "Done: spirals, width=5, depth=4, ab_range=10, epoch=590\n",
      "Done: spirals, width=5, depth=4, ab_range=10, epoch=600\n",
      "Done: spirals, width=5, depth=4, ab_range=10, epoch=610\n",
      "Done: spirals, width=5, depth=4, ab_range=10, epoch=620\n",
      "Done: spirals, width=5, depth=4, ab_range=10, epoch=630\n",
      "Done: spirals, width=5, depth=4, ab_range=10, epoch=640\n",
      "Done: spirals, width=5, depth=4, ab_range=10, epoch=650\n",
      "Done: spirals, width=5, depth=4, ab_range=10, epoch=660\n",
      "Done: spirals, width=5, depth=4, ab_range=10, epoch=670\n",
      "Done: spirals, width=5, depth=4, ab_range=10, epoch=680\n",
      "Done: spirals, width=5, depth=4, ab_range=10, epoch=690\n",
      "Done: spirals, width=5, depth=4, ab_range=10, epoch=700\n",
      "Done: spirals, width=5, depth=4, ab_range=10, epoch=710\n",
      "Done: spirals, width=5, depth=4, ab_range=10, epoch=720\n",
      "Done: spirals, width=5, depth=4, ab_range=10, epoch=730\n",
      "Done: spirals, width=5, depth=4, ab_range=10, epoch=740\n",
      "Done: spirals, width=5, depth=4, ab_range=10, epoch=750\n",
      "Done: spirals, width=5, depth=4, ab_range=10, epoch=760\n"
     ]
    },
    {
     "name": "stderr",
     "output_type": "stream",
     "text": [
      "Outer loop (a):  99%|█████████▉| 99/100 [00:53<00:00,  1.82it/s]"
     ]
    },
    {
     "name": "stdout",
     "output_type": "stream",
     "text": [
      "Done: spirals, width=5, depth=4, ab_range=10, epoch=770\n",
      "Done: spirals, width=5, depth=4, ab_range=10, epoch=780\n",
      "Done: spirals, width=5, depth=4, ab_range=10, epoch=790\n",
      "Done: spirals, width=5, depth=4, ab_range=10, epoch=800\n",
      "Done: spirals, width=5, depth=4, ab_range=10, epoch=810\n",
      "Done: spirals, width=5, depth=4, ab_range=10, epoch=820\n",
      "Done: spirals, width=5, depth=4, ab_range=10, epoch=830\n",
      "Done: spirals, width=5, depth=4, ab_range=10, epoch=840\n",
      "Done: spirals, width=5, depth=4, ab_range=10, epoch=850\n",
      "Done: spirals, width=5, depth=4, ab_range=10, epoch=860\n",
      "Done: spirals, width=5, depth=4, ab_range=10, epoch=870\n",
      "Done: spirals, width=5, depth=4, ab_range=10, epoch=880\n",
      "Done: spirals, width=5, depth=4, ab_range=10, epoch=890\n",
      "Done: spirals, width=5, depth=4, ab_range=10, epoch=900\n",
      "Done: spirals, width=5, depth=4, ab_range=10, epoch=910\n",
      "Done: spirals, width=5, depth=4, ab_range=10, epoch=920\n",
      "Done: spirals, width=5, depth=4, ab_range=10, epoch=930\n",
      "Done: spirals, width=5, depth=4, ab_range=10, epoch=940\n",
      "Done: spirals, width=5, depth=4, ab_range=10, epoch=950\n",
      "Done: spirals, width=5, depth=4, ab_range=10, epoch=960\n",
      "Done: spirals, width=5, depth=4, ab_range=10, epoch=970\n",
      "Done: spirals, width=5, depth=4, ab_range=10, epoch=980\n",
      "Done: spirals, width=5, depth=4, ab_range=10, epoch=990\n",
      "Done: spirals, width=5, depth=4, ab_range=10, epoch=1000\n",
      "Done: spirals, width=5, depth=4, ab_range=2, epoch=0\n",
      "Done: spirals, width=5, depth=4, ab_range=2, epoch=10\n",
      "Done: spirals, width=5, depth=4, ab_range=2, epoch=20\n",
      "Done: spirals, width=5, depth=4, ab_range=2, epoch=30\n",
      "Done: spirals, width=5, depth=4, ab_range=2, epoch=40\n",
      "Done: spirals, width=5, depth=4, ab_range=2, epoch=50\n",
      "Done: spirals, width=5, depth=4, ab_range=2, epoch=60\n",
      "Done: spirals, width=5, depth=4, ab_range=2, epoch=70\n",
      "Done: spirals, width=5, depth=4, ab_range=2, epoch=80\n",
      "Done: spirals, width=5, depth=4, ab_range=2, epoch=90\n",
      "Done: spirals, width=5, depth=4, ab_range=2, epoch=100\n",
      "Done: spirals, width=5, depth=4, ab_range=2, epoch=110\n",
      "Done: spirals, width=5, depth=4, ab_range=2, epoch=120\n",
      "Done: spirals, width=5, depth=4, ab_range=2, epoch=130\n",
      "Done: spirals, width=5, depth=4, ab_range=2, epoch=140\n",
      "Done: spirals, width=5, depth=4, ab_range=2, epoch=150\n",
      "Done: spirals, width=5, depth=4, ab_range=2, epoch=160\n",
      "Done: spirals, width=5, depth=4, ab_range=2, epoch=170\n",
      "Done: spirals, width=5, depth=4, ab_range=2, epoch=180\n",
      "Done: spirals, width=5, depth=4, ab_range=2, epoch=190\n",
      "Done: spirals, width=5, depth=4, ab_range=2, epoch=200\n",
      "Done: spirals, width=5, depth=4, ab_range=2, epoch=210"
     ]
    },
    {
     "name": "stderr",
     "output_type": "stream",
     "text": [
      "Outer loop (a):  22%|██▏       | 22/100 [00:10<00:38,  2.05it/s]"
     ]
    },
    {
     "name": "stdout",
     "output_type": "stream",
     "text": [
      "\n",
      "Done: spirals, width=5, depth=4, ab_range=2, epoch=220\n",
      "Done: spirals, width=5, depth=4, ab_range=2, epoch=230\n",
      "Done: spirals, width=5, depth=4, ab_range=2, epoch=240\n",
      "Done: spirals, width=5, depth=4, ab_range=2, epoch=250\n",
      "Done: spirals, width=5, depth=4, ab_range=2, epoch=260\n",
      "Done: spirals, width=5, depth=4, ab_range=2, epoch=270\n",
      "Done: spirals, width=5, depth=4, ab_range=2, epoch=280\n",
      "Done: spirals, width=5, depth=4, ab_range=2, epoch=290\n",
      "Done: spirals, width=5, depth=4, ab_range=2, epoch=300\n",
      "Done: spirals, width=5, depth=4, ab_range=2, epoch=310\n",
      "Done: spirals, width=5, depth=4, ab_range=2, epoch=320\n",
      "Done: spirals, width=5, depth=4, ab_range=2, epoch=330\n",
      "Done: spirals, width=5, depth=4, ab_range=2, epoch=340\n",
      "Done: spirals, width=5, depth=4, ab_range=2, epoch=350\n",
      "Done: spirals, width=5, depth=4, ab_range=2, epoch=360\n",
      "Done: spirals, width=5, depth=4, ab_range=2, epoch=370\n",
      "Done: spirals, width=5, depth=4, ab_range=2, epoch=380\n",
      "Done: spirals, width=5, depth=4, ab_range=2, epoch=390\n",
      "Done: spirals, width=5, depth=4, ab_range=2, epoch=400\n",
      "Done: spirals, width=5, depth=4, ab_range=2, epoch=410\n",
      "Done: spirals, width=5, depth=4, ab_range=2, epoch=420\n",
      "Done: spirals, width=5, depth=4, ab_range=2, epoch=430\n",
      "Done: spirals, width=5, depth=4, ab_range=2, epoch=440\n",
      "Done: spirals, width=5, depth=4, ab_range=2, epoch=450\n",
      "Done: spirals, width=5, depth=4, ab_range=2, epoch=460\n",
      "Done: spirals, width=5, depth=4, ab_range=2, epoch=470\n",
      "Done: spirals, width=5, depth=4, ab_range=2, epoch=480\n",
      "Done: spirals, width=5, depth=4, ab_range=2, epoch=490\n",
      "Done: spirals, width=5, depth=4, ab_range=2, epoch=500\n",
      "Done: spirals, width=5, depth=4, ab_range=2, epoch=510\n",
      "Done: spirals, width=5, depth=4, ab_range=2, epoch=520\n",
      "Done: spirals, width=5, depth=4, ab_range=2, epoch=530\n",
      "Done: spirals, width=5, depth=4, ab_range=2, epoch=540\n",
      "Done: spirals, width=5, depth=4, ab_range=2, epoch=550\n",
      "Done: spirals, width=5, depth=4, ab_range=2, epoch=560\n",
      "Done: spirals, width=5, depth=4, ab_range=2, epoch=570\n",
      "Done: spirals, width=5, depth=4, ab_range=2, epoch=580\n",
      "Done: spirals, width=5, depth=4, ab_range=2, epoch=590\n",
      "Done: spirals, width=5, depth=4, ab_range=2, epoch=600\n",
      "Done: spirals, width=5, depth=4, ab_range=2, epoch=610\n",
      "Done: spirals, width=5, depth=4, ab_range=2, epoch=620\n",
      "Done: spirals, width=5, depth=4, ab_range=2, epoch=630\n",
      "Done: spirals, width=5, depth=4, ab_range=2, epoch=640\n",
      "Done: spirals, width=5, depth=4, ab_range=2, epoch=650\n",
      "Done: spirals, width=5, depth=4, ab_range=2, epoch=660\n",
      "Done: spirals, width=5, depth=4, ab_range=2, epoch=670\n",
      "Done: spirals, width=5, depth=4, ab_range=2, epoch=680\n",
      "Done: spirals, width=5, depth=4, ab_range=2, epoch=690\n",
      "Done: spirals, width=5, depth=4, ab_range=2, epoch=700\n",
      "Done: spirals, width=5, depth=4, ab_range=2, epoch=710\n",
      "Done: spirals, width=5, depth=4, ab_range=2, epoch=720\n",
      "Done: spirals, width=5, depth=4, ab_range=2, epoch=730\n",
      "Done: spirals, width=5, depth=4, ab_range=2, epoch=740\n",
      "Done: spirals, width=5, depth=4, ab_range=2, epoch=750\n",
      "Done: spirals, width=5, depth=4, ab_range=2, epoch=760\n",
      "Done: spirals, width=5, depth=4, ab_range=2, epoch=770\n",
      "Done: spirals, width=5, depth=4, ab_range=2, epoch=780\n",
      "Done: spirals, width=5, depth=4, ab_range=2, epoch=790\n",
      "Done: spirals, width=5, depth=4, ab_range=2, epoch=800\n",
      "Done: spirals, width=5, depth=4, ab_range=2, epoch=810\n",
      "Done: spirals, width=5, depth=4, ab_range=2, epoch=820\n",
      "Done: spirals, width=5, depth=4, ab_range=2, epoch=830\n",
      "Done: spirals, width=5, depth=4, ab_range=2, epoch=840\n",
      "Done: spirals, width=5, depth=4, ab_range=2, epoch=850\n",
      "Done: spirals, width=5, depth=4, ab_range=2, epoch=860\n"
     ]
    },
    {
     "name": "stderr",
     "output_type": "stream",
     "text": [
      "Outer loop (a):   5%|▌         | 5/100 [00:02<00:43,  2.20it/s]"
     ]
    },
    {
     "name": "stdout",
     "output_type": "stream",
     "text": [
      "Done: spirals, width=5, depth=4, ab_range=2, epoch=870\n",
      "Done: spirals, width=5, depth=4, ab_range=2, epoch=880\n",
      "Done: spirals, width=5, depth=4, ab_range=2, epoch=890\n",
      "Done: spirals, width=5, depth=4, ab_range=2, epoch=900\n",
      "Done: spirals, width=5, depth=4, ab_range=2, epoch=910\n",
      "Done: spirals, width=5, depth=4, ab_range=2, epoch=920\n",
      "Done: spirals, width=5, depth=4, ab_range=2, epoch=930\n",
      "Done: spirals, width=5, depth=4, ab_range=2, epoch=940\n",
      "Done: spirals, width=5, depth=4, ab_range=2, epoch=950\n",
      "Done: spirals, width=5, depth=4, ab_range=2, epoch=960\n",
      "Done: spirals, width=5, depth=4, ab_range=2, epoch=970\n",
      "Done: spirals, width=5, depth=4, ab_range=2, epoch=980\n",
      "Done: spirals, width=5, depth=4, ab_range=2, epoch=990\n",
      "Done: spirals, width=5, depth=4, ab_range=2, epoch=1000\n",
      "Done: spirals, width=5, depth=4, ab_range=5, epoch=0\n",
      "Done: spirals, width=5, depth=4, ab_range=5, epoch=10\n",
      "Done: spirals, width=5, depth=4, ab_range=5, epoch=20\n",
      "Done: spirals, width=5, depth=4, ab_range=5, epoch=30\n",
      "Done: spirals, width=5, depth=4, ab_range=5, epoch=40\n",
      "Done: spirals, width=5, depth=4, ab_range=5, epoch=50\n",
      "Done: spirals, width=5, depth=4, ab_range=5, epoch=60\n",
      "Done: spirals, width=5, depth=4, ab_range=5, epoch=70\n",
      "Done: spirals, width=5, depth=4, ab_range=5, epoch=80\n",
      "Done: spirals, width=5, depth=4, ab_range=5, epoch=90\n",
      "Done: spirals, width=5, depth=4, ab_range=5, epoch=100\n",
      "Done: spirals, width=5, depth=4, ab_range=5, epoch=110\n",
      "Done: spirals, width=5, depth=4, ab_range=5, epoch=120\n",
      "Done: spirals, width=5, depth=4, ab_range=5, epoch=130\n",
      "Done: spirals, width=5, depth=4, ab_range=5, epoch=140\n",
      "Done: spirals, width=5, depth=4, ab_range=5, epoch=150\n",
      "Done: spirals, width=5, depth=4, ab_range=5, epoch=160\n",
      "Done: spirals, width=5, depth=4, ab_range=5, epoch=170\n",
      "Done: spirals, width=5, depth=4, ab_range=5, epoch=180\n",
      "Done: spirals, width=5, depth=4, ab_range=5, epoch=190\n",
      "Done: spirals, width=5, depth=4, ab_range=5, epoch=200\n",
      "Done: spirals, width=5, depth=4, ab_range=5, epoch=210\n",
      "Done: spirals, width=5, depth=4, ab_range=5, epoch=220\n",
      "Done: spirals, width=5, depth=4, ab_range=5, epoch=230\n",
      "Done: spirals, width=5, depth=4, ab_range=5, epoch=240\n",
      "Done: spirals, width=5, depth=4, ab_range=5, epoch=250\n",
      "Done: spirals, width=5, depth=4, ab_range=5, epoch=260\n",
      "Done: spirals, width=5, depth=4, ab_range=5, epoch=270\n",
      "Done: spirals, width=5, depth=4, ab_range=5, epoch=280\n",
      "Done: spirals, width=5, depth=4, ab_range=5, epoch=290\n",
      "Done: spirals, width=5, depth=4, ab_range=5, epoch=300\n",
      "Done: spirals, width=5, depth=4, ab_range=5, epoch=310\n",
      "Done: spirals, width=5, depth=4, ab_range=5, epoch=320\n",
      "Done: spirals, width=5, depth=4, ab_range=5, epoch=330\n",
      "Done: spirals, width=5, depth=4, ab_range=5, epoch=340\n",
      "Done: spirals, width=5, depth=4, ab_range=5, epoch=350\n",
      "Done: spirals, width=5, depth=4, ab_range=5, epoch=360\n",
      "Done: spirals, width=5, depth=4, ab_range=5, epoch=370\n",
      "Done: spirals, width=5, depth=4, ab_range=5, epoch=380\n",
      "Done: spirals, width=5, depth=4, ab_range=5, epoch=390\n",
      "Done: spirals, width=5, depth=4, ab_range=5, epoch=400\n",
      "Done: spirals, width=5, depth=4, ab_range=5, epoch=410\n",
      "Done: spirals, width=5, depth=4, ab_range=5, epoch=420\n",
      "Done: spirals, width=5, depth=4, ab_range=5, epoch=430\n",
      "Done: spirals, width=5, depth=4, ab_range=5, epoch=440\n",
      "Done: spirals, width=5, depth=4, ab_range=5, epoch=450\n",
      "Done: spirals, width=5, depth=4, ab_range=5, epoch=460\n",
      "Done: spirals, width=5, depth=4, ab_range=5, epoch=470\n",
      "Previously saved model is of lower resolution; recomputing\n"
     ]
    },
    {
     "name": "stderr",
     "output_type": "stream",
     "text": [
      "Outer loop (a): 100%|██████████| 100/100 [00:54<00:00,  1.85it/s]\n"
     ]
    },
    {
     "name": "stdout",
     "output_type": "stream",
     "text": [
      "✅ Updated and saved new grid at ../backend/landscapes/mlp_5_5_5_5/two_blobs_overlap/train/range0.2/ep470\n",
      "Done: two_blobs_overlap, width=5, depth=4, ab_range=0.2, epoch=470\n",
      "Previously saved model is of lower resolution; recomputing\n"
     ]
    },
    {
     "name": "stderr",
     "output_type": "stream",
     "text": [
      "Outer loop (a): 100%|██████████| 100/100 [00:47<00:00,  2.12it/s]\n"
     ]
    },
    {
     "name": "stdout",
     "output_type": "stream",
     "text": [
      "✅ Updated and saved new grid at ../backend/landscapes/mlp_5/spirals/train/range0.5/ep80\n",
      "Done: spirals, width=5, depth=1, ab_range=0.5, epoch=80\n",
      "Previously saved model is of lower resolution; recomputing\n"
     ]
    },
    {
     "name": "stderr",
     "output_type": "stream",
     "text": [
      "Outer loop (a): 100%|██████████| 100/100 [00:52<00:00,  1.89it/s]\n"
     ]
    },
    {
     "name": "stdout",
     "output_type": "stream",
     "text": [
      "✅ Updated and saved new grid at ../backend/landscapes/mlp_5_5/four_corners/train/range0.2/ep720\n",
      "Done: four_corners, width=5, depth=2, ab_range=0.2, epoch=720\n",
      "Previously saved model is of lower resolution; recomputing\n"
     ]
    },
    {
     "name": "stderr",
     "output_type": "stream",
     "text": [
      "Outer loop (a): 100%|██████████| 100/100 [00:49<00:00,  2.00it/s]\n"
     ]
    },
    {
     "name": "stdout",
     "output_type": "stream",
     "text": [
      "✅ Updated and saved new grid at ../backend/landscapes/mlp_5/two_blobs_overlap/train/range0.5/ep440\n",
      "Done: two_blobs_overlap, width=5, depth=1, ab_range=0.5, epoch=440\n",
      "Previously saved model is of lower resolution; recomputing\n"
     ]
    },
    {
     "name": "stderr",
     "output_type": "stream",
     "text": [
      "Outer loop (a): 100%|██████████| 100/100 [00:51<00:00,  1.94it/s]\n"
     ]
    },
    {
     "name": "stdout",
     "output_type": "stream",
     "text": [
      "✅ Updated and saved new grid at ../backend/landscapes/mlp_5_5/two_blobs_separate/train/range0.2/ep480\n",
      "Done: two_blobs_separate, width=5, depth=2, ab_range=0.2, epoch=480\n",
      "Previously saved model is of lower resolution; recomputing\n"
     ]
    },
    {
     "name": "stderr",
     "output_type": "stream",
     "text": [
      "Outer loop (a): 100%|██████████| 100/100 [00:51<00:00,  1.93it/s]\n"
     ]
    },
    {
     "name": "stdout",
     "output_type": "stream",
     "text": [
      "✅ Updated and saved new grid at ../backend/landscapes/mlp_5_5/half_moons/train/range0.5/ep350\n",
      "Done: half_moons, width=5, depth=2, ab_range=0.5, epoch=350\n",
      "Previously saved model is of lower resolution; recomputing\n"
     ]
    },
    {
     "name": "stderr",
     "output_type": "stream",
     "text": [
      "Outer loop (a): 100%|██████████| 100/100 [00:54<00:00,  1.84it/s]\n"
     ]
    },
    {
     "name": "stdout",
     "output_type": "stream",
     "text": [
      "✅ Updated and saved new grid at ../backend/landscapes/mlp_5_5_5_5/two_blobs_overlap/train/range5/ep840\n",
      "Done: two_blobs_overlap, width=5, depth=4, ab_range=5, epoch=840\n",
      "Previously saved model is of lower resolution; recomputing\n"
     ]
    },
    {
     "name": "stderr",
     "output_type": "stream",
     "text": [
      "Outer loop (a): 100%|██████████| 100/100 [00:55<00:00,  1.81it/s]\n"
     ]
    },
    {
     "name": "stdout",
     "output_type": "stream",
     "text": [
      "✅ Updated and saved new grid at ../backend/landscapes/mlp_5_5_5_5/two_blobs_overlap/train/range0.2/ep480\n",
      "Done: two_blobs_overlap, width=5, depth=4, ab_range=0.2, epoch=480\n",
      "Previously saved model is of lower resolution; recomputing\n"
     ]
    },
    {
     "name": "stderr",
     "output_type": "stream",
     "text": [
      "Outer loop (a): 100%|██████████| 100/100 [00:57<00:00,  1.75it/s]\n"
     ]
    },
    {
     "name": "stdout",
     "output_type": "stream",
     "text": [
      "✅ Updated and saved new grid at ../backend/landscapes/mlp_5_5_5_5/spirals/train/range5/ep480\n",
      "Done: spirals, width=5, depth=4, ab_range=5, epoch=480\n",
      "Previously saved model is of lower resolution; recomputing\n"
     ]
    },
    {
     "name": "stderr",
     "output_type": "stream",
     "text": [
      "Outer loop (a): 100%|██████████| 100/100 [00:47<00:00,  2.09it/s]\n"
     ]
    },
    {
     "name": "stdout",
     "output_type": "stream",
     "text": [
      "✅ Updated and saved new grid at ../backend/landscapes/mlp_5/spirals/train/range0.5/ep90\n",
      "Done: spirals, width=5, depth=1, ab_range=0.5, epoch=90\n",
      "Previously saved model is of lower resolution; recomputing\n"
     ]
    },
    {
     "name": "stderr",
     "output_type": "stream",
     "text": [
      "Outer loop (a): 100%|██████████| 100/100 [00:49<00:00,  2.00it/s]\n"
     ]
    },
    {
     "name": "stdout",
     "output_type": "stream",
     "text": [
      "✅ Updated and saved new grid at ../backend/landscapes/mlp_5_5/four_corners/train/range0.2/ep730\n",
      "Done: four_corners, width=5, depth=2, ab_range=0.2, epoch=730\n",
      "Previously saved model is of lower resolution; recomputing\n"
     ]
    },
    {
     "name": "stderr",
     "output_type": "stream",
     "text": [
      "Outer loop (a): 100%|██████████| 100/100 [00:48<00:00,  2.06it/s]\n"
     ]
    },
    {
     "name": "stdout",
     "output_type": "stream",
     "text": [
      "✅ Updated and saved new grid at ../backend/landscapes/mlp_5/two_blobs_overlap/train/range0.5/ep450\n",
      "Done: two_blobs_overlap, width=5, depth=1, ab_range=0.5, epoch=450\n",
      "Previously saved model is of lower resolution; recomputing\n"
     ]
    },
    {
     "name": "stderr",
     "output_type": "stream",
     "text": [
      "Outer loop (a): 100%|██████████| 100/100 [00:50<00:00,  1.97it/s]\n"
     ]
    },
    {
     "name": "stdout",
     "output_type": "stream",
     "text": [
      "✅ Updated and saved new grid at ../backend/landscapes/mlp_5_5/two_blobs_separate/train/range0.2/ep490\n",
      "Done: two_blobs_separate, width=5, depth=2, ab_range=0.2, epoch=490\n",
      "Previously saved model is of lower resolution; recomputing\n"
     ]
    },
    {
     "name": "stderr",
     "output_type": "stream",
     "text": [
      "Outer loop (a): 100%|██████████| 100/100 [00:49<00:00,  2.01it/s]\n"
     ]
    },
    {
     "name": "stdout",
     "output_type": "stream",
     "text": [
      "✅ Updated and saved new grid at ../backend/landscapes/mlp_5_5/half_moons/train/range0.5/ep360\n",
      "Done: half_moons, width=5, depth=2, ab_range=0.5, epoch=360\n",
      "Previously saved model is of lower resolution; recomputing"
     ]
    },
    {
     "name": "stderr",
     "output_type": "stream",
     "text": [
      "Outer loop (a):   1%|          | 1/100 [00:00<00:38,  2.55it/s]"
     ]
    },
    {
     "name": "stdout",
     "output_type": "stream",
     "text": [
      "\n"
     ]
    },
    {
     "name": "stderr",
     "output_type": "stream",
     "text": [
      "Outer loop (a): 100%|██████████| 100/100 [00:54<00:00,  1.85it/s]\n"
     ]
    },
    {
     "name": "stdout",
     "output_type": "stream",
     "text": [
      "✅ Updated and saved new grid at ../backend/landscapes/mlp_5_5_5_5/two_blobs_overlap/train/range5/ep850\n",
      "Done: two_blobs_overlap, width=5, depth=4, ab_range=5, epoch=850\n",
      "Previously saved model is of lower resolution; recomputing\n"
     ]
    },
    {
     "name": "stderr",
     "output_type": "stream",
     "text": [
      "Outer loop (a): 100%|██████████| 100/100 [00:55<00:00,  1.81it/s]\n"
     ]
    },
    {
     "name": "stdout",
     "output_type": "stream",
     "text": [
      "✅ Updated and saved new grid at ../backend/landscapes/mlp_5_5_5_5/two_blobs_overlap/train/range0.2/ep490\n",
      "Done: two_blobs_overlap, width=5, depth=4, ab_range=0.2, epoch=490\n",
      "Previously saved model is of lower resolution; recomputing\n"
     ]
    },
    {
     "name": "stderr",
     "output_type": "stream",
     "text": [
      "Outer loop (a): 100%|██████████| 100/100 [00:53<00:00,  1.86it/s]\n"
     ]
    },
    {
     "name": "stdout",
     "output_type": "stream",
     "text": [
      "✅ Updated and saved new grid at ../backend/landscapes/mlp_5_5_5_5/spirals/train/range5/ep490\n",
      "Done: spirals, width=5, depth=4, ab_range=5, epoch=490\n",
      "Previously saved model is of lower resolution; recomputing\n"
     ]
    },
    {
     "name": "stderr",
     "output_type": "stream",
     "text": [
      "Outer loop (a): 100%|██████████| 100/100 [00:47<00:00,  2.10it/s]\n"
     ]
    },
    {
     "name": "stdout",
     "output_type": "stream",
     "text": [
      "✅ Updated and saved new grid at ../backend/landscapes/mlp_5/spirals/train/range0.5/ep100\n",
      "Done: spirals, width=5, depth=1, ab_range=0.5, epoch=100\n",
      "Previously saved model is of lower resolution; recomputing\n"
     ]
    },
    {
     "name": "stderr",
     "output_type": "stream",
     "text": [
      "Outer loop (a): 100%|██████████| 100/100 [00:50<00:00,  1.96it/s]\n"
     ]
    },
    {
     "name": "stdout",
     "output_type": "stream",
     "text": [
      "✅ Updated and saved new grid at ../backend/landscapes/mlp_5_5/four_corners/train/range0.2/ep740\n",
      "Done: four_corners, width=5, depth=2, ab_range=0.2, epoch=740\n",
      "Previously saved model is of lower resolution; recomputing\n"
     ]
    },
    {
     "name": "stderr",
     "output_type": "stream",
     "text": [
      "Outer loop (a): 100%|██████████| 100/100 [00:46<00:00,  2.14it/s]\n"
     ]
    },
    {
     "name": "stdout",
     "output_type": "stream",
     "text": [
      "✅ Updated and saved new grid at ../backend/landscapes/mlp_5/two_blobs_overlap/train/range0.5/ep460\n",
      "Done: two_blobs_overlap, width=5, depth=1, ab_range=0.5, epoch=460\n"
     ]
    },
    {
     "name": "stderr",
     "output_type": "stream",
     "text": [
      "Outer loop (a):  71%|███████   | 71/100 [00:35<00:14,  2.04it/s]"
     ]
    },
    {
     "name": "stdout",
     "output_type": "stream",
     "text": [
      "Previously saved model is of lower resolution; recomputing\n"
     ]
    },
    {
     "name": "stderr",
     "output_type": "stream",
     "text": [
      "Outer loop (a): 100%|██████████| 100/100 [00:49<00:00,  2.02it/s]\n"
     ]
    },
    {
     "name": "stdout",
     "output_type": "stream",
     "text": [
      "✅ Updated and saved new grid at ../backend/landscapes/mlp_5_5/two_blobs_separate/train/range0.2/ep500\n",
      "Done: two_blobs_separate, width=5, depth=2, ab_range=0.2, epoch=500\n",
      "Previously saved model is of lower resolution; recomputing\n"
     ]
    },
    {
     "name": "stderr",
     "output_type": "stream",
     "text": [
      "Outer loop (a): 100%|██████████| 100/100 [00:50<00:00,  1.99it/s]\n"
     ]
    },
    {
     "name": "stdout",
     "output_type": "stream",
     "text": [
      "✅ Updated and saved new grid at ../backend/landscapes/mlp_5_5/half_moons/train/range0.5/ep370\n",
      "Done: half_moons, width=5, depth=2, ab_range=0.5, epoch=370\n",
      "Previously saved model is of lower resolution; recomputing\n"
     ]
    },
    {
     "name": "stderr",
     "output_type": "stream",
     "text": [
      "Outer loop (a): 100%|██████████| 100/100 [00:53<00:00,  1.88it/s]\n"
     ]
    },
    {
     "name": "stdout",
     "output_type": "stream",
     "text": [
      "✅ Updated and saved new grid at ../backend/landscapes/mlp_5_5_5_5/two_blobs_overlap/train/range5/ep860\n",
      "Done: two_blobs_overlap, width=5, depth=4, ab_range=5, epoch=860\n",
      "Previously saved model is of lower resolution; recomputing\n"
     ]
    },
    {
     "name": "stderr",
     "output_type": "stream",
     "text": [
      "Outer loop (a): 100%|██████████| 100/100 [00:54<00:00,  1.83it/s]\n"
     ]
    },
    {
     "name": "stdout",
     "output_type": "stream",
     "text": [
      "✅ Updated and saved new grid at ../backend/landscapes/mlp_5_5_5_5/spirals/train/range5/ep500\n",
      "Done: spirals, width=5, depth=4, ab_range=5, epoch=500\n",
      "Previously saved model is of lower resolution; recomputing\n"
     ]
    },
    {
     "name": "stderr",
     "output_type": "stream",
     "text": [
      "Outer loop (a): 100%|██████████| 100/100 [00:55<00:00,  1.82it/s]\n"
     ]
    },
    {
     "name": "stdout",
     "output_type": "stream",
     "text": [
      "✅ Updated and saved new grid at ../backend/landscapes/mlp_5_5_5_5/two_blobs_overlap/train/range0.2/ep500\n",
      "Done: two_blobs_overlap, width=5, depth=4, ab_range=0.2, epoch=500\n",
      "Previously saved model is of lower resolution; recomputing\n"
     ]
    },
    {
     "name": "stderr",
     "output_type": "stream",
     "text": [
      "Outer loop (a): 100%|██████████| 100/100 [00:47<00:00,  2.11it/s]\n"
     ]
    },
    {
     "name": "stdout",
     "output_type": "stream",
     "text": [
      "✅ Updated and saved new grid at ../backend/landscapes/mlp_5/spirals/train/range0.5/ep110\n",
      "Done: spirals, width=5, depth=1, ab_range=0.5, epoch=110\n",
      "Previously saved model is of lower resolution; recomputing\n"
     ]
    },
    {
     "name": "stderr",
     "output_type": "stream",
     "text": [
      "Outer loop (a): 100%|██████████| 100/100 [00:49<00:00,  2.02it/s]\n"
     ]
    },
    {
     "name": "stdout",
     "output_type": "stream",
     "text": [
      "✅ Updated and saved new grid at ../backend/landscapes/mlp_5_5/four_corners/train/range0.2/ep750\n",
      "Done: four_corners, width=5, depth=2, ab_range=0.2, epoch=750\n",
      "Previously saved model is of lower resolution; recomputing\n"
     ]
    },
    {
     "name": "stderr",
     "output_type": "stream",
     "text": [
      "Outer loop (a): 100%|██████████| 100/100 [00:48<00:00,  2.07it/s]\n"
     ]
    },
    {
     "name": "stdout",
     "output_type": "stream",
     "text": [
      "✅ Updated and saved new grid at ../backend/landscapes/mlp_5/two_blobs_overlap/train/range0.5/ep470\n",
      "Done: two_blobs_overlap, width=5, depth=1, ab_range=0.5, epoch=470\n",
      "Previously saved model is of lower resolution; recomputing\n"
     ]
    },
    {
     "name": "stderr",
     "output_type": "stream",
     "text": [
      "Outer loop (a): 100%|██████████| 100/100 [00:50<00:00,  1.99it/s]\n",
      "Outer loop (a):  33%|███▎      | 33/100 [00:16<00:33,  2.00it/s]"
     ]
    },
    {
     "name": "stdout",
     "output_type": "stream",
     "text": [
      "✅ Updated and saved new grid at ../backend/landscapes/mlp_5_5/two_blobs_separate/train/range0.2/ep510\n",
      "Done: two_blobs_separate, width=5, depth=2, ab_range=0.2, epoch=510\n",
      "Previously saved model is of lower resolution; recomputing\n"
     ]
    },
    {
     "name": "stderr",
     "output_type": "stream",
     "text": [
      "Outer loop (a): 100%|██████████| 100/100 [00:49<00:00,  2.01it/s]\n"
     ]
    },
    {
     "name": "stdout",
     "output_type": "stream",
     "text": [
      "✅ Updated and saved new grid at ../backend/landscapes/mlp_5_5/half_moons/train/range0.5/ep380\n",
      "Done: half_moons, width=5, depth=2, ab_range=0.5, epoch=380\n",
      "Previously saved model is of lower resolution; recomputing\n"
     ]
    },
    {
     "name": "stderr",
     "output_type": "stream",
     "text": [
      "Outer loop (a): 100%|██████████| 100/100 [00:56<00:00,  1.77it/s]\n"
     ]
    },
    {
     "name": "stdout",
     "output_type": "stream",
     "text": [
      "✅ Updated and saved new grid at ../backend/landscapes/mlp_5_5_5_5/two_blobs_overlap/train/range5/ep870\n",
      "Done: two_blobs_overlap, width=5, depth=4, ab_range=5, epoch=870\n",
      "Previously saved model is of lower resolution; recomputing\n"
     ]
    },
    {
     "name": "stderr",
     "output_type": "stream",
     "text": [
      "Outer loop (a): 100%|██████████| 100/100 [00:53<00:00,  1.88it/s]\n"
     ]
    },
    {
     "name": "stdout",
     "output_type": "stream",
     "text": [
      "✅ Updated and saved new grid at ../backend/landscapes/mlp_5_5_5_5/two_blobs_overlap/train/range0.2/ep510\n",
      "Done: two_blobs_overlap, width=5, depth=4, ab_range=0.2, epoch=510\n",
      "Previously saved model is of lower resolution; recomputing\n"
     ]
    },
    {
     "name": "stderr",
     "output_type": "stream",
     "text": [
      "Outer loop (a): 100%|██████████| 100/100 [00:55<00:00,  1.80it/s]\n"
     ]
    },
    {
     "name": "stdout",
     "output_type": "stream",
     "text": [
      "✅ Updated and saved new grid at ../backend/landscapes/mlp_5_5_5_5/spirals/train/range5/ep510\n",
      "Done: spirals, width=5, depth=4, ab_range=5, epoch=510\n",
      "Previously saved model is of lower resolution; recomputing\n"
     ]
    },
    {
     "name": "stderr",
     "output_type": "stream",
     "text": [
      "Outer loop (a): 100%|██████████| 100/100 [00:46<00:00,  2.13it/s]\n"
     ]
    },
    {
     "name": "stdout",
     "output_type": "stream",
     "text": [
      "✅ Updated and saved new grid at ../backend/landscapes/mlp_5/spirals/train/range0.5/ep120\n",
      "Done: spirals, width=5, depth=1, ab_range=0.5, epoch=120\n",
      "Previously saved model is of lower resolution; recomputing\n"
     ]
    },
    {
     "name": "stderr",
     "output_type": "stream",
     "text": [
      "Outer loop (a): 100%|██████████| 100/100 [00:48<00:00,  2.08it/s]\n"
     ]
    },
    {
     "name": "stdout",
     "output_type": "stream",
     "text": [
      "✅ Updated and saved new grid at ../backend/landscapes/mlp_5/two_blobs_overlap/train/range0.5/ep480\n",
      "Done: two_blobs_overlap, width=5, depth=1, ab_range=0.5, epoch=480\n",
      "Previously saved model is of lower resolution; recomputing\n"
     ]
    },
    {
     "name": "stderr",
     "output_type": "stream",
     "text": [
      "Outer loop (a): 100%|██████████| 100/100 [00:48<00:00,  2.05it/s]\n"
     ]
    },
    {
     "name": "stdout",
     "output_type": "stream",
     "text": [
      "✅ Updated and saved new grid at ../backend/landscapes/mlp_5_5/four_corners/train/range0.2/ep760\n",
      "Done: four_corners, width=5, depth=2, ab_range=0.2, epoch=760\n",
      "Previously saved model is of lower resolution; recomputing"
     ]
    },
    {
     "name": "stderr",
     "output_type": "stream",
     "text": [
      "Outer loop (a):   1%|          | 1/100 [00:00<00:51,  1.93it/s]"
     ]
    },
    {
     "name": "stdout",
     "output_type": "stream",
     "text": [
      "\n"
     ]
    },
    {
     "name": "stderr",
     "output_type": "stream",
     "text": [
      "Outer loop (a): 100%|██████████| 100/100 [00:50<00:00,  1.99it/s]\n"
     ]
    },
    {
     "name": "stdout",
     "output_type": "stream",
     "text": [
      "✅ Updated and saved new grid at ../backend/landscapes/mlp_5_5/two_blobs_separate/train/range0.2/ep520\n",
      "Done: two_blobs_separate, width=5, depth=2, ab_range=0.2, epoch=520\n",
      "Previously saved model is of lower resolution; recomputing\n"
     ]
    },
    {
     "name": "stderr",
     "output_type": "stream",
     "text": [
      "Outer loop (a): 100%|██████████| 100/100 [00:51<00:00,  1.96it/s]\n"
     ]
    },
    {
     "name": "stdout",
     "output_type": "stream",
     "text": [
      "✅ Updated and saved new grid at ../backend/landscapes/mlp_5_5/half_moons/train/range0.5/ep390\n",
      "Done: half_moons, width=5, depth=2, ab_range=0.5, epoch=390\n",
      "Previously saved model is of lower resolution; recomputing\n"
     ]
    },
    {
     "name": "stderr",
     "output_type": "stream",
     "text": [
      "Outer loop (a): 100%|██████████| 100/100 [00:48<00:00,  2.06it/s]\n"
     ]
    },
    {
     "name": "stdout",
     "output_type": "stream",
     "text": [
      "✅ Updated and saved new grid at ../backend/landscapes/mlp_5/spirals/train/range0.5/ep130\n",
      "Done: spirals, width=5, depth=1, ab_range=0.5, epoch=130\n",
      "Previously saved model is of lower resolution; recomputing\n"
     ]
    },
    {
     "name": "stderr",
     "output_type": "stream",
     "text": [
      "Outer loop (a): 100%|██████████| 100/100 [00:54<00:00,  1.84it/s]\n"
     ]
    },
    {
     "name": "stdout",
     "output_type": "stream",
     "text": [
      "✅ Updated and saved new grid at ../backend/landscapes/mlp_5_5_5_5/two_blobs_overlap/train/range5/ep880\n",
      "Done: two_blobs_overlap, width=5, depth=4, ab_range=5, epoch=880\n",
      "Previously saved model is of lower resolution; recomputing\n"
     ]
    },
    {
     "name": "stderr",
     "output_type": "stream",
     "text": [
      "Outer loop (a): 100%|██████████| 100/100 [00:54<00:00,  1.83it/s]\n"
     ]
    },
    {
     "name": "stdout",
     "output_type": "stream",
     "text": [
      "✅ Updated and saved new grid at ../backend/landscapes/mlp_5_5_5_5/two_blobs_overlap/train/range0.2/ep520\n",
      "Done: two_blobs_overlap, width=5, depth=4, ab_range=0.2, epoch=520\n",
      "Previously saved model is of lower resolution; recomputing\n"
     ]
    },
    {
     "name": "stderr",
     "output_type": "stream",
     "text": [
      "Outer loop (a): 100%|██████████| 100/100 [00:55<00:00,  1.81it/s]\n"
     ]
    },
    {
     "name": "stdout",
     "output_type": "stream",
     "text": [
      "✅ Updated and saved new grid at ../backend/landscapes/mlp_5_5_5_5/spirals/train/range5/ep520\n",
      "Done: spirals, width=5, depth=4, ab_range=5, epoch=520\n",
      "Previously saved model is of lower resolution; recomputing\n"
     ]
    },
    {
     "name": "stderr",
     "output_type": "stream",
     "text": [
      "Outer loop (a): 100%|██████████| 100/100 [00:47<00:00,  2.08it/s]\n"
     ]
    },
    {
     "name": "stdout",
     "output_type": "stream",
     "text": [
      "✅ Updated and saved new grid at ../backend/landscapes/mlp_5/two_blobs_overlap/train/range0.5/ep490\n",
      "Done: two_blobs_overlap, width=5, depth=1, ab_range=0.5, epoch=490\n",
      "Previously saved model is of lower resolution; recomputing\n"
     ]
    },
    {
     "name": "stderr",
     "output_type": "stream",
     "text": [
      "Outer loop (a): 100%|██████████| 100/100 [00:48<00:00,  2.05it/s]\n"
     ]
    },
    {
     "name": "stdout",
     "output_type": "stream",
     "text": [
      "✅ Updated and saved new grid at ../backend/landscapes/mlp_5_5/four_corners/train/range0.2/ep770\n",
      "Done: four_corners, width=5, depth=2, ab_range=0.2, epoch=770\n",
      "Previously saved model is of lower resolution; recomputing\n"
     ]
    },
    {
     "name": "stderr",
     "output_type": "stream",
     "text": [
      "Outer loop (a): 100%|██████████| 100/100 [00:48<00:00,  2.05it/s]\n"
     ]
    },
    {
     "name": "stdout",
     "output_type": "stream",
     "text": [
      "✅ Updated and saved new grid at ../backend/landscapes/mlp_5_5/two_blobs_separate/train/range0.2/ep530\n",
      "Done: two_blobs_separate, width=5, depth=2, ab_range=0.2, epoch=530\n",
      "Previously saved model is of lower resolution; recomputing\n"
     ]
    },
    {
     "name": "stderr",
     "output_type": "stream",
     "text": [
      "Outer loop (a): 100%|██████████| 100/100 [00:50<00:00,  1.98it/s]\n"
     ]
    },
    {
     "name": "stdout",
     "output_type": "stream",
     "text": [
      "✅ Updated and saved new grid at ../backend/landscapes/mlp_5_5/half_moons/train/range0.5/ep400\n",
      "Done: half_moons, width=5, depth=2, ab_range=0.5, epoch=400\n",
      "Previously saved model is of lower resolution; recomputing\n"
     ]
    },
    {
     "name": "stderr",
     "output_type": "stream",
     "text": [
      "Outer loop (a): 100%|██████████| 100/100 [00:47<00:00,  2.11it/s]\n"
     ]
    },
    {
     "name": "stdout",
     "output_type": "stream",
     "text": [
      "✅ Updated and saved new grid at ../backend/landscapes/mlp_5/spirals/train/range0.5/ep140\n",
      "Done: spirals, width=5, depth=1, ab_range=0.5, epoch=140\n",
      "Previously saved model is of lower resolution; recomputing\n"
     ]
    },
    {
     "name": "stderr",
     "output_type": "stream",
     "text": [
      "Outer loop (a): 100%|██████████| 100/100 [00:47<00:00,  2.12it/s]\n"
     ]
    },
    {
     "name": "stdout",
     "output_type": "stream",
     "text": [
      "✅ Updated and saved new grid at ../backend/landscapes/mlp_5/two_blobs_overlap/train/range0.5/ep500\n",
      "Done: two_blobs_overlap, width=5, depth=1, ab_range=0.5, epoch=500\n",
      "Previously saved model is of lower resolution; recomputing\n"
     ]
    },
    {
     "name": "stderr",
     "output_type": "stream",
     "text": [
      "Outer loop (a): 100%|██████████| 100/100 [00:56<00:00,  1.77it/s]\n"
     ]
    },
    {
     "name": "stdout",
     "output_type": "stream",
     "text": [
      "✅ Updated and saved new grid at ../backend/landscapes/mlp_5_5_5_5/two_blobs_overlap/train/range5/ep890\n",
      "Done: two_blobs_overlap, width=5, depth=4, ab_range=5, epoch=890\n",
      "Previously saved model is of lower resolution; recomputing\n"
     ]
    },
    {
     "name": "stderr",
     "output_type": "stream",
     "text": [
      "Outer loop (a): 100%|██████████| 100/100 [00:53<00:00,  1.87it/s]\n"
     ]
    },
    {
     "name": "stdout",
     "output_type": "stream",
     "text": [
      "✅ Updated and saved new grid at ../backend/landscapes/mlp_5_5_5_5/spirals/train/range5/ep530\n",
      "Done: spirals, width=5, depth=4, ab_range=5, epoch=530\n",
      "Previously saved model is of lower resolution; recomputing\n"
     ]
    },
    {
     "name": "stderr",
     "output_type": "stream",
     "text": [
      "Outer loop (a): 100%|██████████| 100/100 [00:55<00:00,  1.79it/s]\n"
     ]
    },
    {
     "name": "stdout",
     "output_type": "stream",
     "text": [
      "✅ Updated and saved new grid at ../backend/landscapes/mlp_5_5_5_5/two_blobs_overlap/train/range0.2/ep530\n",
      "Done: two_blobs_overlap, width=5, depth=4, ab_range=0.2, epoch=530\n",
      "Previously saved model is of lower resolution; recomputing\n"
     ]
    },
    {
     "name": "stderr",
     "output_type": "stream",
     "text": [
      "Outer loop (a): 100%|██████████| 100/100 [00:50<00:00,  1.97it/s]\n"
     ]
    },
    {
     "name": "stdout",
     "output_type": "stream",
     "text": [
      "✅ Updated and saved new grid at ../backend/landscapes/mlp_5_5/four_corners/train/range0.2/ep780\n",
      "Done: four_corners, width=5, depth=2, ab_range=0.2, epoch=780\n",
      "Previously saved model is of lower resolution; recomputing\n"
     ]
    },
    {
     "name": "stderr",
     "output_type": "stream",
     "text": [
      "Outer loop (a): 100%|██████████| 100/100 [00:50<00:00,  1.99it/s]\n"
     ]
    },
    {
     "name": "stdout",
     "output_type": "stream",
     "text": [
      "✅ Updated and saved new grid at ../backend/landscapes/mlp_5_5/two_blobs_separate/train/range0.2/ep540\n",
      "Done: two_blobs_separate, width=5, depth=2, ab_range=0.2, epoch=540\n",
      "Previously saved model is of lower resolution; recomputing\n"
     ]
    },
    {
     "name": "stderr",
     "output_type": "stream",
     "text": [
      "Outer loop (a): 100%|██████████| 100/100 [00:51<00:00,  1.95it/s]\n"
     ]
    },
    {
     "name": "stdout",
     "output_type": "stream",
     "text": [
      "✅ Updated and saved new grid at ../backend/landscapes/mlp_5_5/half_moons/train/range0.5/ep410\n",
      "Done: half_moons, width=5, depth=2, ab_range=0.5, epoch=410\n",
      "Previously saved model is of lower resolution; recomputing\n"
     ]
    },
    {
     "name": "stderr",
     "output_type": "stream",
     "text": [
      "Outer loop (a): 100%|██████████| 100/100 [00:46<00:00,  2.15it/s]\n"
     ]
    },
    {
     "name": "stdout",
     "output_type": "stream",
     "text": [
      "✅ Updated and saved new grid at ../backend/landscapes/mlp_5/spirals/train/range0.5/ep150\n",
      "Done: spirals, width=5, depth=1, ab_range=0.5, epoch=150\n",
      "Previously saved model is of lower resolution; recomputing\n"
     ]
    },
    {
     "name": "stderr",
     "output_type": "stream",
     "text": [
      "Outer loop (a): 100%|██████████| 100/100 [00:46<00:00,  2.16it/s]\n"
     ]
    },
    {
     "name": "stdout",
     "output_type": "stream",
     "text": [
      "✅ Updated and saved new grid at ../backend/landscapes/mlp_5/two_blobs_overlap/train/range0.5/ep510\n",
      "Done: two_blobs_overlap, width=5, depth=1, ab_range=0.5, epoch=510\n",
      "Previously saved model is of lower resolution; recomputing\n"
     ]
    },
    {
     "name": "stderr",
     "output_type": "stream",
     "text": [
      "Outer loop (a): 100%|██████████| 100/100 [00:49<00:00,  2.01it/s]\n"
     ]
    },
    {
     "name": "stdout",
     "output_type": "stream",
     "text": [
      "✅ Updated and saved new grid at ../backend/landscapes/mlp_5_5/four_corners/train/range0.2/ep790\n",
      "Done: four_corners, width=5, depth=2, ab_range=0.2, epoch=790\n",
      "Previously saved model is of lower resolution; recomputing"
     ]
    },
    {
     "name": "stderr",
     "output_type": "stream",
     "text": [
      "Outer loop (a):  35%|███▌      | 35/100 [00:16<00:34,  1.87it/s]"
     ]
    },
    {
     "name": "stdout",
     "output_type": "stream",
     "text": [
      "\n"
     ]
    },
    {
     "name": "stderr",
     "output_type": "stream",
     "text": [
      "Outer loop (a): 100%|██████████| 100/100 [00:54<00:00,  1.83it/s]\n"
     ]
    },
    {
     "name": "stdout",
     "output_type": "stream",
     "text": [
      "✅ Updated and saved new grid at ../backend/landscapes/mlp_5_5_5_5/two_blobs_overlap/train/range5/ep900\n",
      "Done: two_blobs_overlap, width=5, depth=4, ab_range=5, epoch=900\n",
      "Previously saved model is of lower resolution; recomputing\n"
     ]
    },
    {
     "name": "stderr",
     "output_type": "stream",
     "text": [
      "Outer loop (a): 100%|██████████| 100/100 [00:54<00:00,  1.83it/s]\n"
     ]
    },
    {
     "name": "stdout",
     "output_type": "stream",
     "text": [
      "✅ Updated and saved new grid at ../backend/landscapes/mlp_5_5_5_5/spirals/train/range5/ep540\n",
      "Done: spirals, width=5, depth=4, ab_range=5, epoch=540\n",
      "Previously saved model is of lower resolution; recomputing\n"
     ]
    },
    {
     "name": "stderr",
     "output_type": "stream",
     "text": [
      "Outer loop (a): 100%|██████████| 100/100 [00:55<00:00,  1.81it/s]\n"
     ]
    },
    {
     "name": "stdout",
     "output_type": "stream",
     "text": [
      "✅ Updated and saved new grid at ../backend/landscapes/mlp_5_5_5_5/two_blobs_overlap/train/range0.2/ep540\n",
      "Done: two_blobs_overlap, width=5, depth=4, ab_range=0.2, epoch=540\n",
      "Previously saved model is of lower resolution; recomputing\n"
     ]
    },
    {
     "name": "stderr",
     "output_type": "stream",
     "text": [
      "Outer loop (a): 100%|██████████| 100/100 [00:49<00:00,  2.02it/s]\n"
     ]
    },
    {
     "name": "stdout",
     "output_type": "stream",
     "text": [
      "✅ Updated and saved new grid at ../backend/landscapes/mlp_5_5/two_blobs_separate/train/range0.2/ep550\n",
      "Done: two_blobs_separate, width=5, depth=2, ab_range=0.2, epoch=550\n",
      "Previously saved model is of lower resolution; recomputing\n"
     ]
    },
    {
     "name": "stderr",
     "output_type": "stream",
     "text": [
      "Outer loop (a): 100%|██████████| 100/100 [00:51<00:00,  1.94it/s]\n"
     ]
    },
    {
     "name": "stdout",
     "output_type": "stream",
     "text": [
      "✅ Updated and saved new grid at ../backend/landscapes/mlp_5_5/half_moons/train/range0.5/ep420\n",
      "Done: half_moons, width=5, depth=2, ab_range=0.5, epoch=420\n",
      "Previously saved model is of lower resolution; recomputing\n"
     ]
    },
    {
     "name": "stderr",
     "output_type": "stream",
     "text": [
      "Outer loop (a): 100%|██████████| 100/100 [00:48<00:00,  2.05it/s]\n"
     ]
    },
    {
     "name": "stdout",
     "output_type": "stream",
     "text": [
      "✅ Updated and saved new grid at ../backend/landscapes/mlp_5/spirals/train/range0.5/ep160\n",
      "Done: spirals, width=5, depth=1, ab_range=0.5, epoch=160\n",
      "Previously saved model is of lower resolution; recomputing\n"
     ]
    },
    {
     "name": "stderr",
     "output_type": "stream",
     "text": [
      "Outer loop (a): 100%|██████████| 100/100 [00:48<00:00,  2.06it/s]\n"
     ]
    },
    {
     "name": "stdout",
     "output_type": "stream",
     "text": [
      "✅ Updated and saved new grid at ../backend/landscapes/mlp_5/two_blobs_overlap/train/range0.5/ep520\n",
      "Done: two_blobs_overlap, width=5, depth=1, ab_range=0.5, epoch=520\n",
      "Previously saved model is of lower resolution; recomputing\n"
     ]
    },
    {
     "name": "stderr",
     "output_type": "stream",
     "text": [
      "Outer loop (a): 100%|██████████| 100/100 [00:50<00:00,  2.00it/s]\n"
     ]
    },
    {
     "name": "stdout",
     "output_type": "stream",
     "text": [
      "✅ Updated and saved new grid at ../backend/landscapes/mlp_5_5/four_corners/train/range0.2/ep800\n",
      "Done: four_corners, width=5, depth=2, ab_range=0.2, epoch=800\n",
      "Previously saved model is of lower resolution; recomputing\n"
     ]
    },
    {
     "name": "stderr",
     "output_type": "stream",
     "text": [
      "Outer loop (a): 100%|██████████| 100/100 [00:54<00:00,  1.82it/s]\n"
     ]
    },
    {
     "name": "stdout",
     "output_type": "stream",
     "text": [
      "✅ Updated and saved new grid at ../backend/landscapes/mlp_5_5_5_5/two_blobs_overlap/train/range5/ep910\n",
      "Done: two_blobs_overlap, width=5, depth=4, ab_range=5, epoch=910\n",
      "Previously saved model is of lower resolution; recomputing\n"
     ]
    },
    {
     "name": "stderr",
     "output_type": "stream",
     "text": [
      "Outer loop (a): 100%|██████████| 100/100 [00:54<00:00,  1.85it/s]\n"
     ]
    },
    {
     "name": "stdout",
     "output_type": "stream",
     "text": [
      "✅ Updated and saved new grid at ../backend/landscapes/mlp_5_5_5_5/spirals/train/range5/ep550\n",
      "Done: spirals, width=5, depth=4, ab_range=5, epoch=550\n",
      "Previously saved model is of lower resolution; recomputing\n"
     ]
    },
    {
     "name": "stderr",
     "output_type": "stream",
     "text": [
      "Outer loop (a): 100%|██████████| 100/100 [00:54<00:00,  1.82it/s]\n"
     ]
    },
    {
     "name": "stdout",
     "output_type": "stream",
     "text": [
      "✅ Updated and saved new grid at ../backend/landscapes/mlp_5_5_5_5/two_blobs_overlap/train/range0.2/ep550\n",
      "Done: two_blobs_overlap, width=5, depth=4, ab_range=0.2, epoch=550\n",
      "Previously saved model is of lower resolution; recomputing\n"
     ]
    },
    {
     "name": "stderr",
     "output_type": "stream",
     "text": [
      "Outer loop (a): 100%|██████████| 100/100 [00:49<00:00,  2.02it/s]\n"
     ]
    },
    {
     "name": "stdout",
     "output_type": "stream",
     "text": [
      "✅ Updated and saved new grid at ../backend/landscapes/mlp_5_5/two_blobs_separate/train/range0.2/ep560\n",
      "Done: two_blobs_separate, width=5, depth=2, ab_range=0.2, epoch=560\n",
      "Previously saved model is of lower resolution; recomputing\n"
     ]
    },
    {
     "name": "stderr",
     "output_type": "stream",
     "text": [
      "Outer loop (a): 100%|██████████| 100/100 [00:50<00:00,  1.98it/s]\n"
     ]
    },
    {
     "name": "stdout",
     "output_type": "stream",
     "text": [
      "✅ Updated and saved new grid at ../backend/landscapes/mlp_5_5/half_moons/train/range0.5/ep430\n",
      "Done: half_moons, width=5, depth=2, ab_range=0.5, epoch=430\n",
      "Previously saved model is of lower resolution; recomputing\n"
     ]
    },
    {
     "name": "stderr",
     "output_type": "stream",
     "text": [
      "Outer loop (a): 100%|██████████| 100/100 [00:47<00:00,  2.12it/s]\n"
     ]
    },
    {
     "name": "stdout",
     "output_type": "stream",
     "text": [
      "✅ Updated and saved new grid at ../backend/landscapes/mlp_5/spirals/train/range0.5/ep170\n",
      "Done: spirals, width=5, depth=1, ab_range=0.5, epoch=170\n",
      "Previously saved model is of lower resolution; recomputing\n"
     ]
    },
    {
     "name": "stderr",
     "output_type": "stream",
     "text": [
      "Outer loop (a): 100%|██████████| 100/100 [00:47<00:00,  2.09it/s]\n"
     ]
    },
    {
     "name": "stdout",
     "output_type": "stream",
     "text": [
      "✅ Updated and saved new grid at ../backend/landscapes/mlp_5/two_blobs_overlap/train/range0.5/ep530\n",
      "Done: two_blobs_overlap, width=5, depth=1, ab_range=0.5, epoch=530\n",
      "Previously saved model is of lower resolution; recomputing\n"
     ]
    },
    {
     "name": "stderr",
     "output_type": "stream",
     "text": [
      "Outer loop (a): 100%|██████████| 100/100 [00:50<00:00,  1.98it/s]\n"
     ]
    },
    {
     "name": "stdout",
     "output_type": "stream",
     "text": [
      "✅ Updated and saved new grid at ../backend/landscapes/mlp_5_5/four_corners/train/range0.2/ep810\n",
      "Done: four_corners, width=5, depth=2, ab_range=0.2, epoch=810\n",
      "Previously saved model is of lower resolution; recomputing\n"
     ]
    },
    {
     "name": "stderr",
     "output_type": "stream",
     "text": [
      "Outer loop (a): 100%|██████████| 100/100 [00:54<00:00,  1.85it/s]\n"
     ]
    },
    {
     "name": "stdout",
     "output_type": "stream",
     "text": [
      "✅ Updated and saved new grid at ../backend/landscapes/mlp_5_5_5_5/two_blobs_overlap/train/range5/ep920\n",
      "Done: two_blobs_overlap, width=5, depth=4, ab_range=5, epoch=920\n",
      "Previously saved model is of lower resolution; recomputing\n"
     ]
    },
    {
     "name": "stderr",
     "output_type": "stream",
     "text": [
      "Outer loop (a): 100%|██████████| 100/100 [00:55<00:00,  1.82it/s]\n"
     ]
    },
    {
     "name": "stdout",
     "output_type": "stream",
     "text": [
      "✅ Updated and saved new grid at ../backend/landscapes/mlp_5_5_5_5/spirals/train/range5/ep560\n",
      "Done: spirals, width=5, depth=4, ab_range=5, epoch=560\n",
      "Previously saved model is of lower resolution; recomputing\n"
     ]
    },
    {
     "name": "stderr",
     "output_type": "stream",
     "text": [
      "Outer loop (a): 100%|██████████| 100/100 [00:55<00:00,  1.81it/s]\n"
     ]
    },
    {
     "name": "stdout",
     "output_type": "stream",
     "text": [
      "✅ Updated and saved new grid at ../backend/landscapes/mlp_5_5_5_5/two_blobs_overlap/train/range0.2/ep560\n",
      "Done: two_blobs_overlap, width=5, depth=4, ab_range=0.2, epoch=560\n",
      "Previously saved model is of lower resolution; recomputing\n"
     ]
    },
    {
     "name": "stderr",
     "output_type": "stream",
     "text": [
      "Outer loop (a): 100%|██████████| 100/100 [00:51<00:00,  1.93it/s]\n"
     ]
    },
    {
     "name": "stdout",
     "output_type": "stream",
     "text": [
      "✅ Updated and saved new grid at ../backend/landscapes/mlp_5_5/two_blobs_separate/train/range0.2/ep570\n",
      "Done: two_blobs_separate, width=5, depth=2, ab_range=0.2, epoch=570\n",
      "Previously saved model is of lower resolution; recomputing\n"
     ]
    },
    {
     "name": "stderr",
     "output_type": "stream",
     "text": [
      "Outer loop (a):  93%|█████████▎| 93/100 [00:44<00:02,  2.36it/s]]\n"
     ]
    },
    {
     "name": "stdout",
     "output_type": "stream",
     "text": [
      "✅ Updated and saved new grid at ../backend/landscapes/mlp_5_5/half_moons/train/range0.5/ep440\n",
      "Done: half_moons, width=5, depth=2, ab_range=0.5, epoch=440\n",
      "Previously saved model is of lower resolution; recomputing\n"
     ]
    },
    {
     "name": "stderr",
     "output_type": "stream",
     "text": [
      "Outer loop (a): 100%|██████████| 100/100 [00:47<00:00,  2.11it/s]\n"
     ]
    },
    {
     "name": "stdout",
     "output_type": "stream",
     "text": [
      "✅ Updated and saved new grid at ../backend/landscapes/mlp_5/spirals/train/range0.5/ep180\n",
      "Done: spirals, width=5, depth=1, ab_range=0.5, epoch=180\n",
      "Previously saved model is of lower resolution; recomputing\n"
     ]
    },
    {
     "name": "stderr",
     "output_type": "stream",
     "text": [
      "Outer loop (a): 100%|██████████| 100/100 [00:47<00:00,  2.10it/s]\n"
     ]
    },
    {
     "name": "stdout",
     "output_type": "stream",
     "text": [
      "✅ Updated and saved new grid at ../backend/landscapes/mlp_5/two_blobs_overlap/train/range0.5/ep540\n",
      "Done: two_blobs_overlap, width=5, depth=1, ab_range=0.5, epoch=540\n",
      "Previously saved model is of lower resolution; recomputing\n"
     ]
    },
    {
     "name": "stderr",
     "output_type": "stream",
     "text": [
      "Outer loop (a): 100%|██████████| 100/100 [00:49<00:00,  2.02it/s]\n"
     ]
    },
    {
     "name": "stdout",
     "output_type": "stream",
     "text": [
      "✅ Updated and saved new grid at ../backend/landscapes/mlp_5_5/four_corners/train/range0.2/ep820\n",
      "Done: four_corners, width=5, depth=2, ab_range=0.2, epoch=820\n",
      "Previously saved model is of lower resolution; recomputing\n"
     ]
    },
    {
     "name": "stderr",
     "output_type": "stream",
     "text": [
      "Outer loop (a): 100%|██████████| 100/100 [00:54<00:00,  1.83it/s]\n"
     ]
    },
    {
     "name": "stdout",
     "output_type": "stream",
     "text": [
      "✅ Updated and saved new grid at ../backend/landscapes/mlp_5_5_5_5/two_blobs_overlap/train/range5/ep930\n",
      "Done: two_blobs_overlap, width=5, depth=4, ab_range=5, epoch=930\n",
      "Previously saved model is of lower resolution; recomputing\n"
     ]
    },
    {
     "name": "stderr",
     "output_type": "stream",
     "text": [
      "Outer loop (a):  85%|████████▌ | 85/100 [00:41<00:08,  1.78it/s]]\n"
     ]
    },
    {
     "name": "stdout",
     "output_type": "stream",
     "text": [
      "✅ Updated and saved new grid at ../backend/landscapes/mlp_5_5_5_5/two_blobs_overlap/train/range0.2/ep570\n",
      "Done: two_blobs_overlap, width=5, depth=4, ab_range=0.2, epoch=570\n",
      "Previously saved model is of lower resolution; recomputing\n"
     ]
    },
    {
     "name": "stderr",
     "output_type": "stream",
     "text": [
      "Outer loop (a): 100%|██████████| 100/100 [00:49<00:00,  2.00it/s]\n"
     ]
    },
    {
     "name": "stdout",
     "output_type": "stream",
     "text": [
      "✅ Updated and saved new grid at ../backend/landscapes/mlp_5_5/two_blobs_separate/train/range0.2/ep580\n",
      "Done: two_blobs_separate, width=5, depth=2, ab_range=0.2, epoch=580\n",
      "Previously saved model is of lower resolution; recomputing\n"
     ]
    },
    {
     "name": "stderr",
     "output_type": "stream",
     "text": [
      "Outer loop (a): 100%|██████████| 100/100 [00:56<00:00,  1.78it/s]\n"
     ]
    },
    {
     "name": "stdout",
     "output_type": "stream",
     "text": [
      "✅ Updated and saved new grid at ../backend/landscapes/mlp_5_5_5_5/spirals/train/range5/ep570\n",
      "Done: spirals, width=5, depth=4, ab_range=5, epoch=570\n",
      "Previously saved model is of lower resolution; recomputing\n"
     ]
    },
    {
     "name": "stderr",
     "output_type": "stream",
     "text": [
      "Outer loop (a): 100%|██████████| 100/100 [00:50<00:00,  1.96it/s]\n"
     ]
    },
    {
     "name": "stdout",
     "output_type": "stream",
     "text": [
      "✅ Updated and saved new grid at ../backend/landscapes/mlp_5_5/half_moons/train/range0.5/ep450\n",
      "Done: half_moons, width=5, depth=2, ab_range=0.5, epoch=450\n",
      "Previously saved model is of lower resolution; recomputing\n"
     ]
    },
    {
     "name": "stderr",
     "output_type": "stream",
     "text": [
      "Outer loop (a): 100%|██████████| 100/100 [00:48<00:00,  2.04it/s]\n"
     ]
    },
    {
     "name": "stdout",
     "output_type": "stream",
     "text": [
      "✅ Updated and saved new grid at ../backend/landscapes/mlp_5/spirals/train/range0.5/ep190\n",
      "Done: spirals, width=5, depth=1, ab_range=0.5, epoch=190\n",
      "Previously saved model is of lower resolution; recomputing\n"
     ]
    },
    {
     "name": "stderr",
     "output_type": "stream",
     "text": [
      "Outer loop (a): 100%|██████████| 100/100 [00:47<00:00,  2.10it/s]\n",
      "Outer loop (a):  66%|██████▌   | 66/100 [00:33<00:17,  1.98it/s]"
     ]
    },
    {
     "name": "stdout",
     "output_type": "stream",
     "text": [
      "✅ Updated and saved new grid at ../backend/landscapes/mlp_5/two_blobs_overlap/train/range0.5/ep550\n",
      "Done: two_blobs_overlap, width=5, depth=1, ab_range=0.5, epoch=550\n",
      "Previously saved model is of lower resolution; recomputing\n"
     ]
    },
    {
     "name": "stderr",
     "output_type": "stream",
     "text": [
      "Outer loop (a): 100%|██████████| 100/100 [00:49<00:00,  2.00it/s]\n"
     ]
    },
    {
     "name": "stdout",
     "output_type": "stream",
     "text": [
      "✅ Updated and saved new grid at ../backend/landscapes/mlp_5_5/four_corners/train/range0.2/ep830\n",
      "Done: four_corners, width=5, depth=2, ab_range=0.2, epoch=830\n",
      "Previously saved model is of lower resolution; recomputing\n"
     ]
    },
    {
     "name": "stderr",
     "output_type": "stream",
     "text": [
      "Outer loop (a): 100%|██████████| 100/100 [00:50<00:00,  1.97it/s]\n"
     ]
    },
    {
     "name": "stdout",
     "output_type": "stream",
     "text": [
      "✅ Updated and saved new grid at ../backend/landscapes/mlp_5_5/two_blobs_separate/train/range0.2/ep590\n",
      "Done: two_blobs_separate, width=5, depth=2, ab_range=0.2, epoch=590\n",
      "Previously saved model is of lower resolution; recomputing"
     ]
    },
    {
     "name": "stderr",
     "output_type": "stream",
     "text": [
      "Outer loop (a):  77%|███████▋  | 77/100 [00:35<00:11,  2.04it/s]"
     ]
    },
    {
     "name": "stdout",
     "output_type": "stream",
     "text": [
      "\n"
     ]
    },
    {
     "name": "stderr",
     "output_type": "stream",
     "text": [
      "Outer loop (a): 100%|██████████| 100/100 [00:46<00:00,  2.16it/s]\n"
     ]
    },
    {
     "name": "stdout",
     "output_type": "stream",
     "text": [
      "✅ Updated and saved new grid at ../backend/landscapes/mlp_5/spirals/train/range0.5/ep200\n",
      "Done: spirals, width=5, depth=1, ab_range=0.5, epoch=200\n",
      "Previously saved model is of lower resolution; recomputing\n"
     ]
    },
    {
     "name": "stderr",
     "output_type": "stream",
     "text": [
      "Outer loop (a): 100%|██████████| 100/100 [00:54<00:00,  1.85it/s]\n"
     ]
    },
    {
     "name": "stdout",
     "output_type": "stream",
     "text": [
      "✅ Updated and saved new grid at ../backend/landscapes/mlp_5_5_5_5/two_blobs_overlap/train/range0.2/ep580\n",
      "Done: two_blobs_overlap, width=5, depth=4, ab_range=0.2, epoch=580\n",
      "Previously saved model is of lower resolution; recomputing\n"
     ]
    },
    {
     "name": "stderr",
     "output_type": "stream",
     "text": [
      "Outer loop (a): 100%|██████████| 100/100 [00:55<00:00,  1.79it/s]\n"
     ]
    },
    {
     "name": "stdout",
     "output_type": "stream",
     "text": [
      "✅ Updated and saved new grid at ../backend/landscapes/mlp_5_5_5_5/two_blobs_overlap/train/range5/ep940\n",
      "Done: two_blobs_overlap, width=5, depth=4, ab_range=5, epoch=940\n",
      "Previously saved model is of lower resolution; recomputing\n"
     ]
    },
    {
     "name": "stderr",
     "output_type": "stream",
     "text": [
      "Outer loop (a): 100%|██████████| 100/100 [00:50<00:00,  1.97it/s]\n"
     ]
    },
    {
     "name": "stdout",
     "output_type": "stream",
     "text": [
      "✅ Updated and saved new grid at ../backend/landscapes/mlp_5_5/half_moons/train/range0.5/ep460\n",
      "Done: half_moons, width=5, depth=2, ab_range=0.5, epoch=460\n",
      "Previously saved model is of lower resolution; recomputing\n"
     ]
    },
    {
     "name": "stderr",
     "output_type": "stream",
     "text": [
      "Outer loop (a): 100%|██████████| 100/100 [00:56<00:00,  1.76it/s]\n"
     ]
    },
    {
     "name": "stdout",
     "output_type": "stream",
     "text": [
      "✅ Updated and saved new grid at ../backend/landscapes/mlp_5_5_5_5/spirals/train/range5/ep580\n",
      "Done: spirals, width=5, depth=4, ab_range=5, epoch=580\n",
      "Previously saved model is of lower resolution; recomputing\n"
     ]
    },
    {
     "name": "stderr",
     "output_type": "stream",
     "text": [
      "Outer loop (a): 100%|██████████| 100/100 [00:46<00:00,  2.13it/s]\n"
     ]
    },
    {
     "name": "stdout",
     "output_type": "stream",
     "text": [
      "✅ Updated and saved new grid at ../backend/landscapes/mlp_5/two_blobs_overlap/train/range0.5/ep560\n",
      "Done: two_blobs_overlap, width=5, depth=1, ab_range=0.5, epoch=560\n",
      "Previously saved model is of lower resolution; recomputing\n"
     ]
    },
    {
     "name": "stderr",
     "output_type": "stream",
     "text": [
      "Outer loop (a): 100%|██████████| 100/100 [00:51<00:00,  1.96it/s]\n"
     ]
    },
    {
     "name": "stdout",
     "output_type": "stream",
     "text": [
      "✅ Updated and saved new grid at ../backend/landscapes/mlp_5_5/four_corners/train/range0.2/ep840\n",
      "Done: four_corners, width=5, depth=2, ab_range=0.2, epoch=840\n",
      "Previously saved model is of lower resolution; recomputing\n"
     ]
    },
    {
     "name": "stderr",
     "output_type": "stream",
     "text": [
      "Outer loop (a): 100%|██████████| 100/100 [00:47<00:00,  2.11it/s]\n"
     ]
    },
    {
     "name": "stdout",
     "output_type": "stream",
     "text": [
      "✅ Updated and saved new grid at ../backend/landscapes/mlp_5/spirals/train/range0.5/ep210\n",
      "Done: spirals, width=5, depth=1, ab_range=0.5, epoch=210\n",
      "Previously saved model is of lower resolution; recomputing\n"
     ]
    },
    {
     "name": "stderr",
     "output_type": "stream",
     "text": [
      "Outer loop (a): 100%|██████████| 100/100 [00:51<00:00,  1.94it/s]\n"
     ]
    },
    {
     "name": "stdout",
     "output_type": "stream",
     "text": [
      "✅ Updated and saved new grid at ../backend/landscapes/mlp_5_5/two_blobs_separate/train/range0.2/ep600\n",
      "Done: two_blobs_separate, width=5, depth=2, ab_range=0.2, epoch=600\n",
      "Previously saved model is of lower resolution; recomputing\n"
     ]
    },
    {
     "name": "stderr",
     "output_type": "stream",
     "text": [
      "Outer loop (a): 100%|██████████| 100/100 [00:49<00:00,  2.02it/s]\n"
     ]
    },
    {
     "name": "stdout",
     "output_type": "stream",
     "text": [
      "✅ Updated and saved new grid at ../backend/landscapes/mlp_5_5/half_moons/train/range0.5/ep470\n",
      "Done: half_moons, width=5, depth=2, ab_range=0.5, epoch=470\n",
      "Previously saved model is of lower resolution; recomputing\n"
     ]
    },
    {
     "name": "stderr",
     "output_type": "stream",
     "text": [
      "Outer loop (a): 100%|██████████| 100/100 [00:53<00:00,  1.86it/s]\n"
     ]
    },
    {
     "name": "stdout",
     "output_type": "stream",
     "text": [
      "✅ Updated and saved new grid at ../backend/landscapes/mlp_5_5_5_5/two_blobs_overlap/train/range0.2/ep590\n",
      "Done: two_blobs_overlap, width=5, depth=4, ab_range=0.2, epoch=590\n",
      "Previously saved model is of lower resolution; recomputing\n"
     ]
    },
    {
     "name": "stderr",
     "output_type": "stream",
     "text": [
      "Outer loop (a): 100%|██████████| 100/100 [00:47<00:00,  2.09it/s]\n"
     ]
    },
    {
     "name": "stdout",
     "output_type": "stream",
     "text": [
      "✅ Updated and saved new grid at ../backend/landscapes/mlp_5/two_blobs_overlap/train/range0.5/ep570\n",
      "Done: two_blobs_overlap, width=5, depth=1, ab_range=0.5, epoch=570\n",
      "Previously saved model is of lower resolution; recomputing\n"
     ]
    },
    {
     "name": "stderr",
     "output_type": "stream",
     "text": [
      "Outer loop (a): 100%|██████████| 100/100 [00:56<00:00,  1.77it/s]\n"
     ]
    },
    {
     "name": "stdout",
     "output_type": "stream",
     "text": [
      "✅ Updated and saved new grid at ../backend/landscapes/mlp_5_5_5_5/two_blobs_overlap/train/range5/ep950\n",
      "Done: two_blobs_overlap, width=5, depth=4, ab_range=5, epoch=950\n",
      "Previously saved model is of lower resolution; recomputing\n"
     ]
    },
    {
     "name": "stderr",
     "output_type": "stream",
     "text": [
      "Outer loop (a): 100%|██████████| 100/100 [00:54<00:00,  1.82it/s]\n"
     ]
    },
    {
     "name": "stdout",
     "output_type": "stream",
     "text": [
      "✅ Updated and saved new grid at ../backend/landscapes/mlp_5_5_5_5/spirals/train/range5/ep590\n",
      "Done: spirals, width=5, depth=4, ab_range=5, epoch=590\n",
      "Previously saved model is of lower resolution; recomputing\n"
     ]
    },
    {
     "name": "stderr",
     "output_type": "stream",
     "text": [
      "Outer loop (a): 100%|██████████| 100/100 [00:49<00:00,  2.04it/s]\n"
     ]
    },
    {
     "name": "stdout",
     "output_type": "stream",
     "text": [
      "✅ Updated and saved new grid at ../backend/landscapes/mlp_5_5/four_corners/train/range0.2/ep850\n",
      "Done: four_corners, width=5, depth=2, ab_range=0.2, epoch=850\n",
      "Previously saved model is of lower resolution; recomputing\n"
     ]
    },
    {
     "name": "stderr",
     "output_type": "stream",
     "text": [
      "Outer loop (a): 100%|██████████| 100/100 [00:48<00:00,  2.06it/s]\n"
     ]
    },
    {
     "name": "stdout",
     "output_type": "stream",
     "text": [
      "✅ Updated and saved new grid at ../backend/landscapes/mlp_5/spirals/train/range0.5/ep220\n",
      "Done: spirals, width=5, depth=1, ab_range=0.5, epoch=220\n",
      "Previously saved model is of lower resolution; recomputing\n"
     ]
    },
    {
     "name": "stderr",
     "output_type": "stream",
     "text": [
      "Outer loop (a): 100%|██████████| 100/100 [00:52<00:00,  1.92it/s]\n"
     ]
    },
    {
     "name": "stdout",
     "output_type": "stream",
     "text": [
      "✅ Updated and saved new grid at ../backend/landscapes/mlp_5_5/two_blobs_separate/train/range0.2/ep610\n",
      "Done: two_blobs_separate, width=5, depth=2, ab_range=0.2, epoch=610\n",
      "Previously saved model is of lower resolution; recomputing\n"
     ]
    },
    {
     "name": "stderr",
     "output_type": "stream",
     "text": [
      "Outer loop (a): 100%|██████████| 100/100 [00:46<00:00,  2.16it/s]\n"
     ]
    },
    {
     "name": "stdout",
     "output_type": "stream",
     "text": [
      "✅ Updated and saved new grid at ../backend/landscapes/mlp_5/two_blobs_overlap/train/range0.5/ep580\n",
      "Done: two_blobs_overlap, width=5, depth=1, ab_range=0.5, epoch=580\n",
      "Previously saved model is of lower resolution; recomputing\n"
     ]
    },
    {
     "name": "stderr",
     "output_type": "stream",
     "text": [
      "Outer loop (a): 100%|██████████| 100/100 [00:50<00:00,  1.99it/s]\n"
     ]
    },
    {
     "name": "stdout",
     "output_type": "stream",
     "text": [
      "✅ Updated and saved new grid at ../backend/landscapes/mlp_5_5/half_moons/train/range0.5/ep480\n",
      "Done: half_moons, width=5, depth=2, ab_range=0.5, epoch=480\n",
      "Previously saved model is of lower resolution; recomputing\n"
     ]
    },
    {
     "name": "stderr",
     "output_type": "stream",
     "text": [
      "Outer loop (a): 100%|██████████| 100/100 [00:52<00:00,  1.89it/s]\n"
     ]
    },
    {
     "name": "stdout",
     "output_type": "stream",
     "text": [
      "✅ Updated and saved new grid at ../backend/landscapes/mlp_5_5_5_5/two_blobs_overlap/train/range5/ep960\n",
      "Done: two_blobs_overlap, width=5, depth=4, ab_range=5, epoch=960\n",
      "Previously saved model is of lower resolution; recomputing\n"
     ]
    },
    {
     "name": "stderr",
     "output_type": "stream",
     "text": [
      "Outer loop (a): 100%|██████████| 100/100 [00:55<00:00,  1.79it/s]\n"
     ]
    },
    {
     "name": "stdout",
     "output_type": "stream",
     "text": [
      "✅ Updated and saved new grid at ../backend/landscapes/mlp_5_5_5_5/two_blobs_overlap/train/range0.2/ep600\n",
      "Done: two_blobs_overlap, width=5, depth=4, ab_range=0.2, epoch=600\n",
      "Previously saved model is of lower resolution; recomputing\n"
     ]
    },
    {
     "name": "stderr",
     "output_type": "stream",
     "text": [
      "Outer loop (a): 100%|██████████| 100/100 [00:54<00:00,  1.85it/s]\n"
     ]
    },
    {
     "name": "stdout",
     "output_type": "stream",
     "text": [
      "✅ Updated and saved new grid at ../backend/landscapes/mlp_5_5_5_5/spirals/train/range5/ep600\n",
      "Done: spirals, width=5, depth=4, ab_range=5, epoch=600"
     ]
    },
    {
     "name": "stderr",
     "output_type": "stream",
     "text": [
      "Outer loop (a):  69%|██████▉   | 69/100 [00:34<00:14,  2.21it/s]"
     ]
    },
    {
     "name": "stdout",
     "output_type": "stream",
     "text": [
      "\n",
      "Previously saved model is of lower resolution; recomputing\n"
     ]
    },
    {
     "name": "stderr",
     "output_type": "stream",
     "text": [
      "Outer loop (a): 100%|██████████| 100/100 [00:50<00:00,  1.98it/s]\n"
     ]
    },
    {
     "name": "stdout",
     "output_type": "stream",
     "text": [
      "✅ Updated and saved new grid at ../backend/landscapes/mlp_5_5/four_corners/train/range0.2/ep860\n",
      "Done: four_corners, width=5, depth=2, ab_range=0.2, epoch=860\n",
      "Previously saved model is of lower resolution; recomputing\n"
     ]
    },
    {
     "name": "stderr",
     "output_type": "stream",
     "text": [
      "Outer loop (a): 100%|██████████| 100/100 [00:46<00:00,  2.13it/s]\n"
     ]
    },
    {
     "name": "stdout",
     "output_type": "stream",
     "text": [
      "✅ Updated and saved new grid at ../backend/landscapes/mlp_5/spirals/train/range0.5/ep230\n",
      "Done: spirals, width=5, depth=1, ab_range=0.5, epoch=230\n",
      "Previously saved model is of lower resolution; recomputing\n"
     ]
    },
    {
     "name": "stderr",
     "output_type": "stream",
     "text": [
      "Outer loop (a): 100%|██████████| 100/100 [00:48<00:00,  2.05it/s]\n"
     ]
    },
    {
     "name": "stdout",
     "output_type": "stream",
     "text": [
      "✅ Updated and saved new grid at ../backend/landscapes/mlp_5/two_blobs_overlap/train/range0.5/ep590\n",
      "Done: two_blobs_overlap, width=5, depth=1, ab_range=0.5, epoch=590\n",
      "Previously saved model is of lower resolution; recomputing\n"
     ]
    },
    {
     "name": "stderr",
     "output_type": "stream",
     "text": [
      "Outer loop (a): 100%|██████████| 100/100 [00:50<00:00,  1.97it/s]\n"
     ]
    },
    {
     "name": "stdout",
     "output_type": "stream",
     "text": [
      "✅ Updated and saved new grid at ../backend/landscapes/mlp_5_5/two_blobs_separate/train/range0.2/ep620\n",
      "Done: two_blobs_separate, width=5, depth=2, ab_range=0.2, epoch=620\n",
      "Previously saved model is of lower resolution; recomputing\n"
     ]
    },
    {
     "name": "stderr",
     "output_type": "stream",
     "text": [
      "Outer loop (a): 100%|██████████| 100/100 [00:49<00:00,  2.01it/s]\n"
     ]
    },
    {
     "name": "stdout",
     "output_type": "stream",
     "text": [
      "✅ Updated and saved new grid at ../backend/landscapes/mlp_5_5/half_moons/train/range0.5/ep490\n",
      "Done: half_moons, width=5, depth=2, ab_range=0.5, epoch=490\n",
      "Previously saved model is of lower resolution; recomputing\n"
     ]
    },
    {
     "name": "stderr",
     "output_type": "stream",
     "text": [
      "Outer loop (a): 100%|██████████| 100/100 [00:53<00:00,  1.88it/s]\n"
     ]
    },
    {
     "name": "stdout",
     "output_type": "stream",
     "text": [
      "✅ Updated and saved new grid at ../backend/landscapes/mlp_5_5_5_5/two_blobs_overlap/train/range0.2/ep610\n",
      "Done: two_blobs_overlap, width=5, depth=4, ab_range=0.2, epoch=610\n",
      "Previously saved model is of lower resolution; recomputing\n"
     ]
    },
    {
     "name": "stderr",
     "output_type": "stream",
     "text": [
      "Outer loop (a): 100%|██████████| 100/100 [00:55<00:00,  1.81it/s]\n"
     ]
    },
    {
     "name": "stdout",
     "output_type": "stream",
     "text": [
      "✅ Updated and saved new grid at ../backend/landscapes/mlp_5_5_5_5/two_blobs_overlap/train/range5/ep970\n",
      "Done: two_blobs_overlap, width=5, depth=4, ab_range=5, epoch=970\n",
      "Previously saved model is of lower resolution; recomputing\n"
     ]
    },
    {
     "name": "stderr",
     "output_type": "stream",
     "text": [
      "Outer loop (a): 100%|██████████| 100/100 [00:55<00:00,  1.79it/s]\n"
     ]
    },
    {
     "name": "stdout",
     "output_type": "stream",
     "text": [
      "✅ Updated and saved new grid at ../backend/landscapes/mlp_5_5_5_5/spirals/train/range5/ep610\n",
      "Done: spirals, width=5, depth=4, ab_range=5, epoch=610\n",
      "Previously saved model is of lower resolution; recomputing\n"
     ]
    },
    {
     "name": "stderr",
     "output_type": "stream",
     "text": [
      "Outer loop (a): 100%|██████████| 100/100 [00:49<00:00,  2.00it/s]\n"
     ]
    },
    {
     "name": "stdout",
     "output_type": "stream",
     "text": [
      "✅ Updated and saved new grid at ../backend/landscapes/mlp_5_5/four_corners/train/range0.2/ep870\n",
      "Done: four_corners, width=5, depth=2, ab_range=0.2, epoch=870\n",
      "Previously saved model is of lower resolution; recomputing\n"
     ]
    },
    {
     "name": "stderr",
     "output_type": "stream",
     "text": [
      "Outer loop (a): 100%|██████████| 100/100 [00:46<00:00,  2.16it/s]\n"
     ]
    },
    {
     "name": "stdout",
     "output_type": "stream",
     "text": [
      "✅ Updated and saved new grid at ../backend/landscapes/mlp_5/spirals/train/range0.5/ep240\n",
      "Done: spirals, width=5, depth=1, ab_range=0.5, epoch=240\n",
      "Previously saved model is of lower resolution; recomputing\n"
     ]
    },
    {
     "name": "stderr",
     "output_type": "stream",
     "text": [
      "Outer loop (a): 100%|██████████| 100/100 [00:49<00:00,  2.04it/s]\n"
     ]
    },
    {
     "name": "stdout",
     "output_type": "stream",
     "text": [
      "✅ Updated and saved new grid at ../backend/landscapes/mlp_5/two_blobs_overlap/train/range0.5/ep600\n",
      "Done: two_blobs_overlap, width=5, depth=1, ab_range=0.5, epoch=600\n",
      "Previously saved model is of lower resolution; recomputing\n"
     ]
    },
    {
     "name": "stderr",
     "output_type": "stream",
     "text": [
      "Outer loop (a): 100%|██████████| 100/100 [00:49<00:00,  2.01it/s]\n"
     ]
    },
    {
     "name": "stdout",
     "output_type": "stream",
     "text": [
      "✅ Updated and saved new grid at ../backend/landscapes/mlp_5_5/half_moons/train/range0.5/ep500\n",
      "Done: half_moons, width=5, depth=2, ab_range=0.5, epoch=500\n",
      "Previously saved model is of lower resolution; recomputing\n"
     ]
    },
    {
     "name": "stderr",
     "output_type": "stream",
     "text": [
      "Outer loop (a): 100%|██████████| 100/100 [00:51<00:00,  1.94it/s]\n"
     ]
    },
    {
     "name": "stdout",
     "output_type": "stream",
     "text": [
      "✅ Updated and saved new grid at ../backend/landscapes/mlp_5_5/two_blobs_separate/train/range0.2/ep630\n",
      "Done: two_blobs_separate, width=5, depth=2, ab_range=0.2, epoch=630\n",
      "Previously saved model is of lower resolution; recomputing\n"
     ]
    },
    {
     "name": "stderr",
     "output_type": "stream",
     "text": [
      "Outer loop (a): 100%|██████████| 100/100 [00:55<00:00,  1.82it/s]\n"
     ]
    },
    {
     "name": "stdout",
     "output_type": "stream",
     "text": [
      "✅ Updated and saved new grid at ../backend/landscapes/mlp_5_5_5_5/two_blobs_overlap/train/range0.2/ep620\n",
      "Done: two_blobs_overlap, width=5, depth=4, ab_range=0.2, epoch=620\n",
      "Previously saved model is of lower resolution; recomputing\n"
     ]
    },
    {
     "name": "stderr",
     "output_type": "stream",
     "text": [
      "Outer loop (a): 100%|██████████| 100/100 [00:54<00:00,  1.85it/s]\n"
     ]
    },
    {
     "name": "stdout",
     "output_type": "stream",
     "text": [
      "✅ Updated and saved new grid at ../backend/landscapes/mlp_5_5_5_5/two_blobs_overlap/train/range5/ep980\n",
      "Done: two_blobs_overlap, width=5, depth=4, ab_range=5, epoch=980\n",
      "Previously saved model is of lower resolution; recomputing\n"
     ]
    },
    {
     "name": "stderr",
     "output_type": "stream",
     "text": [
      "Outer loop (a): 100%|██████████| 100/100 [00:55<00:00,  1.79it/s]\n"
     ]
    },
    {
     "name": "stdout",
     "output_type": "stream",
     "text": [
      "✅ Updated and saved new grid at ../backend/landscapes/mlp_5_5_5_5/spirals/train/range5/ep620\n",
      "Done: spirals, width=5, depth=4, ab_range=5, epoch=620\n",
      "Previously saved model is of lower resolution; recomputing\n"
     ]
    },
    {
     "name": "stderr",
     "output_type": "stream",
     "text": [
      "Outer loop (a): 100%|██████████| 100/100 [00:50<00:00,  1.98it/s]\n"
     ]
    },
    {
     "name": "stdout",
     "output_type": "stream",
     "text": [
      "✅ Updated and saved new grid at ../backend/landscapes/mlp_5_5/four_corners/train/range0.2/ep880\n",
      "Done: four_corners, width=5, depth=2, ab_range=0.2, epoch=880\n",
      "Previously saved model is of lower resolution; recomputing\n"
     ]
    },
    {
     "name": "stderr",
     "output_type": "stream",
     "text": [
      "Outer loop (a): 100%|██████████| 100/100 [00:47<00:00,  2.09it/s]\n"
     ]
    },
    {
     "name": "stdout",
     "output_type": "stream",
     "text": [
      "✅ Updated and saved new grid at ../backend/landscapes/mlp_5/spirals/train/range0.5/ep250\n",
      "Done: spirals, width=5, depth=1, ab_range=0.5, epoch=250\n",
      "Previously saved model is of lower resolution; recomputing\n"
     ]
    },
    {
     "name": "stderr",
     "output_type": "stream",
     "text": [
      "Outer loop (a): 100%|██████████| 100/100 [00:48<00:00,  2.05it/s]\n"
     ]
    },
    {
     "name": "stdout",
     "output_type": "stream",
     "text": [
      "✅ Updated and saved new grid at ../backend/landscapes/mlp_5/two_blobs_overlap/train/range0.5/ep610\n",
      "Done: two_blobs_overlap, width=5, depth=1, ab_range=0.5, epoch=610\n",
      "Previously saved model is of lower resolution; recomputing\n"
     ]
    },
    {
     "name": "stderr",
     "output_type": "stream",
     "text": [
      "Outer loop (a): 100%|██████████| 100/100 [00:49<00:00,  2.04it/s]\n"
     ]
    },
    {
     "name": "stdout",
     "output_type": "stream",
     "text": [
      "✅ Updated and saved new grid at ../backend/landscapes/mlp_5_5/two_blobs_separate/train/range0.2/ep640\n",
      "Done: two_blobs_separate, width=5, depth=2, ab_range=0.2, epoch=640\n",
      "Previously saved model is of lower resolution; recomputing\n"
     ]
    },
    {
     "name": "stderr",
     "output_type": "stream",
     "text": [
      "Outer loop (a): 100%|██████████| 100/100 [00:49<00:00,  2.02it/s]\n"
     ]
    },
    {
     "name": "stdout",
     "output_type": "stream",
     "text": [
      "✅ Updated and saved new grid at ../backend/landscapes/mlp_5_5/half_moons/train/range0.5/ep510\n",
      "Done: half_moons, width=5, depth=2, ab_range=0.5, epoch=510\n",
      "Previously saved model is of lower resolution; recomputing\n"
     ]
    },
    {
     "name": "stderr",
     "output_type": "stream",
     "text": [
      "Outer loop (a): 100%|██████████| 100/100 [00:53<00:00,  1.86it/s]\n"
     ]
    },
    {
     "name": "stdout",
     "output_type": "stream",
     "text": [
      "✅ Updated and saved new grid at ../backend/landscapes/mlp_5_5_5_5/two_blobs_overlap/train/range5/ep990\n",
      "Done: two_blobs_overlap, width=5, depth=4, ab_range=5, epoch=990\n",
      "Previously saved model is of lower resolution; recomputing\n"
     ]
    },
    {
     "name": "stderr",
     "output_type": "stream",
     "text": [
      "Outer loop (a): 100%|██████████| 100/100 [00:55<00:00,  1.81it/s]\n"
     ]
    },
    {
     "name": "stdout",
     "output_type": "stream",
     "text": [
      "✅ Updated and saved new grid at ../backend/landscapes/mlp_5_5_5_5/two_blobs_overlap/train/range0.2/ep630\n",
      "Done: two_blobs_overlap, width=5, depth=4, ab_range=0.2, epoch=630\n"
     ]
    },
    {
     "name": "stderr",
     "output_type": "stream",
     "text": [
      "Outer loop (a):  44%|████▍     | 44/100 [00:20<00:25,  2.20it/s]"
     ]
    },
    {
     "name": "stdout",
     "output_type": "stream",
     "text": [
      "Previously saved model is of lower resolution; recomputing\n"
     ]
    },
    {
     "name": "stderr",
     "output_type": "stream",
     "text": [
      "Outer loop (a): 100%|██████████| 100/100 [00:50<00:00,  1.97it/s]\n"
     ]
    },
    {
     "name": "stdout",
     "output_type": "stream",
     "text": [
      "✅ Updated and saved new grid at ../backend/landscapes/mlp_5_5/four_corners/train/range0.2/ep890\n",
      "Done: four_corners, width=5, depth=2, ab_range=0.2, epoch=890\n",
      "Previously saved model is of lower resolution; recomputing\n"
     ]
    },
    {
     "name": "stderr",
     "output_type": "stream",
     "text": [
      "Outer loop (a):  53%|█████▎    | 53/100 [00:27<00:25,  1.85it/s]]\n"
     ]
    },
    {
     "name": "stdout",
     "output_type": "stream",
     "text": [
      "✅ Updated and saved new grid at ../backend/landscapes/mlp_5_5_5_5/spirals/train/range5/ep630\n",
      "Done: spirals, width=5, depth=4, ab_range=5, epoch=630\n",
      "Previously saved model is of lower resolution; recomputing\n"
     ]
    },
    {
     "name": "stderr",
     "output_type": "stream",
     "text": [
      "Outer loop (a): 100%|██████████| 100/100 [00:48<00:00,  2.08it/s]\n"
     ]
    },
    {
     "name": "stdout",
     "output_type": "stream",
     "text": [
      "✅ Updated and saved new grid at ../backend/landscapes/mlp_5/spirals/train/range0.5/ep260\n",
      "Done: spirals, width=5, depth=1, ab_range=0.5, epoch=260\n",
      "Previously saved model is of lower resolution; recomputing\n"
     ]
    },
    {
     "name": "stderr",
     "output_type": "stream",
     "text": [
      "Outer loop (a): 100%|██████████| 100/100 [00:47<00:00,  2.11it/s]\n"
     ]
    },
    {
     "name": "stdout",
     "output_type": "stream",
     "text": [
      "✅ Updated and saved new grid at ../backend/landscapes/mlp_5/two_blobs_overlap/train/range0.5/ep620\n",
      "Done: two_blobs_overlap, width=5, depth=1, ab_range=0.5, epoch=620\n",
      "Previously saved model is of lower resolution; recomputing\n"
     ]
    },
    {
     "name": "stderr",
     "output_type": "stream",
     "text": [
      "Outer loop (a): 100%|██████████| 100/100 [00:49<00:00,  2.01it/s]\n"
     ]
    },
    {
     "name": "stdout",
     "output_type": "stream",
     "text": [
      "✅ Updated and saved new grid at ../backend/landscapes/mlp_5_5/half_moons/train/range0.5/ep520\n",
      "Done: half_moons, width=5, depth=2, ab_range=0.5, epoch=520\n",
      "Previously saved model is of lower resolution; recomputing\n"
     ]
    },
    {
     "name": "stderr",
     "output_type": "stream",
     "text": [
      "Outer loop (a): 100%|██████████| 100/100 [00:51<00:00,  1.95it/s]\n"
     ]
    },
    {
     "name": "stdout",
     "output_type": "stream",
     "text": [
      "✅ Updated and saved new grid at ../backend/landscapes/mlp_5_5/two_blobs_separate/train/range0.2/ep650\n",
      "Done: two_blobs_separate, width=5, depth=2, ab_range=0.2, epoch=650\n",
      "Previously saved model is of lower resolution; recomputing\n"
     ]
    },
    {
     "name": "stderr",
     "output_type": "stream",
     "text": [
      "Outer loop (a): 100%|██████████| 100/100 [00:54<00:00,  1.84it/s]\n"
     ]
    },
    {
     "name": "stdout",
     "output_type": "stream",
     "text": [
      "✅ Updated and saved new grid at ../backend/landscapes/mlp_5_5_5_5/two_blobs_overlap/train/range5/ep1000\n",
      "Done: two_blobs_overlap, width=5, depth=4, ab_range=5, epoch=1000\n",
      "Previously saved model is of lower resolution; recomputing\n"
     ]
    },
    {
     "name": "stderr",
     "output_type": "stream",
     "text": [
      "Outer loop (a): 100%|██████████| 100/100 [00:55<00:00,  1.81it/s]\n"
     ]
    },
    {
     "name": "stdout",
     "output_type": "stream",
     "text": [
      "✅ Updated and saved new grid at ../backend/landscapes/mlp_5_5_5_5/two_blobs_overlap/train/range0.2/ep640\n",
      "Done: two_blobs_overlap, width=5, depth=4, ab_range=0.2, epoch=640\n",
      "Previously saved model is of lower resolution; recomputing\n"
     ]
    },
    {
     "name": "stderr",
     "output_type": "stream",
     "text": [
      "Outer loop (a): 100%|██████████| 100/100 [00:48<00:00,  2.06it/s]\n"
     ]
    },
    {
     "name": "stdout",
     "output_type": "stream",
     "text": [
      "✅ Updated and saved new grid at ../backend/landscapes/mlp_5_5/four_corners/train/range0.2/ep900\n",
      "Done: four_corners, width=5, depth=2, ab_range=0.2, epoch=900\n",
      "Previously saved model is of lower resolution; recomputing\n"
     ]
    },
    {
     "name": "stderr",
     "output_type": "stream",
     "text": [
      "Outer loop (a): 100%|██████████| 100/100 [00:48<00:00,  2.08it/s]\n"
     ]
    },
    {
     "name": "stdout",
     "output_type": "stream",
     "text": [
      "✅ Updated and saved new grid at ../backend/landscapes/mlp_5/spirals/train/range0.5/ep270\n",
      "Done: spirals, width=5, depth=1, ab_range=0.5, epoch=270\n",
      "Previously saved model is of lower resolution; recomputing\n"
     ]
    },
    {
     "name": "stderr",
     "output_type": "stream",
     "text": [
      "Outer loop (a): 100%|██████████| 100/100 [00:53<00:00,  1.86it/s]\n"
     ]
    },
    {
     "name": "stdout",
     "output_type": "stream",
     "text": [
      "✅ Updated and saved new grid at ../backend/landscapes/mlp_5_5_5_5/spirals/train/range5/ep640\n",
      "Done: spirals, width=5, depth=4, ab_range=5, epoch=640\n",
      "Previously saved model is of lower resolution; recomputing\n"
     ]
    },
    {
     "name": "stderr",
     "output_type": "stream",
     "text": [
      "Outer loop (a): 100%|██████████| 100/100 [00:47<00:00,  2.10it/s]\n"
     ]
    },
    {
     "name": "stdout",
     "output_type": "stream",
     "text": [
      "✅ Updated and saved new grid at ../backend/landscapes/mlp_5/two_blobs_overlap/train/range0.5/ep630\n",
      "Done: two_blobs_overlap, width=5, depth=1, ab_range=0.5, epoch=630\n",
      "Previously saved model is of lower resolution; recomputing\n"
     ]
    },
    {
     "name": "stderr",
     "output_type": "stream",
     "text": [
      "Outer loop (a): 100%|██████████| 100/100 [00:50<00:00,  1.97it/s]\n"
     ]
    },
    {
     "name": "stdout",
     "output_type": "stream",
     "text": [
      "✅ Updated and saved new grid at ../backend/landscapes/mlp_5_5/half_moons/train/range0.5/ep530\n",
      "Done: half_moons, width=5, depth=2, ab_range=0.5, epoch=530\n",
      "Previously saved model is of lower resolution; recomputing\n"
     ]
    },
    {
     "name": "stderr",
     "output_type": "stream",
     "text": [
      "Outer loop (a): 100%|██████████| 100/100 [00:51<00:00,  1.96it/s]\n"
     ]
    },
    {
     "name": "stdout",
     "output_type": "stream",
     "text": [
      "✅ Updated and saved new grid at ../backend/landscapes/mlp_5_5/two_blobs_separate/train/range0.2/ep660\n",
      "Done: two_blobs_separate, width=5, depth=2, ab_range=0.2, epoch=660\n",
      "Previously saved model is of lower resolution; recomputing\n"
     ]
    },
    {
     "name": "stderr",
     "output_type": "stream",
     "text": [
      "Outer loop (a): 100%|██████████| 100/100 [00:51<00:00,  1.93it/s]\n"
     ]
    },
    {
     "name": "stdout",
     "output_type": "stream",
     "text": [
      "✅ Updated and saved new grid at ../backend/landscapes/mlp_5_5/four_corners/train/range0.2/ep910\n",
      "Done: four_corners, width=5, depth=2, ab_range=0.2, epoch=910\n",
      "Previously saved model is of lower resolution; recomputing\n"
     ]
    },
    {
     "name": "stderr",
     "output_type": "stream",
     "text": [
      "Outer loop (a): 100%|██████████| 100/100 [00:48<00:00,  2.06it/s]\n"
     ]
    },
    {
     "name": "stdout",
     "output_type": "stream",
     "text": [
      "✅ Updated and saved new grid at ../backend/landscapes/mlp_5/spirals/train/range0.5/ep280\n",
      "Done: spirals, width=5, depth=1, ab_range=0.5, epoch=280\n",
      "Previously saved model is of lower resolution; recomputing\n"
     ]
    },
    {
     "name": "stderr",
     "output_type": "stream",
     "text": [
      "Outer loop (a): 100%|██████████| 100/100 [00:53<00:00,  1.87it/s]\n"
     ]
    },
    {
     "name": "stdout",
     "output_type": "stream",
     "text": [
      "✅ Updated and saved new grid at ../backend/landscapes/mlp_5_5_5_5/two_blobs_overlap/train/range0.2/ep650\n",
      "Done: two_blobs_overlap, width=5, depth=4, ab_range=0.2, epoch=650\n",
      "Previously saved model is of lower resolution; recomputing\n"
     ]
    },
    {
     "name": "stderr",
     "output_type": "stream",
     "text": [
      "Outer loop (a): 100%|██████████| 100/100 [00:55<00:00,  1.81it/s]\n"
     ]
    },
    {
     "name": "stdout",
     "output_type": "stream",
     "text": [
      "✅ Updated and saved new grid at ../backend/landscapes/mlp_5_5_5_5/two_blobs_overlap/train/range0.2/ep0\n",
      "Done: two_blobs_overlap, width=5, depth=4, ab_range=0.2, epoch=0\n",
      "Previously saved model is of lower resolution; recomputing\n"
     ]
    },
    {
     "name": "stderr",
     "output_type": "stream",
     "text": [
      "Outer loop (a): 100%|██████████| 100/100 [00:54<00:00,  1.82it/s]\n"
     ]
    },
    {
     "name": "stdout",
     "output_type": "stream",
     "text": [
      "✅ Updated and saved new grid at ../backend/landscapes/mlp_5_5_5_5/spirals/train/range5/ep650\n",
      "Done: spirals, width=5, depth=4, ab_range=5, epoch=650\n",
      "Previously saved model is of lower resolution; recomputing\n"
     ]
    },
    {
     "name": "stderr",
     "output_type": "stream",
     "text": [
      "Outer loop (a): 100%|██████████| 100/100 [00:49<00:00,  2.04it/s]\n"
     ]
    },
    {
     "name": "stdout",
     "output_type": "stream",
     "text": [
      "✅ Updated and saved new grid at ../backend/landscapes/mlp_5/two_blobs_overlap/train/range0.5/ep640\n",
      "Done: two_blobs_overlap, width=5, depth=1, ab_range=0.5, epoch=640\n",
      "Previously saved model is of lower resolution; recomputing\n"
     ]
    },
    {
     "name": "stderr",
     "output_type": "stream",
     "text": [
      "Outer loop (a): 100%|██████████| 100/100 [00:48<00:00,  2.07it/s]\n"
     ]
    },
    {
     "name": "stdout",
     "output_type": "stream",
     "text": [
      "✅ Updated and saved new grid at ../backend/landscapes/mlp_5_5/two_blobs_separate/train/range0.2/ep670\n",
      "Done: two_blobs_separate, width=5, depth=2, ab_range=0.2, epoch=670\n",
      "Previously saved model is of lower resolution; recomputing"
     ]
    },
    {
     "name": "stderr",
     "output_type": "stream",
     "text": [
      "Outer loop (a):  44%|████▍     | 44/100 [00:21<00:29,  1.92it/s]"
     ]
    },
    {
     "name": "stdout",
     "output_type": "stream",
     "text": [
      "\n"
     ]
    },
    {
     "name": "stderr",
     "output_type": "stream",
     "text": [
      "Outer loop (a): 100%|██████████| 100/100 [00:50<00:00,  1.98it/s]\n"
     ]
    },
    {
     "name": "stdout",
     "output_type": "stream",
     "text": [
      "✅ Updated and saved new grid at ../backend/landscapes/mlp_5_5/half_moons/train/range0.5/ep540\n",
      "Done: half_moons, width=5, depth=2, ab_range=0.5, epoch=540\n",
      "Previously saved model is of lower resolution; recomputing\n"
     ]
    },
    {
     "name": "stderr",
     "output_type": "stream",
     "text": [
      "Outer loop (a): 100%|██████████| 100/100 [00:49<00:00,  2.02it/s]\n"
     ]
    },
    {
     "name": "stdout",
     "output_type": "stream",
     "text": [
      "✅ Updated and saved new grid at ../backend/landscapes/mlp_5/spirals/train/range0.5/ep290\n",
      "Done: spirals, width=5, depth=1, ab_range=0.5, epoch=290\n",
      "Previously saved model is of lower resolution; recomputing\n"
     ]
    },
    {
     "name": "stderr",
     "output_type": "stream",
     "text": [
      "Outer loop (a): 100%|██████████| 100/100 [00:51<00:00,  1.93it/s]\n"
     ]
    },
    {
     "name": "stdout",
     "output_type": "stream",
     "text": [
      "✅ Updated and saved new grid at ../backend/landscapes/mlp_5_5/four_corners/train/range0.2/ep920\n",
      "Done: four_corners, width=5, depth=2, ab_range=0.2, epoch=920\n",
      "Previously saved model is of lower resolution; recomputing\n"
     ]
    },
    {
     "name": "stderr",
     "output_type": "stream",
     "text": [
      "Outer loop (a): 100%|██████████| 100/100 [00:53<00:00,  1.86it/s]\n"
     ]
    },
    {
     "name": "stdout",
     "output_type": "stream",
     "text": [
      "✅ Updated and saved new grid at ../backend/landscapes/mlp_5_5_5_5/two_blobs_overlap/train/range0.2/ep10\n",
      "Done: two_blobs_overlap, width=5, depth=4, ab_range=0.2, epoch=10\n",
      "Previously saved model is of lower resolution; recomputing\n"
     ]
    },
    {
     "name": "stderr",
     "output_type": "stream",
     "text": [
      "Outer loop (a): 100%|██████████| 100/100 [00:54<00:00,  1.82it/s]\n"
     ]
    },
    {
     "name": "stdout",
     "output_type": "stream",
     "text": [
      "✅ Updated and saved new grid at ../backend/landscapes/mlp_5_5_5_5/two_blobs_overlap/train/range0.2/ep660\n",
      "Done: two_blobs_overlap, width=5, depth=4, ab_range=0.2, epoch=660\n",
      "Previously saved model is of lower resolution; recomputing\n"
     ]
    },
    {
     "name": "stderr",
     "output_type": "stream",
     "text": [
      "Outer loop (a): 100%|██████████| 100/100 [00:47<00:00,  2.12it/s]\n"
     ]
    },
    {
     "name": "stdout",
     "output_type": "stream",
     "text": [
      "✅ Updated and saved new grid at ../backend/landscapes/mlp_5/two_blobs_overlap/train/range0.5/ep650\n",
      "Done: two_blobs_overlap, width=5, depth=1, ab_range=0.5, epoch=650\n",
      "Previously saved model is of lower resolution; recomputing\n"
     ]
    },
    {
     "name": "stderr",
     "output_type": "stream",
     "text": [
      "Outer loop (a): 100%|██████████| 100/100 [00:53<00:00,  1.86it/s]\n"
     ]
    },
    {
     "name": "stdout",
     "output_type": "stream",
     "text": [
      "✅ Updated and saved new grid at ../backend/landscapes/mlp_5_5_5_5/spirals/train/range5/ep660\n",
      "Done: spirals, width=5, depth=4, ab_range=5, epoch=660\n",
      "Previously saved model is of lower resolution; recomputing\n"
     ]
    },
    {
     "name": "stderr",
     "output_type": "stream",
     "text": [
      "Outer loop (a): 100%|██████████| 100/100 [00:47<00:00,  2.13it/s]\n"
     ]
    },
    {
     "name": "stdout",
     "output_type": "stream",
     "text": [
      "✅ Updated and saved new grid at ../backend/landscapes/mlp_5_5/half_moons/train/range0.5/ep550\n",
      "Done: half_moons, width=5, depth=2, ab_range=0.5, epoch=550\n",
      "Previously saved model is of lower resolution; recomputing\n"
     ]
    },
    {
     "name": "stderr",
     "output_type": "stream",
     "text": [
      "Outer loop (a): 100%|██████████| 100/100 [00:50<00:00,  2.00it/s]\n"
     ]
    },
    {
     "name": "stdout",
     "output_type": "stream",
     "text": [
      "✅ Updated and saved new grid at ../backend/landscapes/mlp_5_5/two_blobs_separate/train/range0.2/ep680\n",
      "Done: two_blobs_separate, width=5, depth=2, ab_range=0.2, epoch=680\n",
      "Previously saved model is of lower resolution; recomputing\n"
     ]
    },
    {
     "name": "stderr",
     "output_type": "stream",
     "text": [
      "Outer loop (a): 100%|██████████| 100/100 [00:47<00:00,  2.11it/s]\n"
     ]
    },
    {
     "name": "stdout",
     "output_type": "stream",
     "text": [
      "✅ Updated and saved new grid at ../backend/landscapes/mlp_5/spirals/train/range0.5/ep300\n",
      "Done: spirals, width=5, depth=1, ab_range=0.5, epoch=300\n",
      "Previously saved model is of lower resolution; recomputing\n"
     ]
    },
    {
     "name": "stderr",
     "output_type": "stream",
     "text": [
      "Outer loop (a): 100%|██████████| 100/100 [00:51<00:00,  1.94it/s]\n"
     ]
    },
    {
     "name": "stdout",
     "output_type": "stream",
     "text": [
      "✅ Updated and saved new grid at ../backend/landscapes/mlp_5_5/four_corners/train/range0.2/ep930\n",
      "Done: four_corners, width=5, depth=2, ab_range=0.2, epoch=930\n",
      "Previously saved model is of lower resolution; recomputing\n"
     ]
    },
    {
     "name": "stderr",
     "output_type": "stream",
     "text": [
      "Outer loop (a): 100%|██████████| 100/100 [00:47<00:00,  2.08it/s]\n"
     ]
    },
    {
     "name": "stdout",
     "output_type": "stream",
     "text": [
      "✅ Updated and saved new grid at ../backend/landscapes/mlp_5/two_blobs_overlap/train/range0.5/ep660\n",
      "Done: two_blobs_overlap, width=5, depth=1, ab_range=0.5, epoch=660\n",
      "Previously saved model is of lower resolution; recomputing\n"
     ]
    },
    {
     "name": "stderr",
     "output_type": "stream",
     "text": [
      "Outer loop (a): 100%|██████████| 100/100 [00:54<00:00,  1.85it/s]\n"
     ]
    },
    {
     "name": "stdout",
     "output_type": "stream",
     "text": [
      "✅ Updated and saved new grid at ../backend/landscapes/mlp_5_5_5_5/two_blobs_overlap/train/range0.2/ep670\n",
      "Done: two_blobs_overlap, width=5, depth=4, ab_range=0.2, epoch=670\n",
      "Previously saved model is of lower resolution; recomputing\n"
     ]
    },
    {
     "name": "stderr",
     "output_type": "stream",
     "text": [
      "Outer loop (a): 100%|██████████| 100/100 [00:55<00:00,  1.80it/s]\n",
      "Outer loop (a):   8%|▊         | 8/100 [00:03<00:42,  2.16it/s]"
     ]
    },
    {
     "name": "stdout",
     "output_type": "stream",
     "text": [
      "✅ Updated and saved new grid at ../backend/landscapes/mlp_5_5_5_5/two_blobs_overlap/train/range0.2/ep20\n",
      "Done: two_blobs_overlap, width=5, depth=4, ab_range=0.2, epoch=20\n",
      "Previously saved model is of lower resolution; recomputing\n"
     ]
    },
    {
     "name": "stderr",
     "output_type": "stream",
     "text": [
      "Outer loop (a): 100%|██████████| 100/100 [00:52<00:00,  1.90it/s]\n"
     ]
    },
    {
     "name": "stdout",
     "output_type": "stream",
     "text": [
      "✅ Updated and saved new grid at ../backend/landscapes/mlp_5_5_5_5/spirals/train/range5/ep670\n",
      "Done: spirals, width=5, depth=4, ab_range=5, epoch=670\n",
      "Previously saved model is of lower resolution; recomputing\n"
     ]
    },
    {
     "name": "stderr",
     "output_type": "stream",
     "text": [
      "Outer loop (a): 100%|██████████| 100/100 [00:50<00:00,  1.99it/s]\n"
     ]
    },
    {
     "name": "stdout",
     "output_type": "stream",
     "text": [
      "✅ Updated and saved new grid at ../backend/landscapes/mlp_5_5/half_moons/train/range0.5/ep560\n",
      "Done: half_moons, width=5, depth=2, ab_range=0.5, epoch=560\n",
      "Previously saved model is of lower resolution; recomputing\n"
     ]
    },
    {
     "name": "stderr",
     "output_type": "stream",
     "text": [
      "Outer loop (a): 100%|██████████| 100/100 [00:50<00:00,  1.97it/s]\n"
     ]
    },
    {
     "name": "stdout",
     "output_type": "stream",
     "text": [
      "✅ Updated and saved new grid at ../backend/landscapes/mlp_5_5/two_blobs_separate/train/range0.2/ep690\n",
      "Done: two_blobs_separate, width=5, depth=2, ab_range=0.2, epoch=690\n",
      "Previously saved model is of lower resolution; recomputing\n"
     ]
    },
    {
     "name": "stderr",
     "output_type": "stream",
     "text": [
      "Outer loop (a): 100%|██████████| 100/100 [00:49<00:00,  2.02it/s]\n"
     ]
    },
    {
     "name": "stdout",
     "output_type": "stream",
     "text": [
      "✅ Updated and saved new grid at ../backend/landscapes/mlp_5/spirals/train/range0.5/ep310\n",
      "Done: spirals, width=5, depth=1, ab_range=0.5, epoch=310\n",
      "Previously saved model is of lower resolution; recomputing\n"
     ]
    },
    {
     "name": "stderr",
     "output_type": "stream",
     "text": [
      "Outer loop (a): 100%|██████████| 100/100 [00:49<00:00,  2.02it/s]\n"
     ]
    },
    {
     "name": "stdout",
     "output_type": "stream",
     "text": [
      "✅ Updated and saved new grid at ../backend/landscapes/mlp_5_5/four_corners/train/range0.2/ep940\n",
      "Done: four_corners, width=5, depth=2, ab_range=0.2, epoch=940\n",
      "Previously saved model is of lower resolution; recomputing\n"
     ]
    },
    {
     "name": "stderr",
     "output_type": "stream",
     "text": [
      "Outer loop (a): 100%|██████████| 100/100 [00:46<00:00,  2.14it/s]\n"
     ]
    },
    {
     "name": "stdout",
     "output_type": "stream",
     "text": [
      "✅ Updated and saved new grid at ../backend/landscapes/mlp_5/two_blobs_overlap/train/range0.5/ep670\n",
      "Done: two_blobs_overlap, width=5, depth=1, ab_range=0.5, epoch=670\n",
      "Previously saved model is of lower resolution; recomputing\n"
     ]
    },
    {
     "name": "stderr",
     "output_type": "stream",
     "text": [
      "Outer loop (a): 100%|██████████| 100/100 [00:53<00:00,  1.86it/s]\n"
     ]
    },
    {
     "name": "stdout",
     "output_type": "stream",
     "text": [
      "✅ Updated and saved new grid at ../backend/landscapes/mlp_5_5_5_5/two_blobs_overlap/train/range0.2/ep680\n",
      "Done: two_blobs_overlap, width=5, depth=4, ab_range=0.2, epoch=680\n",
      "Previously saved model is of lower resolution; recomputing\n"
     ]
    },
    {
     "name": "stderr",
     "output_type": "stream",
     "text": [
      "Outer loop (a): 100%|██████████| 100/100 [00:55<00:00,  1.79it/s]\n"
     ]
    },
    {
     "name": "stdout",
     "output_type": "stream",
     "text": [
      "✅ Updated and saved new grid at ../backend/landscapes/mlp_5_5_5_5/two_blobs_overlap/train/range0.2/ep30\n",
      "Done: two_blobs_overlap, width=5, depth=4, ab_range=0.2, epoch=30\n",
      "Previously saved model is of lower resolution; recomputing\n"
     ]
    },
    {
     "name": "stderr",
     "output_type": "stream",
     "text": [
      "Outer loop (a): 100%|██████████| 100/100 [00:49<00:00,  2.02it/s]\n"
     ]
    },
    {
     "name": "stdout",
     "output_type": "stream",
     "text": [
      "✅ Updated and saved new grid at ../backend/landscapes/mlp_5_5/half_moons/train/range0.5/ep570\n",
      "Done: half_moons, width=5, depth=2, ab_range=0.5, epoch=570\n",
      "Previously saved model is of lower resolution; recomputing\n"
     ]
    },
    {
     "name": "stderr",
     "output_type": "stream",
     "text": [
      "Outer loop (a): 100%|██████████| 100/100 [00:56<00:00,  1.78it/s]\n"
     ]
    },
    {
     "name": "stdout",
     "output_type": "stream",
     "text": [
      "✅ Updated and saved new grid at ../backend/landscapes/mlp_5_5_5_5/spirals/train/range5/ep680\n",
      "Done: spirals, width=5, depth=4, ab_range=5, epoch=680\n",
      "Previously saved model is of lower resolution; recomputing\n"
     ]
    },
    {
     "name": "stderr",
     "output_type": "stream",
     "text": [
      "Outer loop (a): 100%|██████████| 100/100 [00:49<00:00,  2.01it/s]\n"
     ]
    },
    {
     "name": "stdout",
     "output_type": "stream",
     "text": [
      "✅ Updated and saved new grid at ../backend/landscapes/mlp_5_5/two_blobs_separate/train/range0.2/ep700\n",
      "Done: two_blobs_separate, width=5, depth=2, ab_range=0.2, epoch=700\n",
      "Previously saved model is of lower resolution; recomputing\n"
     ]
    },
    {
     "name": "stderr",
     "output_type": "stream",
     "text": [
      "Outer loop (a): 100%|██████████| 100/100 [00:48<00:00,  2.07it/s]\n"
     ]
    },
    {
     "name": "stdout",
     "output_type": "stream",
     "text": [
      "✅ Updated and saved new grid at ../backend/landscapes/mlp_5/spirals/train/range0.5/ep320\n",
      "Done: spirals, width=5, depth=1, ab_range=0.5, epoch=320\n",
      "Previously saved model is of lower resolution; recomputing\n"
     ]
    },
    {
     "name": "stderr",
     "output_type": "stream",
     "text": [
      "Outer loop (a): 100%|██████████| 100/100 [00:48<00:00,  2.05it/s]\n"
     ]
    },
    {
     "name": "stdout",
     "output_type": "stream",
     "text": [
      "✅ Updated and saved new grid at ../backend/landscapes/mlp_5/two_blobs_overlap/train/range0.5/ep680\n",
      "Done: two_blobs_overlap, width=5, depth=1, ab_range=0.5, epoch=680\n",
      "Previously saved model is of lower resolution; recomputing\n"
     ]
    },
    {
     "name": "stderr",
     "output_type": "stream",
     "text": [
      "Outer loop (a): 100%|██████████| 100/100 [00:51<00:00,  1.94it/s]\n"
     ]
    },
    {
     "name": "stdout",
     "output_type": "stream",
     "text": [
      "✅ Updated and saved new grid at ../backend/landscapes/mlp_5_5/four_corners/train/range0.2/ep950\n",
      "Done: four_corners, width=5, depth=2, ab_range=0.2, epoch=950\n",
      "Previously saved model is of lower resolution; recomputing\n"
     ]
    },
    {
     "name": "stderr",
     "output_type": "stream",
     "text": [
      "Outer loop (a): 100%|██████████| 100/100 [00:55<00:00,  1.82it/s]\n"
     ]
    },
    {
     "name": "stdout",
     "output_type": "stream",
     "text": [
      "✅ Updated and saved new grid at ../backend/landscapes/mlp_5_5_5_5/two_blobs_overlap/train/range0.2/ep690\n",
      "Done: two_blobs_overlap, width=5, depth=4, ab_range=0.2, epoch=690\n",
      "Previously saved model is of lower resolution; recomputing\n"
     ]
    },
    {
     "name": "stderr",
     "output_type": "stream",
     "text": [
      "Outer loop (a): 100%|██████████| 100/100 [00:50<00:00,  1.97it/s]\n"
     ]
    },
    {
     "name": "stdout",
     "output_type": "stream",
     "text": [
      "✅ Updated and saved new grid at ../backend/landscapes/mlp_5_5/half_moons/train/range0.5/ep580\n",
      "Done: half_moons, width=5, depth=2, ab_range=0.5, epoch=580\n",
      "Previously saved model is of lower resolution; recomputing\n"
     ]
    },
    {
     "name": "stderr",
     "output_type": "stream",
     "text": [
      "Outer loop (a): 100%|██████████| 100/100 [00:55<00:00,  1.82it/s]\n"
     ]
    },
    {
     "name": "stdout",
     "output_type": "stream",
     "text": [
      "✅ Updated and saved new grid at ../backend/landscapes/mlp_5_5_5_5/two_blobs_overlap/train/range0.2/ep40\n",
      "Done: two_blobs_overlap, width=5, depth=4, ab_range=0.2, epoch=40\n",
      "Previously saved model is of lower resolution; recomputing\n"
     ]
    },
    {
     "name": "stderr",
     "output_type": "stream",
     "text": [
      "Outer loop (a): 100%|██████████| 100/100 [00:50<00:00,  1.96it/s]\n"
     ]
    },
    {
     "name": "stdout",
     "output_type": "stream",
     "text": [
      "✅ Updated and saved new grid at ../backend/landscapes/mlp_5_5/two_blobs_separate/train/range0.2/ep710\n",
      "Done: two_blobs_separate, width=5, depth=2, ab_range=0.2, epoch=710\n",
      "Previously saved model is of lower resolution; recomputing\n"
     ]
    },
    {
     "name": "stderr",
     "output_type": "stream",
     "text": [
      "Outer loop (a): 100%|██████████| 100/100 [00:55<00:00,  1.80it/s]\n"
     ]
    },
    {
     "name": "stdout",
     "output_type": "stream",
     "text": [
      "✅ Updated and saved new grid at ../backend/landscapes/mlp_5_5_5_5/spirals/train/range5/ep690\n",
      "Done: spirals, width=5, depth=4, ab_range=5, epoch=690\n",
      "Previously saved model is of lower resolution; recomputing\n"
     ]
    },
    {
     "name": "stderr",
     "output_type": "stream",
     "text": [
      "Outer loop (a): 100%|██████████| 100/100 [00:47<00:00,  2.11it/s]\n"
     ]
    },
    {
     "name": "stdout",
     "output_type": "stream",
     "text": [
      "✅ Updated and saved new grid at ../backend/landscapes/mlp_5/spirals/train/range0.5/ep330\n",
      "Done: spirals, width=5, depth=1, ab_range=0.5, epoch=330\n",
      "Previously saved model is of lower resolution; recomputing\n"
     ]
    },
    {
     "name": "stderr",
     "output_type": "stream",
     "text": [
      "Outer loop (a): 100%|██████████| 100/100 [00:46<00:00,  2.17it/s]\n"
     ]
    },
    {
     "name": "stdout",
     "output_type": "stream",
     "text": [
      "✅ Updated and saved new grid at ../backend/landscapes/mlp_5/two_blobs_overlap/train/range0.5/ep690\n",
      "Done: two_blobs_overlap, width=5, depth=1, ab_range=0.5, epoch=690\n",
      "Previously saved model is of lower resolution; recomputing\n"
     ]
    },
    {
     "name": "stderr",
     "output_type": "stream",
     "text": [
      "Outer loop (a): 100%|██████████| 100/100 [00:50<00:00,  2.00it/s]\n"
     ]
    },
    {
     "name": "stdout",
     "output_type": "stream",
     "text": [
      "✅ Updated and saved new grid at ../backend/landscapes/mlp_5_5/four_corners/train/range0.2/ep960\n",
      "Done: four_corners, width=5, depth=2, ab_range=0.2, epoch=960\n",
      "Previously saved model is of lower resolution; recomputing\n"
     ]
    },
    {
     "name": "stderr",
     "output_type": "stream",
     "text": [
      "Outer loop (a): 100%|██████████| 100/100 [00:52<00:00,  1.90it/s]\n"
     ]
    },
    {
     "name": "stdout",
     "output_type": "stream",
     "text": [
      "✅ Updated and saved new grid at ../backend/landscapes/mlp_5_5/half_moons/train/range0.5/ep590\n",
      "Done: half_moons, width=5, depth=2, ab_range=0.5, epoch=590\n",
      "Previously saved model is of lower resolution; recomputing\n"
     ]
    },
    {
     "name": "stderr",
     "output_type": "stream",
     "text": [
      "Outer loop (a): 100%|██████████| 100/100 [00:49<00:00,  2.01it/s]\n"
     ]
    },
    {
     "name": "stdout",
     "output_type": "stream",
     "text": [
      "✅ Updated and saved new grid at ../backend/landscapes/mlp_5_5/two_blobs_separate/train/range0.2/ep720\n",
      "Done: two_blobs_separate, width=5, depth=2, ab_range=0.2, epoch=720\n",
      "Previously saved model is of lower resolution; recomputing\n"
     ]
    },
    {
     "name": "stderr",
     "output_type": "stream",
     "text": [
      "Outer loop (a): 100%|██████████| 100/100 [00:55<00:00,  1.81it/s]\n"
     ]
    },
    {
     "name": "stdout",
     "output_type": "stream",
     "text": [
      "✅ Updated and saved new grid at ../backend/landscapes/mlp_5_5_5_5/two_blobs_overlap/train/range0.2/ep700\n",
      "Done: two_blobs_overlap, width=5, depth=4, ab_range=0.2, epoch=700\n",
      "Previously saved model is of lower resolution; recomputing\n"
     ]
    },
    {
     "name": "stderr",
     "output_type": "stream",
     "text": [
      "Outer loop (a): 100%|██████████| 100/100 [00:55<00:00,  1.80it/s]\n"
     ]
    },
    {
     "name": "stdout",
     "output_type": "stream",
     "text": [
      "✅ Updated and saved new grid at ../backend/landscapes/mlp_5_5_5_5/two_blobs_overlap/train/range0.2/ep50\n",
      "Done: two_blobs_overlap, width=5, depth=4, ab_range=0.2, epoch=50\n",
      "Previously saved model is of lower resolution; recomputing\n"
     ]
    },
    {
     "name": "stderr",
     "output_type": "stream",
     "text": [
      "Outer loop (a): 100%|██████████| 100/100 [00:56<00:00,  1.76it/s]\n"
     ]
    },
    {
     "name": "stdout",
     "output_type": "stream",
     "text": [
      "✅ Updated and saved new grid at ../backend/landscapes/mlp_5_5_5_5/spirals/train/range5/ep700\n"
     ]
    },
    {
     "name": "stderr",
     "output_type": "stream",
     "text": [
      "Outer loop (a):   9%|▉         | 9/100 [00:05<00:51,  1.77it/s]"
     ]
    },
    {
     "name": "stdout",
     "output_type": "stream",
     "text": [
      "Done: spirals, width=5, depth=4, ab_range=5, epoch=700\n",
      "Previously saved model is of lower resolution; recomputing\n"
     ]
    },
    {
     "name": "stderr",
     "output_type": "stream",
     "text": [
      "Outer loop (a): 100%|██████████| 100/100 [00:47<00:00,  2.13it/s]\n"
     ]
    },
    {
     "name": "stdout",
     "output_type": "stream",
     "text": [
      "✅ Updated and saved new grid at ../backend/landscapes/mlp_5/spirals/train/range0.5/ep340\n",
      "Done: spirals, width=5, depth=1, ab_range=0.5, epoch=340\n",
      "Previously saved model is of lower resolution; recomputing\n"
     ]
    },
    {
     "name": "stderr",
     "output_type": "stream",
     "text": [
      "Outer loop (a): 100%|██████████| 100/100 [00:48<00:00,  2.07it/s]\n"
     ]
    },
    {
     "name": "stdout",
     "output_type": "stream",
     "text": [
      "✅ Updated and saved new grid at ../backend/landscapes/mlp_5/two_blobs_overlap/train/range0.5/ep700\n",
      "Done: two_blobs_overlap, width=5, depth=1, ab_range=0.5, epoch=700\n",
      "Previously saved model is of lower resolution; recomputing\n"
     ]
    },
    {
     "name": "stderr",
     "output_type": "stream",
     "text": [
      "Outer loop (a): 100%|██████████| 100/100 [00:47<00:00,  2.08it/s]\n"
     ]
    },
    {
     "name": "stdout",
     "output_type": "stream",
     "text": [
      "✅ Updated and saved new grid at ../backend/landscapes/mlp_5_5/four_corners/train/range0.2/ep970\n",
      "Done: four_corners, width=5, depth=2, ab_range=0.2, epoch=970\n",
      "Previously saved model is of lower resolution; recomputing\n"
     ]
    },
    {
     "name": "stderr",
     "output_type": "stream",
     "text": [
      "Outer loop (a): 100%|██████████| 100/100 [00:49<00:00,  2.03it/s]\n"
     ]
    },
    {
     "name": "stdout",
     "output_type": "stream",
     "text": [
      "✅ Updated and saved new grid at ../backend/landscapes/mlp_5_5/half_moons/train/range0.5/ep600\n",
      "Done: half_moons, width=5, depth=2, ab_range=0.5, epoch=600\n",
      "Previously saved model is of lower resolution; recomputing\n"
     ]
    },
    {
     "name": "stderr",
     "output_type": "stream",
     "text": [
      "Outer loop (a): 100%|██████████| 100/100 [00:50<00:00,  1.97it/s]\n"
     ]
    },
    {
     "name": "stdout",
     "output_type": "stream",
     "text": [
      "✅ Updated and saved new grid at ../backend/landscapes/mlp_5_5/two_blobs_separate/train/range0.2/ep730\n",
      "Done: two_blobs_separate, width=5, depth=2, ab_range=0.2, epoch=730\n",
      "Previously saved model is of lower resolution; recomputing\n"
     ]
    },
    {
     "name": "stderr",
     "output_type": "stream",
     "text": [
      "Outer loop (a): 100%|██████████| 100/100 [00:55<00:00,  1.81it/s]\n"
     ]
    },
    {
     "name": "stdout",
     "output_type": "stream",
     "text": [
      "✅ Updated and saved new grid at ../backend/landscapes/mlp_5_5_5_5/two_blobs_overlap/train/range0.2/ep710\n",
      "Done: two_blobs_overlap, width=5, depth=4, ab_range=0.2, epoch=710\n",
      "Previously saved model is of lower resolution; recomputing\n"
     ]
    },
    {
     "name": "stderr",
     "output_type": "stream",
     "text": [
      "Outer loop (a): 100%|██████████| 100/100 [00:53<00:00,  1.87it/s]\n"
     ]
    },
    {
     "name": "stdout",
     "output_type": "stream",
     "text": [
      "✅ Updated and saved new grid at ../backend/landscapes/mlp_5_5_5_5/two_blobs_overlap/train/range0.2/ep60\n",
      "Done: two_blobs_overlap, width=5, depth=4, ab_range=0.2, epoch=60\n",
      "Previously saved model is of lower resolution; recomputing\n"
     ]
    },
    {
     "name": "stderr",
     "output_type": "stream",
     "text": [
      "Outer loop (a): 100%|██████████| 100/100 [00:54<00:00,  1.84it/s]\n"
     ]
    },
    {
     "name": "stdout",
     "output_type": "stream",
     "text": [
      "✅ Updated and saved new grid at ../backend/landscapes/mlp_5_5_5_5/spirals/train/range5/ep710\n",
      "Done: spirals, width=5, depth=4, ab_range=5, epoch=710\n",
      "Previously saved model is of lower resolution; recomputing\n"
     ]
    },
    {
     "name": "stderr",
     "output_type": "stream",
     "text": [
      "Outer loop (a): 100%|██████████| 100/100 [00:48<00:00,  2.06it/s]\n"
     ]
    },
    {
     "name": "stdout",
     "output_type": "stream",
     "text": [
      "✅ Updated and saved new grid at ../backend/landscapes/mlp_5/spirals/train/range0.5/ep350\n",
      "Done: spirals, width=5, depth=1, ab_range=0.5, epoch=350\n",
      "Previously saved model is of lower resolution; recomputing\n"
     ]
    },
    {
     "name": "stderr",
     "output_type": "stream",
     "text": [
      "Outer loop (a): 100%|██████████| 100/100 [00:48<00:00,  2.08it/s]\n"
     ]
    },
    {
     "name": "stdout",
     "output_type": "stream",
     "text": [
      "✅ Updated and saved new grid at ../backend/landscapes/mlp_5/two_blobs_overlap/train/range0.5/ep710\n",
      "Done: two_blobs_overlap, width=5, depth=1, ab_range=0.5, epoch=710\n",
      "Previously saved model is of lower resolution; recomputing\n"
     ]
    },
    {
     "name": "stderr",
     "output_type": "stream",
     "text": [
      "Outer loop (a): 100%|██████████| 100/100 [00:47<00:00,  2.09it/s]\n"
     ]
    },
    {
     "name": "stdout",
     "output_type": "stream",
     "text": [
      "✅ Updated and saved new grid at ../backend/landscapes/mlp_5_5/four_corners/train/range0.2/ep980\n",
      "Done: four_corners, width=5, depth=2, ab_range=0.2, epoch=980\n",
      "Previously saved model is of lower resolution; recomputing\n"
     ]
    },
    {
     "name": "stderr",
     "output_type": "stream",
     "text": [
      "Outer loop (a): 100%|██████████| 100/100 [00:50<00:00,  1.99it/s]\n"
     ]
    },
    {
     "name": "stdout",
     "output_type": "stream",
     "text": [
      "✅ Updated and saved new grid at ../backend/landscapes/mlp_5_5/half_moons/train/range0.5/ep610\n",
      "Done: half_moons, width=5, depth=2, ab_range=0.5, epoch=610\n",
      "Previously saved model is of lower resolution; recomputing\n"
     ]
    },
    {
     "name": "stderr",
     "output_type": "stream",
     "text": [
      "Outer loop (a): 100%|██████████| 100/100 [00:50<00:00,  1.98it/s]\n"
     ]
    },
    {
     "name": "stdout",
     "output_type": "stream",
     "text": [
      "✅ Updated and saved new grid at ../backend/landscapes/mlp_5_5/two_blobs_separate/train/range0.2/ep740\n",
      "Done: two_blobs_separate, width=5, depth=2, ab_range=0.2, epoch=740\n",
      "Previously saved model is of lower resolution; recomputing\n"
     ]
    },
    {
     "name": "stderr",
     "output_type": "stream",
     "text": [
      "Outer loop (a): 100%|██████████| 100/100 [00:56<00:00,  1.78it/s]\n"
     ]
    },
    {
     "name": "stdout",
     "output_type": "stream",
     "text": [
      "✅ Updated and saved new grid at ../backend/landscapes/mlp_5_5_5_5/two_blobs_overlap/train/range0.2/ep720\n",
      "Done: two_blobs_overlap, width=5, depth=4, ab_range=0.2, epoch=720\n",
      "Previously saved model is of lower resolution; recomputing\n"
     ]
    },
    {
     "name": "stderr",
     "output_type": "stream",
     "text": [
      "Outer loop (a): 100%|██████████| 100/100 [00:47<00:00,  2.09it/s]\n"
     ]
    },
    {
     "name": "stdout",
     "output_type": "stream",
     "text": [
      "✅ Updated and saved new grid at ../backend/landscapes/mlp_5/spirals/train/range0.5/ep360\n",
      "Done: spirals, width=5, depth=1, ab_range=0.5, epoch=360\n",
      "Previously saved model is of lower resolution; recomputing\n"
     ]
    },
    {
     "name": "stderr",
     "output_type": "stream",
     "text": [
      "Outer loop (a): 100%|██████████| 100/100 [00:55<00:00,  1.81it/s]\n"
     ]
    },
    {
     "name": "stdout",
     "output_type": "stream",
     "text": [
      "✅ Updated and saved new grid at ../backend/landscapes/mlp_5_5_5_5/two_blobs_overlap/train/range0.2/ep70\n",
      "Done: two_blobs_overlap, width=5, depth=4, ab_range=0.2, epoch=70\n",
      "Previously saved model is of lower resolution; recomputing\n"
     ]
    },
    {
     "name": "stderr",
     "output_type": "stream",
     "text": [
      "Outer loop (a): 100%|██████████| 100/100 [00:55<00:00,  1.81it/s]\n"
     ]
    },
    {
     "name": "stdout",
     "output_type": "stream",
     "text": [
      "✅ Updated and saved new grid at ../backend/landscapes/mlp_5_5_5_5/spirals/train/range5/ep720\n",
      "Done: spirals, width=5, depth=4, ab_range=5, epoch=720\n",
      "Previously saved model is of lower resolution; recomputing\n"
     ]
    },
    {
     "name": "stderr",
     "output_type": "stream",
     "text": [
      "Outer loop (a): 100%|██████████| 100/100 [00:47<00:00,  2.11it/s]\n"
     ]
    },
    {
     "name": "stdout",
     "output_type": "stream",
     "text": [
      "✅ Updated and saved new grid at ../backend/landscapes/mlp_5/two_blobs_overlap/train/range0.5/ep720\n",
      "Done: two_blobs_overlap, width=5, depth=1, ab_range=0.5, epoch=720\n",
      "Previously saved model is of lower resolution; recomputing\n"
     ]
    },
    {
     "name": "stderr",
     "output_type": "stream",
     "text": [
      "Outer loop (a): 100%|██████████| 100/100 [00:49<00:00,  2.00it/s]\n"
     ]
    },
    {
     "name": "stdout",
     "output_type": "stream",
     "text": [
      "✅ Updated and saved new grid at ../backend/landscapes/mlp_5_5/four_corners/train/range0.2/ep990\n",
      "Done: four_corners, width=5, depth=2, ab_range=0.2, epoch=990\n",
      "Previously saved model is of lower resolution; recomputing\n"
     ]
    },
    {
     "name": "stderr",
     "output_type": "stream",
     "text": [
      "Outer loop (a): 100%|██████████| 100/100 [00:51<00:00,  1.93it/s]\n"
     ]
    },
    {
     "name": "stdout",
     "output_type": "stream",
     "text": [
      "✅ Updated and saved new grid at ../backend/landscapes/mlp_5_5/half_moons/train/range0.5/ep620\n",
      "Done: half_moons, width=5, depth=2, ab_range=0.5, epoch=620\n",
      "Previously saved model is of lower resolution; recomputing\n"
     ]
    },
    {
     "name": "stderr",
     "output_type": "stream",
     "text": [
      "Outer loop (a): 100%|██████████| 100/100 [00:50<00:00,  1.98it/s]\n"
     ]
    },
    {
     "name": "stdout",
     "output_type": "stream",
     "text": [
      "✅ Updated and saved new grid at ../backend/landscapes/mlp_5_5/two_blobs_separate/train/range0.2/ep750\n",
      "Done: two_blobs_separate, width=5, depth=2, ab_range=0.2, epoch=750\n",
      "Previously saved model is of lower resolution; recomputing\n"
     ]
    },
    {
     "name": "stderr",
     "output_type": "stream",
     "text": [
      "Outer loop (a): 100%|██████████| 100/100 [00:48<00:00,  2.07it/s]\n"
     ]
    },
    {
     "name": "stdout",
     "output_type": "stream",
     "text": [
      "✅ Updated and saved new grid at ../backend/landscapes/mlp_5/spirals/train/range0.5/ep370\n",
      "Done: spirals, width=5, depth=1, ab_range=0.5, epoch=370\n",
      "Done: four_corners, width=5, depth=4, ab_range=0.1, epoch=560\n",
      "Done: four_corners, width=5, depth=4, ab_range=0.1, epoch=570\n"
     ]
    },
    {
     "name": "stderr",
     "output_type": "stream",
     "text": [
      "Outer loop (a):  20%|██        | 20/100 [00:10<00:40,  1.96it/s]"
     ]
    },
    {
     "name": "stdout",
     "output_type": "stream",
     "text": [
      "Done: four_corners, width=5, depth=4, ab_range=0.1, epoch=580\n",
      "Done: four_corners, width=5, depth=4, ab_range=0.1, epoch=590\n",
      "Done: four_corners, width=5, depth=4, ab_range=0.1, epoch=600\n",
      "Done: four_corners, width=5, depth=4, ab_range=0.1, epoch=610\n",
      "Done: four_corners, width=5, depth=4, ab_range=0.1, epoch=620\n",
      "Done: four_corners, width=5, depth=4, ab_range=0.1, epoch=630\n",
      "Done: four_corners, width=5, depth=4, ab_range=0.1, epoch=640\n",
      "Done: four_corners, width=5, depth=4, ab_range=0.1, epoch=650\n",
      "Done: four_corners, width=5, depth=4, ab_range=0.1, epoch=660\n",
      "Done: four_corners, width=5, depth=4, ab_range=0.1, epoch=670\n",
      "Done: four_corners, width=5, depth=4, ab_range=0.1, epoch=680\n",
      "Done: four_corners, width=5, depth=4, ab_range=0.1, epoch=690\n",
      "Done: four_corners, width=5, depth=4, ab_range=0.1, epoch=700\n",
      "Done: four_corners, width=5, depth=4, ab_range=0.1, epoch=710\n",
      "Done: four_corners, width=5, depth=4, ab_range=0.1, epoch=720\n",
      "Done: four_corners, width=5, depth=4, ab_range=0.1, epoch=730\n",
      "Done: four_corners, width=5, depth=4, ab_range=0.1, epoch=740\n",
      "Done: four_corners, width=5, depth=4, ab_range=0.1, epoch=750\n",
      "Done: four_corners, width=5, depth=4, ab_range=0.1, epoch=760\n",
      "Done: four_corners, width=5, depth=4, ab_range=0.1, epoch=770\n",
      "Done: four_corners, width=5, depth=4, ab_range=0.1, epoch=780\n",
      "Done: four_corners, width=5, depth=4, ab_range=0.1, epoch=790\n",
      "Done: four_corners, width=5, depth=4, ab_range=0.1, epoch=800\n",
      "Done: four_corners, width=5, depth=4, ab_range=0.1, epoch=810\n",
      "Done: four_corners, width=5, depth=4, ab_range=0.1, epoch=820\n",
      "Done: four_corners, width=5, depth=4, ab_range=0.1, epoch=830\n",
      "Done: four_corners, width=5, depth=4, ab_range=0.1, epoch=840\n",
      "Done: four_corners, width=5, depth=4, ab_range=0.1, epoch=850\n",
      "Done: four_corners, width=5, depth=4, ab_range=0.1, epoch=860\n",
      "Done: four_corners, width=5, depth=4, ab_range=0.1, epoch=870\n",
      "Done: four_corners, width=5, depth=4, ab_range=0.1, epoch=880\n",
      "Done: four_corners, width=5, depth=4, ab_range=0.1, epoch=890\n",
      "Done: four_corners, width=5, depth=4, ab_range=0.1, epoch=900\n",
      "Done: four_corners, width=5, depth=4, ab_range=0.1, epoch=910\n",
      "Done: four_corners, width=5, depth=4, ab_range=0.1, epoch=920\n",
      "Done: four_corners, width=5, depth=4, ab_range=0.1, epoch=930\n",
      "Done: four_corners, width=5, depth=4, ab_range=0.1, epoch=940\n",
      "Done: four_corners, width=5, depth=4, ab_range=0.1, epoch=950\n",
      "Done: four_corners, width=5, depth=4, ab_range=0.1, epoch=960\n",
      "Done: four_corners, width=5, depth=4, ab_range=0.1, epoch=970\n",
      "Done: four_corners, width=5, depth=4, ab_range=0.1, epoch=980\n",
      "Done: four_corners, width=5, depth=4, ab_range=0.1, epoch=990\n",
      "Done: four_corners, width=5, depth=4, ab_range=0.1, epoch=1000\n",
      "Done: four_corners, width=5, depth=4, ab_range=1, epoch=0\n",
      "Done: four_corners, width=5, depth=4, ab_range=1, epoch=10\n",
      "Done: four_corners, width=5, depth=4, ab_range=1, epoch=20\n",
      "Done: four_corners, width=5, depth=4, ab_range=1, epoch=30\n",
      "Done: four_corners, width=5, depth=4, ab_range=1, epoch=40\n",
      "Done: four_corners, width=5, depth=4, ab_range=1, epoch=50\n",
      "Done: four_corners, width=5, depth=4, ab_range=1, epoch=60\n",
      "Done: four_corners, width=5, depth=4, ab_range=1, epoch=70\n",
      "Done: four_corners, width=5, depth=4, ab_range=1, epoch=80\n",
      "Done: four_corners, width=5, depth=4, ab_range=1, epoch=90\n",
      "Done: four_corners, width=5, depth=4, ab_range=1, epoch=100\n",
      "Done: four_corners, width=5, depth=4, ab_range=1, epoch=110\n",
      "Done: four_corners, width=5, depth=4, ab_range=1, epoch=120\n",
      "Done: four_corners, width=5, depth=4, ab_range=1, epoch=130\n",
      "Done: four_corners, width=5, depth=4, ab_range=1, epoch=140\n",
      "Done: four_corners, width=5, depth=4, ab_range=1, epoch=150\n",
      "Done: four_corners, width=5, depth=4, ab_range=1, epoch=160\n",
      "Done: four_corners, width=5, depth=4, ab_range=1, epoch=170\n",
      "Done: four_corners, width=5, depth=4, ab_range=1, epoch=180\n",
      "Done: four_corners, width=5, depth=4, ab_range=1, epoch=190\n",
      "Done: four_corners, width=5, depth=4, ab_range=1, epoch=200\n",
      "Done: four_corners, width=5, depth=4, ab_range=1, epoch=210\n",
      "Done: four_corners, width=5, depth=4, ab_range=1, epoch=220\n",
      "Done: four_corners, width=5, depth=4, ab_range=1, epoch=230\n",
      "Done: four_corners, width=5, depth=4, ab_range=1, epoch=240\n",
      "Done: four_corners, width=5, depth=4, ab_range=1, epoch=250\n",
      "Done: four_corners, width=5, depth=4, ab_range=1, epoch=260\n",
      "Done: four_corners, width=5, depth=4, ab_range=1, epoch=270\n",
      "Done: four_corners, width=5, depth=4, ab_range=1, epoch=280\n",
      "Done: four_corners, width=5, depth=4, ab_range=1, epoch=290\n",
      "Done: four_corners, width=5, depth=4, ab_range=1, epoch=300\n",
      "Done: four_corners, width=5, depth=4, ab_range=1, epoch=310\n",
      "Done: four_corners, width=5, depth=4, ab_range=1, epoch=320\n",
      "Done: four_corners, width=5, depth=4, ab_range=1, epoch=330\n",
      "Done: four_corners, width=5, depth=4, ab_range=1, epoch=340\n",
      "Done: four_corners, width=5, depth=4, ab_range=1, epoch=350\n",
      "Done: four_corners, width=5, depth=4, ab_range=1, epoch=360\n",
      "Done: four_corners, width=5, depth=4, ab_range=1, epoch=370\n",
      "Done: four_corners, width=5, depth=4, ab_range=1, epoch=380\n",
      "Done: four_corners, width=5, depth=4, ab_range=1, epoch=390\n",
      "Done: four_corners, width=5, depth=4, ab_range=1, epoch=400\n",
      "Done: four_corners, width=5, depth=4, ab_range=1, epoch=410\n",
      "Done: four_corners, width=5, depth=4, ab_range=1, epoch=420\n",
      "Done: four_corners, width=5, depth=4, ab_range=1, epoch=430\n",
      "Done: four_corners, width=5, depth=4, ab_range=1, epoch=440\n",
      "Done: four_corners, width=5, depth=4, ab_range=1, epoch=450\n",
      "Done: four_corners, width=5, depth=4, ab_range=1, epoch=460\n",
      "Done: four_corners, width=5, depth=4, ab_range=1, epoch=470\n",
      "Done: four_corners, width=5, depth=4, ab_range=1, epoch=480\n",
      "Done: four_corners, width=5, depth=4, ab_range=1, epoch=490\n",
      "Done: four_corners, width=5, depth=4, ab_range=1, epoch=500\n",
      "Done: four_corners, width=5, depth=4, ab_range=1, epoch=510\n",
      "Done: four_corners, width=5, depth=4, ab_range=1, epoch=520\n",
      "Done: four_corners, width=5, depth=4, ab_range=1, epoch=530\n",
      "Done: four_corners, width=5, depth=4, ab_range=1, epoch=540\n",
      "Done: four_corners, width=5, depth=4, ab_range=1, epoch=550\n",
      "Done: four_corners, width=5, depth=4, ab_range=1, epoch=560\n",
      "Done: four_corners, width=5, depth=4, ab_range=1, epoch=570\n",
      "Done: four_corners, width=5, depth=4, ab_range=1, epoch=580\n",
      "Done: four_corners, width=5, depth=4, ab_range=1, epoch=590\n",
      "Done: four_corners, width=5, depth=4, ab_range=1, epoch=600\n",
      "Done: four_corners, width=5, depth=4, ab_range=1, epoch=610\n",
      "Done: four_corners, width=5, depth=4, ab_range=1, epoch=620\n",
      "Done: four_corners, width=5, depth=4, ab_range=1, epoch=630\n",
      "Done: four_corners, width=5, depth=4, ab_range=1, epoch=640\n",
      "Done: four_corners, width=5, depth=4, ab_range=1, epoch=650\n",
      "Done: four_corners, width=5, depth=4, ab_range=1, epoch=660\n",
      "Done: four_corners, width=5, depth=4, ab_range=1, epoch=670\n",
      "Done: four_corners, width=5, depth=4, ab_range=1, epoch=680\n",
      "Done: four_corners, width=5, depth=4, ab_range=1, epoch=690\n",
      "Done: four_corners, width=5, depth=4, ab_range=1, epoch=700\n",
      "Done: four_corners, width=5, depth=4, ab_range=1, epoch=710\n"
     ]
    },
    {
     "name": "stderr",
     "output_type": "stream",
     "text": [
      "Outer loop (a):  74%|███████▍  | 74/100 [00:35<00:15,  1.71it/s]"
     ]
    },
    {
     "name": "stdout",
     "output_type": "stream",
     "text": [
      "Done: four_corners, width=5, depth=4, ab_range=1, epoch=720\n",
      "Done: four_corners, width=5, depth=4, ab_range=1, epoch=730\n",
      "Done: four_corners, width=5, depth=4, ab_range=1, epoch=740\n",
      "Done: four_corners, width=5, depth=4, ab_range=1, epoch=750\n",
      "Done: four_corners, width=5, depth=4, ab_range=1, epoch=760\n",
      "Done: four_corners, width=5, depth=4, ab_range=1, epoch=770\n",
      "Done: four_corners, width=5, depth=4, ab_range=1, epoch=780\n",
      "Done: four_corners, width=5, depth=4, ab_range=1, epoch=790\n",
      "Done: four_corners, width=5, depth=4, ab_range=1, epoch=800\n",
      "Done: four_corners, width=5, depth=4, ab_range=1, epoch=810\n",
      "Done: four_corners, width=5, depth=4, ab_range=1, epoch=820\n",
      "Done: four_corners, width=5, depth=4, ab_range=1, epoch=830\n",
      "Done: four_corners, width=5, depth=4, ab_range=1, epoch=840\n",
      "Done: four_corners, width=5, depth=4, ab_range=1, epoch=850\n",
      "Done: four_corners, width=5, depth=4, ab_range=1, epoch=860\n",
      "Done: four_corners, width=5, depth=4, ab_range=1, epoch=870\n",
      "Done: four_corners, width=5, depth=4, ab_range=1, epoch=880\n",
      "Done: four_corners, width=5, depth=4, ab_range=1, epoch=890\n",
      "Done: four_corners, width=5, depth=4, ab_range=1, epoch=900\n",
      "Done: four_corners, width=5, depth=4, ab_range=1, epoch=910\n",
      "Done: four_corners, width=5, depth=4, ab_range=1, epoch=920\n",
      "Done: four_corners, width=5, depth=4, ab_range=1, epoch=930\n",
      "Done: four_corners, width=5, depth=4, ab_range=1, epoch=940\n",
      "Done: four_corners, width=5, depth=4, ab_range=1, epoch=950\n",
      "Done: four_corners, width=5, depth=4, ab_range=1, epoch=960\n",
      "Done: four_corners, width=5, depth=4, ab_range=1, epoch=970\n",
      "Done: four_corners, width=5, depth=4, ab_range=1, epoch=980\n",
      "Done: four_corners, width=5, depth=4, ab_range=1, epoch=990\n",
      "Done: four_corners, width=5, depth=4, ab_range=1, epoch=1000\n",
      "Done: four_corners, width=5, depth=4, ab_range=10, epoch=0\n",
      "Done: four_corners, width=5, depth=4, ab_range=10, epoch=10\n",
      "Done: four_corners, width=5, depth=4, ab_range=10, epoch=20\n",
      "Done: four_corners, width=5, depth=4, ab_range=10, epoch=30\n",
      "Done: four_corners, width=5, depth=4, ab_range=10, epoch=40\n",
      "Done: four_corners, width=5, depth=4, ab_range=10, epoch=50\n",
      "Done: four_corners, width=5, depth=4, ab_range=10, epoch=60\n",
      "Done: four_corners, width=5, depth=4, ab_range=10, epoch=70\n",
      "Done: four_corners, width=5, depth=4, ab_range=10, epoch=80\n",
      "Done: four_corners, width=5, depth=4, ab_range=10, epoch=90\n",
      "Done: four_corners, width=5, depth=4, ab_range=10, epoch=100\n",
      "Done: four_corners, width=5, depth=4, ab_range=10, epoch=110\n",
      "Done: four_corners, width=5, depth=4, ab_range=10, epoch=120\n",
      "Done: four_corners, width=5, depth=4, ab_range=10, epoch=130\n",
      "Done: four_corners, width=5, depth=4, ab_range=10, epoch=140\n",
      "Done: four_corners, width=5, depth=4, ab_range=10, epoch=150\n",
      "Done: four_corners, width=5, depth=4, ab_range=10, epoch=160\n",
      "Done: four_corners, width=5, depth=4, ab_range=10, epoch=170\n",
      "Done: four_corners, width=5, depth=4, ab_range=10, epoch=180\n",
      "Done: four_corners, width=5, depth=4, ab_range=10, epoch=190\n",
      "Done: four_corners, width=5, depth=4, ab_range=10, epoch=200\n",
      "Done: four_corners, width=5, depth=4, ab_range=10, epoch=210\n",
      "Done: four_corners, width=5, depth=4, ab_range=10, epoch=220\n",
      "Done: four_corners, width=5, depth=4, ab_range=10, epoch=230\n",
      "Done: four_corners, width=5, depth=4, ab_range=10, epoch=240\n",
      "Done: four_corners, width=5, depth=4, ab_range=10, epoch=250\n",
      "Done: four_corners, width=5, depth=4, ab_range=10, epoch=260\n",
      "Done: four_corners, width=5, depth=4, ab_range=10, epoch=270\n",
      "Done: four_corners, width=5, depth=4, ab_range=10, epoch=280\n",
      "Done: four_corners, width=5, depth=4, ab_range=10, epoch=290\n",
      "Done: four_corners, width=5, depth=4, ab_range=10, epoch=300\n",
      "Done: four_corners, width=5, depth=4, ab_range=10, epoch=310\n",
      "Done: four_corners, width=5, depth=4, ab_range=10, epoch=320\n",
      "Done: four_corners, width=5, depth=4, ab_range=10, epoch=330\n",
      "Done: four_corners, width=5, depth=4, ab_range=10, epoch=340\n",
      "Done: four_corners, width=5, depth=4, ab_range=10, epoch=350\n",
      "Done: four_corners, width=5, depth=4, ab_range=10, epoch=360\n",
      "Done: four_corners, width=5, depth=4, ab_range=10, epoch=370\n",
      "Done: four_corners, width=5, depth=4, ab_range=10, epoch=380\n",
      "Done: four_corners, width=5, depth=4, ab_range=10, epoch=390\n",
      "Done: four_corners, width=5, depth=4, ab_range=10, epoch=400\n",
      "Done: four_corners, width=5, depth=4, ab_range=10, epoch=410\n",
      "Done: four_corners, width=5, depth=4, ab_range=10, epoch=420\n",
      "Done: four_corners, width=5, depth=4, ab_range=10, epoch=430\n",
      "Done: four_corners, width=5, depth=4, ab_range=10, epoch=440\n",
      "Done: four_corners, width=5, depth=4, ab_range=10, epoch=450\n",
      "Done: four_corners, width=5, depth=4, ab_range=10, epoch=460\n",
      "Done: four_corners, width=5, depth=4, ab_range=10, epoch=470\n",
      "Done: four_corners, width=5, depth=4, ab_range=10, epoch=480\n",
      "Done: four_corners, width=5, depth=4, ab_range=10, epoch=490\n",
      "Done: four_corners, width=5, depth=4, ab_range=10, epoch=500\n",
      "Done: four_corners, width=5, depth=4, ab_range=10, epoch=510\n",
      "Done: four_corners, width=5, depth=4, ab_range=10, epoch=520\n",
      "Done: four_corners, width=5, depth=4, ab_range=10, epoch=530\n",
      "Done: four_corners, width=5, depth=4, ab_range=10, epoch=540\n",
      "Done: four_corners, width=5, depth=4, ab_range=10, epoch=550\n",
      "Done: four_corners, width=5, depth=4, ab_range=10, epoch=560\n",
      "Done: four_corners, width=5, depth=4, ab_range=10, epoch=570\n",
      "Done: four_corners, width=5, depth=4, ab_range=10, epoch=580\n",
      "Done: four_corners, width=5, depth=4, ab_range=10, epoch=590\n",
      "Done: four_corners, width=5, depth=4, ab_range=10, epoch=600\n",
      "Done: four_corners, width=5, depth=4, ab_range=10, epoch=610\n",
      "Done: four_corners, width=5, depth=4, ab_range=10, epoch=620\n",
      "Done: four_corners, width=5, depth=4, ab_range=10, epoch=630\n",
      "Done: four_corners, width=5, depth=4, ab_range=10, epoch=640\n",
      "Done: four_corners, width=5, depth=4, ab_range=10, epoch=650\n",
      "Done: four_corners, width=5, depth=4, ab_range=10, epoch=660\n",
      "Done: four_corners, width=5, depth=4, ab_range=10, epoch=670\n",
      "Done: four_corners, width=5, depth=4, ab_range=10, epoch=680\n",
      "Done: four_corners, width=5, depth=4, ab_range=10, epoch=690\n",
      "Done: four_corners, width=5, depth=4, ab_range=10, epoch=700\n",
      "Done: four_corners, width=5, depth=4, ab_range=10, epoch=710\n",
      "Done: four_corners, width=5, depth=4, ab_range=10, epoch=720\n",
      "Done: four_corners, width=5, depth=4, ab_range=10, epoch=730\n",
      "Done: four_corners, width=5, depth=4, ab_range=10, epoch=740\n",
      "Done: four_corners, width=5, depth=4, ab_range=10, epoch=750\n",
      "Done: four_corners, width=5, depth=4, ab_range=10, epoch=760\n",
      "Done: four_corners, width=5, depth=4, ab_range=10, epoch=770\n",
      "Done: four_corners, width=5, depth=4, ab_range=10, epoch=780"
     ]
    },
    {
     "name": "stderr",
     "output_type": "stream",
     "text": [
      "Outer loop (a):  22%|██▏       | 22/100 [00:09<00:38,  2.04it/s]"
     ]
    },
    {
     "name": "stdout",
     "output_type": "stream",
     "text": [
      "\n",
      "Done: four_corners, width=5, depth=4, ab_range=10, epoch=790"
     ]
    },
    {
     "name": "stderr",
     "output_type": "stream",
     "text": [
      "Outer loop (a):  85%|████████▌ | 85/100 [00:42<00:07,  1.94it/s]"
     ]
    },
    {
     "name": "stdout",
     "output_type": "stream",
     "text": [
      "\n"
     ]
    },
    {
     "name": "stderr",
     "output_type": "stream",
     "text": [
      "Outer loop (a):  21%|██        | 21/100 [00:10<00:37,  2.11it/s]"
     ]
    },
    {
     "name": "stdout",
     "output_type": "stream",
     "text": [
      "Done: four_corners, width=5, depth=4, ab_range=10, epoch=800\n",
      "Done: four_corners, width=5, depth=4, ab_range=10, epoch=810\n",
      "Done: four_corners, width=5, depth=4, ab_range=10, epoch=820"
     ]
    },
    {
     "name": "stderr",
     "output_type": "stream",
     "text": [
      "Outer loop (a):  93%|█████████▎| 93/100 [00:50<00:03,  1.88it/s]"
     ]
    },
    {
     "name": "stdout",
     "output_type": "stream",
     "text": [
      "\n",
      "Done: four_corners, width=5, depth=4, ab_range=10, epoch=830\n",
      "Done: four_corners, width=5, depth=4, ab_range=10, epoch=840\n",
      "Done: four_corners, width=5, depth=4, ab_range=10, epoch=850\n",
      "Done: four_corners, width=5, depth=4, ab_range=10, epoch=860\n",
      "Done: four_corners, width=5, depth=4, ab_range=10, epoch=870\n",
      "Done: four_corners, width=5, depth=4, ab_range=10, epoch=880\n",
      "Done: four_corners, width=5, depth=4, ab_range=10, epoch=890\n",
      "Done: four_corners, width=5, depth=4, ab_range=10, epoch=900\n",
      "Done: four_corners, width=5, depth=4, ab_range=10, epoch=910\n",
      "Done: four_corners, width=5, depth=4, ab_range=10, epoch=920\n",
      "Done: four_corners, width=5, depth=4, ab_range=10, epoch=930\n",
      "Done: four_corners, width=5, depth=4, ab_range=10, epoch=940\n",
      "Done: four_corners, width=5, depth=4, ab_range=10, epoch=950\n",
      "Done: four_corners, width=5, depth=4, ab_range=10, epoch=960\n",
      "Done: four_corners, width=5, depth=4, ab_range=10, epoch=970\n",
      "Done: four_corners, width=5, depth=4, ab_range=10, epoch=980\n",
      "Done: four_corners, width=5, depth=4, ab_range=10, epoch=990\n",
      "Done: four_corners, width=5, depth=4, ab_range=10, epoch=1000\n",
      "Previously saved model is of lower resolution; recomputing\n"
     ]
    },
    {
     "name": "stderr",
     "output_type": "stream",
     "text": [
      "Outer loop (a): 100%|██████████| 100/100 [00:54<00:00,  1.85it/s]\n"
     ]
    },
    {
     "name": "stdout",
     "output_type": "stream",
     "text": [
      "✅ Updated and saved new grid at ../backend/landscapes/mlp_5_5_5_5/two_blobs_overlap/train/range0.2/ep730\n",
      "Done: two_blobs_overlap, width=5, depth=4, ab_range=0.2, epoch=730\n",
      "Previously saved model is of lower resolution; recomputing\n"
     ]
    },
    {
     "name": "stderr",
     "output_type": "stream",
     "text": [
      "Outer loop (a): 100%|██████████| 100/100 [00:54<00:00,  1.84it/s]\n"
     ]
    },
    {
     "name": "stdout",
     "output_type": "stream",
     "text": [
      "✅ Updated and saved new grid at ../backend/landscapes/mlp_5_5_5_5/two_blobs_overlap/train/range0.2/ep80\n",
      "Done: two_blobs_overlap, width=5, depth=4, ab_range=0.2, epoch=80\n",
      "Previously saved model is of lower resolution; recomputing\n"
     ]
    },
    {
     "name": "stderr",
     "output_type": "stream",
     "text": [
      "Outer loop (a): 100%|██████████| 100/100 [00:49<00:00,  2.02it/s]\n"
     ]
    },
    {
     "name": "stdout",
     "output_type": "stream",
     "text": [
      "✅ Updated and saved new grid at ../backend/landscapes/mlp_5/two_blobs_overlap/train/range0.5/ep730\n",
      "Done: two_blobs_overlap, width=5, depth=1, ab_range=0.5, epoch=730\n",
      "Previously saved model is of lower resolution; recomputing\n"
     ]
    },
    {
     "name": "stderr",
     "output_type": "stream",
     "text": [
      "Outer loop (a): 100%|██████████| 100/100 [00:53<00:00,  1.86it/s]\n"
     ]
    },
    {
     "name": "stdout",
     "output_type": "stream",
     "text": [
      "✅ Updated and saved new grid at ../backend/landscapes/mlp_5_5_5_5/spirals/train/range5/ep730\n",
      "Done: spirals, width=5, depth=4, ab_range=5, epoch=730\n",
      "Previously saved model is of lower resolution; recomputing\n"
     ]
    },
    {
     "name": "stderr",
     "output_type": "stream",
     "text": [
      "Outer loop (a): 100%|██████████| 100/100 [00:49<00:00,  2.02it/s]\n"
     ]
    },
    {
     "name": "stdout",
     "output_type": "stream",
     "text": [
      "✅ Updated and saved new grid at ../backend/landscapes/mlp_5_5/four_corners/train/range0.2/ep1000\n",
      "Done: four_corners, width=5, depth=2, ab_range=0.2, epoch=1000\n",
      "Previously saved model is of lower resolution; recomputing\n"
     ]
    },
    {
     "name": "stderr",
     "output_type": "stream",
     "text": [
      "Outer loop (a): 100%|██████████| 100/100 [00:50<00:00,  1.98it/s]\n"
     ]
    },
    {
     "name": "stdout",
     "output_type": "stream",
     "text": [
      "✅ Updated and saved new grid at ../backend/landscapes/mlp_5_5/half_moons/train/range0.5/ep630\n",
      "Done: half_moons, width=5, depth=2, ab_range=0.5, epoch=630\n"
     ]
    },
    {
     "name": "stderr",
     "output_type": "stream",
     "text": [
      "Outer loop (a):  66%|██████▌   | 66/100 [00:32<00:15,  2.25it/s]"
     ]
    },
    {
     "name": "stdout",
     "output_type": "stream",
     "text": [
      "Previously saved model is of lower resolution; recomputing\n"
     ]
    },
    {
     "name": "stderr",
     "output_type": "stream",
     "text": [
      "Outer loop (a): 100%|██████████| 100/100 [00:49<00:00,  2.02it/s]\n"
     ]
    },
    {
     "name": "stdout",
     "output_type": "stream",
     "text": [
      "✅ Updated and saved new grid at ../backend/landscapes/mlp_5_5/two_blobs_separate/train/range0.2/ep760\n",
      "Done: two_blobs_separate, width=5, depth=2, ab_range=0.2, epoch=760\n",
      "Previously saved model is of lower resolution; recomputing\n"
     ]
    },
    {
     "name": "stderr",
     "output_type": "stream",
     "text": [
      "Outer loop (a): 100%|██████████| 100/100 [00:53<00:00,  1.86it/s]\n"
     ]
    },
    {
     "name": "stdout",
     "output_type": "stream",
     "text": [
      "✅ Updated and saved new grid at ../backend/landscapes/mlp_5_5_5_5/four_corners/train/range2/ep0\n",
      "Done: four_corners, width=5, depth=4, ab_range=2, epoch=0\n",
      "Previously saved model is of lower resolution; recomputing\n"
     ]
    },
    {
     "name": "stderr",
     "output_type": "stream",
     "text": [
      "Outer loop (a): 100%|██████████| 100/100 [00:49<00:00,  2.03it/s]\n"
     ]
    },
    {
     "name": "stdout",
     "output_type": "stream",
     "text": [
      "✅ Updated and saved new grid at ../backend/landscapes/mlp_5/two_blobs_overlap/train/range0.5/ep740\n",
      "Done: two_blobs_overlap, width=5, depth=1, ab_range=0.5, epoch=740\n",
      "Previously saved model is of lower resolution; recomputing\n"
     ]
    },
    {
     "name": "stderr",
     "output_type": "stream",
     "text": [
      "Outer loop (a): 100%|██████████| 100/100 [00:53<00:00,  1.85it/s]\n"
     ]
    },
    {
     "name": "stdout",
     "output_type": "stream",
     "text": [
      "✅ Updated and saved new grid at ../backend/landscapes/mlp_5_5_5_5/two_blobs_overlap/train/range0.2/ep740\n",
      "Done: two_blobs_overlap, width=5, depth=4, ab_range=0.2, epoch=740\n",
      "Previously saved model is of lower resolution; recomputing\n"
     ]
    },
    {
     "name": "stderr",
     "output_type": "stream",
     "text": [
      "Outer loop (a): 100%|██████████| 100/100 [00:55<00:00,  1.82it/s]\n"
     ]
    },
    {
     "name": "stdout",
     "output_type": "stream",
     "text": [
      "✅ Updated and saved new grid at ../backend/landscapes/mlp_5_5_5_5/two_blobs_overlap/train/range0.2/ep90\n",
      "Done: two_blobs_overlap, width=5, depth=4, ab_range=0.2, epoch=90\n"
     ]
    },
    {
     "name": "stderr",
     "output_type": "stream",
     "text": [
      "Outer loop (a):  14%|█▍        | 14/100 [00:07<00:44,  1.92it/s]"
     ]
    },
    {
     "name": "stdout",
     "output_type": "stream",
     "text": [
      "Previously saved model is of lower resolution; recomputing\n"
     ]
    },
    {
     "name": "stderr",
     "output_type": "stream",
     "text": [
      "Outer loop (a): 100%|██████████| 100/100 [00:49<00:00,  2.02it/s]\n"
     ]
    },
    {
     "name": "stdout",
     "output_type": "stream",
     "text": [
      "✅ Updated and saved new grid at ../backend/landscapes/mlp_5_5/four_corners/train/range0.5/ep0\n",
      "Done: four_corners, width=5, depth=2, ab_range=0.5, epoch=0\n",
      "Previously saved model is of lower resolution; recomputing\n"
     ]
    },
    {
     "name": "stderr",
     "output_type": "stream",
     "text": [
      "Outer loop (a): 100%|██████████| 100/100 [00:56<00:00,  1.78it/s]\n"
     ]
    },
    {
     "name": "stdout",
     "output_type": "stream",
     "text": [
      "✅ Updated and saved new grid at ../backend/landscapes/mlp_5_5_5_5/spirals/train/range5/ep740\n",
      "Done: spirals, width=5, depth=4, ab_range=5, epoch=740\n",
      "Previously saved model is of lower resolution; recomputing\n"
     ]
    },
    {
     "name": "stderr",
     "output_type": "stream",
     "text": [
      "Outer loop (a): 100%|██████████| 100/100 [00:51<00:00,  1.95it/s]\n"
     ]
    },
    {
     "name": "stdout",
     "output_type": "stream",
     "text": [
      "✅ Updated and saved new grid at ../backend/landscapes/mlp_5_5/half_moons/train/range0.5/ep640\n",
      "Done: half_moons, width=5, depth=2, ab_range=0.5, epoch=640\n",
      "Previously saved model is of lower resolution; recomputing\n"
     ]
    },
    {
     "name": "stderr",
     "output_type": "stream",
     "text": [
      "Outer loop (a): 100%|██████████| 100/100 [00:51<00:00,  1.94it/s]\n"
     ]
    },
    {
     "name": "stdout",
     "output_type": "stream",
     "text": [
      "✅ Updated and saved new grid at ../backend/landscapes/mlp_5_5/two_blobs_separate/train/range0.2/ep770\n",
      "Done: two_blobs_separate, width=5, depth=2, ab_range=0.2, epoch=770\n",
      "Previously saved model is of lower resolution; recomputing\n"
     ]
    },
    {
     "name": "stderr",
     "output_type": "stream",
     "text": [
      "Outer loop (a): 100%|██████████| 100/100 [00:48<00:00,  2.05it/s]\n"
     ]
    },
    {
     "name": "stdout",
     "output_type": "stream",
     "text": [
      "✅ Updated and saved new grid at ../backend/landscapes/mlp_5/two_blobs_overlap/train/range0.5/ep750\n",
      "Done: two_blobs_overlap, width=5, depth=1, ab_range=0.5, epoch=750\n",
      "Previously saved model is of lower resolution; recomputing\n"
     ]
    },
    {
     "name": "stderr",
     "output_type": "stream",
     "text": [
      "Outer loop (a): 100%|██████████| 100/100 [00:54<00:00,  1.83it/s]\n"
     ]
    },
    {
     "name": "stdout",
     "output_type": "stream",
     "text": [
      "✅ Updated and saved new grid at ../backend/landscapes/mlp_5_5_5_5/four_corners/train/range2/ep10\n",
      "Done: four_corners, width=5, depth=4, ab_range=2, epoch=10\n",
      "Previously saved model is of lower resolution; recomputing\n"
     ]
    },
    {
     "name": "stderr",
     "output_type": "stream",
     "text": [
      "Outer loop (a): 100%|██████████| 100/100 [00:54<00:00,  1.84it/s]\n"
     ]
    },
    {
     "name": "stdout",
     "output_type": "stream",
     "text": [
      "✅ Updated and saved new grid at ../backend/landscapes/mlp_5_5_5_5/two_blobs_overlap/train/range0.2/ep750\n",
      "Done: two_blobs_overlap, width=5, depth=4, ab_range=0.2, epoch=750"
     ]
    },
    {
     "name": "stderr",
     "output_type": "stream",
     "text": [
      "Outer loop (a):  14%|█▍        | 14/100 [00:06<00:45,  1.91it/s]"
     ]
    },
    {
     "name": "stdout",
     "output_type": "stream",
     "text": [
      "\n",
      "Previously saved model is of lower resolution; recomputing\n"
     ]
    },
    {
     "name": "stderr",
     "output_type": "stream",
     "text": [
      "Outer loop (a): 100%|██████████| 100/100 [00:52<00:00,  1.90it/s]\n"
     ]
    },
    {
     "name": "stdout",
     "output_type": "stream",
     "text": [
      "✅ Updated and saved new grid at ../backend/landscapes/mlp_5_5/four_corners/train/range0.5/ep10\n",
      "Done: four_corners, width=5, depth=2, ab_range=0.5, epoch=10\n",
      "Previously saved model is of lower resolution; recomputing\n"
     ]
    },
    {
     "name": "stderr",
     "output_type": "stream",
     "text": [
      "Outer loop (a): 100%|██████████| 100/100 [00:55<00:00,  1.79it/s]\n"
     ]
    },
    {
     "name": "stdout",
     "output_type": "stream",
     "text": [
      "✅ Updated and saved new grid at ../backend/landscapes/mlp_5_5_5_5/two_blobs_overlap/train/range0.2/ep100\n",
      "Done: two_blobs_overlap, width=5, depth=4, ab_range=0.2, epoch=100\n",
      "Previously saved model is of lower resolution; recomputing\n"
     ]
    },
    {
     "name": "stderr",
     "output_type": "stream",
     "text": [
      "Outer loop (a): 100%|██████████| 100/100 [00:54<00:00,  1.82it/s]\n"
     ]
    },
    {
     "name": "stdout",
     "output_type": "stream",
     "text": [
      "✅ Updated and saved new grid at ../backend/landscapes/mlp_5_5_5_5/spirals/train/range5/ep750\n",
      "Done: spirals, width=5, depth=4, ab_range=5, epoch=750\n",
      "Previously saved model is of lower resolution; recomputing\n"
     ]
    },
    {
     "name": "stderr",
     "output_type": "stream",
     "text": [
      "Outer loop (a): 100%|██████████| 100/100 [00:49<00:00,  2.02it/s]\n"
     ]
    },
    {
     "name": "stdout",
     "output_type": "stream",
     "text": [
      "✅ Updated and saved new grid at ../backend/landscapes/mlp_5_5/half_moons/train/range0.5/ep650\n",
      "Done: half_moons, width=5, depth=2, ab_range=0.5, epoch=650\n",
      "Previously saved model is of lower resolution; recomputing\n"
     ]
    },
    {
     "name": "stderr",
     "output_type": "stream",
     "text": [
      "Outer loop (a): 100%|██████████| 100/100 [00:50<00:00,  2.00it/s]\n"
     ]
    },
    {
     "name": "stdout",
     "output_type": "stream",
     "text": [
      "✅ Updated and saved new grid at ../backend/landscapes/mlp_5_5/two_blobs_separate/train/range0.2/ep780\n",
      "Done: two_blobs_separate, width=5, depth=2, ab_range=0.2, epoch=780\n",
      "Previously saved model is of lower resolution; recomputing\n"
     ]
    },
    {
     "name": "stderr",
     "output_type": "stream",
     "text": [
      "Outer loop (a): 100%|██████████| 100/100 [00:48<00:00,  2.08it/s]\n"
     ]
    },
    {
     "name": "stdout",
     "output_type": "stream",
     "text": [
      "✅ Updated and saved new grid at ../backend/landscapes/mlp_5/two_blobs_overlap/train/range0.5/ep760\n",
      "Done: two_blobs_overlap, width=5, depth=1, ab_range=0.5, epoch=760\n",
      "Previously saved model is of lower resolution; recomputing\n"
     ]
    },
    {
     "name": "stderr",
     "output_type": "stream",
     "text": [
      "Outer loop (a): 100%|██████████| 100/100 [00:53<00:00,  1.88it/s]\n"
     ]
    },
    {
     "name": "stdout",
     "output_type": "stream",
     "text": [
      "✅ Updated and saved new grid at ../backend/landscapes/mlp_5_5_5_5/four_corners/train/range2/ep20\n",
      "Done: four_corners, width=5, depth=4, ab_range=2, epoch=20\n",
      "Previously saved model is of lower resolution; recomputing\n"
     ]
    },
    {
     "name": "stderr",
     "output_type": "stream",
     "text": [
      "Outer loop (a): 100%|██████████| 100/100 [00:54<00:00,  1.85it/s]\n"
     ]
    },
    {
     "name": "stdout",
     "output_type": "stream",
     "text": [
      "✅ Updated and saved new grid at ../backend/landscapes/mlp_5_5_5_5/two_blobs_overlap/train/range0.2/ep760\n",
      "Done: two_blobs_overlap, width=5, depth=4, ab_range=0.2, epoch=760\n",
      "Previously saved model is of lower resolution; recomputing\n"
     ]
    },
    {
     "name": "stderr",
     "output_type": "stream",
     "text": [
      "Outer loop (a): 100%|██████████| 100/100 [00:51<00:00,  1.95it/s]\n",
      "Outer loop (a):  10%|█         | 10/100 [00:06<00:57,  1.57it/s]"
     ]
    },
    {
     "name": "stdout",
     "output_type": "stream",
     "text": [
      "✅ Updated and saved new grid at ../backend/landscapes/mlp_5_5/four_corners/train/range0.5/ep20\n",
      "Done: four_corners, width=5, depth=2, ab_range=0.5, epoch=20\n",
      "Previously saved model is of lower resolution; recomputing\n"
     ]
    },
    {
     "name": "stderr",
     "output_type": "stream",
     "text": [
      "Outer loop (a): 100%|██████████| 100/100 [00:55<00:00,  1.81it/s]\n"
     ]
    },
    {
     "name": "stdout",
     "output_type": "stream",
     "text": [
      "✅ Updated and saved new grid at ../backend/landscapes/mlp_5_5_5_5/two_blobs_overlap/train/range0.2/ep110\n",
      "Done: two_blobs_overlap, width=5, depth=4, ab_range=0.2, epoch=110\n",
      "Previously saved model is of lower resolution; recomputing\n"
     ]
    },
    {
     "name": "stderr",
     "output_type": "stream",
     "text": [
      "Outer loop (a): 100%|██████████| 100/100 [00:55<00:00,  1.79it/s]\n"
     ]
    },
    {
     "name": "stdout",
     "output_type": "stream",
     "text": [
      "✅ Updated and saved new grid at ../backend/landscapes/mlp_5_5_5_5/spirals/train/range5/ep760\n",
      "Done: spirals, width=5, depth=4, ab_range=5, epoch=760"
     ]
    },
    {
     "name": "stderr",
     "output_type": "stream",
     "text": [
      "Outer loop (a):  73%|███████▎  | 73/100 [00:37<00:14,  1.83it/s]"
     ]
    },
    {
     "name": "stdout",
     "output_type": "stream",
     "text": [
      "\n",
      "Previously saved model is of lower resolution; recomputing\n"
     ]
    },
    {
     "name": "stderr",
     "output_type": "stream",
     "text": [
      "Outer loop (a): 100%|██████████| 100/100 [00:50<00:00,  1.98it/s]\n"
     ]
    },
    {
     "name": "stdout",
     "output_type": "stream",
     "text": [
      "✅ Updated and saved new grid at ../backend/landscapes/mlp_5_5/half_moons/train/range0.5/ep660\n",
      "Done: half_moons, width=5, depth=2, ab_range=0.5, epoch=660\n",
      "Previously saved model is of lower resolution; recomputing\n"
     ]
    },
    {
     "name": "stderr",
     "output_type": "stream",
     "text": [
      "Outer loop (a): 100%|██████████| 100/100 [00:52<00:00,  1.91it/s]\n",
      "Outer loop (a):  57%|█████▋    | 57/100 [00:32<00:21,  2.02it/s]"
     ]
    },
    {
     "name": "stdout",
     "output_type": "stream",
     "text": [
      "✅ Updated and saved new grid at ../backend/landscapes/mlp_5_5/two_blobs_separate/train/range0.2/ep790\n",
      "Done: two_blobs_separate, width=5, depth=2, ab_range=0.2, epoch=790\n",
      "Previously saved model is of lower resolution; recomputing\n"
     ]
    },
    {
     "name": "stderr",
     "output_type": "stream",
     "text": [
      "Outer loop (a): 100%|██████████| 100/100 [00:48<00:00,  2.06it/s]\n"
     ]
    },
    {
     "name": "stdout",
     "output_type": "stream",
     "text": [
      "✅ Updated and saved new grid at ../backend/landscapes/mlp_5/two_blobs_overlap/train/range0.5/ep770\n",
      "Done: two_blobs_overlap, width=5, depth=1, ab_range=0.5, epoch=770\n",
      "Previously saved model is of lower resolution; recomputing\n"
     ]
    },
    {
     "name": "stderr",
     "output_type": "stream",
     "text": [
      "Outer loop (a): 100%|██████████| 100/100 [00:48<00:00,  2.06it/s]\n"
     ]
    },
    {
     "name": "stdout",
     "output_type": "stream",
     "text": [
      "✅ Updated and saved new grid at ../backend/landscapes/mlp_5_5/four_corners/train/range0.5/ep30\n",
      "Done: four_corners, width=5, depth=2, ab_range=0.5, epoch=30\n",
      "Previously saved model is of lower resolution; recomputing\n"
     ]
    },
    {
     "name": "stderr",
     "output_type": "stream",
     "text": [
      "Outer loop (a): 100%|██████████| 100/100 [00:55<00:00,  1.79it/s]\n"
     ]
    },
    {
     "name": "stdout",
     "output_type": "stream",
     "text": [
      "✅ Updated and saved new grid at ../backend/landscapes/mlp_5_5_5_5/four_corners/train/range2/ep30\n",
      "Done: four_corners, width=5, depth=4, ab_range=2, epoch=30\n",
      "Previously saved model is of lower resolution; recomputing\n"
     ]
    },
    {
     "name": "stderr",
     "output_type": "stream",
     "text": [
      "Outer loop (a): 100%|██████████| 100/100 [00:55<00:00,  1.80it/s]\n"
     ]
    },
    {
     "name": "stdout",
     "output_type": "stream",
     "text": [
      "✅ Updated and saved new grid at ../backend/landscapes/mlp_5_5_5_5/two_blobs_overlap/train/range0.2/ep770\n",
      "Done: two_blobs_overlap, width=5, depth=4, ab_range=0.2, epoch=770\n",
      "Previously saved model is of lower resolution; recomputing\n"
     ]
    },
    {
     "name": "stderr",
     "output_type": "stream",
     "text": [
      "Outer loop (a): 100%|██████████| 100/100 [00:53<00:00,  1.87it/s]\n"
     ]
    },
    {
     "name": "stdout",
     "output_type": "stream",
     "text": [
      "✅ Updated and saved new grid at ../backend/landscapes/mlp_5_5_5_5/two_blobs_overlap/train/range0.2/ep120\n",
      "Done: two_blobs_overlap, width=5, depth=4, ab_range=0.2, epoch=120\n",
      "Done: four_corners, width=5, depth=4, ab_range=0.5, epoch=30\n",
      "Done: four_corners, width=5, depth=4, ab_range=0.5, epoch=40\n",
      "Done: four_corners, width=5, depth=4, ab_range=0.5, epoch=50\n",
      "Done: four_corners, width=5, depth=4, ab_range=0.5, epoch=60\n",
      "Done: four_corners, width=5, depth=4, ab_range=0.5, epoch=70\n",
      "Done: four_corners, width=5, depth=4, ab_range=0.5, epoch=80\n",
      "Done: four_corners, width=5, depth=4, ab_range=0.5, epoch=90\n",
      "Done: four_corners, width=5, depth=4, ab_range=0.5, epoch=100\n",
      "Done: four_corners, width=5, depth=4, ab_range=0.5, epoch=110\n",
      "Done: four_corners, width=5, depth=4, ab_range=0.5, epoch=120\n",
      "Done: four_corners, width=5, depth=4, ab_range=0.5, epoch=130\n",
      "Done: four_corners, width=5, depth=4, ab_range=0.5, epoch=140\n",
      "Done: four_corners, width=5, depth=4, ab_range=0.5, epoch=150\n",
      "Done: four_corners, width=5, depth=4, ab_range=0.5, epoch=160\n",
      "Done: four_corners, width=5, depth=4, ab_range=0.5, epoch=170\n",
      "Done: four_corners, width=5, depth=4, ab_range=0.5, epoch=180\n",
      "Done: four_corners, width=5, depth=4, ab_range=0.5, epoch=190\n",
      "Done: four_corners, width=5, depth=4, ab_range=0.5, epoch=200\n",
      "Done: four_corners, width=5, depth=4, ab_range=0.5, epoch=210\n",
      "Done: four_corners, width=5, depth=4, ab_range=0.5, epoch=220\n",
      "Done: four_corners, width=5, depth=4, ab_range=0.5, epoch=230\n",
      "Done: four_corners, width=5, depth=4, ab_range=0.5, epoch=240\n",
      "Done: four_corners, width=5, depth=4, ab_range=0.5, epoch=250\n",
      "Done: four_corners, width=5, depth=4, ab_range=0.5, epoch=260\n",
      "Done: four_corners, width=5, depth=4, ab_range=0.5, epoch=270\n",
      "Done: four_corners, width=5, depth=4, ab_range=0.5, epoch=280\n",
      "Done: four_corners, width=5, depth=4, ab_range=0.5, epoch=290\n",
      "Done: four_corners, width=5, depth=4, ab_range=0.5, epoch=300\n",
      "Done: four_corners, width=5, depth=4, ab_range=0.5, epoch=310\n",
      "Done: four_corners, width=5, depth=4, ab_range=0.5, epoch=320\n",
      "Done: four_corners, width=5, depth=4, ab_range=0.5, epoch=330\n",
      "Done: four_corners, width=5, depth=4, ab_range=0.5, epoch=340\n",
      "Done: four_corners, width=5, depth=4, ab_range=0.5, epoch=350\n",
      "Done: four_corners, width=5, depth=4, ab_range=0.5, epoch=360\n",
      "Done: four_corners, width=5, depth=4, ab_range=0.5, epoch=370\n",
      "Done: four_corners, width=5, depth=4, ab_range=0.5, epoch=380\n",
      "Done: four_corners, width=5, depth=4, ab_range=0.5, epoch=390\n",
      "Done: four_corners, width=5, depth=4, ab_range=0.5, epoch=400\n",
      "Done: four_corners, width=5, depth=4, ab_range=0.5, epoch=410\n",
      "Done: four_corners, width=5, depth=4, ab_range=0.5, epoch=420\n",
      "Done: four_corners, width=5, depth=4, ab_range=0.5, epoch=430\n",
      "Done: four_corners, width=5, depth=4, ab_range=0.5, epoch=440\n",
      "Done: four_corners, width=5, depth=4, ab_range=0.5, epoch=450\n",
      "Done: four_corners, width=5, depth=4, ab_range=0.5, epoch=460\n",
      "Done: four_corners, width=5, depth=4, ab_range=0.5, epoch=470\n",
      "Done: four_corners, width=5, depth=4, ab_range=0.5, epoch=480\n",
      "Done: four_corners, width=5, depth=4, ab_range=0.5, epoch=490\n",
      "Done: four_corners, width=5, depth=4, ab_range=0.5, epoch=500\n",
      "Done: four_corners, width=5, depth=4, ab_range=0.5, epoch=510\n",
      "Done: four_corners, width=5, depth=4, ab_range=0.5, epoch=520\n",
      "Done: four_corners, width=5, depth=4, ab_range=0.5, epoch=530\n",
      "Done: four_corners, width=5, depth=4, ab_range=0.5, epoch=540\n",
      "Done: four_corners, width=5, depth=4, ab_range=0.5, epoch=550\n",
      "Done: four_corners, width=5, depth=4, ab_range=0.5, epoch=560\n",
      "Done: four_corners, width=5, depth=4, ab_range=0.5, epoch=570\n",
      "Done: four_corners, width=5, depth=4, ab_range=0.5, epoch=580\n",
      "Done: four_corners, width=5, depth=4, ab_range=0.5, epoch=590\n",
      "Done: four_corners, width=5, depth=4, ab_range=0.5, epoch=600\n",
      "Done: four_corners, width=5, depth=4, ab_range=0.5, epoch=610\n",
      "Done: four_corners, width=5, depth=4, ab_range=0.5, epoch=620\n",
      "Done: four_corners, width=5, depth=4, ab_range=0.5, epoch=630\n",
      "Done: four_corners, width=5, depth=4, ab_range=0.5, epoch=640\n",
      "Done: four_corners, width=5, depth=4, ab_range=0.5, epoch=650\n",
      "Done: four_corners, width=5, depth=4, ab_range=0.5, epoch=660\n",
      "Done: four_corners, width=5, depth=4, ab_range=0.5, epoch=670\n",
      "Done: four_corners, width=5, depth=4, ab_range=0.5, epoch=680\n",
      "Done: four_corners, width=5, depth=4, ab_range=0.5, epoch=690\n",
      "Done: four_corners, width=5, depth=4, ab_range=0.5, epoch=700\n",
      "Done: four_corners, width=5, depth=4, ab_range=0.5, epoch=710\n",
      "Done: four_corners, width=5, depth=4, ab_range=0.5, epoch=720\n",
      "Done: four_corners, width=5, depth=4, ab_range=0.5, epoch=730\n",
      "Done: four_corners, width=5, depth=4, ab_range=0.5, epoch=740\n",
      "Done: four_corners, width=5, depth=4, ab_range=0.5, epoch=750\n",
      "Done: four_corners, width=5, depth=4, ab_range=0.5, epoch=760\n",
      "Done: four_corners, width=5, depth=4, ab_range=0.5, epoch=770\n",
      "Done: four_corners, width=5, depth=4, ab_range=0.5, epoch=780\n",
      "Done: four_corners, width=5, depth=4, ab_range=0.5, epoch=790\n",
      "Done: four_corners, width=5, depth=4, ab_range=0.5, epoch=800\n",
      "Done: four_corners, width=5, depth=4, ab_range=0.5, epoch=810\n",
      "Done: four_corners, width=5, depth=4, ab_range=0.5, epoch=820\n",
      "Done: four_corners, width=5, depth=4, ab_range=0.5, epoch=830\n",
      "Done: four_corners, width=5, depth=4, ab_range=0.5, epoch=840\n",
      "Done: four_corners, width=5, depth=4, ab_range=0.5, epoch=850\n",
      "Done: four_corners, width=5, depth=4, ab_range=0.5, epoch=860\n",
      "Done: four_corners, width=5, depth=4, ab_range=0.5, epoch=870\n",
      "Done: four_corners, width=5, depth=4, ab_range=0.5, epoch=880\n",
      "Done: four_corners, width=5, depth=4, ab_range=0.5, epoch=890\n",
      "Done: four_corners, width=5, depth=4, ab_range=0.5, epoch=900\n",
      "Done: four_corners, width=5, depth=4, ab_range=0.5, epoch=910\n",
      "Done: four_corners, width=5, depth=4, ab_range=0.5, epoch=920\n",
      "Done: four_corners, width=5, depth=4, ab_range=0.5, epoch=930\n",
      "Done: four_corners, width=5, depth=4, ab_range=0.5, epoch=940\n",
      "Done: four_corners, width=5, depth=4, ab_range=0.5, epoch=950\n",
      "Done: four_corners, width=5, depth=4, ab_range=0.5, epoch=960\n",
      "Done: four_corners, width=5, depth=4, ab_range=0.5, epoch=970"
     ]
    },
    {
     "name": "stderr",
     "output_type": "stream",
     "text": [
      "Outer loop (a):  86%|████████▌ | 86/100 [00:47<00:07,  1.82it/s]"
     ]
    },
    {
     "name": "stdout",
     "output_type": "stream",
     "text": [
      "\n",
      "Done: four_corners, width=5, depth=4, ab_range=0.5, epoch=980\n",
      "Done: four_corners, width=5, depth=4, ab_range=0.5, epoch=990\n",
      "Done: four_corners, width=5, depth=4, ab_range=0.5, epoch=1000\n",
      "Done: two_blobs_separate, width=5, depth=8, ab_range=0.1, epoch=0\n",
      "Done: two_blobs_separate, width=5, depth=8, ab_range=0.1, epoch=10\n",
      "Done: two_blobs_separate, width=5, depth=8, ab_range=0.1, epoch=20\n",
      "Done: two_blobs_separate, width=5, depth=8, ab_range=0.1, epoch=30\n",
      "Done: two_blobs_separate, width=5, depth=8, ab_range=0.1, epoch=40\n",
      "Done: two_blobs_separate, width=5, depth=8, ab_range=0.1, epoch=50\n",
      "Done: two_blobs_separate, width=5, depth=8, ab_range=0.1, epoch=60\n",
      "Done: two_blobs_separate, width=5, depth=8, ab_range=0.1, epoch=70\n",
      "Done: two_blobs_separate, width=5, depth=8, ab_range=0.1, epoch=80\n",
      "Done: two_blobs_separate, width=5, depth=8, ab_range=0.1, epoch=90\n",
      "Done: two_blobs_separate, width=5, depth=8, ab_range=0.1, epoch=100\n",
      "Done: two_blobs_separate, width=5, depth=8, ab_range=0.1, epoch=110\n",
      "Done: two_blobs_separate, width=5, depth=8, ab_range=0.1, epoch=120\n",
      "Done: two_blobs_separate, width=5, depth=8, ab_range=0.1, epoch=130\n",
      "Done: two_blobs_separate, width=5, depth=8, ab_range=0.1, epoch=140\n",
      "Done: two_blobs_separate, width=5, depth=8, ab_range=0.1, epoch=150\n",
      "Done: two_blobs_separate, width=5, depth=8, ab_range=0.1, epoch=160\n",
      "Done: two_blobs_separate, width=5, depth=8, ab_range=0.1, epoch=170\n",
      "Done: two_blobs_separate, width=5, depth=8, ab_range=0.1, epoch=180\n",
      "Done: two_blobs_separate, width=5, depth=8, ab_range=0.1, epoch=190\n",
      "Done: two_blobs_separate, width=5, depth=8, ab_range=0.1, epoch=200\n"
     ]
    },
    {
     "name": "stderr",
     "output_type": "stream",
     "text": [
      "Outer loop (a):  52%|█████▏    | 52/100 [00:23<00:22,  2.18it/s]"
     ]
    },
    {
     "name": "stdout",
     "output_type": "stream",
     "text": [
      "Done: two_blobs_separate, width=5, depth=8, ab_range=0.1, epoch=210\n",
      "Done: two_blobs_separate, width=5, depth=8, ab_range=0.1, epoch=220\n",
      "Done: two_blobs_separate, width=5, depth=8, ab_range=0.1, epoch=230\n",
      "Done: two_blobs_separate, width=5, depth=8, ab_range=0.1, epoch=240\n",
      "Done: two_blobs_separate, width=5, depth=8, ab_range=0.1, epoch=250\n",
      "Done: two_blobs_separate, width=5, depth=8, ab_range=0.1, epoch=260\n",
      "Done: two_blobs_separate, width=5, depth=8, ab_range=0.1, epoch=270\n"
     ]
    },
    {
     "name": "stderr",
     "output_type": "stream",
     "text": [
      "Outer loop (a):   7%|▋         | 7/100 [00:03<00:54,  1.70it/s]"
     ]
    },
    {
     "name": "stdout",
     "output_type": "stream",
     "text": [
      "Done: two_blobs_separate, width=5, depth=8, ab_range=0.1, epoch=280\n",
      "Done: two_blobs_separate, width=5, depth=8, ab_range=0.1, epoch=290\n",
      "Done: two_blobs_separate, width=5, depth=8, ab_range=0.1, epoch=300\n",
      "Done: two_blobs_separate, width=5, depth=8, ab_range=0.1, epoch=310\n",
      "Done: two_blobs_separate, width=5, depth=8, ab_range=0.1, epoch=320\n",
      "Done: two_blobs_separate, width=5, depth=8, ab_range=0.1, epoch=330\n",
      "Done: two_blobs_separate, width=5, depth=8, ab_range=0.1, epoch=340\n",
      "Done: two_blobs_separate, width=5, depth=8, ab_range=0.1, epoch=350\n",
      "Done: two_blobs_separate, width=5, depth=8, ab_range=0.1, epoch=360\n",
      "Done: two_blobs_separate, width=5, depth=8, ab_range=0.1, epoch=370\n",
      "Done: two_blobs_separate, width=5, depth=8, ab_range=0.1, epoch=380\n",
      "Done: two_blobs_separate, width=5, depth=8, ab_range=0.1, epoch=390\n",
      "Done: two_blobs_separate, width=5, depth=8, ab_range=0.1, epoch=400\n",
      "Done: two_blobs_separate, width=5, depth=8, ab_range=0.1, epoch=410\n",
      "Done: two_blobs_separate, width=5, depth=8, ab_range=0.1, epoch=420\n",
      "Done: two_blobs_separate, width=5, depth=8, ab_range=0.1, epoch=430\n",
      "Done: two_blobs_separate, width=5, depth=8, ab_range=0.1, epoch=440\n",
      "Done: two_blobs_separate, width=5, depth=8, ab_range=0.1, epoch=450\n",
      "Done: two_blobs_separate, width=5, depth=8, ab_range=0.1, epoch=460\n",
      "Done: two_blobs_separate, width=5, depth=8, ab_range=0.1, epoch=470\n",
      "Done: two_blobs_separate, width=5, depth=8, ab_range=0.1, epoch=480\n",
      "Done: two_blobs_separate, width=5, depth=8, ab_range=0.1, epoch=490\n",
      "Done: two_blobs_separate, width=5, depth=8, ab_range=0.1, epoch=500\n",
      "Done: two_blobs_separate, width=5, depth=8, ab_range=0.1, epoch=510\n",
      "Done: two_blobs_separate, width=5, depth=8, ab_range=0.1, epoch=520\n"
     ]
    },
    {
     "name": "stderr",
     "output_type": "stream",
     "text": [
      "Outer loop (a):  15%|█▌        | 15/100 [00:08<00:49,  1.72it/s]"
     ]
    },
    {
     "name": "stdout",
     "output_type": "stream",
     "text": [
      "Done: two_blobs_separate, width=5, depth=8, ab_range=0.1, epoch=530\n",
      "Done: two_blobs_separate, width=5, depth=8, ab_range=0.1, epoch=540\n",
      "Done: two_blobs_separate, width=5, depth=8, ab_range=0.1, epoch=550\n",
      "Done: two_blobs_separate, width=5, depth=8, ab_range=0.1, epoch=560\n",
      "Done: two_blobs_separate, width=5, depth=8, ab_range=0.1, epoch=570\n",
      "Done: two_blobs_separate, width=5, depth=8, ab_range=0.1, epoch=580\n",
      "Done: two_blobs_separate, width=5, depth=8, ab_range=0.1, epoch=590\n",
      "Done: two_blobs_separate, width=5, depth=8, ab_range=0.1, epoch=600\n",
      "Done: two_blobs_separate, width=5, depth=8, ab_range=0.1, epoch=610\n",
      "Done: two_blobs_separate, width=5, depth=8, ab_range=0.1, epoch=620\n",
      "Done: two_blobs_separate, width=5, depth=8, ab_range=0.1, epoch=630\n",
      "Done: two_blobs_separate, width=5, depth=8, ab_range=0.1, epoch=640\n",
      "Done: two_blobs_separate, width=5, depth=8, ab_range=0.1, epoch=650\n",
      "Done: two_blobs_separate, width=5, depth=8, ab_range=0.1, epoch=660\n",
      "Done: two_blobs_separate, width=5, depth=8, ab_range=0.1, epoch=670\n",
      "Done: two_blobs_separate, width=5, depth=8, ab_range=0.1, epoch=680\n",
      "Done: two_blobs_separate, width=5, depth=8, ab_range=0.1, epoch=690\n",
      "Done: two_blobs_separate, width=5, depth=8, ab_range=0.1, epoch=700\n",
      "Done: two_blobs_separate, width=5, depth=8, ab_range=0.1, epoch=710"
     ]
    },
    {
     "name": "stderr",
     "output_type": "stream",
     "text": [
      "Outer loop (a):  19%|█▉        | 19/100 [00:09<00:39,  2.05it/s]"
     ]
    },
    {
     "name": "stdout",
     "output_type": "stream",
     "text": [
      "\n",
      "Done: two_blobs_separate, width=5, depth=8, ab_range=0.1, epoch=720\n",
      "Done: two_blobs_separate, width=5, depth=8, ab_range=0.1, epoch=730\n",
      "Done: two_blobs_separate, width=5, depth=8, ab_range=0.1, epoch=740\n",
      "Done: two_blobs_separate, width=5, depth=8, ab_range=0.1, epoch=750\n",
      "Done: two_blobs_separate, width=5, depth=8, ab_range=0.1, epoch=760\n",
      "Done: two_blobs_separate, width=5, depth=8, ab_range=0.1, epoch=770\n",
      "Done: two_blobs_separate, width=5, depth=8, ab_range=0.1, epoch=780\n",
      "Done: two_blobs_separate, width=5, depth=8, ab_range=0.1, epoch=790\n",
      "Done: two_blobs_separate, width=5, depth=8, ab_range=0.1, epoch=800\n",
      "Done: two_blobs_separate, width=5, depth=8, ab_range=0.1, epoch=810\n",
      "Done: two_blobs_separate, width=5, depth=8, ab_range=0.1, epoch=820\n",
      "Done: two_blobs_separate, width=5, depth=8, ab_range=0.1, epoch=830\n",
      "Done: two_blobs_separate, width=5, depth=8, ab_range=0.1, epoch=840\n",
      "Done: two_blobs_separate, width=5, depth=8, ab_range=0.1, epoch=850\n",
      "Done: two_blobs_separate, width=5, depth=8, ab_range=0.1, epoch=860\n",
      "Done: two_blobs_separate, width=5, depth=8, ab_range=0.1, epoch=870\n",
      "Done: two_blobs_separate, width=5, depth=8, ab_range=0.1, epoch=880\n",
      "Done: two_blobs_separate, width=5, depth=8, ab_range=0.1, epoch=890\n",
      "Done: two_blobs_separate, width=5, depth=8, ab_range=0.1, epoch=900\n",
      "Done: two_blobs_separate, width=5, depth=8, ab_range=0.1, epoch=910\n",
      "Done: two_blobs_separate, width=5, depth=8, ab_range=0.1, epoch=920\n",
      "Done: two_blobs_separate, width=5, depth=8, ab_range=0.1, epoch=930\n",
      "Done: two_blobs_separate, width=5, depth=8, ab_range=0.1, epoch=940\n",
      "Done: two_blobs_separate, width=5, depth=8, ab_range=0.1, epoch=950\n",
      "Done: two_blobs_separate, width=5, depth=8, ab_range=0.1, epoch=960\n",
      "Done: two_blobs_separate, width=5, depth=8, ab_range=0.1, epoch=970\n",
      "Done: two_blobs_separate, width=5, depth=8, ab_range=0.1, epoch=980\n",
      "Done: two_blobs_separate, width=5, depth=8, ab_range=0.1, epoch=990"
     ]
    },
    {
     "name": "stderr",
     "output_type": "stream",
     "text": [
      "Outer loop (a):  67%|██████▋   | 67/100 [00:34<00:18,  1.80it/s]"
     ]
    },
    {
     "name": "stdout",
     "output_type": "stream",
     "text": [
      "\n",
      "Done: two_blobs_separate, width=5, depth=8, ab_range=0.1, epoch=1000\n",
      "Done: two_blobs_separate, width=5, depth=8, ab_range=1, epoch=0\n",
      "Done: two_blobs_separate, width=5, depth=8, ab_range=1, epoch=10\n",
      "Done: two_blobs_separate, width=5, depth=8, ab_range=1, epoch=20\n",
      "Done: two_blobs_separate, width=5, depth=8, ab_range=1, epoch=30\n",
      "Done: two_blobs_separate, width=5, depth=8, ab_range=1, epoch=40\n",
      "Done: two_blobs_separate, width=5, depth=8, ab_range=1, epoch=50\n",
      "Done: two_blobs_separate, width=5, depth=8, ab_range=1, epoch=60\n",
      "Done: two_blobs_separate, width=5, depth=8, ab_range=1, epoch=70\n",
      "Done: two_blobs_separate, width=5, depth=8, ab_range=1, epoch=80\n",
      "Done: two_blobs_separate, width=5, depth=8, ab_range=1, epoch=90\n",
      "Done: two_blobs_separate, width=5, depth=8, ab_range=1, epoch=100\n",
      "Done: two_blobs_separate, width=5, depth=8, ab_range=1, epoch=110\n",
      "Done: two_blobs_separate, width=5, depth=8, ab_range=1, epoch=120\n",
      "Done: two_blobs_separate, width=5, depth=8, ab_range=1, epoch=130\n",
      "Done: two_blobs_separate, width=5, depth=8, ab_range=1, epoch=140\n",
      "Done: two_blobs_separate, width=5, depth=8, ab_range=1, epoch=150\n",
      "Done: two_blobs_separate, width=5, depth=8, ab_range=1, epoch=160\n",
      "Done: two_blobs_separate, width=5, depth=8, ab_range=1, epoch=170\n",
      "Done: two_blobs_separate, width=5, depth=8, ab_range=1, epoch=180\n",
      "Done: two_blobs_separate, width=5, depth=8, ab_range=1, epoch=190\n",
      "Done: two_blobs_separate, width=5, depth=8, ab_range=1, epoch=200\n",
      "Done: two_blobs_separate, width=5, depth=8, ab_range=1, epoch=210\n",
      "Done: two_blobs_separate, width=5, depth=8, ab_range=1, epoch=220\n",
      "Done: two_blobs_separate, width=5, depth=8, ab_range=1, epoch=230\n",
      "Done: two_blobs_separate, width=5, depth=8, ab_range=1, epoch=240\n",
      "Done: two_blobs_separate, width=5, depth=8, ab_range=1, epoch=250\n",
      "Done: two_blobs_separate, width=5, depth=8, ab_range=1, epoch=260\n",
      "Done: two_blobs_separate, width=5, depth=8, ab_range=1, epoch=270\n",
      "Done: two_blobs_separate, width=5, depth=8, ab_range=1, epoch=280\n",
      "Done: two_blobs_separate, width=5, depth=8, ab_range=1, epoch=290\n",
      "Done: two_blobs_separate, width=5, depth=8, ab_range=1, epoch=300\n",
      "Done: two_blobs_separate, width=5, depth=8, ab_range=1, epoch=310\n",
      "Done: two_blobs_separate, width=5, depth=8, ab_range=1, epoch=320\n",
      "Done: two_blobs_separate, width=5, depth=8, ab_range=1, epoch=330\n",
      "Done: two_blobs_separate, width=5, depth=8, ab_range=1, epoch=340\n",
      "Done: two_blobs_separate, width=5, depth=8, ab_range=1, epoch=350\n",
      "Done: two_blobs_separate, width=5, depth=8, ab_range=1, epoch=360\n",
      "Done: two_blobs_separate, width=5, depth=8, ab_range=1, epoch=370\n",
      "Done: two_blobs_separate, width=5, depth=8, ab_range=1, epoch=380\n",
      "Done: two_blobs_separate, width=5, depth=8, ab_range=1, epoch=390\n",
      "Done: two_blobs_separate, width=5, depth=8, ab_range=1, epoch=400\n",
      "Done: two_blobs_separate, width=5, depth=8, ab_range=1, epoch=410\n",
      "Done: two_blobs_separate, width=5, depth=8, ab_range=1, epoch=420\n",
      "Done: two_blobs_separate, width=5, depth=8, ab_range=1, epoch=430\n",
      "Done: two_blobs_separate, width=5, depth=8, ab_range=1, epoch=440\n",
      "Done: two_blobs_separate, width=5, depth=8, ab_range=1, epoch=450\n",
      "Done: two_blobs_separate, width=5, depth=8, ab_range=1, epoch=460\n",
      "Done: two_blobs_separate, width=5, depth=8, ab_range=1, epoch=470\n",
      "Done: two_blobs_separate, width=5, depth=8, ab_range=1, epoch=480\n",
      "Done: two_blobs_separate, width=5, depth=8, ab_range=1, epoch=490\n",
      "Done: two_blobs_separate, width=5, depth=8, ab_range=1, epoch=500\n",
      "Done: two_blobs_separate, width=5, depth=8, ab_range=1, epoch=510\n",
      "Done: two_blobs_separate, width=5, depth=8, ab_range=1, epoch=520\n",
      "Done: two_blobs_separate, width=5, depth=8, ab_range=1, epoch=530\n",
      "Done: two_blobs_separate, width=5, depth=8, ab_range=1, epoch=540\n",
      "Done: two_blobs_separate, width=5, depth=8, ab_range=1, epoch=550\n",
      "Done: two_blobs_separate, width=5, depth=8, ab_range=1, epoch=560\n",
      "Done: two_blobs_separate, width=5, depth=8, ab_range=1, epoch=570\n",
      "Done: two_blobs_separate, width=5, depth=8, ab_range=1, epoch=580\n",
      "Done: two_blobs_separate, width=5, depth=8, ab_range=1, epoch=590\n",
      "Done: two_blobs_separate, width=5, depth=8, ab_range=1, epoch=600\n",
      "Done: two_blobs_separate, width=5, depth=8, ab_range=1, epoch=610\n",
      "Done: two_blobs_separate, width=5, depth=8, ab_range=1, epoch=620\n",
      "Done: two_blobs_separate, width=5, depth=8, ab_range=1, epoch=630\n",
      "Done: two_blobs_separate, width=5, depth=8, ab_range=1, epoch=640\n",
      "Done: two_blobs_separate, width=5, depth=8, ab_range=1, epoch=650\n",
      "Done: two_blobs_separate, width=5, depth=8, ab_range=1, epoch=660\n",
      "Done: two_blobs_separate, width=5, depth=8, ab_range=1, epoch=670\n",
      "Done: two_blobs_separate, width=5, depth=8, ab_range=1, epoch=680\n",
      "Done: two_blobs_separate, width=5, depth=8, ab_range=1, epoch=690\n",
      "Done: two_blobs_separate, width=5, depth=8, ab_range=1, epoch=700\n",
      "Done: two_blobs_separate, width=5, depth=8, ab_range=1, epoch=710\n",
      "Done: two_blobs_separate, width=5, depth=8, ab_range=1, epoch=720\n",
      "Done: two_blobs_separate, width=5, depth=8, ab_range=1, epoch=730\n",
      "Done: two_blobs_separate, width=5, depth=8, ab_range=1, epoch=740\n",
      "Done: two_blobs_separate, width=5, depth=8, ab_range=1, epoch=750\n",
      "Done: two_blobs_separate, width=5, depth=8, ab_range=1, epoch=760\n",
      "Done: two_blobs_separate, width=5, depth=8, ab_range=1, epoch=770\n",
      "Done: two_blobs_separate, width=5, depth=8, ab_range=1, epoch=780\n",
      "Done: two_blobs_separate, width=5, depth=8, ab_range=1, epoch=790\n",
      "Done: two_blobs_separate, width=5, depth=8, ab_range=1, epoch=800\n",
      "Done: two_blobs_separate, width=5, depth=8, ab_range=1, epoch=810\n",
      "Done: two_blobs_separate, width=5, depth=8, ab_range=1, epoch=820\n",
      "Done: two_blobs_separate, width=5, depth=8, ab_range=1, epoch=830\n",
      "Done: two_blobs_separate, width=5, depth=8, ab_range=1, epoch=840\n",
      "Done: two_blobs_separate, width=5, depth=8, ab_range=1, epoch=850\n",
      "Done: two_blobs_separate, width=5, depth=8, ab_range=1, epoch=860\n",
      "Done: two_blobs_separate, width=5, depth=8, ab_range=1, epoch=870\n",
      "Done: two_blobs_separate, width=5, depth=8, ab_range=1, epoch=880\n",
      "Done: two_blobs_separate, width=5, depth=8, ab_range=1, epoch=890\n",
      "Done: two_blobs_separate, width=5, depth=8, ab_range=1, epoch=900\n",
      "Done: two_blobs_separate, width=5, depth=8, ab_range=1, epoch=910\n",
      "Done: two_blobs_separate, width=5, depth=8, ab_range=1, epoch=920\n",
      "Done: two_blobs_separate, width=5, depth=8, ab_range=1, epoch=930\n",
      "Done: two_blobs_separate, width=5, depth=8, ab_range=1, epoch=940\n",
      "Done: two_blobs_separate, width=5, depth=8, ab_range=1, epoch=950\n",
      "Done: two_blobs_separate, width=5, depth=8, ab_range=1, epoch=960\n",
      "Done: two_blobs_separate, width=5, depth=8, ab_range=1, epoch=970\n",
      "Done: two_blobs_separate, width=5, depth=8, ab_range=1, epoch=980\n",
      "Done: two_blobs_separate, width=5, depth=8, ab_range=1, epoch=990\n",
      "Done: two_blobs_separate, width=5, depth=8, ab_range=1, epoch=1000\n",
      "Done: two_blobs_separate, width=5, depth=8, ab_range=10, epoch=0\n",
      "Done: two_blobs_separate, width=5, depth=8, ab_range=10, epoch=10\n",
      "Done: two_blobs_separate, width=5, depth=8, ab_range=10, epoch=20\n",
      "Done: two_blobs_separate, width=5, depth=8, ab_range=10, epoch=30\n",
      "Done: two_blobs_separate, width=5, depth=8, ab_range=10, epoch=40\n",
      "Done: two_blobs_separate, width=5, depth=8, ab_range=10, epoch=50\n",
      "Done: two_blobs_separate, width=5, depth=8, ab_range=10, epoch=60\n",
      "Done: two_blobs_separate, width=5, depth=8, ab_range=10, epoch=70\n",
      "Done: two_blobs_separate, width=5, depth=8, ab_range=10, epoch=80\n",
      "Done: two_blobs_separate, width=5, depth=8, ab_range=10, epoch=90\n",
      "Done: two_blobs_separate, width=5, depth=8, ab_range=10, epoch=100\n",
      "Done: two_blobs_separate, width=5, depth=8, ab_range=10, epoch=110\n",
      "Done: two_blobs_separate, width=5, depth=8, ab_range=10, epoch=120\n",
      "Done: two_blobs_separate, width=5, depth=8, ab_range=10, epoch=130\n",
      "Done: two_blobs_separate, width=5, depth=8, ab_range=10, epoch=140\n",
      "Done: two_blobs_separate, width=5, depth=8, ab_range=10, epoch=150\n",
      "Done: two_blobs_separate, width=5, depth=8, ab_range=10, epoch=160\n",
      "Done: two_blobs_separate, width=5, depth=8, ab_range=10, epoch=170\n",
      "Done: two_blobs_separate, width=5, depth=8, ab_range=10, epoch=180\n",
      "Done: two_blobs_separate, width=5, depth=8, ab_range=10, epoch=190\n",
      "Done: two_blobs_separate, width=5, depth=8, ab_range=10, epoch=200\n",
      "Done: two_blobs_separate, width=5, depth=8, ab_range=10, epoch=210\n",
      "Done: two_blobs_separate, width=5, depth=8, ab_range=10, epoch=220\n",
      "Done: two_blobs_separate, width=5, depth=8, ab_range=10, epoch=230\n",
      "Done: two_blobs_separate, width=5, depth=8, ab_range=10, epoch=240\n",
      "Done: two_blobs_separate, width=5, depth=8, ab_range=10, epoch=250\n",
      "Done: two_blobs_separate, width=5, depth=8, ab_range=10, epoch=260\n",
      "Done: two_blobs_separate, width=5, depth=8, ab_range=10, epoch=270\n",
      "Done: two_blobs_separate, width=5, depth=8, ab_range=10, epoch=280\n",
      "Done: two_blobs_separate, width=5, depth=8, ab_range=10, epoch=290\n",
      "Done: two_blobs_separate, width=5, depth=8, ab_range=10, epoch=300\n",
      "Done: two_blobs_separate, width=5, depth=8, ab_range=10, epoch=310\n",
      "Done: two_blobs_separate, width=5, depth=8, ab_range=10, epoch=320\n",
      "Done: two_blobs_separate, width=5, depth=8, ab_range=10, epoch=330\n",
      "Done: two_blobs_separate, width=5, depth=8, ab_range=10, epoch=340\n",
      "Done: two_blobs_separate, width=5, depth=8, ab_range=10, epoch=350\n",
      "Done: two_blobs_separate, width=5, depth=8, ab_range=10, epoch=360\n",
      "Done: two_blobs_separate, width=5, depth=8, ab_range=10, epoch=370\n",
      "Done: two_blobs_separate, width=5, depth=8, ab_range=10, epoch=380\n",
      "Done: two_blobs_separate, width=5, depth=8, ab_range=10, epoch=390\n",
      "Done: two_blobs_separate, width=5, depth=8, ab_range=10, epoch=400\n",
      "Done: two_blobs_separate, width=5, depth=8, ab_range=10, epoch=410\n",
      "Done: two_blobs_separate, width=5, depth=8, ab_range=10, epoch=420\n",
      "Done: two_blobs_separate, width=5, depth=8, ab_range=10, epoch=430\n",
      "Done: two_blobs_separate, width=5, depth=8, ab_range=10, epoch=440\n",
      "Done: two_blobs_separate, width=5, depth=8, ab_range=10, epoch=450\n",
      "Done: two_blobs_separate, width=5, depth=8, ab_range=10, epoch=460\n",
      "Done: two_blobs_separate, width=5, depth=8, ab_range=10, epoch=470\n",
      "Done: two_blobs_separate, width=5, depth=8, ab_range=10, epoch=480\n",
      "Done: two_blobs_separate, width=5, depth=8, ab_range=10, epoch=490\n",
      "Done: two_blobs_separate, width=5, depth=8, ab_range=10, epoch=500\n",
      "Done: two_blobs_separate, width=5, depth=8, ab_range=10, epoch=510\n"
     ]
    },
    {
     "name": "stderr",
     "output_type": "stream",
     "text": [
      "Outer loop (a):  87%|████████▋ | 87/100 [00:48<00:07,  1.81it/s]"
     ]
    },
    {
     "name": "stdout",
     "output_type": "stream",
     "text": [
      "Done: two_blobs_separate, width=5, depth=8, ab_range=10, epoch=520\n",
      "Done: two_blobs_separate, width=5, depth=8, ab_range=10, epoch=530\n",
      "Done: two_blobs_separate, width=5, depth=8, ab_range=10, epoch=540\n",
      "Done: two_blobs_separate, width=5, depth=8, ab_range=10, epoch=550\n",
      "Done: two_blobs_separate, width=5, depth=8, ab_range=10, epoch=560\n",
      "Done: two_blobs_separate, width=5, depth=8, ab_range=10, epoch=570\n",
      "Done: two_blobs_separate, width=5, depth=8, ab_range=10, epoch=580"
     ]
    },
    {
     "name": "stderr",
     "output_type": "stream",
     "text": [
      "Outer loop (a):  63%|██████▎   | 63/100 [00:32<00:19,  1.94it/s]"
     ]
    },
    {
     "name": "stdout",
     "output_type": "stream",
     "text": [
      "\n",
      "Done: two_blobs_separate, width=5, depth=8, ab_range=10, epoch=590\n",
      "Done: two_blobs_separate, width=5, depth=8, ab_range=10, epoch=600\n",
      "Done: two_blobs_separate, width=5, depth=8, ab_range=10, epoch=610\n",
      "Done: two_blobs_separate, width=5, depth=8, ab_range=10, epoch=620\n",
      "Done: two_blobs_separate, width=5, depth=8, ab_range=10, epoch=630\n",
      "Done: two_blobs_separate, width=5, depth=8, ab_range=10, epoch=640\n",
      "Done: two_blobs_separate, width=5, depth=8, ab_range=10, epoch=650\n",
      "Done: two_blobs_separate, width=5, depth=8, ab_range=10, epoch=660"
     ]
    },
    {
     "name": "stderr",
     "output_type": "stream",
     "text": [
      "Outer loop (a):   8%|▊         | 8/100 [00:04<00:52,  1.75it/s]"
     ]
    },
    {
     "name": "stdout",
     "output_type": "stream",
     "text": [
      "\n",
      "Done: two_blobs_separate, width=5, depth=8, ab_range=10, epoch=670\n",
      "Done: two_blobs_separate, width=5, depth=8, ab_range=10, epoch=680\n",
      "Done: two_blobs_separate, width=5, depth=8, ab_range=10, epoch=690\n",
      "Done: two_blobs_separate, width=5, depth=8, ab_range=10, epoch=700\n",
      "Done: two_blobs_separate, width=5, depth=8, ab_range=10, epoch=710\n",
      "Done: two_blobs_separate, width=5, depth=8, ab_range=10, epoch=720\n",
      "Done: two_blobs_separate, width=5, depth=8, ab_range=10, epoch=730\n",
      "Done: two_blobs_separate, width=5, depth=8, ab_range=10, epoch=740\n",
      "Done: two_blobs_separate, width=5, depth=8, ab_range=10, epoch=750\n",
      "Done: two_blobs_separate, width=5, depth=8, ab_range=10, epoch=760\n",
      "Done: two_blobs_separate, width=5, depth=8, ab_range=10, epoch=770\n",
      "Done: two_blobs_separate, width=5, depth=8, ab_range=10, epoch=780\n",
      "Done: two_blobs_separate, width=5, depth=8, ab_range=10, epoch=790\n"
     ]
    },
    {
     "name": "stderr",
     "output_type": "stream",
     "text": [
      "Outer loop (a):  53%|█████▎    | 53/100 [00:24<00:24,  1.96it/s]"
     ]
    },
    {
     "name": "stdout",
     "output_type": "stream",
     "text": [
      "Done: two_blobs_separate, width=5, depth=8, ab_range=10, epoch=800\n",
      "Done: two_blobs_separate, width=5, depth=8, ab_range=10, epoch=810\n",
      "Done: two_blobs_separate, width=5, depth=8, ab_range=10, epoch=820\n",
      "Done: two_blobs_separate, width=5, depth=8, ab_range=10, epoch=830\n",
      "Done: two_blobs_separate, width=5, depth=8, ab_range=10, epoch=840\n",
      "Done: two_blobs_separate, width=5, depth=8, ab_range=10, epoch=850\n",
      "Done: two_blobs_separate, width=5, depth=8, ab_range=10, epoch=860\n",
      "Done: two_blobs_separate, width=5, depth=8, ab_range=10, epoch=870"
     ]
    },
    {
     "name": "stderr",
     "output_type": "stream",
     "text": [
      "Outer loop (a):  68%|██████▊   | 68/100 [00:35<00:16,  1.90it/s]"
     ]
    },
    {
     "name": "stdout",
     "output_type": "stream",
     "text": [
      "\n",
      "Done: two_blobs_separate, width=5, depth=8, ab_range=10, epoch=880\n",
      "Done: two_blobs_separate, width=5, depth=8, ab_range=10, epoch=890"
     ]
    },
    {
     "name": "stderr",
     "output_type": "stream",
     "text": [
      "Outer loop (a):  20%|██        | 20/100 [00:10<00:39,  2.01it/s]"
     ]
    },
    {
     "name": "stdout",
     "output_type": "stream",
     "text": [
      "\n",
      "Done: two_blobs_separate, width=5, depth=8, ab_range=10, epoch=900\n",
      "Done: two_blobs_separate, width=5, depth=8, ab_range=10, epoch=910\n",
      "Done: two_blobs_separate, width=5, depth=8, ab_range=10, epoch=920\n",
      "Done: two_blobs_separate, width=5, depth=8, ab_range=10, epoch=930\n",
      "Done: two_blobs_separate, width=5, depth=8, ab_range=10, epoch=940\n",
      "Done: two_blobs_separate, width=5, depth=8, ab_range=10, epoch=950\n",
      "Done: two_blobs_separate, width=5, depth=8, ab_range=10, epoch=960\n",
      "Done: two_blobs_separate, width=5, depth=8, ab_range=10, epoch=970\n",
      "Done: two_blobs_separate, width=5, depth=8, ab_range=10, epoch=980\n",
      "Done: two_blobs_separate, width=5, depth=8, ab_range=10, epoch=990\n",
      "Done: two_blobs_separate, width=5, depth=8, ab_range=10, epoch=1000\n",
      "Done: two_blobs_separate, width=5, depth=8, ab_range=2, epoch=0\n",
      "Done: two_blobs_separate, width=5, depth=8, ab_range=2, epoch=10\n",
      "Done: two_blobs_separate, width=5, depth=8, ab_range=2, epoch=20\n",
      "Done: two_blobs_separate, width=5, depth=8, ab_range=2, epoch=30\n",
      "Done: two_blobs_separate, width=5, depth=8, ab_range=2, epoch=40\n",
      "Done: two_blobs_separate, width=5, depth=8, ab_range=2, epoch=50\n",
      "Done: two_blobs_separate, width=5, depth=8, ab_range=2, epoch=60\n",
      "Done: two_blobs_separate, width=5, depth=8, ab_range=2, epoch=70\n",
      "Done: two_blobs_separate, width=5, depth=8, ab_range=2, epoch=80\n",
      "Done: two_blobs_separate, width=5, depth=8, ab_range=2, epoch=90\n",
      "Done: two_blobs_separate, width=5, depth=8, ab_range=2, epoch=100\n",
      "Done: two_blobs_separate, width=5, depth=8, ab_range=2, epoch=110\n",
      "Done: two_blobs_separate, width=5, depth=8, ab_range=2, epoch=120\n",
      "Done: two_blobs_separate, width=5, depth=8, ab_range=2, epoch=130\n",
      "Done: two_blobs_separate, width=5, depth=8, ab_range=2, epoch=140\n",
      "Done: two_blobs_separate, width=5, depth=8, ab_range=2, epoch=150\n",
      "Done: two_blobs_separate, width=5, depth=8, ab_range=2, epoch=160\n",
      "Done: two_blobs_separate, width=5, depth=8, ab_range=2, epoch=170\n",
      "Done: two_blobs_separate, width=5, depth=8, ab_range=2, epoch=180\n",
      "Done: two_blobs_separate, width=5, depth=8, ab_range=2, epoch=190\n",
      "Done: two_blobs_separate, width=5, depth=8, ab_range=2, epoch=200\n",
      "Done: two_blobs_separate, width=5, depth=8, ab_range=2, epoch=210\n",
      "Done: two_blobs_separate, width=5, depth=8, ab_range=2, epoch=220\n",
      "Done: two_blobs_separate, width=5, depth=8, ab_range=2, epoch=230\n",
      "Done: two_blobs_separate, width=5, depth=8, ab_range=2, epoch=240\n",
      "Done: two_blobs_separate, width=5, depth=8, ab_range=2, epoch=250\n",
      "Done: two_blobs_separate, width=5, depth=8, ab_range=2, epoch=260\n",
      "Done: two_blobs_separate, width=5, depth=8, ab_range=2, epoch=270\n",
      "Done: two_blobs_separate, width=5, depth=8, ab_range=2, epoch=280\n",
      "Done: two_blobs_separate, width=5, depth=8, ab_range=2, epoch=290\n",
      "Done: two_blobs_separate, width=5, depth=8, ab_range=2, epoch=300\n",
      "Done: two_blobs_separate, width=5, depth=8, ab_range=2, epoch=310\n",
      "Done: two_blobs_separate, width=5, depth=8, ab_range=2, epoch=320\n",
      "Done: two_blobs_separate, width=5, depth=8, ab_range=2, epoch=330\n",
      "Done: two_blobs_separate, width=5, depth=8, ab_range=2, epoch=340\n",
      "Done: two_blobs_separate, width=5, depth=8, ab_range=2, epoch=350\n",
      "Done: two_blobs_separate, width=5, depth=8, ab_range=2, epoch=360\n",
      "Done: two_blobs_separate, width=5, depth=8, ab_range=2, epoch=370\n",
      "Done: two_blobs_separate, width=5, depth=8, ab_range=2, epoch=380\n",
      "Done: two_blobs_separate, width=5, depth=8, ab_range=2, epoch=390\n",
      "Done: two_blobs_separate, width=5, depth=8, ab_range=2, epoch=400\n",
      "Done: two_blobs_separate, width=5, depth=8, ab_range=2, epoch=410\n",
      "Done: two_blobs_separate, width=5, depth=8, ab_range=2, epoch=420\n",
      "Done: two_blobs_separate, width=5, depth=8, ab_range=2, epoch=430\n",
      "Done: two_blobs_separate, width=5, depth=8, ab_range=2, epoch=440\n",
      "Done: two_blobs_separate, width=5, depth=8, ab_range=2, epoch=450\n",
      "Done: two_blobs_separate, width=5, depth=8, ab_range=2, epoch=460\n",
      "Done: two_blobs_separate, width=5, depth=8, ab_range=2, epoch=470\n",
      "Done: two_blobs_separate, width=5, depth=8, ab_range=2, epoch=480\n",
      "Done: two_blobs_separate, width=5, depth=8, ab_range=2, epoch=490\n",
      "Done: two_blobs_separate, width=5, depth=8, ab_range=2, epoch=500\n"
     ]
    },
    {
     "name": "stderr",
     "output_type": "stream",
     "text": [
      "Outer loop (a):  16%|█▌        | 16/100 [00:09<00:53,  1.58it/s]"
     ]
    },
    {
     "name": "stdout",
     "output_type": "stream",
     "text": [
      "Done: two_blobs_separate, width=5, depth=8, ab_range=2, epoch=510\n",
      "Done: two_blobs_separate, width=5, depth=8, ab_range=2, epoch=520\n",
      "Done: two_blobs_separate, width=5, depth=8, ab_range=2, epoch=530\n",
      "Done: two_blobs_separate, width=5, depth=8, ab_range=2, epoch=540\n",
      "Done: two_blobs_separate, width=5, depth=8, ab_range=2, epoch=550\n",
      "Done: two_blobs_separate, width=5, depth=8, ab_range=2, epoch=560\n",
      "Done: two_blobs_separate, width=5, depth=8, ab_range=2, epoch=570\n",
      "Done: two_blobs_separate, width=5, depth=8, ab_range=2, epoch=580\n",
      "Done: two_blobs_separate, width=5, depth=8, ab_range=2, epoch=590\n",
      "Done: two_blobs_separate, width=5, depth=8, ab_range=2, epoch=600\n",
      "Done: two_blobs_separate, width=5, depth=8, ab_range=2, epoch=610\n",
      "Done: two_blobs_separate, width=5, depth=8, ab_range=2, epoch=620\n",
      "Done: two_blobs_separate, width=5, depth=8, ab_range=2, epoch=630\n",
      "Done: two_blobs_separate, width=5, depth=8, ab_range=2, epoch=640\n",
      "Done: two_blobs_separate, width=5, depth=8, ab_range=2, epoch=650\n",
      "Done: two_blobs_separate, width=5, depth=8, ab_range=2, epoch=660\n",
      "Done: two_blobs_separate, width=5, depth=8, ab_range=2, epoch=670\n",
      "Done: two_blobs_separate, width=5, depth=8, ab_range=2, epoch=680\n",
      "Done: two_blobs_separate, width=5, depth=8, ab_range=2, epoch=690\n",
      "Done: two_blobs_separate, width=5, depth=8, ab_range=2, epoch=700\n",
      "Done: two_blobs_separate, width=5, depth=8, ab_range=2, epoch=710\n",
      "Done: two_blobs_separate, width=5, depth=8, ab_range=2, epoch=720\n",
      "Done: two_blobs_separate, width=5, depth=8, ab_range=2, epoch=730\n",
      "Done: two_blobs_separate, width=5, depth=8, ab_range=2, epoch=740\n",
      "Done: two_blobs_separate, width=5, depth=8, ab_range=2, epoch=750\n",
      "Done: two_blobs_separate, width=5, depth=8, ab_range=2, epoch=760\n",
      "Done: two_blobs_separate, width=5, depth=8, ab_range=2, epoch=770\n",
      "Done: two_blobs_separate, width=5, depth=8, ab_range=2, epoch=780\n",
      "Done: two_blobs_separate, width=5, depth=8, ab_range=2, epoch=790\n",
      "Done: two_blobs_separate, width=5, depth=8, ab_range=2, epoch=800\n",
      "Done: two_blobs_separate, width=5, depth=8, ab_range=2, epoch=810\n",
      "Done: two_blobs_separate, width=5, depth=8, ab_range=2, epoch=820\n",
      "Done: two_blobs_separate, width=5, depth=8, ab_range=2, epoch=830\n",
      "Done: two_blobs_separate, width=5, depth=8, ab_range=2, epoch=840\n",
      "Done: two_blobs_separate, width=5, depth=8, ab_range=2, epoch=850\n",
      "Done: two_blobs_separate, width=5, depth=8, ab_range=2, epoch=860\n",
      "Done: two_blobs_separate, width=5, depth=8, ab_range=2, epoch=870\n",
      "Done: two_blobs_separate, width=5, depth=8, ab_range=2, epoch=880\n",
      "Done: two_blobs_separate, width=5, depth=8, ab_range=2, epoch=890\n",
      "Done: two_blobs_separate, width=5, depth=8, ab_range=2, epoch=900\n",
      "Done: two_blobs_separate, width=5, depth=8, ab_range=2, epoch=910\n",
      "Done: two_blobs_separate, width=5, depth=8, ab_range=2, epoch=920\n",
      "Done: two_blobs_separate, width=5, depth=8, ab_range=2, epoch=930\n",
      "Done: two_blobs_separate, width=5, depth=8, ab_range=2, epoch=940\n",
      "Done: two_blobs_separate, width=5, depth=8, ab_range=2, epoch=950\n",
      "Done: two_blobs_separate, width=5, depth=8, ab_range=2, epoch=960\n",
      "Done: two_blobs_separate, width=5, depth=8, ab_range=2, epoch=970\n",
      "Done: two_blobs_separate, width=5, depth=8, ab_range=2, epoch=980\n",
      "Done: two_blobs_separate, width=5, depth=8, ab_range=2, epoch=990\n",
      "Done: two_blobs_separate, width=5, depth=8, ab_range=2, epoch=1000\n",
      "Done: two_blobs_separate, width=5, depth=8, ab_range=5, epoch=0\n",
      "Done: two_blobs_separate, width=5, depth=8, ab_range=5, epoch=10\n",
      "Done: two_blobs_separate, width=5, depth=8, ab_range=5, epoch=20\n",
      "Done: two_blobs_separate, width=5, depth=8, ab_range=5, epoch=30\n",
      "Done: two_blobs_separate, width=5, depth=8, ab_range=5, epoch=40\n",
      "Done: two_blobs_separate, width=5, depth=8, ab_range=5, epoch=50\n",
      "Done: two_blobs_separate, width=5, depth=8, ab_range=5, epoch=60\n",
      "Done: two_blobs_separate, width=5, depth=8, ab_range=5, epoch=70\n",
      "Done: two_blobs_separate, width=5, depth=8, ab_range=5, epoch=80\n",
      "Done: two_blobs_separate, width=5, depth=8, ab_range=5, epoch=90\n",
      "Done: two_blobs_separate, width=5, depth=8, ab_range=5, epoch=100\n",
      "Done: two_blobs_separate, width=5, depth=8, ab_range=5, epoch=110\n",
      "Done: two_blobs_separate, width=5, depth=8, ab_range=5, epoch=120\n",
      "Done: two_blobs_separate, width=5, depth=8, ab_range=5, epoch=130\n",
      "Done: two_blobs_separate, width=5, depth=8, ab_range=5, epoch=140\n",
      "Done: two_blobs_separate, width=5, depth=8, ab_range=5, epoch=150\n",
      "Done: two_blobs_separate, width=5, depth=8, ab_range=5, epoch=160\n",
      "Done: two_blobs_separate, width=5, depth=8, ab_range=5, epoch=170\n",
      "Done: two_blobs_separate, width=5, depth=8, ab_range=5, epoch=180\n",
      "Done: two_blobs_separate, width=5, depth=8, ab_range=5, epoch=190\n",
      "Done: two_blobs_separate, width=5, depth=8, ab_range=5, epoch=200\n",
      "Done: two_blobs_separate, width=5, depth=8, ab_range=5, epoch=210\n",
      "Done: two_blobs_separate, width=5, depth=8, ab_range=5, epoch=220\n",
      "Done: two_blobs_separate, width=5, depth=8, ab_range=5, epoch=230\n",
      "Done: two_blobs_separate, width=5, depth=8, ab_range=5, epoch=240\n",
      "Done: two_blobs_separate, width=5, depth=8, ab_range=5, epoch=250\n",
      "Done: two_blobs_separate, width=5, depth=8, ab_range=5, epoch=260\n",
      "Done: two_blobs_separate, width=5, depth=8, ab_range=5, epoch=270\n",
      "Done: two_blobs_separate, width=5, depth=8, ab_range=5, epoch=280\n",
      "Done: two_blobs_separate, width=5, depth=8, ab_range=5, epoch=290\n",
      "Done: two_blobs_separate, width=5, depth=8, ab_range=5, epoch=300\n",
      "Done: two_blobs_separate, width=5, depth=8, ab_range=5, epoch=310\n",
      "Done: two_blobs_separate, width=5, depth=8, ab_range=5, epoch=320\n",
      "Done: two_blobs_separate, width=5, depth=8, ab_range=5, epoch=330\n",
      "Done: two_blobs_separate, width=5, depth=8, ab_range=5, epoch=340\n",
      "Done: two_blobs_separate, width=5, depth=8, ab_range=5, epoch=350\n",
      "Done: two_blobs_separate, width=5, depth=8, ab_range=5, epoch=360\n",
      "Done: two_blobs_separate, width=5, depth=8, ab_range=5, epoch=370\n",
      "Done: two_blobs_separate, width=5, depth=8, ab_range=5, epoch=380\n",
      "Done: two_blobs_separate, width=5, depth=8, ab_range=5, epoch=390\n",
      "Done: two_blobs_separate, width=5, depth=8, ab_range=5, epoch=400\n",
      "Done: two_blobs_separate, width=5, depth=8, ab_range=5, epoch=410\n",
      "Done: two_blobs_separate, width=5, depth=8, ab_range=5, epoch=420\n",
      "Done: two_blobs_separate, width=5, depth=8, ab_range=5, epoch=430\n",
      "Done: two_blobs_separate, width=5, depth=8, ab_range=5, epoch=440\n",
      "Done: two_blobs_separate, width=5, depth=8, ab_range=5, epoch=450\n",
      "Done: two_blobs_separate, width=5, depth=8, ab_range=5, epoch=460\n",
      "Done: two_blobs_separate, width=5, depth=8, ab_range=5, epoch=470\n",
      "Done: two_blobs_separate, width=5, depth=8, ab_range=5, epoch=480\n",
      "Done: two_blobs_separate, width=5, depth=8, ab_range=5, epoch=490\n",
      "Done: two_blobs_separate, width=5, depth=8, ab_range=5, epoch=500\n"
     ]
    },
    {
     "name": "stderr",
     "output_type": "stream",
     "text": [
      "Outer loop (a):  64%|██████▍   | 64/100 [00:32<00:18,  1.93it/s]"
     ]
    },
    {
     "name": "stdout",
     "output_type": "stream",
     "text": [
      "Done: two_blobs_separate, width=5, depth=8, ab_range=5, epoch=510\n",
      "Done: two_blobs_separate, width=5, depth=8, ab_range=5, epoch=520\n",
      "Done: two_blobs_separate, width=5, depth=8, ab_range=5, epoch=530\n",
      "Done: two_blobs_separate, width=5, depth=8, ab_range=5, epoch=540\n",
      "Done: two_blobs_separate, width=5, depth=8, ab_range=5, epoch=550\n",
      "Done: two_blobs_separate, width=5, depth=8, ab_range=5, epoch=560\n",
      "Done: two_blobs_separate, width=5, depth=8, ab_range=5, epoch=570\n",
      "Done: two_blobs_separate, width=5, depth=8, ab_range=5, epoch=580\n",
      "Done: two_blobs_separate, width=5, depth=8, ab_range=5, epoch=590\n",
      "Done: two_blobs_separate, width=5, depth=8, ab_range=5, epoch=600\n",
      "Done: two_blobs_separate, width=5, depth=8, ab_range=5, epoch=610\n",
      "Done: two_blobs_separate, width=5, depth=8, ab_range=5, epoch=620\n",
      "Done: two_blobs_separate, width=5, depth=8, ab_range=5, epoch=630\n",
      "Done: two_blobs_separate, width=5, depth=8, ab_range=5, epoch=640\n",
      "Done: two_blobs_separate, width=5, depth=8, ab_range=5, epoch=650\n",
      "Done: two_blobs_separate, width=5, depth=8, ab_range=5, epoch=660"
     ]
    },
    {
     "name": "stderr",
     "output_type": "stream",
     "text": [
      "Outer loop (a):  21%|██        | 21/100 [00:10<00:37,  2.11it/s]"
     ]
    },
    {
     "name": "stdout",
     "output_type": "stream",
     "text": [
      "\n",
      "Done: two_blobs_separate, width=5, depth=8, ab_range=5, epoch=670\n",
      "Done: two_blobs_separate, width=5, depth=8, ab_range=5, epoch=680\n",
      "Done: two_blobs_separate, width=5, depth=8, ab_range=5, epoch=690\n",
      "Done: two_blobs_separate, width=5, depth=8, ab_range=5, epoch=700\n",
      "Done: two_blobs_separate, width=5, depth=8, ab_range=5, epoch=710\n",
      "Done: two_blobs_separate, width=5, depth=8, ab_range=5, epoch=720\n",
      "Done: two_blobs_separate, width=5, depth=8, ab_range=5, epoch=730\n",
      "Done: two_blobs_separate, width=5, depth=8, ab_range=5, epoch=740\n",
      "Previously saved model is of lower resolution; recomputing\n"
     ]
    },
    {
     "name": "stderr",
     "output_type": "stream",
     "text": [
      "Outer loop (a): 100%|██████████| 100/100 [00:55<00:00,  1.81it/s]\n"
     ]
    },
    {
     "name": "stdout",
     "output_type": "stream",
     "text": [
      "✅ Updated and saved new grid at ../backend/landscapes/mlp_5_5_5_5/spirals/train/range5/ep770\n",
      "Done: spirals, width=5, depth=4, ab_range=5, epoch=770\n",
      "Previously saved model is of lower resolution; recomputing\n"
     ]
    },
    {
     "name": "stderr",
     "output_type": "stream",
     "text": [
      "Outer loop (a): 100%|██████████| 100/100 [00:52<00:00,  1.92it/s]\n"
     ]
    },
    {
     "name": "stdout",
     "output_type": "stream",
     "text": [
      "✅ Updated and saved new grid at ../backend/landscapes/mlp_5_5/half_moons/train/range0.5/ep670\n",
      "Done: half_moons, width=5, depth=2, ab_range=0.5, epoch=670\n",
      "Previously saved model is of lower resolution; recomputing\n"
     ]
    },
    {
     "name": "stderr",
     "output_type": "stream",
     "text": [
      "Outer loop (a): 100%|██████████| 100/100 [00:52<00:00,  1.89it/s]\n"
     ]
    },
    {
     "name": "stdout",
     "output_type": "stream",
     "text": [
      "✅ Updated and saved new grid at ../backend/landscapes/mlp_5_5/two_blobs_separate/train/range0.2/ep800\n",
      "Done: two_blobs_separate, width=5, depth=2, ab_range=0.2, epoch=800\n",
      "Previously saved model is of lower resolution; recomputing\n"
     ]
    },
    {
     "name": "stderr",
     "output_type": "stream",
     "text": [
      "Outer loop (a): 100%|██████████| 100/100 [00:46<00:00,  2.16it/s]\n"
     ]
    },
    {
     "name": "stdout",
     "output_type": "stream",
     "text": [
      "✅ Updated and saved new grid at ../backend/landscapes/mlp_5/two_blobs_overlap/train/range0.5/ep780\n",
      "Done: two_blobs_overlap, width=5, depth=1, ab_range=0.5, epoch=780\n",
      "Previously saved model is of lower resolution; recomputing\n"
     ]
    },
    {
     "name": "stderr",
     "output_type": "stream",
     "text": [
      "Outer loop (a): 100%|██████████| 100/100 [00:49<00:00,  2.01it/s]\n"
     ]
    },
    {
     "name": "stdout",
     "output_type": "stream",
     "text": [
      "✅ Updated and saved new grid at ../backend/landscapes/mlp_5_5/four_corners/train/range0.5/ep40\n",
      "Done: four_corners, width=5, depth=2, ab_range=0.5, epoch=40\n",
      "Previously saved model is of lower resolution; recomputing\n"
     ]
    },
    {
     "name": "stderr",
     "output_type": "stream",
     "text": [
      "Outer loop (a): 100%|██████████| 100/100 [00:56<00:00,  1.77it/s]\n",
      "Outer loop (a):  70%|███████   | 70/100 [00:40<00:17,  1.68it/s]"
     ]
    },
    {
     "name": "stdout",
     "output_type": "stream",
     "text": [
      "✅ Updated and saved new grid at ../backend/landscapes/mlp_5_5_5_5/four_corners/train/range2/ep40"
     ]
    },
    {
     "name": "stderr",
     "output_type": "stream",
     "text": [
      "Outer loop (a):  52%|█████▏    | 52/100 [00:25<00:21,  2.27it/s]"
     ]
    },
    {
     "name": "stdout",
     "output_type": "stream",
     "text": [
      "\n",
      "Done: four_corners, width=5, depth=4, ab_range=2, epoch=40\n",
      "Previously saved model is of lower resolution; recomputing\n"
     ]
    },
    {
     "name": "stderr",
     "output_type": "stream",
     "text": [
      "Outer loop (a): 100%|██████████| 100/100 [00:53<00:00,  1.87it/s]\n"
     ]
    },
    {
     "name": "stdout",
     "output_type": "stream",
     "text": [
      "✅ Updated and saved new grid at ../backend/landscapes/mlp_5_5_5_5/two_blobs_overlap/train/range0.2/ep780\n",
      "Done: two_blobs_overlap, width=5, depth=4, ab_range=0.2, epoch=780\n",
      "Previously saved model is of lower resolution; recomputing\n"
     ]
    },
    {
     "name": "stderr",
     "output_type": "stream",
     "text": [
      "Outer loop (a): 100%|██████████| 100/100 [00:57<00:00,  1.74it/s]\n"
     ]
    },
    {
     "name": "stdout",
     "output_type": "stream",
     "text": [
      "✅ Updated and saved new grid at ../backend/landscapes/mlp_5_5_5_5/spirals/train/range5/ep780\n",
      "Done: spirals, width=5, depth=4, ab_range=5, epoch=780\n",
      "Previously saved model is of lower resolution; recomputing\n"
     ]
    },
    {
     "name": "stderr",
     "output_type": "stream",
     "text": [
      "Outer loop (a): 100%|██████████| 100/100 [01:04<00:00,  1.54it/s]\n"
     ]
    },
    {
     "name": "stdout",
     "output_type": "stream",
     "text": [
      "✅ Updated and saved new grid at ../backend/landscapes/mlp_5_5_5_5_5_5_5_5/two_blobs_separate/train/range5/ep750\n",
      "Done: two_blobs_separate, width=5, depth=8, ab_range=5, epoch=750\n",
      "Previously saved model is of lower resolution; recomputing\n"
     ]
    },
    {
     "name": "stderr",
     "output_type": "stream",
     "text": [
      "Outer loop (a): 100%|██████████| 100/100 [00:51<00:00,  1.94it/s]\n"
     ]
    },
    {
     "name": "stdout",
     "output_type": "stream",
     "text": [
      "✅ Updated and saved new grid at ../backend/landscapes/mlp_5_5/half_moons/train/range0.5/ep680\n",
      "Done: half_moons, width=5, depth=2, ab_range=0.5, epoch=680\n",
      "Previously saved model is of lower resolution; recomputing\n"
     ]
    },
    {
     "name": "stderr",
     "output_type": "stream",
     "text": [
      "Outer loop (a): 100%|██████████| 100/100 [00:48<00:00,  2.06it/s]\n"
     ]
    },
    {
     "name": "stdout",
     "output_type": "stream",
     "text": [
      "✅ Updated and saved new grid at ../backend/landscapes/mlp_5/two_blobs_overlap/train/range0.5/ep790\n",
      "Done: two_blobs_overlap, width=5, depth=1, ab_range=0.5, epoch=790\n",
      "Previously saved model is of lower resolution; recomputing\n"
     ]
    },
    {
     "name": "stderr",
     "output_type": "stream",
     "text": [
      "Outer loop (a): 100%|██████████| 100/100 [00:51<00:00,  1.96it/s]\n"
     ]
    },
    {
     "name": "stdout",
     "output_type": "stream",
     "text": [
      "✅ Updated and saved new grid at ../backend/landscapes/mlp_5_5/two_blobs_separate/train/range0.2/ep810\n",
      "Done: two_blobs_separate, width=5, depth=2, ab_range=0.2, epoch=810\n",
      "Previously saved model is of lower resolution; recomputing\n"
     ]
    },
    {
     "name": "stderr",
     "output_type": "stream",
     "text": [
      "Outer loop (a): 100%|██████████| 100/100 [00:49<00:00,  2.02it/s]\n"
     ]
    },
    {
     "name": "stdout",
     "output_type": "stream",
     "text": [
      "✅ Updated and saved new grid at ../backend/landscapes/mlp_5_5/four_corners/train/range0.5/ep50\n",
      "Done: four_corners, width=5, depth=2, ab_range=0.5, epoch=50\n",
      "Previously saved model is of lower resolution; recomputing\n"
     ]
    },
    {
     "name": "stderr",
     "output_type": "stream",
     "text": [
      "Outer loop (a): 100%|██████████| 100/100 [00:53<00:00,  1.88it/s]\n"
     ]
    },
    {
     "name": "stdout",
     "output_type": "stream",
     "text": [
      "✅ Updated and saved new grid at ../backend/landscapes/mlp_5_5_5_5/two_blobs_overlap/train/range0.2/ep790\n",
      "Done: two_blobs_overlap, width=5, depth=4, ab_range=0.2, epoch=790\n",
      "Previously saved model is of lower resolution; recomputing\n"
     ]
    },
    {
     "name": "stderr",
     "output_type": "stream",
     "text": [
      "Outer loop (a): 100%|██████████| 100/100 [00:55<00:00,  1.81it/s]\n"
     ]
    },
    {
     "name": "stdout",
     "output_type": "stream",
     "text": [
      "✅ Updated and saved new grid at ../backend/landscapes/mlp_5_5_5_5/four_corners/train/range2/ep50\n",
      "Done: four_corners, width=5, depth=4, ab_range=2, epoch=50\n",
      "Previously saved model is of lower resolution; recomputing\n"
     ]
    },
    {
     "name": "stderr",
     "output_type": "stream",
     "text": [
      "Outer loop (a): 100%|██████████| 100/100 [00:53<00:00,  1.86it/s]\n",
      "Outer loop (a):  98%|█████████▊| 98/100 [00:47<00:01,  1.82it/s]"
     ]
    },
    {
     "name": "stdout",
     "output_type": "stream",
     "text": [
      "✅ Updated and saved new grid at ../backend/landscapes/mlp_5_5_5_5/spirals/train/range5/ep790\n",
      "Done: spirals, width=5, depth=4, ab_range=5, epoch=790\n",
      "Previously saved model is of lower resolution; recomputing\n"
     ]
    },
    {
     "name": "stderr",
     "output_type": "stream",
     "text": [
      "Outer loop (a): 100%|██████████| 100/100 [00:48<00:00,  2.05it/s]\n",
      "Outer loop (a):  61%|██████    | 61/100 [00:29<00:19,  2.01it/s]"
     ]
    },
    {
     "name": "stdout",
     "output_type": "stream",
     "text": [
      "✅ Updated and saved new grid at ../backend/landscapes/mlp_5/two_blobs_overlap/train/range0.5/ep800\n",
      "Done: two_blobs_overlap, width=5, depth=1, ab_range=0.5, epoch=800\n",
      "Previously saved model is of lower resolution; recomputing\n"
     ]
    },
    {
     "name": "stderr",
     "output_type": "stream",
     "text": [
      "Outer loop (a): 100%|██████████| 100/100 [00:51<00:00,  1.94it/s]\n"
     ]
    },
    {
     "name": "stdout",
     "output_type": "stream",
     "text": [
      "✅ Updated and saved new grid at ../backend/landscapes/mlp_5_5/half_moons/train/range0.5/ep690\n",
      "Done: half_moons, width=5, depth=2, ab_range=0.5, epoch=690\n",
      "Previously saved model is of lower resolution; recomputing\n"
     ]
    },
    {
     "name": "stderr",
     "output_type": "stream",
     "text": [
      "Outer loop (a): 100%|██████████| 100/100 [00:50<00:00,  1.96it/s]\n"
     ]
    },
    {
     "name": "stdout",
     "output_type": "stream",
     "text": [
      "✅ Updated and saved new grid at ../backend/landscapes/mlp_5_5/two_blobs_separate/train/range0.2/ep820\n",
      "Done: two_blobs_separate, width=5, depth=2, ab_range=0.2, epoch=820\n",
      "Previously saved model is of lower resolution; recomputing\n"
     ]
    },
    {
     "name": "stderr",
     "output_type": "stream",
     "text": [
      "Outer loop (a): 100%|██████████| 100/100 [01:05<00:00,  1.53it/s]\n"
     ]
    },
    {
     "name": "stdout",
     "output_type": "stream",
     "text": [
      "✅ Updated and saved new grid at ../backend/landscapes/mlp_5_5_5_5_5_5_5_5/two_blobs_separate/train/range5/ep760\n",
      "Done: two_blobs_separate, width=5, depth=8, ab_range=5, epoch=760\n",
      "Previously saved model is of lower resolution; recomputing\n"
     ]
    },
    {
     "name": "stderr",
     "output_type": "stream",
     "text": [
      "Outer loop (a): 100%|██████████| 100/100 [00:50<00:00,  1.97it/s]\n"
     ]
    },
    {
     "name": "stdout",
     "output_type": "stream",
     "text": [
      "✅ Updated and saved new grid at ../backend/landscapes/mlp_5_5/four_corners/train/range0.5/ep60\n",
      "Done: four_corners, width=5, depth=2, ab_range=0.5, epoch=60\n",
      "Previously saved model is of lower resolution; recomputing\n"
     ]
    },
    {
     "name": "stderr",
     "output_type": "stream",
     "text": [
      "Outer loop (a): 100%|██████████| 100/100 [00:54<00:00,  1.84it/s]\n"
     ]
    },
    {
     "name": "stdout",
     "output_type": "stream",
     "text": [
      "✅ Updated and saved new grid at ../backend/landscapes/mlp_5_5_5_5/two_blobs_overlap/train/range0.2/ep800\n",
      "Done: two_blobs_overlap, width=5, depth=4, ab_range=0.2, epoch=800\n",
      "Previously saved model is of lower resolution; recomputing\n"
     ]
    },
    {
     "name": "stderr",
     "output_type": "stream",
     "text": [
      "Outer loop (a): 100%|██████████| 100/100 [00:55<00:00,  1.81it/s]\n"
     ]
    },
    {
     "name": "stdout",
     "output_type": "stream",
     "text": [
      "✅ Updated and saved new grid at ../backend/landscapes/mlp_5_5_5_5/four_corners/train/range2/ep60\n",
      "Done: four_corners, width=5, depth=4, ab_range=2, epoch=60\n",
      "Previously saved model is of lower resolution; recomputing\n"
     ]
    },
    {
     "name": "stderr",
     "output_type": "stream",
     "text": [
      "Outer loop (a): 100%|██████████| 100/100 [00:47<00:00,  2.11it/s]\n"
     ]
    },
    {
     "name": "stdout",
     "output_type": "stream",
     "text": [
      "✅ Updated and saved new grid at ../backend/landscapes/mlp_5/two_blobs_overlap/train/range0.5/ep810\n",
      "Done: two_blobs_overlap, width=5, depth=1, ab_range=0.5, epoch=810\n",
      "Previously saved model is of lower resolution; recomputing\n"
     ]
    },
    {
     "name": "stderr",
     "output_type": "stream",
     "text": [
      "Outer loop (a): 100%|██████████| 100/100 [00:50<00:00,  1.97it/s]\n"
     ]
    },
    {
     "name": "stdout",
     "output_type": "stream",
     "text": [
      "✅ Updated and saved new grid at ../backend/landscapes/mlp_5_5/half_moons/train/range0.5/ep700\n",
      "Done: half_moons, width=5, depth=2, ab_range=0.5, epoch=700\n",
      "Previously saved model is of lower resolution; recomputing\n"
     ]
    },
    {
     "name": "stderr",
     "output_type": "stream",
     "text": [
      "Outer loop (a): 100%|██████████| 100/100 [00:54<00:00,  1.84it/s]\n"
     ]
    },
    {
     "name": "stdout",
     "output_type": "stream",
     "text": [
      "✅ Updated and saved new grid at ../backend/landscapes/mlp_5_5_5_5/spirals/train/range5/ep800\n",
      "Done: spirals, width=5, depth=4, ab_range=5, epoch=800\n",
      "Previously saved model is of lower resolution; recomputing\n"
     ]
    },
    {
     "name": "stderr",
     "output_type": "stream",
     "text": [
      "Outer loop (a): 100%|██████████| 100/100 [00:50<00:00,  1.97it/s]\n"
     ]
    },
    {
     "name": "stdout",
     "output_type": "stream",
     "text": [
      "✅ Updated and saved new grid at ../backend/landscapes/mlp_5_5/two_blobs_separate/train/range0.2/ep830\n",
      "Done: two_blobs_separate, width=5, depth=2, ab_range=0.2, epoch=830\n",
      "Previously saved model is of lower resolution; recomputing\n"
     ]
    },
    {
     "name": "stderr",
     "output_type": "stream",
     "text": [
      "Outer loop (a): 100%|██████████| 100/100 [00:53<00:00,  1.88it/s]\n"
     ]
    },
    {
     "name": "stdout",
     "output_type": "stream",
     "text": [
      "✅ Updated and saved new grid at ../backend/landscapes/mlp_5_5/four_corners/train/range0.5/ep70\n",
      "Done: four_corners, width=5, depth=2, ab_range=0.5, epoch=70\n",
      "Previously saved model is of lower resolution; recomputing\n"
     ]
    },
    {
     "name": "stderr",
     "output_type": "stream",
     "text": [
      "Outer loop (a): 100%|██████████| 100/100 [01:03<00:00,  1.59it/s]\n"
     ]
    },
    {
     "name": "stdout",
     "output_type": "stream",
     "text": [
      "✅ Updated and saved new grid at ../backend/landscapes/mlp_5_5_5_5_5_5_5_5/two_blobs_separate/train/range5/ep770\n"
     ]
    },
    {
     "name": "stderr",
     "output_type": "stream",
     "text": [
      "Outer loop (a):  48%|████▊     | 48/100 [00:23<00:23,  2.18it/s]"
     ]
    },
    {
     "name": "stdout",
     "output_type": "stream",
     "text": [
      "Done: two_blobs_separate, width=5, depth=8, ab_range=5, epoch=770\n",
      "Previously saved model is of lower resolution; recomputing\n"
     ]
    },
    {
     "name": "stderr",
     "output_type": "stream",
     "text": [
      "Outer loop (a): 100%|██████████| 100/100 [00:55<00:00,  1.81it/s]\n"
     ]
    },
    {
     "name": "stdout",
     "output_type": "stream",
     "text": [
      "✅ Updated and saved new grid at ../backend/landscapes/mlp_5_5_5_5/two_blobs_overlap/train/range0.2/ep810\n",
      "Done: two_blobs_overlap, width=5, depth=4, ab_range=0.2, epoch=810\n",
      "Previously saved model is of lower resolution; recomputing\n"
     ]
    },
    {
     "name": "stderr",
     "output_type": "stream",
     "text": [
      "Outer loop (a): 100%|██████████| 100/100 [00:54<00:00,  1.85it/s]\n"
     ]
    },
    {
     "name": "stdout",
     "output_type": "stream",
     "text": [
      "✅ Updated and saved new grid at ../backend/landscapes/mlp_5_5_5_5/four_corners/train/range2/ep70\n",
      "Done: four_corners, width=5, depth=4, ab_range=2, epoch=70\n",
      "Previously saved model is of lower resolution; recomputing\n"
     ]
    },
    {
     "name": "stderr",
     "output_type": "stream",
     "text": [
      "Outer loop (a): 100%|██████████| 100/100 [00:47<00:00,  2.11it/s]\n"
     ]
    },
    {
     "name": "stdout",
     "output_type": "stream",
     "text": [
      "✅ Updated and saved new grid at ../backend/landscapes/mlp_5/two_blobs_overlap/train/range0.5/ep820\n",
      "Done: two_blobs_overlap, width=5, depth=1, ab_range=0.5, epoch=820\n",
      "Previously saved model is of lower resolution; recomputing\n"
     ]
    },
    {
     "name": "stderr",
     "output_type": "stream",
     "text": [
      "Outer loop (a): 100%|██████████| 100/100 [00:50<00:00,  1.98it/s]\n"
     ]
    },
    {
     "name": "stdout",
     "output_type": "stream",
     "text": [
      "✅ Updated and saved new grid at ../backend/landscapes/mlp_5_5/half_moons/train/range0.5/ep710\n",
      "Done: half_moons, width=5, depth=2, ab_range=0.5, epoch=710\n",
      "Previously saved model is of lower resolution; recomputing\n"
     ]
    },
    {
     "name": "stderr",
     "output_type": "stream",
     "text": [
      "Outer loop (a): 100%|██████████| 100/100 [00:51<00:00,  1.93it/s]\n"
     ]
    },
    {
     "name": "stdout",
     "output_type": "stream",
     "text": [
      "✅ Updated and saved new grid at ../backend/landscapes/mlp_5_5/two_blobs_separate/train/range0.2/ep840\n",
      "Done: two_blobs_separate, width=5, depth=2, ab_range=0.2, epoch=840\n",
      "Previously saved model is of lower resolution; recomputing\n"
     ]
    },
    {
     "name": "stderr",
     "output_type": "stream",
     "text": [
      "Outer loop (a): 100%|██████████| 100/100 [00:56<00:00,  1.76it/s]\n"
     ]
    },
    {
     "name": "stdout",
     "output_type": "stream",
     "text": [
      "✅ Updated and saved new grid at ../backend/landscapes/mlp_5_5_5_5/spirals/train/range5/ep810\n",
      "Done: spirals, width=5, depth=4, ab_range=5, epoch=810\n",
      "Previously saved model is of lower resolution; recomputing\n"
     ]
    },
    {
     "name": "stderr",
     "output_type": "stream",
     "text": [
      "Outer loop (a): 100%|██████████| 100/100 [00:49<00:00,  2.04it/s]\n"
     ]
    },
    {
     "name": "stdout",
     "output_type": "stream",
     "text": [
      "✅ Updated and saved new grid at ../backend/landscapes/mlp_5_5/four_corners/train/range0.5/ep80\n",
      "Done: four_corners, width=5, depth=2, ab_range=0.5, epoch=80\n",
      "Previously saved model is of lower resolution; recomputing\n"
     ]
    },
    {
     "name": "stderr",
     "output_type": "stream",
     "text": [
      "Outer loop (a):  84%|████████▍ | 84/100 [00:46<00:08,  1.88it/s]]\n"
     ]
    },
    {
     "name": "stdout",
     "output_type": "stream",
     "text": [
      "✅ Updated and saved new grid at ../backend/landscapes/mlp_5_5_5_5_5_5_5_5/two_blobs_separate/train/range5/ep780\n",
      "Done: two_blobs_separate, width=5, depth=8, ab_range=5, epoch=780\n",
      "Previously saved model is of lower resolution; recomputing\n"
     ]
    },
    {
     "name": "stderr",
     "output_type": "stream",
     "text": [
      "Outer loop (a): 100%|██████████| 100/100 [00:49<00:00,  2.02it/s]\n"
     ]
    },
    {
     "name": "stdout",
     "output_type": "stream",
     "text": [
      "✅ Updated and saved new grid at ../backend/landscapes/mlp_5/two_blobs_overlap/train/range0.5/ep830\n",
      "Done: two_blobs_overlap, width=5, depth=1, ab_range=0.5, epoch=830\n",
      "Previously saved model is of lower resolution; recomputing\n"
     ]
    },
    {
     "name": "stderr",
     "output_type": "stream",
     "text": [
      "Outer loop (a): 100%|██████████| 100/100 [00:54<00:00,  1.84it/s]\n",
      "Outer loop (a):  98%|█████████▊| 98/100 [00:54<00:01,  1.75it/s]"
     ]
    },
    {
     "name": "stdout",
     "output_type": "stream",
     "text": [
      "✅ Updated and saved new grid at ../backend/landscapes/mlp_5_5_5_5/four_corners/train/range2/ep80\n",
      "Done: four_corners, width=5, depth=4, ab_range=2, epoch=80\n",
      "Previously saved model is of lower resolution; recomputing\n"
     ]
    },
    {
     "name": "stderr",
     "output_type": "stream",
     "text": [
      "Outer loop (a): 100%|██████████| 100/100 [00:55<00:00,  1.80it/s]\n"
     ]
    },
    {
     "name": "stdout",
     "output_type": "stream",
     "text": [
      "✅ Updated and saved new grid at ../backend/landscapes/mlp_5_5_5_5/two_blobs_overlap/train/range0.2/ep820\n",
      "Done: two_blobs_overlap, width=5, depth=4, ab_range=0.2, epoch=820\n",
      "Previously saved model is of lower resolution; recomputing\n"
     ]
    },
    {
     "name": "stderr",
     "output_type": "stream",
     "text": [
      "Outer loop (a): 100%|██████████| 100/100 [00:50<00:00,  2.00it/s]\n"
     ]
    },
    {
     "name": "stdout",
     "output_type": "stream",
     "text": [
      "✅ Updated and saved new grid at ../backend/landscapes/mlp_5_5/half_moons/train/range0.5/ep720\n",
      "Done: half_moons, width=5, depth=2, ab_range=0.5, epoch=720\n",
      "Previously saved model is of lower resolution; recomputing\n"
     ]
    },
    {
     "name": "stderr",
     "output_type": "stream",
     "text": [
      "Outer loop (a): 100%|██████████| 100/100 [00:51<00:00,  1.94it/s]\n"
     ]
    },
    {
     "name": "stdout",
     "output_type": "stream",
     "text": [
      "✅ Updated and saved new grid at ../backend/landscapes/mlp_5_5/two_blobs_separate/train/range0.2/ep850\n",
      "Done: two_blobs_separate, width=5, depth=2, ab_range=0.2, epoch=850\n",
      "Previously saved model is of lower resolution; recomputing\n"
     ]
    },
    {
     "name": "stderr",
     "output_type": "stream",
     "text": [
      "Outer loop (a): 100%|██████████| 100/100 [00:53<00:00,  1.87it/s]\n"
     ]
    },
    {
     "name": "stdout",
     "output_type": "stream",
     "text": [
      "✅ Updated and saved new grid at ../backend/landscapes/mlp_5_5_5_5/spirals/train/range5/ep820\n",
      "Done: spirals, width=5, depth=4, ab_range=5, epoch=820\n",
      "Previously saved model is of lower resolution; recomputing\n"
     ]
    },
    {
     "name": "stderr",
     "output_type": "stream",
     "text": [
      "Outer loop (a): 100%|██████████| 100/100 [00:50<00:00,  1.97it/s]\n"
     ]
    },
    {
     "name": "stdout",
     "output_type": "stream",
     "text": [
      "✅ Updated and saved new grid at ../backend/landscapes/mlp_5_5/four_corners/train/range0.5/ep90\n",
      "Done: four_corners, width=5, depth=2, ab_range=0.5, epoch=90\n",
      "Previously saved model is of lower resolution; recomputing\n"
     ]
    },
    {
     "name": "stderr",
     "output_type": "stream",
     "text": [
      "Outer loop (a): 100%|██████████| 100/100 [00:47<00:00,  2.12it/s]\n"
     ]
    },
    {
     "name": "stdout",
     "output_type": "stream",
     "text": [
      "✅ Updated and saved new grid at ../backend/landscapes/mlp_5/two_blobs_overlap/train/range0.5/ep840\n",
      "Done: two_blobs_overlap, width=5, depth=1, ab_range=0.5, epoch=840\n",
      "Previously saved model is of lower resolution; recomputing\n"
     ]
    },
    {
     "name": "stderr",
     "output_type": "stream",
     "text": [
      "Outer loop (a): 100%|██████████| 100/100 [00:53<00:00,  1.86it/s]\n"
     ]
    },
    {
     "name": "stdout",
     "output_type": "stream",
     "text": [
      "✅ Updated and saved new grid at ../backend/landscapes/mlp_5_5_5_5/four_corners/train/range2/ep90\n",
      "Done: four_corners, width=5, depth=4, ab_range=2, epoch=90\n",
      "Previously saved model is of lower resolution; recomputing\n"
     ]
    },
    {
     "name": "stderr",
     "output_type": "stream",
     "text": [
      "Outer loop (a): 100%|██████████| 100/100 [01:02<00:00,  1.60it/s]\n"
     ]
    },
    {
     "name": "stdout",
     "output_type": "stream",
     "text": [
      "✅ Updated and saved new grid at ../backend/landscapes/mlp_5_5_5_5_5_5_5_5/two_blobs_separate/train/range5/ep790\n",
      "Done: two_blobs_separate, width=5, depth=8, ab_range=5, epoch=790\n",
      "Previously saved model is of lower resolution; recomputing\n"
     ]
    },
    {
     "name": "stderr",
     "output_type": "stream",
     "text": [
      "Outer loop (a): 100%|██████████| 100/100 [00:50<00:00,  1.97it/s]\n"
     ]
    },
    {
     "name": "stdout",
     "output_type": "stream",
     "text": [
      "✅ Updated and saved new grid at ../backend/landscapes/mlp_5_5/half_moons/train/range0.5/ep730\n",
      "Done: half_moons, width=5, depth=2, ab_range=0.5, epoch=730\n",
      "Previously saved model is of lower resolution; recomputing\n"
     ]
    },
    {
     "name": "stderr",
     "output_type": "stream",
     "text": [
      "Outer loop (a): 100%|██████████| 100/100 [00:55<00:00,  1.79it/s]\n"
     ]
    },
    {
     "name": "stdout",
     "output_type": "stream",
     "text": [
      "✅ Updated and saved new grid at ../backend/landscapes/mlp_5_5_5_5/two_blobs_overlap/train/range0.2/ep830\n",
      "Done: two_blobs_overlap, width=5, depth=4, ab_range=0.2, epoch=830\n",
      "Previously saved model is of lower resolution; recomputing\n"
     ]
    },
    {
     "name": "stderr",
     "output_type": "stream",
     "text": [
      "Outer loop (a): 100%|██████████| 100/100 [00:49<00:00,  2.00it/s]\n"
     ]
    },
    {
     "name": "stdout",
     "output_type": "stream",
     "text": [
      "✅ Updated and saved new grid at ../backend/landscapes/mlp_5_5/two_blobs_separate/train/range0.2/ep860\n",
      "Done: two_blobs_separate, width=5, depth=2, ab_range=0.2, epoch=860\n",
      "Previously saved model is of lower resolution; recomputing\n"
     ]
    },
    {
     "name": "stderr",
     "output_type": "stream",
     "text": [
      "Outer loop (a): 100%|██████████| 100/100 [00:55<00:00,  1.80it/s]\n"
     ]
    },
    {
     "name": "stdout",
     "output_type": "stream",
     "text": [
      "✅ Updated and saved new grid at ../backend/landscapes/mlp_5_5_5_5/spirals/train/range5/ep830\n",
      "Done: spirals, width=5, depth=4, ab_range=5, epoch=830\n",
      "Previously saved model is of lower resolution; recomputing\n"
     ]
    },
    {
     "name": "stderr",
     "output_type": "stream",
     "text": [
      "Outer loop (a): 100%|██████████| 100/100 [00:49<00:00,  2.01it/s]\n"
     ]
    },
    {
     "name": "stdout",
     "output_type": "stream",
     "text": [
      "✅ Updated and saved new grid at ../backend/landscapes/mlp_5_5/four_corners/train/range0.5/ep100\n",
      "Done: four_corners, width=5, depth=2, ab_range=0.5, epoch=100\n",
      "Previously saved model is of lower resolution; recomputing\n"
     ]
    },
    {
     "name": "stderr",
     "output_type": "stream",
     "text": [
      "Outer loop (a): 100%|██████████| 100/100 [00:47<00:00,  2.09it/s]\n"
     ]
    },
    {
     "name": "stdout",
     "output_type": "stream",
     "text": [
      "✅ Updated and saved new grid at ../backend/landscapes/mlp_5/two_blobs_overlap/train/range0.5/ep850\n",
      "Done: two_blobs_overlap, width=5, depth=1, ab_range=0.5, epoch=850\n"
     ]
    },
    {
     "name": "stderr",
     "output_type": "stream",
     "text": [
      "Outer loop (a):  69%|██████▉   | 69/100 [00:38<00:18,  1.64it/s]"
     ]
    },
    {
     "name": "stdout",
     "output_type": "stream",
     "text": [
      "Previously saved model is of lower resolution; recomputing\n"
     ]
    },
    {
     "name": "stderr",
     "output_type": "stream",
     "text": [
      "Outer loop (a): 100%|██████████| 100/100 [00:54<00:00,  1.85it/s]\n"
     ]
    },
    {
     "name": "stdout",
     "output_type": "stream",
     "text": [
      "✅ Updated and saved new grid at ../backend/landscapes/mlp_5_5_5_5/four_corners/train/range2/ep100\n",
      "Done: four_corners, width=5, depth=4, ab_range=2, epoch=100\n",
      "Previously saved model is of lower resolution; recomputing\n"
     ]
    },
    {
     "name": "stderr",
     "output_type": "stream",
     "text": [
      "Outer loop (a): 100%|██████████| 100/100 [00:52<00:00,  1.91it/s]\n"
     ]
    },
    {
     "name": "stdout",
     "output_type": "stream",
     "text": [
      "✅ Updated and saved new grid at ../backend/landscapes/mlp_5_5/half_moons/train/range0.5/ep740\n",
      "Done: half_moons, width=5, depth=2, ab_range=0.5, epoch=740\n",
      "Previously saved model is of lower resolution; recomputing\n"
     ]
    },
    {
     "name": "stderr",
     "output_type": "stream",
     "text": [
      "Outer loop (a): 100%|██████████| 100/100 [00:54<00:00,  1.84it/s]\n"
     ]
    },
    {
     "name": "stdout",
     "output_type": "stream",
     "text": [
      "✅ Updated and saved new grid at ../backend/landscapes/mlp_5_5_5_5/two_blobs_overlap/train/range0.2/ep840\n",
      "Done: two_blobs_overlap, width=5, depth=4, ab_range=0.2, epoch=840\n",
      "Previously saved model is of lower resolution; recomputing\n"
     ]
    },
    {
     "name": "stderr",
     "output_type": "stream",
     "text": [
      "Outer loop (a): 100%|██████████| 100/100 [00:51<00:00,  1.94it/s]\n"
     ]
    },
    {
     "name": "stdout",
     "output_type": "stream",
     "text": [
      "✅ Updated and saved new grid at ../backend/landscapes/mlp_5_5/two_blobs_separate/train/range0.2/ep870\n",
      "Done: two_blobs_separate, width=5, depth=2, ab_range=0.2, epoch=870\n",
      "Previously saved model is of lower resolution; recomputing\n"
     ]
    },
    {
     "name": "stderr",
     "output_type": "stream",
     "text": [
      "Outer loop (a): 100%|██████████| 100/100 [01:02<00:00,  1.60it/s]\n"
     ]
    },
    {
     "name": "stdout",
     "output_type": "stream",
     "text": [
      "✅ Updated and saved new grid at ../backend/landscapes/mlp_5_5_5_5_5_5_5_5/two_blobs_separate/train/range5/ep800\n",
      "Done: two_blobs_separate, width=5, depth=8, ab_range=5, epoch=800\n",
      "Previously saved model is of lower resolution; recomputing\n"
     ]
    },
    {
     "name": "stderr",
     "output_type": "stream",
     "text": [
      "Outer loop (a): 100%|██████████| 100/100 [00:56<00:00,  1.78it/s]\n"
     ]
    },
    {
     "name": "stdout",
     "output_type": "stream",
     "text": [
      "✅ Updated and saved new grid at ../backend/landscapes/mlp_5_5_5_5/spirals/train/range5/ep840\n",
      "Done: spirals, width=5, depth=4, ab_range=5, epoch=840\n",
      "Previously saved model is of lower resolution; recomputing\n"
     ]
    },
    {
     "name": "stderr",
     "output_type": "stream",
     "text": [
      "Outer loop (a): 100%|██████████| 100/100 [00:52<00:00,  1.91it/s]\n"
     ]
    },
    {
     "name": "stdout",
     "output_type": "stream",
     "text": [
      "✅ Updated and saved new grid at ../backend/landscapes/mlp_5_5/four_corners/train/range0.5/ep110\n",
      "Done: four_corners, width=5, depth=2, ab_range=0.5, epoch=110\n",
      "Previously saved model is of lower resolution; recomputing\n"
     ]
    },
    {
     "name": "stderr",
     "output_type": "stream",
     "text": [
      "Outer loop (a): 100%|██████████| 100/100 [00:47<00:00,  2.12it/s]\n"
     ]
    },
    {
     "name": "stdout",
     "output_type": "stream",
     "text": [
      "✅ Updated and saved new grid at ../backend/landscapes/mlp_5/two_blobs_overlap/train/range0.5/ep860\n",
      "Done: two_blobs_overlap, width=5, depth=1, ab_range=0.5, epoch=860\n",
      "Previously saved model is of lower resolution; recomputing\n"
     ]
    },
    {
     "name": "stderr",
     "output_type": "stream",
     "text": [
      "Outer loop (a): 100%|██████████| 100/100 [00:50<00:00,  1.98it/s]\n"
     ]
    },
    {
     "name": "stdout",
     "output_type": "stream",
     "text": [
      "✅ Updated and saved new grid at ../backend/landscapes/mlp_5_5/half_moons/train/range0.5/ep750\n",
      "Done: half_moons, width=5, depth=2, ab_range=0.5, epoch=750\n",
      "Previously saved model is of lower resolution; recomputing\n"
     ]
    },
    {
     "name": "stderr",
     "output_type": "stream",
     "text": [
      "Outer loop (a): 100%|██████████| 100/100 [00:54<00:00,  1.82it/s]\n"
     ]
    },
    {
     "name": "stdout",
     "output_type": "stream",
     "text": [
      "✅ Updated and saved new grid at ../backend/landscapes/mlp_5_5_5_5/four_corners/train/range2/ep110\n",
      "Done: four_corners, width=5, depth=4, ab_range=2, epoch=110\n",
      "Previously saved model is of lower resolution; recomputing\n"
     ]
    },
    {
     "name": "stderr",
     "output_type": "stream",
     "text": [
      "Outer loop (a): 100%|██████████| 100/100 [00:51<00:00,  1.93it/s]\n"
     ]
    },
    {
     "name": "stdout",
     "output_type": "stream",
     "text": [
      "✅ Updated and saved new grid at ../backend/landscapes/mlp_5_5/two_blobs_separate/train/range0.2/ep880\n",
      "Done: two_blobs_separate, width=5, depth=2, ab_range=0.2, epoch=880\n",
      "Previously saved model is of lower resolution; recomputing\n"
     ]
    },
    {
     "name": "stderr",
     "output_type": "stream",
     "text": [
      "Outer loop (a): 100%|██████████| 100/100 [00:56<00:00,  1.78it/s]\n"
     ]
    },
    {
     "name": "stdout",
     "output_type": "stream",
     "text": [
      "✅ Updated and saved new grid at ../backend/landscapes/mlp_5_5_5_5/two_blobs_overlap/train/range0.2/ep850\n",
      "Done: two_blobs_overlap, width=5, depth=4, ab_range=0.2, epoch=850\n",
      "Previously saved model is of lower resolution; recomputing\n"
     ]
    },
    {
     "name": "stderr",
     "output_type": "stream",
     "text": [
      "Outer loop (a): 100%|██████████| 100/100 [00:50<00:00,  1.98it/s]\n"
     ]
    },
    {
     "name": "stdout",
     "output_type": "stream",
     "text": [
      "✅ Updated and saved new grid at ../backend/landscapes/mlp_5_5/four_corners/train/range0.5/ep120\n",
      "Done: four_corners, width=5, depth=2, ab_range=0.5, epoch=120\n",
      "Previously saved model is of lower resolution; recomputing\n"
     ]
    },
    {
     "name": "stderr",
     "output_type": "stream",
     "text": [
      "Outer loop (a): 100%|██████████| 100/100 [01:03<00:00,  1.57it/s]\n"
     ]
    },
    {
     "name": "stdout",
     "output_type": "stream",
     "text": [
      "✅ Updated and saved new grid at ../backend/landscapes/mlp_5_5_5_5_5_5_5_5/two_blobs_separate/train/range5/ep810\n"
     ]
    },
    {
     "name": "stderr",
     "output_type": "stream",
     "text": [
      "Outer loop (a):  85%|████████▌ | 85/100 [00:41<00:07,  2.05it/s]"
     ]
    },
    {
     "name": "stdout",
     "output_type": "stream",
     "text": [
      "Done: two_blobs_separate, width=5, depth=8, ab_range=5, epoch=810\n",
      "Previously saved model is of lower resolution; recomputing\n"
     ]
    },
    {
     "name": "stderr",
     "output_type": "stream",
     "text": [
      "Outer loop (a): 100%|██████████| 100/100 [00:54<00:00,  1.82it/s]\n"
     ]
    },
    {
     "name": "stdout",
     "output_type": "stream",
     "text": [
      "✅ Updated and saved new grid at ../backend/landscapes/mlp_5_5_5_5/spirals/train/range5/ep850\n",
      "Done: spirals, width=5, depth=4, ab_range=5, epoch=850\n",
      "Previously saved model is of lower resolution; recomputing\n"
     ]
    },
    {
     "name": "stderr",
     "output_type": "stream",
     "text": [
      "Outer loop (a): 100%|██████████| 100/100 [00:48<00:00,  2.07it/s]\n"
     ]
    },
    {
     "name": "stdout",
     "output_type": "stream",
     "text": [
      "✅ Updated and saved new grid at ../backend/landscapes/mlp_5/two_blobs_overlap/train/range0.5/ep870\n",
      "Done: two_blobs_overlap, width=5, depth=1, ab_range=0.5, epoch=870\n",
      "Previously saved model is of lower resolution; recomputing\n"
     ]
    },
    {
     "name": "stderr",
     "output_type": "stream",
     "text": [
      "Outer loop (a): 100%|██████████| 100/100 [00:49<00:00,  2.03it/s]\n"
     ]
    },
    {
     "name": "stdout",
     "output_type": "stream",
     "text": [
      "✅ Updated and saved new grid at ../backend/landscapes/mlp_5_5/half_moons/train/range0.5/ep760\n",
      "Done: half_moons, width=5, depth=2, ab_range=0.5, epoch=760\n",
      "Previously saved model is of lower resolution; recomputing\n"
     ]
    },
    {
     "name": "stderr",
     "output_type": "stream",
     "text": [
      "Outer loop (a): 100%|██████████| 100/100 [00:50<00:00,  1.97it/s]\n"
     ]
    },
    {
     "name": "stdout",
     "output_type": "stream",
     "text": [
      "✅ Updated and saved new grid at ../backend/landscapes/mlp_5_5/two_blobs_separate/train/range0.2/ep890\n",
      "Done: two_blobs_separate, width=5, depth=2, ab_range=0.2, epoch=890\n",
      "Previously saved model is of lower resolution; recomputing\n"
     ]
    },
    {
     "name": "stderr",
     "output_type": "stream",
     "text": [
      "Outer loop (a): 100%|██████████| 100/100 [00:51<00:00,  1.93it/s]\n"
     ]
    },
    {
     "name": "stdout",
     "output_type": "stream",
     "text": [
      "✅ Updated and saved new grid at ../backend/landscapes/mlp_5_5_5_5/four_corners/train/range2/ep120\n",
      "Done: four_corners, width=5, depth=4, ab_range=2, epoch=120\n",
      "Previously saved model is of lower resolution; recomputing\n"
     ]
    },
    {
     "name": "stderr",
     "output_type": "stream",
     "text": [
      "Outer loop (a): 100%|██████████| 100/100 [00:54<00:00,  1.83it/s]\n"
     ]
    },
    {
     "name": "stdout",
     "output_type": "stream",
     "text": [
      "✅ Updated and saved new grid at ../backend/landscapes/mlp_5_5_5_5/two_blobs_overlap/train/range0.2/ep860\n",
      "Done: two_blobs_overlap, width=5, depth=4, ab_range=0.2, epoch=860\n",
      "Previously saved model is of lower resolution; recomputing\n"
     ]
    },
    {
     "name": "stderr",
     "output_type": "stream",
     "text": [
      "Outer loop (a): 100%|██████████| 100/100 [00:49<00:00,  2.00it/s]\n"
     ]
    },
    {
     "name": "stdout",
     "output_type": "stream",
     "text": [
      "✅ Updated and saved new grid at ../backend/landscapes/mlp_5_5/four_corners/train/range0.5/ep130\n",
      "Done: four_corners, width=5, depth=2, ab_range=0.5, epoch=130\n",
      "Previously saved model is of lower resolution; recomputing\n"
     ]
    },
    {
     "name": "stderr",
     "output_type": "stream",
     "text": [
      "Outer loop (a): 100%|██████████| 100/100 [00:46<00:00,  2.14it/s]\n"
     ]
    },
    {
     "name": "stdout",
     "output_type": "stream",
     "text": [
      "✅ Updated and saved new grid at ../backend/landscapes/mlp_5/two_blobs_overlap/train/range0.5/ep880\n",
      "Done: two_blobs_overlap, width=5, depth=1, ab_range=0.5, epoch=880\n",
      "Previously saved model is of lower resolution; recomputing\n"
     ]
    },
    {
     "name": "stderr",
     "output_type": "stream",
     "text": [
      "Outer loop (a): 100%|██████████| 100/100 [00:55<00:00,  1.81it/s]\n"
     ]
    },
    {
     "name": "stdout",
     "output_type": "stream",
     "text": [
      "✅ Updated and saved new grid at ../backend/landscapes/mlp_5_5_5_5/spirals/train/range5/ep860\n",
      "Done: spirals, width=5, depth=4, ab_range=5, epoch=860\n",
      "Previously saved model is of lower resolution; recomputing\n"
     ]
    },
    {
     "name": "stderr",
     "output_type": "stream",
     "text": [
      "Outer loop (a): 100%|██████████| 100/100 [01:03<00:00,  1.58it/s]\n"
     ]
    },
    {
     "name": "stdout",
     "output_type": "stream",
     "text": [
      "✅ Updated and saved new grid at ../backend/landscapes/mlp_5_5_5_5_5_5_5_5/two_blobs_separate/train/range5/ep820\n",
      "Done: two_blobs_separate, width=5, depth=8, ab_range=5, epoch=820\n",
      "Previously saved model is of lower resolution; recomputing\n"
     ]
    },
    {
     "name": "stderr",
     "output_type": "stream",
     "text": [
      "Outer loop (a): 100%|██████████| 100/100 [00:53<00:00,  1.87it/s]\n"
     ]
    },
    {
     "name": "stdout",
     "output_type": "stream",
     "text": [
      "✅ Updated and saved new grid at ../backend/landscapes/mlp_5_5/half_moons/train/range0.5/ep770\n",
      "Done: half_moons, width=5, depth=2, ab_range=0.5, epoch=770\n",
      "Previously saved model is of lower resolution; recomputing\n"
     ]
    },
    {
     "name": "stderr",
     "output_type": "stream",
     "text": [
      "Outer loop (a): 100%|██████████| 100/100 [00:50<00:00,  1.97it/s]\n"
     ]
    },
    {
     "name": "stdout",
     "output_type": "stream",
     "text": [
      "✅ Updated and saved new grid at ../backend/landscapes/mlp_5_5/two_blobs_separate/train/range0.2/ep900\n",
      "Done: two_blobs_separate, width=5, depth=2, ab_range=0.2, epoch=900\n",
      "Previously saved model is of lower resolution; recomputing\n"
     ]
    },
    {
     "name": "stderr",
     "output_type": "stream",
     "text": [
      "Outer loop (a): 100%|██████████| 100/100 [00:55<00:00,  1.79it/s]\n"
     ]
    },
    {
     "name": "stdout",
     "output_type": "stream",
     "text": [
      "✅ Updated and saved new grid at ../backend/landscapes/mlp_5_5_5_5/four_corners/train/range2/ep130\n",
      "Done: four_corners, width=5, depth=4, ab_range=2, epoch=130\n",
      "Previously saved model is of lower resolution; recomputing\n"
     ]
    },
    {
     "name": "stderr",
     "output_type": "stream",
     "text": [
      "Outer loop (a): 100%|██████████| 100/100 [00:56<00:00,  1.76it/s]\n",
      "Outer loop (a):  93%|█████████▎| 93/100 [00:44<00:03,  1.93it/s]"
     ]
    },
    {
     "name": "stdout",
     "output_type": "stream",
     "text": [
      "✅ Updated and saved new grid at ../backend/landscapes/mlp_5_5_5_5/two_blobs_overlap/train/range0.2/ep870\n",
      "Done: two_blobs_overlap, width=5, depth=4, ab_range=0.2, epoch=870\n",
      "Previously saved model is of lower resolution; recomputing\n"
     ]
    },
    {
     "name": "stderr",
     "output_type": "stream",
     "text": [
      "Outer loop (a): 100%|██████████| 100/100 [00:50<00:00,  1.97it/s]\n"
     ]
    },
    {
     "name": "stdout",
     "output_type": "stream",
     "text": [
      "✅ Updated and saved new grid at ../backend/landscapes/mlp_5_5/four_corners/train/range0.5/ep140\n",
      "Done: four_corners, width=5, depth=2, ab_range=0.5, epoch=140\n",
      "Previously saved model is of lower resolution; recomputing\n"
     ]
    },
    {
     "name": "stderr",
     "output_type": "stream",
     "text": [
      "Outer loop (a): 100%|██████████| 100/100 [00:47<00:00,  2.10it/s]\n"
     ]
    },
    {
     "name": "stdout",
     "output_type": "stream",
     "text": [
      "✅ Updated and saved new grid at ../backend/landscapes/mlp_5/two_blobs_overlap/train/range0.5/ep890\n",
      "Done: two_blobs_overlap, width=5, depth=1, ab_range=0.5, epoch=890\n",
      "Previously saved model is of lower resolution; recomputing\n"
     ]
    },
    {
     "name": "stderr",
     "output_type": "stream",
     "text": [
      "Outer loop (a): 100%|██████████| 100/100 [00:54<00:00,  1.84it/s]\n"
     ]
    },
    {
     "name": "stdout",
     "output_type": "stream",
     "text": [
      "✅ Updated and saved new grid at ../backend/landscapes/mlp_5_5_5_5/spirals/train/range5/ep870\n",
      "Done: spirals, width=5, depth=4, ab_range=5, epoch=870\n",
      "Previously saved model is of lower resolution; recomputing\n"
     ]
    },
    {
     "name": "stderr",
     "output_type": "stream",
     "text": [
      "Outer loop (a): 100%|██████████| 100/100 [01:03<00:00,  1.58it/s]\n"
     ]
    },
    {
     "name": "stdout",
     "output_type": "stream",
     "text": [
      "✅ Updated and saved new grid at ../backend/landscapes/mlp_5_5_5_5_5_5_5_5/two_blobs_separate/train/range5/ep830\n",
      "Done: two_blobs_separate, width=5, depth=8, ab_range=5, epoch=830\n",
      "Previously saved model is of lower resolution; recomputing\n"
     ]
    },
    {
     "name": "stderr",
     "output_type": "stream",
     "text": [
      "Outer loop (a): 100%|██████████| 100/100 [00:49<00:00,  2.02it/s]\n"
     ]
    },
    {
     "name": "stdout",
     "output_type": "stream",
     "text": [
      "✅ Updated and saved new grid at ../backend/landscapes/mlp_5_5/half_moons/train/range0.5/ep780\n",
      "Done: half_moons, width=5, depth=2, ab_range=0.5, epoch=780\n",
      "Previously saved model is of lower resolution; recomputing\n"
     ]
    },
    {
     "name": "stderr",
     "output_type": "stream",
     "text": [
      "Outer loop (a): 100%|██████████| 100/100 [00:50<00:00,  1.97it/s]\n"
     ]
    },
    {
     "name": "stdout",
     "output_type": "stream",
     "text": [
      "✅ Updated and saved new grid at ../backend/landscapes/mlp_5_5/two_blobs_separate/train/range0.2/ep910\n",
      "Done: two_blobs_separate, width=5, depth=2, ab_range=0.2, epoch=910\n",
      "Previously saved model is of lower resolution; recomputing\n"
     ]
    },
    {
     "name": "stderr",
     "output_type": "stream",
     "text": [
      "Outer loop (a): 100%|██████████| 100/100 [00:54<00:00,  1.85it/s]\n"
     ]
    },
    {
     "name": "stdout",
     "output_type": "stream",
     "text": [
      "✅ Updated and saved new grid at ../backend/landscapes/mlp_5_5_5_5/four_corners/train/range2/ep140\n",
      "Done: four_corners, width=5, depth=4, ab_range=2, epoch=140\n",
      "Previously saved model is of lower resolution; recomputing\n"
     ]
    },
    {
     "name": "stderr",
     "output_type": "stream",
     "text": [
      "Outer loop (a): 100%|██████████| 100/100 [00:46<00:00,  2.15it/s]\n"
     ]
    },
    {
     "name": "stdout",
     "output_type": "stream",
     "text": [
      "✅ Updated and saved new grid at ../backend/landscapes/mlp_5/two_blobs_overlap/train/range0.5/ep900\n",
      "Done: two_blobs_overlap, width=5, depth=1, ab_range=0.5, epoch=900\n",
      "Previously saved model is of lower resolution; recomputing\n"
     ]
    },
    {
     "name": "stderr",
     "output_type": "stream",
     "text": [
      "Outer loop (a): 100%|██████████| 100/100 [00:49<00:00,  2.01it/s]\n"
     ]
    },
    {
     "name": "stdout",
     "output_type": "stream",
     "text": [
      "✅ Updated and saved new grid at ../backend/landscapes/mlp_5_5/four_corners/train/range0.5/ep150\n",
      "Done: four_corners, width=5, depth=2, ab_range=0.5, epoch=150\n",
      "Previously saved model is of lower resolution; recomputing\n"
     ]
    },
    {
     "name": "stderr",
     "output_type": "stream",
     "text": [
      "Outer loop (a): 100%|██████████| 100/100 [00:56<00:00,  1.76it/s]\n",
      "Outer loop (a):  78%|███████▊  | 78/100 [00:42<00:12,  1.81it/s]"
     ]
    },
    {
     "name": "stdout",
     "output_type": "stream",
     "text": [
      "✅ Updated and saved new grid at ../backend/landscapes/mlp_5_5_5_5/two_blobs_overlap/train/range0.2/ep880\n",
      "Done: two_blobs_overlap, width=5, depth=4, ab_range=0.2, epoch=880\n",
      "Previously saved model is of lower resolution; recomputing\n"
     ]
    },
    {
     "name": "stderr",
     "output_type": "stream",
     "text": [
      "Outer loop (a): 100%|██████████| 100/100 [00:54<00:00,  1.84it/s]\n"
     ]
    },
    {
     "name": "stdout",
     "output_type": "stream",
     "text": [
      "✅ Updated and saved new grid at ../backend/landscapes/mlp_5_5_5_5/spirals/train/range5/ep880\n",
      "Done: spirals, width=5, depth=4, ab_range=5, epoch=880\n",
      "Previously saved model is of lower resolution; recomputing\n"
     ]
    },
    {
     "name": "stderr",
     "output_type": "stream",
     "text": [
      "Outer loop (a): 100%|██████████| 100/100 [00:50<00:00,  2.00it/s]\n"
     ]
    },
    {
     "name": "stdout",
     "output_type": "stream",
     "text": [
      "✅ Updated and saved new grid at ../backend/landscapes/mlp_5_5/half_moons/train/range0.5/ep790\n",
      "Done: half_moons, width=5, depth=2, ab_range=0.5, epoch=790\n",
      "Previously saved model is of lower resolution; recomputing\n"
     ]
    },
    {
     "name": "stderr",
     "output_type": "stream",
     "text": [
      "Outer loop (a): 100%|██████████| 100/100 [00:50<00:00,  1.98it/s]\n"
     ]
    },
    {
     "name": "stdout",
     "output_type": "stream",
     "text": [
      "✅ Updated and saved new grid at ../backend/landscapes/mlp_5_5/two_blobs_separate/train/range0.2/ep920\n",
      "Done: two_blobs_separate, width=5, depth=2, ab_range=0.2, epoch=920\n",
      "Previously saved model is of lower resolution; recomputing\n"
     ]
    },
    {
     "name": "stderr",
     "output_type": "stream",
     "text": [
      "Outer loop (a): 100%|██████████| 100/100 [01:03<00:00,  1.58it/s]\n"
     ]
    },
    {
     "name": "stdout",
     "output_type": "stream",
     "text": [
      "✅ Updated and saved new grid at ../backend/landscapes/mlp_5_5_5_5_5_5_5_5/two_blobs_separate/train/range5/ep840\n",
      "Done: two_blobs_separate, width=5, depth=8, ab_range=5, epoch=840\n",
      "Previously saved model is of lower resolution; recomputing\n"
     ]
    },
    {
     "name": "stderr",
     "output_type": "stream",
     "text": [
      "Outer loop (a): 100%|██████████| 100/100 [00:47<00:00,  2.12it/s]\n"
     ]
    },
    {
     "name": "stdout",
     "output_type": "stream",
     "text": [
      "✅ Updated and saved new grid at ../backend/landscapes/mlp_5/two_blobs_overlap/train/range0.5/ep910\n",
      "Done: two_blobs_overlap, width=5, depth=1, ab_range=0.5, epoch=910\n",
      "Previously saved model is of lower resolution; recomputing\n"
     ]
    },
    {
     "name": "stderr",
     "output_type": "stream",
     "text": [
      "Outer loop (a): 100%|██████████| 100/100 [00:54<00:00,  1.84it/s]\n"
     ]
    },
    {
     "name": "stdout",
     "output_type": "stream",
     "text": [
      "✅ Updated and saved new grid at ../backend/landscapes/mlp_5_5_5_5/four_corners/train/range2/ep150\n",
      "Done: four_corners, width=5, depth=4, ab_range=2, epoch=150\n",
      "Previously saved model is of lower resolution; recomputing\n"
     ]
    },
    {
     "name": "stderr",
     "output_type": "stream",
     "text": [
      "Outer loop (a): 100%|██████████| 100/100 [00:51<00:00,  1.93it/s]\n"
     ]
    },
    {
     "name": "stdout",
     "output_type": "stream",
     "text": [
      "✅ Updated and saved new grid at ../backend/landscapes/mlp_5_5/four_corners/train/range0.5/ep160\n",
      "Done: four_corners, width=5, depth=2, ab_range=0.5, epoch=160\n",
      "Previously saved model is of lower resolution; recomputing\n"
     ]
    },
    {
     "name": "stderr",
     "output_type": "stream",
     "text": [
      "Outer loop (a): 100%|██████████| 100/100 [00:57<00:00,  1.74it/s]\n"
     ]
    },
    {
     "name": "stdout",
     "output_type": "stream",
     "text": [
      "✅ Updated and saved new grid at ../backend/landscapes/mlp_5_5_5_5/two_blobs_overlap/train/range0.2/ep890\n",
      "Done: two_blobs_overlap, width=5, depth=4, ab_range=0.2, epoch=890\n",
      "Previously saved model is of lower resolution; recomputing\n"
     ]
    },
    {
     "name": "stderr",
     "output_type": "stream",
     "text": [
      "Outer loop (a): 100%|██████████| 100/100 [00:55<00:00,  1.80it/s]\n"
     ]
    },
    {
     "name": "stdout",
     "output_type": "stream",
     "text": [
      "✅ Updated and saved new grid at ../backend/landscapes/mlp_5_5_5_5/spirals/train/range5/ep890\n",
      "Done: spirals, width=5, depth=4, ab_range=5, epoch=890\n",
      "Previously saved model is of lower resolution; recomputing\n"
     ]
    },
    {
     "name": "stderr",
     "output_type": "stream",
     "text": [
      "Outer loop (a): 100%|██████████| 100/100 [00:51<00:00,  1.94it/s]\n"
     ]
    },
    {
     "name": "stdout",
     "output_type": "stream",
     "text": [
      "✅ Updated and saved new grid at ../backend/landscapes/mlp_5_5/half_moons/train/range0.5/ep800\n",
      "Done: half_moons, width=5, depth=2, ab_range=0.5, epoch=800\n",
      "Previously saved model is of lower resolution; recomputing\n"
     ]
    },
    {
     "name": "stderr",
     "output_type": "stream",
     "text": [
      "Outer loop (a): 100%|██████████| 100/100 [00:49<00:00,  2.03it/s]\n"
     ]
    },
    {
     "name": "stdout",
     "output_type": "stream",
     "text": [
      "✅ Updated and saved new grid at ../backend/landscapes/mlp_5_5/two_blobs_separate/train/range0.2/ep930\n",
      "Done: two_blobs_separate, width=5, depth=2, ab_range=0.2, epoch=930\n",
      "Previously saved model is of lower resolution; recomputing\n"
     ]
    },
    {
     "name": "stderr",
     "output_type": "stream",
     "text": [
      "Outer loop (a): 100%|██████████| 100/100 [00:47<00:00,  2.10it/s]\n"
     ]
    },
    {
     "name": "stdout",
     "output_type": "stream",
     "text": [
      "✅ Updated and saved new grid at ../backend/landscapes/mlp_5/two_blobs_overlap/train/range0.5/ep920\n",
      "Done: two_blobs_overlap, width=5, depth=1, ab_range=0.5, epoch=920\n",
      "Previously saved model is of lower resolution; recomputing\n"
     ]
    },
    {
     "name": "stderr",
     "output_type": "stream",
     "text": [
      "Outer loop (a): 100%|██████████| 100/100 [00:48<00:00,  2.05it/s]\n"
     ]
    },
    {
     "name": "stdout",
     "output_type": "stream",
     "text": [
      "✅ Updated and saved new grid at ../backend/landscapes/mlp_5_5/four_corners/train/range0.5/ep170\n",
      "Done: four_corners, width=5, depth=2, ab_range=0.5, epoch=170\n",
      "Previously saved model is of lower resolution; recomputing\n"
     ]
    },
    {
     "name": "stderr",
     "output_type": "stream",
     "text": [
      "Outer loop (a): 100%|██████████| 100/100 [01:02<00:00,  1.60it/s]\n"
     ]
    },
    {
     "name": "stdout",
     "output_type": "stream",
     "text": [
      "✅ Updated and saved new grid at ../backend/landscapes/mlp_5_5_5_5_5_5_5_5/two_blobs_separate/train/range5/ep850\n",
      "Done: two_blobs_separate, width=5, depth=8, ab_range=5, epoch=850\n",
      "Previously saved model is of lower resolution; recomputing\n"
     ]
    },
    {
     "name": "stderr",
     "output_type": "stream",
     "text": [
      "Outer loop (a): 100%|██████████| 100/100 [00:56<00:00,  1.76it/s]\n"
     ]
    },
    {
     "name": "stdout",
     "output_type": "stream",
     "text": [
      "✅ Updated and saved new grid at ../backend/landscapes/mlp_5_5_5_5/four_corners/train/range2/ep160\n",
      "Done: four_corners, width=5, depth=4, ab_range=2, epoch=160\n",
      "Previously saved model is of lower resolution; recomputing\n"
     ]
    },
    {
     "name": "stderr",
     "output_type": "stream",
     "text": [
      "Outer loop (a): 100%|██████████| 100/100 [00:53<00:00,  1.86it/s]\n"
     ]
    },
    {
     "name": "stdout",
     "output_type": "stream",
     "text": [
      "✅ Updated and saved new grid at ../backend/landscapes/mlp_5_5_5_5/two_blobs_overlap/train/range0.2/ep900\n",
      "Done: two_blobs_overlap, width=5, depth=4, ab_range=0.2, epoch=900\n",
      "Previously saved model is of lower resolution; recomputing\n"
     ]
    },
    {
     "name": "stderr",
     "output_type": "stream",
     "text": [
      "Outer loop (a): 100%|██████████| 100/100 [00:55<00:00,  1.79it/s]\n"
     ]
    },
    {
     "name": "stdout",
     "output_type": "stream",
     "text": [
      "✅ Updated and saved new grid at ../backend/landscapes/mlp_5_5_5_5/spirals/train/range5/ep900\n",
      "Done: spirals, width=5, depth=4, ab_range=5, epoch=900"
     ]
    },
    {
     "name": "stderr",
     "output_type": "stream",
     "text": [
      "Outer loop (a):  85%|████████▌ | 85/100 [00:43<00:08,  1.77it/s]"
     ]
    },
    {
     "name": "stdout",
     "output_type": "stream",
     "text": [
      "\n",
      "Previously saved model is of lower resolution; recomputing\n"
     ]
    },
    {
     "name": "stderr",
     "output_type": "stream",
     "text": [
      "Outer loop (a): 100%|██████████| 100/100 [00:50<00:00,  2.00it/s]\n"
     ]
    },
    {
     "name": "stdout",
     "output_type": "stream",
     "text": [
      "✅ Updated and saved new grid at ../backend/landscapes/mlp_5_5/half_moons/train/range0.5/ep810\n",
      "Done: half_moons, width=5, depth=2, ab_range=0.5, epoch=810\n",
      "Previously saved model is of lower resolution; recomputing\n"
     ]
    },
    {
     "name": "stderr",
     "output_type": "stream",
     "text": [
      "Outer loop (a): 100%|██████████| 100/100 [00:50<00:00,  1.98it/s]\n"
     ]
    },
    {
     "name": "stdout",
     "output_type": "stream",
     "text": [
      "✅ Updated and saved new grid at ../backend/landscapes/mlp_5_5/two_blobs_separate/train/range0.2/ep940\n",
      "Done: two_blobs_separate, width=5, depth=2, ab_range=0.2, epoch=940\n",
      "Previously saved model is of lower resolution; recomputing\n"
     ]
    },
    {
     "name": "stderr",
     "output_type": "stream",
     "text": [
      "Outer loop (a): 100%|██████████| 100/100 [00:46<00:00,  2.17it/s]\n"
     ]
    },
    {
     "name": "stdout",
     "output_type": "stream",
     "text": [
      "✅ Updated and saved new grid at ../backend/landscapes/mlp_5/two_blobs_overlap/train/range0.5/ep930\n",
      "Done: two_blobs_overlap, width=5, depth=1, ab_range=0.5, epoch=930\n",
      "Previously saved model is of lower resolution; recomputing\n"
     ]
    },
    {
     "name": "stderr",
     "output_type": "stream",
     "text": [
      "Outer loop (a): 100%|██████████| 100/100 [00:51<00:00,  1.94it/s]\n"
     ]
    },
    {
     "name": "stdout",
     "output_type": "stream",
     "text": [
      "✅ Updated and saved new grid at ../backend/landscapes/mlp_5_5/four_corners/train/range0.5/ep180\n",
      "Done: four_corners, width=5, depth=2, ab_range=0.5, epoch=180\n",
      "Previously saved model is of lower resolution; recomputing\n"
     ]
    },
    {
     "name": "stderr",
     "output_type": "stream",
     "text": [
      "Outer loop (a): 100%|██████████| 100/100 [00:56<00:00,  1.78it/s]\n"
     ]
    },
    {
     "name": "stdout",
     "output_type": "stream",
     "text": [
      "✅ Updated and saved new grid at ../backend/landscapes/mlp_5_5_5_5/four_corners/train/range2/ep170\n",
      "Done: four_corners, width=5, depth=4, ab_range=2, epoch=170\n",
      "Previously saved model is of lower resolution; recomputing\n"
     ]
    },
    {
     "name": "stderr",
     "output_type": "stream",
     "text": [
      "Outer loop (a): 100%|██████████| 100/100 [01:03<00:00,  1.56it/s]\n"
     ]
    },
    {
     "name": "stdout",
     "output_type": "stream",
     "text": [
      "✅ Updated and saved new grid at ../backend/landscapes/mlp_5_5_5_5_5_5_5_5/two_blobs_separate/train/range5/ep860\n",
      "Done: two_blobs_separate, width=5, depth=8, ab_range=5, epoch=860\n",
      "Previously saved model is of lower resolution; recomputing\n"
     ]
    },
    {
     "name": "stderr",
     "output_type": "stream",
     "text": [
      "Outer loop (a): 100%|██████████| 100/100 [00:55<00:00,  1.80it/s]\n"
     ]
    },
    {
     "name": "stdout",
     "output_type": "stream",
     "text": [
      "✅ Updated and saved new grid at ../backend/landscapes/mlp_5_5_5_5/two_blobs_overlap/train/range0.2/ep910"
     ]
    },
    {
     "name": "stderr",
     "output_type": "stream",
     "text": [
      "Outer loop (a):  20%|██        | 20/100 [00:10<00:40,  1.97it/s]"
     ]
    },
    {
     "name": "stdout",
     "output_type": "stream",
     "text": [
      "\n",
      "Done: two_blobs_overlap, width=5, depth=4, ab_range=0.2, epoch=910\n",
      "Previously saved model is of lower resolution; recomputing\n"
     ]
    },
    {
     "name": "stderr",
     "output_type": "stream",
     "text": [
      "Outer loop (a): 100%|██████████| 100/100 [00:51<00:00,  1.95it/s]\n"
     ]
    },
    {
     "name": "stdout",
     "output_type": "stream",
     "text": [
      "✅ Updated and saved new grid at ../backend/landscapes/mlp_5_5/half_moons/train/range0.5/ep820\n",
      "Done: half_moons, width=5, depth=2, ab_range=0.5, epoch=820\n",
      "Previously saved model is of lower resolution; recomputing\n"
     ]
    },
    {
     "name": "stderr",
     "output_type": "stream",
     "text": [
      "Outer loop (a): 100%|██████████| 100/100 [00:55<00:00,  1.80it/s]\n"
     ]
    },
    {
     "name": "stdout",
     "output_type": "stream",
     "text": [
      "✅ Updated and saved new grid at ../backend/landscapes/mlp_5_5_5_5/spirals/train/range5/ep910\n",
      "Done: spirals, width=5, depth=4, ab_range=5, epoch=910\n",
      "Previously saved model is of lower resolution; recomputing\n"
     ]
    },
    {
     "name": "stderr",
     "output_type": "stream",
     "text": [
      "Outer loop (a): 100%|██████████| 100/100 [00:49<00:00,  2.02it/s]\n"
     ]
    },
    {
     "name": "stdout",
     "output_type": "stream",
     "text": [
      "✅ Updated and saved new grid at ../backend/landscapes/mlp_5_5/two_blobs_separate/train/range0.2/ep950\n",
      "Done: two_blobs_separate, width=5, depth=2, ab_range=0.2, epoch=950\n",
      "Previously saved model is of lower resolution; recomputing\n"
     ]
    },
    {
     "name": "stderr",
     "output_type": "stream",
     "text": [
      "Outer loop (a): 100%|██████████| 100/100 [00:48<00:00,  2.06it/s]\n"
     ]
    },
    {
     "name": "stdout",
     "output_type": "stream",
     "text": [
      "✅ Updated and saved new grid at ../backend/landscapes/mlp_5/two_blobs_overlap/train/range0.5/ep940\n",
      "Done: two_blobs_overlap, width=5, depth=1, ab_range=0.5, epoch=940\n",
      "Previously saved model is of lower resolution; recomputing\n"
     ]
    },
    {
     "name": "stderr",
     "output_type": "stream",
     "text": [
      "Outer loop (a): 100%|██████████| 100/100 [00:50<00:00,  1.97it/s]\n"
     ]
    },
    {
     "name": "stdout",
     "output_type": "stream",
     "text": [
      "✅ Updated and saved new grid at ../backend/landscapes/mlp_5_5/four_corners/train/range0.5/ep190\n",
      "Done: four_corners, width=5, depth=2, ab_range=0.5, epoch=190\n",
      "Previously saved model is of lower resolution; recomputing\n"
     ]
    },
    {
     "name": "stderr",
     "output_type": "stream",
     "text": [
      "Outer loop (a): 100%|██████████| 100/100 [00:52<00:00,  1.91it/s]\n"
     ]
    },
    {
     "name": "stdout",
     "output_type": "stream",
     "text": [
      "✅ Updated and saved new grid at ../backend/landscapes/mlp_5_5_5_5/four_corners/train/range2/ep180\n",
      "Done: four_corners, width=5, depth=4, ab_range=2, epoch=180\n",
      "Previously saved model is of lower resolution; recomputing\n"
     ]
    },
    {
     "name": "stderr",
     "output_type": "stream",
     "text": [
      "Outer loop (a): 100%|██████████| 100/100 [00:55<00:00,  1.82it/s]\n"
     ]
    },
    {
     "name": "stdout",
     "output_type": "stream",
     "text": [
      "✅ Updated and saved new grid at ../backend/landscapes/mlp_5_5_5_5/two_blobs_overlap/train/range0.2/ep920\n",
      "Done: two_blobs_overlap, width=5, depth=4, ab_range=0.2, epoch=920\n",
      "Previously saved model is of lower resolution; recomputing\n"
     ]
    },
    {
     "name": "stderr",
     "output_type": "stream",
     "text": [
      "Outer loop (a): 100%|██████████| 100/100 [01:03<00:00,  1.58it/s]\n"
     ]
    },
    {
     "name": "stdout",
     "output_type": "stream",
     "text": [
      "✅ Updated and saved new grid at ../backend/landscapes/mlp_5_5_5_5_5_5_5_5/two_blobs_separate/train/range5/ep870\n",
      "Done: two_blobs_separate, width=5, depth=8, ab_range=5, epoch=870\n",
      "Previously saved model is of lower resolution; recomputing\n"
     ]
    },
    {
     "name": "stderr",
     "output_type": "stream",
     "text": [
      "Outer loop (a): 100%|██████████| 100/100 [00:51<00:00,  1.94it/s]\n"
     ]
    },
    {
     "name": "stdout",
     "output_type": "stream",
     "text": [
      "✅ Updated and saved new grid at ../backend/landscapes/mlp_5_5/half_moons/train/range0.5/ep830\n",
      "Done: half_moons, width=5, depth=2, ab_range=0.5, epoch=830\n",
      "Previously saved model is of lower resolution; recomputing\n"
     ]
    },
    {
     "name": "stderr",
     "output_type": "stream",
     "text": [
      "Outer loop (a): 100%|██████████| 100/100 [00:48<00:00,  2.05it/s]\n"
     ]
    },
    {
     "name": "stdout",
     "output_type": "stream",
     "text": [
      "✅ Updated and saved new grid at ../backend/landscapes/mlp_5/two_blobs_overlap/train/range0.5/ep950\n",
      "Done: two_blobs_overlap, width=5, depth=1, ab_range=0.5, epoch=950\n",
      "Previously saved model is of lower resolution; recomputing\n"
     ]
    },
    {
     "name": "stderr",
     "output_type": "stream",
     "text": [
      "Outer loop (a): 100%|██████████| 100/100 [00:50<00:00,  1.96it/s]\n"
     ]
    },
    {
     "name": "stdout",
     "output_type": "stream",
     "text": [
      "✅ Updated and saved new grid at ../backend/landscapes/mlp_5_5/two_blobs_separate/train/range0.2/ep960\n",
      "Done: two_blobs_separate, width=5, depth=2, ab_range=0.2, epoch=960\n",
      "Previously saved model is of lower resolution; recomputing\n"
     ]
    },
    {
     "name": "stderr",
     "output_type": "stream",
     "text": [
      "Outer loop (a): 100%|██████████| 100/100 [00:55<00:00,  1.81it/s]\n"
     ]
    },
    {
     "name": "stdout",
     "output_type": "stream",
     "text": [
      "✅ Updated and saved new grid at ../backend/landscapes/mlp_5_5_5_5/spirals/train/range5/ep920\n",
      "Done: spirals, width=5, depth=4, ab_range=5, epoch=920\n"
     ]
    },
    {
     "name": "stderr",
     "output_type": "stream",
     "text": [
      "Outer loop (a):   6%|▌         | 6/100 [00:03<00:49,  1.89it/s]"
     ]
    },
    {
     "name": "stdout",
     "output_type": "stream",
     "text": [
      "Previously saved model is of lower resolution; recomputing\n"
     ]
    },
    {
     "name": "stderr",
     "output_type": "stream",
     "text": [
      "Outer loop (a): 100%|██████████| 100/100 [00:50<00:00,  1.99it/s]\n"
     ]
    },
    {
     "name": "stdout",
     "output_type": "stream",
     "text": [
      "✅ Updated and saved new grid at ../backend/landscapes/mlp_5_5/four_corners/train/range0.5/ep200\n",
      "Done: four_corners, width=5, depth=2, ab_range=0.5, epoch=200\n",
      "Previously saved model is of lower resolution; recomputing\n"
     ]
    },
    {
     "name": "stderr",
     "output_type": "stream",
     "text": [
      "Outer loop (a): 100%|██████████| 100/100 [00:55<00:00,  1.80it/s]\n"
     ]
    },
    {
     "name": "stdout",
     "output_type": "stream",
     "text": [
      "✅ Updated and saved new grid at ../backend/landscapes/mlp_5_5_5_5/four_corners/train/range2/ep190\n",
      "Done: four_corners, width=5, depth=4, ab_range=2, epoch=190\n",
      "Previously saved model is of lower resolution; recomputing\n"
     ]
    },
    {
     "name": "stderr",
     "output_type": "stream",
     "text": [
      "Outer loop (a): 100%|██████████| 100/100 [00:54<00:00,  1.84it/s]\n"
     ]
    },
    {
     "name": "stdout",
     "output_type": "stream",
     "text": [
      "✅ Updated and saved new grid at ../backend/landscapes/mlp_5_5_5_5/two_blobs_overlap/train/range0.2/ep930\n",
      "Done: two_blobs_overlap, width=5, depth=4, ab_range=0.2, epoch=930\n",
      "Previously saved model is of lower resolution; recomputing\n"
     ]
    },
    {
     "name": "stderr",
     "output_type": "stream",
     "text": [
      "Outer loop (a): 100%|██████████| 100/100 [00:49<00:00,  2.02it/s]\n"
     ]
    },
    {
     "name": "stdout",
     "output_type": "stream",
     "text": [
      "✅ Updated and saved new grid at ../backend/landscapes/mlp_5_5/half_moons/train/range0.5/ep840\n",
      "Done: half_moons, width=5, depth=2, ab_range=0.5, epoch=840\n",
      "Previously saved model is of lower resolution; recomputing\n"
     ]
    },
    {
     "name": "stderr",
     "output_type": "stream",
     "text": [
      "Outer loop (a): 100%|██████████| 100/100 [00:48<00:00,  2.04it/s]\n"
     ]
    },
    {
     "name": "stdout",
     "output_type": "stream",
     "text": [
      "✅ Updated and saved new grid at ../backend/landscapes/mlp_5/two_blobs_overlap/train/range0.5/ep960\n",
      "Done: two_blobs_overlap, width=5, depth=1, ab_range=0.5, epoch=960\n",
      "Previously saved model is of lower resolution; recomputing\n"
     ]
    },
    {
     "name": "stderr",
     "output_type": "stream",
     "text": [
      "Outer loop (a): 100%|██████████| 100/100 [00:50<00:00,  1.98it/s]\n"
     ]
    },
    {
     "name": "stdout",
     "output_type": "stream",
     "text": [
      "✅ Updated and saved new grid at ../backend/landscapes/mlp_5_5/two_blobs_separate/train/range0.2/ep970\n",
      "Done: two_blobs_separate, width=5, depth=2, ab_range=0.2, epoch=970"
     ]
    },
    {
     "name": "stderr",
     "output_type": "stream",
     "text": [
      "Outer loop (a):  69%|██████▉   | 69/100 [00:34<00:14,  2.13it/s]"
     ]
    },
    {
     "name": "stdout",
     "output_type": "stream",
     "text": [
      "\n",
      "Previously saved model is of lower resolution; recomputing\n"
     ]
    },
    {
     "name": "stderr",
     "output_type": "stream",
     "text": [
      "Outer loop (a): 100%|██████████| 100/100 [01:02<00:00,  1.59it/s]\n"
     ]
    },
    {
     "name": "stdout",
     "output_type": "stream",
     "text": [
      "✅ Updated and saved new grid at ../backend/landscapes/mlp_5_5_5_5_5_5_5_5/two_blobs_separate/train/range5/ep880\n",
      "Done: two_blobs_separate, width=5, depth=8, ab_range=5, epoch=880\n",
      "Previously saved model is of lower resolution; recomputing\n"
     ]
    },
    {
     "name": "stderr",
     "output_type": "stream",
     "text": [
      "Outer loop (a): 100%|██████████| 100/100 [00:55<00:00,  1.79it/s]\n"
     ]
    },
    {
     "name": "stdout",
     "output_type": "stream",
     "text": [
      "✅ Updated and saved new grid at ../backend/landscapes/mlp_5_5_5_5/spirals/train/range5/ep930\n",
      "Done: spirals, width=5, depth=4, ab_range=5, epoch=930\n",
      "Previously saved model is of lower resolution; recomputing\n"
     ]
    },
    {
     "name": "stderr",
     "output_type": "stream",
     "text": [
      "Outer loop (a): 100%|██████████| 100/100 [00:49<00:00,  2.02it/s]\n"
     ]
    },
    {
     "name": "stdout",
     "output_type": "stream",
     "text": [
      "✅ Updated and saved new grid at ../backend/landscapes/mlp_5_5/four_corners/train/range0.5/ep210\n",
      "Done: four_corners, width=5, depth=2, ab_range=0.5, epoch=210\n"
     ]
    },
    {
     "name": "stderr",
     "output_type": "stream",
     "text": [
      "Outer loop (a):  36%|███▌      | 36/100 [00:20<00:33,  1.91it/s]"
     ]
    },
    {
     "name": "stdout",
     "output_type": "stream",
     "text": [
      "Previously saved model is of lower resolution; recomputing\n"
     ]
    },
    {
     "name": "stderr",
     "output_type": "stream",
     "text": [
      "Outer loop (a): 100%|██████████| 100/100 [00:55<00:00,  1.79it/s]\n"
     ]
    },
    {
     "name": "stdout",
     "output_type": "stream",
     "text": [
      "✅ Updated and saved new grid at ../backend/landscapes/mlp_5_5_5_5/four_corners/train/range2/ep200\n",
      "Done: four_corners, width=5, depth=4, ab_range=2, epoch=200\n",
      "Previously saved model is of lower resolution; recomputing\n"
     ]
    },
    {
     "name": "stderr",
     "output_type": "stream",
     "text": [
      "Outer loop (a): 100%|██████████| 100/100 [00:47<00:00,  2.09it/s]\n"
     ]
    },
    {
     "name": "stdout",
     "output_type": "stream",
     "text": [
      "✅ Updated and saved new grid at ../backend/landscapes/mlp_5/two_blobs_overlap/train/range0.5/ep970\n",
      "Done: two_blobs_overlap, width=5, depth=1, ab_range=0.5, epoch=970\n",
      "Previously saved model is of lower resolution; recomputing\n"
     ]
    },
    {
     "name": "stderr",
     "output_type": "stream",
     "text": [
      "Outer loop (a): 100%|██████████| 100/100 [00:51<00:00,  1.95it/s]\n"
     ]
    },
    {
     "name": "stdout",
     "output_type": "stream",
     "text": [
      "✅ Updated and saved new grid at ../backend/landscapes/mlp_5_5/half_moons/train/range0.5/ep850\n",
      "Done: half_moons, width=5, depth=2, ab_range=0.5, epoch=850\n",
      "Previously saved model is of lower resolution; recomputing\n"
     ]
    },
    {
     "name": "stderr",
     "output_type": "stream",
     "text": [
      "Outer loop (a): 100%|██████████| 100/100 [00:50<00:00,  1.97it/s]\n"
     ]
    },
    {
     "name": "stdout",
     "output_type": "stream",
     "text": [
      "✅ Updated and saved new grid at ../backend/landscapes/mlp_5_5/two_blobs_separate/train/range0.2/ep980\n",
      "Done: two_blobs_separate, width=5, depth=2, ab_range=0.2, epoch=980\n",
      "Previously saved model is of lower resolution; recomputing\n"
     ]
    },
    {
     "name": "stderr",
     "output_type": "stream",
     "text": [
      "Outer loop (a): 100%|██████████| 100/100 [00:56<00:00,  1.77it/s]\n"
     ]
    },
    {
     "name": "stdout",
     "output_type": "stream",
     "text": [
      "✅ Updated and saved new grid at ../backend/landscapes/mlp_5_5_5_5/two_blobs_overlap/train/range0.2/ep940\n",
      "Done: two_blobs_overlap, width=5, depth=4, ab_range=0.2, epoch=940\n",
      "Previously saved model is of lower resolution; recomputing\n"
     ]
    },
    {
     "name": "stderr",
     "output_type": "stream",
     "text": [
      "Outer loop (a): 100%|██████████| 100/100 [00:54<00:00,  1.85it/s]\n"
     ]
    },
    {
     "name": "stdout",
     "output_type": "stream",
     "text": [
      "✅ Updated and saved new grid at ../backend/landscapes/mlp_5_5_5_5/spirals/train/range5/ep940\n",
      "Done: spirals, width=5, depth=4, ab_range=5, epoch=940\n",
      "Previously saved model is of lower resolution; recomputing\n"
     ]
    },
    {
     "name": "stderr",
     "output_type": "stream",
     "text": [
      "Outer loop (a): 100%|██████████| 100/100 [00:50<00:00,  1.99it/s]\n"
     ]
    },
    {
     "name": "stdout",
     "output_type": "stream",
     "text": [
      "✅ Updated and saved new grid at ../backend/landscapes/mlp_5_5/four_corners/train/range0.5/ep220\n",
      "Done: four_corners, width=5, depth=2, ab_range=0.5, epoch=220\n",
      "Previously saved model is of lower resolution; recomputing\n"
     ]
    },
    {
     "name": "stderr",
     "output_type": "stream",
     "text": [
      "Outer loop (a): 100%|██████████| 100/100 [01:02<00:00,  1.60it/s]\n"
     ]
    },
    {
     "name": "stdout",
     "output_type": "stream",
     "text": [
      "✅ Updated and saved new grid at ../backend/landscapes/mlp_5_5_5_5_5_5_5_5/two_blobs_separate/train/range5/ep890\n",
      "Done: two_blobs_separate, width=5, depth=8, ab_range=5, epoch=890\n",
      "Previously saved model is of lower resolution; recomputing\n"
     ]
    },
    {
     "name": "stderr",
     "output_type": "stream",
     "text": [
      "Outer loop (a): 100%|██████████| 100/100 [00:46<00:00,  2.14it/s]\n"
     ]
    },
    {
     "name": "stdout",
     "output_type": "stream",
     "text": [
      "✅ Updated and saved new grid at ../backend/landscapes/mlp_5/two_blobs_overlap/train/range0.5/ep980\n",
      "Done: two_blobs_overlap, width=5, depth=1, ab_range=0.5, epoch=980\n",
      "Previously saved model is of lower resolution; recomputing\n"
     ]
    },
    {
     "name": "stderr",
     "output_type": "stream",
     "text": [
      "Outer loop (a): 100%|██████████| 100/100 [00:54<00:00,  1.84it/s]\n"
     ]
    },
    {
     "name": "stdout",
     "output_type": "stream",
     "text": [
      "✅ Updated and saved new grid at ../backend/landscapes/mlp_5_5_5_5/four_corners/train/range2/ep210\n",
      "Done: four_corners, width=5, depth=4, ab_range=2, epoch=210\n",
      "Previously saved model is of lower resolution; recomputing\n"
     ]
    },
    {
     "name": "stderr",
     "output_type": "stream",
     "text": [
      "Outer loop (a): 100%|██████████| 100/100 [00:49<00:00,  2.03it/s]\n"
     ]
    },
    {
     "name": "stdout",
     "output_type": "stream",
     "text": [
      "✅ Updated and saved new grid at ../backend/landscapes/mlp_5_5/half_moons/train/range0.5/ep860\n",
      "Done: half_moons, width=5, depth=2, ab_range=0.5, epoch=860\n",
      "Previously saved model is of lower resolution; recomputing\n"
     ]
    },
    {
     "name": "stderr",
     "output_type": "stream",
     "text": [
      "Outer loop (a): 100%|██████████| 100/100 [00:50<00:00,  1.97it/s]\n"
     ]
    },
    {
     "name": "stdout",
     "output_type": "stream",
     "text": [
      "✅ Updated and saved new grid at ../backend/landscapes/mlp_5_5/two_blobs_separate/train/range0.2/ep990\n",
      "Done: two_blobs_separate, width=5, depth=2, ab_range=0.2, epoch=990\n",
      "Previously saved model is of lower resolution; recomputing\n"
     ]
    },
    {
     "name": "stderr",
     "output_type": "stream",
     "text": [
      "Outer loop (a): 100%|██████████| 100/100 [00:55<00:00,  1.80it/s]\n"
     ]
    },
    {
     "name": "stdout",
     "output_type": "stream",
     "text": [
      "✅ Updated and saved new grid at ../backend/landscapes/mlp_5_5_5_5/two_blobs_overlap/train/range0.2/ep950\n",
      "Done: two_blobs_overlap, width=5, depth=4, ab_range=0.2, epoch=950\n",
      "Previously saved model is of lower resolution; recomputing\n"
     ]
    },
    {
     "name": "stderr",
     "output_type": "stream",
     "text": [
      "Outer loop (a): 100%|██████████| 100/100 [00:52<00:00,  1.92it/s]\n"
     ]
    },
    {
     "name": "stdout",
     "output_type": "stream",
     "text": [
      "✅ Updated and saved new grid at ../backend/landscapes/mlp_5_5/four_corners/train/range0.5/ep230\n",
      "Done: four_corners, width=5, depth=2, ab_range=0.5, epoch=230\n",
      "Previously saved model is of lower resolution; recomputing\n"
     ]
    },
    {
     "name": "stderr",
     "output_type": "stream",
     "text": [
      "Outer loop (a): 100%|██████████| 100/100 [00:55<00:00,  1.79it/s]\n"
     ]
    },
    {
     "name": "stdout",
     "output_type": "stream",
     "text": [
      "✅ Updated and saved new grid at ../backend/landscapes/mlp_5_5_5_5/spirals/train/range5/ep950\n",
      "Done: spirals, width=5, depth=4, ab_range=5, epoch=950\n",
      "Previously saved model is of lower resolution; recomputing\n"
     ]
    },
    {
     "name": "stderr",
     "output_type": "stream",
     "text": [
      "Outer loop (a): 100%|██████████| 100/100 [01:02<00:00,  1.59it/s]\n",
      "Outer loop (a):  59%|█████▉    | 59/100 [00:30<00:18,  2.21it/s]"
     ]
    },
    {
     "name": "stdout",
     "output_type": "stream",
     "text": [
      "✅ Updated and saved new grid at ../backend/landscapes/mlp_5_5_5_5_5_5_5_5/two_blobs_separate/train/range5/ep900\n",
      "Done: two_blobs_separate, width=5, depth=8, ab_range=5, epoch=900\n",
      "Previously saved model is of lower resolution; recomputing\n"
     ]
    },
    {
     "name": "stderr",
     "output_type": "stream",
     "text": [
      "Outer loop (a): 100%|██████████| 100/100 [00:48<00:00,  2.07it/s]\n"
     ]
    },
    {
     "name": "stdout",
     "output_type": "stream",
     "text": [
      "✅ Updated and saved new grid at ../backend/landscapes/mlp_5/two_blobs_overlap/train/range0.5/ep990\n",
      "Done: two_blobs_overlap, width=5, depth=1, ab_range=0.5, epoch=990\n",
      "Previously saved model is of lower resolution; recomputing\n"
     ]
    },
    {
     "name": "stderr",
     "output_type": "stream",
     "text": [
      "Outer loop (a): 100%|██████████| 100/100 [00:55<00:00,  1.81it/s]\n"
     ]
    },
    {
     "name": "stdout",
     "output_type": "stream",
     "text": [
      "✅ Updated and saved new grid at ../backend/landscapes/mlp_5_5_5_5/four_corners/train/range2/ep220\n",
      "Done: four_corners, width=5, depth=4, ab_range=2, epoch=220\n",
      "Previously saved model is of lower resolution; recomputing\n"
     ]
    },
    {
     "name": "stderr",
     "output_type": "stream",
     "text": [
      "Outer loop (a): 100%|██████████| 100/100 [00:50<00:00,  1.97it/s]\n"
     ]
    },
    {
     "name": "stdout",
     "output_type": "stream",
     "text": [
      "✅ Updated and saved new grid at ../backend/landscapes/mlp_5_5/half_moons/train/range0.5/ep870\n",
      "Done: half_moons, width=5, depth=2, ab_range=0.5, epoch=870\n",
      "Previously saved model is of lower resolution; recomputing\n"
     ]
    },
    {
     "name": "stderr",
     "output_type": "stream",
     "text": [
      "Outer loop (a): 100%|██████████| 100/100 [00:51<00:00,  1.96it/s]\n"
     ]
    },
    {
     "name": "stdout",
     "output_type": "stream",
     "text": [
      "✅ Updated and saved new grid at ../backend/landscapes/mlp_5_5/two_blobs_separate/train/range0.2/ep1000\n",
      "Done: two_blobs_separate, width=5, depth=2, ab_range=0.2, epoch=1000\n",
      "Previously saved model is of lower resolution; recomputing\n"
     ]
    },
    {
     "name": "stderr",
     "output_type": "stream",
     "text": [
      "Outer loop (a): 100%|██████████| 100/100 [00:55<00:00,  1.80it/s]\n"
     ]
    },
    {
     "name": "stdout",
     "output_type": "stream",
     "text": [
      "✅ Updated and saved new grid at ../backend/landscapes/mlp_5_5_5_5/two_blobs_overlap/train/range0.2/ep960\n",
      "Done: two_blobs_overlap, width=5, depth=4, ab_range=0.2, epoch=960\n",
      "Previously saved model is of lower resolution; recomputing\n"
     ]
    },
    {
     "name": "stderr",
     "output_type": "stream",
     "text": [
      "Outer loop (a): 100%|██████████| 100/100 [00:50<00:00,  1.99it/s]\n"
     ]
    },
    {
     "name": "stdout",
     "output_type": "stream",
     "text": [
      "✅ Updated and saved new grid at ../backend/landscapes/mlp_5_5/four_corners/train/range0.5/ep240\n",
      "Done: four_corners, width=5, depth=2, ab_range=0.5, epoch=240\n",
      "Previously saved model is of lower resolution; recomputing\n"
     ]
    },
    {
     "name": "stderr",
     "output_type": "stream",
     "text": [
      "Outer loop (a): 100%|██████████| 100/100 [00:55<00:00,  1.79it/s]\n"
     ]
    },
    {
     "name": "stdout",
     "output_type": "stream",
     "text": [
      "✅ Updated and saved new grid at ../backend/landscapes/mlp_5_5_5_5/spirals/train/range5/ep960\n",
      "Done: spirals, width=5, depth=4, ab_range=5, epoch=960\n",
      "Previously saved model is of lower resolution; recomputing\n"
     ]
    },
    {
     "name": "stderr",
     "output_type": "stream",
     "text": [
      "Outer loop (a): 100%|██████████| 100/100 [00:46<00:00,  2.13it/s]\n"
     ]
    },
    {
     "name": "stdout",
     "output_type": "stream",
     "text": [
      "✅ Updated and saved new grid at ../backend/landscapes/mlp_5/two_blobs_overlap/train/range0.5/ep1000\n",
      "Done: two_blobs_overlap, width=5, depth=1, ab_range=0.5, epoch=1000\n",
      "Done: half_moons, width=5, depth=1, ab_range=0.1, epoch=0\n",
      "Done: half_moons, width=5, depth=1, ab_range=0.1, epoch=10\n",
      "Done: half_moons, width=5, depth=1, ab_range=0.1, epoch=20\n",
      "Done: half_moons, width=5, depth=1, ab_range=0.1, epoch=30\n",
      "Done: half_moons, width=5, depth=1, ab_range=0.1, epoch=40\n",
      "Done: half_moons, width=5, depth=1, ab_range=0.1, epoch=50\n",
      "Done: half_moons, width=5, depth=1, ab_range=0.1, epoch=60\n",
      "Done: half_moons, width=5, depth=1, ab_range=0.1, epoch=70\n",
      "Done: half_moons, width=5, depth=1, ab_range=0.1, epoch=80\n",
      "Done: half_moons, width=5, depth=1, ab_range=0.1, epoch=90\n",
      "Done: half_moons, width=5, depth=1, ab_range=0.1, epoch=100\n",
      "Done: half_moons, width=5, depth=1, ab_range=0.1, epoch=110\n",
      "Done: half_moons, width=5, depth=1, ab_range=0.1, epoch=120\n",
      "Done: half_moons, width=5, depth=1, ab_range=0.1, epoch=130\n",
      "Done: half_moons, width=5, depth=1, ab_range=0.1, epoch=140"
     ]
    },
    {
     "name": "stderr",
     "output_type": "stream",
     "text": [
      "Outer loop (a):  71%|███████   | 71/100 [00:35<00:15,  1.92it/s]"
     ]
    },
    {
     "name": "stdout",
     "output_type": "stream",
     "text": [
      "\n",
      "Done: half_moons, width=5, depth=1, ab_range=0.1, epoch=150\n"
     ]
    },
    {
     "name": "stderr",
     "output_type": "stream",
     "text": [
      "Outer loop (a):  39%|███▉      | 39/100 [00:20<00:33,  1.83it/s]"
     ]
    },
    {
     "name": "stdout",
     "output_type": "stream",
     "text": [
      "Done: half_moons, width=5, depth=1, ab_range=0.1, epoch=160\n",
      "Done: half_moons, width=5, depth=1, ab_range=0.1, epoch=170\n",
      "Done: half_moons, width=5, depth=1, ab_range=0.1, epoch=180\n",
      "Done: half_moons, width=5, depth=1, ab_range=0.1, epoch=190\n",
      "Done: half_moons, width=5, depth=1, ab_range=0.1, epoch=200\n",
      "Done: half_moons, width=5, depth=1, ab_range=0.1, epoch=210\n",
      "Done: half_moons, width=5, depth=1, ab_range=0.1, epoch=220\n",
      "Done: half_moons, width=5, depth=1, ab_range=0.1, epoch=230\n",
      "Done: half_moons, width=5, depth=1, ab_range=0.1, epoch=240\n",
      "Done: half_moons, width=5, depth=1, ab_range=0.1, epoch=250\n",
      "Done: half_moons, width=5, depth=1, ab_range=0.1, epoch=260\n",
      "Done: half_moons, width=5, depth=1, ab_range=0.1, epoch=270\n",
      "Done: half_moons, width=5, depth=1, ab_range=0.1, epoch=280\n",
      "Done: half_moons, width=5, depth=1, ab_range=0.1, epoch=290\n",
      "Done: half_moons, width=5, depth=1, ab_range=0.1, epoch=300\n",
      "Done: half_moons, width=5, depth=1, ab_range=0.1, epoch=310\n",
      "Done: half_moons, width=5, depth=1, ab_range=0.1, epoch=320\n",
      "Done: half_moons, width=5, depth=1, ab_range=0.1, epoch=330\n",
      "Done: half_moons, width=5, depth=1, ab_range=0.1, epoch=340\n",
      "Done: half_moons, width=5, depth=1, ab_range=0.1, epoch=350\n",
      "Done: half_moons, width=5, depth=1, ab_range=0.1, epoch=360\n",
      "Done: half_moons, width=5, depth=1, ab_range=0.1, epoch=370\n",
      "Done: half_moons, width=5, depth=1, ab_range=0.1, epoch=380\n",
      "Done: half_moons, width=5, depth=1, ab_range=0.1, epoch=390\n",
      "Done: half_moons, width=5, depth=1, ab_range=0.1, epoch=400\n",
      "Done: half_moons, width=5, depth=1, ab_range=0.1, epoch=410\n",
      "Done: half_moons, width=5, depth=1, ab_range=0.1, epoch=420\n",
      "Done: half_moons, width=5, depth=1, ab_range=0.1, epoch=430\n",
      "Done: half_moons, width=5, depth=1, ab_range=0.1, epoch=440\n",
      "Done: half_moons, width=5, depth=1, ab_range=0.1, epoch=450\n",
      "Done: half_moons, width=5, depth=1, ab_range=0.1, epoch=460\n",
      "Done: half_moons, width=5, depth=1, ab_range=0.1, epoch=470\n",
      "Done: half_moons, width=5, depth=1, ab_range=0.1, epoch=480\n",
      "Done: half_moons, width=5, depth=1, ab_range=0.1, epoch=490\n",
      "Done: half_moons, width=5, depth=1, ab_range=0.1, epoch=500\n",
      "Done: half_moons, width=5, depth=1, ab_range=0.1, epoch=510\n",
      "Done: half_moons, width=5, depth=1, ab_range=0.1, epoch=520\n",
      "Done: half_moons, width=5, depth=1, ab_range=0.1, epoch=530\n",
      "Done: half_moons, width=5, depth=1, ab_range=0.1, epoch=540\n",
      "Done: half_moons, width=5, depth=1, ab_range=0.1, epoch=550\n",
      "Done: half_moons, width=5, depth=1, ab_range=0.1, epoch=560\n",
      "Done: half_moons, width=5, depth=1, ab_range=0.1, epoch=570\n",
      "Done: half_moons, width=5, depth=1, ab_range=0.1, epoch=580\n",
      "Done: half_moons, width=5, depth=1, ab_range=0.1, epoch=590\n",
      "Done: half_moons, width=5, depth=1, ab_range=0.1, epoch=600\n",
      "Done: half_moons, width=5, depth=1, ab_range=0.1, epoch=610\n",
      "Done: half_moons, width=5, depth=1, ab_range=0.1, epoch=620\n",
      "Done: half_moons, width=5, depth=1, ab_range=0.1, epoch=630\n",
      "Done: half_moons, width=5, depth=1, ab_range=0.1, epoch=640\n",
      "Done: half_moons, width=5, depth=1, ab_range=0.1, epoch=650\n",
      "Done: half_moons, width=5, depth=1, ab_range=0.1, epoch=660\n",
      "Done: half_moons, width=5, depth=1, ab_range=0.1, epoch=670\n",
      "Done: half_moons, width=5, depth=1, ab_range=0.1, epoch=680\n",
      "Done: half_moons, width=5, depth=1, ab_range=0.1, epoch=690\n",
      "Done: half_moons, width=5, depth=1, ab_range=0.1, epoch=700\n",
      "Done: half_moons, width=5, depth=1, ab_range=0.1, epoch=710\n",
      "Done: half_moons, width=5, depth=1, ab_range=0.1, epoch=720\n",
      "Done: half_moons, width=5, depth=1, ab_range=0.1, epoch=730\n",
      "Done: half_moons, width=5, depth=1, ab_range=0.1, epoch=740\n",
      "Done: half_moons, width=5, depth=1, ab_range=0.1, epoch=750\n",
      "Done: half_moons, width=5, depth=1, ab_range=0.1, epoch=760\n",
      "Done: half_moons, width=5, depth=1, ab_range=0.1, epoch=770\n",
      "Done: half_moons, width=5, depth=1, ab_range=0.1, epoch=780\n",
      "Done: half_moons, width=5, depth=1, ab_range=0.1, epoch=790\n",
      "Done: half_moons, width=5, depth=1, ab_range=0.1, epoch=800\n",
      "Done: half_moons, width=5, depth=1, ab_range=0.1, epoch=810\n",
      "Done: half_moons, width=5, depth=1, ab_range=0.1, epoch=820\n",
      "Done: half_moons, width=5, depth=1, ab_range=0.1, epoch=830\n",
      "Done: half_moons, width=5, depth=1, ab_range=0.1, epoch=840\n",
      "Done: half_moons, width=5, depth=1, ab_range=0.1, epoch=850\n",
      "Done: half_moons, width=5, depth=1, ab_range=0.1, epoch=860\n",
      "Done: half_moons, width=5, depth=1, ab_range=0.1, epoch=870\n",
      "Done: half_moons, width=5, depth=1, ab_range=0.1, epoch=880\n",
      "Done: half_moons, width=5, depth=1, ab_range=0.1, epoch=890\n",
      "Done: half_moons, width=5, depth=1, ab_range=0.1, epoch=900\n",
      "Done: half_moons, width=5, depth=1, ab_range=0.1, epoch=910\n",
      "Done: half_moons, width=5, depth=1, ab_range=0.1, epoch=920\n",
      "Done: half_moons, width=5, depth=1, ab_range=0.1, epoch=930\n",
      "Done: half_moons, width=5, depth=1, ab_range=0.1, epoch=940\n",
      "Done: half_moons, width=5, depth=1, ab_range=0.1, epoch=950\n"
     ]
    },
    {
     "name": "stderr",
     "output_type": "stream",
     "text": [
      "Outer loop (a):  88%|████████▊ | 88/100 [00:56<00:08,  1.47it/s]"
     ]
    },
    {
     "name": "stdout",
     "output_type": "stream",
     "text": [
      "Done: half_moons, width=5, depth=1, ab_range=0.1, epoch=960\n",
      "Done: half_moons, width=5, depth=1, ab_range=0.1, epoch=970\n",
      "Done: half_moons, width=5, depth=1, ab_range=0.1, epoch=980\n",
      "Done: half_moons, width=5, depth=1, ab_range=0.1, epoch=990\n",
      "Done: half_moons, width=5, depth=1, ab_range=0.1, epoch=1000\n",
      "Done: half_moons, width=5, depth=1, ab_range=1, epoch=0\n",
      "Done: half_moons, width=5, depth=1, ab_range=1, epoch=10\n",
      "Done: half_moons, width=5, depth=1, ab_range=1, epoch=20\n",
      "Done: half_moons, width=5, depth=1, ab_range=1, epoch=30\n",
      "Done: half_moons, width=5, depth=1, ab_range=1, epoch=40\n",
      "Done: half_moons, width=5, depth=1, ab_range=1, epoch=50\n"
     ]
    },
    {
     "name": "stderr",
     "output_type": "stream",
     "text": [
      "Outer loop (a):  45%|████▌     | 45/100 [00:25<00:29,  1.86it/s]"
     ]
    },
    {
     "name": "stdout",
     "output_type": "stream",
     "text": [
      "Done: half_moons, width=5, depth=1, ab_range=1, epoch=60\n",
      "Done: half_moons, width=5, depth=1, ab_range=1, epoch=70\n",
      "Done: half_moons, width=5, depth=1, ab_range=1, epoch=80\n",
      "Done: half_moons, width=5, depth=1, ab_range=1, epoch=90\n",
      "Done: half_moons, width=5, depth=1, ab_range=1, epoch=100\n",
      "Done: half_moons, width=5, depth=1, ab_range=1, epoch=110\n",
      "Done: half_moons, width=5, depth=1, ab_range=1, epoch=120\n",
      "Done: half_moons, width=5, depth=1, ab_range=1, epoch=130\n",
      "Done: half_moons, width=5, depth=1, ab_range=1, epoch=140\n",
      "Done: half_moons, width=5, depth=1, ab_range=1, epoch=150\n",
      "Done: half_moons, width=5, depth=1, ab_range=1, epoch=160\n",
      "Done: half_moons, width=5, depth=1, ab_range=1, epoch=170\n",
      "Done: half_moons, width=5, depth=1, ab_range=1, epoch=180\n",
      "Done: half_moons, width=5, depth=1, ab_range=1, epoch=190\n",
      "Done: half_moons, width=5, depth=1, ab_range=1, epoch=200\n",
      "Done: half_moons, width=5, depth=1, ab_range=1, epoch=210\n",
      "Done: half_moons, width=5, depth=1, ab_range=1, epoch=220\n",
      "Done: half_moons, width=5, depth=1, ab_range=1, epoch=230\n",
      "Done: half_moons, width=5, depth=1, ab_range=1, epoch=240\n",
      "Done: half_moons, width=5, depth=1, ab_range=1, epoch=250\n",
      "Done: half_moons, width=5, depth=1, ab_range=1, epoch=260\n",
      "Done: half_moons, width=5, depth=1, ab_range=1, epoch=270\n",
      "Done: half_moons, width=5, depth=1, ab_range=1, epoch=280\n",
      "Done: half_moons, width=5, depth=1, ab_range=1, epoch=290\n",
      "Done: half_moons, width=5, depth=1, ab_range=1, epoch=300\n",
      "Done: half_moons, width=5, depth=1, ab_range=1, epoch=310\n",
      "Done: half_moons, width=5, depth=1, ab_range=1, epoch=320\n",
      "Done: half_moons, width=5, depth=1, ab_range=1, epoch=330\n",
      "Done: half_moons, width=5, depth=1, ab_range=1, epoch=340\n",
      "Done: half_moons, width=5, depth=1, ab_range=1, epoch=350\n",
      "Done: half_moons, width=5, depth=1, ab_range=1, epoch=360\n",
      "Done: half_moons, width=5, depth=1, ab_range=1, epoch=370\n",
      "Done: half_moons, width=5, depth=1, ab_range=1, epoch=380"
     ]
    },
    {
     "name": "stderr",
     "output_type": "stream",
     "text": [
      "Outer loop (a):  80%|████████  | 80/100 [00:38<00:09,  2.12it/s]"
     ]
    },
    {
     "name": "stdout",
     "output_type": "stream",
     "text": [
      "\n",
      "Done: half_moons, width=5, depth=1, ab_range=1, epoch=390\n",
      "Done: half_moons, width=5, depth=1, ab_range=1, epoch=400\n",
      "Done: half_moons, width=5, depth=1, ab_range=1, epoch=410\n",
      "Done: half_moons, width=5, depth=1, ab_range=1, epoch=420\n",
      "Done: half_moons, width=5, depth=1, ab_range=1, epoch=430\n",
      "Done: half_moons, width=5, depth=1, ab_range=1, epoch=440\n",
      "Done: half_moons, width=5, depth=1, ab_range=1, epoch=450\n",
      "Done: half_moons, width=5, depth=1, ab_range=1, epoch=460\n",
      "Done: half_moons, width=5, depth=1, ab_range=1, epoch=470"
     ]
    },
    {
     "name": "stderr",
     "output_type": "stream",
     "text": [
      "Outer loop (a):  73%|███████▎  | 73/100 [00:40<00:16,  1.64it/s]"
     ]
    },
    {
     "name": "stdout",
     "output_type": "stream",
     "text": [
      "\n",
      "Done: half_moons, width=5, depth=1, ab_range=1, epoch=480\n",
      "Done: half_moons, width=5, depth=1, ab_range=1, epoch=490\n",
      "Done: half_moons, width=5, depth=1, ab_range=1, epoch=500\n",
      "Done: half_moons, width=5, depth=1, ab_range=1, epoch=510\n",
      "Done: half_moons, width=5, depth=1, ab_range=1, epoch=520\n",
      "Done: half_moons, width=5, depth=1, ab_range=1, epoch=530\n",
      "Done: half_moons, width=5, depth=1, ab_range=1, epoch=540\n",
      "Done: half_moons, width=5, depth=1, ab_range=1, epoch=550\n",
      "Done: half_moons, width=5, depth=1, ab_range=1, epoch=560\n",
      "Done: half_moons, width=5, depth=1, ab_range=1, epoch=570\n",
      "Done: half_moons, width=5, depth=1, ab_range=1, epoch=580\n",
      "Done: half_moons, width=5, depth=1, ab_range=1, epoch=590\n",
      "Done: half_moons, width=5, depth=1, ab_range=1, epoch=600\n",
      "Done: half_moons, width=5, depth=1, ab_range=1, epoch=610\n",
      "Done: half_moons, width=5, depth=1, ab_range=1, epoch=620\n",
      "Done: half_moons, width=5, depth=1, ab_range=1, epoch=630\n",
      "Done: half_moons, width=5, depth=1, ab_range=1, epoch=640\n",
      "Done: half_moons, width=5, depth=1, ab_range=1, epoch=650\n",
      "Done: half_moons, width=5, depth=1, ab_range=1, epoch=660\n",
      "Done: half_moons, width=5, depth=1, ab_range=1, epoch=670\n",
      "Done: half_moons, width=5, depth=1, ab_range=1, epoch=680\n",
      "Done: half_moons, width=5, depth=1, ab_range=1, epoch=690\n",
      "Done: half_moons, width=5, depth=1, ab_range=1, epoch=700\n",
      "Done: half_moons, width=5, depth=1, ab_range=1, epoch=710\n",
      "Done: half_moons, width=5, depth=1, ab_range=1, epoch=720\n",
      "Done: half_moons, width=5, depth=1, ab_range=1, epoch=730\n",
      "Done: half_moons, width=5, depth=1, ab_range=1, epoch=740\n",
      "Done: half_moons, width=5, depth=1, ab_range=1, epoch=750\n",
      "Done: half_moons, width=5, depth=1, ab_range=1, epoch=760\n",
      "Done: half_moons, width=5, depth=1, ab_range=1, epoch=770\n",
      "Done: half_moons, width=5, depth=1, ab_range=1, epoch=780\n",
      "Done: half_moons, width=5, depth=1, ab_range=1, epoch=790\n",
      "Done: half_moons, width=5, depth=1, ab_range=1, epoch=800"
     ]
    },
    {
     "name": "stderr",
     "output_type": "stream",
     "text": [
      "Outer loop (a):  72%|███████▏  | 72/100 [00:35<00:14,  1.93it/s]"
     ]
    },
    {
     "name": "stdout",
     "output_type": "stream",
     "text": [
      "\n",
      "Done: half_moons, width=5, depth=1, ab_range=1, epoch=810\n",
      "Done: half_moons, width=5, depth=1, ab_range=1, epoch=820\n",
      "Done: half_moons, width=5, depth=1, ab_range=1, epoch=830\n",
      "Done: half_moons, width=5, depth=1, ab_range=1, epoch=840\n",
      "Done: half_moons, width=5, depth=1, ab_range=1, epoch=850\n",
      "Done: half_moons, width=5, depth=1, ab_range=1, epoch=860\n",
      "Done: half_moons, width=5, depth=1, ab_range=1, epoch=870\n",
      "Done: half_moons, width=5, depth=1, ab_range=1, epoch=880\n",
      "Done: half_moons, width=5, depth=1, ab_range=1, epoch=890\n",
      "Done: half_moons, width=5, depth=1, ab_range=1, epoch=900\n",
      "Done: half_moons, width=5, depth=1, ab_range=1, epoch=910\n",
      "Done: half_moons, width=5, depth=1, ab_range=1, epoch=920\n",
      "Done: half_moons, width=5, depth=1, ab_range=1, epoch=930\n",
      "Done: half_moons, width=5, depth=1, ab_range=1, epoch=940\n",
      "Done: half_moons, width=5, depth=1, ab_range=1, epoch=950\n",
      "Done: half_moons, width=5, depth=1, ab_range=1, epoch=960\n",
      "Done: half_moons, width=5, depth=1, ab_range=1, epoch=970\n",
      "Done: half_moons, width=5, depth=1, ab_range=1, epoch=980\n",
      "Done: half_moons, width=5, depth=1, ab_range=1, epoch=990\n",
      "Done: half_moons, width=5, depth=1, ab_range=1, epoch=1000\n",
      "Done: half_moons, width=5, depth=1, ab_range=10, epoch=0\n",
      "Done: half_moons, width=5, depth=1, ab_range=10, epoch=10\n",
      "Done: half_moons, width=5, depth=1, ab_range=10, epoch=20\n",
      "Done: half_moons, width=5, depth=1, ab_range=10, epoch=30\n",
      "Done: half_moons, width=5, depth=1, ab_range=10, epoch=40\n",
      "Done: half_moons, width=5, depth=1, ab_range=10, epoch=50\n",
      "Done: half_moons, width=5, depth=1, ab_range=10, epoch=60\n",
      "Done: half_moons, width=5, depth=1, ab_range=10, epoch=70\n",
      "Done: half_moons, width=5, depth=1, ab_range=10, epoch=80\n",
      "Done: half_moons, width=5, depth=1, ab_range=10, epoch=90\n",
      "Done: half_moons, width=5, depth=1, ab_range=10, epoch=100\n",
      "Done: half_moons, width=5, depth=1, ab_range=10, epoch=110\n",
      "Done: half_moons, width=5, depth=1, ab_range=10, epoch=120\n",
      "Done: half_moons, width=5, depth=1, ab_range=10, epoch=130\n",
      "Done: half_moons, width=5, depth=1, ab_range=10, epoch=140\n",
      "Done: half_moons, width=5, depth=1, ab_range=10, epoch=150\n",
      "Done: half_moons, width=5, depth=1, ab_range=10, epoch=160\n",
      "Done: half_moons, width=5, depth=1, ab_range=10, epoch=170\n",
      "Done: half_moons, width=5, depth=1, ab_range=10, epoch=180\n",
      "Done: half_moons, width=5, depth=1, ab_range=10, epoch=190\n",
      "Done: half_moons, width=5, depth=1, ab_range=10, epoch=200\n",
      "Done: half_moons, width=5, depth=1, ab_range=10, epoch=210\n",
      "Done: half_moons, width=5, depth=1, ab_range=10, epoch=220\n"
     ]
    },
    {
     "name": "stderr",
     "output_type": "stream",
     "text": [
      "Outer loop (a):  27%|██▋       | 27/100 [00:14<00:45,  1.61it/s]"
     ]
    },
    {
     "name": "stdout",
     "output_type": "stream",
     "text": [
      "Done: half_moons, width=5, depth=1, ab_range=10, epoch=230\n",
      "Done: half_moons, width=5, depth=1, ab_range=10, epoch=240\n",
      "Done: half_moons, width=5, depth=1, ab_range=10, epoch=250\n",
      "Done: half_moons, width=5, depth=1, ab_range=10, epoch=260\n",
      "Done: half_moons, width=5, depth=1, ab_range=10, epoch=270"
     ]
    },
    {
     "name": "stderr",
     "output_type": "stream",
     "text": [
      "Outer loop (a):  40%|████      | 40/100 [00:21<00:35,  1.71it/s]"
     ]
    },
    {
     "name": "stdout",
     "output_type": "stream",
     "text": [
      "\n",
      "Done: half_moons, width=5, depth=1, ab_range=10, epoch=280\n",
      "Done: half_moons, width=5, depth=1, ab_range=10, epoch=290\n",
      "Done: half_moons, width=5, depth=1, ab_range=10, epoch=300\n",
      "Done: half_moons, width=5, depth=1, ab_range=10, epoch=310\n",
      "Done: half_moons, width=5, depth=1, ab_range=10, epoch=320\n",
      "Done: half_moons, width=5, depth=1, ab_range=10, epoch=330\n",
      "Done: half_moons, width=5, depth=1, ab_range=10, epoch=340\n",
      "Done: half_moons, width=5, depth=1, ab_range=10, epoch=350\n",
      "Done: half_moons, width=5, depth=1, ab_range=10, epoch=360\n",
      "Done: half_moons, width=5, depth=1, ab_range=10, epoch=370\n",
      "Done: half_moons, width=5, depth=1, ab_range=10, epoch=380\n",
      "Done: half_moons, width=5, depth=1, ab_range=10, epoch=390\n",
      "Done: half_moons, width=5, depth=1, ab_range=10, epoch=400\n",
      "Done: half_moons, width=5, depth=1, ab_range=10, epoch=410\n",
      "Done: half_moons, width=5, depth=1, ab_range=10, epoch=420\n",
      "Done: two_blobs_overlap, width=5, depth=8, ab_range=10, epoch=990\n",
      "Done: two_blobs_overlap, width=5, depth=8, ab_range=10, epoch=1000\n",
      "Previously saved model is of lower resolution; recomputing\n"
     ]
    },
    {
     "name": "stderr",
     "output_type": "stream",
     "text": [
      "Outer loop (a): 100%|██████████| 100/100 [01:04<00:00,  1.56it/s]\n"
     ]
    },
    {
     "name": "stdout",
     "output_type": "stream",
     "text": [
      "✅ Updated and saved new grid at ../backend/landscapes/mlp_5_5_5_5_5_5_5_5/two_blobs_separate/train/range5/ep910\n",
      "Done: two_blobs_separate, width=5, depth=8, ab_range=5, epoch=910\n",
      "Previously saved model is of lower resolution; recomputing\n"
     ]
    },
    {
     "name": "stderr",
     "output_type": "stream",
     "text": [
      "Outer loop (a): 100%|██████████| 100/100 [00:49<00:00,  2.04it/s]\n",
      "Outer loop (a):  15%|█▌        | 15/100 [00:09<00:55,  1.54it/s]"
     ]
    },
    {
     "name": "stdout",
     "output_type": "stream",
     "text": [
      "✅ Updated and saved new grid at ../backend/landscapes/mlp_5_5/half_moons/train/range0.5/ep880\n",
      "Done: half_moons, width=5, depth=2, ab_range=0.5, epoch=880\n",
      "Previously saved model is of lower resolution; recomputing\n"
     ]
    },
    {
     "name": "stderr",
     "output_type": "stream",
     "text": [
      "Outer loop (a): 100%|██████████| 100/100 [00:50<00:00,  1.96it/s]\n"
     ]
    },
    {
     "name": "stdout",
     "output_type": "stream",
     "text": [
      "✅ Updated and saved new grid at ../backend/landscapes/mlp_5_5/two_blobs_separate/train/range0.5/ep0"
     ]
    },
    {
     "name": "stderr",
     "output_type": "stream",
     "text": [
      "Outer loop (a): 100%|██████████| 100/100 [00:55<00:00,  1.86it/s]"
     ]
    },
    {
     "name": "stdout",
     "output_type": "stream",
     "text": [
      "\n",
      "Done: two_blobs_separate, width=5, depth=2, ab_range=0.5, epoch=0"
     ]
    },
    {
     "name": "stderr",
     "output_type": "stream",
     "text": [
      "Outer loop (a): 100%|██████████| 100/100 [00:55<00:00,  1.81it/s]"
     ]
    },
    {
     "name": "stdout",
     "output_type": "stream",
     "text": [
      "\n",
      "Previously saved model is of lower resolution; recomputing\n"
     ]
    },
    {
     "name": "stderr",
     "output_type": "stream",
     "text": [
      "\n",
      "Outer loop (a):   0%|          | 0/100 [00:00<?, ?it/s]"
     ]
    },
    {
     "name": "stdout",
     "output_type": "stream",
     "text": [
      "✅ Updated and saved new grid at ../backend/landscapes/mlp_5_5_5_5/four_corners/train/range2/ep230\n",
      "Done: four_corners, width=5, depth=4, ab_range=2, epoch=230\n",
      "Previously saved model is of lower resolution; recomputing\n"
     ]
    },
    {
     "name": "stderr",
     "output_type": "stream",
     "text": [
      "Outer loop (a): 100%|██████████| 100/100 [00:57<00:00,  1.75it/s]\n"
     ]
    },
    {
     "name": "stdout",
     "output_type": "stream",
     "text": [
      "✅ Updated and saved new grid at ../backend/landscapes/mlp_5_5_5_5/two_blobs_overlap/train/range0.2/ep970\n",
      "Done: two_blobs_overlap, width=5, depth=4, ab_range=0.2, epoch=970\n",
      "Previously saved model is of lower resolution; recomputing\n"
     ]
    },
    {
     "name": "stderr",
     "output_type": "stream",
     "text": [
      "Outer loop (a):  39%|███▉      | 39/100 [00:25<00:40,  1.51it/s]]\n"
     ]
    },
    {
     "name": "stdout",
     "output_type": "stream",
     "text": [
      "✅ Updated and saved new grid at ../backend/landscapes/mlp_5_5/four_corners/train/range0.5/ep250\n",
      "Done: four_corners, width=5, depth=2, ab_range=0.5, epoch=250\n",
      "Previously saved model is of lower resolution; recomputing\n"
     ]
    },
    {
     "name": "stderr",
     "output_type": "stream",
     "text": [
      "Outer loop (a): 100%|██████████| 100/100 [00:54<00:00,  1.85it/s]\n",
      "Outer loop (a):  14%|█▍        | 14/100 [00:08<00:54,  1.58it/s]"
     ]
    },
    {
     "name": "stdout",
     "output_type": "stream",
     "text": [
      "✅ Updated and saved new grid at ../backend/landscapes/mlp_5_5_5_5/spirals/train/range5/ep970\n",
      "Done: spirals, width=5, depth=4, ab_range=5, epoch=970\n",
      "Previously saved model is of lower resolution; recomputing\n"
     ]
    },
    {
     "name": "stderr",
     "output_type": "stream",
     "text": [
      "Outer loop (a): 100%|██████████| 100/100 [00:51<00:00,  1.95it/s]\n"
     ]
    },
    {
     "name": "stdout",
     "output_type": "stream",
     "text": [
      "✅ Updated and saved new grid at ../backend/landscapes/mlp_5_5/half_moons/train/range0.5/ep890\n",
      "Done: half_moons, width=5, depth=2, ab_range=0.5, epoch=890\n",
      "Previously saved model is of lower resolution; recomputing\n"
     ]
    },
    {
     "name": "stderr",
     "output_type": "stream",
     "text": [
      "Outer loop (a): 100%|██████████| 100/100 [00:49<00:00,  2.01it/s]\n"
     ]
    },
    {
     "name": "stdout",
     "output_type": "stream",
     "text": [
      "✅ Updated and saved new grid at ../backend/landscapes/mlp_5_5/two_blobs_separate/train/range0.5/ep10\n",
      "Done: two_blobs_separate, width=5, depth=2, ab_range=0.5, epoch=10\n",
      "Previously saved model is of lower resolution; recomputing\n"
     ]
    },
    {
     "name": "stderr",
     "output_type": "stream",
     "text": [
      "Outer loop (a): 100%|██████████| 100/100 [01:05<00:00,  1.53it/s]\n"
     ]
    },
    {
     "name": "stdout",
     "output_type": "stream",
     "text": [
      "✅ Updated and saved new grid at ../backend/landscapes/mlp_5_5_5_5_5_5_5_5/two_blobs_overlap/train/range2/ep0\n",
      "Done: two_blobs_overlap, width=5, depth=8, ab_range=2, epoch=0\n",
      "Previously saved model is of lower resolution; recomputing\n"
     ]
    },
    {
     "name": "stderr",
     "output_type": "stream",
     "text": [
      "Outer loop (a): 100%|██████████| 100/100 [00:56<00:00,  1.76it/s]\n"
     ]
    },
    {
     "name": "stdout",
     "output_type": "stream",
     "text": [
      "✅ Updated and saved new grid at ../backend/landscapes/mlp_5_5_5_5/four_corners/train/range2/ep240\n",
      "Done: four_corners, width=5, depth=4, ab_range=2, epoch=240\n",
      "Previously saved model is of lower resolution; recomputing\n"
     ]
    },
    {
     "name": "stderr",
     "output_type": "stream",
     "text": [
      "Outer loop (a): 100%|██████████| 100/100 [01:05<00:00,  1.53it/s]\n"
     ]
    },
    {
     "name": "stdout",
     "output_type": "stream",
     "text": [
      "✅ Updated and saved new grid at ../backend/landscapes/mlp_5_5_5_5_5_5_5_5/two_blobs_separate/train/range5/ep920\n",
      "Done: two_blobs_separate, width=5, depth=8, ab_range=5, epoch=920\n",
      "Previously saved model is of lower resolution; recomputing\n"
     ]
    },
    {
     "name": "stderr",
     "output_type": "stream",
     "text": [
      "Outer loop (a): 100%|██████████| 100/100 [00:49<00:00,  2.02it/s]\n"
     ]
    },
    {
     "name": "stdout",
     "output_type": "stream",
     "text": [
      "✅ Updated and saved new grid at ../backend/landscapes/mlp_5_5/four_corners/train/range0.5/ep260\n",
      "Done: four_corners, width=5, depth=2, ab_range=0.5, epoch=260\n",
      "Previously saved model is of lower resolution; recomputing\n"
     ]
    },
    {
     "name": "stderr",
     "output_type": "stream",
     "text": [
      "Outer loop (a): 100%|██████████| 100/100 [00:55<00:00,  1.80it/s]\n"
     ]
    },
    {
     "name": "stdout",
     "output_type": "stream",
     "text": [
      "✅ Updated and saved new grid at ../backend/landscapes/mlp_5_5_5_5/two_blobs_overlap/train/range0.2/ep980\n",
      "Done: two_blobs_overlap, width=5, depth=4, ab_range=0.2, epoch=980\n",
      "Previously saved model is of lower resolution; recomputing\n"
     ]
    },
    {
     "name": "stderr",
     "output_type": "stream",
     "text": [
      "Outer loop (a): 100%|██████████| 100/100 [00:54<00:00,  1.83it/s]\n"
     ]
    },
    {
     "name": "stdout",
     "output_type": "stream",
     "text": [
      "✅ Updated and saved new grid at ../backend/landscapes/mlp_5_5_5_5/spirals/train/range5/ep980\n",
      "Done: spirals, width=5, depth=4, ab_range=5, epoch=980\n",
      "Previously saved model is of lower resolution; recomputing\n"
     ]
    },
    {
     "name": "stderr",
     "output_type": "stream",
     "text": [
      "Outer loop (a): 100%|██████████| 100/100 [00:50<00:00,  1.97it/s]\n"
     ]
    },
    {
     "name": "stdout",
     "output_type": "stream",
     "text": [
      "✅ Updated and saved new grid at ../backend/landscapes/mlp_5_5/half_moons/train/range0.5/ep900\n",
      "Done: half_moons, width=5, depth=2, ab_range=0.5, epoch=900\n",
      "Previously saved model is of lower resolution; recomputing\n"
     ]
    },
    {
     "name": "stderr",
     "output_type": "stream",
     "text": [
      "Outer loop (a): 100%|██████████| 100/100 [00:48<00:00,  2.05it/s]\n"
     ]
    },
    {
     "name": "stdout",
     "output_type": "stream",
     "text": [
      "✅ Updated and saved new grid at ../backend/landscapes/mlp_5_5/two_blobs_separate/train/range0.5/ep20\n",
      "Done: two_blobs_separate, width=5, depth=2, ab_range=0.5, epoch=20\n",
      "Previously saved model is of lower resolution; recomputing\n"
     ]
    },
    {
     "name": "stderr",
     "output_type": "stream",
     "text": [
      "Outer loop (a): 100%|██████████| 100/100 [00:55<00:00,  1.81it/s]\n"
     ]
    },
    {
     "name": "stdout",
     "output_type": "stream",
     "text": [
      "✅ Updated and saved new grid at ../backend/landscapes/mlp_5_5_5_5/four_corners/train/range2/ep250\n",
      "Done: four_corners, width=5, depth=4, ab_range=2, epoch=250\n",
      "Previously saved model is of lower resolution; recomputing\n"
     ]
    },
    {
     "name": "stderr",
     "output_type": "stream",
     "text": [
      "Outer loop (a): 100%|██████████| 100/100 [01:04<00:00,  1.55it/s]\n"
     ]
    },
    {
     "name": "stdout",
     "output_type": "stream",
     "text": [
      "✅ Updated and saved new grid at ../backend/landscapes/mlp_5_5_5_5_5_5_5_5/two_blobs_overlap/train/range2/ep10\n",
      "Done: two_blobs_overlap, width=5, depth=8, ab_range=2, epoch=10\n",
      "Previously saved model is of lower resolution; recomputing\n"
     ]
    },
    {
     "name": "stderr",
     "output_type": "stream",
     "text": [
      "Outer loop (a): 100%|██████████| 100/100 [00:48<00:00,  2.05it/s]\n"
     ]
    },
    {
     "name": "stdout",
     "output_type": "stream",
     "text": [
      "✅ Updated and saved new grid at ../backend/landscapes/mlp_5_5/four_corners/train/range0.5/ep270\n",
      "Done: four_corners, width=5, depth=2, ab_range=0.5, epoch=270\n",
      "Previously saved model is of lower resolution; recomputing\n"
     ]
    },
    {
     "name": "stderr",
     "output_type": "stream",
     "text": [
      "Outer loop (a): 100%|██████████| 100/100 [01:03<00:00,  1.57it/s]\n"
     ]
    },
    {
     "name": "stdout",
     "output_type": "stream",
     "text": [
      "✅ Updated and saved new grid at ../backend/landscapes/mlp_5_5_5_5_5_5_5_5/two_blobs_separate/train/range5/ep930\n",
      "Done: two_blobs_separate, width=5, depth=8, ab_range=5, epoch=930\n",
      "Previously saved model is of lower resolution; recomputing\n"
     ]
    },
    {
     "name": "stderr",
     "output_type": "stream",
     "text": [
      "Outer loop (a): 100%|██████████| 100/100 [00:54<00:00,  1.83it/s]\n"
     ]
    },
    {
     "name": "stdout",
     "output_type": "stream",
     "text": [
      "✅ Updated and saved new grid at ../backend/landscapes/mlp_5_5_5_5/two_blobs_overlap/train/range0.2/ep990\n",
      "Done: two_blobs_overlap, width=5, depth=4, ab_range=0.2, epoch=990\n",
      "Previously saved model is of lower resolution; recomputing\n"
     ]
    },
    {
     "name": "stderr",
     "output_type": "stream",
     "text": [
      "Outer loop (a): 100%|██████████| 100/100 [00:55<00:00,  1.82it/s]\n"
     ]
    },
    {
     "name": "stdout",
     "output_type": "stream",
     "text": [
      "✅ Updated and saved new grid at ../backend/landscapes/mlp_5_5_5_5/spirals/train/range5/ep990\n",
      "Done: spirals, width=5, depth=4, ab_range=5, epoch=990\n",
      "Previously saved model is of lower resolution; recomputing\n"
     ]
    },
    {
     "name": "stderr",
     "output_type": "stream",
     "text": [
      "Outer loop (a): 100%|██████████| 100/100 [00:49<00:00,  2.02it/s]\n"
     ]
    },
    {
     "name": "stdout",
     "output_type": "stream",
     "text": [
      "✅ Updated and saved new grid at ../backend/landscapes/mlp_5_5/two_blobs_separate/train/range0.5/ep30\n",
      "Done: two_blobs_separate, width=5, depth=2, ab_range=0.5, epoch=30\n",
      "Previously saved model is of lower resolution; recomputing\n"
     ]
    },
    {
     "name": "stderr",
     "output_type": "stream",
     "text": [
      "Outer loop (a): 100%|██████████| 100/100 [00:52<00:00,  1.91it/s]\n"
     ]
    },
    {
     "name": "stdout",
     "output_type": "stream",
     "text": [
      "✅ Updated and saved new grid at ../backend/landscapes/mlp_5_5/half_moons/train/range0.5/ep910\n",
      "Done: half_moons, width=5, depth=2, ab_range=0.5, epoch=910\n",
      "Previously saved model is of lower resolution; recomputing\n"
     ]
    },
    {
     "name": "stderr",
     "output_type": "stream",
     "text": [
      "Outer loop (a): 100%|██████████| 100/100 [00:50<00:00,  1.99it/s]\n"
     ]
    },
    {
     "name": "stdout",
     "output_type": "stream",
     "text": [
      "✅ Updated and saved new grid at ../backend/landscapes/mlp_5_5/four_corners/train/range0.5/ep280\n"
     ]
    },
    {
     "name": "stderr",
     "output_type": "stream",
     "text": [
      "Outer loop (a):  33%|███▎      | 33/100 [00:16<00:38,  1.73it/s]"
     ]
    },
    {
     "name": "stdout",
     "output_type": "stream",
     "text": [
      "Done: four_corners, width=5, depth=2, ab_range=0.5, epoch=280\n",
      "Previously saved model is of lower resolution; recomputing\n"
     ]
    },
    {
     "name": "stderr",
     "output_type": "stream",
     "text": [
      "Outer loop (a): 100%|██████████| 100/100 [00:56<00:00,  1.78it/s]\n"
     ]
    },
    {
     "name": "stdout",
     "output_type": "stream",
     "text": [
      "✅ Updated and saved new grid at ../backend/landscapes/mlp_5_5_5_5/four_corners/train/range2/ep260\n",
      "Done: four_corners, width=5, depth=4, ab_range=2, epoch=260\n",
      "Previously saved model is of lower resolution; recomputing\n"
     ]
    },
    {
     "name": "stderr",
     "output_type": "stream",
     "text": [
      "Outer loop (a): 100%|██████████| 100/100 [00:53<00:00,  1.87it/s]\n"
     ]
    },
    {
     "name": "stdout",
     "output_type": "stream",
     "text": [
      "✅ Updated and saved new grid at ../backend/landscapes/mlp_5_5_5_5/two_blobs_overlap/train/range0.2/ep1000\n",
      "Done: two_blobs_overlap, width=5, depth=4, ab_range=0.2, epoch=1000\n",
      "Previously saved model is of lower resolution; recomputing\n"
     ]
    },
    {
     "name": "stderr",
     "output_type": "stream",
     "text": [
      "Outer loop (a):  60%|██████    | 60/100 [00:31<00:19,  2.06it/s]]\n"
     ]
    },
    {
     "name": "stdout",
     "output_type": "stream",
     "text": [
      "✅ Updated and saved new grid at ../backend/landscapes/mlp_5_5_5_5_5_5_5_5/two_blobs_overlap/train/range2/ep20\n",
      "Done: two_blobs_overlap, width=5, depth=8, ab_range=2, epoch=20\n",
      "Previously saved model is of lower resolution; recomputing\n"
     ]
    },
    {
     "name": "stderr",
     "output_type": "stream",
     "text": [
      "Outer loop (a): 100%|██████████| 100/100 [01:04<00:00,  1.56it/s]\n"
     ]
    },
    {
     "name": "stdout",
     "output_type": "stream",
     "text": [
      "✅ Updated and saved new grid at ../backend/landscapes/mlp_5_5_5_5_5_5_5_5/two_blobs_separate/train/range5/ep940\n"
     ]
    },
    {
     "name": "stderr",
     "output_type": "stream",
     "text": [
      "Outer loop (a):  75%|███████▌  | 75/100 [00:37<00:12,  2.00it/s]"
     ]
    },
    {
     "name": "stdout",
     "output_type": "stream",
     "text": [
      "Done: two_blobs_separate, width=5, depth=8, ab_range=5, epoch=940\n",
      "Previously saved model is of lower resolution; recomputing\n"
     ]
    },
    {
     "name": "stderr",
     "output_type": "stream",
     "text": [
      "Outer loop (a): 100%|██████████| 100/100 [00:56<00:00,  1.77it/s]\n"
     ]
    },
    {
     "name": "stdout",
     "output_type": "stream",
     "text": [
      "✅ Updated and saved new grid at ../backend/landscapes/mlp_5_5_5_5/spirals/train/range5/ep1000\n",
      "Done: spirals, width=5, depth=4, ab_range=5, epoch=1000\n",
      "Previously saved model is of lower resolution; recomputing\n"
     ]
    },
    {
     "name": "stderr",
     "output_type": "stream",
     "text": [
      "Outer loop (a): 100%|██████████| 100/100 [00:50<00:00,  1.97it/s]\n"
     ]
    },
    {
     "name": "stdout",
     "output_type": "stream",
     "text": [
      "✅ Updated and saved new grid at ../backend/landscapes/mlp_5_5/two_blobs_separate/train/range0.5/ep40\n",
      "Done: two_blobs_separate, width=5, depth=2, ab_range=0.5, epoch=40\n",
      "Previously saved model is of lower resolution; recomputing\n"
     ]
    },
    {
     "name": "stderr",
     "output_type": "stream",
     "text": [
      "Outer loop (a): 100%|██████████| 100/100 [00:51<00:00,  1.94it/s]\n"
     ]
    },
    {
     "name": "stdout",
     "output_type": "stream",
     "text": [
      "✅ Updated and saved new grid at ../backend/landscapes/mlp_5_5/half_moons/train/range0.5/ep920\n",
      "Done: half_moons, width=5, depth=2, ab_range=0.5, epoch=920\n",
      "Previously saved model is of lower resolution; recomputing\n"
     ]
    },
    {
     "name": "stderr",
     "output_type": "stream",
     "text": [
      "Outer loop (a): 100%|██████████| 100/100 [00:50<00:00,  1.99it/s]\n"
     ]
    },
    {
     "name": "stdout",
     "output_type": "stream",
     "text": [
      "✅ Updated and saved new grid at ../backend/landscapes/mlp_5_5/four_corners/train/range0.5/ep290\n",
      "Done: four_corners, width=5, depth=2, ab_range=0.5, epoch=290\n",
      "Previously saved model is of lower resolution; recomputing\n"
     ]
    },
    {
     "name": "stderr",
     "output_type": "stream",
     "text": [
      "Outer loop (a): 100%|██████████| 100/100 [00:56<00:00,  1.79it/s]\n"
     ]
    },
    {
     "name": "stdout",
     "output_type": "stream",
     "text": [
      "✅ Updated and saved new grid at ../backend/landscapes/mlp_5_5_5_5/four_corners/train/range2/ep270\n",
      "Done: four_corners, width=5, depth=4, ab_range=2, epoch=270\n",
      "Previously saved model is of lower resolution; recomputing\n"
     ]
    },
    {
     "name": "stderr",
     "output_type": "stream",
     "text": [
      "Outer loop (a): 100%|██████████| 100/100 [00:52<00:00,  1.89it/s]\n"
     ]
    },
    {
     "name": "stdout",
     "output_type": "stream",
     "text": [
      "✅ Updated and saved new grid at ../backend/landscapes/mlp_5_5_5_5/two_blobs_overlap/train/range0.5/ep0\n",
      "Done: two_blobs_overlap, width=5, depth=4, ab_range=0.5, epoch=0\n",
      "Previously saved model is of lower resolution; recomputing\n"
     ]
    },
    {
     "name": "stderr",
     "output_type": "stream",
     "text": [
      "Outer loop (a): 100%|██████████| 100/100 [01:03<00:00,  1.59it/s]\n"
     ]
    },
    {
     "name": "stdout",
     "output_type": "stream",
     "text": [
      "✅ Updated and saved new grid at ../backend/landscapes/mlp_5_5_5_5_5_5_5_5/two_blobs_overlap/train/range2/ep30\n",
      "Done: two_blobs_overlap, width=5, depth=8, ab_range=2, epoch=30\n",
      "Previously saved model is of lower resolution; recomputing\n"
     ]
    },
    {
     "name": "stderr",
     "output_type": "stream",
     "text": [
      "Outer loop (a): 100%|██████████| 100/100 [00:55<00:00,  1.82it/s]\n"
     ]
    },
    {
     "name": "stdout",
     "output_type": "stream",
     "text": [
      "✅ Updated and saved new grid at ../backend/landscapes/mlp_5_5_5_5/spirals/train/range0.2/ep0\n",
      "Done: spirals, width=5, depth=4, ab_range=0.2, epoch=0\n",
      "Previously saved model is of lower resolution; recomputing\n"
     ]
    },
    {
     "name": "stderr",
     "output_type": "stream",
     "text": [
      "Outer loop (a): 100%|██████████| 100/100 [00:51<00:00,  1.94it/s]\n"
     ]
    },
    {
     "name": "stdout",
     "output_type": "stream",
     "text": [
      "✅ Updated and saved new grid at ../backend/landscapes/mlp_5_5/two_blobs_separate/train/range0.5/ep50\n",
      "Done: two_blobs_separate, width=5, depth=2, ab_range=0.5, epoch=50\n",
      "Previously saved model is of lower resolution; recomputing\n"
     ]
    },
    {
     "name": "stderr",
     "output_type": "stream",
     "text": [
      "Outer loop (a): 100%|██████████| 100/100 [01:05<00:00,  1.53it/s]\n"
     ]
    },
    {
     "name": "stdout",
     "output_type": "stream",
     "text": [
      "✅ Updated and saved new grid at ../backend/landscapes/mlp_5_5_5_5_5_5_5_5/two_blobs_separate/train/range5/ep950\n",
      "Done: two_blobs_separate, width=5, depth=8, ab_range=5, epoch=950\n",
      "Previously saved model is of lower resolution; recomputing\n"
     ]
    },
    {
     "name": "stderr",
     "output_type": "stream",
     "text": [
      "Outer loop (a): 100%|██████████| 100/100 [00:50<00:00,  1.97it/s]\n"
     ]
    },
    {
     "name": "stdout",
     "output_type": "stream",
     "text": [
      "✅ Updated and saved new grid at ../backend/landscapes/mlp_5_5/half_moons/train/range0.5/ep930\n",
      "Done: half_moons, width=5, depth=2, ab_range=0.5, epoch=930\n",
      "Previously saved model is of lower resolution; recomputing\n"
     ]
    },
    {
     "name": "stderr",
     "output_type": "stream",
     "text": [
      "Outer loop (a): 100%|██████████| 100/100 [00:50<00:00,  2.00it/s]\n"
     ]
    },
    {
     "name": "stdout",
     "output_type": "stream",
     "text": [
      "✅ Updated and saved new grid at ../backend/landscapes/mlp_5_5/four_corners/train/range0.5/ep300\n",
      "Done: four_corners, width=5, depth=2, ab_range=0.5, epoch=300\n",
      "Previously saved model is of lower resolution; recomputing\n"
     ]
    },
    {
     "name": "stderr",
     "output_type": "stream",
     "text": [
      "Outer loop (a): 100%|██████████| 100/100 [00:55<00:00,  1.79it/s]\n"
     ]
    },
    {
     "name": "stdout",
     "output_type": "stream",
     "text": [
      "✅ Updated and saved new grid at ../backend/landscapes/mlp_5_5_5_5/four_corners/train/range2/ep280\n",
      "Done: four_corners, width=5, depth=4, ab_range=2, epoch=280\n",
      "Previously saved model is of lower resolution; recomputing\n"
     ]
    },
    {
     "name": "stderr",
     "output_type": "stream",
     "text": [
      "Outer loop (a): 100%|██████████| 100/100 [00:55<00:00,  1.81it/s]\n"
     ]
    },
    {
     "name": "stdout",
     "output_type": "stream",
     "text": [
      "✅ Updated and saved new grid at ../backend/landscapes/mlp_5_5_5_5/two_blobs_overlap/train/range0.5/ep10\n",
      "Done: two_blobs_overlap, width=5, depth=4, ab_range=0.5, epoch=10\n",
      "Previously saved model is of lower resolution; recomputing\n"
     ]
    },
    {
     "name": "stderr",
     "output_type": "stream",
     "text": [
      "Outer loop (a): 100%|██████████| 100/100 [00:47<00:00,  2.12it/s]\n"
     ]
    },
    {
     "name": "stdout",
     "output_type": "stream",
     "text": [
      "✅ Updated and saved new grid at ../backend/landscapes/mlp_5_5/two_blobs_separate/train/range0.5/ep60\n",
      "Done: two_blobs_separate, width=5, depth=2, ab_range=0.5, epoch=60\n",
      "Previously saved model is of lower resolution; recomputing\n"
     ]
    },
    {
     "name": "stderr",
     "output_type": "stream",
     "text": [
      "Outer loop (a): 100%|██████████| 100/100 [00:56<00:00,  1.78it/s]\n"
     ]
    },
    {
     "name": "stdout",
     "output_type": "stream",
     "text": [
      "✅ Updated and saved new grid at ../backend/landscapes/mlp_5_5_5_5/spirals/train/range0.2/ep10\n",
      "Done: spirals, width=5, depth=4, ab_range=0.2, epoch=10"
     ]
    },
    {
     "name": "stderr",
     "output_type": "stream",
     "text": [
      "Outer loop (a):  71%|███████   | 71/100 [00:35<00:14,  1.98it/s]"
     ]
    },
    {
     "name": "stdout",
     "output_type": "stream",
     "text": [
      "\n",
      "Previously saved model is of lower resolution; recomputing\n"
     ]
    },
    {
     "name": "stderr",
     "output_type": "stream",
     "text": [
      "Outer loop (a): 100%|██████████| 100/100 [00:52<00:00,  1.90it/s]\n"
     ]
    },
    {
     "name": "stdout",
     "output_type": "stream",
     "text": [
      "✅ Updated and saved new grid at ../backend/landscapes/mlp_5_5/half_moons/train/range0.5/ep940\n",
      "Done: half_moons, width=5, depth=2, ab_range=0.5, epoch=940\n",
      "Previously saved model is of lower resolution; recomputing\n"
     ]
    },
    {
     "name": "stderr",
     "output_type": "stream",
     "text": [
      "Outer loop (a): 100%|██████████| 100/100 [01:03<00:00,  1.58it/s]\n"
     ]
    },
    {
     "name": "stdout",
     "output_type": "stream",
     "text": [
      "✅ Updated and saved new grid at ../backend/landscapes/mlp_5_5_5_5_5_5_5_5/two_blobs_overlap/train/range2/ep40\n",
      "Done: two_blobs_overlap, width=5, depth=8, ab_range=2, epoch=40\n",
      "Previously saved model is of lower resolution; recomputing\n"
     ]
    },
    {
     "name": "stderr",
     "output_type": "stream",
     "text": [
      "Outer loop (a): 100%|██████████| 100/100 [01:05<00:00,  1.53it/s]\n"
     ]
    },
    {
     "name": "stdout",
     "output_type": "stream",
     "text": [
      "✅ Updated and saved new grid at ../backend/landscapes/mlp_5_5_5_5_5_5_5_5/two_blobs_separate/train/range5/ep960\n",
      "Done: two_blobs_separate, width=5, depth=8, ab_range=5, epoch=960\n",
      "Previously saved model is of lower resolution; recomputing\n"
     ]
    },
    {
     "name": "stderr",
     "output_type": "stream",
     "text": [
      "Outer loop (a): 100%|██████████| 100/100 [00:51<00:00,  1.95it/s]\n"
     ]
    },
    {
     "name": "stdout",
     "output_type": "stream",
     "text": [
      "✅ Updated and saved new grid at ../backend/landscapes/mlp_5_5/four_corners/train/range0.5/ep310\n",
      "Done: four_corners, width=5, depth=2, ab_range=0.5, epoch=310\n",
      "Previously saved model is of lower resolution; recomputing\n"
     ]
    },
    {
     "name": "stderr",
     "output_type": "stream",
     "text": [
      "Outer loop (a): 100%|██████████| 100/100 [00:57<00:00,  1.75it/s]\n"
     ]
    },
    {
     "name": "stdout",
     "output_type": "stream",
     "text": [
      "✅ Updated and saved new grid at ../backend/landscapes/mlp_5_5_5_5/four_corners/train/range2/ep290\n",
      "Done: four_corners, width=5, depth=4, ab_range=2, epoch=290\n",
      "Previously saved model is of lower resolution; recomputing\n"
     ]
    },
    {
     "name": "stderr",
     "output_type": "stream",
     "text": [
      "Outer loop (a): 100%|██████████| 100/100 [00:54<00:00,  1.83it/s]\n"
     ]
    },
    {
     "name": "stdout",
     "output_type": "stream",
     "text": [
      "✅ Updated and saved new grid at ../backend/landscapes/mlp_5_5_5_5/two_blobs_overlap/train/range0.5/ep20\n",
      "Done: two_blobs_overlap, width=5, depth=4, ab_range=0.5, epoch=20\n",
      "Previously saved model is of lower resolution; recomputing\n"
     ]
    },
    {
     "name": "stderr",
     "output_type": "stream",
     "text": [
      "Outer loop (a): 100%|██████████| 100/100 [00:49<00:00,  2.01it/s]\n"
     ]
    },
    {
     "name": "stdout",
     "output_type": "stream",
     "text": [
      "✅ Updated and saved new grid at ../backend/landscapes/mlp_5_5/two_blobs_separate/train/range0.5/ep70\n",
      "Done: two_blobs_separate, width=5, depth=2, ab_range=0.5, epoch=70\n",
      "Previously saved model is of lower resolution; recomputing\n"
     ]
    },
    {
     "name": "stderr",
     "output_type": "stream",
     "text": [
      "Outer loop (a): 100%|██████████| 100/100 [00:52<00:00,  1.91it/s]\n"
     ]
    },
    {
     "name": "stdout",
     "output_type": "stream",
     "text": [
      "✅ Updated and saved new grid at ../backend/landscapes/mlp_5_5_5_5/spirals/train/range0.2/ep20\n",
      "Done: spirals, width=5, depth=4, ab_range=0.2, epoch=20\n",
      "Previously saved model is of lower resolution; recomputing\n"
     ]
    },
    {
     "name": "stderr",
     "output_type": "stream",
     "text": [
      "Outer loop (a): 100%|██████████| 100/100 [00:52<00:00,  1.91it/s]\n"
     ]
    },
    {
     "name": "stdout",
     "output_type": "stream",
     "text": [
      "✅ Updated and saved new grid at ../backend/landscapes/mlp_5_5/half_moons/train/range0.5/ep950\n",
      "Done: half_moons, width=5, depth=2, ab_range=0.5, epoch=950\n",
      "Previously saved model is of lower resolution; recomputing\n"
     ]
    },
    {
     "name": "stderr",
     "output_type": "stream",
     "text": [
      "Outer loop (a): 100%|██████████| 100/100 [00:50<00:00,  1.99it/s]\n"
     ]
    },
    {
     "name": "stdout",
     "output_type": "stream",
     "text": [
      "✅ Updated and saved new grid at ../backend/landscapes/mlp_5_5/four_corners/train/range0.5/ep320\n",
      "Done: four_corners, width=5, depth=2, ab_range=0.5, epoch=320\n",
      "Previously saved model is of lower resolution; recomputing\n"
     ]
    },
    {
     "name": "stderr",
     "output_type": "stream",
     "text": [
      "Outer loop (a): 100%|██████████| 100/100 [01:04<00:00,  1.56it/s]\n"
     ]
    },
    {
     "name": "stdout",
     "output_type": "stream",
     "text": [
      "✅ Updated and saved new grid at ../backend/landscapes/mlp_5_5_5_5_5_5_5_5/two_blobs_overlap/train/range2/ep50\n",
      "Done: two_blobs_overlap, width=5, depth=8, ab_range=2, epoch=50\n",
      "Previously saved model is of lower resolution; recomputing\n"
     ]
    },
    {
     "name": "stderr",
     "output_type": "stream",
     "text": [
      "Outer loop (a): 100%|██████████| 100/100 [01:05<00:00,  1.54it/s]\n"
     ]
    },
    {
     "name": "stdout",
     "output_type": "stream",
     "text": [
      "✅ Updated and saved new grid at ../backend/landscapes/mlp_5_5_5_5_5_5_5_5/two_blobs_separate/train/range5/ep970\n",
      "Done: two_blobs_separate, width=5, depth=8, ab_range=5, epoch=970\n",
      "Previously saved model is of lower resolution; recomputing\n"
     ]
    },
    {
     "name": "stderr",
     "output_type": "stream",
     "text": [
      "Outer loop (a): 100%|██████████| 100/100 [00:53<00:00,  1.89it/s]\n"
     ]
    },
    {
     "name": "stdout",
     "output_type": "stream",
     "text": [
      "✅ Updated and saved new grid at ../backend/landscapes/mlp_5_5_5_5/four_corners/train/range2/ep300\n",
      "Done: four_corners, width=5, depth=4, ab_range=2, epoch=300\n",
      "Previously saved model is of lower resolution; recomputing\n"
     ]
    },
    {
     "name": "stderr",
     "output_type": "stream",
     "text": [
      "Outer loop (a): 100%|██████████| 100/100 [00:56<00:00,  1.77it/s]\n"
     ]
    },
    {
     "name": "stdout",
     "output_type": "stream",
     "text": [
      "✅ Updated and saved new grid at ../backend/landscapes/mlp_5_5_5_5/two_blobs_overlap/train/range0.5/ep30\n",
      "Done: two_blobs_overlap, width=5, depth=4, ab_range=0.5, epoch=30\n",
      "Previously saved model is of lower resolution; recomputing\n"
     ]
    },
    {
     "name": "stderr",
     "output_type": "stream",
     "text": [
      "Outer loop (a): 100%|██████████| 100/100 [00:52<00:00,  1.92it/s]\n"
     ]
    },
    {
     "name": "stdout",
     "output_type": "stream",
     "text": [
      "✅ Updated and saved new grid at ../backend/landscapes/mlp_5_5/two_blobs_separate/train/range0.5/ep80\n",
      "Done: two_blobs_separate, width=5, depth=2, ab_range=0.5, epoch=80\n",
      "Previously saved model is of lower resolution; recomputing\n"
     ]
    },
    {
     "name": "stderr",
     "output_type": "stream",
     "text": [
      "Outer loop (a): 100%|██████████| 100/100 [00:50<00:00,  1.96it/s]\n"
     ]
    },
    {
     "name": "stdout",
     "output_type": "stream",
     "text": [
      "✅ Updated and saved new grid at ../backend/landscapes/mlp_5_5/half_moons/train/range0.5/ep960\n",
      "Done: half_moons, width=5, depth=2, ab_range=0.5, epoch=960\n",
      "Previously saved model is of lower resolution; recomputing\n"
     ]
    },
    {
     "name": "stderr",
     "output_type": "stream",
     "text": [
      "Outer loop (a): 100%|██████████| 100/100 [00:56<00:00,  1.77it/s]\n"
     ]
    },
    {
     "name": "stdout",
     "output_type": "stream",
     "text": [
      "✅ Updated and saved new grid at ../backend/landscapes/mlp_5_5_5_5/spirals/train/range0.2/ep30\n",
      "Done: spirals, width=5, depth=4, ab_range=0.2, epoch=30\n",
      "Previously saved model is of lower resolution; recomputing\n"
     ]
    },
    {
     "name": "stderr",
     "output_type": "stream",
     "text": [
      "Outer loop (a): 100%|██████████| 100/100 [00:51<00:00,  1.94it/s]\n"
     ]
    },
    {
     "name": "stdout",
     "output_type": "stream",
     "text": [
      "✅ Updated and saved new grid at ../backend/landscapes/mlp_5_5/four_corners/train/range0.5/ep330\n",
      "Done: four_corners, width=5, depth=2, ab_range=0.5, epoch=330\n",
      "Previously saved model is of lower resolution; recomputing\n"
     ]
    },
    {
     "name": "stderr",
     "output_type": "stream",
     "text": [
      "Outer loop (a): 100%|██████████| 100/100 [01:04<00:00,  1.55it/s]\n"
     ]
    },
    {
     "name": "stdout",
     "output_type": "stream",
     "text": [
      "✅ Updated and saved new grid at ../backend/landscapes/mlp_5_5_5_5_5_5_5_5/two_blobs_overlap/train/range2/ep60\n",
      "Done: two_blobs_overlap, width=5, depth=8, ab_range=2, epoch=60\n",
      "Previously saved model is of lower resolution; recomputing\n"
     ]
    },
    {
     "name": "stderr",
     "output_type": "stream",
     "text": [
      "Outer loop (a): 100%|██████████| 100/100 [00:54<00:00,  1.85it/s]\n"
     ]
    },
    {
     "name": "stdout",
     "output_type": "stream",
     "text": [
      "✅ Updated and saved new grid at ../backend/landscapes/mlp_5_5_5_5/four_corners/train/range2/ep310\n",
      "Done: four_corners, width=5, depth=4, ab_range=2, epoch=310\n",
      "Previously saved model is of lower resolution; recomputing\n"
     ]
    },
    {
     "name": "stderr",
     "output_type": "stream",
     "text": [
      "Outer loop (a): 100%|██████████| 100/100 [01:07<00:00,  1.49it/s]\n"
     ]
    },
    {
     "name": "stdout",
     "output_type": "stream",
     "text": [
      "✅ Updated and saved new grid at ../backend/landscapes/mlp_5_5_5_5_5_5_5_5/two_blobs_separate/train/range5/ep980\n",
      "Done: two_blobs_separate, width=5, depth=8, ab_range=5, epoch=980\n",
      "Previously saved model is of lower resolution; recomputing\n"
     ]
    },
    {
     "name": "stderr",
     "output_type": "stream",
     "text": [
      "Outer loop (a): 100%|██████████| 100/100 [00:51<00:00,  1.93it/s]\n"
     ]
    },
    {
     "name": "stdout",
     "output_type": "stream",
     "text": [
      "✅ Updated and saved new grid at ../backend/landscapes/mlp_5_5/two_blobs_separate/train/range0.5/ep90\n",
      "Done: two_blobs_separate, width=5, depth=2, ab_range=0.5, epoch=90\n",
      "Previously saved model is of lower resolution; recomputing\n"
     ]
    },
    {
     "name": "stderr",
     "output_type": "stream",
     "text": [
      "Outer loop (a): 100%|██████████| 100/100 [00:54<00:00,  1.82it/s]\n"
     ]
    },
    {
     "name": "stdout",
     "output_type": "stream",
     "text": [
      "✅ Updated and saved new grid at ../backend/landscapes/mlp_5_5_5_5/two_blobs_overlap/train/range0.5/ep40\n",
      "Done: two_blobs_overlap, width=5, depth=4, ab_range=0.5, epoch=40\n",
      "Previously saved model is of lower resolution; recomputing\n"
     ]
    },
    {
     "name": "stderr",
     "output_type": "stream",
     "text": [
      "Outer loop (a): 100%|██████████| 100/100 [00:51<00:00,  1.96it/s]\n"
     ]
    },
    {
     "name": "stdout",
     "output_type": "stream",
     "text": [
      "✅ Updated and saved new grid at ../backend/landscapes/mlp_5_5/half_moons/train/range0.5/ep970\n",
      "Done: half_moons, width=5, depth=2, ab_range=0.5, epoch=970\n",
      "Previously saved model is of lower resolution; recomputing\n"
     ]
    },
    {
     "name": "stderr",
     "output_type": "stream",
     "text": [
      "Outer loop (a): 100%|██████████| 100/100 [00:55<00:00,  1.81it/s]\n"
     ]
    },
    {
     "name": "stdout",
     "output_type": "stream",
     "text": [
      "✅ Updated and saved new grid at ../backend/landscapes/mlp_5_5_5_5/spirals/train/range0.2/ep40\n",
      "Done: spirals, width=5, depth=4, ab_range=0.2, epoch=40\n",
      "Previously saved model is of lower resolution; recomputing\n"
     ]
    },
    {
     "name": "stderr",
     "output_type": "stream",
     "text": [
      "Outer loop (a): 100%|██████████| 100/100 [00:50<00:00,  2.00it/s]\n"
     ]
    },
    {
     "name": "stdout",
     "output_type": "stream",
     "text": [
      "✅ Updated and saved new grid at ../backend/landscapes/mlp_5_5/four_corners/train/range0.5/ep340\n",
      "Done: four_corners, width=5, depth=2, ab_range=0.5, epoch=340\n",
      "Previously saved model is of lower resolution; recomputing\n"
     ]
    },
    {
     "name": "stderr",
     "output_type": "stream",
     "text": [
      "Outer loop (a): 100%|██████████| 100/100 [01:02<00:00,  1.59it/s]\n"
     ]
    },
    {
     "name": "stdout",
     "output_type": "stream",
     "text": [
      "✅ Updated and saved new grid at ../backend/landscapes/mlp_5_5_5_5_5_5_5_5/two_blobs_overlap/train/range2/ep70\n",
      "Done: two_blobs_overlap, width=5, depth=8, ab_range=2, epoch=70\n",
      "Previously saved model is of lower resolution; recomputing\n"
     ]
    },
    {
     "name": "stderr",
     "output_type": "stream",
     "text": [
      "Outer loop (a): 100%|██████████| 100/100 [00:54<00:00,  1.82it/s]\n",
      "Outer loop (a):  84%|████████▍ | 84/100 [00:40<00:08,  1.78it/s]"
     ]
    },
    {
     "name": "stdout",
     "output_type": "stream",
     "text": [
      "✅ Updated and saved new grid at ../backend/landscapes/mlp_5_5_5_5/four_corners/train/range2/ep320\n",
      "Done: four_corners, width=5, depth=4, ab_range=2, epoch=320\n",
      "Previously saved model is of lower resolution; recomputing\n"
     ]
    },
    {
     "name": "stderr",
     "output_type": "stream",
     "text": [
      "Outer loop (a): 100%|██████████| 100/100 [00:51<00:00,  1.96it/s]\n"
     ]
    },
    {
     "name": "stdout",
     "output_type": "stream",
     "text": [
      "✅ Updated and saved new grid at ../backend/landscapes/mlp_5_5/two_blobs_separate/train/range0.5/ep100\n",
      "Done: two_blobs_separate, width=5, depth=2, ab_range=0.5, epoch=100\n",
      "Previously saved model is of lower resolution; recomputing\n"
     ]
    },
    {
     "name": "stderr",
     "output_type": "stream",
     "text": [
      "Outer loop (a): 100%|██████████| 100/100 [00:48<00:00,  2.05it/s]\n"
     ]
    },
    {
     "name": "stdout",
     "output_type": "stream",
     "text": [
      "✅ Updated and saved new grid at ../backend/landscapes/mlp_5_5/half_moons/train/range0.5/ep980\n",
      "Done: half_moons, width=5, depth=2, ab_range=0.5, epoch=980\n",
      "Previously saved model is of lower resolution; recomputing\n"
     ]
    },
    {
     "name": "stderr",
     "output_type": "stream",
     "text": [
      "Outer loop (a): 100%|██████████| 100/100 [00:55<00:00,  1.81it/s]\n"
     ]
    },
    {
     "name": "stdout",
     "output_type": "stream",
     "text": [
      "✅ Updated and saved new grid at ../backend/landscapes/mlp_5_5_5_5/two_blobs_overlap/train/range0.5/ep50\n",
      "Done: two_blobs_overlap, width=5, depth=4, ab_range=0.5, epoch=50\n",
      "Previously saved model is of lower resolution; recomputing\n"
     ]
    },
    {
     "name": "stderr",
     "output_type": "stream",
     "text": [
      "Outer loop (a): 100%|██████████| 100/100 [01:05<00:00,  1.52it/s]\n"
     ]
    },
    {
     "name": "stdout",
     "output_type": "stream",
     "text": [
      "✅ Updated and saved new grid at ../backend/landscapes/mlp_5_5_5_5_5_5_5_5/two_blobs_separate/train/range5/ep990\n",
      "Done: two_blobs_separate, width=5, depth=8, ab_range=5, epoch=990\n",
      "Previously saved model is of lower resolution; recomputing\n"
     ]
    },
    {
     "name": "stderr",
     "output_type": "stream",
     "text": [
      "Outer loop (a): 100%|██████████| 100/100 [00:50<00:00,  1.98it/s]\n"
     ]
    },
    {
     "name": "stdout",
     "output_type": "stream",
     "text": [
      "✅ Updated and saved new grid at ../backend/landscapes/mlp_5_5/four_corners/train/range0.5/ep350\n",
      "Done: four_corners, width=5, depth=2, ab_range=0.5, epoch=350\n",
      "Previously saved model is of lower resolution; recomputing\n"
     ]
    },
    {
     "name": "stderr",
     "output_type": "stream",
     "text": [
      "Outer loop (a): 100%|██████████| 100/100 [00:55<00:00,  1.81it/s]\n"
     ]
    },
    {
     "name": "stdout",
     "output_type": "stream",
     "text": [
      "✅ Updated and saved new grid at ../backend/landscapes/mlp_5_5_5_5/spirals/train/range0.2/ep50\n",
      "Done: spirals, width=5, depth=4, ab_range=0.2, epoch=50\n",
      "Previously saved model is of lower resolution; recomputing\n"
     ]
    },
    {
     "name": "stderr",
     "output_type": "stream",
     "text": [
      "Outer loop (a): 100%|██████████| 100/100 [00:48<00:00,  2.05it/s]\n"
     ]
    },
    {
     "name": "stdout",
     "output_type": "stream",
     "text": [
      "✅ Updated and saved new grid at ../backend/landscapes/mlp_5_5/two_blobs_separate/train/range0.5/ep110\n",
      "Done: two_blobs_separate, width=5, depth=2, ab_range=0.5, epoch=110\n",
      "Previously saved model is of lower resolution; recomputing\n"
     ]
    },
    {
     "name": "stderr",
     "output_type": "stream",
     "text": [
      "Outer loop (a): 100%|██████████| 100/100 [00:54<00:00,  1.82it/s]\n"
     ]
    },
    {
     "name": "stdout",
     "output_type": "stream",
     "text": [
      "✅ Updated and saved new grid at ../backend/landscapes/mlp_5_5_5_5/four_corners/train/range2/ep330\n",
      "Done: four_corners, width=5, depth=4, ab_range=2, epoch=330\n",
      "Previously saved model is of lower resolution; recomputing\n"
     ]
    },
    {
     "name": "stderr",
     "output_type": "stream",
     "text": [
      "Outer loop (a): 100%|██████████| 100/100 [00:48<00:00,  2.07it/s]\n"
     ]
    },
    {
     "name": "stdout",
     "output_type": "stream",
     "text": [
      "✅ Updated and saved new grid at ../backend/landscapes/mlp_5_5/half_moons/train/range0.5/ep990\n",
      "Done: half_moons, width=5, depth=2, ab_range=0.5, epoch=990\n",
      "Previously saved model is of lower resolution; recomputing\n"
     ]
    },
    {
     "name": "stderr",
     "output_type": "stream",
     "text": [
      "Outer loop (a): 100%|██████████| 100/100 [00:53<00:00,  1.87it/s]\n"
     ]
    },
    {
     "name": "stdout",
     "output_type": "stream",
     "text": [
      "✅ Updated and saved new grid at ../backend/landscapes/mlp_5_5_5_5/two_blobs_overlap/train/range0.5/ep60\n",
      "Done: two_blobs_overlap, width=5, depth=4, ab_range=0.5, epoch=60\n",
      "Previously saved model is of lower resolution; recomputing\n"
     ]
    },
    {
     "name": "stderr",
     "output_type": "stream",
     "text": [
      "Outer loop (a): 100%|██████████| 100/100 [01:04<00:00,  1.55it/s]\n"
     ]
    },
    {
     "name": "stdout",
     "output_type": "stream",
     "text": [
      "✅ Updated and saved new grid at ../backend/landscapes/mlp_5_5_5_5_5_5_5_5/two_blobs_overlap/train/range2/ep80\n",
      "Done: two_blobs_overlap, width=5, depth=8, ab_range=2, epoch=80\n",
      "Previously saved model is of lower resolution; recomputing\n"
     ]
    },
    {
     "name": "stderr",
     "output_type": "stream",
     "text": [
      "Outer loop (a): 100%|██████████| 100/100 [00:51<00:00,  1.94it/s]\n"
     ]
    },
    {
     "name": "stdout",
     "output_type": "stream",
     "text": [
      "✅ Updated and saved new grid at ../backend/landscapes/mlp_5_5/four_corners/train/range0.5/ep360\n",
      "Done: four_corners, width=5, depth=2, ab_range=0.5, epoch=360\n",
      "Previously saved model is of lower resolution; recomputing\n"
     ]
    },
    {
     "name": "stderr",
     "output_type": "stream",
     "text": [
      "Outer loop (a): 100%|██████████| 100/100 [01:01<00:00,  1.63it/s]\n"
     ]
    },
    {
     "name": "stdout",
     "output_type": "stream",
     "text": [
      "✅ Updated and saved new grid at ../backend/landscapes/mlp_5_5_5_5_5_5_5_5/two_blobs_separate/train/range5/ep1000\n",
      "Done: two_blobs_separate, width=5, depth=8, ab_range=5, epoch=1000\n",
      "Previously saved model is of lower resolution; recomputing\n"
     ]
    },
    {
     "name": "stderr",
     "output_type": "stream",
     "text": [
      "Outer loop (a): 100%|██████████| 100/100 [00:56<00:00,  1.77it/s]\n"
     ]
    },
    {
     "name": "stdout",
     "output_type": "stream",
     "text": [
      "✅ Updated and saved new grid at ../backend/landscapes/mlp_5_5_5_5/spirals/train/range0.2/ep60\n",
      "Done: spirals, width=5, depth=4, ab_range=0.2, epoch=60\n",
      "Previously saved model is of lower resolution; recomputing\n"
     ]
    },
    {
     "name": "stderr",
     "output_type": "stream",
     "text": [
      "Outer loop (a): 100%|██████████| 100/100 [00:51<00:00,  1.96it/s]\n"
     ]
    },
    {
     "name": "stdout",
     "output_type": "stream",
     "text": [
      "✅ Updated and saved new grid at ../backend/landscapes/mlp_5_5/two_blobs_separate/train/range0.5/ep120\n",
      "Done: two_blobs_separate, width=5, depth=2, ab_range=0.5, epoch=120\n",
      "Previously saved model is of lower resolution; recomputing\n"
     ]
    },
    {
     "name": "stderr",
     "output_type": "stream",
     "text": [
      "Outer loop (a): 100%|██████████| 100/100 [00:50<00:00,  1.97it/s]\n"
     ]
    },
    {
     "name": "stdout",
     "output_type": "stream",
     "text": [
      "✅ Updated and saved new grid at ../backend/landscapes/mlp_5_5/half_moons/train/range0.5/ep1000\n",
      "Done: half_moons, width=5, depth=2, ab_range=0.5, epoch=1000\n",
      "Done: spirals, width=5, depth=2, ab_range=0.1, epoch=0\n",
      "Done: spirals, width=5, depth=2, ab_range=0.1, epoch=10\n",
      "Done: spirals, width=5, depth=2, ab_range=0.1, epoch=20\n",
      "Done: spirals, width=5, depth=2, ab_range=0.1, epoch=30\n",
      "Done: spirals, width=5, depth=2, ab_range=0.1, epoch=40\n",
      "Done: spirals, width=5, depth=2, ab_range=0.1, epoch=50\n",
      "Done: spirals, width=5, depth=2, ab_range=0.1, epoch=60\n",
      "Done: spirals, width=5, depth=2, ab_range=0.1, epoch=70\n",
      "Done: spirals, width=5, depth=2, ab_range=0.1, epoch=80\n",
      "Done: spirals, width=5, depth=2, ab_range=0.1, epoch=90\n",
      "Done: spirals, width=5, depth=2, ab_range=0.1, epoch=100\n",
      "Done: spirals, width=5, depth=2, ab_range=0.1, epoch=110\n",
      "Done: spirals, width=5, depth=2, ab_range=0.1, epoch=120\n",
      "Done: spirals, width=5, depth=2, ab_range=0.1, epoch=130\n",
      "Done: spirals, width=5, depth=2, ab_range=0.1, epoch=140\n",
      "Done: spirals, width=5, depth=2, ab_range=0.1, epoch=150\n",
      "Previously saved model is of lower resolution; recomputing\n"
     ]
    },
    {
     "name": "stderr",
     "output_type": "stream",
     "text": [
      "Outer loop (a): 100%|██████████| 100/100 [00:54<00:00,  1.83it/s]\n"
     ]
    },
    {
     "name": "stdout",
     "output_type": "stream",
     "text": [
      "✅ Updated and saved new grid at ../backend/landscapes/mlp_5_5_5_5/four_corners/train/range2/ep340\n",
      "Done: four_corners, width=5, depth=4, ab_range=2, epoch=340\n",
      "Previously saved model is of lower resolution; recomputing\n"
     ]
    },
    {
     "name": "stderr",
     "output_type": "stream",
     "text": [
      "Outer loop (a): 100%|██████████| 100/100 [00:57<00:00,  1.74it/s]\n"
     ]
    },
    {
     "name": "stdout",
     "output_type": "stream",
     "text": [
      "✅ Updated and saved new grid at ../backend/landscapes/mlp_5_5_5_5/two_blobs_overlap/train/range0.5/ep70\n",
      "Done: two_blobs_overlap, width=5, depth=4, ab_range=0.5, epoch=70\n",
      "Previously saved model is of lower resolution; recomputing\n"
     ]
    },
    {
     "name": "stderr",
     "output_type": "stream",
     "text": [
      "Outer loop (a): 100%|██████████| 100/100 [00:50<00:00,  1.99it/s]\n"
     ]
    },
    {
     "name": "stdout",
     "output_type": "stream",
     "text": [
      "✅ Updated and saved new grid at ../backend/landscapes/mlp_5_5/four_corners/train/range0.5/ep370\n",
      "Done: four_corners, width=5, depth=2, ab_range=0.5, epoch=370\n",
      "Previously saved model is of lower resolution; recomputing\n"
     ]
    },
    {
     "name": "stderr",
     "output_type": "stream",
     "text": [
      "Outer loop (a): 100%|██████████| 100/100 [01:01<00:00,  1.61it/s]\n"
     ]
    },
    {
     "name": "stdout",
     "output_type": "stream",
     "text": [
      "✅ Updated and saved new grid at ../backend/landscapes/mlp_5_5_5_5_5_5_5_5/two_blobs_overlap/train/range2/ep90\n",
      "Done: two_blobs_overlap, width=5, depth=8, ab_range=2, epoch=90\n",
      "Previously saved model is of lower resolution; recomputing\n"
     ]
    },
    {
     "name": "stderr",
     "output_type": "stream",
     "text": [
      "Outer loop (a): 100%|██████████| 100/100 [00:54<00:00,  1.85it/s]\n"
     ]
    },
    {
     "name": "stdout",
     "output_type": "stream",
     "text": [
      "✅ Updated and saved new grid at ../backend/landscapes/mlp_5_5_5_5/spirals/train/range0.2/ep70\n",
      "Done: spirals, width=5, depth=4, ab_range=0.2, epoch=70\n",
      "Previously saved model is of lower resolution; recomputing\n"
     ]
    },
    {
     "name": "stderr",
     "output_type": "stream",
     "text": [
      "Outer loop (a): 100%|██████████| 100/100 [01:05<00:00,  1.52it/s]\n"
     ]
    },
    {
     "name": "stdout",
     "output_type": "stream",
     "text": [
      "✅ Updated and saved new grid at ../backend/landscapes/mlp_5_5_5_5_5_5_5_5/two_blobs_separate/train/range0.2/ep0\n",
      "Done: two_blobs_separate, width=5, depth=8, ab_range=0.2, epoch=0\n",
      "Previously saved model is of lower resolution; recomputing\n"
     ]
    },
    {
     "name": "stderr",
     "output_type": "stream",
     "text": [
      "Outer loop (a): 100%|██████████| 100/100 [00:51<00:00,  1.95it/s]\n"
     ]
    },
    {
     "name": "stdout",
     "output_type": "stream",
     "text": [
      "✅ Updated and saved new grid at ../backend/landscapes/mlp_5_5/two_blobs_separate/train/range0.5/ep130"
     ]
    },
    {
     "name": "stderr",
     "output_type": "stream",
     "text": [
      "Outer loop (a):  60%|██████    | 60/100 [00:31<00:19,  2.04it/s]"
     ]
    },
    {
     "name": "stdout",
     "output_type": "stream",
     "text": [
      "\n",
      "Done: two_blobs_separate, width=5, depth=2, ab_range=0.5, epoch=130\n",
      "Previously saved model is of lower resolution; recomputing\n"
     ]
    },
    {
     "name": "stderr",
     "output_type": "stream",
     "text": [
      "Outer loop (a): 100%|██████████| 100/100 [00:51<00:00,  1.94it/s]\n"
     ]
    },
    {
     "name": "stdout",
     "output_type": "stream",
     "text": [
      "✅ Updated and saved new grid at ../backend/landscapes/mlp_5_5/spirals/train/range0.1/ep160\n",
      "Done: spirals, width=5, depth=2, ab_range=0.1, epoch=160\n",
      "Previously saved model is of lower resolution; recomputing\n"
     ]
    },
    {
     "name": "stderr",
     "output_type": "stream",
     "text": [
      "Outer loop (a): 100%|██████████| 100/100 [00:55<00:00,  1.82it/s]\n"
     ]
    },
    {
     "name": "stdout",
     "output_type": "stream",
     "text": [
      "✅ Updated and saved new grid at ../backend/landscapes/mlp_5_5_5_5/four_corners/train/range2/ep350\n",
      "Done: four_corners, width=5, depth=4, ab_range=2, epoch=350\n",
      "Previously saved model is of lower resolution; recomputing\n"
     ]
    },
    {
     "name": "stderr",
     "output_type": "stream",
     "text": [
      "Outer loop (a): 100%|██████████| 100/100 [00:53<00:00,  1.87it/s]\n"
     ]
    },
    {
     "name": "stdout",
     "output_type": "stream",
     "text": [
      "✅ Updated and saved new grid at ../backend/landscapes/mlp_5_5_5_5/two_blobs_overlap/train/range0.5/ep80\n",
      "Done: two_blobs_overlap, width=5, depth=4, ab_range=0.5, epoch=80\n",
      "Previously saved model is of lower resolution; recomputing\n"
     ]
    },
    {
     "name": "stderr",
     "output_type": "stream",
     "text": [
      "Outer loop (a): 100%|██████████| 100/100 [00:51<00:00,  1.95it/s]\n"
     ]
    },
    {
     "name": "stdout",
     "output_type": "stream",
     "text": [
      "✅ Updated and saved new grid at ../backend/landscapes/mlp_5_5/four_corners/train/range0.5/ep380\n",
      "Done: four_corners, width=5, depth=2, ab_range=0.5, epoch=380\n",
      "Previously saved model is of lower resolution; recomputing\n"
     ]
    },
    {
     "name": "stderr",
     "output_type": "stream",
     "text": [
      "Outer loop (a): 100%|██████████| 100/100 [00:53<00:00,  1.85it/s]\n"
     ]
    },
    {
     "name": "stdout",
     "output_type": "stream",
     "text": [
      "✅ Updated and saved new grid at ../backend/landscapes/mlp_5_5_5_5/spirals/train/range0.2/ep80\n",
      "Done: spirals, width=5, depth=4, ab_range=0.2, epoch=80\n",
      "Previously saved model is of lower resolution; recomputing\n"
     ]
    },
    {
     "name": "stderr",
     "output_type": "stream",
     "text": [
      "Outer loop (a): 100%|██████████| 100/100 [01:03<00:00,  1.58it/s]\n"
     ]
    },
    {
     "name": "stdout",
     "output_type": "stream",
     "text": [
      "✅ Updated and saved new grid at ../backend/landscapes/mlp_5_5_5_5_5_5_5_5/two_blobs_overlap/train/range2/ep100\n"
     ]
    },
    {
     "name": "stderr",
     "output_type": "stream",
     "text": [
      "Outer loop (a):  76%|███████▌  | 76/100 [00:46<00:17,  1.39it/s]"
     ]
    },
    {
     "name": "stdout",
     "output_type": "stream",
     "text": [
      "Done: two_blobs_overlap, width=5, depth=8, ab_range=2, epoch=100\n",
      "Previously saved model is of lower resolution; recomputing\n"
     ]
    },
    {
     "name": "stderr",
     "output_type": "stream",
     "text": [
      "Outer loop (a): 100%|██████████| 100/100 [00:49<00:00,  2.02it/s]\n"
     ]
    },
    {
     "name": "stdout",
     "output_type": "stream",
     "text": [
      "✅ Updated and saved new grid at ../backend/landscapes/mlp_5_5/two_blobs_separate/train/range0.5/ep140\n",
      "Done: two_blobs_separate, width=5, depth=2, ab_range=0.5, epoch=140\n",
      "Previously saved model is of lower resolution; recomputing\n"
     ]
    },
    {
     "name": "stderr",
     "output_type": "stream",
     "text": [
      "Outer loop (a): 100%|██████████| 100/100 [01:01<00:00,  1.62it/s]\n"
     ]
    },
    {
     "name": "stdout",
     "output_type": "stream",
     "text": [
      "✅ Updated and saved new grid at ../backend/landscapes/mlp_5_5_5_5_5_5_5_5/two_blobs_separate/train/range0.2/ep10\n",
      "Done: two_blobs_separate, width=5, depth=8, ab_range=0.2, epoch=10\n",
      "Previously saved model is of lower resolution; recomputing\n"
     ]
    },
    {
     "name": "stderr",
     "output_type": "stream",
     "text": [
      "Outer loop (a): 100%|██████████| 100/100 [00:50<00:00,  2.00it/s]\n"
     ]
    },
    {
     "name": "stdout",
     "output_type": "stream",
     "text": [
      "✅ Updated and saved new grid at ../backend/landscapes/mlp_5_5/spirals/train/range0.1/ep170\n",
      "Done: spirals, width=5, depth=2, ab_range=0.1, epoch=170\n",
      "Previously saved model is of lower resolution; recomputing\n"
     ]
    },
    {
     "name": "stderr",
     "output_type": "stream",
     "text": [
      "Outer loop (a): 100%|██████████| 100/100 [00:55<00:00,  1.80it/s]\n"
     ]
    },
    {
     "name": "stdout",
     "output_type": "stream",
     "text": [
      "✅ Updated and saved new grid at ../backend/landscapes/mlp_5_5_5_5/four_corners/train/range2/ep360\n",
      "Done: four_corners, width=5, depth=4, ab_range=2, epoch=360\n",
      "Previously saved model is of lower resolution; recomputing\n"
     ]
    },
    {
     "name": "stderr",
     "output_type": "stream",
     "text": [
      "Outer loop (a): 100%|██████████| 100/100 [00:51<00:00,  1.96it/s]\n"
     ]
    },
    {
     "name": "stdout",
     "output_type": "stream",
     "text": [
      "✅ Updated and saved new grid at ../backend/landscapes/mlp_5_5/four_corners/train/range0.5/ep390\n",
      "Done: four_corners, width=5, depth=2, ab_range=0.5, epoch=390\n",
      "Previously saved model is of lower resolution; recomputing\n"
     ]
    },
    {
     "name": "stderr",
     "output_type": "stream",
     "text": [
      "Outer loop (a): 100%|██████████| 100/100 [00:54<00:00,  1.83it/s]\n"
     ]
    },
    {
     "name": "stdout",
     "output_type": "stream",
     "text": [
      "✅ Updated and saved new grid at ../backend/landscapes/mlp_5_5_5_5/two_blobs_overlap/train/range0.5/ep90\n",
      "Done: two_blobs_overlap, width=5, depth=4, ab_range=0.5, epoch=90\n",
      "Previously saved model is of lower resolution; recomputing\n"
     ]
    },
    {
     "name": "stderr",
     "output_type": "stream",
     "text": [
      "Outer loop (a): 100%|██████████| 100/100 [00:58<00:00,  1.71it/s]\n"
     ]
    },
    {
     "name": "stdout",
     "output_type": "stream",
     "text": [
      "✅ Updated and saved new grid at ../backend/landscapes/mlp_5_5_5_5/spirals/train/range0.2/ep90\n",
      "Done: spirals, width=5, depth=4, ab_range=0.2, epoch=90\n",
      "Previously saved model is of lower resolution; recomputing\n"
     ]
    },
    {
     "name": "stderr",
     "output_type": "stream",
     "text": [
      "Outer loop (a): 100%|██████████| 100/100 [00:50<00:00,  2.00it/s]\n"
     ]
    },
    {
     "name": "stdout",
     "output_type": "stream",
     "text": [
      "✅ Updated and saved new grid at ../backend/landscapes/mlp_5_5/two_blobs_separate/train/range0.5/ep150\n",
      "Done: two_blobs_separate, width=5, depth=2, ab_range=0.5, epoch=150\n",
      "Previously saved model is of lower resolution; recomputing\n"
     ]
    },
    {
     "name": "stderr",
     "output_type": "stream",
     "text": [
      "Outer loop (a): 100%|██████████| 100/100 [01:05<00:00,  1.53it/s]\n"
     ]
    },
    {
     "name": "stdout",
     "output_type": "stream",
     "text": [
      "✅ Updated and saved new grid at ../backend/landscapes/mlp_5_5_5_5_5_5_5_5/two_blobs_overlap/train/range2/ep110\n",
      "Done: two_blobs_overlap, width=5, depth=8, ab_range=2, epoch=110\n",
      "Previously saved model is of lower resolution; recomputing\n"
     ]
    },
    {
     "name": "stderr",
     "output_type": "stream",
     "text": [
      "Outer loop (a): 100%|██████████| 100/100 [00:50<00:00,  1.99it/s]\n"
     ]
    },
    {
     "name": "stdout",
     "output_type": "stream",
     "text": [
      "✅ Updated and saved new grid at ../backend/landscapes/mlp_5_5/spirals/train/range0.1/ep180\n",
      "Done: spirals, width=5, depth=2, ab_range=0.1, epoch=180\n",
      "Previously saved model is of lower resolution; recomputing\n"
     ]
    },
    {
     "name": "stderr",
     "output_type": "stream",
     "text": [
      "Outer loop (a): 100%|██████████| 100/100 [01:02<00:00,  1.59it/s]\n"
     ]
    },
    {
     "name": "stdout",
     "output_type": "stream",
     "text": [
      "✅ Updated and saved new grid at ../backend/landscapes/mlp_5_5_5_5_5_5_5_5/two_blobs_separate/train/range0.2/ep20\n",
      "Done: two_blobs_separate, width=5, depth=8, ab_range=0.2, epoch=20\n",
      "Previously saved model is of lower resolution; recomputing\n"
     ]
    },
    {
     "name": "stderr",
     "output_type": "stream",
     "text": [
      "Outer loop (a): 100%|██████████| 100/100 [00:56<00:00,  1.76it/s]\n"
     ]
    },
    {
     "name": "stdout",
     "output_type": "stream",
     "text": [
      "✅ Updated and saved new grid at ../backend/landscapes/mlp_5_5_5_5/four_corners/train/range2/ep370\n",
      "Done: four_corners, width=5, depth=4, ab_range=2, epoch=370\n",
      "Previously saved model is of lower resolution; recomputing"
     ]
    },
    {
     "name": "stderr",
     "output_type": "stream",
     "text": [
      "Outer loop (a):  44%|████▍     | 44/100 [00:22<00:30,  1.86it/s]"
     ]
    },
    {
     "name": "stdout",
     "output_type": "stream",
     "text": [
      "\n"
     ]
    },
    {
     "name": "stderr",
     "output_type": "stream",
     "text": [
      "Outer loop (a): 100%|██████████| 100/100 [00:51<00:00,  1.95it/s]\n"
     ]
    },
    {
     "name": "stdout",
     "output_type": "stream",
     "text": [
      "✅ Updated and saved new grid at ../backend/landscapes/mlp_5_5/four_corners/train/range0.5/ep400\n",
      "Done: four_corners, width=5, depth=2, ab_range=0.5, epoch=400\n",
      "Previously saved model is of lower resolution; recomputing\n"
     ]
    },
    {
     "name": "stderr",
     "output_type": "stream",
     "text": [
      "Outer loop (a): 100%|██████████| 100/100 [00:56<00:00,  1.78it/s]\n"
     ]
    },
    {
     "name": "stdout",
     "output_type": "stream",
     "text": [
      "✅ Updated and saved new grid at ../backend/landscapes/mlp_5_5_5_5/two_blobs_overlap/train/range0.5/ep100\n",
      "Done: two_blobs_overlap, width=5, depth=4, ab_range=0.5, epoch=100\n",
      "Previously saved model is of lower resolution; recomputing\n"
     ]
    },
    {
     "name": "stderr",
     "output_type": "stream",
     "text": [
      "Outer loop (a): 100%|██████████| 100/100 [00:55<00:00,  1.79it/s]\n"
     ]
    },
    {
     "name": "stdout",
     "output_type": "stream",
     "text": [
      "✅ Updated and saved new grid at ../backend/landscapes/mlp_5_5_5_5/spirals/train/range0.2/ep100\n",
      "Done: spirals, width=5, depth=4, ab_range=0.2, epoch=100\n",
      "Previously saved model is of lower resolution; recomputing\n"
     ]
    },
    {
     "name": "stderr",
     "output_type": "stream",
     "text": [
      "Outer loop (a): 100%|██████████| 100/100 [00:52<00:00,  1.91it/s]\n"
     ]
    },
    {
     "name": "stdout",
     "output_type": "stream",
     "text": [
      "✅ Updated and saved new grid at ../backend/landscapes/mlp_5_5/two_blobs_separate/train/range0.5/ep160\n",
      "Done: two_blobs_separate, width=5, depth=2, ab_range=0.5, epoch=160\n",
      "Previously saved model is of lower resolution; recomputing\n"
     ]
    },
    {
     "name": "stderr",
     "output_type": "stream",
     "text": [
      "Outer loop (a): 100%|██████████| 100/100 [00:50<00:00,  1.99it/s]\n"
     ]
    },
    {
     "name": "stdout",
     "output_type": "stream",
     "text": [
      "✅ Updated and saved new grid at ../backend/landscapes/mlp_5_5/spirals/train/range0.1/ep190\n",
      "Done: spirals, width=5, depth=2, ab_range=0.1, epoch=190\n",
      "Previously saved model is of lower resolution; recomputing\n"
     ]
    },
    {
     "name": "stderr",
     "output_type": "stream",
     "text": [
      "Outer loop (a): 100%|██████████| 100/100 [01:04<00:00,  1.56it/s]\n"
     ]
    },
    {
     "name": "stdout",
     "output_type": "stream",
     "text": [
      "✅ Updated and saved new grid at ../backend/landscapes/mlp_5_5_5_5_5_5_5_5/two_blobs_overlap/train/range2/ep120\n",
      "Done: two_blobs_overlap, width=5, depth=8, ab_range=2, epoch=120\n",
      "Previously saved model is of lower resolution; recomputing\n"
     ]
    },
    {
     "name": "stderr",
     "output_type": "stream",
     "text": [
      "Outer loop (a): 100%|██████████| 100/100 [00:51<00:00,  1.96it/s]\n"
     ]
    },
    {
     "name": "stdout",
     "output_type": "stream",
     "text": [
      "✅ Updated and saved new grid at ../backend/landscapes/mlp_5_5/four_corners/train/range0.5/ep410\n",
      "Done: four_corners, width=5, depth=2, ab_range=0.5, epoch=410\n",
      "Previously saved model is of lower resolution; recomputing\n"
     ]
    },
    {
     "name": "stderr",
     "output_type": "stream",
     "text": [
      "Outer loop (a): 100%|██████████| 100/100 [01:04<00:00,  1.56it/s]\n"
     ]
    },
    {
     "name": "stdout",
     "output_type": "stream",
     "text": [
      "✅ Updated and saved new grid at ../backend/landscapes/mlp_5_5_5_5_5_5_5_5/two_blobs_separate/train/range0.2/ep30\n",
      "Done: two_blobs_separate, width=5, depth=8, ab_range=0.2, epoch=30\n",
      "Previously saved model is of lower resolution; recomputing\n"
     ]
    },
    {
     "name": "stderr",
     "output_type": "stream",
     "text": [
      "Outer loop (a): 100%|██████████| 100/100 [00:55<00:00,  1.79it/s]\n"
     ]
    },
    {
     "name": "stdout",
     "output_type": "stream",
     "text": [
      "✅ Updated and saved new grid at ../backend/landscapes/mlp_5_5_5_5/four_corners/train/range2/ep380\n",
      "Done: four_corners, width=5, depth=4, ab_range=2, epoch=380\n",
      "Previously saved model is of lower resolution; recomputing\n"
     ]
    },
    {
     "name": "stderr",
     "output_type": "stream",
     "text": [
      "Outer loop (a): 100%|██████████| 100/100 [00:53<00:00,  1.87it/s]\n"
     ]
    },
    {
     "name": "stdout",
     "output_type": "stream",
     "text": [
      "✅ Updated and saved new grid at ../backend/landscapes/mlp_5_5_5_5/two_blobs_overlap/train/range0.5/ep110\n",
      "Done: two_blobs_overlap, width=5, depth=4, ab_range=0.5, epoch=110\n",
      "Previously saved model is of lower resolution; recomputing\n"
     ]
    },
    {
     "name": "stderr",
     "output_type": "stream",
     "text": [
      "Outer loop (a): 100%|██████████| 100/100 [00:55<00:00,  1.82it/s]\n"
     ]
    },
    {
     "name": "stdout",
     "output_type": "stream",
     "text": [
      "✅ Updated and saved new grid at ../backend/landscapes/mlp_5_5_5_5/spirals/train/range0.2/ep110\n",
      "Done: spirals, width=5, depth=4, ab_range=0.2, epoch=110\n",
      "Previously saved model is of lower resolution; recomputing\n"
     ]
    },
    {
     "name": "stderr",
     "output_type": "stream",
     "text": [
      "Outer loop (a): 100%|██████████| 100/100 [00:51<00:00,  1.96it/s]\n"
     ]
    },
    {
     "name": "stdout",
     "output_type": "stream",
     "text": [
      "✅ Updated and saved new grid at ../backend/landscapes/mlp_5_5/two_blobs_separate/train/range0.5/ep170\n",
      "Done: two_blobs_separate, width=5, depth=2, ab_range=0.5, epoch=170\n",
      "Previously saved model is of lower resolution; recomputing\n"
     ]
    },
    {
     "name": "stderr",
     "output_type": "stream",
     "text": [
      "Outer loop (a): 100%|██████████| 100/100 [00:49<00:00,  2.02it/s]\n"
     ]
    },
    {
     "name": "stdout",
     "output_type": "stream",
     "text": [
      "✅ Updated and saved new grid at ../backend/landscapes/mlp_5_5/spirals/train/range0.1/ep200\n",
      "Done: spirals, width=5, depth=2, ab_range=0.1, epoch=200\n",
      "Previously saved model is of lower resolution; recomputing\n"
     ]
    },
    {
     "name": "stderr",
     "output_type": "stream",
     "text": [
      "Outer loop (a): 100%|██████████| 100/100 [00:51<00:00,  1.95it/s]\n"
     ]
    },
    {
     "name": "stdout",
     "output_type": "stream",
     "text": [
      "✅ Updated and saved new grid at ../backend/landscapes/mlp_5_5/four_corners/train/range0.5/ep420\n",
      "Done: four_corners, width=5, depth=2, ab_range=0.5, epoch=420\n",
      "Previously saved model is of lower resolution; recomputing\n"
     ]
    },
    {
     "name": "stderr",
     "output_type": "stream",
     "text": [
      "Outer loop (a): 100%|██████████| 100/100 [01:03<00:00,  1.58it/s]\n"
     ]
    },
    {
     "name": "stdout",
     "output_type": "stream",
     "text": [
      "✅ Updated and saved new grid at ../backend/landscapes/mlp_5_5_5_5_5_5_5_5/two_blobs_overlap/train/range2/ep130\n",
      "Done: two_blobs_overlap, width=5, depth=8, ab_range=2, epoch=130\n",
      "Previously saved model is of lower resolution; recomputing\n"
     ]
    },
    {
     "name": "stderr",
     "output_type": "stream",
     "text": [
      "Outer loop (a): 100%|██████████| 100/100 [00:55<00:00,  1.80it/s]\n"
     ]
    },
    {
     "name": "stdout",
     "output_type": "stream",
     "text": [
      "✅ Updated and saved new grid at ../backend/landscapes/mlp_5_5_5_5/four_corners/train/range2/ep390\n",
      "Done: four_corners, width=5, depth=4, ab_range=2, epoch=390\n",
      "Previously saved model is of lower resolution; recomputing\n"
     ]
    },
    {
     "name": "stderr",
     "output_type": "stream",
     "text": [
      "Outer loop (a): 100%|██████████| 100/100 [00:54<00:00,  1.85it/s]\n"
     ]
    },
    {
     "name": "stdout",
     "output_type": "stream",
     "text": [
      "✅ Updated and saved new grid at ../backend/landscapes/mlp_5_5_5_5/two_blobs_overlap/train/range0.5/ep120\n",
      "Done: two_blobs_overlap, width=5, depth=4, ab_range=0.5, epoch=120\n",
      "Previously saved model is of lower resolution; recomputing\n"
     ]
    },
    {
     "name": "stderr",
     "output_type": "stream",
     "text": [
      "Outer loop (a): 100%|██████████| 100/100 [01:03<00:00,  1.59it/s]\n",
      "Outer loop (a):  19%|█▉        | 19/100 [00:12<00:54,  1.50it/s]"
     ]
    },
    {
     "name": "stdout",
     "output_type": "stream",
     "text": [
      "✅ Updated and saved new grid at ../backend/landscapes/mlp_5_5_5_5_5_5_5_5/two_blobs_separate/train/range0.2/ep40\n",
      "Done: two_blobs_separate, width=5, depth=8, ab_range=0.2, epoch=40\n",
      "Previously saved model is of lower resolution; recomputing\n"
     ]
    },
    {
     "name": "stderr",
     "output_type": "stream",
     "text": [
      "Outer loop (a): 100%|██████████| 100/100 [00:50<00:00,  1.98it/s]\n"
     ]
    },
    {
     "name": "stdout",
     "output_type": "stream",
     "text": [
      "✅ Updated and saved new grid at ../backend/landscapes/mlp_5_5/two_blobs_separate/train/range0.5/ep180\n",
      "Done: two_blobs_separate, width=5, depth=2, ab_range=0.5, epoch=180\n",
      "Previously saved model is of lower resolution; recomputing\n"
     ]
    },
    {
     "name": "stderr",
     "output_type": "stream",
     "text": [
      "Outer loop (a): 100%|██████████| 100/100 [00:50<00:00,  2.00it/s]\n"
     ]
    },
    {
     "name": "stdout",
     "output_type": "stream",
     "text": [
      "✅ Updated and saved new grid at ../backend/landscapes/mlp_5_5/spirals/train/range0.1/ep210\n",
      "Done: spirals, width=5, depth=2, ab_range=0.1, epoch=210\n",
      "Previously saved model is of lower resolution; recomputing\n"
     ]
    },
    {
     "name": "stderr",
     "output_type": "stream",
     "text": [
      "Outer loop (a): 100%|██████████| 100/100 [00:56<00:00,  1.76it/s]\n"
     ]
    },
    {
     "name": "stdout",
     "output_type": "stream",
     "text": [
      "✅ Updated and saved new grid at ../backend/landscapes/mlp_5_5_5_5/spirals/train/range0.2/ep120\n",
      "Done: spirals, width=5, depth=4, ab_range=0.2, epoch=120\n",
      "Previously saved model is of lower resolution; recomputing\n"
     ]
    },
    {
     "name": "stderr",
     "output_type": "stream",
     "text": [
      "Outer loop (a): 100%|██████████| 100/100 [00:49<00:00,  2.01it/s]\n"
     ]
    },
    {
     "name": "stdout",
     "output_type": "stream",
     "text": [
      "✅ Updated and saved new grid at ../backend/landscapes/mlp_5_5/four_corners/train/range0.5/ep430\n",
      "Done: four_corners, width=5, depth=2, ab_range=0.5, epoch=430\n",
      "Previously saved model is of lower resolution; recomputing\n"
     ]
    },
    {
     "name": "stderr",
     "output_type": "stream",
     "text": [
      "Outer loop (a): 100%|██████████| 100/100 [00:55<00:00,  1.80it/s]\n"
     ]
    },
    {
     "name": "stdout",
     "output_type": "stream",
     "text": [
      "✅ Updated and saved new grid at ../backend/landscapes/mlp_5_5_5_5/four_corners/train/range2/ep400\n",
      "Done: four_corners, width=5, depth=4, ab_range=2, epoch=400\n",
      "Previously saved model is of lower resolution; recomputing\n"
     ]
    },
    {
     "name": "stderr",
     "output_type": "stream",
     "text": [
      "Outer loop (a): 100%|██████████| 100/100 [01:03<00:00,  1.56it/s]\n"
     ]
    },
    {
     "name": "stdout",
     "output_type": "stream",
     "text": [
      "✅ Updated and saved new grid at ../backend/landscapes/mlp_5_5_5_5_5_5_5_5/two_blobs_overlap/train/range2/ep140\n",
      "Done: two_blobs_overlap, width=5, depth=8, ab_range=2, epoch=140\n",
      "Previously saved model is of lower resolution; recomputing\n"
     ]
    },
    {
     "name": "stderr",
     "output_type": "stream",
     "text": [
      "Outer loop (a): 100%|██████████| 100/100 [00:54<00:00,  1.83it/s]\n"
     ]
    },
    {
     "name": "stdout",
     "output_type": "stream",
     "text": [
      "✅ Updated and saved new grid at ../backend/landscapes/mlp_5_5_5_5/two_blobs_overlap/train/range0.5/ep130\n",
      "Done: two_blobs_overlap, width=5, depth=4, ab_range=0.5, epoch=130\n",
      "Previously saved model is of lower resolution; recomputing\n"
     ]
    },
    {
     "name": "stderr",
     "output_type": "stream",
     "text": [
      "Outer loop (a): 100%|██████████| 100/100 [00:49<00:00,  2.02it/s]\n"
     ]
    },
    {
     "name": "stdout",
     "output_type": "stream",
     "text": [
      "✅ Updated and saved new grid at ../backend/landscapes/mlp_5_5/two_blobs_separate/train/range0.5/ep190\n",
      "Done: two_blobs_separate, width=5, depth=2, ab_range=0.5, epoch=190\n",
      "Previously saved model is of lower resolution; recomputing\n"
     ]
    },
    {
     "name": "stderr",
     "output_type": "stream",
     "text": [
      "Outer loop (a): 100%|██████████| 100/100 [01:03<00:00,  1.58it/s]\n"
     ]
    },
    {
     "name": "stdout",
     "output_type": "stream",
     "text": [
      "✅ Updated and saved new grid at ../backend/landscapes/mlp_5_5_5_5_5_5_5_5/two_blobs_separate/train/range0.2/ep50\n",
      "Done: two_blobs_separate, width=5, depth=8, ab_range=0.2, epoch=50\n",
      "Previously saved model is of lower resolution; recomputing\n"
     ]
    },
    {
     "name": "stderr",
     "output_type": "stream",
     "text": [
      "Outer loop (a): 100%|██████████| 100/100 [00:50<00:00,  1.98it/s]\n"
     ]
    },
    {
     "name": "stdout",
     "output_type": "stream",
     "text": [
      "✅ Updated and saved new grid at ../backend/landscapes/mlp_5_5/spirals/train/range0.1/ep220\n",
      "Done: spirals, width=5, depth=2, ab_range=0.1, epoch=220\n",
      "Previously saved model is of lower resolution; recomputing\n"
     ]
    },
    {
     "name": "stderr",
     "output_type": "stream",
     "text": [
      "Outer loop (a): 100%|██████████| 100/100 [00:55<00:00,  1.80it/s]\n"
     ]
    },
    {
     "name": "stdout",
     "output_type": "stream",
     "text": [
      "✅ Updated and saved new grid at ../backend/landscapes/mlp_5_5_5_5/spirals/train/range0.2/ep130\n",
      "Done: spirals, width=5, depth=4, ab_range=0.2, epoch=130\n",
      "Previously saved model is of lower resolution; recomputing\n"
     ]
    },
    {
     "name": "stderr",
     "output_type": "stream",
     "text": [
      "Outer loop (a): 100%|██████████| 100/100 [00:50<00:00,  1.98it/s]\n"
     ]
    },
    {
     "name": "stdout",
     "output_type": "stream",
     "text": [
      "✅ Updated and saved new grid at ../backend/landscapes/mlp_5_5/four_corners/train/range0.5/ep440\n",
      "Done: four_corners, width=5, depth=2, ab_range=0.5, epoch=440\n",
      "Previously saved model is of lower resolution; recomputing\n"
     ]
    },
    {
     "name": "stderr",
     "output_type": "stream",
     "text": [
      "Outer loop (a): 100%|██████████| 100/100 [00:54<00:00,  1.82it/s]\n"
     ]
    },
    {
     "name": "stdout",
     "output_type": "stream",
     "text": [
      "✅ Updated and saved new grid at ../backend/landscapes/mlp_5_5_5_5/four_corners/train/range2/ep410\n",
      "Done: four_corners, width=5, depth=4, ab_range=2, epoch=410\n",
      "Previously saved model is of lower resolution; recomputing\n"
     ]
    },
    {
     "name": "stderr",
     "output_type": "stream",
     "text": [
      "Outer loop (a): 100%|██████████| 100/100 [00:56<00:00,  1.76it/s]\n"
     ]
    },
    {
     "name": "stdout",
     "output_type": "stream",
     "text": [
      "✅ Updated and saved new grid at ../backend/landscapes/mlp_5_5_5_5/two_blobs_overlap/train/range0.5/ep140\n",
      "Done: two_blobs_overlap, width=5, depth=4, ab_range=0.5, epoch=140\n",
      "Previously saved model is of lower resolution; recomputing\n"
     ]
    },
    {
     "name": "stderr",
     "output_type": "stream",
     "text": [
      "Outer loop (a): 100%|██████████| 100/100 [00:50<00:00,  1.97it/s]\n"
     ]
    },
    {
     "name": "stdout",
     "output_type": "stream",
     "text": [
      "✅ Updated and saved new grid at ../backend/landscapes/mlp_5_5/two_blobs_separate/train/range0.5/ep200\n",
      "Done: two_blobs_separate, width=5, depth=2, ab_range=0.5, epoch=200\n",
      "Previously saved model is of lower resolution; recomputing\n"
     ]
    },
    {
     "name": "stderr",
     "output_type": "stream",
     "text": [
      "Outer loop (a): 100%|██████████| 100/100 [01:02<00:00,  1.59it/s]\n"
     ]
    },
    {
     "name": "stdout",
     "output_type": "stream",
     "text": [
      "✅ Updated and saved new grid at ../backend/landscapes/mlp_5_5_5_5_5_5_5_5/two_blobs_overlap/train/range2/ep150\n",
      "Done: two_blobs_overlap, width=5, depth=8, ab_range=2, epoch=150\n",
      "Previously saved model is of lower resolution; recomputing\n"
     ]
    },
    {
     "name": "stderr",
     "output_type": "stream",
     "text": [
      "Outer loop (a): 100%|██████████| 100/100 [00:51<00:00,  1.93it/s]\n"
     ]
    },
    {
     "name": "stdout",
     "output_type": "stream",
     "text": [
      "✅ Updated and saved new grid at ../backend/landscapes/mlp_5_5/spirals/train/range0.1/ep230\n",
      "Done: spirals, width=5, depth=2, ab_range=0.1, epoch=230\n",
      "Previously saved model is of lower resolution; recomputing\n"
     ]
    },
    {
     "name": "stderr",
     "output_type": "stream",
     "text": [
      "Outer loop (a): 100%|██████████| 100/100 [01:04<00:00,  1.56it/s]\n"
     ]
    },
    {
     "name": "stdout",
     "output_type": "stream",
     "text": [
      "✅ Updated and saved new grid at ../backend/landscapes/mlp_5_5_5_5_5_5_5_5/two_blobs_separate/train/range0.2/ep60\n",
      "Done: two_blobs_separate, width=5, depth=8, ab_range=0.2, epoch=60\n",
      "Previously saved model is of lower resolution; recomputing\n"
     ]
    },
    {
     "name": "stderr",
     "output_type": "stream",
     "text": [
      "Outer loop (a): 100%|██████████| 100/100 [00:55<00:00,  1.79it/s]\n"
     ]
    },
    {
     "name": "stdout",
     "output_type": "stream",
     "text": [
      "✅ Updated and saved new grid at ../backend/landscapes/mlp_5_5_5_5/spirals/train/range0.2/ep140\n",
      "Done: spirals, width=5, depth=4, ab_range=0.2, epoch=140\n",
      "Previously saved model is of lower resolution; recomputing\n"
     ]
    },
    {
     "name": "stderr",
     "output_type": "stream",
     "text": [
      "Outer loop (a): 100%|██████████| 100/100 [00:50<00:00,  1.97it/s]\n",
      "Outer loop (a):  42%|████▏     | 42/100 [00:22<00:27,  2.08it/s]"
     ]
    },
    {
     "name": "stdout",
     "output_type": "stream",
     "text": [
      "✅ Updated and saved new grid at ../backend/landscapes/mlp_5_5/four_corners/train/range0.5/ep450\n",
      "Done: four_corners, width=5, depth=2, ab_range=0.5, epoch=450\n",
      "Previously saved model is of lower resolution; recomputing\n"
     ]
    },
    {
     "name": "stderr",
     "output_type": "stream",
     "text": [
      "Outer loop (a): 100%|██████████| 100/100 [00:54<00:00,  1.85it/s]\n"
     ]
    },
    {
     "name": "stdout",
     "output_type": "stream",
     "text": [
      "✅ Updated and saved new grid at ../backend/landscapes/mlp_5_5_5_5/four_corners/train/range2/ep420\n",
      "Done: four_corners, width=5, depth=4, ab_range=2, epoch=420\n",
      "Previously saved model is of lower resolution; recomputing\n"
     ]
    },
    {
     "name": "stderr",
     "output_type": "stream",
     "text": [
      "Outer loop (a): 100%|██████████| 100/100 [00:51<00:00,  1.95it/s]\n"
     ]
    },
    {
     "name": "stdout",
     "output_type": "stream",
     "text": [
      "✅ Updated and saved new grid at ../backend/landscapes/mlp_5_5/two_blobs_separate/train/range0.5/ep210\n",
      "Done: two_blobs_separate, width=5, depth=2, ab_range=0.5, epoch=210\n",
      "Previously saved model is of lower resolution; recomputing\n"
     ]
    },
    {
     "name": "stderr",
     "output_type": "stream",
     "text": [
      "Outer loop (a): 100%|██████████| 100/100 [00:56<00:00,  1.78it/s]\n"
     ]
    },
    {
     "name": "stdout",
     "output_type": "stream",
     "text": [
      "✅ Updated and saved new grid at ../backend/landscapes/mlp_5_5_5_5/two_blobs_overlap/train/range0.5/ep150\n",
      "Done: two_blobs_overlap, width=5, depth=4, ab_range=0.5, epoch=150\n",
      "Previously saved model is of lower resolution; recomputing\n"
     ]
    },
    {
     "name": "stderr",
     "output_type": "stream",
     "text": [
      "Outer loop (a): 100%|██████████| 100/100 [00:50<00:00,  2.00it/s]\n"
     ]
    },
    {
     "name": "stdout",
     "output_type": "stream",
     "text": [
      "✅ Updated and saved new grid at ../backend/landscapes/mlp_5_5/spirals/train/range0.1/ep240\n",
      "Done: spirals, width=5, depth=2, ab_range=0.1, epoch=240\n",
      "Previously saved model is of lower resolution; recomputing"
     ]
    },
    {
     "name": "stderr",
     "output_type": "stream",
     "text": [
      "Outer loop (a):  60%|██████    | 60/100 [00:39<00:23,  1.67it/s]"
     ]
    },
    {
     "name": "stdout",
     "output_type": "stream",
     "text": [
      "\n"
     ]
    },
    {
     "name": "stderr",
     "output_type": "stream",
     "text": [
      "Outer loop (a): 100%|██████████| 100/100 [01:06<00:00,  1.50it/s]\n"
     ]
    },
    {
     "name": "stdout",
     "output_type": "stream",
     "text": [
      "✅ Updated and saved new grid at ../backend/landscapes/mlp_5_5_5_5_5_5_5_5/two_blobs_overlap/train/range2/ep160\n",
      "Done: two_blobs_overlap, width=5, depth=8, ab_range=2, epoch=160\n",
      "Previously saved model is of lower resolution; recomputing\n"
     ]
    },
    {
     "name": "stderr",
     "output_type": "stream",
     "text": [
      "Outer loop (a): 100%|██████████| 100/100 [00:54<00:00,  1.82it/s]\n"
     ]
    },
    {
     "name": "stdout",
     "output_type": "stream",
     "text": [
      "✅ Updated and saved new grid at ../backend/landscapes/mlp_5_5_5_5/spirals/train/range0.2/ep150\n",
      "Done: spirals, width=5, depth=4, ab_range=0.2, epoch=150\n",
      "Previously saved model is of lower resolution; recomputing\n"
     ]
    },
    {
     "name": "stderr",
     "output_type": "stream",
     "text": [
      "Outer loop (a): 100%|██████████| 100/100 [00:50<00:00,  1.97it/s]\n"
     ]
    },
    {
     "name": "stdout",
     "output_type": "stream",
     "text": [
      "✅ Updated and saved new grid at ../backend/landscapes/mlp_5_5/four_corners/train/range0.5/ep460\n",
      "Done: four_corners, width=5, depth=2, ab_range=0.5, epoch=460\n",
      "Previously saved model is of lower resolution; recomputing\n"
     ]
    },
    {
     "name": "stderr",
     "output_type": "stream",
     "text": [
      "Outer loop (a): 100%|██████████| 100/100 [01:05<00:00,  1.53it/s]\n"
     ]
    },
    {
     "name": "stdout",
     "output_type": "stream",
     "text": [
      "✅ Updated and saved new grid at ../backend/landscapes/mlp_5_5_5_5_5_5_5_5/two_blobs_separate/train/range0.2/ep70\n",
      "Done: two_blobs_separate, width=5, depth=8, ab_range=0.2, epoch=70\n",
      "Previously saved model is of lower resolution; recomputing\n"
     ]
    },
    {
     "name": "stderr",
     "output_type": "stream",
     "text": [
      "Outer loop (a): 100%|██████████| 100/100 [00:55<00:00,  1.79it/s]\n"
     ]
    },
    {
     "name": "stdout",
     "output_type": "stream",
     "text": [
      "✅ Updated and saved new grid at ../backend/landscapes/mlp_5_5_5_5/four_corners/train/range2/ep430\n",
      "Done: four_corners, width=5, depth=4, ab_range=2, epoch=430\n",
      "Previously saved model is of lower resolution; recomputing\n"
     ]
    },
    {
     "name": "stderr",
     "output_type": "stream",
     "text": [
      "Outer loop (a): 100%|██████████| 100/100 [00:48<00:00,  2.05it/s]\n"
     ]
    },
    {
     "name": "stdout",
     "output_type": "stream",
     "text": [
      "✅ Updated and saved new grid at ../backend/landscapes/mlp_5_5/spirals/train/range0.1/ep250\n",
      "Done: spirals, width=5, depth=2, ab_range=0.1, epoch=250\n",
      "Previously saved model is of lower resolution; recomputing\n"
     ]
    },
    {
     "name": "stderr",
     "output_type": "stream",
     "text": [
      "Outer loop (a): 100%|██████████| 100/100 [00:52<00:00,  1.91it/s]\n"
     ]
    },
    {
     "name": "stdout",
     "output_type": "stream",
     "text": [
      "✅ Updated and saved new grid at ../backend/landscapes/mlp_5_5/two_blobs_separate/train/range0.5/ep220\n",
      "Done: two_blobs_separate, width=5, depth=2, ab_range=0.5, epoch=220\n",
      "Previously saved model is of lower resolution; recomputing\n"
     ]
    },
    {
     "name": "stderr",
     "output_type": "stream",
     "text": [
      "Outer loop (a): 100%|██████████| 100/100 [00:54<00:00,  1.85it/s]\n"
     ]
    },
    {
     "name": "stdout",
     "output_type": "stream",
     "text": [
      "✅ Updated and saved new grid at ../backend/landscapes/mlp_5_5_5_5/two_blobs_overlap/train/range0.5/ep160\n",
      "Done: two_blobs_overlap, width=5, depth=4, ab_range=0.5, epoch=160\n",
      "Previously saved model is of lower resolution; recomputing\n"
     ]
    },
    {
     "name": "stderr",
     "output_type": "stream",
     "text": [
      "Outer loop (a): 100%|██████████| 100/100 [00:52<00:00,  1.91it/s]\n"
     ]
    },
    {
     "name": "stdout",
     "output_type": "stream",
     "text": [
      "✅ Updated and saved new grid at ../backend/landscapes/mlp_5_5_5_5/spirals/train/range0.2/ep160\n",
      "Done: spirals, width=5, depth=4, ab_range=0.2, epoch=160\n",
      "Previously saved model is of lower resolution; recomputing\n"
     ]
    },
    {
     "name": "stderr",
     "output_type": "stream",
     "text": [
      "Outer loop (a): 100%|██████████| 100/100 [00:53<00:00,  1.89it/s]\n"
     ]
    },
    {
     "name": "stdout",
     "output_type": "stream",
     "text": [
      "✅ Updated and saved new grid at ../backend/landscapes/mlp_5_5/four_corners/train/range0.5/ep470\n",
      "Done: four_corners, width=5, depth=2, ab_range=0.5, epoch=470\n",
      "Previously saved model is of lower resolution; recomputing\n"
     ]
    },
    {
     "name": "stderr",
     "output_type": "stream",
     "text": [
      "Outer loop (a): 100%|██████████| 100/100 [01:03<00:00,  1.58it/s]\n"
     ]
    },
    {
     "name": "stdout",
     "output_type": "stream",
     "text": [
      "✅ Updated and saved new grid at ../backend/landscapes/mlp_5_5_5_5_5_5_5_5/two_blobs_overlap/train/range2/ep170\n",
      "Done: two_blobs_overlap, width=5, depth=8, ab_range=2, epoch=170\n",
      "Previously saved model is of lower resolution; recomputing\n"
     ]
    },
    {
     "name": "stderr",
     "output_type": "stream",
     "text": [
      "Outer loop (a): 100%|██████████| 100/100 [01:03<00:00,  1.57it/s]\n"
     ]
    },
    {
     "name": "stdout",
     "output_type": "stream",
     "text": [
      "✅ Updated and saved new grid at ../backend/landscapes/mlp_5_5_5_5_5_5_5_5/two_blobs_separate/train/range0.2/ep80\n",
      "Done: two_blobs_separate, width=5, depth=8, ab_range=0.2, epoch=80\n",
      "Previously saved model is of lower resolution; recomputing\n"
     ]
    },
    {
     "name": "stderr",
     "output_type": "stream",
     "text": [
      "Outer loop (a): 100%|██████████| 100/100 [00:51<00:00,  1.94it/s]\n"
     ]
    },
    {
     "name": "stdout",
     "output_type": "stream",
     "text": [
      "✅ Updated and saved new grid at ../backend/landscapes/mlp_5_5/spirals/train/range0.1/ep260\n",
      "Done: spirals, width=5, depth=2, ab_range=0.1, epoch=260\n",
      "Previously saved model is of lower resolution; recomputing\n"
     ]
    },
    {
     "name": "stderr",
     "output_type": "stream",
     "text": [
      "Outer loop (a): 100%|██████████| 100/100 [00:50<00:00,  1.96it/s]\n"
     ]
    },
    {
     "name": "stdout",
     "output_type": "stream",
     "text": [
      "✅ Updated and saved new grid at ../backend/landscapes/mlp_5_5/two_blobs_separate/train/range0.5/ep230\n",
      "Done: two_blobs_separate, width=5, depth=2, ab_range=0.5, epoch=230\n",
      "Previously saved model is of lower resolution; recomputing\n"
     ]
    },
    {
     "name": "stderr",
     "output_type": "stream",
     "text": [
      "Outer loop (a): 100%|██████████| 100/100 [00:56<00:00,  1.77it/s]\n"
     ]
    },
    {
     "name": "stdout",
     "output_type": "stream",
     "text": [
      "✅ Updated and saved new grid at ../backend/landscapes/mlp_5_5_5_5/four_corners/train/range2/ep440\n",
      "Done: four_corners, width=5, depth=4, ab_range=2, epoch=440\n",
      "Previously saved model is of lower resolution; recomputing\n"
     ]
    },
    {
     "name": "stderr",
     "output_type": "stream",
     "text": [
      "Outer loop (a): 100%|██████████| 100/100 [00:54<00:00,  1.84it/s]\n"
     ]
    },
    {
     "name": "stdout",
     "output_type": "stream",
     "text": [
      "✅ Updated and saved new grid at ../backend/landscapes/mlp_5_5_5_5/two_blobs_overlap/train/range0.5/ep170\n",
      "Done: two_blobs_overlap, width=5, depth=4, ab_range=0.5, epoch=170\n",
      "Previously saved model is of lower resolution; recomputing\n"
     ]
    },
    {
     "name": "stderr",
     "output_type": "stream",
     "text": [
      "Outer loop (a):  68%|██████▊   | 68/100 [00:34<00:15,  2.06it/s]"
     ]
    }
   ],
   "source": [
    "\n",
    "def worker(args):\n",
    "    dataset, width, depth, ab_range, epoch, gridsize = args\n",
    "    arch = [width] * depth\n",
    "\n",
    "    try:\n",
    "        #print(f\"Processing: epoch={epoch}, ab_range={ab_range}, width={width}, depth={depth}, dataset={dataset}\")\n",
    "        compute_loss_grid( arch, dataset, train=True, epoch=epoch, ab_range=ab_range, gridsize=gridsize  )\n",
    "\n",
    "        #compute_and_save_zrange(\n",
    "        #    arch=arch,\n",
    "        #    dataset=dataset,\n",
    "        #    train=True,\n",
    "        #    ab_range=ab_range,\n",
    "        #    gridsize=gridsize\n",
    "        #)\n",
    "        print(f\"Done: {dataset}, width={width}, depth={depth}, ab_range={ab_range}, epoch={epoch}\")\n",
    "\n",
    "    except Exception as e:\n",
    "        print(f\"Failed: {dataset}, width={width}, depth={depth}, ab_range={ab_range}, epoch={epoch}. Reason: {e}\")\n",
    "        \n",
    "\n",
    "\n",
    "num_epochs = 1001\n",
    "datasets = [\"two_blobs_separate\", \"two_blobs_overlap\", \"half_moons\", \"spirals\", \"four_corners\"]\n",
    "widths = [5]#,10,25,50,100]  \n",
    "depths = [1,2,4,8,16]  \n",
    "ab_ranges = [0.1, 1, 10,2,5,.2,.5]\n",
    "epochs = list(range(0, num_epochs, 10))\n",
    "gridsize = 100\n",
    "\n",
    "# Prepare the argument list for all jobs\n",
    "all_args = list(product( widths, depths,datasets, ab_ranges, epochs))\n",
    "\n",
    "\n",
    "all_args = [ (dataset,  width, depth, ab_range, epoch, gridsize) for ( width, depth, dataset,ab_range, epoch) in all_args]\n",
    "\n",
    "#for args in all_args:\n",
    "#    worker(args)\n",
    "\n",
    "\n",
    "# Launch the multiprocessing pool\n",
    "with mp.Pool(processes=8) as pool:\n",
    "    pool.map(worker, all_args)\n",
    "\n",
    "\n",
    "   \n"
   ]
  },
  {
   "cell_type": "code",
   "execution_count": null,
   "id": "bc48a875-b718-4efc-b569-3106d0493347",
   "metadata": {},
   "outputs": [],
   "source": []
  }
 ],
 "metadata": {
  "kernelspec": {
   "display_name": "Python 3 (ipykernel)",
   "language": "python",
   "name": "python3"
  },
  "language_info": {
   "codemirror_mode": {
    "name": "ipython",
    "version": 3
   },
   "file_extension": ".py",
   "mimetype": "text/x-python",
   "name": "python",
   "nbconvert_exporter": "python",
   "pygments_lexer": "ipython3",
   "version": "3.9.13"
  }
 },
 "nbformat": 4,
 "nbformat_minor": 5
}
